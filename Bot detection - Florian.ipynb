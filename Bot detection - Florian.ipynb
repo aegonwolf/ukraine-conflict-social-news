{
 "cells": [
  {
   "cell_type": "markdown",
   "id": "5db6711b",
   "metadata": {},
   "source": [
    "# Utils"
   ]
  },
  {
   "cell_type": "code",
   "execution_count": 1,
   "id": "1505d8c2",
   "metadata": {
    "ExecuteTime": {
     "end_time": "2022-03-29T10:08:14.288373Z",
     "start_time": "2022-03-29T10:07:57.616673Z"
    }
   },
   "outputs": [],
   "source": [
    "from collections import Counter, OrderedDict\n",
    "from matplotlib import pyplot as plt\n",
    "from sklearn.metrics import accuracy_score, plot_confusion_matrix, roc_auc_score\n",
    "from sklearn.model_selection import train_test_split\n",
    "from sklearn.preprocessing import LabelEncoder\n",
    "from typing import Tuple\n",
    "from unidecode import unidecode\n",
    "\n",
    "import emojis\n",
    "import json\n",
    "import lightgbm as lgb\n",
    "import matplotlib\n",
    "import numpy as np\n",
    "import optuna\n",
    "import pandas as pd\n",
    "import re\n",
    "import seaborn as sns\n",
    "import spacy\n",
    "import swifter\n",
    "\n",
    "nlp = spacy.load('en_core_web_sm')"
   ]
  },
  {
   "cell_type": "code",
   "execution_count": 2,
   "id": "a4ecb8c4",
   "metadata": {
    "ExecuteTime": {
     "end_time": "2022-03-29T10:08:14.298370Z",
     "start_time": "2022-03-29T10:08:14.288373Z"
    }
   },
   "outputs": [],
   "source": [
    "PATH = \"../data/twibot/{}.json\"\n",
    "DATE_REF = \"2022-06-01\"\n",
    "\n",
    "SEED = 42\n",
    "PARAMS = {\n",
    "    'objective': 'binary',\n",
    "    'metric': 'auc',\n",
    "    'verbosity': -1,\n",
    "    'seed': SEED\n",
    "}"
   ]
  },
  {
   "cell_type": "code",
   "execution_count": 3,
   "id": "3fbf7697",
   "metadata": {
    "ExecuteTime": {
     "end_time": "2022-03-29T10:08:14.308340Z",
     "start_time": "2022-03-29T10:08:14.298370Z"
    }
   },
   "outputs": [],
   "source": [
    "def get_X_y(df: pd.DataFrame) -> Tuple[pd.DataFrame, pd.Series]:\n",
    "    return df.drop('label', axis=1), df['label']    \n",
    "\n",
    "def get_train_val(df: pd.DataFrame) -> Tuple[lgb.Dataset, lgb.Dataset]:\n",
    "    \"\"\" Get train/validation/test datasets \"\"\"\n",
    "    X_train, X_val, y_train, y_val = train_test_split(*get_X_y(df),\n",
    "                                                      test_size=0.2, \n",
    "                                                      random_state=SEED)\n",
    "    return X_train, X_val, y_train, y_val"
   ]
  },
  {
   "cell_type": "code",
   "execution_count": 4,
   "id": "08df8b49",
   "metadata": {
    "ExecuteTime": {
     "end_time": "2022-03-29T10:08:14.328340Z",
     "start_time": "2022-03-29T10:08:14.308340Z"
    }
   },
   "outputs": [],
   "source": [
    "def train_clf(params: dict, \n",
    "              X_train: pd.DataFrame, \n",
    "              y_train: pd.Series, \n",
    "              X_val: pd.DataFrame, \n",
    "              y_val: pd.Series):\n",
    "    clf = lgb.LGBMClassifier(**params)\n",
    "    clf.fit(X_train, y_train,\n",
    "            eval_set=[( X_val, y_val )],\n",
    "            eval_metric='auc',\n",
    "            callbacks=[lgb.early_stopping(100)])\n",
    "    return clf\n",
    "\n",
    "\n",
    "def objective_func(trial, \n",
    "                   X_train: pd.DataFrame, \n",
    "                   y_train: pd.Series, \n",
    "                   X_val: pd.DataFrame, \n",
    "                   y_val: pd.Series):\n",
    "    params = {\n",
    "        **PARAMS,\n",
    "        'lambda_l1': trial.suggest_loguniform('lambda_l1', 1e-8, 10.0),\n",
    "        'lambda_l2': trial.suggest_loguniform('lambda_l2', 1e-8, 10.0),\n",
    "        'num_leaves': trial.suggest_int('num_leaves', 2, 256),\n",
    "        'feature_fraction': trial.suggest_uniform('feature_fraction', 0.4, 1.0),\n",
    "        'bagging_fraction': trial.suggest_uniform('bagging_fraction', 0.4, 1.0),\n",
    "        'bagging_freq': trial.suggest_int('bagging_freq', 1, 7),\n",
    "        'learning_rate': trial.suggest_loguniform('learning_rate', 1e-5, 0.3),\n",
    "        'min_child_samples': trial.suggest_int('min_child_samples', 5, 100),\n",
    "    }\n",
    "    \n",
    "    clf = train_clf(params, X_train, y_train, X_val, y_val)\n",
    "    y_pred = clf.predict(X_val)\n",
    "    return roc_auc_score(y_val, y_pred)\n",
    "\n",
    "\n",
    "def get_best_clf(df_train: pd.DataFrame):\n",
    "    \n",
    "    X_train, X_val, y_train, y_val = get_train_val(df_train)\n",
    "    \n",
    "    study = optuna.create_study(direction='maximize')\n",
    "    objective = lambda trial: objective_func(trial, X_train, y_train, X_val, y_val)\n",
    "    study.optimize(objective, n_trials=100, n_jobs=-1)\n",
    "    \n",
    "    print(study.best_params, \"->\", study.best_value)\n",
    "    return train_clf(study.best_params, X_train, y_train, X_val, y_val)\n",
    "\n",
    "\n",
    "def eval_clf(clf: lgb.LGBMClassifier, df_test: pd.DataFrame) -> None:\n",
    "    \"\"\" Evaluate & show insights on best classifier \"\"\"\n",
    "    X_test, y_test = get_X_y(df_test)\n",
    "    y_pred = clf.predict(X_test)\n",
    "    \n",
    "    # AUROC / accuracy\n",
    "    auroc = roc_auc_score(y_test, y_pred)\n",
    "    print('AUROC:', auroc)\n",
    "    accuracy = accuracy_score(y_test, y_pred)\n",
    "    print('Accuracy:', accuracy)\n",
    "    \n",
    "    # Confusion matrix\n",
    "    plot_confusion_matrix(clf, X_test, y_test, normalize='true')\n",
    "    \n",
    "    # Features importance\n",
    "    lgb.plot_importance(clf, max_num_features=15)"
   ]
  },
  {
   "cell_type": "code",
   "execution_count": 5,
   "id": "4a736992",
   "metadata": {
    "ExecuteTime": {
     "end_time": "2022-03-29T10:08:14.338341Z",
     "start_time": "2022-03-29T10:08:14.328340Z"
    }
   },
   "outputs": [],
   "source": [
    "def get_probas(clf: lgb.LGBMClassifier, df_train: pd.DataFrame, df_test: pd.DataFrame):\n",
    "    X_train, X_test = get_X_y(df_train)[0], get_X_y(df_test)[0]\n",
    "    y_train_pred = pd.Series([ y[0] for y in clf.predict_proba(X_train) ])\n",
    "    y_test_pred = pd.Series([ y[0] for y in clf.predict_proba(X_test) ])\n",
    "    return y_train_pred, y_test_pred\n",
    "\n",
    "\n",
    "def compute_agg(ids: pd.Series, labels: pd.Series, preds: pd.Series) -> pd.DataFrame:\n",
    "    \"\"\" Get min/max/mean/median, aggregated by user \"\"\"\n",
    "    df = pd.concat([ ids, labels, preds ], axis=1)\n",
    "    df.columns = [ 'id', 'label', 'pred' ]\n",
    "    \n",
    "    df_agg = pd.concat([\n",
    "        df.groupby('id').max()['label'],\n",
    "        df.groupby('id').min()['pred'],\n",
    "        df.groupby('id').max()['pred'],\n",
    "        df.groupby('id').mean()['pred'],\n",
    "        df.groupby('id').median()['pred']\n",
    "    ], axis=1)\n",
    "    df_agg.columns = [ 'label', 'min', 'max', 'mean', 'median' ]\n",
    "    df_agg = df_agg.reset_index(drop=True)\n",
    "    \n",
    "    return df_agg\n",
    "\n",
    "\n",
    "def get_agg(clf: lgb.LGBMClassifier, \n",
    "            df_train: pd.DataFrame, \n",
    "            df_test: pd.DataFrame, \n",
    "            ids_train: pd.Series, \n",
    "            ids_test: pd.Series) -> Tuple[pd.DataFrame, pd.DataFrame]:\n",
    "    \"\"\" Build aggregated set \"\"\"\n",
    "    \n",
    "    y_train, y_test = get_X_y(df_train)[1], get_X_y(df_test)[1]\n",
    "    y_train_pred, y_test_pred = get_probas(clf, df_train, df_test)\n",
    "    \n",
    "    df_train_agg = compute_agg(ids_train, y_train, y_train_pred)\n",
    "    df_test_agg = compute_agg(ids_test, y_test, y_test_pred)\n",
    "    return df_train_agg, df_test_agg"
   ]
  },
  {
   "cell_type": "code",
   "execution_count": null,
   "id": "3fd2e01b",
   "metadata": {},
   "outputs": [],
   "source": [
    "def f():\n",
    "    y_train, y_test = get_X_y(df_train)[1], get_X_y(df_test)[1]\n",
    "    y_train_pred, y_test_pred = get_probas(clf, df_train, df_test)\n",
    "    "
   ]
  },
  {
   "cell_type": "markdown",
   "id": "ff68e14f",
   "metadata": {
    "heading_collapsed": true
   },
   "source": [
    "## Deprecated"
   ]
  },
  {
   "cell_type": "markdown",
   "id": "35ca1794",
   "metadata": {
    "hidden": true
   },
   "source": [
    "> __LightGBMTuner documentation not terrific (couldn't train a proper classifier, was weird)__"
   ]
  },
  {
   "cell_type": "code",
   "execution_count": 28,
   "id": "f2330be9",
   "metadata": {
    "ExecuteTime": {
     "end_time": "2022-03-28T21:50:34.209486Z",
     "start_time": "2022-03-28T21:50:34.189299Z"
    },
    "deletable": false,
    "editable": false,
    "hidden": true,
    "run_control": {
     "frozen": true
    }
   },
   "outputs": [],
   "source": [
    "def train_model(df_train: pd.DataFrame) -> lgb.Booster:\n",
    "    \"\"\" Fine-tune LGBM model \"\"\"\n",
    "    \n",
    "    ds_train, ds_val = get_train_val(df_train)\n",
    "    tuner = lgb.LightGBMTuner(PARAMS, ds_train,\n",
    "                              valid_sets=ds_val,\n",
    "                              callbacks=[lgb.early_stopping(100)],\n",
    "                              verbosity=-1,\n",
    "                              optuna_seed=SEED)\n",
    "    tuner.run()\n",
    "    return tuner.get_best_booster()\n",
    "\n",
    "\n",
    "def eval_model(clf: lgb.Booster, df_test: pd.DataFrame) -> None:\n",
    "    \"\"\" Evaluate & show insights on best model \"\"\"\n",
    "    X_test, y_test = get_X_y(df_test)\n",
    "    y_pred = clf.predict(X_test)\n",
    "    \n",
    "    # !!! Taking 0.5 as threshold !!!\n",
    "    y_pred = y_pred.round(0).astype(int)\n",
    "    \n",
    "    # AUROC\n",
    "    score = roc_auc_score(y_test, y_pred)\n",
    "    print('AUROC:', score)\n",
    "    \n",
    "    # Confusion matrix\n",
    "    cmatrix = confusion_matrix(y_test, y_pred, normalize='true') * 100\n",
    "    sns.heatmap(cmatrix, annot=True)\n",
    "    plt.show()\n",
    "    \n",
    "    # Features importance\n",
    "    lgb.plot_importance(clf, max_num_features=15)"
   ]
  },
  {
   "cell_type": "code",
   "execution_count": null,
   "id": "de83c0ec",
   "metadata": {
    "deletable": false,
    "editable": false,
    "hidden": true,
    "run_control": {
     "frozen": true
    }
   },
   "outputs": [],
   "source": [
    "clf_users = train_model(df_train_users)"
   ]
  },
  {
   "cell_type": "code",
   "execution_count": null,
   "id": "5803fffc",
   "metadata": {
    "deletable": false,
    "editable": false,
    "hidden": true,
    "run_control": {
     "frozen": true
    }
   },
   "outputs": [],
   "source": [
    "eval_model(clf_users, df_test_users)"
   ]
  },
  {
   "cell_type": "markdown",
   "id": "ac668257",
   "metadata": {},
   "source": [
    "# Data preprocessing"
   ]
  },
  {
   "cell_type": "markdown",
   "id": "674a5535",
   "metadata": {},
   "source": [
    "## Main datasets"
   ]
  },
  {
   "cell_type": "code",
   "execution_count": 6,
   "id": "685f4d38",
   "metadata": {
    "ExecuteTime": {
     "end_time": "2022-03-29T10:08:14.358369Z",
     "start_time": "2022-03-29T10:08:14.338341Z"
    }
   },
   "outputs": [],
   "source": [
    "def extract_following(neighbors: dict):\n",
    "    if neighbors is None:\n",
    "        return np.nan\n",
    "    return neighbors.get('following', np.nan)\n",
    "\n",
    "def extract_followers(neighbors: dict):\n",
    "    if neighbors is None:\n",
    "        return np.nan\n",
    "    return neighbors.get('follower', np.nan) \n",
    "    \n",
    "\n",
    "def build_df(filename: str):\n",
    "    with open(PATH.format(filename)) as f:\n",
    "        data = json.load(f)\n",
    "        \n",
    "    df = pd.DataFrame.from_dict(data)\n",
    "    df_profile = pd.DataFrame.from_dict(df['profile'].values.tolist())\n",
    "    df = pd.concat([ df, df_profile ], axis=1)\n",
    "    # df['following'] = df['neighbor'].apply(extract_following)\n",
    "    # df['followers'] = df['neighbor'].apply(extract_followers)\n",
    "    # df = df.drop([ 'ID', 'id_str', 'profile', 'neighbor' ], axis=1)\n",
    "    \n",
    "    df = df[[\n",
    "        'id', 'screen_name', 'location', 'followers_count',\n",
    "        'friends_count', 'statuses_count', 'created_at',\n",
    "        'tweet', 'label'\n",
    "    ]]\n",
    "\n",
    "    df['id'] = df['id'].astype(str).str.strip()\n",
    "    df['screen_name'] = df['screen_name'].astype(str).str.strip()\n",
    "    df['location'] = df['location'].astype(str).str.strip()\n",
    "    df['followers_count'] = df['followers_count'].astype(int)\n",
    "    df['friends_count'] = df['friends_count'].astype(int)\n",
    "    df['statuses_count'] = df['statuses_count'].astype(int)\n",
    "    \n",
    "    df.loc[df['location'] == \"\", 'location'] = np.nan\n",
    "    le = LabelEncoder()\n",
    "    le.fit(df['location'].unique())\n",
    "    df['location_enc'] = le.transform(df['location'])\n",
    "    \n",
    "    df['created_at'] = pd.to_datetime(df['created_at'])\n",
    "    df['created_at_year'] = df['created_at'].dt.year\n",
    "    df['created_at_month'] = df['created_at'].dt.month\n",
    "    df['created_at_day'] = df['created_at'].dt.day\n",
    "    df['created_at_date'] = (pd.Timestamp(DATE_REF).date() - df['created_at'].dt.date).dt.days.astype(int)\n",
    "    df['created_at_hour'] = df['created_at'].dt.hour * 60 + df['created_at'].dt.minute\n",
    "    df = df.drop('created_at', axis=1)\n",
    "    \n",
    "    df = df.explode('tweet').reset_index(drop=True)\n",
    "    df['tweet'] = df['tweet'].astype(str).str.strip()\n",
    "    df['label'] = df['label'].astype(int)\n",
    "    \n",
    "    print(df.shape)\n",
    "    df = df.sample(frac=1, random_state=SEED).reset_index(drop=True)\n",
    "    return df"
   ]
  },
  {
   "cell_type": "code",
   "execution_count": 7,
   "id": "3a1d6a96",
   "metadata": {
    "ExecuteTime": {
     "end_time": "2022-03-29T10:08:22.053959Z",
     "start_time": "2022-03-29T10:08:14.358369Z"
    }
   },
   "outputs": [
    {
     "name": "stdout",
     "output_type": "stream",
     "text": [
      "(1398465, 14)\n",
      "(199863, 14)\n"
     ]
    }
   ],
   "source": [
    "df_train = build_df('train')\n",
    "df_test = build_df('test')"
   ]
  },
  {
   "cell_type": "markdown",
   "id": "862a2531",
   "metadata": {},
   "source": [
    "## Aggregating by user"
   ]
  },
  {
   "cell_type": "code",
   "execution_count": 8,
   "id": "6d29afc5",
   "metadata": {
    "ExecuteTime": {
     "end_time": "2022-03-29T10:08:22.069581Z",
     "start_time": "2022-03-29T10:08:22.053959Z"
    }
   },
   "outputs": [],
   "source": [
    "def agg_users(df: pd.DataFrame):\n",
    "    df_users = df.drop([ 'tweet', 'location', 'screen_name', 'id' ], axis=1)\n",
    "    df_users = df_users.drop_duplicates()\n",
    "    df_users = df_users.sample(frac=1).reset_index(drop=True)\n",
    "    return df_users"
   ]
  },
  {
   "cell_type": "code",
   "execution_count": 9,
   "id": "456e648b",
   "metadata": {
    "ExecuteTime": {
     "end_time": "2022-03-29T10:08:22.665161Z",
     "start_time": "2022-03-29T10:08:22.069581Z"
    }
   },
   "outputs": [],
   "source": [
    "df_train_users = agg_users(df_train)\n",
    "df_test_users = agg_users(df_test)"
   ]
  },
  {
   "cell_type": "markdown",
   "id": "c7a816a3",
   "metadata": {},
   "source": [
    "# Detection on users metadata"
   ]
  },
  {
   "cell_type": "markdown",
   "id": "e560f093",
   "metadata": {
    "heading_collapsed": true
   },
   "source": [
    "## EDA"
   ]
  },
  {
   "cell_type": "code",
   "execution_count": 6,
   "id": "ab18ae3c",
   "metadata": {
    "ExecuteTime": {
     "end_time": "2022-03-23T20:35:09.384707Z",
     "start_time": "2022-03-23T20:35:09.324609Z"
    },
    "deletable": false,
    "editable": false,
    "hidden": true,
    "run_control": {
     "frozen": true
    }
   },
   "outputs": [
    {
     "data": {
      "text/plain": [
       "0.5612466779415318"
      ]
     },
     "execution_count": 6,
     "metadata": {},
     "output_type": "execute_result"
    }
   ],
   "source": [
    "df_train_users['label'].mean()"
   ]
  },
  {
   "cell_type": "code",
   "execution_count": 7,
   "id": "92d25c31",
   "metadata": {
    "ExecuteTime": {
     "end_time": "2022-03-23T20:35:09.397345Z",
     "start_time": "2022-03-23T20:35:09.387699Z"
    },
    "deletable": false,
    "editable": false,
    "hidden": true,
    "run_control": {
     "frozen": true
    }
   },
   "outputs": [],
   "source": [
    "def plot_distrib(colname: str):\n",
    "    print(colname)\n",
    "    # Humans\n",
    "    df_train_users[df_train_users['label'] == 0][colname].plot.hist(alpha=0.5, bins=100, logy=True)\n",
    "    # Bots\n",
    "    df_train_users[df_train_users['label'] == 1][colname].plot.hist(alpha=0.5, bins=100, logy=True)\n",
    "    plt.show()"
   ]
  },
  {
   "cell_type": "code",
   "execution_count": 8,
   "id": "075ef34a",
   "metadata": {
    "ExecuteTime": {
     "end_time": "2022-03-23T20:35:13.818815Z",
     "start_time": "2022-03-23T20:35:09.400221Z"
    },
    "deletable": false,
    "editable": false,
    "hidden": true,
    "run_control": {
     "frozen": true
    }
   },
   "outputs": [
    {
     "name": "stdout",
     "output_type": "stream",
     "text": [
      "followers_count\n"
     ]
    },
    {
     "data": {
      "image/png": "[encoded data removed]",
      "text/plain": [
       "<Figure size 432x288 with 1 Axes>"
      ]
     },
     "metadata": {
      "needs_background": "light"
     },
     "output_type": "display_data"
    },
    {
     "name": "stdout",
     "output_type": "stream",
     "text": [
      "friends_count\n"
     ]
    },
    {
     "data": {
      "image/png": "[encoded data removed]",
      "text/plain": [
       "<Figure size 432x288 with 1 Axes>"
      ]
     },
     "metadata": {
      "needs_background": "light"
     },
     "output_type": "display_data"
    },
    {
     "name": "stdout",
     "output_type": "stream",
     "text": [
      "statuses_count\n"
     ]
    },
    {
     "data": {
      "image/png": "[encoded data removed]",
      "text/plain": [
       "<Figure size 432x288 with 1 Axes>"
      ]
     },
     "metadata": {
      "needs_background": "light"
     },
     "output_type": "display_data"
    }
   ],
   "source": [
    "plot_distrib('followers_count')\n",
    "plot_distrib('friends_count')\n",
    "plot_distrib('statuses_count')"
   ]
  },
  {
   "cell_type": "code",
   "execution_count": 9,
   "id": "00cda5e9",
   "metadata": {
    "ExecuteTime": {
     "end_time": "2022-03-23T20:35:13.832146Z",
     "start_time": "2022-03-23T20:35:13.822737Z"
    },
    "deletable": false,
    "editable": false,
    "hidden": true,
    "run_control": {
     "frozen": true
    }
   },
   "outputs": [],
   "source": [
    "cmap = matplotlib.colors.ListedColormap(['blue', 'red'])\n",
    "\n",
    "def plot_scatter(colname_1: str, colname_2: str, **kwargs):\n",
    "    df_train_users.plot.scatter(colname_1, \n",
    "                                colname_2,\n",
    "                                c='label', \n",
    "                                alpha=0.05,\n",
    "                                cmap=cmap,\n",
    "                                loglog=True,\n",
    "                                **kwargs)\n",
    "    plt.show()"
   ]
  },
  {
   "cell_type": "code",
   "execution_count": 10,
   "id": "2ae2b5a0",
   "metadata": {
    "ExecuteTime": {
     "end_time": "2022-03-23T20:35:17.762076Z",
     "start_time": "2022-03-23T20:35:13.840748Z"
    },
    "deletable": false,
    "editable": false,
    "hidden": true,
    "run_control": {
     "frozen": true
    },
    "scrolled": true
   },
   "outputs": [
    {
     "data": {
      "image/png": "[encoded data removed]",
      "text/plain": [
       "<Figure size 432x288 with 2 Axes>"
      ]
     },
     "metadata": {
      "needs_background": "light"
     },
     "output_type": "display_data"
    },
    {
     "data": {
      "image/png": "[encoded data removed]",
      "text/plain": [
       "<Figure size 432x288 with 2 Axes>"
      ]
     },
     "metadata": {
      "needs_background": "light"
     },
     "output_type": "display_data"
    },
    {
     "data": {
      "image/png": "[encoded data removed]",
      "text/plain": [
       "<Figure size 432x288 with 2 Axes>"
      ]
     },
     "metadata": {
      "needs_background": "light"
     },
     "output_type": "display_data"
    }
   ],
   "source": [
    "plot_scatter('followers_count', 'friends_count')\n",
    "plot_scatter('followers_count', 'statuses_count')\n",
    "plot_scatter('statuses_count', 'friends_count')"
   ]
  },
  {
   "cell_type": "markdown",
   "id": "8dbe5d1d",
   "metadata": {},
   "source": [
    "## Training"
   ]
  },
  {
   "cell_type": "code",
   "execution_count": 10,
   "id": "df8ee742",
   "metadata": {
    "ExecuteTime": {
     "end_time": "2022-03-29T10:08:40.857245Z",
     "start_time": "2022-03-29T10:08:22.665161Z"
    },
    "collapsed": true
   },
   "outputs": [
    {
     "name": "stderr",
     "output_type": "stream",
     "text": [
      "\u001b[32m[I 2022-03-29 12:08:22,665]\u001b[0m A new study created in memory with name: no-name-dc1a181e-caec-45c4-8380-8e50dcc4afe0\u001b[0m\n"
     ]
    },
    {
     "name": "stdout",
     "output_type": "stream",
     "text": [
      "Training until validation scores don't improve for 100 roundsTraining until validation scores don't improve for 100 rounds\n",
      "\n",
      "Training until validation scores don't improve for 100 rounds\n",
      "Training until validation scores don't improve for 100 roundsTraining until validation scores don't improve for 100 rounds\n",
      "\n",
      "Training until validation scores don't improve for 100 rounds\n",
      "Training until validation scores don't improve for 100 rounds\n",
      "Training until validation scores don't improve for 100 rounds\n"
     ]
    },
    {
     "name": "stderr",
     "output_type": "stream",
     "text": [
      "\u001b[32m[I 2022-03-29 12:08:23,574]\u001b[0m Trial 2 finished with value: 0.7427580306655794 and parameters: {'lambda_l1': 3.269910774093909e-07, 'lambda_l2': 8.173343862125158e-05, 'num_leaves': 241, 'feature_fraction': 0.5261204062199879, 'bagging_fraction': 0.6185952262509382, 'bagging_freq': 4, 'learning_rate': 0.07031156913794198, 'min_child_samples': 68}. Best is trial 2 with value: 0.7427580306655794.\u001b[0m\n"
     ]
    },
    {
     "name": "stdout",
     "output_type": "stream",
     "text": [
      "Did not meet early stopping. Best iteration is:\n",
      "[53]\tvalid_0's auc: 0.808354\n",
      "Training until validation scores don't improve for 100 rounds\n",
      "Did not meet early stopping. Best iteration is:\n",
      "[76]\tvalid_0's auc: 0.798553\n"
     ]
    },
    {
     "name": "stderr",
     "output_type": "stream",
     "text": [
      "\u001b[32m[I 2022-03-29 12:08:23,763]\u001b[0m Trial 4 finished with value: 0.7260728719683096 and parameters: {'lambda_l1': 6.042587039787647e-07, 'lambda_l2': 0.03808306349782212, 'num_leaves': 106, 'feature_fraction': 0.4417080396491029, 'bagging_fraction': 0.997060720506079, 'bagging_freq': 3, 'learning_rate': 0.049119892746509596, 'min_child_samples': 84}. Best is trial 2 with value: 0.7427580306655794.\u001b[0m\n"
     ]
    },
    {
     "name": "stdout",
     "output_type": "stream",
     "text": [
      "Training until validation scores don't improve for 100 rounds\n"
     ]
    },
    {
     "name": "stderr",
     "output_type": "stream",
     "text": [
      "\u001b[32m[I 2022-03-29 12:08:24,061]\u001b[0m Trial 5 finished with value: 0.7389036676603349 and parameters: {'lambda_l1': 2.2957536706587654e-06, 'lambda_l2': 1.247210906468655e-06, 'num_leaves': 229, 'feature_fraction': 0.6057593485552675, 'bagging_fraction': 0.8077545939696207, 'bagging_freq': 5, 'learning_rate': 0.2251821261907184, 'min_child_samples': 52}. Best is trial 2 with value: 0.7427580306655794.\u001b[0m\n"
     ]
    },
    {
     "name": "stdout",
     "output_type": "stream",
     "text": [
      "Did not meet early stopping. Best iteration is:\n",
      "[10]\tvalid_0's auc: 0.802615\n",
      "Training until validation scores don't improve for 100 rounds\n"
     ]
    },
    {
     "name": "stderr",
     "output_type": "stream",
     "text": [
      "\u001b[32m[I 2022-03-29 12:08:24,437]\u001b[0m Trial 3 finished with value: 0.7382308251010378 and parameters: {'lambda_l1': 1.5876539402522359e-06, 'lambda_l2': 0.004042458306657392, 'num_leaves': 77, 'feature_fraction': 0.9570950978290121, 'bagging_fraction': 0.6253670246512765, 'bagging_freq': 7, 'learning_rate': 0.010919288228266905, 'min_child_samples': 11}. Best is trial 2 with value: 0.7427580306655794.\u001b[0m\n",
      "\u001b[32m[I 2022-03-29 12:08:24,562]\u001b[0m Trial 0 finished with value: 0.7404498687734213 and parameters: {'lambda_l1': 2.9341507401601826e-06, 'lambda_l2': 4.075993405295585e-06, 'num_leaves': 256, 'feature_fraction': 0.63575560280797, 'bagging_fraction': 0.8199876738477276, 'bagging_freq': 5, 'learning_rate': 0.02889519369569524, 'min_child_samples': 44}. Best is trial 2 with value: 0.7427580306655794.\u001b[0m\n"
     ]
    },
    {
     "name": "stdout",
     "output_type": "stream",
     "text": [
      "Did not meet early stopping. Best iteration is:\n",
      "[100]\tvalid_0's auc: 0.807278\n",
      "Training until validation scores don't improve for 100 rounds\n",
      "Did not meet early stopping. Best iteration is:\n",
      "[79]\tvalid_0's auc: 0.809315\n"
     ]
    },
    {
     "name": "stderr",
     "output_type": "stream",
     "text": [
      "\u001b[32m[I 2022-03-29 12:08:24,672]\u001b[0m Trial 9 finished with value: 0.5 and parameters: {'lambda_l1': 1.5980445350371721, 'lambda_l2': 2.8847405886347004, 'num_leaves': 73, 'feature_fraction': 0.5239262604882149, 'bagging_fraction': 0.9537327841676088, 'bagging_freq': 1, 'learning_rate': 0.005105970542495457, 'min_child_samples': 42}. Best is trial 2 with value: 0.7427580306655794.\u001b[0m\n"
     ]
    },
    {
     "name": "stdout",
     "output_type": "stream",
     "text": [
      "Training until validation scores don't improve for 100 rounds\n",
      "Did not meet early stopping. Best iteration is:\n",
      "[10]\tvalid_0's auc: 0.808934\n",
      "Training until validation scores don't improve for 100 rounds\n"
     ]
    },
    {
     "name": "stderr",
     "output_type": "stream",
     "text": [
      "\u001b[32m[I 2022-03-29 12:08:25,033]\u001b[0m Trial 1 finished with value: 0.5 and parameters: {'lambda_l1': 0.004619550533833033, 'lambda_l2': 0.000339965108221659, 'num_leaves': 143, 'feature_fraction': 0.567783653187715, 'bagging_fraction': 0.5440726763322162, 'bagging_freq': 7, 'learning_rate': 0.0006703364753300523, 'min_child_samples': 17}. Best is trial 2 with value: 0.7427580306655794.\u001b[0m\n"
     ]
    },
    {
     "name": "stdout",
     "output_type": "stream",
     "text": [
      "Did not meet early stopping. Best iteration is:\n",
      "[99]\tvalid_0's auc: 0.802189\n",
      "Training until validation scores don't improve for 100 rounds\n",
      "Did not meet early stopping. Best iteration is:\n",
      "[51]\tvalid_0's auc: 0.81015\n"
     ]
    },
    {
     "name": "stderr",
     "output_type": "stream",
     "text": [
      "\u001b[32m[I 2022-03-29 12:08:25,158]\u001b[0m Trial 6 finished with value: 0.6999634615298924 and parameters: {'lambda_l1': 5.886229367921696e-07, 'lambda_l2': 5.118686673688981e-08, 'num_leaves': 118, 'feature_fraction': 0.9359423160986663, 'bagging_fraction': 0.914002692296125, 'bagging_freq': 3, 'learning_rate': 0.004229838927503812, 'min_child_samples': 27}. Best is trial 2 with value: 0.7427580306655794.\u001b[0m\n",
      "\u001b[32m[I 2022-03-29 12:08:25,284]\u001b[0m Trial 11 finished with value: 0.5 and parameters: {'lambda_l1': 4.930576802455463e-07, 'lambda_l2': 9.503007023217114e-08, 'num_leaves': 44, 'feature_fraction': 0.8359260584966745, 'bagging_fraction': 0.7228962547636728, 'bagging_freq': 7, 'learning_rate': 0.00025603391133568055, 'min_child_samples': 84}. Best is trial 2 with value: 0.7427580306655794.\u001b[0m\n",
      "\u001b[32m[I 2022-03-29 12:08:25,331]\u001b[0m Trial 8 finished with value: 0.7480070938102941 and parameters: {'lambda_l1': 0.0054448767616545385, 'lambda_l2': 0.016012812652260913, 'num_leaves': 236, 'feature_fraction': 0.9579485354866383, 'bagging_fraction': 0.4508813786285163, 'bagging_freq': 4, 'learning_rate': 0.029973313597943925, 'min_child_samples': 21}. Best is trial 8 with value: 0.7480070938102941.\u001b[0m\n"
     ]
    },
    {
     "name": "stdout",
     "output_type": "stream",
     "text": [
      "Training until validation scores don't improve for 100 rounds\n",
      "Did not meet early stopping. Best iteration is:\n",
      "[98]\tvalid_0's auc: 0.810656\n",
      "Did not meet early stopping. Best iteration is:\n",
      "[68]\tvalid_0's auc: 0.808281\n",
      "Training until validation scores don't improve for 100 rounds\n",
      "Training until validation scores don't improve for 100 rounds\n",
      "Did not meet early stopping. Best iteration is:\n",
      "[89]\tvalid_0's auc: 0.808639\n"
     ]
    },
    {
     "name": "stderr",
     "output_type": "stream",
     "text": [
      "\u001b[32m[I 2022-03-29 12:08:25,645]\u001b[0m Trial 7 finished with value: 0.7344900878260057 and parameters: {'lambda_l1': 0.0006338488100877266, 'lambda_l2': 0.0008045287848714416, 'num_leaves': 168, 'feature_fraction': 0.6175253076449344, 'bagging_fraction': 0.4818596488351376, 'bagging_freq': 5, 'learning_rate': 0.011148611435509256, 'min_child_samples': 16}. Best is trial 8 with value: 0.7480070938102941.\u001b[0m\n",
      "\u001b[32m[I 2022-03-29 12:08:25,786]\u001b[0m Trial 12 finished with value: 0.5 and parameters: {'lambda_l1': 0.000152186943344406, 'lambda_l2': 6.573592553952641e-07, 'num_leaves': 204, 'feature_fraction': 0.5354760726868979, 'bagging_fraction': 0.8492555078647228, 'bagging_freq': 6, 'learning_rate': 0.0033383583624459756, 'min_child_samples': 72}. Best is trial 8 with value: 0.7480070938102941.\u001b[0m\n",
      "\u001b[32m[I 2022-03-29 12:08:25,864]\u001b[0m Trial 14 finished with value: 0.7403228753102428 and parameters: {'lambda_l1': 3.5884788491058574e-07, 'lambda_l2': 0.0004023394578412883, 'num_leaves': 30, 'feature_fraction': 0.8404476394948162, 'bagging_fraction': 0.675262022401196, 'bagging_freq': 5, 'learning_rate': 0.012917577523648869, 'min_child_samples': 83}. Best is trial 8 with value: 0.7480070938102941.\u001b[0m\n"
     ]
    },
    {
     "name": "stdout",
     "output_type": "stream",
     "text": [
      "Training until validation scores don't improve for 100 rounds\n",
      "Did not meet early stopping. Best iteration is:\n",
      "[11]\tvalid_0's auc: 0.806152\n",
      "Did not meet early stopping. Best iteration is:\n",
      "[90]\tvalid_0's auc: 0.812098\n",
      "Did not meet early stopping. Best iteration is:\n",
      "[77]\tvalid_0's auc: 0.809754\n"
     ]
    },
    {
     "name": "stderr",
     "output_type": "stream",
     "text": [
      "\u001b[32m[I 2022-03-29 12:08:25,958]\u001b[0m Trial 13 finished with value: 0.5 and parameters: {'lambda_l1': 0.09103523734276889, 'lambda_l2': 1.2973851393260608e-05, 'num_leaves': 110, 'feature_fraction': 0.7878393034740763, 'bagging_fraction': 0.7003587560449387, 'bagging_freq': 1, 'learning_rate': 0.00013172168213140505, 'min_child_samples': 60}. Best is trial 8 with value: 0.7480070938102941.\u001b[0m\n"
     ]
    },
    {
     "name": "stdout",
     "output_type": "stream",
     "text": [
      "Training until validation scores don't improve for 100 rounds\n",
      "Training until validation scores don't improve for 100 rounds\n",
      "Training until validation scores don't improve for 100 rounds\n"
     ]
    },
    {
     "name": "stderr",
     "output_type": "stream",
     "text": [
      "\u001b[32m[I 2022-03-29 12:08:26,334]\u001b[0m Trial 17 finished with value: 0.5 and parameters: {'lambda_l1': 0.0023852648194307865, 'lambda_l2': 4.77807830156776, 'num_leaves': 181, 'feature_fraction': 0.7763701808472417, 'bagging_fraction': 0.42703554332738314, 'bagging_freq': 1, 'learning_rate': 2.9239681515396142e-05, 'min_child_samples': 29}. Best is trial 8 with value: 0.7480070938102941.\u001b[0m\n"
     ]
    },
    {
     "name": "stdout",
     "output_type": "stream",
     "text": [
      "Did not meet early stopping. Best iteration is:\n",
      "[99]\tvalid_0's auc: 0.807059\n",
      "Training until validation scores don't improve for 100 rounds\n"
     ]
    },
    {
     "name": "stderr",
     "output_type": "stream",
     "text": [
      "\u001b[32m[I 2022-03-29 12:08:26,570]\u001b[0m Trial 18 finished with value: 0.5 and parameters: {'lambda_l1': 0.06692559235908105, 'lambda_l2': 0.15002048757213493, 'num_leaves': 198, 'feature_fraction': 0.7748962941782891, 'bagging_fraction': 0.4026998561895787, 'bagging_freq': 3, 'learning_rate': 1.8474391845639127e-05, 'min_child_samples': 64}. Best is trial 8 with value: 0.7480070938102941.\u001b[0m\n",
      "\u001b[32m[I 2022-03-29 12:08:26,664]\u001b[0m Trial 19 finished with value: 0.5 and parameters: {'lambda_l1': 1.0378578244562294e-08, 'lambda_l2': 0.09952158421407815, 'num_leaves': 193, 'feature_fraction': 0.7605450647568784, 'bagging_fraction': 0.4114402552268416, 'bagging_freq': 3, 'learning_rate': 2.8095220984593835e-05, 'min_child_samples': 62}. Best is trial 8 with value: 0.7480070938102941.\u001b[0m\n",
      "\u001b[32m[I 2022-03-29 12:08:26,742]\u001b[0m Trial 20 finished with value: 0.7372304730840697 and parameters: {'lambda_l1': 0.11331766578348587, 'lambda_l2': 0.17899455981358284, 'num_leaves': 211, 'feature_fraction': 0.7451836003074914, 'bagging_fraction': 0.4173225973701761, 'bagging_freq': 3, 'learning_rate': 0.28705752705792964, 'min_child_samples': 63}. Best is trial 8 with value: 0.7480070938102941.\u001b[0m\n"
     ]
    },
    {
     "name": "stdout",
     "output_type": "stream",
     "text": [
      "Did not meet early stopping. Best iteration is:\n",
      "[13]\tvalid_0's auc: 0.805834\n",
      "Did not meet early stopping. Best iteration is:\n",
      "[45]\tvalid_0's auc: 0.806172\n",
      "Did not meet early stopping. Best iteration is:\n",
      "[94]\tvalid_0's auc: 0.804369\n",
      "Training until validation scores don't improve for 100 rounds\n",
      "Did not meet early stopping. Best iteration is:\n",
      "[9]\tvalid_0's auc: 0.803742\n"
     ]
    },
    {
     "name": "stderr",
     "output_type": "stream",
     "text": [
      "\u001b[32m[I 2022-03-29 12:08:26,836]\u001b[0m Trial 10 finished with value: 0.7364440047945602 and parameters: {'lambda_l1': 0.0011897689476609795, 'lambda_l2': 1.1848669185549683e-06, 'num_leaves': 237, 'feature_fraction': 0.6069664147358459, 'bagging_fraction': 0.7748184726050324, 'bagging_freq': 7, 'learning_rate': 0.04018000265640233, 'min_child_samples': 25}. Best is trial 8 with value: 0.7480070938102941.\u001b[0m\n"
     ]
    },
    {
     "name": "stdout",
     "output_type": "stream",
     "text": [
      "Training until validation scores don't improve for 100 rounds\n",
      "Training until validation scores don't improve for 100 rounds\n",
      "Training until validation scores don't improve for 100 rounds\n"
     ]
    },
    {
     "name": "stderr",
     "output_type": "stream",
     "text": [
      "\u001b[32m[I 2022-03-29 12:08:27,150]\u001b[0m Trial 22 finished with value: 0.7415036917222542 and parameters: {'lambda_l1': 1.2623258397135683e-08, 'lambda_l2': 0.07370230081743266, 'num_leaves': 255, 'feature_fraction': 0.42589507626191847, 'bagging_fraction': 0.5648361888598485, 'bagging_freq': 3, 'learning_rate': 0.2142458453933834, 'min_child_samples': 99}. Best is trial 8 with value: 0.7480070938102941.\u001b[0m\n"
     ]
    },
    {
     "name": "stdout",
     "output_type": "stream",
     "text": [
      "Did not meet early stopping. Best iteration is:\n",
      "[52]\tvalid_0's auc: 0.802299\n",
      "Training until validation scores don't improve for 100 rounds\n"
     ]
    },
    {
     "name": "stderr",
     "output_type": "stream",
     "text": [
      "\u001b[32m[I 2022-03-29 12:08:27,354]\u001b[0m Trial 21 finished with value: 0.7404632365063876 and parameters: {'lambda_l1': 1.7553476175417573e-08, 'lambda_l2': 0.1152939055597766, 'num_leaves': 206, 'feature_fraction': 0.7219736935714803, 'bagging_fraction': 0.41519912612190657, 'bagging_freq': 3, 'learning_rate': 0.19038052226191332, 'min_child_samples': 31}. Best is trial 8 with value: 0.7480070938102941.\u001b[0m\n",
      "\u001b[32m[I 2022-03-29 12:08:27,511]\u001b[0m Trial 25 finished with value: 0.7311570664064415 and parameters: {'lambda_l1': 3.212417007983887e-05, 'lambda_l2': 5.1299190997444265e-05, 'num_leaves': 253, 'feature_fraction': 0.4325902732699528, 'bagging_fraction': 0.5604641288769122, 'bagging_freq': 4, 'learning_rate': 0.061135800341765724, 'min_child_samples': 93}. Best is trial 8 with value: 0.7480070938102941.\u001b[0m\n"
     ]
    },
    {
     "name": "stdout",
     "output_type": "stream",
     "text": [
      "Did not meet early stopping. Best iteration is:\n",
      "[10]\tvalid_0's auc: 0.802314\n",
      "Training until validation scores don't improve for 100 rounds\n",
      "Did not meet early stopping. Best iteration is:\n",
      "[82]\tvalid_0's auc: 0.805833\n"
     ]
    },
    {
     "name": "stderr",
     "output_type": "stream",
     "text": [
      "\u001b[32m[I 2022-03-29 12:08:27,589]\u001b[0m Trial 26 finished with value: 0.740311735532771 and parameters: {'lambda_l1': 4.0921388751526945e-05, 'lambda_l2': 1.9370096641733132e-05, 'num_leaves': 153, 'feature_fraction': 0.4075160948813131, 'bagging_fraction': 0.5718997230255832, 'bagging_freq': 4, 'learning_rate': 0.12297448009411299, 'min_child_samples': 95}. Best is trial 8 with value: 0.7480070938102941.\u001b[0m\n",
      "\u001b[32m[I 2022-03-29 12:08:27,746]\u001b[0m Trial 16 finished with value: 0.7362412608445734 and parameters: {'lambda_l1': 7.131656231766936e-06, 'lambda_l2': 1.0160731530299647e-06, 'num_leaves': 125, 'feature_fraction': 0.8188206737853634, 'bagging_fraction': 0.46125136429244706, 'bagging_freq': 5, 'learning_rate': 0.11090960383938886, 'min_child_samples': 17}. Best is trial 8 with value: 0.7480070938102941.\u001b[0m\n"
     ]
    },
    {
     "name": "stdout",
     "output_type": "stream",
     "text": [
      "Did not meet early stopping. Best iteration is:\n",
      "[61]\tvalid_0's auc: 0.810508\n",
      "Training until validation scores don't improve for 100 rounds\n",
      "Training until validation scores don't improve for 100 rounds\n",
      "Did not meet early stopping. Best iteration is:\n",
      "[12]\tvalid_0's auc: 0.799753\n",
      "Training until validation scores don't improve for 100 rounds\n",
      "Did not meet early stopping. Best iteration is:\n",
      "[67]\tvalid_0's auc: 0.808379\n"
     ]
    },
    {
     "name": "stderr",
     "output_type": "stream",
     "text": [
      "\u001b[32m[I 2022-03-29 12:08:28,075]\u001b[0m Trial 28 finished with value: 0.7390685363669174 and parameters: {'lambda_l1': 8.217302883363802e-05, 'lambda_l2': 4.755953236309419e-05, 'num_leaves': 245, 'feature_fraction': 0.40480825576127216, 'bagging_fraction': 0.5675270666294514, 'bagging_freq': 4, 'learning_rate': 0.08194571418037432, 'min_child_samples': 99}. Best is trial 8 with value: 0.7480070938102941.\u001b[0m\n",
      "\u001b[32m[I 2022-03-29 12:08:28,232]\u001b[0m Trial 15 finished with value: 0.5 and parameters: {'lambda_l1': 0.0004253767617177329, 'lambda_l2': 0.001417553108429105, 'num_leaves': 234, 'feature_fraction': 0.9768194795690166, 'bagging_fraction': 0.9389323851693306, 'bagging_freq': 5, 'learning_rate': 4.273453027082854e-05, 'min_child_samples': 27}. Best is trial 8 with value: 0.7480070938102941.\u001b[0m\n",
      "\u001b[32m[I 2022-03-29 12:08:28,310]\u001b[0m Trial 29 finished with value: 0.7425174114721884 and parameters: {'lambda_l1': 6.047538661161972e-08, 'lambda_l2': 0.007330475030188555, 'num_leaves': 226, 'feature_fraction': 0.4000893318462336, 'bagging_fraction': 0.5693841408348089, 'bagging_freq': 4, 'learning_rate': 0.10034959932987185, 'min_child_samples': 92}. Best is trial 8 with value: 0.7480070938102941.\u001b[0m\n"
     ]
    },
    {
     "name": "stdout",
     "output_type": "stream",
     "text": [
      "Training until validation scores don't improve for 100 rounds\n",
      "Did not meet early stopping. Best iteration is:\n",
      "[60]\tvalid_0's auc: 0.805978\n",
      "Did not meet early stopping. Best iteration is:\n",
      "[66]\tvalid_0's auc: 0.809158\n",
      "Training until validation scores don't improve for 100 rounds\n"
     ]
    },
    {
     "name": "stderr",
     "output_type": "stream",
     "text": [
      "\u001b[32m[I 2022-03-29 12:08:28,452]\u001b[0m Trial 24 finished with value: 0.7050788473449454 and parameters: {'lambda_l1': 0.0001393542778143708, 'lambda_l2': 4.020239106537789e-05, 'num_leaves': 256, 'feature_fraction': 0.41166576415803213, 'bagging_fraction': 0.5627258134471076, 'bagging_freq': 4, 'learning_rate': 0.29894134433212805, 'min_child_samples': 32}. Best is trial 8 with value: 0.7480070938102941.\u001b[0m\n"
     ]
    },
    {
     "name": "stdout",
     "output_type": "stream",
     "text": [
      "Training until validation scores don't improve for 100 rounds\n",
      "Did not meet early stopping. Best iteration is:\n",
      "[56]\tvalid_0's auc: 0.77538\n",
      "Training until validation scores don't improve for 100 rounds\n"
     ]
    },
    {
     "name": "stderr",
     "output_type": "stream",
     "text": [
      "\u001b[32m[I 2022-03-29 12:08:28,922]\u001b[0m Trial 32 finished with value: 0.7245890536090652 and parameters: {'lambda_l1': 3.89580448429224e-08, 'lambda_l2': 0.0030163843324042343, 'num_leaves': 225, 'feature_fraction': 0.497920483533151, 'bagging_fraction': 0.5000360258251761, 'bagging_freq': 2, 'learning_rate': 0.026214830331591336, 'min_child_samples': 72}. Best is trial 8 with value: 0.7480070938102941.\u001b[0m\n"
     ]
    },
    {
     "name": "stdout",
     "output_type": "stream",
     "text": [
      "Did not meet early stopping. Best iteration is:\n",
      "[79]\tvalid_0's auc: 0.799346\n",
      "Training until validation scores don't improve for 100 rounds\n"
     ]
    },
    {
     "name": "stderr",
     "output_type": "stream",
     "text": [
      "\u001b[32m[I 2022-03-29 12:08:29,133]\u001b[0m Trial 33 finished with value: 0.7258188850419525 and parameters: {'lambda_l1': 6.79611654854711e-08, 'lambda_l2': 0.009026531813935982, 'num_leaves': 225, 'feature_fraction': 0.4843205219301526, 'bagging_fraction': 0.5003068088561813, 'bagging_freq': 2, 'learning_rate': 0.02522119694385472, 'min_child_samples': 74}. Best is trial 8 with value: 0.7480070938102941.\u001b[0m\n",
      "\u001b[32m[I 2022-03-29 12:08:29,233]\u001b[0m Trial 34 finished with value: 0.7292543924142573 and parameters: {'lambda_l1': 7.939870312785128e-08, 'lambda_l2': 0.006152777458622227, 'num_leaves': 222, 'feature_fraction': 0.49914695301136186, 'bagging_fraction': 0.4939286010131779, 'bagging_freq': 2, 'learning_rate': 0.02131177501360045, 'min_child_samples': 74}. Best is trial 8 with value: 0.7480070938102941.\u001b[0m\n"
     ]
    },
    {
     "name": "stdout",
     "output_type": "stream",
     "text": [
      "Did not meet early stopping. Best iteration is:\n",
      "[88]\tvalid_0's auc: 0.799034\n",
      "Did not meet early stopping. Best iteration is:\n",
      "[70]\tvalid_0's auc: 0.794896\n"
     ]
    },
    {
     "name": "stderr",
     "output_type": "stream",
     "text": [
      "\u001b[32m[I 2022-03-29 12:08:29,408]\u001b[0m Trial 35 finished with value: 0.7237647100761515 and parameters: {'lambda_l1': 5.38286093375302e-08, 'lambda_l2': 0.01636011699987549, 'num_leaves': 220, 'feature_fraction': 0.48604234821004594, 'bagging_fraction': 0.5013081838054645, 'bagging_freq': 2, 'learning_rate': 0.021748195171248447, 'min_child_samples': 73}. Best is trial 8 with value: 0.7480070938102941.\u001b[0m\n"
     ]
    },
    {
     "name": "stdout",
     "output_type": "stream",
     "text": [
      "Training until validation scores don't improve for 100 rounds\n",
      "Training until validation scores don't improve for 100 rounds\n",
      "Did not meet early stopping. Best iteration is:\n",
      "[79]\tvalid_0's auc: 0.796098\n",
      "Training until validation scores don't improve for 100 rounds\n"
     ]
    },
    {
     "name": "stderr",
     "output_type": "stream",
     "text": [
      "\u001b[32m[I 2022-03-29 12:08:30,209]\u001b[0m Trial 38 finished with value: 0.7409957178695399 and parameters: {'lambda_l1': 1.357069027283734e-07, 'lambda_l2': 0.8669097293630268, 'num_leaves': 178, 'feature_fraction': 0.679961767651905, 'bagging_fraction': 0.615154614074676, 'bagging_freq': 4, 'learning_rate': 0.11035052039812575, 'min_child_samples': 89}. Best is trial 8 with value: 0.7480070938102941.\u001b[0m\n",
      "\u001b[32m[I 2022-03-29 12:08:30,366]\u001b[0m Trial 39 finished with value: 0.5 and parameters: {'lambda_l1': 0.01874124384967552, 'lambda_l2': 0.8810849216398452, 'num_leaves': 174, 'feature_fraction': 0.6651525766010953, 'bagging_fraction': 0.6478192184441411, 'bagging_freq': 4, 'learning_rate': 0.0011250771183339895, 'min_child_samples': 90}. Best is trial 8 with value: 0.7480070938102941.\u001b[0m\n"
     ]
    },
    {
     "name": "stdout",
     "output_type": "stream",
     "text": [
      "Did not meet early stopping. Best iteration is:\n",
      "[37]\tvalid_0's auc: 0.811471\n",
      "Training until validation scores don't improve for 100 rounds\n",
      "Did not meet early stopping. Best iteration is:\n",
      "[15]\tvalid_0's auc: 0.807853\n"
     ]
    },
    {
     "name": "stderr",
     "output_type": "stream",
     "text": [
      "\u001b[32m[I 2022-03-29 12:08:30,664]\u001b[0m Trial 27 finished with value: 0.7324136333052611 and parameters: {'lambda_l1': 4.2413554334893386e-05, 'lambda_l2': 4.622532034240432e-05, 'num_leaves': 154, 'feature_fraction': 0.8907477499580903, 'bagging_fraction': 0.51451153001054, 'bagging_freq': 4, 'learning_rate': 0.10998009076532345, 'min_child_samples': 6}. Best is trial 8 with value: 0.7480070938102941.\u001b[0m\n"
     ]
    },
    {
     "name": "stdout",
     "output_type": "stream",
     "text": [
      "Training until validation scores don't improve for 100 rounds\n",
      "Did not meet early stopping. Best iteration is:\n",
      "[36]\tvalid_0's auc: 0.78816\n"
     ]
    },
    {
     "name": "stderr",
     "output_type": "stream",
     "text": [
      "\u001b[32m[I 2022-03-29 12:08:30,758]\u001b[0m Trial 36 finished with value: 0.7410202253799778 and parameters: {'lambda_l1': 1.1904017867039449e-07, 'lambda_l2': 0.015165220481962756, 'num_leaves': 171, 'feature_fraction': 0.6605417283216864, 'bagging_fraction': 0.6129415628142092, 'bagging_freq': 6, 'learning_rate': 0.02423351210426798, 'min_child_samples': 42}. Best is trial 8 with value: 0.7480070938102941.\u001b[0m\n"
     ]
    },
    {
     "name": "stdout",
     "output_type": "stream",
     "text": [
      "Did not meet early stopping. Best iteration is:\n",
      "[64]\tvalid_0's auc: 0.812004\n",
      "Training until validation scores don't improve for 100 rounds\n",
      "Training until validation scores don't improve for 100 rounds\n"
     ]
    },
    {
     "name": "stderr",
     "output_type": "stream",
     "text": [
      "\u001b[32m[I 2022-03-29 12:08:31,244]\u001b[0m Trial 41 finished with value: 0.7309164472130504 and parameters: {'lambda_l1': 1.2717037285124648e-05, 'lambda_l2': 0.00021180621099377967, 'num_leaves': 243, 'feature_fraction': 0.45285738418814453, 'bagging_fraction': 0.6297151828588268, 'bagging_freq': 6, 'learning_rate': 0.058660644175517966, 'min_child_samples': 100}. Best is trial 8 with value: 0.7480070938102941.\u001b[0m\n"
     ]
    },
    {
     "name": "stdout",
     "output_type": "stream",
     "text": [
      "Did not meet early stopping. Best iteration is:\n",
      "[100]\tvalid_0's auc: 0.806772\n",
      "Training until validation scores don't improve for 100 rounds\n"
     ]
    },
    {
     "name": "stderr",
     "output_type": "stream",
     "text": [
      "\u001b[32m[I 2022-03-29 12:08:31,793]\u001b[0m Trial 43 finished with value: 0.7398037616800568 and parameters: {'lambda_l1': 2.975566910377569e-06, 'lambda_l2': 0.0002283548210324027, 'num_leaves': 242, 'feature_fraction': 0.44862739282492464, 'bagging_fraction': 0.6019625308358741, 'bagging_freq': 6, 'learning_rate': 0.05869315837980708, 'min_child_samples': 99}. Best is trial 8 with value: 0.7480070938102941.\u001b[0m\n",
      "\u001b[32m[I 2022-03-29 12:08:31,934]\u001b[0m Trial 40 finished with value: 0.5 and parameters: {'lambda_l1': 0.023831727679051774, 'lambda_l2': 0.789538246723706, 'num_leaves': 256, 'feature_fraction': 0.4532782748778018, 'bagging_fraction': 0.6348248798196862, 'bagging_freq': 6, 'learning_rate': 0.001136581914162824, 'min_child_samples': 37}. Best is trial 8 with value: 0.7480070938102941.\u001b[0m\n"
     ]
    },
    {
     "name": "stdout",
     "output_type": "stream",
     "text": [
      "Did not meet early stopping. Best iteration is:\n",
      "[91]\tvalid_0's auc: 0.806189\n",
      "Training until validation scores don't improve for 100 rounds\n",
      "Did not meet early stopping. Best iteration is:\n",
      "[65]\tvalid_0's auc: 0.787642\n"
     ]
    },
    {
     "name": "stderr",
     "output_type": "stream",
     "text": [
      "\u001b[32m[I 2022-03-29 12:08:32,185]\u001b[0m Trial 23 finished with value: 0.7157797175843615 and parameters: {'lambda_l1': 1.0343375526945805e-08, 'lambda_l2': 3.018259328254619e-05, 'num_leaves': 255, 'feature_fraction': 0.4497198694829385, 'bagging_fraction': 0.5634604805666259, 'bagging_freq': 4, 'learning_rate': 0.2220125110354029, 'min_child_samples': 5}. Best is trial 8 with value: 0.7480070938102941.\u001b[0m\n"
     ]
    },
    {
     "name": "stdout",
     "output_type": "stream",
     "text": [
      "Training until validation scores don't improve for 100 rounds\n",
      "Did not meet early stopping. Best iteration is:\n",
      "[75]\tvalid_0's auc: 0.776343\n",
      "Did not meet early stopping. Best iteration is:\n",
      "[75]\tvalid_0's auc: 0.800741\n"
     ]
    },
    {
     "name": "stderr",
     "output_type": "stream",
     "text": [
      "\u001b[32m[I 2022-03-29 12:08:32,248]\u001b[0m Trial 42 finished with value: 0.7353032915814472 and parameters: {'lambda_l1': 7.942820685285458e-06, 'lambda_l2': 0.03158575675011089, 'num_leaves': 242, 'feature_fraction': 0.4608416738669373, 'bagging_fraction': 0.6142730118644818, 'bagging_freq': 3, 'learning_rate': 0.05088946973111216, 'min_child_samples': 48}. Best is trial 8 with value: 0.7480070938102941.\u001b[0m\n",
      "\u001b[32m[I 2022-03-29 12:08:32,404]\u001b[0m Trial 44 finished with value: 0.7041096867048984 and parameters: {'lambda_l1': 0.007577610584522895, 'lambda_l2': 0.0385011912288906, 'num_leaves': 252, 'feature_fraction': 0.5676971612313034, 'bagging_fraction': 0.5299625204397491, 'bagging_freq': 3, 'learning_rate': 0.00663990167025626, 'min_child_samples': 50}. Best is trial 8 with value: 0.7480070938102941.\u001b[0m\n"
     ]
    },
    {
     "name": "stdout",
     "output_type": "stream",
     "text": [
      "Training until validation scores don't improve for 100 rounds\n",
      "Training until validation scores don't improve for 100 rounds\n",
      "Did not meet early stopping. Best iteration is:\n",
      "[57]\tvalid_0's auc: 0.807453\n",
      "Training until validation scores don't improve for 100 rounds\n",
      "Did not meet early stopping. Best iteration is:\n",
      "[75]\tvalid_0's auc: 0.781132\n"
     ]
    },
    {
     "name": "stderr",
     "output_type": "stream",
     "text": [
      "\u001b[32m[I 2022-03-29 12:08:32,608]\u001b[0m Trial 30 finished with value: 0.726315719117195 and parameters: {'lambda_l1': 7.605538917965959e-08, 'lambda_l2': 0.006641213872255333, 'num_leaves': 229, 'feature_fraction': 0.47500637669075646, 'bagging_fraction': 0.5161960536182174, 'bagging_freq': 2, 'learning_rate': 0.1085753788333226, 'min_child_samples': 5}. Best is trial 8 with value: 0.7480070938102941.\u001b[0m\n",
      "\u001b[32m[I 2022-03-29 12:08:32,780]\u001b[0m Trial 31 finished with value: 0.7256918915787739 and parameters: {'lambda_l1': 3.5295237675268965e-08, 'lambda_l2': 0.008770452806609416, 'num_leaves': 226, 'feature_fraction': 0.47323950383562124, 'bagging_fraction': 0.5070374341087394, 'bagging_freq': 2, 'learning_rate': 0.02190789578380929, 'min_child_samples': 5}. Best is trial 8 with value: 0.7480070938102941.\u001b[0m\n"
     ]
    },
    {
     "name": "stdout",
     "output_type": "stream",
     "text": [
      "Did not meet early stopping. Best iteration is:\n",
      "[65]\tvalid_0's auc: 0.786623\n",
      "Training until validation scores don't improve for 100 rounds\n",
      "Did not meet early stopping. Best iteration is:\n",
      "[98]\tvalid_0's auc: 0.805006\n"
     ]
    },
    {
     "name": "stderr",
     "output_type": "stream",
     "text": [
      "\u001b[32m[I 2022-03-29 12:08:32,874]\u001b[0m Trial 45 finished with value: 0.7245110751667624 and parameters: {'lambda_l1': 0.010852385153034796, 'lambda_l2': 0.03199770132617753, 'num_leaves': 256, 'feature_fraction': 0.5621011330276762, 'bagging_fraction': 0.4490724398961569, 'bagging_freq': 3, 'learning_rate': 0.007924804544670488, 'min_child_samples': 54}. Best is trial 8 with value: 0.7480070938102941.\u001b[0m\n",
      "\u001b[32m[I 2022-03-29 12:08:32,953]\u001b[0m Trial 46 finished with value: 0.649081413949675 and parameters: {'lambda_l1': 1.6401820246689314, 'lambda_l2': 0.043824004819199354, 'num_leaves': 93, 'feature_fraction': 0.5727140297348774, 'bagging_fraction': 0.5328046159897355, 'bagging_freq': 3, 'learning_rate': 0.006902759109723964, 'min_child_samples': 55}. Best is trial 8 with value: 0.7480070938102941.\u001b[0m\n"
     ]
    },
    {
     "name": "stdout",
     "output_type": "stream",
     "text": [
      "Training until validation scores don't improve for 100 rounds\n",
      "Did not meet early stopping. Best iteration is:\n",
      "[33]\tvalid_0's auc: 0.8026\n",
      "Training until validation scores don't improve for 100 rounds\n"
     ]
    },
    {
     "name": "stderr",
     "output_type": "stream",
     "text": [
      "\u001b[32m[I 2022-03-29 12:08:33,172]\u001b[0m Trial 47 finished with value: 0.6851163661154704 and parameters: {'lambda_l1': 0.7900490607278825, 'lambda_l2': 0.0017192752919173103, 'num_leaves': 92, 'feature_fraction': 0.5447509232995779, 'bagging_fraction': 0.5310511706060412, 'bagging_freq': 3, 'learning_rate': 0.006060467017261074, 'min_child_samples': 80}. Best is trial 8 with value: 0.7480070938102941.\u001b[0m\n"
     ]
    },
    {
     "name": "stdout",
     "output_type": "stream",
     "text": [
      "Training until validation scores don't improve for 100 rounds\n",
      "Did not meet early stopping. Best iteration is:\n",
      "[57]\tvalid_0's auc: 0.801995\n",
      "Did not meet early stopping. Best iteration is:\n",
      "[69]\tvalid_0's auc: 0.807809\n"
     ]
    },
    {
     "name": "stderr",
     "output_type": "stream",
     "text": [
      "\u001b[32m[I 2022-03-29 12:08:33,345]\u001b[0m Trial 37 finished with value: 0.5078357194736678 and parameters: {'lambda_l1': 0.010293605131549588, 'lambda_l2': 0.6009070276676728, 'num_leaves': 174, 'feature_fraction': 0.662127598687514, 'bagging_fraction': 0.6270962133371258, 'bagging_freq': 6, 'learning_rate': 0.0019759890798898005, 'min_child_samples': 5}. Best is trial 8 with value: 0.7480070938102941.\u001b[0m\n"
     ]
    },
    {
     "name": "stdout",
     "output_type": "stream",
     "text": [
      "Training until validation scores don't improve for 100 rounds\n",
      "Training until validation scores don't improve for 100 rounds\n"
     ]
    },
    {
     "name": "stderr",
     "output_type": "stream",
     "text": [
      "\u001b[32m[I 2022-03-29 12:08:33,753]\u001b[0m Trial 48 finished with value: 0.7051367741877989 and parameters: {'lambda_l1': 2.1115753354634484e-07, 'lambda_l2': 0.032032146742628304, 'num_leaves': 215, 'feature_fraction': 0.5581876377145374, 'bagging_fraction': 0.6684166988591734, 'bagging_freq': 5, 'learning_rate': 0.0069662844326929384, 'min_child_samples': 56}. Best is trial 8 with value: 0.7480070938102941.\u001b[0m\n"
     ]
    },
    {
     "name": "stdout",
     "output_type": "stream",
     "text": [
      "Did not meet early stopping. Best iteration is:\n",
      "[62]\tvalid_0's auc: 0.804749\n",
      "Training until validation scores don't improve for 100 rounds\n"
     ]
    },
    {
     "name": "stderr",
     "output_type": "stream",
     "text": [
      "\u001b[32m[I 2022-03-29 12:08:34,004]\u001b[0m Trial 52 finished with value: 0.6523654203483632 and parameters: {'lambda_l1': 1.646651365953592e-06, 'lambda_l2': 0.0012965139481323441, 'num_leaves': 88, 'feature_fraction': 0.6264828991900586, 'bagging_fraction': 0.753102395897657, 'bagging_freq': 5, 'learning_rate': 0.00230376658452628, 'min_child_samples': 81}. Best is trial 8 with value: 0.7480070938102941.\u001b[0m\n"
     ]
    },
    {
     "name": "stdout",
     "output_type": "stream",
     "text": [
      "Did not meet early stopping. Best iteration is:\n",
      "[98]\tvalid_0's auc: 0.804637\n",
      "Training until validation scores don't improve for 100 rounds\n"
     ]
    },
    {
     "name": "stderr",
     "output_type": "stream",
     "text": [
      "\u001b[32m[I 2022-03-29 12:08:34,271]\u001b[0m Trial 51 finished with value: 0.7346549565325883 and parameters: {'lambda_l1': 1.6938516946649607e-07, 'lambda_l2': 0.0032659461369420697, 'num_leaves': 187, 'feature_fraction': 0.5777207346006307, 'bagging_fraction': 0.7425292237113803, 'bagging_freq': 5, 'learning_rate': 0.012615404896768436, 'min_child_samples': 57}. Best is trial 8 with value: 0.7480070938102941.\u001b[0m\n",
      "\u001b[32m[I 2022-03-29 12:08:34,349]\u001b[0m Trial 49 finished with value: 0.7347819499957668 and parameters: {'lambda_l1': 1.9282674087154287e-07, 'lambda_l2': 0.0025139095446144984, 'num_leaves': 187, 'feature_fraction': 0.5585709720517352, 'bagging_fraction': 0.7366472736110244, 'bagging_freq': 5, 'learning_rate': 0.16278721515451117, 'min_child_samples': 43}. Best is trial 8 with value: 0.7480070938102941.\u001b[0m\n"
     ]
    },
    {
     "name": "stdout",
     "output_type": "stream",
     "text": [
      "Did not meet early stopping. Best iteration is:\n",
      "[98]\tvalid_0's auc: 0.804148\n",
      "Did not meet early stopping. Best iteration is:\n",
      "[5]\tvalid_0's auc: 0.804746\n",
      "Training until validation scores don't improve for 100 rounds\n"
     ]
    },
    {
     "name": "stderr",
     "output_type": "stream",
     "text": [
      "\u001b[32m[I 2022-03-29 12:08:34,553]\u001b[0m Trial 50 finished with value: 0.7461177875510758 and parameters: {'lambda_l1': 2.7110997624950294e-07, 'lambda_l2': 0.023814494723303326, 'num_leaves': 86, 'feature_fraction': 0.5525678906006753, 'bagging_fraction': 0.4548970153562455, 'bagging_freq': 5, 'learning_rate': 0.037353757611604, 'min_child_samples': 20}. Best is trial 8 with value: 0.7480070938102941.\u001b[0m\n"
     ]
    },
    {
     "name": "stdout",
     "output_type": "stream",
     "text": [
      "Training until validation scores don't improve for 100 rounds\n",
      "Did not meet early stopping. Best iteration is:\n",
      "[88]\tvalid_0's auc: 0.807319\n",
      "Training until validation scores don't improve for 100 rounds\n",
      "Did not meet early stopping. Best iteration is:\n",
      "[65]\tvalid_0's auc: 0.807693\n"
     ]
    },
    {
     "name": "stderr",
     "output_type": "stream",
     "text": [
      "\u001b[32m[I 2022-03-29 12:08:34,851]\u001b[0m Trial 54 finished with value: 0.5934070341010869 and parameters: {'lambda_l1': 2.0624496952716723e-07, 'lambda_l2': 0.0004930996899746554, 'num_leaves': 214, 'feature_fraction': 0.6361706912771233, 'bagging_fraction': 0.6695614080158006, 'bagging_freq': 5, 'learning_rate': 0.0025084825693077223, 'min_child_samples': 42}. Best is trial 8 with value: 0.7480070938102941.\u001b[0m\n",
      "\u001b[32m[I 2022-03-29 12:08:35,133]\u001b[0m Trial 55 finished with value: 0.7407662384536207 and parameters: {'lambda_l1': 2.97225022233048e-07, 'lambda_l2': 4.932578673394886e-06, 'num_leaves': 190, 'feature_fraction': 0.9109202128780312, 'bagging_fraction': 0.7487016169324396, 'bagging_freq': 5, 'learning_rate': 0.014452952167310617, 'min_child_samples': 42}. Best is trial 8 with value: 0.7480070938102941.\u001b[0m\n"
     ]
    },
    {
     "name": "stdout",
     "output_type": "stream",
     "text": [
      "Training until validation scores don't improve for 100 rounds\n",
      "Did not meet early stopping. Best iteration is:\n",
      "[66]\tvalid_0's auc: 0.810827\n",
      "Did not meet early stopping. Best iteration is:\n",
      "[24]\tvalid_0's auc: 0.81355\n"
     ]
    },
    {
     "name": "stderr",
     "output_type": "stream",
     "text": [
      "\u001b[32m[I 2022-03-29 12:08:35,164]\u001b[0m Trial 58 finished with value: 0.7433038797616979 and parameters: {'lambda_l1': 7.717984014864457e-07, 'lambda_l2': 0.2695138334705472, 'num_leaves': 139, 'feature_fraction': 0.6782807535018385, 'bagging_fraction': 0.592414542936199, 'bagging_freq': 4, 'learning_rate': 0.18452190814839886, 'min_child_samples': 88}. Best is trial 8 with value: 0.7480070938102941.\u001b[0m\n",
      "\u001b[32m[I 2022-03-29 12:08:35,244]\u001b[0m Trial 59 finished with value: 0.7450907000681755 and parameters: {'lambda_l1': 4.3856835709934083e-07, 'lambda_l2': 0.2875623370431873, 'num_leaves': 140, 'feature_fraction': 0.7060500984220542, 'bagging_fraction': 0.5935553729610413, 'bagging_freq': 4, 'learning_rate': 0.039164059218328474, 'min_child_samples': 89}. Best is trial 8 with value: 0.7480070938102941.\u001b[0m\n"
     ]
    },
    {
     "name": "stdout",
     "output_type": "stream",
     "text": [
      "Did not meet early stopping. Best iteration is:\n",
      "[97]\tvalid_0's auc: 0.811321\n"
     ]
    },
    {
     "name": "stderr",
     "output_type": "stream",
     "text": [
      "\u001b[32m[I 2022-03-29 12:08:35,545]\u001b[0m Trial 56 finished with value: 0.7398416369234608 and parameters: {'lambda_l1': 8.773054274250934e-07, 'lambda_l2': 0.0007412266391285686, 'num_leaves': 140, 'feature_fraction': 0.9333807917403558, 'bagging_fraction': 0.7549563392708304, 'bagging_freq': 5, 'learning_rate': 0.035535182722424126, 'min_child_samples': 43}. Best is trial 8 with value: 0.7480070938102941.\u001b[0m\n"
     ]
    },
    {
     "name": "stdout",
     "output_type": "stream",
     "text": [
      "Training until validation scores don't improve for 100 rounds\n",
      "Training until validation scores don't improve for 100 rounds\n",
      "Training until validation scores don't improve for 100 rounds\n",
      "Did not meet early stopping. Best iteration is:\n",
      "[81]\tvalid_0's auc: 0.808928\n"
     ]
    },
    {
     "name": "stderr",
     "output_type": "stream",
     "text": [
      "\u001b[32m[I 2022-03-29 12:08:35,666]\u001b[0m Trial 61 finished with value: 0.7502127697497114 and parameters: {'lambda_l1': 9.126869061068554e-07, 'lambda_l2': 3.4302831982437234e-06, 'num_leaves': 25, 'feature_fraction': 0.5936924717853151, 'bagging_fraction': 0.4657134703428757, 'bagging_freq': 7, 'learning_rate': 0.035014999344003137, 'min_child_samples': 23}. Best is trial 61 with value: 0.7502127697497114.\u001b[0m\n"
     ]
    },
    {
     "name": "stdout",
     "output_type": "stream",
     "text": [
      "Training until validation scores don't improve for 100 rounds\n",
      "Did not meet early stopping. Best iteration is:\n",
      "[99]\tvalid_0's auc: 0.810991\n",
      "Training until validation scores don't improve for 100 rounds\n",
      "Did not meet early stopping. Best iteration is:\n",
      "[98]\tvalid_0's auc: 0.803025\n"
     ]
    },
    {
     "name": "stderr",
     "output_type": "stream",
     "text": [
      "\u001b[32m[I 2022-03-29 12:08:35,886]\u001b[0m Trial 53 finished with value: 0.7037799492917329 and parameters: {'lambda_l1': 1.3114267148567816e-06, 'lambda_l2': 0.0011874718606048192, 'num_leaves': 190, 'feature_fraction': 0.632692967553001, 'bagging_fraction': 0.6765345339215414, 'bagging_freq': 5, 'learning_rate': 0.003171082667850288, 'min_child_samples': 21}. Best is trial 61 with value: 0.7502127697497114.\u001b[0m\n",
      "\u001b[32m[I 2022-03-29 12:08:35,964]\u001b[0m Trial 60 finished with value: 0.7386496807339777 and parameters: {'lambda_l1': 8.900748898943112e-07, 'lambda_l2': 0.0006412876802318652, 'num_leaves': 54, 'feature_fraction': 0.5276151770887952, 'bagging_fraction': 0.5950508863002664, 'bagging_freq': 7, 'learning_rate': 0.03330338730381211, 'min_child_samples': 22}. Best is trial 61 with value: 0.7502127697497114.\u001b[0m\n"
     ]
    },
    {
     "name": "stdout",
     "output_type": "stream",
     "text": [
      "Did not meet early stopping. Best iteration is:\n",
      "[73]\tvalid_0's auc: 0.811674\n",
      "Training until validation scores don't improve for 100 rounds\n",
      "Training until validation scores don't improve for 100 rounds\n"
     ]
    },
    {
     "name": "stderr",
     "output_type": "stream",
     "text": [
      "\u001b[32m[I 2022-03-29 12:08:36,215]\u001b[0m Trial 67 finished with value: 0.7384714442944289 and parameters: {'lambda_l1': 3.7199059658927178e-06, 'lambda_l2': 0.3432440254663579, 'num_leaves': 4, 'feature_fraction': 0.7080886798095838, 'bagging_fraction': 0.43478263963618097, 'bagging_freq': 7, 'learning_rate': 0.03444282357277329, 'min_child_samples': 14}. Best is trial 61 with value: 0.7502127697497114.\u001b[0m\n"
     ]
    },
    {
     "name": "stdout",
     "output_type": "stream",
     "text": [
      "Did not meet early stopping. Best iteration is:\n",
      "[100]\tvalid_0's auc: 0.802048\n",
      "Training until validation scores don't improve for 100 rounds\n"
     ]
    },
    {
     "name": "stderr",
     "output_type": "stream",
     "text": [
      "\u001b[32m[I 2022-03-29 12:08:36,591]\u001b[0m Trial 68 finished with value: 0.7450149495813672 and parameters: {'lambda_l1': 3.1032401872341826e-06, 'lambda_l2': 0.304556602345289, 'num_leaves': 23, 'feature_fraction': 0.874614013299787, 'bagging_fraction': 0.4730731047327297, 'bagging_freq': 4, 'learning_rate': 0.07600341881949448, 'min_child_samples': 88}. Best is trial 61 with value: 0.7502127697497114.\u001b[0m\n",
      "\u001b[32m[I 2022-03-29 12:08:36,685]\u001b[0m Trial 63 finished with value: 0.7362657683550113 and parameters: {'lambda_l1': 5.422188701060279e-07, 'lambda_l2': 0.3265734627110176, 'num_leaves': 56, 'feature_fraction': 0.5111700952537741, 'bagging_fraction': 0.46673176462991356, 'bagging_freq': 4, 'learning_rate': 0.031770476853476594, 'min_child_samples': 21}. Best is trial 61 with value: 0.7502127697497114.\u001b[0m\n"
     ]
    },
    {
     "name": "stdout",
     "output_type": "stream",
     "text": [
      "Did not meet early stopping. Best iteration is:\n",
      "[68]\tvalid_0's auc: 0.816327\n",
      "Did not meet early stopping. Best iteration is:\n",
      "[58]\tvalid_0's auc: 0.811524\n",
      "Training until validation scores don't improve for 100 rounds\n"
     ]
    },
    {
     "name": "stderr",
     "output_type": "stream",
     "text": [
      "\u001b[32m[I 2022-03-29 12:08:36,811]\u001b[0m Trial 62 finished with value: 0.7437717504155137 and parameters: {'lambda_l1': 1.2828035957369107e-06, 'lambda_l2': 0.19740623868846077, 'num_leaves': 62, 'feature_fraction': 0.5263678038599017, 'bagging_fraction': 0.44657735137581994, 'bagging_freq': 4, 'learning_rate': 0.0384885565288624, 'min_child_samples': 23}. Best is trial 61 with value: 0.7502127697497114.\u001b[0m\n",
      "\u001b[32m[I 2022-03-29 12:08:36,968]\u001b[0m Trial 65 finished with value: 0.7374332170340565 and parameters: {'lambda_l1': 6.848291068838816e-07, 'lambda_l2': 0.3434226395591184, 'num_leaves': 57, 'feature_fraction': 0.9971853562465183, 'bagging_fraction': 0.4571439719985255, 'bagging_freq': 4, 'learning_rate': 0.07646277694630539, 'min_child_samples': 20}. Best is trial 61 with value: 0.7502127697497114.\u001b[0m\n"
     ]
    },
    {
     "name": "stdout",
     "output_type": "stream",
     "text": [
      "Training until validation scores don't improve for 100 rounds\n",
      "Did not meet early stopping. Best iteration is:\n",
      "[61]\tvalid_0's auc: 0.806752\n",
      "Training until validation scores don't improve for 100 rounds\n",
      "Did not meet early stopping. Best iteration is:\n",
      "[57]\tvalid_0's auc: 0.80234\n"
     ]
    },
    {
     "name": "stderr",
     "output_type": "stream",
     "text": [
      "\u001b[32m[I 2022-03-29 12:08:37,062]\u001b[0m Trial 66 finished with value: 0.7441906060484537 and parameters: {'lambda_l1': 8.334547102634779e-07, 'lambda_l2': 1.4851192496108613e-08, 'num_leaves': 55, 'feature_fraction': 0.519818512684953, 'bagging_fraction': 0.46950203362804904, 'bagging_freq': 7, 'learning_rate': 0.03878379772788569, 'min_child_samples': 22}. Best is trial 61 with value: 0.7502127697497114.\u001b[0m\n"
     ]
    },
    {
     "name": "stdout",
     "output_type": "stream",
     "text": [
      "Did not meet early stopping. Best iteration is:\n",
      "[73]\tvalid_0's auc: 0.808014\n",
      "Training until validation scores don't improve for 100 rounds\n",
      "Did not meet early stopping. Best iteration is:\n",
      "[95]\tvalid_0's auc: 0.80966\n",
      "Training until validation scores don't improve for 100 rounds\n"
     ]
    },
    {
     "name": "stderr",
     "output_type": "stream",
     "text": [
      "\u001b[32m[I 2022-03-29 12:08:37,218]\u001b[0m Trial 57 finished with value: 0.7442151135588915 and parameters: {'lambda_l1': 9.72299285648814e-07, 'lambda_l2': 0.0004024825200772874, 'num_leaves': 192, 'feature_fraction': 0.9192617281462652, 'bagging_fraction': 0.6767478041903401, 'bagging_freq': 5, 'learning_rate': 0.013021659695308418, 'min_child_samples': 20}. Best is trial 61 with value: 0.7502127697497114.\u001b[0m\n",
      "\u001b[32m[I 2022-03-29 12:08:37,313]\u001b[0m Trial 71 finished with value: 0.7486910761470629 and parameters: {'lambda_l1': 0.000695423395527765, 'lambda_l2': 2.955841651625631e-07, 'num_leaves': 7, 'feature_fraction': 0.8708324367566598, 'bagging_fraction': 0.4734253414918319, 'bagging_freq': 4, 'learning_rate': 0.07095892447479846, 'min_child_samples': 87}. Best is trial 61 with value: 0.7502127697497114.\u001b[0m\n"
     ]
    },
    {
     "name": "stdout",
     "output_type": "stream",
     "text": [
      "Did not meet early stopping. Best iteration is:\n",
      "[69]\tvalid_0's auc: 0.813854\n",
      "Training until validation scores don't improve for 100 rounds\n",
      "Training until validation scores don't improve for 100 rounds\n",
      "Did not meet early stopping. Best iteration is:\n",
      "[60]\tvalid_0's auc: 0.807448\n"
     ]
    },
    {
     "name": "stderr",
     "output_type": "stream",
     "text": [
      "\u001b[32m[I 2022-03-29 12:08:37,470]\u001b[0m Trial 64 finished with value: 0.7420473128628782 and parameters: {'lambda_l1': 9.555802078926828e-07, 'lambda_l2': 0.22898527417578113, 'num_leaves': 134, 'feature_fraction': 0.5953052611950567, 'bagging_fraction': 0.4599043896099506, 'bagging_freq': 4, 'learning_rate': 0.03463584376294469, 'min_child_samples': 22}. Best is trial 61 with value: 0.7502127697497114.\u001b[0m\n",
      "\u001b[32m[I 2022-03-29 12:08:37,549]\u001b[0m Trial 70 finished with value: 0.7437338751721096 and parameters: {'lambda_l1': 4.811207389177868e-07, 'lambda_l2': 3.0810832007573237, 'num_leaves': 17, 'feature_fraction': 0.6009831117651548, 'bagging_fraction': 0.46320076285030504, 'bagging_freq': 4, 'learning_rate': 0.07648597177344411, 'min_child_samples': 87}. Best is trial 61 with value: 0.7502127697497114.\u001b[0m\n",
      "\u001b[32m[I 2022-03-29 12:08:37,595]\u001b[0m Trial 72 finished with value: 0.7459907940878973 and parameters: {'lambda_l1': 1.5551453964417057e-05, 'lambda_l2': 2.885120765254454, 'num_leaves': 11, 'feature_fraction': 0.9821590255151159, 'bagging_fraction': 0.4702082711984536, 'bagging_freq': 4, 'learning_rate': 0.07355532241473114, 'min_child_samples': 10}. Best is trial 61 with value: 0.7502127697497114.\u001b[0m\n"
     ]
    },
    {
     "name": "stdout",
     "output_type": "stream",
     "text": [
      "Did not meet early stopping. Best iteration is:\n",
      "[59]\tvalid_0's auc: 0.815286\n",
      "Did not meet early stopping. Best iteration is:\n",
      "[62]\tvalid_0's auc: 0.812195\n"
     ]
    },
    {
     "name": "stderr",
     "output_type": "stream",
     "text": [
      "\u001b[32m[I 2022-03-29 12:08:37,752]\u001b[0m Trial 69 finished with value: 0.7463584067444669 and parameters: {'lambda_l1': 5.935069009009512e-07, 'lambda_l2': 5.350627893698469e-07, 'num_leaves': 61, 'feature_fraction': 0.6012202795533238, 'bagging_fraction': 0.47293555485607675, 'bagging_freq': 4, 'learning_rate': 0.07192802901295593, 'min_child_samples': 11}. Best is trial 61 with value: 0.7502127697497114.\u001b[0m\n"
     ]
    },
    {
     "name": "stdout",
     "output_type": "stream",
     "text": [
      "Training until validation scores don't improve for 100 rounds\n",
      "Did not meet early stopping. Best iteration is:\n",
      "[26]\tvalid_0's auc: 0.805188\n",
      "Training until validation scores don't improve for 100 rounds\n",
      "Training until validation scores don't improve for 100 rounds\n",
      "Training until validation scores don't improve for 100 rounds\n"
     ]
    },
    {
     "name": "stderr",
     "output_type": "stream",
     "text": [
      "\u001b[32m[I 2022-03-29 12:08:37,972]\u001b[0m Trial 73 finished with value: 0.7496424131431552 and parameters: {'lambda_l1': 1.679483280781367e-05, 'lambda_l2': 8.895201583247605, 'num_leaves': 24, 'feature_fraction': 0.5982162577621252, 'bagging_fraction': 0.43182821861140597, 'bagging_freq': 4, 'learning_rate': 0.15658814736773852, 'min_child_samples': 12}. Best is trial 61 with value: 0.7502127697497114.\u001b[0m\n",
      "\u001b[32m[I 2022-03-29 12:08:38,065]\u001b[0m Trial 74 finished with value: 0.7392066696075679 and parameters: {'lambda_l1': 0.0011336974044114983, 'lambda_l2': 1.0717863713138525e-08, 'num_leaves': 27, 'feature_fraction': 0.5889975409747553, 'bagging_fraction': 0.47485221234082725, 'bagging_freq': 7, 'learning_rate': 0.014568060338924332, 'min_child_samples': 10}. Best is trial 61 with value: 0.7502127697497114.\u001b[0m\n"
     ]
    },
    {
     "name": "stdout",
     "output_type": "stream",
     "text": [
      "Did not meet early stopping. Best iteration is:\n",
      "[25]\tvalid_0's auc: 0.807117\n",
      "Did not meet early stopping. Best iteration is:\n",
      "[100]\tvalid_0's auc: 0.806487\n",
      "Training until validation scores don't improve for 100 rounds\n"
     ]
    },
    {
     "name": "stderr",
     "output_type": "stream",
     "text": [
      "\u001b[32m[I 2022-03-29 12:08:38,269]\u001b[0m Trial 75 finished with value: 0.7039826932417198 and parameters: {'lambda_l1': 0.002012716048025129, 'lambda_l2': 1.0264546530252274e-08, 'num_leaves': 28, 'feature_fraction': 0.8568457190081186, 'bagging_fraction': 0.48442651398215664, 'bagging_freq': 7, 'learning_rate': 0.009680534051873637, 'min_child_samples': 12}. Best is trial 61 with value: 0.7502127697497114.\u001b[0m\n",
      "\u001b[32m[I 2022-03-29 12:08:38,332]\u001b[0m Trial 76 finished with value: 0.7392957878273424 and parameters: {'lambda_l1': 0.001061349535080353, 'lambda_l2': 3.4311916660559463e-07, 'num_leaves': 26, 'feature_fraction': 0.8611890480912252, 'bagging_fraction': 0.8315016738839583, 'bagging_freq': 4, 'learning_rate': 0.017274634336534474, 'min_child_samples': 10}. Best is trial 61 with value: 0.7502127697497114.\u001b[0m\n"
     ]
    },
    {
     "name": "stdout",
     "output_type": "stream",
     "text": [
      "Training until validation scores don't improve for 100 rounds\n",
      "Did not meet early stopping. Best iteration is:\n",
      "[23]\tvalid_0's auc: 0.808171\n",
      "Did not meet early stopping. Best iteration is:\n",
      "[96]\tvalid_0's auc: 0.811208\n"
     ]
    },
    {
     "name": "stderr",
     "output_type": "stream",
     "text": [
      "\u001b[32m[I 2022-03-29 12:08:38,473]\u001b[0m Trial 77 finished with value: 0.7408932319167991 and parameters: {'lambda_l1': 0.0026759645604066923, 'lambda_l2': 2.6881636240375645e-07, 'num_leaves': 20, 'feature_fraction': 0.850282373623422, 'bagging_fraction': 0.8166693718499402, 'bagging_freq': 4, 'learning_rate': 0.014216105693665161, 'min_child_samples': 10}. Best is trial 61 with value: 0.7502127697497114.\u001b[0m\n"
     ]
    },
    {
     "name": "stdout",
     "output_type": "stream",
     "text": [
      "Training until validation scores don't improve for 100 rounds\n",
      "Training until validation scores don't improve for 100 rounds\n",
      "Did not meet early stopping. Best iteration is:\n",
      "[99]\tvalid_0's auc: 0.813845\n",
      "Training until validation scores don't improve for 100 rounds\n"
     ]
    },
    {
     "name": "stderr",
     "output_type": "stream",
     "text": [
      "\u001b[32m[I 2022-03-29 12:08:38,708]\u001b[0m Trial 78 finished with value: 0.7455719384549575 and parameters: {'lambda_l1': 0.0016352015726181337, 'lambda_l2': 1.3250364205180005e-08, 'num_leaves': 33, 'feature_fraction': 0.9010765370813599, 'bagging_fraction': 0.47863586403236313, 'bagging_freq': 4, 'learning_rate': 0.01488171751006032, 'min_child_samples': 9}. Best is trial 61 with value: 0.7502127697497114.\u001b[0m\n",
      "\u001b[32m[I 2022-03-29 12:08:38,787]\u001b[0m Trial 80 finished with value: 0.7476639886641624 and parameters: {'lambda_l1': 0.0011745928899121153, 'lambda_l2': 2.3009047094024493e-07, 'num_leaves': 30, 'feature_fraction': 0.8669032743860424, 'bagging_fraction': 0.47774943771870754, 'bagging_freq': 4, 'learning_rate': 0.016110606047619342, 'min_child_samples': 11}. Best is trial 61 with value: 0.7502127697497114.\u001b[0m\n",
      "\u001b[32m[I 2022-03-29 12:08:38,833]\u001b[0m Trial 79 finished with value: 0.7278329568088548 and parameters: {'lambda_l1': 0.0008510650469571045, 'lambda_l2': 1.769218791645119e-07, 'num_leaves': 34, 'feature_fraction': 0.8643229448804617, 'bagging_fraction': 0.4795019758142982, 'bagging_freq': 4, 'learning_rate': 0.018914414628778634, 'min_child_samples': 14}. Best is trial 61 with value: 0.7502127697497114.\u001b[0m\n"
     ]
    },
    {
     "name": "stdout",
     "output_type": "stream",
     "text": [
      "Did not meet early stopping. Best iteration is:\n",
      "[100]\tvalid_0's auc: 0.811436\n",
      "Did not meet early stopping. Best iteration is:\n",
      "[100]\tvalid_0's auc: 0.812195\n",
      "Did not meet early stopping. Best iteration is:\n",
      "[23]\tvalid_0's auc: 0.807628\n",
      "Training until validation scores don't improve for 100 rounds\n",
      "Training until validation scores don't improve for 100 rounds\n",
      "Training until validation scores don't improve for 100 rounds\n"
     ]
    },
    {
     "name": "stderr",
     "output_type": "stream",
     "text": [
      "\u001b[32m[I 2022-03-29 12:08:39,210]\u001b[0m Trial 87 finished with value: 0.7465611506944536 and parameters: {'lambda_l1': 0.0002680653352822817, 'lambda_l2': 7.936854630699163e-08, 'num_leaves': 6, 'feature_fraction': 0.9616400791284836, 'bagging_fraction': 0.4364127493635393, 'bagging_freq': 4, 'learning_rate': 0.14145703072263963, 'min_child_samples': 16}. Best is trial 61 with value: 0.7502127697497114.\u001b[0m\n",
      "\u001b[32m[I 2022-03-29 12:08:39,289]\u001b[0m Trial 81 finished with value: 0.7353166593144136 and parameters: {'lambda_l1': 2.0133589539177006e-05, 'lambda_l2': 3.4211608726031587e-07, 'num_leaves': 41, 'feature_fraction': 0.9677469043221628, 'bagging_fraction': 0.43522050164758697, 'bagging_freq': 4, 'learning_rate': 0.14576364787186522, 'min_child_samples': 10}. Best is trial 61 with value: 0.7502127697497114.\u001b[0m\n",
      "\u001b[32m[I 2022-03-29 12:08:39,289]\u001b[0m Trial 82 finished with value: 0.7388145494405605 and parameters: {'lambda_l1': 0.00022884778537647911, 'lambda_l2': 5.14226854796012e-07, 'num_leaves': 39, 'feature_fraction': 0.9676218636978476, 'bagging_fraction': 0.43463420166364347, 'bagging_freq': 4, 'learning_rate': 0.12787296535302956, 'min_child_samples': 12}. Best is trial 61 with value: 0.7502127697497114.\u001b[0m\n"
     ]
    },
    {
     "name": "stdout",
     "output_type": "stream",
     "text": [
      "Did not meet early stopping. Best iteration is:\n",
      "[72]\tvalid_0's auc: 0.810105\n",
      "Did not meet early stopping. Best iteration is:\n",
      "[58]\tvalid_0's auc: 0.802057\n",
      "Did not meet early stopping. Best iteration is:\n",
      "[12]\tvalid_0's auc: 0.795754\n",
      "Training until validation scores don't improve for 100 rounds\n"
     ]
    },
    {
     "name": "stderr",
     "output_type": "stream",
     "text": [
      "\u001b[32m[I 2022-03-29 12:08:39,539]\u001b[0m Trial 83 finished with value: 0.7442797242682281 and parameters: {'lambda_l1': 0.00022846685196937803, 'lambda_l2': 1.8560460865888552e-07, 'num_leaves': 41, 'feature_fraction': 0.9922216758561427, 'bagging_fraction': 0.40519144779379135, 'bagging_freq': 4, 'learning_rate': 0.1434364044648245, 'min_child_samples': 17}. Best is trial 61 with value: 0.7502127697497114.\u001b[0m\n",
      "\u001b[32m[I 2022-03-29 12:08:39,633]\u001b[0m Trial 84 finished with value: 0.7438742363682543 and parameters: {'lambda_l1': 0.0003020684533935536, 'lambda_l2': 8.34146717167042, 'num_leaves': 41, 'feature_fraction': 0.966683896929089, 'bagging_fraction': 0.4016063865412042, 'bagging_freq': 4, 'learning_rate': 0.14989720754390012, 'min_child_samples': 16}. Best is trial 61 with value: 0.7502127697497114.\u001b[0m\n"
     ]
    },
    {
     "name": "stdout",
     "output_type": "stream",
     "text": [
      "Training until validation scores don't improve for 100 rounds\n",
      "Training until validation scores don't improve for 100 rounds\n",
      "Did not meet early stopping. Best iteration is:\n",
      "[18]\tvalid_0's auc: 0.800471\n",
      "Did not meet early stopping. Best iteration is:\n",
      "[61]\tvalid_0's auc: 0.804167\n",
      "Training until validation scores don't improve for 100 rounds\n"
     ]
    },
    {
     "name": "stderr",
     "output_type": "stream",
     "text": [
      "\u001b[32m[I 2022-03-29 12:08:39,728]\u001b[0m Trial 85 finished with value: 0.7450283173143333 and parameters: {'lambda_l1': 0.0004932952443041618, 'lambda_l2': 6.778740771620993, 'num_leaves': 38, 'feature_fraction': 0.8117497124283384, 'bagging_fraction': 0.4303252562737933, 'bagging_freq': 4, 'learning_rate': 0.15425424819353137, 'min_child_samples': 17}. Best is trial 61 with value: 0.7502127697497114.\u001b[0m\n",
      "\u001b[32m[I 2022-03-29 12:08:39,806]\u001b[0m Trial 91 finished with value: 0.5 and parameters: {'lambda_l1': 0.00043136895346212995, 'lambda_l2': 9.426800954245357, 'num_leaves': 2, 'feature_fraction': 0.9436437021911822, 'bagging_fraction': 0.40215728296236897, 'bagging_freq': 3, 'learning_rate': 0.00035025946169542577, 'min_child_samples': 17}. Best is trial 61 with value: 0.7502127697497114.\u001b[0m\n",
      "\u001b[32m[I 2022-03-29 12:08:39,822]\u001b[0m Trial 90 finished with value: 0.7414257132799515 and parameters: {'lambda_l1': 0.0004698727637285961, 'lambda_l2': 9.980379138787816, 'num_leaves': 2, 'feature_fraction': 0.9518475629172405, 'bagging_fraction': 0.4270019553488171, 'bagging_freq': 3, 'learning_rate': 0.26092423634438616, 'min_child_samples': 18}. Best is trial 61 with value: 0.7502127697497114.\u001b[0m\n"
     ]
    },
    {
     "name": "stdout",
     "output_type": "stream",
     "text": [
      "Did not meet early stopping. Best iteration is:\n",
      "[37]\tvalid_0's auc: 0.804339\n",
      "Did not meet early stopping. Best iteration is:\n",
      "[98]\tvalid_0's auc: 0.798176\n",
      "Did not meet early stopping. Best iteration is:\n",
      "[34]\tvalid_0's auc: 0.737335\n",
      "Training until validation scores don't improve for 100 rounds\n",
      "Did not meet early stopping. Best iteration is:\n",
      "[86]\tvalid_0's auc: 0.795696\n"
     ]
    },
    {
     "name": "stderr",
     "output_type": "stream",
     "text": [
      "\u001b[32m[I 2022-03-29 12:08:39,900]\u001b[0m Trial 89 finished with value: 0.5 and parameters: {'lambda_l1': 0.0002873383045508781, 'lambda_l2': 2.056940835829812e-06, 'num_leaves': 6, 'feature_fraction': 0.9619928774904887, 'bagging_fraction': 0.43416115022130924, 'bagging_freq': 4, 'learning_rate': 0.000278534648797464, 'min_child_samples': 18}. Best is trial 61 with value: 0.7502127697497114.\u001b[0m\n",
      "\u001b[32m[I 2022-03-29 12:08:40,072]\u001b[0m Trial 86 finished with value: 0.7457501748945063 and parameters: {'lambda_l1': 0.00015037409508184097, 'lambda_l2': 9.313723402209916, 'num_leaves': 40, 'feature_fraction': 0.9538512610236979, 'bagging_fraction': 0.403361133661808, 'bagging_freq': 4, 'learning_rate': 0.14700475081404174, 'min_child_samples': 17}. Best is trial 61 with value: 0.7502127697497114.\u001b[0m\n"
     ]
    },
    {
     "name": "stdout",
     "output_type": "stream",
     "text": [
      "Did not meet early stopping. Best iteration is:\n",
      "[60]\tvalid_0's auc: 0.805196\n",
      "Training until validation scores don't improve for 100 rounds\n",
      "Did not meet early stopping. Best iteration is:\n",
      "[60]\tvalid_0's auc: 0.811111\n",
      "Training until validation scores don't improve for 100 rounds\n",
      "Training until validation scores don't improve for 100 rounds\n"
     ]
    },
    {
     "name": "stderr",
     "output_type": "stream",
     "text": [
      "\u001b[32m[I 2022-03-29 12:08:40,182]\u001b[0m Trial 88 finished with value: 0.7362412608445734 and parameters: {'lambda_l1': 0.0002786353748742062, 'lambda_l2': 9.526282704605906, 'num_leaves': 40, 'feature_fraction': 0.9587381781639139, 'bagging_fraction': 0.42756180018906853, 'bagging_freq': 4, 'learning_rate': 0.15067577261989049, 'min_child_samples': 17}. Best is trial 61 with value: 0.7502127697497114.\u001b[0m\n",
      "\u001b[32m[I 2022-03-29 12:08:40,308]\u001b[0m Trial 92 finished with value: 0.7484504569536718 and parameters: {'lambda_l1': 0.0005295239320917832, 'lambda_l2': 6.9783533248727e-08, 'num_leaves': 9, 'feature_fraction': 0.8187642229340899, 'bagging_fraction': 0.4227967536312006, 'bagging_freq': 3, 'learning_rate': 0.25949761605746285, 'min_child_samples': 27}. Best is trial 61 with value: 0.7502127697497114.\u001b[0m\n",
      "\u001b[32m[I 2022-03-29 12:08:40,370]\u001b[0m Trial 93 finished with value: 0.7398282691904946 and parameters: {'lambda_l1': 9.566462680440856e-05, 'lambda_l2': 5.360097979094097e-08, 'num_leaves': 9, 'feature_fraction': 0.9319089391903792, 'bagging_fraction': 0.4188983158469724, 'bagging_freq': 3, 'learning_rate': 0.04884996262393806, 'min_child_samples': 27}. Best is trial 61 with value: 0.7502127697497114.\u001b[0m\n"
     ]
    },
    {
     "name": "stdout",
     "output_type": "stream",
     "text": [
      "Training until validation scores don't improve for 100 rounds\n",
      "Training until validation scores don't improve for 100 rounds\n",
      "Did not meet early stopping. Best iteration is:\n",
      "[24]\tvalid_0's auc: 0.805986\n",
      "Training until validation scores don't improve for 100 rounds\n",
      "Did not meet early stopping. Best iteration is:\n",
      "[54]\tvalid_0's auc: 0.808203\n"
     ]
    },
    {
     "name": "stderr",
     "output_type": "stream",
     "text": [
      "\u001b[32m[I 2022-03-29 12:08:40,465]\u001b[0m Trial 94 finished with value: 0.7420851881062824 and parameters: {'lambda_l1': 9.992651387389018e-05, 'lambda_l2': 5.202225575258497e-08, 'num_leaves': 10, 'feature_fraction': 0.9349753196961192, 'bagging_fraction': 0.4192439552937014, 'bagging_freq': 3, 'learning_rate': 0.053958801518757794, 'min_child_samples': 33}. Best is trial 61 with value: 0.7502127697497114.\u001b[0m\n",
      "\u001b[32m[I 2022-03-29 12:08:40,480]\u001b[0m Trial 95 finished with value: 0.7365442627918064 and parameters: {'lambda_l1': 0.00422484602836483, 'lambda_l2': 1.559402760682864e-06, 'num_leaves': 8, 'feature_fraction': 0.9245924311158543, 'bagging_fraction': 0.5166085044630483, 'bagging_freq': 5, 'learning_rate': 0.048489768003613945, 'min_child_samples': 26}. Best is trial 61 with value: 0.7502127697497114.\u001b[0m\n",
      "\u001b[32m[I 2022-03-29 12:08:40,543]\u001b[0m Trial 97 finished with value: 0.743847500902322 and parameters: {'lambda_l1': 7.623056281849154e-05, 'lambda_l2': 5.657908573323813e-08, 'num_leaves': 11, 'feature_fraction': 0.9343380021031438, 'bagging_fraction': 0.5164708090950088, 'bagging_freq': 5, 'learning_rate': 0.05054965176206394, 'min_child_samples': 25}. Best is trial 61 with value: 0.7502127697497114.\u001b[0m\n",
      "\u001b[32m[I 2022-03-29 12:08:40,606]\u001b[0m Trial 99 finished with value: 0.7389281751707729 and parameters: {'lambda_l1': 8.602703973536064e-05, 'lambda_l2': 5.7086063539426185e-08, 'num_leaves': 14, 'feature_fraction': 0.9286309162080632, 'bagging_fraction': 0.492430316830642, 'bagging_freq': 3, 'learning_rate': 0.09248369886652413, 'min_child_samples': 27}. Best is trial 61 with value: 0.7502127697497114.\u001b[0m\n",
      "\u001b[32m[I 2022-03-29 12:08:40,606]\u001b[0m Trial 98 finished with value: 0.7420985558392484 and parameters: {'lambda_l1': 6.75292950359175e-05, 'lambda_l2': 3.528960151238067e-08, 'num_leaves': 15, 'feature_fraction': 0.933222224313713, 'bagging_fraction': 0.4169242691952729, 'bagging_freq': 4, 'learning_rate': 0.050119939182563036, 'min_child_samples': 28}. Best is trial 61 with value: 0.7502127697497114.\u001b[0m\n",
      "\u001b[32m[I 2022-03-29 12:08:40,621]\u001b[0m Trial 96 finished with value: 0.7447988378984143 and parameters: {'lambda_l1': 9.466602806797391e-05, 'lambda_l2': 3.702701651185528e-06, 'num_leaves': 18, 'feature_fraction': 0.8055427353374135, 'bagging_fraction': 0.8768361483364532, 'bagging_freq': 5, 'learning_rate': 0.0547405306575323, 'min_child_samples': 25}. Best is trial 61 with value: 0.7502127697497114.\u001b[0m\n"
     ]
    },
    {
     "name": "stdout",
     "output_type": "stream",
     "text": [
      "Did not meet early stopping. Best iteration is:\n",
      "[42]\tvalid_0's auc: 0.808246\n",
      "Did not meet early stopping. Best iteration is:\n",
      "[18]\tvalid_0's auc: 0.811839\n",
      "Did not meet early stopping. Best iteration is:\n",
      "[35]\tvalid_0's auc: 0.81096\n",
      "Did not meet early stopping. Best iteration is:\n",
      "[72]\tvalid_0's auc: 0.812979\n",
      "Did not meet early stopping. Best iteration is:\n",
      "[85]\tvalid_0's auc: 0.815302\n",
      "Did not meet early stopping. Best iteration is:\n",
      "[13]\tvalid_0's auc: 0.811154\n",
      "{'lambda_l1': 9.126869061068554e-07, 'lambda_l2': 3.4302831982437234e-06, 'num_leaves': 25, 'feature_fraction': 0.5936924717853151, 'bagging_fraction': 0.4657134703428757, 'bagging_freq': 7, 'learning_rate': 0.035014999344003137, 'min_child_samples': 23} -> 0.7502127697497114\n",
      "[LightGBM] [Warning] feature_fraction is set=0.5936924717853151, colsample_bytree=1.0 will be ignored. Current value: feature_fraction=0.5936924717853151\n",
      "[LightGBM] [Warning] lambda_l1 is set=9.126869061068554e-07, reg_alpha=0.0 will be ignored. Current value: lambda_l1=9.126869061068554e-07\n",
      "[LightGBM] [Warning] bagging_fraction is set=0.4657134703428757, subsample=1.0 will be ignored. Current value: bagging_fraction=0.4657134703428757\n",
      "[LightGBM] [Warning] lambda_l2 is set=3.4302831982437234e-06, reg_lambda=0.0 will be ignored. Current value: lambda_l2=3.4302831982437234e-06\n",
      "[LightGBM] [Warning] bagging_freq is set=7, subsample_freq=0 will be ignored. Current value: bagging_freq=7\n",
      "Training until validation scores don't improve for 100 rounds\n",
      "Did not meet early stopping. Best iteration is:\n",
      "[97]\tvalid_0's auc: 0.808368\tvalid_0's binary_logloss: 0.50918\n"
     ]
    }
   ],
   "source": [
    "clf_users = get_best_clf(df_train_users)"
   ]
  },
  {
   "cell_type": "code",
   "execution_count": 11,
   "id": "e0af4956",
   "metadata": {
    "ExecuteTime": {
     "end_time": "2022-03-29T10:08:41.327551Z",
     "start_time": "2022-03-29T10:08:40.857245Z"
    }
   },
   "outputs": [
    {
     "name": "stdout",
     "output_type": "stream",
     "text": [
      "AUROC: 0.7433759208103131\n",
      "Accuracy: 0.7557058326289096\n"
     ]
    },
    {
     "data": {
      "image/png": "[encoded data removed]",
      "text/plain": [
       "<Figure size 432x288 with 2 Axes>"
      ]
     },
     "metadata": {
      "needs_background": "light"
     },
     "output_type": "display_data"
    },
    {
     "data": {
      "image/png": "[encoded data removed]",
      "text/plain": [
       "<Figure size 432x288 with 1 Axes>"
      ]
     },
     "metadata": {
      "needs_background": "light"
     },
     "output_type": "display_data"
    }
   ],
   "source": [
    "eval_clf(clf_users, df_test_users)"
   ]
  },
  {
   "cell_type": "markdown",
   "id": "4592283a",
   "metadata": {},
   "source": [
    "## Feature engineering"
   ]
  },
  {
   "cell_type": "code",
   "execution_count": 12,
   "id": "caef874a",
   "metadata": {
    "ExecuteTime": {
     "end_time": "2022-03-29T10:08:41.359240Z",
     "start_time": "2022-03-29T10:08:41.327551Z"
    }
   },
   "outputs": [],
   "source": [
    "def add_avg(df: pd.DataFrame):\n",
    "    df['avg_daily_followers'] = np.round(df['followers_count'] / df['created_at_date'], 3)\n",
    "    df['avg_daily_friends'] = np.round(df['friends_count'] / df['created_at_date'], 3)\n",
    "    df['avg_daily_statuses'] = np.round(df['statuses_count'] / df['created_at_date'], 3)\n",
    "    return df\n",
    "\n",
    "df_train_users_fe = add_avg(df_train_users)\n",
    "df_test_users_fe = add_avg(df_test_users)"
   ]
  },
  {
   "cell_type": "code",
   "execution_count": 13,
   "id": "634e19e8",
   "metadata": {
    "ExecuteTime": {
     "end_time": "2022-03-29T10:09:00.146366Z",
     "start_time": "2022-03-29T10:08:41.359240Z"
    },
    "collapsed": true
   },
   "outputs": [
    {
     "name": "stderr",
     "output_type": "stream",
     "text": [
      "\u001b[32m[I 2022-03-29 12:08:41,359]\u001b[0m A new study created in memory with name: no-name-92c535bb-b9b2-4350-91fa-59b80bb17ac5\u001b[0m\n"
     ]
    },
    {
     "name": "stdout",
     "output_type": "stream",
     "text": [
      "Training until validation scores don't improve for 100 rounds\n",
      "Training until validation scores don't improve for 100 roundsTraining until validation scores don't improve for 100 rounds\n",
      "Training until validation scores don't improve for 100 rounds\n",
      "Training until validation scores don't improve for 100 rounds\n",
      "\n",
      "Training until validation scores don't improve for 100 rounds\n",
      "Training until validation scores don't improve for 100 rounds\n",
      "Training until validation scores don't improve for 100 rounds\n"
     ]
    },
    {
     "name": "stderr",
     "output_type": "stream",
     "text": [
      "\u001b[32m[I 2022-03-29 12:08:42,111]\u001b[0m Trial 6 finished with value: 0.7242949634838094 and parameters: {'lambda_l1': 0.004620618935001767, 'lambda_l2': 1.6475686169290964, 'num_leaves': 118, 'feature_fraction': 0.6294360014017264, 'bagging_fraction': 0.6324940917884506, 'bagging_freq': 6, 'learning_rate': 0.004720524535626365, 'min_child_samples': 95}. Best is trial 6 with value: 0.7242949634838094.\u001b[0m\n"
     ]
    },
    {
     "name": "stdout",
     "output_type": "stream",
     "text": [
      "Did not meet early stopping. Best iteration is:\n",
      "[94]\tvalid_0's auc: 0.80758\n",
      "Training until validation scores don't improve for 100 rounds\n"
     ]
    },
    {
     "name": "stderr",
     "output_type": "stream",
     "text": [
      "\u001b[32m[I 2022-03-29 12:08:42,378]\u001b[0m Trial 5 finished with value: 0.5 and parameters: {'lambda_l1': 1.0991236859583587e-07, 'lambda_l2': 0.29651681968872445, 'num_leaves': 35, 'feature_fraction': 0.7490154693646025, 'bagging_fraction': 0.5676291327696651, 'bagging_freq': 3, 'learning_rate': 0.00041774040122335504, 'min_child_samples': 65}. Best is trial 6 with value: 0.7242949634838094.\u001b[0m\n",
      "\u001b[32m[I 2022-03-29 12:08:42,550]\u001b[0m Trial 4 finished with value: 0.7464341572312752 and parameters: {'lambda_l1': 0.0004404901571022428, 'lambda_l2': 0.5363874954047085, 'num_leaves': 119, 'feature_fraction': 0.5254476887315627, 'bagging_fraction': 0.9342733392074439, 'bagging_freq': 4, 'learning_rate': 0.042567107067353276, 'min_child_samples': 88}. Best is trial 4 with value: 0.7464341572312752.\u001b[0m\n"
     ]
    },
    {
     "name": "stdout",
     "output_type": "stream",
     "text": [
      "Did not meet early stopping. Best iteration is:\n",
      "[46]\tvalid_0's auc: 0.807984\n",
      "Training until validation scores don't improve for 100 rounds\n",
      "Did not meet early stopping. Best iteration is:\n",
      "[66]\tvalid_0's auc: 0.81395\n"
     ]
    },
    {
     "name": "stderr",
     "output_type": "stream",
     "text": [
      "\u001b[32m[I 2022-03-29 12:08:42,582]\u001b[0m Trial 0 finished with value: 0.737609225518111 and parameters: {'lambda_l1': 0.00013501194539407857, 'lambda_l2': 2.553879163301301, 'num_leaves': 152, 'feature_fraction': 0.6690631665183484, 'bagging_fraction': 0.9734269999571391, 'bagging_freq': 7, 'learning_rate': 0.012015183327325029, 'min_child_samples': 74}. Best is trial 4 with value: 0.7464341572312752.\u001b[0m\n"
     ]
    },
    {
     "name": "stdout",
     "output_type": "stream",
     "text": [
      "Did not meet early stopping. Best iteration is:\n",
      "[80]\tvalid_0's auc: 0.812477\n",
      "Training until validation scores don't improve for 100 rounds\n",
      "Training until validation scores don't improve for 100 rounds\n"
     ]
    },
    {
     "name": "stderr",
     "output_type": "stream",
     "text": [
      "\u001b[32m[I 2022-03-29 12:08:42,770]\u001b[0m Trial 1 finished with value: 0.5 and parameters: {'lambda_l1': 0.0011631608911674386, 'lambda_l2': 0.06674272586349538, 'num_leaves': 43, 'feature_fraction': 0.9150529036875965, 'bagging_fraction': 0.9469118159764436, 'bagging_freq': 3, 'learning_rate': 1.7454161821249074e-05, 'min_child_samples': 5}. Best is trial 4 with value: 0.7464341572312752.\u001b[0m\n"
     ]
    },
    {
     "name": "stdout",
     "output_type": "stream",
     "text": [
      "Did not meet early stopping. Best iteration is:\n",
      "[19]\tvalid_0's auc: 0.813206\n",
      "Training until validation scores don't improve for 100 rounds\n"
     ]
    },
    {
     "name": "stderr",
     "output_type": "stream",
     "text": [
      "\u001b[32m[I 2022-03-29 12:08:43,131]\u001b[0m Trial 8 finished with value: 0.5 and parameters: {'lambda_l1': 0.00014222874376651913, 'lambda_l2': 0.0005878008502667156, 'num_leaves': 113, 'feature_fraction': 0.9628360873754144, 'bagging_fraction': 0.8670546196601324, 'bagging_freq': 3, 'learning_rate': 0.000303802632412301, 'min_child_samples': 88}. Best is trial 4 with value: 0.7464341572312752.\u001b[0m\n",
      "\u001b[32m[I 2022-03-29 12:08:43,159]\u001b[0m Trial 2 finished with value: 0.6428431385654639 and parameters: {'lambda_l1': 4.345599661035604e-08, 'lambda_l2': 0.00038634903637740664, 'num_leaves': 78, 'feature_fraction': 0.4523142832645227, 'bagging_fraction': 0.9954771435186269, 'bagging_freq': 2, 'learning_rate': 0.003471870602507278, 'min_child_samples': 35}. Best is trial 4 with value: 0.7464341572312752.\u001b[0m\n"
     ]
    },
    {
     "name": "stdout",
     "output_type": "stream",
     "text": [
      "Did not meet early stopping. Best iteration is:\n",
      "[51]\tvalid_0's auc: 0.809748\n",
      "Did not meet early stopping. Best iteration is:\n",
      "[54]\tvalid_0's auc: 0.80975\n",
      "Training until validation scores don't improve for 100 rounds\n",
      "Training until validation scores don't improve for 100 rounds\n"
     ]
    },
    {
     "name": "stderr",
     "output_type": "stream",
     "text": [
      "\u001b[32m[I 2022-03-29 12:08:43,460]\u001b[0m Trial 7 finished with value: 0.5 and parameters: {'lambda_l1': 0.10343947036356634, 'lambda_l2': 4.1134824341431523e-07, 'num_leaves': 111, 'feature_fraction': 0.9592651687342861, 'bagging_fraction': 0.7972907890099128, 'bagging_freq': 7, 'learning_rate': 0.00010849741012753872, 'min_child_samples': 36}. Best is trial 4 with value: 0.7464341572312752.\u001b[0m\n"
     ]
    },
    {
     "name": "stdout",
     "output_type": "stream",
     "text": [
      "Did not meet early stopping. Best iteration is:\n",
      "[84]\tvalid_0's auc: 0.806348\n",
      "Training until validation scores don't improve for 100 rounds\n"
     ]
    },
    {
     "name": "stderr",
     "output_type": "stream",
     "text": [
      "\u001b[32m[I 2022-03-29 12:08:43,930]\u001b[0m Trial 3 finished with value: 0.7394495167564533 and parameters: {'lambda_l1': 3.384877343575773e-08, 'lambda_l2': 6.701407338411476e-06, 'num_leaves': 205, 'feature_fraction': 0.6453173480930776, 'bagging_fraction': 0.6445520003875019, 'bagging_freq': 3, 'learning_rate': 0.062013152978501115, 'min_child_samples': 25}. Best is trial 4 with value: 0.7464341572312752.\u001b[0m\n",
      "\u001b[32m[I 2022-03-29 12:08:43,962]\u001b[0m Trial 15 finished with value: 0.5 and parameters: {'lambda_l1': 0.000450024926831746, 'lambda_l2': 1.663731570151576e-08, 'num_leaves': 156, 'feature_fraction': 0.9850751098612244, 'bagging_fraction': 0.40931413513847875, 'bagging_freq': 5, 'learning_rate': 1.0136790747302441e-05, 'min_child_samples': 88}. Best is trial 4 with value: 0.7464341572312752.\u001b[0m\n"
     ]
    },
    {
     "name": "stdout",
     "output_type": "stream",
     "text": [
      "Did not meet early stopping. Best iteration is:\n",
      "[78]\tvalid_0's auc: 0.807552\n",
      "Did not meet early stopping. Best iteration is:\n",
      "[100]\tvalid_0's auc: 0.8037\n",
      "Training until validation scores don't improve for 100 rounds\n",
      "Did not meet early stopping. Best iteration is:\n",
      "[78]\tvalid_0's auc: 0.808552\n",
      "Training until validation scores don't improve for 100 rounds"
     ]
    },
    {
     "name": "stderr",
     "output_type": "stream",
     "text": [
      "\u001b[32m[I 2022-03-29 12:08:44,072]\u001b[0m Trial 13 finished with value: 0.7336278690496878 and parameters: {'lambda_l1': 2.731274809129348e-07, 'lambda_l2': 7.531411999449139, 'num_leaves': 227, 'feature_fraction': 0.46847334167932175, 'bagging_fraction': 0.7170876591882349, 'bagging_freq': 7, 'learning_rate': 0.013410530460648733, 'min_child_samples': 44}. Best is trial 4 with value: 0.7464341572312752.\u001b[0m\n",
      "\u001b[32m[I 2022-03-29 12:08:44,181]\u001b[0m Trial 14 finished with value: 0.5 and parameters: {'lambda_l1': 0.0001483712888398169, 'lambda_l2': 0.00017374734473644653, 'num_leaves': 210, 'feature_fraction': 0.4994573977016676, 'bagging_fraction': 0.7315049982047099, 'bagging_freq': 2, 'learning_rate': 1.4055043188948269e-05, 'min_child_samples': 74}. Best is trial 4 with value: 0.7464341572312752.\u001b[0m\n"
     ]
    },
    {
     "name": "stdout",
     "output_type": "stream",
     "text": [
      "\n",
      "Did not meet early stopping. Best iteration is:\n",
      "[36]\tvalid_0's auc: 0.81091\n",
      "Training until validation scores don't improve for 100 rounds\n"
     ]
    },
    {
     "name": "stderr",
     "output_type": "stream",
     "text": [
      "\u001b[32m[I 2022-03-29 12:08:44,448]\u001b[0m Trial 10 finished with value: 0.7323846698838344 and parameters: {'lambda_l1': 3.4738742983741525e-08, 'lambda_l2': 7.876712502152453e-06, 'num_leaves': 89, 'feature_fraction': 0.5293041468202111, 'bagging_fraction': 0.6224184624235067, 'bagging_freq': 1, 'learning_rate': 0.009281816496656617, 'min_child_samples': 14}. Best is trial 4 with value: 0.7464341572312752.\u001b[0m\n"
     ]
    },
    {
     "name": "stdout",
     "output_type": "stream",
     "text": [
      "Training until validation scores don't improve for 100 rounds\n",
      "Did not meet early stopping. Best iteration is:\n",
      "[48]\tvalid_0's auc: 0.809763\n",
      "Did not meet early stopping. Best iteration is:\n",
      "[42]\tvalid_0's auc: 0.810244\n"
     ]
    },
    {
     "name": "stderr",
     "output_type": "stream",
     "text": [
      "\u001b[32m[I 2022-03-29 12:08:44,511]\u001b[0m Trial 9 finished with value: 0.5 and parameters: {'lambda_l1': 1.2361709964128935e-05, 'lambda_l2': 1.3221283943084983e-05, 'num_leaves': 107, 'feature_fraction': 0.49085465264331957, 'bagging_fraction': 0.7613331699591293, 'bagging_freq': 3, 'learning_rate': 2.5194878763754238e-05, 'min_child_samples': 30}. Best is trial 4 with value: 0.7464341572312752.\u001b[0m\n"
     ]
    },
    {
     "name": "stdout",
     "output_type": "stream",
     "text": [
      "Training until validation scores don't improve for 100 rounds\n",
      "Training until validation scores don't improve for 100 rounds\n"
     ]
    },
    {
     "name": "stderr",
     "output_type": "stream",
     "text": [
      "\u001b[32m[I 2022-03-29 12:08:44,903]\u001b[0m Trial 18 finished with value: 0.7522535769825462 and parameters: {'lambda_l1': 8.66686612240374, 'lambda_l2': 7.3785954215409375e-06, 'num_leaves': 218, 'feature_fraction': 0.5664097115631022, 'bagging_fraction': 0.529165611098365, 'bagging_freq': 1, 'learning_rate': 0.2755117823214519, 'min_child_samples': 17}. Best is trial 18 with value: 0.7522535769825462.\u001b[0m\n"
     ]
    },
    {
     "name": "stdout",
     "output_type": "stream",
     "text": [
      "Did not meet early stopping. Best iteration is:\n",
      "[17]\tvalid_0's auc: 0.811687\n",
      "Training until validation scores don't improve for 100 rounds\n"
     ]
    },
    {
     "name": "stderr",
     "output_type": "stream",
     "text": [
      "\u001b[32m[I 2022-03-29 12:08:45,201]\u001b[0m Trial 12 finished with value: 0.5 and parameters: {'lambda_l1': 0.35338401141253034, 'lambda_l2': 0.003522780479875015, 'num_leaves': 200, 'feature_fraction': 0.5435545978919445, 'bagging_fraction': 0.8858508563353804, 'bagging_freq': 3, 'learning_rate': 0.0003097340772484271, 'min_child_samples': 28}. Best is trial 18 with value: 0.7522535769825462.\u001b[0m\n",
      "\u001b[32m[I 2022-03-29 12:08:45,279]\u001b[0m Trial 17 finished with value: 0.7414012057695136 and parameters: {'lambda_l1': 1.47892808270445, 'lambda_l2': 0.01013035036781603, 'num_leaves': 238, 'feature_fraction': 0.42661457741660647, 'bagging_fraction': 0.771191106531032, 'bagging_freq': 1, 'learning_rate': 0.1192977726454476, 'min_child_samples': 65}. Best is trial 18 with value: 0.7522535769825462.\u001b[0m\n"
     ]
    },
    {
     "name": "stdout",
     "output_type": "stream",
     "text": [
      "Did not meet early stopping. Best iteration is:\n",
      "[41]\tvalid_0's auc: 0.810477\n",
      "Did not meet early stopping. Best iteration is:\n",
      "[24]\tvalid_0's auc: 0.802698\n",
      "Training until validation scores don't improve for 100 rounds\n"
     ]
    },
    {
     "name": "stderr",
     "output_type": "stream",
     "text": [
      "\u001b[32m[I 2022-03-29 12:08:45,530]\u001b[0m Trial 21 finished with value: 0.7314756640421352 and parameters: {'lambda_l1': 1.5376861409851112, 'lambda_l2': 0.011794442932700266, 'num_leaves': 191, 'feature_fraction': 0.7838553378057805, 'bagging_fraction': 0.5236999819225009, 'bagging_freq': 5, 'learning_rate': 0.22098245582379922, 'min_child_samples': 55}. Best is trial 18 with value: 0.7522535769825462.\u001b[0m\n"
     ]
    },
    {
     "name": "stdout",
     "output_type": "stream",
     "text": [
      "Training until validation scores don't improve for 100 rounds\n",
      "Did not meet early stopping. Best iteration is:\n",
      "[81]\tvalid_0's auc: 0.805406\n",
      "Did not meet early stopping. Best iteration is:\n",
      "[93]\tvalid_0's auc: 0.808813\n"
     ]
    },
    {
     "name": "stderr",
     "output_type": "stream",
     "text": [
      "\u001b[32m[I 2022-03-29 12:08:45,608]\u001b[0m Trial 16 finished with value: 0.6522384268851845 and parameters: {'lambda_l1': 0.01708053968739896, 'lambda_l2': 1.3012523081879303e-05, 'num_leaves': 100, 'feature_fraction': 0.7386617779703981, 'bagging_fraction': 0.570893564730066, 'bagging_freq': 3, 'learning_rate': 0.0017790933915927197, 'min_child_samples': 36}. Best is trial 18 with value: 0.7522535769825462.\u001b[0m\n",
      "\u001b[32m[I 2022-03-29 12:08:45,734]\u001b[0m Trial 11 finished with value: 0.5 and parameters: {'lambda_l1': 0.47596284664230193, 'lambda_l2': 1.100665087347373e-06, 'num_leaves': 244, 'feature_fraction': 0.5611562764814467, 'bagging_fraction': 0.732404268606546, 'bagging_freq': 6, 'learning_rate': 0.00022404304850127512, 'min_child_samples': 16}. Best is trial 18 with value: 0.7522535769825462.\u001b[0m\n"
     ]
    },
    {
     "name": "stdout",
     "output_type": "stream",
     "text": [
      "Did not meet early stopping. Best iteration is:\n",
      "[88]\tvalid_0's auc: 0.80911\n",
      "Training until validation scores don't improve for 100 rounds\n",
      "Training until validation scores don't improve for 100 rounds\n",
      "Training until validation scores don't improve for 100 rounds\n"
     ]
    },
    {
     "name": "stderr",
     "output_type": "stream",
     "text": [
      "\u001b[32m[I 2022-03-29 12:08:45,985]\u001b[0m Trial 22 finished with value: 0.741211829552493 and parameters: {'lambda_l1': 0.3024425991601004, 'lambda_l2': 0.007511855176274627, 'num_leaves': 251, 'feature_fraction': 0.5811110935340533, 'bagging_fraction': 0.45084563257284715, 'bagging_freq': 5, 'learning_rate': 0.2941911942465986, 'min_child_samples': 55}. Best is trial 18 with value: 0.7522535769825462.\u001b[0m\n",
      "\u001b[32m[I 2022-03-29 12:08:46,079]\u001b[0m Trial 24 finished with value: 0.7487801943668373 and parameters: {'lambda_l1': 8.758600598517223, 'lambda_l2': 1.7903626911552006e-07, 'num_leaves': 167, 'feature_fraction': 0.7587758759470303, 'bagging_fraction': 0.4785504259448031, 'bagging_freq': 5, 'learning_rate': 0.20017000300414173, 'min_child_samples': 52}. Best is trial 18 with value: 0.7522535769825462.\u001b[0m\n",
      "\u001b[32m[I 2022-03-29 12:08:46,110]\u001b[0m Trial 23 finished with value: 0.7378008296906262 and parameters: {'lambda_l1': 7.09599236248925, 'lambda_l2': 0.01462426593189423, 'num_leaves': 253, 'feature_fraction': 0.7733705634256972, 'bagging_fraction': 0.46591383395171715, 'bagging_freq': 5, 'learning_rate': 0.25374241913687823, 'min_child_samples': 60}. Best is trial 18 with value: 0.7522535769825462.\u001b[0m\n"
     ]
    },
    {
     "name": "stdout",
     "output_type": "stream",
     "text": [
      "Did not meet early stopping. Best iteration is:\n",
      "[7]\tvalid_0's auc: 0.799066\n",
      "Did not meet early stopping. Best iteration is:\n",
      "[31]\tvalid_0's auc: 0.806162Training until validation scores don't improve for 100 rounds\n",
      "\n",
      "Did not meet early stopping. Best iteration is:\n",
      "[30]\tvalid_0's auc: 0.799514\n"
     ]
    },
    {
     "name": "stderr",
     "output_type": "stream",
     "text": [
      "\u001b[32m[I 2022-03-29 12:08:46,330]\u001b[0m Trial 26 finished with value: 0.7471693825444143 and parameters: {'lambda_l1': 8.875242394777695, 'lambda_l2': 1.879322349654693e-07, 'num_leaves': 256, 'feature_fraction': 0.586737974036183, 'bagging_fraction': 0.4392283888913842, 'bagging_freq': 5, 'learning_rate': 0.05744523136132586, 'min_child_samples': 51}. Best is trial 18 with value: 0.7522535769825462.\u001b[0m\n",
      "\u001b[32m[I 2022-03-29 12:08:46,408]\u001b[0m Trial 27 finished with value: 0.7466369011812621 and parameters: {'lambda_l1': 9.100843767973503, 'lambda_l2': 4.486363080806433e-08, 'num_leaves': 160, 'feature_fraction': 0.597876339514343, 'bagging_fraction': 0.4410526797125602, 'bagging_freq': 4, 'learning_rate': 0.03784983787976183, 'min_child_samples': 50}. Best is trial 18 with value: 0.7522535769825462.\u001b[0m\n"
     ]
    },
    {
     "name": "stdout",
     "output_type": "stream",
     "text": [
      "Training until validation scores don't improve for 100 rounds\n",
      "Training until validation scores don't improve for 100 rounds\n",
      "Did not meet early stopping. Best iteration is:\n",
      "[75]\tvalid_0's auc: 0.809361\n",
      "Did not meet early stopping. Best iteration is:\n",
      "[80]\tvalid_0's auc: 0.811006\n"
     ]
    },
    {
     "name": "stderr",
     "output_type": "stream",
     "text": [
      "\u001b[32m[I 2022-03-29 12:08:46,643]\u001b[0m Trial 20 finished with value: 0.7351005476314605 and parameters: {'lambda_l1': 3.3793266716576036e-06, 'lambda_l2': 0.016271660272478693, 'num_leaves': 188, 'feature_fraction': 0.777204089587735, 'bagging_fraction': 0.4874773640539301, 'bagging_freq': 4, 'learning_rate': 0.1990822742413111, 'min_child_samples': 23}. Best is trial 18 with value: 0.7522535769825462.\u001b[0m\n"
     ]
    },
    {
     "name": "stdout",
     "output_type": "stream",
     "text": [
      "Training until validation scores don't improve for 100 rounds\n",
      "Training until validation scores don't improve for 100 rounds\n",
      "Did not meet early stopping. Best iteration is:\n",
      "[7]\tvalid_0's auc: 0.796196\n"
     ]
    },
    {
     "name": "stderr",
     "output_type": "stream",
     "text": [
      "\u001b[32m[I 2022-03-29 12:08:46,800]\u001b[0m Trial 25 finished with value: 0.7448500808747844 and parameters: {'lambda_l1': 0.01712593347715578, 'lambda_l2': 3.1608444342305244e-07, 'num_leaves': 252, 'feature_fraction': 0.5616508871737609, 'bagging_fraction': 0.45739664490213144, 'bagging_freq': 5, 'learning_rate': 0.03769052778395129, 'min_child_samples': 50}. Best is trial 18 with value: 0.7522535769825462.\u001b[0m\n",
      "\u001b[32m[I 2022-03-29 12:08:46,926]\u001b[0m Trial 28 finished with value: 0.7465990259378579 and parameters: {'lambda_l1': 6.4820800989308704, 'lambda_l2': 0.23512053872427954, 'num_leaves': 165, 'feature_fraction': 0.4308020648454397, 'bagging_fraction': 0.8157327440145671, 'bagging_freq': 1, 'learning_rate': 0.060339015161778274, 'min_child_samples': 78}. Best is trial 18 with value: 0.7522535769825462.\u001b[0m\n"
     ]
    },
    {
     "name": "stdout",
     "output_type": "stream",
     "text": [
      "Training until validation scores don't improve for 100 rounds\n",
      "Did not meet early stopping. Best iteration is:\n",
      "[91]\tvalid_0's auc: 0.811555\n",
      "Training until validation scores don't improve for 100 rounds\n",
      "Did not meet early stopping. Best iteration is:\n",
      "[91]\tvalid_0's auc: 0.810744\n",
      "Did not meet early stopping. Best iteration is:\n",
      "[100]\tvalid_0's auc: 0.807967\n"
     ]
    },
    {
     "name": "stderr",
     "output_type": "stream",
     "text": [
      "\u001b[32m[I 2022-03-29 12:08:46,989]\u001b[0m Trial 29 finished with value: 0.7462692885246924 and parameters: {'lambda_l1': 9.377302806191777, 'lambda_l2': 2.778091798689934e-08, 'num_leaves': 169, 'feature_fraction': 0.8460286109598765, 'bagging_fraction': 0.5131014389718833, 'bagging_freq': 4, 'learning_rate': 0.04764478847862126, 'min_child_samples': 46}. Best is trial 18 with value: 0.7522535769825462.\u001b[0m\n",
      "\u001b[32m[I 2022-03-29 12:08:47,160]\u001b[0m Trial 31 finished with value: 0.7456098136983614 and parameters: {'lambda_l1': 8.325819555604072, 'lambda_l2': 2.2210166642497802e-08, 'num_leaves': 172, 'feature_fraction': 0.8659521959345411, 'bagging_fraction': 0.4948860738831624, 'bagging_freq': 6, 'learning_rate': 0.03575917844437092, 'min_child_samples': 47}. Best is trial 18 with value: 0.7522535769825462.\u001b[0m\n"
     ]
    },
    {
     "name": "stdout",
     "output_type": "stream",
     "text": [
      "Training until validation scores don't improve for 100 rounds\n",
      "Training until validation scores don't improve for 100 rounds\n",
      "Did not meet early stopping. Best iteration is:\n",
      "[97]\tvalid_0's auc: 0.805836\n"
     ]
    },
    {
     "name": "stderr",
     "output_type": "stream",
     "text": [
      "\u001b[32m[I 2022-03-29 12:08:47,380]\u001b[0m Trial 32 finished with value: 0.738941542903739 and parameters: {'lambda_l1': 0.036267685915140305, 'lambda_l2': 1.3719003812856068e-07, 'num_leaves': 175, 'feature_fraction': 0.7027028558959699, 'bagging_fraction': 0.5316867830837394, 'bagging_freq': 6, 'learning_rate': 0.10065524784710356, 'min_child_samples': 77}. Best is trial 18 with value: 0.7522535769825462.\u001b[0m\n"
     ]
    },
    {
     "name": "stdout",
     "output_type": "stream",
     "text": [
      "Training until validation scores don't improve for 100 rounds\n",
      "Did not meet early stopping. Best iteration is:\n",
      "[35]\tvalid_0's auc: 0.808373\n",
      "Training until validation scores don't improve for 100 rounds\n"
     ]
    },
    {
     "name": "stderr",
     "output_type": "stream",
     "text": [
      "\u001b[32m[I 2022-03-29 12:08:47,631]\u001b[0m Trial 30 finished with value: 0.7455474309445196 and parameters: {'lambda_l1': 2.43837735384864e-06, 'lambda_l2': 3.0919277343728914e-08, 'num_leaves': 165, 'feature_fraction': 0.8450909894760462, 'bagging_fraction': 0.5316810106411778, 'bagging_freq': 4, 'learning_rate': 0.06204635455871152, 'min_child_samples': 44}. Best is trial 18 with value: 0.7522535769825462.\u001b[0m\n",
      "\u001b[32m[I 2022-03-29 12:08:47,710]\u001b[0m Trial 34 finished with value: 0.7419091796222279 and parameters: {'lambda_l1': 0.06077090551669663, 'lambda_l2': 7.733966369390788e-08, 'num_leaves': 175, 'feature_fraction': 0.8446525431060757, 'bagging_fraction': 0.5201810133086704, 'bagging_freq': 6, 'learning_rate': 0.09759202808809016, 'min_child_samples': 75}. Best is trial 18 with value: 0.7522535769825462.\u001b[0m\n",
      "\u001b[32m[I 2022-03-29 12:08:47,788]\u001b[0m Trial 19 finished with value: 0.7278997954736857 and parameters: {'lambda_l1': 3.2683014645953197e-06, 'lambda_l2': 2.362010663104008e-06, 'num_leaves': 188, 'feature_fraction': 0.5709431024507369, 'bagging_fraction': 0.5251526608298757, 'bagging_freq': 4, 'learning_rate': 0.24289311067446537, 'min_child_samples': 15}. Best is trial 18 with value: 0.7522535769825462.\u001b[0m\n"
     ]
    },
    {
     "name": "stdout",
     "output_type": "stream",
     "text": [
      "Did not meet early stopping. Best iteration is:\n",
      "[60]\tvalid_0's auc: 0.808448\n",
      "Did not meet early stopping. Best iteration is:\n",
      "[92]\tvalid_0's auc: 0.811426\n",
      "Did not meet early stopping. Best iteration is:\n",
      "[7]\tvalid_0's auc: 0.78263\n",
      "Training until validation scores don't improve for 100 rounds\n",
      "Training until validation scores don't improve for 100 rounds\n",
      "Training until validation scores don't improve for 100 rounds\n",
      "Did not meet early stopping. Best iteration is:\n",
      "[85]\tvalid_0's auc: 0.806719\n"
     ]
    },
    {
     "name": "stderr",
     "output_type": "stream",
     "text": [
      "\u001b[32m[I 2022-03-29 12:08:48,086]\u001b[0m Trial 33 finished with value: 0.7480204615432602 and parameters: {'lambda_l1': 0.02925860758940484, 'lambda_l2': 2.6662091536174117e-07, 'num_leaves': 174, 'feature_fraction': 0.6962095876598026, 'bagging_fraction': 0.5201751098277501, 'bagging_freq': 6, 'learning_rate': 0.08255664332931885, 'min_child_samples': 44}. Best is trial 18 with value: 0.7522535769825462.\u001b[0m\n",
      "\u001b[32m[I 2022-03-29 12:08:48,243]\u001b[0m Trial 35 finished with value: 0.7446094616813934 and parameters: {'lambda_l1': 1.721454062625542, 'lambda_l2': 7.403933041188353e-08, 'num_leaves': 220, 'feature_fraction': 0.8450327877612971, 'bagging_fraction': 0.5159669466135024, 'bagging_freq': 6, 'learning_rate': 0.0912683818718949, 'min_child_samples': 44}. Best is trial 18 with value: 0.7522535769825462.\u001b[0m\n",
      "\u001b[32m[I 2022-03-29 12:08:48,352]\u001b[0m Trial 38 finished with value: 0.7450394570918052 and parameters: {'lambda_l1': 1.4430065494465782, 'lambda_l2': 1.7070972431407978e-06, 'num_leaves': 223, 'feature_fraction': 0.6809888210806905, 'bagging_fraction': 0.40427628910498054, 'bagging_freq': 4, 'learning_rate': 0.019347724845917076, 'min_child_samples': 41}. Best is trial 18 with value: 0.7522535769825462.\u001b[0m\n"
     ]
    },
    {
     "name": "stdout",
     "output_type": "stream",
     "text": [
      "Training until validation scores don't improve for 100 rounds\n",
      "Did not meet early stopping. Best iteration is:\n",
      "[57]\tvalid_0's auc: 0.808975\n",
      "Did not meet early stopping. Best iteration is:\n",
      "[97]\tvalid_0's auc: 0.809425\n",
      "Training until validation scores don't improve for 100 rounds\n",
      "Training until validation scores don't improve for 100 rounds\n"
     ]
    },
    {
     "name": "stderr",
     "output_type": "stream",
     "text": [
      "\u001b[32m[I 2022-03-29 12:08:49,419]\u001b[0m Trial 39 finished with value: 0.7404877440168255 and parameters: {'lambda_l1': 1.4579485022963024, 'lambda_l2': 1.8000555852208027e-06, 'num_leaves': 223, 'feature_fraction': 0.6190161201013012, 'bagging_fraction': 0.4067248038158612, 'bagging_freq': 2, 'learning_rate': 0.018813830263865194, 'min_child_samples': 11}. Best is trial 18 with value: 0.7522535769825462.\u001b[0m\n"
     ]
    },
    {
     "name": "stdout",
     "output_type": "stream",
     "text": [
      "Did not meet early stopping. Best iteration is:\n",
      "[81]\tvalid_0's auc: 0.807216\n",
      "Training until validation scores don't improve for 100 rounds\n"
     ]
    },
    {
     "name": "stderr",
     "output_type": "stream",
     "text": [
      "\u001b[32m[I 2022-03-29 12:08:49,748]\u001b[0m Trial 36 finished with value: 0.7441906060484537 and parameters: {'lambda_l1': 0.050395041963104834, 'lambda_l2': 9.552824497233783e-08, 'num_leaves': 138, 'feature_fraction': 0.7010096912526301, 'bagging_fraction': 0.4088587355213165, 'bagging_freq': 6, 'learning_rate': 0.0172727239540281, 'min_child_samples': 5}. Best is trial 18 with value: 0.7522535769825462.\u001b[0m\n"
     ]
    },
    {
     "name": "stdout",
     "output_type": "stream",
     "text": [
      "Did not meet early stopping. Best iteration is:\n",
      "[91]\tvalid_0's auc: 0.810108\n",
      "Training until validation scores don't improve for 100 rounds\n"
     ]
    },
    {
     "name": "stderr",
     "output_type": "stream",
     "text": [
      "\u001b[32m[I 2022-03-29 12:08:50,188]\u001b[0m Trial 46 finished with value: 0.7288221690483511 and parameters: {'lambda_l1': 0.005206726600890834, 'lambda_l2': 4.978315389527758e-05, 'num_leaves': 16, 'feature_fraction': 0.655939236447339, 'bagging_fraction': 0.5873072205838412, 'bagging_freq': 7, 'learning_rate': 0.006492158957609791, 'min_child_samples': 64}. Best is trial 18 with value: 0.7522535769825462.\u001b[0m\n"
     ]
    },
    {
     "name": "stdout",
     "output_type": "stream",
     "text": [
      "Did not meet early stopping. Best iteration is:\n",
      "[75]\tvalid_0's auc: 0.808752\n",
      "Training until validation scores don't improve for 100 rounds\n",
      "Did not meet early stopping. Best iteration is:\n",
      "[93]\tvalid_0's auc: 0.805841\n",
      "Did not meet early stopping. Best iteration is:\n",
      "[85]\tvalid_0's auc: 0.808163\n"
     ]
    },
    {
     "name": "stderr",
     "output_type": "stream",
     "text": [
      "\u001b[32m[I 2022-03-29 12:08:50,391]\u001b[0m Trial 40 finished with value: 0.7401201313602561 and parameters: {'lambda_l1': 1.6078583597166254, 'lambda_l2': 1.5508377394703128e-06, 'num_leaves': 229, 'feature_fraction': 0.6048219222914824, 'bagging_fraction': 0.40667767785185005, 'bagging_freq': 2, 'learning_rate': 0.014754968610408412, 'min_child_samples': 5}. Best is trial 18 with value: 0.7522535769825462.\u001b[0m\n",
      "\u001b[32m[I 2022-03-29 12:08:50,470]\u001b[0m Trial 41 finished with value: 0.742909531639196 and parameters: {'lambda_l1': 1.3992337044779464, 'lambda_l2': 7.220769955795445e-05, 'num_leaves': 140, 'feature_fraction': 0.6084539123083333, 'bagging_fraction': 0.42122756421399576, 'bagging_freq': 2, 'learning_rate': 0.018978514106381388, 'min_child_samples': 5}. Best is trial 18 with value: 0.7522535769825462.\u001b[0m\n",
      "\u001b[32m[I 2022-03-29 12:08:50,548]\u001b[0m Trial 45 finished with value: 0.7457880501379105 and parameters: {'lambda_l1': 0.0018298810537802001, 'lambda_l2': 3.197571501531391e-05, 'num_leaves': 138, 'feature_fraction': 0.7094525991359156, 'bagging_fraction': 0.605266384960458, 'bagging_freq': 7, 'learning_rate': 0.1446363307031255, 'min_child_samples': 62}. Best is trial 18 with value: 0.7522535769825462.\u001b[0m\n"
     ]
    },
    {
     "name": "stdout",
     "output_type": "stream",
     "text": [
      "Did not meet early stopping. Best iteration is:\n",
      "[14]\tvalid_0's auc: 0.811687\n",
      "Training until validation scores don't improve for 100 rounds\n",
      "Training until validation scores don't improve for 100 rounds\n",
      "Training until validation scores don't improve for 100 rounds\n"
     ]
    },
    {
     "name": "stderr",
     "output_type": "stream",
     "text": [
      "\u001b[32m[I 2022-03-29 12:08:50,799]\u001b[0m Trial 43 finished with value: 0.7402471248234346 and parameters: {'lambda_l1': 0.0018272684392212871, 'lambda_l2': 8.960460536612794e-05, 'num_leaves': 137, 'feature_fraction': 0.6686886937755363, 'bagging_fraction': 0.5816780157788765, 'bagging_freq': 7, 'learning_rate': 0.018065834677036773, 'min_child_samples': 8}. Best is trial 18 with value: 0.7522535769825462.\u001b[0m\n",
      "\u001b[32m[I 2022-03-29 12:08:50,924]\u001b[0m Trial 44 finished with value: 0.7352008056287067 and parameters: {'lambda_l1': 0.13649631028882933, 'lambda_l2': 3.848480365383493e-05, 'num_leaves': 137, 'feature_fraction': 0.6301153659596214, 'bagging_fraction': 0.5775633611661182, 'bagging_freq': 7, 'learning_rate': 0.0203883407496499, 'min_child_samples': 9}. Best is trial 18 with value: 0.7522535769825462.\u001b[0m\n"
     ]
    },
    {
     "name": "stdout",
     "output_type": "stream",
     "text": [
      "Did not meet early stopping. Best iteration is:\n",
      "[75]\tvalid_0's auc: 0.81108\n",
      "Did not meet early stopping. Best iteration is:\n",
      "[77]\tvalid_0's auc: 0.806316\n",
      "Did not meet early stopping. Best iteration is:\n",
      "[61]\tvalid_0's auc: 0.805357\n"
     ]
    },
    {
     "name": "stderr",
     "output_type": "stream",
     "text": [
      "\u001b[32m[I 2022-03-29 12:08:50,974]\u001b[0m Trial 42 finished with value: 0.7372549805945077 and parameters: {'lambda_l1': 1.422180128876681, 'lambda_l2': 6.705769235989514e-05, 'num_leaves': 223, 'feature_fraction': 0.6786355743468654, 'bagging_fraction': 0.4180879108096488, 'bagging_freq': 2, 'learning_rate': 0.018888774451912813, 'min_child_samples': 6}. Best is trial 18 with value: 0.7522535769825462.\u001b[0m\n"
     ]
    },
    {
     "name": "stdout",
     "output_type": "stream",
     "text": [
      "Training until validation scores don't improve for 100 rounds\n",
      "Training until validation scores don't improve for 100 rounds\n",
      "Training until validation scores don't improve for 100 rounds\n"
     ]
    },
    {
     "name": "stderr",
     "output_type": "stream",
     "text": [
      "\u001b[32m[I 2022-03-29 12:08:51,551]\u001b[0m Trial 37 finished with value: 0.7353679022907839 and parameters: {'lambda_l1': 0.06733324853151346, 'lambda_l2': 1.472343260404209e-07, 'num_leaves': 222, 'feature_fraction': 0.686197852655511, 'bagging_fraction': 0.40066150361519776, 'bagging_freq': 6, 'learning_rate': 0.11258127086171743, 'min_child_samples': 5}. Best is trial 18 with value: 0.7522535769825462.\u001b[0m\n",
      "\u001b[32m[I 2022-03-29 12:08:51,630]\u001b[0m Trial 47 finished with value: 0.7430498928353406 and parameters: {'lambda_l1': 0.32411463766132115, 'lambda_l2': 4.65096955094728e-07, 'num_leaves': 140, 'feature_fraction': 0.7298587478591678, 'bagging_fraction': 0.6651961795393784, 'bagging_freq': 5, 'learning_rate': 0.12876742606399094, 'min_child_samples': 59}. Best is trial 18 with value: 0.7522535769825462.\u001b[0m\n",
      "\u001b[32m[I 2022-03-29 12:08:51,646]\u001b[0m Trial 53 finished with value: 0.6684044719522684 and parameters: {'lambda_l1': 3.97689173610396, 'lambda_l2': 4.209746819067309e-07, 'num_leaves': 206, 'feature_fraction': 0.49897448326250754, 'bagging_fraction': 0.6610989800830435, 'bagging_freq': 5, 'learning_rate': 0.0024171165396167883, 'min_child_samples': 70}. Best is trial 18 with value: 0.7522535769825462.\u001b[0m\n"
     ]
    },
    {
     "name": "stdout",
     "output_type": "stream",
     "text": [
      "Did not meet early stopping. Best iteration is:\n",
      "[96]\tvalid_0's auc: 0.792562\n",
      "Did not meet early stopping. Best iteration is:\n",
      "[30]\tvalid_0's auc: 0.803025\n",
      "Did not meet early stopping. Best iteration is:\n",
      "[31]\tvalid_0's auc: 0.809069\n",
      "Did not meet early stopping. Best iteration is:\n",
      "[93]\tvalid_0's auc: 0.804172Did not meet early stopping. Best iteration is:\n",
      "[91]\tvalid_0's auc: 0.804723\n",
      "\n"
     ]
    },
    {
     "name": "stderr",
     "output_type": "stream",
     "text": [
      "\u001b[32m[I 2022-03-29 12:08:51,661]\u001b[0m Trial 49 finished with value: 0.7422389170353934 and parameters: {'lambda_l1': 0.21307310643257169, 'lambda_l2': 3.5419661938335764e-07, 'num_leaves': 210, 'feature_fraction': 0.7316539155656172, 'bagging_fraction': 0.4437902872903859, 'bagging_freq': 5, 'learning_rate': 0.14306542055306823, 'min_child_samples': 52}. Best is trial 18 with value: 0.7522535769825462.\u001b[0m\n",
      "\u001b[32m[I 2022-03-29 12:08:51,693]\u001b[0m Trial 52 finished with value: 0.6793593291180415 and parameters: {'lambda_l1': 3.7150417464952676, 'lambda_l2': 5.644968277918456e-07, 'num_leaves': 206, 'feature_fraction': 0.5185431933517735, 'bagging_fraction': 0.4376955336276671, 'bagging_freq': 5, 'learning_rate': 0.002629354520803948, 'min_child_samples': 39}. Best is trial 18 with value: 0.7522535769825462.\u001b[0m\n",
      "\u001b[32m[I 2022-03-29 12:08:51,865]\u001b[0m Trial 48 finished with value: 0.7407796061865869 and parameters: {'lambda_l1': 0.2310869564510716, 'lambda_l2': 3.5628103833451e-07, 'num_leaves': 146, 'feature_fraction': 0.5936375464715334, 'bagging_fraction': 0.6655161827467669, 'bagging_freq': 5, 'learning_rate': 0.15128746277990937, 'min_child_samples': 60}. Best is trial 18 with value: 0.7522535769825462.\u001b[0m\n",
      "\u001b[32m[I 2022-03-29 12:08:51,928]\u001b[0m Trial 50 finished with value: 0.6794863225812201 and parameters: {'lambda_l1': 0.28934316614513605, 'lambda_l2': 3.90928169777345e-07, 'num_leaves': 70, 'feature_fraction': 0.640266551224632, 'bagging_fraction': 0.6750140466564575, 'bagging_freq': 5, 'learning_rate': 0.002239235140966021, 'min_child_samples': 57}. Best is trial 18 with value: 0.7522535769825462.\u001b[0m\n"
     ]
    },
    {
     "name": "stdout",
     "output_type": "stream",
     "text": [
      "Training until validation scores don't improve for 100 rounds\n",
      "Did not meet early stopping. Best iteration is:\n",
      "[12]\tvalid_0's auc: 0.805808\n",
      "Did not meet early stopping. Best iteration is:\n",
      "[94]\tvalid_0's auc: 0.808766\n",
      "Training until validation scores don't improve for 100 rounds\n",
      "Training until validation scores don't improve for 100 rounds\n",
      "Training until validation scores don't improve for 100 rounds\n",
      "Training until validation scores don't improve for 100 rounds\n",
      "Training until validation scores don't improve for 100 rounds\n"
     ]
    },
    {
     "name": "stderr",
     "output_type": "stream",
     "text": [
      "\u001b[32m[I 2022-03-29 12:08:52,195]\u001b[0m Trial 51 finished with value: 0.7472206255207846 and parameters: {'lambda_l1': 0.13416851310052982, 'lambda_l2': 3.833307302723854e-07, 'num_leaves': 151, 'feature_fraction': 0.6292081054099047, 'bagging_fraction': 0.6544624871629374, 'bagging_freq': 5, 'learning_rate': 0.03236210965371642, 'min_child_samples': 53}. Best is trial 18 with value: 0.7522535769825462.\u001b[0m\n"
     ]
    },
    {
     "name": "stdout",
     "output_type": "stream",
     "text": [
      "Training until validation scores don't improve for 100 rounds\n",
      "Did not meet early stopping. Best iteration is:\n",
      "[74]\tvalid_0's auc: 0.810829\n",
      "Training until validation scores don't improve for 100 rounds\n"
     ]
    },
    {
     "name": "stderr",
     "output_type": "stream",
     "text": [
      "\u001b[32m[I 2022-03-29 12:08:52,367]\u001b[0m Trial 54 finished with value: 0.6729183097838438 and parameters: {'lambda_l1': 3.75762518043353, 'lambda_l2': 4.1210813891472853e-07, 'num_leaves': 200, 'feature_fraction': 0.4951060495105374, 'bagging_fraction': 0.4504447420436938, 'bagging_freq': 5, 'learning_rate': 0.002614516099985093, 'min_child_samples': 39}. Best is trial 18 with value: 0.7522535769825462.\u001b[0m\n"
     ]
    },
    {
     "name": "stdout",
     "output_type": "stream",
     "text": [
      "Did not meet early stopping. Best iteration is:\n",
      "[87]\tvalid_0's auc: 0.805366\n",
      "Training until validation scores don't improve for 100 rounds\n"
     ]
    },
    {
     "name": "stderr",
     "output_type": "stream",
     "text": [
      "\u001b[32m[I 2022-03-29 12:08:52,650]\u001b[0m Trial 58 finished with value: 0.5 and parameters: {'lambda_l1': 4.022901789794215, 'lambda_l2': 0.0010182515740107844, 'num_leaves': 155, 'feature_fraction': 0.4264807878462691, 'bagging_fraction': 0.8762308544605488, 'bagging_freq': 1, 'learning_rate': 0.0008639374076900902, 'min_child_samples': 81}. Best is trial 18 with value: 0.7522535769825462.\u001b[0m\n"
     ]
    },
    {
     "name": "stdout",
     "output_type": "stream",
     "text": [
      "Did not meet early stopping. Best iteration is:\n",
      "[55]\tvalid_0's auc: 0.805223\n",
      "Training until validation scores don't improve for 100 rounds\n"
     ]
    },
    {
     "name": "stderr",
     "output_type": "stream",
     "text": [
      "\u001b[32m[I 2022-03-29 12:08:52,877]\u001b[0m Trial 56 finished with value: 0.5 and parameters: {'lambda_l1': 0.6437211614857526, 'lambda_l2': 7.199131795536455e-06, 'num_leaves': 64, 'feature_fraction': 0.42069017712132795, 'bagging_fraction': 0.8400660963820406, 'bagging_freq': 1, 'learning_rate': 0.0007733799831740384, 'min_child_samples': 99}. Best is trial 18 with value: 0.7522535769825462.\u001b[0m\n"
     ]
    },
    {
     "name": "stdout",
     "output_type": "stream",
     "text": [
      "Did not meet early stopping. Best iteration is:\n",
      "[50]\tvalid_0's auc: 0.808093\n",
      "Training until validation scores don't improve for 100 rounds\n"
     ]
    },
    {
     "name": "stderr",
     "output_type": "stream",
     "text": [
      "\u001b[32m[I 2022-03-29 12:08:53,183]\u001b[0m Trial 57 finished with value: 0.7435311312221227 and parameters: {'lambda_l1': 0.6438732436348229, 'lambda_l2': 3.6474632910599523e-06, 'num_leaves': 153, 'feature_fraction': 0.412510545694607, 'bagging_fraction': 0.8435427447707696, 'bagging_freq': 1, 'learning_rate': 0.06274294599105223, 'min_child_samples': 68}. Best is trial 18 with value: 0.7522535769825462.\u001b[0m\n",
      "\u001b[32m[I 2022-03-29 12:08:53,262]\u001b[0m Trial 55 finished with value: 0.7494396691931682 and parameters: {'lambda_l1': 3.8243447615703277, 'lambda_l2': 4.511734170600059e-06, 'num_leaves': 61, 'feature_fraction': 0.408079874124517, 'bagging_fraction': 0.8203420203778214, 'bagging_freq': 1, 'learning_rate': 0.06520074039507434, 'min_child_samples': 22}. Best is trial 18 with value: 0.7522535769825462.\u001b[0m\n",
      "\u001b[32m[I 2022-03-29 12:08:53,356]\u001b[0m Trial 60 finished with value: 0.7456231814313277 and parameters: {'lambda_l1': 4.335185169483697, 'lambda_l2': 0.0014569651930585465, 'num_leaves': 123, 'feature_fraction': 0.40369293106656556, 'bagging_fraction': 0.8326175272714258, 'bagging_freq': 1, 'learning_rate': 0.06337513583307651, 'min_child_samples': 32}. Best is trial 18 with value: 0.7522535769825462.\u001b[0m\n"
     ]
    },
    {
     "name": "stdout",
     "output_type": "stream",
     "text": [
      "Did not meet early stopping. Best iteration is:\n",
      "[68]\tvalid_0's auc: 0.812813\n",
      "Did not meet early stopping. Best iteration is:\n",
      "[100]\tvalid_0's auc: 0.813899\n",
      "Did not meet early stopping. Best iteration is:\n",
      "[67]\tvalid_0's auc: 0.811861\n",
      "Training until validation scores don't improve for 100 rounds\n"
     ]
    },
    {
     "name": "stderr",
     "output_type": "stream",
     "text": [
      "\u001b[32m[I 2022-03-29 12:08:53,513]\u001b[0m Trial 61 finished with value: 0.7442284812918577 and parameters: {'lambda_l1': 0.7912896638060398, 'lambda_l2': 1.0075757603359858e-08, 'num_leaves': 126, 'feature_fraction': 0.5395871227946591, 'bagging_fraction': 0.4719011657291813, 'bagging_freq': 4, 'learning_rate': 0.030849497887056803, 'min_child_samples': 32}. Best is trial 18 with value: 0.7522535769825462.\u001b[0m\n"
     ]
    },
    {
     "name": "stdout",
     "output_type": "stream",
     "text": [
      "Training until validation scores don't improve for 100 rounds\n",
      "Did not meet early stopping. Best iteration is:\n",
      "[96]\tvalid_0's auc: 0.811604\n",
      "Training until validation scores don't improve for 100 rounds\n",
      "Did not meet early stopping. Best iteration is:\n",
      "[70]\tvalid_0's auc: 0.810942\n",
      "Did not meet early stopping. Best iteration is:\n",
      "[100]\tvalid_0's auc: 0.811461\n"
     ]
    },
    {
     "name": "stderr",
     "output_type": "stream",
     "text": [
      "\u001b[32m[I 2022-03-29 12:08:53,579]\u001b[0m Trial 59 finished with value: 0.7422634245458312 and parameters: {'lambda_l1': 3.788435926308954, 'lambda_l2': 4.622164378408353e-06, 'num_leaves': 158, 'feature_fraction': 0.45376236237760065, 'bagging_fraction': 0.8473005548054356, 'bagging_freq': 1, 'learning_rate': 0.07030689995222278, 'min_child_samples': 31}. Best is trial 18 with value: 0.7522535769825462.\u001b[0m\n",
      "\u001b[32m[I 2022-03-29 12:08:53,638]\u001b[0m Trial 63 finished with value: 0.7406147374800042 and parameters: {'lambda_l1': 0.7805385407304037, 'lambda_l2': 4.851868583873555e-06, 'num_leaves': 181, 'feature_fraction': 0.5337507011698323, 'bagging_fraction': 0.5488542486375064, 'bagging_freq': 3, 'learning_rate': 0.0295141201939351, 'min_child_samples': 69}. Best is trial 18 with value: 0.7522535769825462.\u001b[0m\n",
      "\u001b[32m[I 2022-03-29 12:08:53,826]\u001b[0m Trial 62 finished with value: 0.5 and parameters: {'lambda_l1': 0.6074317566717292, 'lambda_l2': 4.582971104579982e-06, 'num_leaves': 154, 'feature_fraction': 0.5402186731392566, 'bagging_fraction': 0.5520277002937355, 'bagging_freq': 4, 'learning_rate': 0.0007417204798929463, 'min_child_samples': 33}. Best is trial 18 with value: 0.7522535769825462.\u001b[0m\n"
     ]
    },
    {
     "name": "stdout",
     "output_type": "stream",
     "text": [
      "Training until validation scores don't improve for 100 rounds\n",
      "Training until validation scores don't improve for 100 rounds\n",
      "Did not meet early stopping. Best iteration is:\n",
      "[96]\tvalid_0's auc: 0.80891\n",
      "Training until validation scores don't improve for 100 rounds\n",
      "Did not meet early stopping. Best iteration is:\n",
      "[75]\tvalid_0's auc: 0.813489\n"
     ]
    },
    {
     "name": "stderr",
     "output_type": "stream",
     "text": [
      "\u001b[32m[I 2022-03-29 12:08:53,904]\u001b[0m Trial 64 finished with value: 0.7446339691918316 and parameters: {'lambda_l1': 0.011828974767379237, 'lambda_l2': 3.850580213111727e-06, 'num_leaves': 118, 'feature_fraction': 0.5441115454821442, 'bagging_fraction': 0.48090602731049126, 'bagging_freq': 4, 'learning_rate': 0.031454886739873365, 'min_child_samples': 69}. Best is trial 18 with value: 0.7522535769825462.\u001b[0m\n"
     ]
    },
    {
     "name": "stdout",
     "output_type": "stream",
     "text": [
      "Training until validation scores don't improve for 100 rounds\n",
      "Training until validation scores don't improve for 100 rounds\n"
     ]
    },
    {
     "name": "stderr",
     "output_type": "stream",
     "text": [
      "\u001b[32m[I 2022-03-29 12:08:54,312]\u001b[0m Trial 69 finished with value: 0.5883228396629548 and parameters: {'lambda_l1': 8.7417034491529, 'lambda_l2': 5.076991927583599e-08, 'num_leaves': 46, 'feature_fraction': 0.7625937463563828, 'bagging_fraction': 0.48772774511648787, 'bagging_freq': 4, 'learning_rate': 0.009313747163584218, 'min_child_samples': 22}. Best is trial 18 with value: 0.7522535769825462.\u001b[0m\n",
      "\u001b[32m[I 2022-03-29 12:08:54,406]\u001b[0m Trial 68 finished with value: 0.7192107690456775 and parameters: {'lambda_l1': 8.117103362683553, 'lambda_l2': 4.401955317764579e-06, 'num_leaves': 49, 'feature_fraction': 0.4713442459244107, 'bagging_fraction': 0.959285808914192, 'bagging_freq': 3, 'learning_rate': 0.008657638241518396, 'min_child_samples': 26}. Best is trial 18 with value: 0.7522535769825462.\u001b[0m\n"
     ]
    },
    {
     "name": "stdout",
     "output_type": "stream",
     "text": [
      "Did not meet early stopping. Best iteration is:\n",
      "[16]\tvalid_0's auc: 0.80646\n",
      "Did not meet early stopping. Best iteration is:\n",
      "[43]\tvalid_0's auc: 0.80453\n",
      "Training until validation scores don't improve for 100 rounds\n"
     ]
    },
    {
     "name": "stderr",
     "output_type": "stream",
     "text": [
      "\u001b[32m[I 2022-03-29 12:08:54,626]\u001b[0m Trial 66 finished with value: 0.738460304516957 and parameters: {'lambda_l1': 2.7521342049055102e-05, 'lambda_l2': 1.1648751890724965e-08, 'num_leaves': 51, 'feature_fraction': 0.7999762490581963, 'bagging_fraction': 0.5556648777155003, 'bagging_freq': 6, 'learning_rate': 0.07648444158218191, 'min_child_samples': 23}. Best is trial 18 with value: 0.7522535769825462.\u001b[0m\n"
     ]
    },
    {
     "name": "stdout",
     "output_type": "stream",
     "text": [
      "Training until validation scores don't improve for 100 rounds\n",
      "Did not meet early stopping. Best iteration is:\n",
      "[70]\tvalid_0's auc: 0.808421\n"
     ]
    },
    {
     "name": "stderr",
     "output_type": "stream",
     "text": [
      "\u001b[32m[I 2022-03-29 12:08:54,720]\u001b[0m Trial 72 finished with value: 0.7314088253773042 and parameters: {'lambda_l1': 9.530455450643947, 'lambda_l2': 3.744765540403986e-08, 'num_leaves': 235, 'feature_fraction': 0.8087126416570605, 'bagging_fraction': 0.9865905837848052, 'bagging_freq': 3, 'learning_rate': 0.007983506751619024, 'min_child_samples': 23}. Best is trial 18 with value: 0.7522535769825462.\u001b[0m\n",
      "\u001b[32m[I 2022-03-29 12:08:54,799]\u001b[0m Trial 70 finished with value: 0.7362902758654493 and parameters: {'lambda_l1': 4.3126926164620555e-05, 'lambda_l2': 4.9369796745582493e-08, 'num_leaves': 40, 'feature_fraction': 0.7523923252542797, 'bagging_fraction': 0.9291034544414334, 'bagging_freq': 4, 'learning_rate': 0.008969524506341819, 'min_child_samples': 22}. Best is trial 18 with value: 0.7522535769825462.\u001b[0m\n",
      "\u001b[32m[I 2022-03-29 12:08:54,893]\u001b[0m Trial 65 finished with value: 0.745939551111527 and parameters: {'lambda_l1': 0.0075613304068673625, 'lambda_l2': 1.1676104074894726e-08, 'num_leaves': 184, 'feature_fraction': 0.5372054398095605, 'bagging_fraction': 0.4815664253636497, 'bagging_freq': 4, 'learning_rate': 0.027778552825552142, 'min_child_samples': 33}. Best is trial 18 with value: 0.7522535769825462.\u001b[0m\n"
     ]
    },
    {
     "name": "stdout",
     "output_type": "stream",
     "text": [
      "Did not meet early stopping. Best iteration is:\n",
      "[100]\tvalid_0's auc: 0.802785\n",
      "Training until validation scores don't improve for 100 rounds\n",
      "Did not meet early stopping. Best iteration is:\n",
      "[80]\tvalid_0's auc: 0.813347\n",
      "Training until validation scores don't improve for 100 rounds\n",
      "Did not meet early stopping. Best iteration is:\n",
      "[59]\tvalid_0's auc: 0.814126\n"
     ]
    },
    {
     "name": "stderr",
     "output_type": "stream",
     "text": [
      "\u001b[32m[I 2022-03-29 12:08:55,002]\u001b[0m Trial 71 finished with value: 0.7414769562563218 and parameters: {'lambda_l1': 8.446276424704081, 'lambda_l2': 5.5445470491126156e-08, 'num_leaves': 244, 'feature_fraction': 0.5785519505754233, 'bagging_fraction': 0.9185846718433099, 'bagging_freq': 6, 'learning_rate': 0.2040093040620126, 'min_child_samples': 19}. Best is trial 18 with value: 0.7522535769825462.\u001b[0m\n"
     ]
    },
    {
     "name": "stdout",
     "output_type": "stream",
     "text": [
      "Training until validation scores don't improve for 100 rounds\n",
      "Did not meet early stopping. Best iteration is:\n",
      "[26]\tvalid_0's auc: 0.811169\n",
      "Training until validation scores don't improve for 100 rounds\n",
      "Training until validation scores don't improve for 100 rounds\n"
     ]
    },
    {
     "name": "stderr",
     "output_type": "stream",
     "text": [
      "\u001b[32m[I 2022-03-29 12:08:55,395]\u001b[0m Trial 73 finished with value: 0.7463205315010628 and parameters: {'lambda_l1': 9.664516569166327, 'lambda_l2': 1.5077930416013856e-07, 'num_leaves': 105, 'feature_fraction': 0.8149117217264981, 'bagging_fraction': 0.9100988954317324, 'bagging_freq': 6, 'learning_rate': 0.19057063171547328, 'min_child_samples': 19}. Best is trial 18 with value: 0.7522535769825462.\u001b[0m\n"
     ]
    },
    {
     "name": "stdout",
     "output_type": "stream",
     "text": [
      "Did not meet early stopping. Best iteration is:\n",
      "[35]\tvalid_0's auc: 0.805913\n",
      "Training until validation scores don't improve for 100 rounds\n"
     ]
    },
    {
     "name": "stderr",
     "output_type": "stream",
     "text": [
      "\u001b[32m[I 2022-03-29 12:08:55,629]\u001b[0m Trial 75 finished with value: 0.5 and parameters: {'lambda_l1': 2.3659404715229773, 'lambda_l2': 8.247650731296269e-07, 'num_leaves': 234, 'feature_fraction': 0.5884783263198958, 'bagging_fraction': 0.9063806263498699, 'bagging_freq': 6, 'learning_rate': 8.490867707893355e-05, 'min_child_samples': 51}. Best is trial 18 with value: 0.7522535769825462.\u001b[0m\n"
     ]
    },
    {
     "name": "stdout",
     "output_type": "stream",
     "text": [
      "Did not meet early stopping. Best iteration is:\n",
      "[76]\tvalid_0's auc: 0.806911\n",
      "Training until validation scores don't improve for 100 rounds\n"
     ]
    },
    {
     "name": "stderr",
     "output_type": "stream",
     "text": [
      "\u001b[32m[I 2022-03-29 12:08:55,912]\u001b[0m Trial 74 finished with value: 0.7380926918603874 and parameters: {'lambda_l1': 2.5188385493709347, 'lambda_l2': 1.0027541430230776e-06, 'num_leaves': 99, 'feature_fraction': 0.8009873098879836, 'bagging_fraction': 0.782228925931609, 'bagging_freq': 6, 'learning_rate': 0.18113331965679053, 'min_child_samples': 49}. Best is trial 18 with value: 0.7522535769825462.\u001b[0m\n"
     ]
    },
    {
     "name": "stdout",
     "output_type": "stream",
     "text": [
      "Did not meet early stopping. Best iteration is:\n",
      "[38]\tvalid_0's auc: 0.803699\n",
      "Training until validation scores don't improve for 100 rounds\n"
     ]
    },
    {
     "name": "stderr",
     "output_type": "stream",
     "text": [
      "\u001b[32m[I 2022-03-29 12:08:56,304]\u001b[0m Trial 79 finished with value: 0.7411984618195266 and parameters: {'lambda_l1': 2.1952110087214898, 'lambda_l2': 0.07082600043511053, 'num_leaves': 196, 'feature_fraction': 0.4523820794953667, 'bagging_fraction': 0.8004185557596507, 'bagging_freq': 1, 'learning_rate': 0.047414846492824785, 'min_child_samples': 48}. Best is trial 18 with value: 0.7522535769825462.\u001b[0m\n",
      "\u001b[32m[I 2022-03-29 12:08:56,382]\u001b[0m Trial 78 finished with value: 0.7588728327562929 and parameters: {'lambda_l1': 2.253338627156604, 'lambda_l2': 8.39742805929346e-07, 'num_leaves': 164, 'feature_fraction': 0.5794984117383485, 'bagging_fraction': 0.7952836535285951, 'bagging_freq': 1, 'learning_rate': 0.18280092857516375, 'min_child_samples': 49}. Best is trial 78 with value: 0.7588728327562929.\u001b[0m\n"
     ]
    },
    {
     "name": "stdout",
     "output_type": "stream",
     "text": [
      "Did not meet early stopping. Best iteration is:\n",
      "[100]\tvalid_0's auc: 0.809455\n",
      "Did not meet early stopping. Best iteration is:\n",
      "[25]\tvalid_0's auc: 0.81285\n",
      "Training until validation scores don't improve for 100 rounds\n"
     ]
    },
    {
     "name": "stderr",
     "output_type": "stream",
     "text": [
      "\u001b[32m[I 2022-03-29 12:08:56,555]\u001b[0m Trial 80 finished with value: 0.7420851881062824 and parameters: {'lambda_l1': 2.647700835086167, 'lambda_l2': 0.08831510158663744, 'num_leaves': 162, 'feature_fraction': 0.43964757553929035, 'bagging_fraction': 0.7568806650066262, 'bagging_freq': 1, 'learning_rate': 0.04460733769765261, 'min_child_samples': 50}. Best is trial 78 with value: 0.7588728327562929.\u001b[0m\n"
     ]
    },
    {
     "name": "stdout",
     "output_type": "stream",
     "text": [
      "Training until validation scores don't improve for 100 rounds\n",
      "Did not meet early stopping. Best iteration is:\n",
      "[53]\tvalid_0's auc: 0.80839\n",
      "Training until validation scores don't improve for 100 rounds\n"
     ]
    },
    {
     "name": "stderr",
     "output_type": "stream",
     "text": [
      "\u001b[32m[I 2022-03-29 12:08:56,785]\u001b[0m Trial 76 finished with value: 0.7400711163393799 and parameters: {'lambda_l1': 2.6292874938575173, 'lambda_l2': 8.526257697973316e-07, 'num_leaves': 95, 'feature_fraction': 0.575502518100235, 'bagging_fraction': 0.7714103536949377, 'bagging_freq': 6, 'learning_rate': 0.18952178746336487, 'min_child_samples': 18}. Best is trial 78 with value: 0.7588728327562929.\u001b[0m\n"
     ]
    },
    {
     "name": "stdout",
     "output_type": "stream",
     "text": [
      "Did not meet early stopping. Best iteration is:\n",
      "[38]\tvalid_0's auc: 0.806913\n"
     ]
    },
    {
     "name": "stderr",
     "output_type": "stream",
     "text": [
      "\u001b[32m[I 2022-03-29 12:08:56,885]\u001b[0m Trial 81 finished with value: 0.7365308950588403 and parameters: {'lambda_l1': 2.5384506523694434, 'lambda_l2': 1.8353125057473392e-07, 'num_leaves': 165, 'feature_fraction': 0.6519361233758981, 'bagging_fraction': 0.7647567670432232, 'bagging_freq': 1, 'learning_rate': 0.05352886137060552, 'min_child_samples': 49}. Best is trial 78 with value: 0.7588728327562929.\u001b[0m\n",
      "\u001b[32m[I 2022-03-29 12:08:56,985]\u001b[0m Trial 77 finished with value: 0.7373953417906524 and parameters: {'lambda_l1': 0.1245950125964345, 'lambda_l2': 9.514030720141206e-07, 'num_leaves': 103, 'feature_fraction': 0.5876928411000092, 'bagging_fraction': 0.7610647301549149, 'bagging_freq': 6, 'learning_rate': 0.1929465308223068, 'min_child_samples': 19}. Best is trial 78 with value: 0.7588728327562929.\u001b[0m\n"
     ]
    },
    {
     "name": "stdout",
     "output_type": "stream",
     "text": [
      "Did not meet early stopping. Best iteration is:\n",
      "[15]\tvalid_0's auc: 0.810735\n",
      "Training until validation scores don't improve for 100 rounds\n",
      "Did not meet early stopping. Best iteration is:\n",
      "[10]\tvalid_0's auc: 0.800489\n",
      "Training until validation scores don't improve for 100 rounds\n",
      "Training until validation scores don't improve for 100 rounds\n"
     ]
    },
    {
     "name": "stderr",
     "output_type": "stream",
     "text": [
      "\u001b[32m[I 2022-03-29 12:08:57,433]\u001b[0m Trial 82 finished with value: 0.7423391750326396 and parameters: {'lambda_l1': 0.12497003760372632, 'lambda_l2': 0.08847035876198471, 'num_leaves': 163, 'feature_fraction': 0.44663018580148717, 'bagging_fraction': 0.8140847549023654, 'bagging_freq': 1, 'learning_rate': 0.044381323993414136, 'min_child_samples': 54}. Best is trial 78 with value: 0.7588728327562929.\u001b[0m\n",
      "\u001b[32m[I 2022-03-29 12:08:57,511]\u001b[0m Trial 84 finished with value: 0.7313107953355524 and parameters: {'lambda_l1': 1.4913052205520123e-08, 'lambda_l2': 1.9733212184412445e-07, 'num_leaves': 162, 'feature_fraction': 0.6574072703792235, 'bagging_fraction': 0.5061115422986728, 'bagging_freq': 2, 'learning_rate': 0.2735755681124581, 'min_child_samples': 54}. Best is trial 78 with value: 0.7588728327562929.\u001b[0m\n"
     ]
    },
    {
     "name": "stdout",
     "output_type": "stream",
     "text": [
      "Did not meet early stopping. Best iteration is:\n",
      "[60]\tvalid_0's auc: 0.806165\n",
      "Did not meet early stopping. Best iteration is:\n",
      "[52]\tvalid_0's auc: 0.795677\n"
     ]
    },
    {
     "name": "stderr",
     "output_type": "stream",
     "text": [
      "\u001b[32m[I 2022-03-29 12:08:57,794]\u001b[0m Trial 83 finished with value: 0.7411472188431564 and parameters: {'lambda_l1': 0.10650240371091191, 'lambda_l2': 1.1515062530728357, 'num_leaves': 161, 'feature_fraction': 0.6500522244113044, 'bagging_fraction': 0.7521760386447216, 'bagging_freq': 2, 'learning_rate': 0.04842619099963355, 'min_child_samples': 54}. Best is trial 78 with value: 0.7588728327562929.\u001b[0m\n"
     ]
    },
    {
     "name": "stdout",
     "output_type": "stream",
     "text": [
      "Training until validation scores don't improve for 100 rounds\n",
      "Training until validation scores don't improve for 100 rounds\n",
      "Did not meet early stopping. Best iteration is:\n",
      "[36]\tvalid_0's auc: 0.81098\n",
      "Did not meet early stopping. Best iteration is:\n",
      "[28]\tvalid_0's auc: 0.799894\n"
     ]
    },
    {
     "name": "stderr",
     "output_type": "stream",
     "text": [
      "\u001b[32m[I 2022-03-29 12:08:57,888]\u001b[0m Trial 67 finished with value: 0.7374844600104269 and parameters: {'lambda_l1': 3.530337141466014e-05, 'lambda_l2': 1.2624785031934676e-08, 'num_leaves': 239, 'feature_fraction': 0.4607458846977861, 'bagging_fraction': 0.9800150816064894, 'bagging_freq': 6, 'learning_rate': 0.18678109479651372, 'min_child_samples': 20}. Best is trial 78 with value: 0.7588728327562929.\u001b[0m\n",
      "\u001b[32m[I 2022-03-29 12:08:57,888]\u001b[0m Trial 87 finished with value: 0.7385360550037652 and parameters: {'lambda_l1': 0.11867134160487568, 'lambda_l2': 1.460606430786864e-05, 'num_leaves': 190, 'feature_fraction': 0.5575501290125535, 'bagging_fraction': 0.4304603801367516, 'bagging_freq': 2, 'learning_rate': 0.26404621280537516, 'min_child_samples': 54}. Best is trial 78 with value: 0.7588728327562929.\u001b[0m\n"
     ]
    },
    {
     "name": "stdout",
     "output_type": "stream",
     "text": [
      "Did not meet early stopping. Best iteration is:\n",
      "[6]\tvalid_0's auc: 0.795442\n",
      "Training until validation scores don't improve for 100 rounds\n"
     ]
    },
    {
     "name": "stderr",
     "output_type": "stream",
     "text": [
      "\u001b[32m[I 2022-03-29 12:08:58,107]\u001b[0m Trial 85 finished with value: 0.7486153256602546 and parameters: {'lambda_l1': 0.12698968979922073, 'lambda_l2': 1.5051682831605824e-05, 'num_leaves': 170, 'feature_fraction': 0.5637029625619561, 'bagging_fraction': 0.7099269657059895, 'bagging_freq': 1, 'learning_rate': 0.2827235560108677, 'min_child_samples': 54}. Best is trial 78 with value: 0.7588728327562929.\u001b[0m\n"
     ]
    },
    {
     "name": "stdout",
     "output_type": "stream",
     "text": [
      "Training until validation scores don't improve for 100 rounds\n",
      "Training until validation scores don't improve for 100 rounds\n",
      "Did not meet early stopping. Best iteration is:\n",
      "[6]\tvalid_0's auc: 0.807571\n",
      "Training until validation scores don't improve for 100 rounds\n"
     ]
    },
    {
     "name": "stderr",
     "output_type": "stream",
     "text": [
      "\u001b[32m[I 2022-03-29 12:08:58,311]\u001b[0m Trial 88 finished with value: 0.7368116174511298 and parameters: {'lambda_l1': 4.929755454596737, 'lambda_l2': 1.5862373517684117e-05, 'num_leaves': 178, 'feature_fraction': 0.6130120551420895, 'bagging_fraction': 0.814998266562406, 'bagging_freq': 2, 'learning_rate': 0.2803084854380155, 'min_child_samples': 42}. Best is trial 78 with value: 0.7588728327562929.\u001b[0m\n",
      "\u001b[32m[I 2022-03-29 12:08:58,374]\u001b[0m Trial 86 finished with value: 0.7325517665459115 and parameters: {'lambda_l1': 0.12597122569185684, 'lambda_l2': 1.6300927012810823e-07, 'num_leaves': 146, 'feature_fraction': 0.562435102996046, 'bagging_fraction': 0.7079126883891695, 'bagging_freq': 2, 'learning_rate': 0.2605091864747079, 'min_child_samples': 54}. Best is trial 78 with value: 0.7588728327562929.\u001b[0m\n"
     ]
    },
    {
     "name": "stdout",
     "output_type": "stream",
     "text": [
      "Did not meet early stopping. Best iteration is:\n",
      "[20]\tvalid_0's auc: 0.811851\n",
      "Did not meet early stopping. Best iteration is:\n",
      "[13]\tvalid_0's auc: 0.800268\n",
      "Training until validation scores don't improve for 100 rounds\n",
      "Did not meet early stopping. Best iteration is:\n",
      "[61]\tvalid_0's auc: 0.816705\n"
     ]
    },
    {
     "name": "stderr",
     "output_type": "stream",
     "text": [
      "\u001b[32m[I 2022-03-29 12:08:58,500]\u001b[0m Trial 89 finished with value: 0.745001581848401 and parameters: {'lambda_l1': 5.354885672342091, 'lambda_l2': 1.708488934204058e-05, 'num_leaves': 179, 'feature_fraction': 0.4776986627463934, 'bagging_fraction': 0.5023942628531398, 'bagging_freq': 2, 'learning_rate': 0.09573941756448107, 'min_child_samples': 44}. Best is trial 78 with value: 0.7588728327562929.\u001b[0m\n"
     ]
    },
    {
     "name": "stdout",
     "output_type": "stream",
     "text": [
      "Training until validation scores don't improve for 100 rounds\n",
      "Training until validation scores don't improve for 100 rounds\n"
     ]
    },
    {
     "name": "stderr",
     "output_type": "stream",
     "text": [
      "\u001b[32m[I 2022-03-29 12:08:58,766]\u001b[0m Trial 90 finished with value: 0.7464854002076455 and parameters: {'lambda_l1': 1.0169968045880629, 'lambda_l2': 1.580656555194998e-05, 'num_leaves': 146, 'feature_fraction': 0.633069166294969, 'bagging_fraction': 0.4992572111203333, 'bagging_freq': 2, 'learning_rate': 0.08494782773018454, 'min_child_samples': 45}. Best is trial 78 with value: 0.7588728327562929.\u001b[0m\n"
     ]
    },
    {
     "name": "stdout",
     "output_type": "stream",
     "text": [
      "Did not meet early stopping. Best iteration is:\n",
      "[34]\tvalid_0's auc: 0.809176\n",
      "Training until validation scores don't improve for 100 rounds\n"
     ]
    },
    {
     "name": "stderr",
     "output_type": "stream",
     "text": [
      "\u001b[32m[I 2022-03-29 12:08:58,989]\u001b[0m Trial 91 finished with value: 0.7454961879681492 and parameters: {'lambda_l1': 1.0270645888943986, 'lambda_l2': 0.00021750439744905263, 'num_leaves': 147, 'feature_fraction': 0.5149755767879625, 'bagging_fraction': 0.43213583441732206, 'bagging_freq': 1, 'learning_rate': 0.0865916959204533, 'min_child_samples': 42}. Best is trial 78 with value: 0.7588728327562929.\u001b[0m\n",
      "\u001b[32m[I 2022-03-29 12:08:59,096]\u001b[0m Trial 92 finished with value: 0.6905302979667678 and parameters: {'lambda_l1': 5.46819505452853, 'lambda_l2': 0.0002522287621540161, 'num_leaves': 146, 'feature_fraction': 0.6182157464459408, 'bagging_fraction': 0.7091761749656406, 'bagging_freq': 1, 'learning_rate': 0.09741198697718706, 'min_child_samples': 42}. Best is trial 78 with value: 0.7588728327562929.\u001b[0m\n"
     ]
    },
    {
     "name": "stdout",
     "output_type": "stream",
     "text": [
      "Did not meet early stopping. Best iteration is:\n",
      "[29]\tvalid_0's auc: 0.813899\n",
      "Did not meet early stopping. Best iteration is:\n",
      "[3]\tvalid_0's auc: 0.810284\n",
      "Training until validation scores don't improve for 100 rounds\n"
     ]
    },
    {
     "name": "stderr",
     "output_type": "stream",
     "text": [
      "\u001b[32m[I 2022-03-29 12:08:59,456]\u001b[0m Trial 93 finished with value: 0.7493505509733938 and parameters: {'lambda_l1': 0.9025763015723475, 'lambda_l2': 1.0890588274361383e-07, 'num_leaves': 148, 'feature_fraction': 0.5178263127592079, 'bagging_fraction': 0.7042108083576081, 'bagging_freq': 1, 'learning_rate': 0.08637599516265092, 'min_child_samples': 45}. Best is trial 78 with value: 0.7588728327562929.\u001b[0m\n",
      "\u001b[32m[I 2022-03-29 12:08:59,534]\u001b[0m Trial 97 finished with value: 0.7395765102196319 and parameters: {'lambda_l1': 0.9098286895868292, 'lambda_l2': 2.5108340925215213e-06, 'num_leaves': 131, 'feature_fraction': 0.7178355884548139, 'bagging_fraction': 0.6135163714166283, 'bagging_freq': 5, 'learning_rate': 0.11826496743916987, 'min_child_samples': 57}. Best is trial 78 with value: 0.7588728327562929.\u001b[0m\n",
      "\u001b[32m[I 2022-03-29 12:08:59,628]\u001b[0m Trial 99 finished with value: 0.7446852121682017 and parameters: {'lambda_l1': 0.027619883011104077, 'lambda_l2': 6.530036713007141, 'num_leaves': 170, 'feature_fraction': 0.7149182348383528, 'bagging_fraction': 0.6087090015145502, 'bagging_freq': 1, 'learning_rate': 0.12089220140540195, 'min_child_samples': 92}. Best is trial 78 with value: 0.7588728327562929.\u001b[0m\n"
     ]
    },
    {
     "name": "stdout",
     "output_type": "stream",
     "text": [
      "Did not meet early stopping. Best iteration is:\n",
      "[27]\tvalid_0's auc: 0.805914\n",
      "Did not meet early stopping. Best iteration is:\n",
      "[50]\tvalid_0's auc: 0.802995\n",
      "Did not meet early stopping. Best iteration is:\n",
      "[67]\tvalid_0's auc: 0.811546\n"
     ]
    },
    {
     "name": "stderr",
     "output_type": "stream",
     "text": [
      "\u001b[32m[I 2022-03-29 12:08:59,660]\u001b[0m Trial 98 finished with value: 0.7449258313615927 and parameters: {'lambda_l1': 0.38666546439535876, 'lambda_l2': 8.80690663634726, 'num_leaves': 171, 'feature_fraction': 0.5162157586155365, 'bagging_fraction': 0.6288036647548646, 'bagging_freq': 1, 'learning_rate': 0.11248970759870759, 'min_child_samples': 57}. Best is trial 78 with value: 0.7588728327562929.\u001b[0m\n",
      "\u001b[32m[I 2022-03-29 12:08:59,707]\u001b[0m Trial 94 finished with value: 0.7435690064655268 and parameters: {'lambda_l1': 0.03268012657596899, 'lambda_l2': 0.0002965178715476445, 'num_leaves': 176, 'feature_fraction': 0.6181219824006463, 'bagging_fraction': 0.7261897815599236, 'bagging_freq': 5, 'learning_rate': 0.09505570792802705, 'min_child_samples': 43}. Best is trial 78 with value: 0.7588728327562929.\u001b[0m\n",
      "\u001b[32m[I 2022-03-29 12:08:59,738]\u001b[0m Trial 95 finished with value: 0.7448745883852224 and parameters: {'lambda_l1': 0.026764216053756684, 'lambda_l2': 2.3356234862210053e-06, 'num_leaves': 148, 'feature_fraction': 0.5574383748505715, 'bagging_fraction': 0.7036140373075589, 'bagging_freq': 1, 'learning_rate': 0.0827133395199691, 'min_child_samples': 46}. Best is trial 78 with value: 0.7588728327562929.\u001b[0m\n",
      "\u001b[32m[I 2022-03-29 12:08:59,754]\u001b[0m Trial 96 finished with value: 0.7457122996511021 and parameters: {'lambda_l1': 0.03253927164732386, 'lambda_l2': 0.0002762199304712327, 'num_leaves': 171, 'feature_fraction': 0.5164103309953115, 'bagging_fraction': 0.6837691354969995, 'bagging_freq': 1, 'learning_rate': 0.08370428043437857, 'min_child_samples': 46}. Best is trial 78 with value: 0.7588728327562929.\u001b[0m\n"
     ]
    },
    {
     "name": "stdout",
     "output_type": "stream",
     "text": [
      "Did not meet early stopping. Best iteration is:\n",
      "[52]\tvalid_0's auc: 0.810845\n",
      "Did not meet early stopping. Best iteration is:\n",
      "[18]\tvalid_0's auc: 0.80555\n",
      "Did not meet early stopping. Best iteration is:\n",
      "[17]\tvalid_0's auc: 0.803515\n",
      "Did not meet early stopping. Best iteration is:\n",
      "[48]\tvalid_0's auc: 0.806823\n",
      "{'lambda_l1': 2.253338627156604, 'lambda_l2': 8.39742805929346e-07, 'num_leaves': 164, 'feature_fraction': 0.5794984117383485, 'bagging_fraction': 0.7952836535285951, 'bagging_freq': 1, 'learning_rate': 0.18280092857516375, 'min_child_samples': 49} -> 0.7588728327562929\n",
      "[LightGBM] [Warning] feature_fraction is set=0.5794984117383485, colsample_bytree=1.0 will be ignored. Current value: feature_fraction=0.5794984117383485\n",
      "[LightGBM] [Warning] lambda_l1 is set=2.253338627156604, reg_alpha=0.0 will be ignored. Current value: lambda_l1=2.253338627156604\n",
      "[LightGBM] [Warning] bagging_fraction is set=0.7952836535285951, subsample=1.0 will be ignored. Current value: bagging_fraction=0.7952836535285951\n",
      "[LightGBM] [Warning] lambda_l2 is set=8.39742805929346e-07, reg_lambda=0.0 will be ignored. Current value: lambda_l2=8.39742805929346e-07\n",
      "[LightGBM] [Warning] bagging_freq is set=1, subsample_freq=0 will be ignored. Current value: bagging_freq=1\n",
      "Training until validation scores don't improve for 100 rounds\n",
      "Did not meet early stopping. Best iteration is:\n",
      "[23]\tvalid_0's auc: 0.811124\tvalid_0's binary_logloss: 0.503511\n"
     ]
    }
   ],
   "source": [
    "clf_users_fe = get_best_clf(df_train_users_fe)"
   ]
  },
  {
   "cell_type": "code",
   "execution_count": 14,
   "id": "0a03e930",
   "metadata": {
    "ExecuteTime": {
     "end_time": "2022-03-29T10:09:00.711332Z",
     "start_time": "2022-03-29T10:09:00.146366Z"
    }
   },
   "outputs": [
    {
     "name": "stdout",
     "output_type": "stream",
     "text": [
      "AUROC: 0.7395257826887662\n",
      "Accuracy: 0.7506339814032121\n"
     ]
    },
    {
     "data": {
      "image/png": "[encoded data removed]",
      "text/plain": [
       "<Figure size 432x288 with 2 Axes>"
      ]
     },
     "metadata": {
      "needs_background": "light"
     },
     "output_type": "display_data"
    },
    {
     "data": {
      "image/png": "[encoded data removed]",
      "text/plain": [
       "<Figure size 432x288 with 1 Axes>"
      ]
     },
     "metadata": {
      "needs_background": "light"
     },
     "output_type": "display_data"
    }
   ],
   "source": [
    "eval_clf(clf_users_fe, df_test_users_fe)"
   ]
  },
  {
   "cell_type": "markdown",
   "id": "19e518b3",
   "metadata": {},
   "source": [
    "# Detection on tweets metadata"
   ]
  },
  {
   "cell_type": "markdown",
   "id": "aac059a4",
   "metadata": {},
   "source": [
    "## Extract metadata"
   ]
  },
  {
   "cell_type": "code",
   "execution_count": 13,
   "id": "89e63803",
   "metadata": {
    "ExecuteTime": {
     "end_time": "2022-03-28T12:30:23.021238Z",
     "start_time": "2022-03-28T12:30:22.965095Z"
    },
    "deletable": false,
    "editable": false,
    "run_control": {
     "frozen": true
    }
   },
   "outputs": [],
   "source": [
    "def extract_reply(text: str):\n",
    "    res = re.match(r'(@\\w+ )+', text)\n",
    "    if res:\n",
    "        text = text[res.span()[1]:]\n",
    "        return text, True, res.group()[1:-1].split(\" @\")\n",
    "    return text, False, np.nan\n",
    "\n",
    "def extract_retweet(text: str):\n",
    "    res = re.match(r'RT @(\\w+): \\.?', text)\n",
    "    if res:\n",
    "        text = text[res.span(0)[1]:]\n",
    "        return text, True, res.group(1)\n",
    "    return text, False, np.nan\n",
    "\n",
    "def extract_modified_tweet(text: str):\n",
    "    res = re.match(r'MT : ', text)\n",
    "    if res:\n",
    "        text = text[res.span(0)[1]:]\n",
    "        return text, True\n",
    "    return text, False\n",
    "\n",
    "def extract_symbols(text: str, symbol: str):\n",
    "    symbols = [ symbol[1:] for symbol in re.findall(fr\"{symbol}\\w+\\b\", text) ]\n",
    "    text = re.sub(fr\"{symbol}(?=\\w+\\b)\", \"\", text)\n",
    "    return text, symbols\n",
    "\n",
    "def extract_links(text: str):\n",
    "    links = re.findall(\"https?://.+?(?=(?:\\s|$))\", text)\n",
    "    for link in links:\n",
    "        text = text.replace(link, \"\")\n",
    "    return text, links\n",
    "\n",
    "def extract_ellipsis(text: str):\n",
    "    text_cleaned = re.sub(r'\\s*(?:\\.{3}|…|\\(\\d+\\/\\d+\\))\\s*$', \"\", text)\n",
    "    has_ellipsis = len(text_cleaned) != len(text)\n",
    "    return text_cleaned, has_ellipsis\n",
    "\n",
    "# TODO: Get emojis category? (use emojis, or advertools)\n",
    "def extract_emojis(text: str):\n",
    "    # Doesn't get all emojis...\n",
    "    text = emojis.decode(text)\n",
    "    emoji_list = re.findall(r\":(.+?):\", text)\n",
    "    for emoji in emoji_list:\n",
    "        text = text.replace(f\":{emoji}:\", \"\")\n",
    "    return text, emoji_list\n",
    "    \n",
    "def clean_text(text: str):\n",
    "    text_cleaned = unidecode(text)\n",
    "    unk_chars_ratio = len(text_cleaned) / len(text) if text else 0\n",
    "    text_cleaned = re.sub(r'\\s+', ' ', text_cleaned)\n",
    "    return text_cleaned, unk_chars_ratio\n",
    "\n",
    "\n",
    "def extract_artefacts(text: str):\n",
    "    text, is_reply, replies = extract_reply(text)\n",
    "    text_sat = len(text) / 240\n",
    "    \n",
    "    text, is_rt, retweet = extract_retweet(text)\n",
    "    text, is_mt = extract_modified_tweet(text)\n",
    "    text, hashtags = extract_symbols(text, \"#\")\n",
    "    text, mentions = extract_symbols(text, \"@\")\n",
    "    text, cashtags = extract_symbols(text, \"$\")\n",
    "    text, links = extract_links(text)\n",
    "    \n",
    "    text, has_ellipsis = extract_ellipsis(text)\n",
    "    text, emoji_list = extract_emojis(text)\n",
    "    text, unk_chars_ratio = clean_text(text)\n",
    "    \n",
    "    return (\n",
    "        text, text_sat, is_reply, replies, \n",
    "        is_rt, retweet, is_mt, \n",
    "        hashtags, mentions, cashtags, \n",
    "        links, has_ellipsis, emoji_list, \n",
    "        unk_chars_ratio\n",
    "    )\n",
    "\n",
    "\n",
    "def get_artefacts(df: pd.DataFrame):    \n",
    "    new_cols = [ \n",
    "        'tweet', 'text_sat', 'is_reply', 'replies', \n",
    "        'is_rt', 'retweet', 'is_mt', \n",
    "        'hashtags', 'mentions', 'cashtags',\n",
    "        'links', 'has_ellipsis', 'emojis', \n",
    "        'unk_chars_ratio'\n",
    "    ]\n",
    "    df[new_cols] = pd.DataFrame(\n",
    "        df['tweet'].swifter.apply(extract_artefacts).to_list(), \n",
    "        columns=new_cols\n",
    "    )\n",
    "    \n",
    "    df['hashtags_count'] = df['hashtags'].apply(len)\n",
    "    df['mentions_count'] = df['mentions'].apply(len)\n",
    "    df['cashtags_count'] = df['cashtags'].apply(len)\n",
    "    df['links_count'] = df['links'].apply(len)\n",
    "    df['emojis_count'] = df['emojis'].apply(len)\n",
    "    \n",
    "    return df"
   ]
  },
  {
   "cell_type": "code",
   "execution_count": 14,
   "id": "1c8b3724",
   "metadata": {
    "ExecuteTime": {
     "end_time": "2022-03-28T12:10:28.180492Z",
     "start_time": "2022-03-28T11:39:27.446543Z"
    },
    "deletable": false,
    "editable": false,
    "run_control": {
     "frozen": true
    }
   },
   "outputs": [
    {
     "data": {
      "application/vnd.jupyter.widget-view+json": {
       "model_id": "2f58ccecac004e92bc3ccdce9585b0d2",
       "version_major": 2,
       "version_minor": 0
      },
      "text/plain": [
       "Pandas Apply:   0%|          | 0/1398465 [00:00<?, ?it/s]"
      ]
     },
     "metadata": {},
     "output_type": "display_data"
    },
    {
     "data": {
      "application/vnd.jupyter.widget-view+json": {
       "model_id": "f19d6cc4438944b4888b71dab85742e5",
       "version_major": 2,
       "version_minor": 0
      },
      "text/plain": [
       "Pandas Apply:   0%|          | 0/199863 [00:00<?, ?it/s]"
      ]
     },
     "metadata": {},
     "output_type": "display_data"
    },
    {
     "data": {
      "text/html": [
       "<div>\n",
       "<style scoped>\n",
       "    .dataframe tbody tr th:only-of-type {\n",
       "        vertical-align: middle;\n",
       "    }\n",
       "\n",
       "    .dataframe tbody tr th {\n",
       "        vertical-align: top;\n",
       "    }\n",
       "\n",
       "    .dataframe thead th {\n",
       "        text-align: right;\n",
       "    }\n",
       "</style>\n",
       "<table border=\"1\" class=\"dataframe\">\n",
       "  <thead>\n",
       "    <tr style=\"text-align: right;\">\n",
       "      <th></th>\n",
       "      <th>id</th>\n",
       "      <th>screen_name</th>\n",
       "      <th>location</th>\n",
       "      <th>followers_count</th>\n",
       "      <th>friends_count</th>\n",
       "      <th>statuses_count</th>\n",
       "      <th>tweet</th>\n",
       "      <th>label</th>\n",
       "      <th>location_enc</th>\n",
       "      <th>created_at_year</th>\n",
       "      <th>...</th>\n",
       "      <th>cashtags</th>\n",
       "      <th>links</th>\n",
       "      <th>has_ellipsis</th>\n",
       "      <th>emojis</th>\n",
       "      <th>unk_chars_ratio</th>\n",
       "      <th>hashtags_count</th>\n",
       "      <th>mentions_count</th>\n",
       "      <th>cashtags_count</th>\n",
       "      <th>links_count</th>\n",
       "      <th>emojis_count</th>\n",
       "    </tr>\n",
       "  </thead>\n",
       "  <tbody>\n",
       "    <tr>\n",
       "      <th>0</th>\n",
       "      <td>24691376</td>\n",
       "      <td>vangoghmuseum</td>\n",
       "      <td>Amsterdam</td>\n",
       "      <td>1647822</td>\n",
       "      <td>1536</td>\n",
       "      <td>16822</td>\n",
       "      <td>Gustave Courbet was often called 'the most arr...</td>\n",
       "      <td>0</td>\n",
       "      <td>171</td>\n",
       "      <td>2009</td>\n",
       "      <td>...</td>\n",
       "      <td>[]</td>\n",
       "      <td>[https://t.co/0YuOEv9mXU]</td>\n",
       "      <td>False</td>\n",
       "      <td>[triumph, sunflower]</td>\n",
       "      <td>1.0</td>\n",
       "      <td>1</td>\n",
       "      <td>0</td>\n",
       "      <td>0</td>\n",
       "      <td>1</td>\n",
       "      <td>2</td>\n",
       "    </tr>\n",
       "    <tr>\n",
       "      <th>1</th>\n",
       "      <td>259540958</td>\n",
       "      <td>IncredibleCulk</td>\n",
       "      <td>Heading to the corner</td>\n",
       "      <td>808966</td>\n",
       "      <td>146</td>\n",
       "      <td>2223</td>\n",
       "      <td>An animal MackLibs</td>\n",
       "      <td>0</td>\n",
       "      <td>1029</td>\n",
       "      <td>2011</td>\n",
       "      <td>...</td>\n",
       "      <td>[]</td>\n",
       "      <td>[]</td>\n",
       "      <td>False</td>\n",
       "      <td>[]</td>\n",
       "      <td>1.0</td>\n",
       "      <td>1</td>\n",
       "      <td>0</td>\n",
       "      <td>0</td>\n",
       "      <td>0</td>\n",
       "      <td>0</td>\n",
       "    </tr>\n",
       "    <tr>\n",
       "      <th>2</th>\n",
       "      <td>424423803</td>\n",
       "      <td>CyaSteve</td>\n",
       "      <td>Los Angeles, CA</td>\n",
       "      <td>2551</td>\n",
       "      <td>462</td>\n",
       "      <td>26710</td>\n",
       "      <td>I hope it's 900 gems.</td>\n",
       "      <td>1</td>\n",
       "      <td>1416</td>\n",
       "      <td>2011</td>\n",
       "      <td>...</td>\n",
       "      <td>[]</td>\n",
       "      <td>[]</td>\n",
       "      <td>False</td>\n",
       "      <td>[]</td>\n",
       "      <td>1.0</td>\n",
       "      <td>0</td>\n",
       "      <td>0</td>\n",
       "      <td>0</td>\n",
       "      <td>0</td>\n",
       "      <td>0</td>\n",
       "    </tr>\n",
       "    <tr>\n",
       "      <th>3</th>\n",
       "      <td>281902422</td>\n",
       "      <td>SwatiJaiHind</td>\n",
       "      <td>New Delhi, India</td>\n",
       "      <td>326003</td>\n",
       "      <td>381</td>\n",
       "      <td>8848</td>\n",
       "      <td>Delhi : Social Welfare Minister AdvRajendraPal...</td>\n",
       "      <td>0</td>\n",
       "      <td>1724</td>\n",
       "      <td>2011</td>\n",
       "      <td>...</td>\n",
       "      <td>[]</td>\n",
       "      <td>[]</td>\n",
       "      <td>True</td>\n",
       "      <td>[]</td>\n",
       "      <td>1.0</td>\n",
       "      <td>1</td>\n",
       "      <td>2</td>\n",
       "      <td>0</td>\n",
       "      <td>0</td>\n",
       "      <td>0</td>\n",
       "    </tr>\n",
       "    <tr>\n",
       "      <th>4</th>\n",
       "      <td>173195708</td>\n",
       "      <td>Nigella_Lawson</td>\n",
       "      <td>London</td>\n",
       "      <td>2672077</td>\n",
       "      <td>872</td>\n",
       "      <td>36654</td>\n",
       "      <td>I wouldn't even consider going on holiday now,...</td>\n",
       "      <td>0</td>\n",
       "      <td>1381</td>\n",
       "      <td>2010</td>\n",
       "      <td>...</td>\n",
       "      <td>[]</td>\n",
       "      <td>[https://t.co/RFXOHTThMW]</td>\n",
       "      <td>False</td>\n",
       "      <td>[]</td>\n",
       "      <td>1.0</td>\n",
       "      <td>0</td>\n",
       "      <td>0</td>\n",
       "      <td>0</td>\n",
       "      <td>1</td>\n",
       "      <td>0</td>\n",
       "    </tr>\n",
       "  </tbody>\n",
       "</table>\n",
       "<p>5 rows × 32 columns</p>\n",
       "</div>"
      ],
      "text/plain": [
       "          id     screen_name               location  followers_count  \\\n",
       "0   24691376   vangoghmuseum              Amsterdam          1647822   \n",
       "1  259540958  IncredibleCulk  Heading to the corner           808966   \n",
       "2  424423803        CyaSteve        Los Angeles, CA             2551   \n",
       "3  281902422    SwatiJaiHind       New Delhi, India           326003   \n",
       "4  173195708  Nigella_Lawson                 London          2672077   \n",
       "\n",
       "   friends_count  statuses_count  \\\n",
       "0           1536           16822   \n",
       "1            146            2223   \n",
       "2            462           26710   \n",
       "3            381            8848   \n",
       "4            872           36654   \n",
       "\n",
       "                                               tweet  label  location_enc  \\\n",
       "0  Gustave Courbet was often called 'the most arr...      0           171   \n",
       "1                                 An animal MackLibs      0          1029   \n",
       "2                              I hope it's 900 gems.      1          1416   \n",
       "3  Delhi : Social Welfare Minister AdvRajendraPal...      0          1724   \n",
       "4  I wouldn't even consider going on holiday now,...      0          1381   \n",
       "\n",
       "   created_at_year  ...  cashtags                      links  has_ellipsis  \\\n",
       "0             2009  ...        []  [https://t.co/0YuOEv9mXU]         False   \n",
       "1             2011  ...        []                         []         False   \n",
       "2             2011  ...        []                         []         False   \n",
       "3             2011  ...        []                         []          True   \n",
       "4             2010  ...        []  [https://t.co/RFXOHTThMW]         False   \n",
       "\n",
       "                 emojis  unk_chars_ratio  hashtags_count mentions_count  \\\n",
       "0  [triumph, sunflower]              1.0               1              0   \n",
       "1                    []              1.0               1              0   \n",
       "2                    []              1.0               0              0   \n",
       "3                    []              1.0               1              2   \n",
       "4                    []              1.0               0              0   \n",
       "\n",
       "   cashtags_count links_count  emojis_count  \n",
       "0               0           1             2  \n",
       "1               0           0             0  \n",
       "2               0           0             0  \n",
       "3               0           0             0  \n",
       "4               0           1             0  \n",
       "\n",
       "[5 rows x 32 columns]"
      ]
     },
     "execution_count": 14,
     "metadata": {},
     "output_type": "execute_result"
    }
   ],
   "source": [
    "df_train = get_artefacts(df_train)\n",
    "df_test = get_artefacts(df_test)\n",
    "df_train.head()"
   ]
  },
  {
   "cell_type": "markdown",
   "id": "11776e03",
   "metadata": {},
   "source": [
    "> __Improve extraction of emojis__"
   ]
  },
  {
   "cell_type": "markdown",
   "id": "bd3cd499",
   "metadata": {},
   "source": [
    "> __Improve spotting of non-english tweets__"
   ]
  },
  {
   "cell_type": "markdown",
   "id": "b6acb294",
   "metadata": {},
   "source": [
    "> __Investigate tweets with more than 240 chars__"
   ]
  },
  {
   "cell_type": "code",
   "execution_count": 16,
   "id": "fdc70340",
   "metadata": {
    "ExecuteTime": {
     "end_time": "2022-03-28T12:11:51.179962Z",
     "start_time": "2022-03-28T12:10:55.226640Z"
    },
    "deletable": false,
    "editable": false,
    "run_control": {
     "frozen": true
    }
   },
   "outputs": [],
   "source": [
    "df_train.to_csv(PATH.format('train_metadata'))\n",
    "df_test.to_csv(PATH.format('test_metadata'))"
   ]
  },
  {
   "cell_type": "code",
   "execution_count": 15,
   "id": "f67543a7",
   "metadata": {
    "ExecuteTime": {
     "end_time": "2022-03-29T10:09:12.647469Z",
     "start_time": "2022-03-29T10:09:00.711332Z"
    }
   },
   "outputs": [],
   "source": [
    "df_train = pd.read_csv(PATH.format('train_metadata'), index_col='Unnamed: 0')\n",
    "df_test = pd.read_csv(PATH.format('test_metadata'), index_col='Unnamed: 0')"
   ]
  },
  {
   "cell_type": "code",
   "execution_count": 16,
   "id": "7b0e46e2",
   "metadata": {
    "ExecuteTime": {
     "end_time": "2022-03-29T10:09:12.663092Z",
     "start_time": "2022-03-29T10:09:12.647469Z"
    }
   },
   "outputs": [],
   "source": [
    "def filter_metadata(df: pd.DataFrame):\n",
    "    return df.drop([ 'tweet', 'location', 'screen_name', 'id',\n",
    "                     'replies', 'retweet', 'hashtags', 'mentions',\n",
    "                     'cashtags', 'links', 'emojis' ], axis=1)"
   ]
  },
  {
   "cell_type": "code",
   "execution_count": 17,
   "id": "41e48a9d",
   "metadata": {
    "ExecuteTime": {
     "end_time": "2022-03-29T10:09:13.071034Z",
     "start_time": "2022-03-29T10:09:12.663092Z"
    }
   },
   "outputs": [],
   "source": [
    "df_train_meta = filter_metadata(df_train)\n",
    "df_test_meta = filter_metadata(df_test)\n",
    "\n",
    "# Adding engineered features from df_users\n",
    "df_train_meta = add_avg(df_train_meta)\n",
    "df_test_meta = add_avg(df_test_meta)"
   ]
  },
  {
   "cell_type": "markdown",
   "id": "783af3d5",
   "metadata": {},
   "source": [
    "## Training"
   ]
  },
  {
   "cell_type": "markdown",
   "id": "7e3b8ffa",
   "metadata": {},
   "source": [
    "> __Very high AUROC during training, but meh performance in the end bc of over-use of users metadata__"
   ]
  },
  {
   "cell_type": "code",
   "execution_count": 18,
   "id": "7c8942dd",
   "metadata": {
    "ExecuteTime": {
     "end_time": "2022-03-29T10:30:29.952433Z",
     "start_time": "2022-03-29T10:09:13.071034Z"
    },
    "collapsed": true
   },
   "outputs": [
    {
     "name": "stderr",
     "output_type": "stream",
     "text": [
      "\u001b[32m[I 2022-03-29 12:09:13,948]\u001b[0m A new study created in memory with name: no-name-4abfdcc4-e2b6-4eb2-9e4d-7f56c88e0927\u001b[0m\n"
     ]
    },
    {
     "name": "stdout",
     "output_type": "stream",
     "text": [
      "Training until validation scores don't improve for 100 roundsTraining until validation scores don't improve for 100 rounds\n",
      "\n",
      "Training until validation scores don't improve for 100 rounds\n",
      "Training until validation scores don't improve for 100 rounds\n",
      "Training until validation scores don't improve for 100 rounds\n",
      "Training until validation scores don't improve for 100 rounds\n",
      "Training until validation scores don't improve for 100 rounds\n",
      "Training until validation scores don't improve for 100 rounds\n",
      "Did not meet early stopping. Best iteration is:\n",
      "[57]\tvalid_0's auc: 0.868302\n"
     ]
    },
    {
     "name": "stderr",
     "output_type": "stream",
     "text": [
      "\u001b[32m[I 2022-03-29 12:10:41,492]\u001b[0m Trial 1 finished with value: 0.5 and parameters: {'lambda_l1': 4.264872160139117, 'lambda_l2': 0.0014583372938268046, 'num_leaves': 55, 'feature_fraction': 0.6994303983998831, 'bagging_fraction': 0.670745141535865, 'bagging_freq': 7, 'learning_rate': 0.00016136717937104337, 'min_child_samples': 87}. Best is trial 1 with value: 0.5.\u001b[0m\n"
     ]
    },
    {
     "name": "stdout",
     "output_type": "stream",
     "text": [
      "Did not meet early stopping. Best iteration is:\n",
      "[15]\tvalid_0's auc: 0.868803\n"
     ]
    },
    {
     "name": "stderr",
     "output_type": "stream",
     "text": [
      "\u001b[32m[I 2022-03-29 12:10:48,878]\u001b[0m Trial 3 finished with value: 0.5 and parameters: {'lambda_l1': 1.8444213347598857, 'lambda_l2': 2.0567605118211882e-06, 'num_leaves': 66, 'feature_fraction': 0.8352647514920153, 'bagging_fraction': 0.9151520820543831, 'bagging_freq': 1, 'learning_rate': 0.00023816660816078982, 'min_child_samples': 31}. Best is trial 1 with value: 0.5.\u001b[0m\n"
     ]
    },
    {
     "name": "stdout",
     "output_type": "stream",
     "text": [
      "Training until validation scores don't improve for 100 rounds\n",
      "Training until validation scores don't improve for 100 rounds\n",
      "Did not meet early stopping. Best iteration is:\n",
      "[70]\tvalid_0's auc: 0.91525\n"
     ]
    },
    {
     "name": "stderr",
     "output_type": "stream",
     "text": [
      "\u001b[32m[I 2022-03-29 12:11:20,683]\u001b[0m Trial 7 finished with value: 0.5 and parameters: {'lambda_l1': 1.0537903646171027, 'lambda_l2': 2.288003641200138, 'num_leaves': 148, 'feature_fraction': 0.5111351402194475, 'bagging_fraction': 0.5610456611986699, 'bagging_freq': 7, 'learning_rate': 1.9416696081696286e-05, 'min_child_samples': 72}. Best is trial 1 with value: 0.5.\u001b[0m\n"
     ]
    },
    {
     "name": "stdout",
     "output_type": "stream",
     "text": [
      "Training until validation scores don't improve for 100 rounds\n",
      "Did not meet early stopping. Best iteration is:\n",
      "[63]\tvalid_0's auc: 0.90834\n"
     ]
    },
    {
     "name": "stderr",
     "output_type": "stream",
     "text": [
      "\u001b[32m[I 2022-03-29 12:11:37,745]\u001b[0m Trial 5 finished with value: 0.5 and parameters: {'lambda_l1': 2.3212421699383325, 'lambda_l2': 3.982733533298371e-06, 'num_leaves': 221, 'feature_fraction': 0.9309327572532428, 'bagging_fraction': 0.6770823698291327, 'bagging_freq': 5, 'learning_rate': 1.751533177337642e-05, 'min_child_samples': 39}. Best is trial 1 with value: 0.5.\u001b[0m\n"
     ]
    },
    {
     "name": "stdout",
     "output_type": "stream",
     "text": [
      "Did not meet early stopping. Best iteration is:\n",
      "[57]\tvalid_0's auc: 0.922035\n"
     ]
    },
    {
     "name": "stderr",
     "output_type": "stream",
     "text": [
      "\u001b[32m[I 2022-03-29 12:11:43,420]\u001b[0m Trial 2 finished with value: 0.5 and parameters: {'lambda_l1': 2.456816396995387e-08, 'lambda_l2': 7.750954643645542, 'num_leaves': 210, 'feature_fraction': 0.7923875439105925, 'bagging_fraction': 0.711905301947519, 'bagging_freq': 7, 'learning_rate': 0.00011548679720841048, 'min_child_samples': 31}. Best is trial 1 with value: 0.5.\u001b[0m\n"
     ]
    },
    {
     "name": "stdout",
     "output_type": "stream",
     "text": [
      "Training until validation scores don't improve for 100 rounds\n",
      "Did not meet early stopping. Best iteration is:\n",
      "[68]\tvalid_0's auc: 0.934208\n",
      "Training until validation scores don't improve for 100 rounds\n"
     ]
    },
    {
     "name": "stderr",
     "output_type": "stream",
     "text": [
      "\u001b[32m[I 2022-03-29 12:11:53,012]\u001b[0m Trial 6 finished with value: 0.5 and parameters: {'lambda_l1': 0.005463559099901017, 'lambda_l2': 0.0008069670701392225, 'num_leaves': 196, 'feature_fraction': 0.4961764162601395, 'bagging_fraction': 0.8707611318161135, 'bagging_freq': 4, 'learning_rate': 8.464739887915737e-05, 'min_child_samples': 95}. Best is trial 1 with value: 0.5.\u001b[0m\n"
     ]
    },
    {
     "name": "stdout",
     "output_type": "stream",
     "text": [
      "Did not meet early stopping. Best iteration is:\n",
      "[15]\tvalid_0's auc: 0.93909\n",
      "Training until validation scores don't improve for 100 rounds\n"
     ]
    },
    {
     "name": "stderr",
     "output_type": "stream",
     "text": [
      "\u001b[32m[I 2022-03-29 12:12:00,398]\u001b[0m Trial 4 finished with value: 0.5 and parameters: {'lambda_l1': 7.834899473523701e-07, 'lambda_l2': 0.21657514201179995, 'num_leaves': 250, 'feature_fraction': 0.7560543703105884, 'bagging_fraction': 0.40683708812020436, 'bagging_freq': 6, 'learning_rate': 1.869998142511975e-05, 'min_child_samples': 73}. Best is trial 1 with value: 0.5.\u001b[0m\n"
     ]
    },
    {
     "name": "stdout",
     "output_type": "stream",
     "text": [
      "Training until validation scores don't improve for 100 rounds\n",
      "Did not meet early stopping. Best iteration is:\n",
      "[63]\tvalid_0's auc: 0.893226\n"
     ]
    },
    {
     "name": "stderr",
     "output_type": "stream",
     "text": [
      "\u001b[32m[I 2022-03-29 12:12:12,378]\u001b[0m Trial 8 finished with value: 0.5 and parameters: {'lambda_l1': 2.52006320646355e-05, 'lambda_l2': 3.596005449065642e-08, 'num_leaves': 164, 'feature_fraction': 0.9755906898970677, 'bagging_fraction': 0.6005503651828477, 'bagging_freq': 6, 'learning_rate': 0.00012777582431037249, 'min_child_samples': 66}. Best is trial 1 with value: 0.5.\u001b[0m\n"
     ]
    },
    {
     "name": "stdout",
     "output_type": "stream",
     "text": [
      "Training until validation scores don't improve for 100 rounds\n",
      "Did not meet early stopping. Best iteration is:\n",
      "[65]\tvalid_0's auc: 0.948873\n"
     ]
    },
    {
     "name": "stderr",
     "output_type": "stream",
     "text": [
      "\u001b[32m[I 2022-03-29 12:12:23,356]\u001b[0m Trial 0 finished with value: 0.5 and parameters: {'lambda_l1': 2.6975528359454295e-07, 'lambda_l2': 0.001294229775218079, 'num_leaves': 250, 'feature_fraction': 0.47243152687668655, 'bagging_fraction': 0.8035318371955502, 'bagging_freq': 7, 'learning_rate': 1.0384420419991724e-05, 'min_child_samples': 27}. Best is trial 1 with value: 0.5.\u001b[0m\n"
     ]
    },
    {
     "name": "stdout",
     "output_type": "stream",
     "text": [
      "Training until validation scores don't improve for 100 rounds\n",
      "Did not meet early stopping. Best iteration is:\n",
      "[100]\tvalid_0's auc: 0.886735\n"
     ]
    },
    {
     "name": "stderr",
     "output_type": "stream",
     "text": [
      "\u001b[32m[I 2022-03-29 12:12:35,463]\u001b[0m Trial 10 finished with value: 0.7901501925087299 and parameters: {'lambda_l1': 0.050109173666486095, 'lambda_l2': 3.55974215961117e-05, 'num_leaves': 81, 'feature_fraction': 0.7556890489209807, 'bagging_fraction': 0.9589511282110921, 'bagging_freq': 5, 'learning_rate': 0.002822144765663877, 'min_child_samples': 67}. Best is trial 10 with value: 0.7901501925087299.\u001b[0m\n"
     ]
    },
    {
     "name": "stdout",
     "output_type": "stream",
     "text": [
      "Training until validation scores don't improve for 100 rounds\n",
      "Did not meet early stopping. Best iteration is:\n",
      "[15]\tvalid_0's auc: 0.931941\n"
     ]
    },
    {
     "name": "stderr",
     "output_type": "stream",
     "text": [
      "\u001b[32m[I 2022-03-29 12:12:55,053]\u001b[0m Trial 9 finished with value: 0.5 and parameters: {'lambda_l1': 5.491242739316068e-08, 'lambda_l2': 0.028079133221976426, 'num_leaves': 228, 'feature_fraction': 0.7710943644304588, 'bagging_fraction': 0.5147405253062906, 'bagging_freq': 5, 'learning_rate': 8.792744881821046e-05, 'min_child_samples': 10}. Best is trial 10 with value: 0.7901501925087299.\u001b[0m\n"
     ]
    },
    {
     "name": "stdout",
     "output_type": "stream",
     "text": [
      "Training until validation scores don't improve for 100 rounds\n",
      "Did not meet early stopping. Best iteration is:\n",
      "[100]\tvalid_0's auc: 0.864922\n"
     ]
    },
    {
     "name": "stderr",
     "output_type": "stream",
     "text": [
      "\u001b[32m[I 2022-03-29 12:13:03,203]\u001b[0m Trial 17 finished with value: 0.7770328481501612 and parameters: {'lambda_l1': 0.008799529592961791, 'lambda_l2': 4.984774448232746e-06, 'num_leaves': 9, 'feature_fraction': 0.6351242912162792, 'bagging_fraction': 0.9878288928601283, 'bagging_freq': 3, 'learning_rate': 0.07051142182150763, 'min_child_samples': 48}. Best is trial 10 with value: 0.7901501925087299.\u001b[0m\n"
     ]
    },
    {
     "name": "stdout",
     "output_type": "stream",
     "text": [
      "Training until validation scores don't improve for 100 rounds\n",
      "Did not meet early stopping. Best iteration is:\n",
      "[100]\tvalid_0's auc: 0.999533\n"
     ]
    },
    {
     "name": "stderr",
     "output_type": "stream",
     "text": [
      "\u001b[32m[I 2022-03-29 12:13:10,704]\u001b[0m Trial 13 finished with value: 0.9838279119812016 and parameters: {'lambda_l1': 3.031846441028964, 'lambda_l2': 6.642875983008096e-08, 'num_leaves': 87, 'feature_fraction': 0.9165791106501625, 'bagging_fraction': 0.8734647405448934, 'bagging_freq': 7, 'learning_rate': 0.11841263788840185, 'min_child_samples': 54}. Best is trial 13 with value: 0.9838279119812016.\u001b[0m\n"
     ]
    },
    {
     "name": "stdout",
     "output_type": "stream",
     "text": [
      "Training until validation scores don't improve for 100 rounds\n",
      "Did not meet early stopping. Best iteration is:\n",
      "[100]\tvalid_0's auc: 0.835382\n"
     ]
    },
    {
     "name": "stderr",
     "output_type": "stream",
     "text": [
      "\u001b[32m[I 2022-03-29 12:13:26,167]\u001b[0m Trial 19 finished with value: 0.7647697702259029 and parameters: {'lambda_l1': 0.015444854587081211, 'lambda_l2': 8.660523617539295e-06, 'num_leaves': 3, 'feature_fraction': 0.6238243406179745, 'bagging_fraction': 0.9625322609541173, 'bagging_freq': 3, 'learning_rate': 0.07732021608042976, 'min_child_samples': 48}. Best is trial 13 with value: 0.9838279119812016.\u001b[0m\n"
     ]
    },
    {
     "name": "stdout",
     "output_type": "stream",
     "text": [
      "Training until validation scores don't improve for 100 rounds\n",
      "Did not meet early stopping. Best iteration is:\n",
      "[15]\tvalid_0's auc: 0.883807\n"
     ]
    },
    {
     "name": "stderr",
     "output_type": "stream",
     "text": [
      "\u001b[32m[I 2022-03-29 12:13:41,903]\u001b[0m Trial 15 finished with value: 0.5 and parameters: {'lambda_l1': 7.807164216944818e-06, 'lambda_l2': 0.26798600336458345, 'num_leaves': 99, 'feature_fraction': 0.8551575711309667, 'bagging_fraction': 0.9798751005187085, 'bagging_freq': 4, 'learning_rate': 3.337992506781232e-05, 'min_child_samples': 47}. Best is trial 13 with value: 0.9838279119812016.\u001b[0m\n"
     ]
    },
    {
     "name": "stdout",
     "output_type": "stream",
     "text": [
      "Training until validation scores don't improve for 100 rounds\n",
      "Did not meet early stopping. Best iteration is:\n",
      "[100]\tvalid_0's auc: 0.96305\n"
     ]
    },
    {
     "name": "stderr",
     "output_type": "stream",
     "text": [
      "\u001b[32m[I 2022-03-29 12:13:50,059]\u001b[0m Trial 14 finished with value: 0.8579940443102692 and parameters: {'lambda_l1': 0.00960718918818741, 'lambda_l2': 2.133149418652582e-08, 'num_leaves': 98, 'feature_fraction': 0.8136264001055812, 'bagging_fraction': 0.6991296952692307, 'bagging_freq': 5, 'learning_rate': 0.03068088564090973, 'min_child_samples': 59}. Best is trial 13 with value: 0.9838279119812016.\u001b[0m\n"
     ]
    },
    {
     "name": "stdout",
     "output_type": "stream",
     "text": [
      "Did not meet early stopping. Best iteration is:\n",
      "[100]\tvalid_0's auc: 0.995426\n",
      "Training until validation scores don't improve for 100 rounds\n"
     ]
    },
    {
     "name": "stderr",
     "output_type": "stream",
     "text": [
      "\u001b[32m[I 2022-03-29 12:13:57,477]\u001b[0m Trial 16 finished with value: 0.9430764472115045 and parameters: {'lambda_l1': 1.4359763677518726e-07, 'lambda_l2': 0.2077161823962858, 'num_leaves': 93, 'feature_fraction': 0.5663194843285358, 'bagging_fraction': 0.8406962658160975, 'bagging_freq': 2, 'learning_rate': 0.0753834550369329, 'min_child_samples': 56}. Best is trial 13 with value: 0.9838279119812016.\u001b[0m\n"
     ]
    },
    {
     "name": "stdout",
     "output_type": "stream",
     "text": [
      "Training until validation scores don't improve for 100 rounds\n",
      "Did not meet early stopping. Best iteration is:\n",
      "[100]\tvalid_0's auc: 0.975731\n"
     ]
    },
    {
     "name": "stderr",
     "output_type": "stream",
     "text": [
      "\u001b[32m[I 2022-03-29 12:14:08,078]\u001b[0m Trial 11 finished with value: 0.8781457199701604 and parameters: {'lambda_l1': 0.006626855800623823, 'lambda_l2': 0.06344873195992938, 'num_leaves': 173, 'feature_fraction': 0.5054203865970731, 'bagging_fraction': 0.6881572919769656, 'bagging_freq': 3, 'learning_rate': 0.02183328107288816, 'min_child_samples': 6}. Best is trial 13 with value: 0.9838279119812016.\u001b[0m\n"
     ]
    },
    {
     "name": "stdout",
     "output_type": "stream",
     "text": [
      "Training until validation scores don't improve for 100 rounds\n",
      "Did not meet early stopping. Best iteration is:\n",
      "[100]\tvalid_0's auc: 0.92537\n",
      "Did not meet early stopping. Best iteration is:\n",
      "[100]\tvalid_0's auc: 0.951776\n"
     ]
    },
    {
     "name": "stderr",
     "output_type": "stream",
     "text": [
      "\u001b[32m[I 2022-03-29 12:14:30,975]\u001b[0m Trial 18 finished with value: 0.8270818287905866 and parameters: {'lambda_l1': 0.004618346969771007, 'lambda_l2': 2.6671979567963778e-05, 'num_leaves': 96, 'feature_fraction': 0.6122407789857789, 'bagging_fraction': 0.9941069444306243, 'bagging_freq': 3, 'learning_rate': 0.015177379299870597, 'min_child_samples': 50}. Best is trial 13 with value: 0.9838279119812016.\u001b[0m\n",
      "\u001b[32m[I 2022-03-29 12:14:34,440]\u001b[0m Trial 12 finished with value: 0.8414036144702589 and parameters: {'lambda_l1': 0.04605481014585212, 'lambda_l2': 1.8598981060100152e-06, 'num_leaves': 215, 'feature_fraction': 0.5832096397170674, 'bagging_fraction': 0.5046825181591058, 'bagging_freq': 4, 'learning_rate': 0.005014876362675631, 'min_child_samples': 28}. Best is trial 13 with value: 0.9838279119812016.\u001b[0m\n"
     ]
    },
    {
     "name": "stdout",
     "output_type": "stream",
     "text": [
      "Training until validation scores don't improve for 100 rounds\n",
      "Training until validation scores don't improve for 100 rounds\n",
      "Did not meet early stopping. Best iteration is:\n",
      "[100]\tvalid_0's auc: 0.975483\n",
      "Did not meet early stopping. Best iteration is:\n",
      "[100]\tvalid_0's auc: 0.90208\n"
     ]
    },
    {
     "name": "stderr",
     "output_type": "stream",
     "text": [
      "\u001b[32m[I 2022-03-29 12:14:50,828]\u001b[0m Trial 20 finished with value: 0.880106282525319 and parameters: {'lambda_l1': 0.024344533137362633, 'lambda_l2': 1.6409646920696298e-08, 'num_leaves': 107, 'feature_fraction': 0.8919236307479985, 'bagging_fraction': 0.9997218126060499, 'bagging_freq': 3, 'learning_rate': 0.03420816464525132, 'min_child_samples': 58}. Best is trial 13 with value: 0.9838279119812016.\u001b[0m\n",
      "\u001b[32m[I 2022-03-29 12:14:54,044]\u001b[0m Trial 21 finished with value: 0.8154705974373178 and parameters: {'lambda_l1': 0.04595563967540506, 'lambda_l2': 1.3695865650789546e-08, 'num_leaves': 90, 'feature_fraction': 0.8677321465293344, 'bagging_fraction': 0.8098063838798674, 'bagging_freq': 5, 'learning_rate': 0.008367300554726636, 'min_child_samples': 61}. Best is trial 13 with value: 0.9838279119812016.\u001b[0m\n"
     ]
    },
    {
     "name": "stdout",
     "output_type": "stream",
     "text": [
      "Training until validation scores don't improve for 100 rounds\n",
      "Training until validation scores don't improve for 100 rounds\n",
      "Did not meet early stopping. Best iteration is:\n",
      "[100]\tvalid_0's auc: 0.921279\n"
     ]
    },
    {
     "name": "stderr",
     "output_type": "stream",
     "text": [
      "\u001b[32m[I 2022-03-29 12:15:18,624]\u001b[0m Trial 22 finished with value: 0.8247662080920428 and parameters: {'lambda_l1': 0.11489893488438435, 'lambda_l2': 1.4953980527052828e-08, 'num_leaves': 102, 'feature_fraction': 0.881019769854079, 'bagging_fraction': 0.8156411671203793, 'bagging_freq': 5, 'learning_rate': 0.011808855164834018, 'min_child_samples': 62}. Best is trial 13 with value: 0.9838279119812016.\u001b[0m\n"
     ]
    },
    {
     "name": "stdout",
     "output_type": "stream",
     "text": [
      "Training until validation scores don't improve for 100 rounds\n",
      "Did not meet early stopping. Best iteration is:\n",
      "[100]\tvalid_0's auc: 0.984785\n"
     ]
    },
    {
     "name": "stderr",
     "output_type": "stream",
     "text": [
      "\u001b[32m[I 2022-03-29 12:15:40,120]\u001b[0m Trial 27 finished with value: 0.9173235395117867 and parameters: {'lambda_l1': 0.00022182433672133934, 'lambda_l2': 3.7884216415418423e-07, 'num_leaves': 36, 'feature_fraction': 0.41297158909584847, 'bagging_fraction': 0.8123403360079967, 'bagging_freq': 1, 'learning_rate': 0.18334560918492962, 'min_child_samples': 85}. Best is trial 13 with value: 0.9838279119812016.\u001b[0m\n"
     ]
    },
    {
     "name": "stdout",
     "output_type": "stream",
     "text": [
      "Did not meet early stopping. Best iteration is:\n",
      "[100]\tvalid_0's auc: 0.999999\n"
     ]
    },
    {
     "name": "stderr",
     "output_type": "stream",
     "text": [
      "\u001b[32m[I 2022-03-29 12:15:45,099]\u001b[0m Trial 23 finished with value: 0.9996106340177182 and parameters: {'lambda_l1': 0.0003775806859027942, 'lambda_l2': 1.1503997158294509e-08, 'num_leaves': 114, 'feature_fraction': 0.9127361308957884, 'bagging_fraction': 0.8033743867334696, 'bagging_freq': 6, 'learning_rate': 0.25536672940321925, 'min_child_samples': 61}. Best is trial 23 with value: 0.9996106340177182.\u001b[0m\n"
     ]
    },
    {
     "name": "stdout",
     "output_type": "stream",
     "text": [
      "Training until validation scores don't improve for 100 rounds\n",
      "Training until validation scores don't improve for 100 rounds\n",
      "Did not meet early stopping. Best iteration is:\n",
      "[100]\tvalid_0's auc: 0.999998\n"
     ]
    },
    {
     "name": "stderr",
     "output_type": "stream",
     "text": [
      "\u001b[32m[I 2022-03-29 12:15:57,352]\u001b[0m Trial 24 finished with value: 0.999582077604811 and parameters: {'lambda_l1': 0.00039132105496529455, 'lambda_l2': 2.608487656531571e-07, 'num_leaves': 123, 'feature_fraction': 0.6166456650600765, 'bagging_fraction': 0.7869978585043078, 'bagging_freq': 1, 'learning_rate': 0.28047683434319964, 'min_child_samples': 83}. Best is trial 23 with value: 0.9996106340177182.\u001b[0m\n"
     ]
    },
    {
     "name": "stdout",
     "output_type": "stream",
     "text": [
      "Training until validation scores don't improve for 100 rounds\n",
      "Did not meet early stopping. Best iteration is:\n",
      "[100]\tvalid_0's auc: 0.999996\n"
     ]
    },
    {
     "name": "stderr",
     "output_type": "stream",
     "text": [
      "\u001b[32m[I 2022-03-29 12:16:08,941]\u001b[0m Trial 25 finished with value: 0.9995698019742213 and parameters: {'lambda_l1': 0.00032966058220338604, 'lambda_l2': 1.045724522484912e-07, 'num_leaves': 130, 'feature_fraction': 0.5988058621560889, 'bagging_fraction': 0.8228430622212735, 'bagging_freq': 1, 'learning_rate': 0.23244758958387965, 'min_child_samples': 83}. Best is trial 23 with value: 0.9996106340177182.\u001b[0m\n"
     ]
    },
    {
     "name": "stdout",
     "output_type": "stream",
     "text": [
      "Training until validation scores don't improve for 100 rounds\n",
      "Did not meet early stopping. Best iteration is:\n",
      "[100]\tvalid_0's auc: 0.992423\n"
     ]
    },
    {
     "name": "stderr",
     "output_type": "stream",
     "text": [
      "\u001b[32m[I 2022-03-29 12:16:26,929]\u001b[0m Trial 31 finished with value: 0.9449410575248778 and parameters: {'lambda_l1': 0.0002725212821910671, 'lambda_l2': 2.816131063342537e-07, 'num_leaves': 32, 'feature_fraction': 0.42235221218953134, 'bagging_fraction': 0.8645248938500022, 'bagging_freq': 1, 'learning_rate': 0.28608145275656177, 'min_child_samples': 84}. Best is trial 23 with value: 0.9996106340177182.\u001b[0m\n"
     ]
    },
    {
     "name": "stdout",
     "output_type": "stream",
     "text": [
      "Training until validation scores don't improve for 100 rounds\n",
      "Did not meet early stopping. Best iteration is:\n",
      "[100]\tvalid_0's auc: 0.999999\n"
     ]
    },
    {
     "name": "stderr",
     "output_type": "stream",
     "text": [
      "\u001b[32m[I 2022-03-29 12:16:36,103]\u001b[0m Trial 26 finished with value: 0.9994232152433384 and parameters: {'lambda_l1': 0.00021161691217749004, 'lambda_l2': 2.8421685498064886e-07, 'num_leaves': 127, 'feature_fraction': 0.4207062199642385, 'bagging_fraction': 0.8108323900636919, 'bagging_freq': 1, 'learning_rate': 0.27769934541506125, 'min_child_samples': 88}. Best is trial 23 with value: 0.9996106340177182.\u001b[0m\n"
     ]
    },
    {
     "name": "stdout",
     "output_type": "stream",
     "text": [
      "Did not meet early stopping. Best iteration is:\n",
      "[99]\tvalid_0's auc: 1\n"
     ]
    },
    {
     "name": "stderr",
     "output_type": "stream",
     "text": [
      "\u001b[32m[I 2022-03-29 12:16:40,353]\u001b[0m Trial 28 finished with value: 0.9997508526029126 and parameters: {'lambda_l1': 0.00032574720269417805, 'lambda_l2': 5.057248106078933e-08, 'num_leaves': 119, 'feature_fraction': 0.9034027933885391, 'bagging_fraction': 0.8342429990334918, 'bagging_freq': 1, 'learning_rate': 0.29777689593036366, 'min_child_samples': 58}. Best is trial 28 with value: 0.9997508526029126.\u001b[0m\n"
     ]
    },
    {
     "name": "stdout",
     "output_type": "stream",
     "text": [
      "Did not meet early stopping. Best iteration is:\n",
      "[100]\tvalid_0's auc: 0.999998\n"
     ]
    },
    {
     "name": "stderr",
     "output_type": "stream",
     "text": [
      "\u001b[32m[I 2022-03-29 12:16:46,766]\u001b[0m Trial 29 finished with value: 0.9994008968884165 and parameters: {'lambda_l1': 6.764615032445058e-05, 'lambda_l2': 2.0308628451858993e-07, 'num_leaves': 129, 'feature_fraction': 0.9177187562260676, 'bagging_fraction': 0.8583031462497501, 'bagging_freq': 1, 'learning_rate': 0.19743872222752376, 'min_child_samples': 79}. Best is trial 28 with value: 0.9997508526029126.\u001b[0m\n"
     ]
    },
    {
     "name": "stdout",
     "output_type": "stream",
     "text": [
      "Training until validation scores don't improve for 100 rounds\n",
      "Training until validation scores don't improve for 100 rounds\n",
      "Training until validation scores don't improve for 100 rounds\n",
      "Did not meet early stopping. Best iteration is:\n",
      "[100]\tvalid_0's auc: 1\n"
     ]
    },
    {
     "name": "stderr",
     "output_type": "stream",
     "text": [
      "\u001b[32m[I 2022-03-29 12:17:11,749]\u001b[0m Trial 32 finished with value: 0.9997389274420821 and parameters: {'lambda_l1': 0.0005210929641844235, 'lambda_l2': 3.590253124448425e-07, 'num_leaves': 129, 'feature_fraction': 0.9932329783107411, 'bagging_fraction': 0.7520521174420818, 'bagging_freq': 2, 'learning_rate': 0.2726586591913255, 'min_child_samples': 78}. Best is trial 28 with value: 0.9997508526029126.\u001b[0m\n"
     ]
    },
    {
     "name": "stdout",
     "output_type": "stream",
     "text": [
      "Did not meet early stopping. Best iteration is:\n",
      "[100]\tvalid_0's auc: 0.999999\n",
      "Training until validation scores don't improve for 100 rounds\n"
     ]
    },
    {
     "name": "stderr",
     "output_type": "stream",
     "text": [
      "\u001b[32m[I 2022-03-29 12:17:18,995]\u001b[0m Trial 30 finished with value: 0.9995320338642031 and parameters: {'lambda_l1': 0.0005053774166518964, 'lambda_l2': 3.988723439996807e-07, 'num_leaves': 130, 'feature_fraction': 0.9363989563404241, 'bagging_fraction': 0.8930080620923502, 'bagging_freq': 1, 'learning_rate': 0.23200297917029494, 'min_child_samples': 82}. Best is trial 28 with value: 0.9997508526029126.\u001b[0m\n"
     ]
    },
    {
     "name": "stdout",
     "output_type": "stream",
     "text": [
      "Did not meet early stopping. Best iteration is:\n",
      "[100]\tvalid_0's auc: 0.999992\n",
      "Training until validation scores don't improve for 100 rounds\n"
     ]
    },
    {
     "name": "stderr",
     "output_type": "stream",
     "text": [
      "\u001b[32m[I 2022-03-29 12:17:26,255]\u001b[0m Trial 33 finished with value: 0.999664812997757 and parameters: {'lambda_l1': 0.00046855638418478654, 'lambda_l2': 1.8865377432662442e-07, 'num_leaves': 128, 'feature_fraction': 0.9837797635919754, 'bagging_fraction': 0.7700365879719584, 'bagging_freq': 6, 'learning_rate': 0.23287120531133595, 'min_child_samples': 76}. Best is trial 28 with value: 0.9997508526029126.\u001b[0m\n"
     ]
    },
    {
     "name": "stdout",
     "output_type": "stream",
     "text": [
      "Training until validation scores don't improve for 100 rounds\n",
      "Did not meet early stopping. Best iteration is:\n",
      "[99]\tvalid_0's auc: 0.999999\n"
     ]
    },
    {
     "name": "stderr",
     "output_type": "stream",
     "text": [
      "\u001b[32m[I 2022-03-29 12:18:01,368]\u001b[0m Trial 34 finished with value: 0.9995596490588612 and parameters: {'lambda_l1': 0.00051828264929944, 'lambda_l2': 1.652813650588324e-07, 'num_leaves': 128, 'feature_fraction': 0.6894478750524767, 'bagging_fraction': 0.7621410031088948, 'bagging_freq': 2, 'learning_rate': 0.23978949798740157, 'min_child_samples': 79}. Best is trial 28 with value: 0.9997508526029126.\u001b[0m\n"
     ]
    },
    {
     "name": "stdout",
     "output_type": "stream",
     "text": [
      "Training until validation scores don't improve for 100 rounds\n",
      "Did not meet early stopping. Best iteration is:\n",
      "[100]\tvalid_0's auc: 0.990623\n"
     ]
    },
    {
     "name": "stderr",
     "output_type": "stream",
     "text": [
      "\u001b[32m[I 2022-03-29 12:18:12,571]\u001b[0m Trial 37 finished with value: 0.9226704328726979 and parameters: {'lambda_l1': 0.0009733391529002466, 'lambda_l2': 8.409837636428212e-07, 'num_leaves': 125, 'feature_fraction': 0.9947838151311328, 'bagging_fraction': 0.914125075576984, 'bagging_freq': 2, 'learning_rate': 0.04091124407863589, 'min_child_samples': 98}. Best is trial 28 with value: 0.9997508526029126.\u001b[0m\n"
     ]
    },
    {
     "name": "stdout",
     "output_type": "stream",
     "text": [
      "Did not meet early stopping. Best iteration is:\n",
      "[63]\tvalid_0's auc: 0.907205\n",
      "Training until validation scores don't improve for 100 rounds\n"
     ]
    },
    {
     "name": "stderr",
     "output_type": "stream",
     "text": [
      "\u001b[32m[I 2022-03-29 12:18:19,622]\u001b[0m Trial 36 finished with value: 0.5 and parameters: {'lambda_l1': 0.0011712108798505995, 'lambda_l2': 1.5473031620952492e-07, 'num_leaves': 137, 'feature_fraction': 0.6925404527042942, 'bagging_fraction': 0.7542315099042416, 'bagging_freq': 2, 'learning_rate': 0.0005747463920911062, 'min_child_samples': 96}. Best is trial 28 with value: 0.9997508526029126.\u001b[0m\n"
     ]
    },
    {
     "name": "stdout",
     "output_type": "stream",
     "text": [
      "Did not meet early stopping. Best iteration is:\n",
      "[100]\tvalid_0's auc: 0.902546\n",
      "Training until validation scores don't improve for 100 rounds\n"
     ]
    },
    {
     "name": "stderr",
     "output_type": "stream",
     "text": [
      "\u001b[32m[I 2022-03-29 12:18:27,858]\u001b[0m Trial 35 finished with value: 0.5 and parameters: {'lambda_l1': 5.4784694379135194e-05, 'lambda_l2': 2.420792925992028e-07, 'num_leaves': 125, 'feature_fraction': 0.686314380785664, 'bagging_fraction': 0.7742800229912121, 'bagging_freq': 2, 'learning_rate': 0.000555569820290767, 'min_child_samples': 99}. Best is trial 28 with value: 0.9997508526029126.\u001b[0m\n"
     ]
    },
    {
     "name": "stdout",
     "output_type": "stream",
     "text": [
      "Did not meet early stopping. Best iteration is:\n",
      "[60]\tvalid_0's auc: 0.911578\n",
      "Training until validation scores don't improve for 100 rounds\n"
     ]
    },
    {
     "name": "stderr",
     "output_type": "stream",
     "text": [
      "\u001b[32m[I 2022-03-29 12:18:36,587]\u001b[0m Trial 38 finished with value: 0.5 and parameters: {'lambda_l1': 0.0012221126770003367, 'lambda_l2': 1.4837411519883225e-07, 'num_leaves': 147, 'feature_fraction': 0.6836724577053643, 'bagging_fraction': 0.7534944683167135, 'bagging_freq': 2, 'learning_rate': 0.0005149021487326856, 'min_child_samples': 98}. Best is trial 28 with value: 0.9997508526029126.\u001b[0m\n"
     ]
    },
    {
     "name": "stdout",
     "output_type": "stream",
     "text": [
      "Training until validation scores don't improve for 100 rounds\n",
      "Did not meet early stopping. Best iteration is:\n",
      "[100]\tvalid_0's auc: 0.888546\n"
     ]
    },
    {
     "name": "stderr",
     "output_type": "stream",
     "text": [
      "\u001b[32m[I 2022-03-29 12:19:04,830]\u001b[0m Trial 39 finished with value: 0.6878163716654065 and parameters: {'lambda_l1': 0.0008176825981640147, 'lambda_l2': 9.572192751756944e-07, 'num_leaves': 146, 'feature_fraction': 0.9879072546085776, 'bagging_fraction': 0.7539202804087166, 'bagging_freq': 2, 'learning_rate': 0.0010878273413901084, 'min_child_samples': 94}. Best is trial 28 with value: 0.9997508526029126.\u001b[0m\n"
     ]
    },
    {
     "name": "stdout",
     "output_type": "stream",
     "text": [
      "Training until validation scores don't improve for 100 rounds\n",
      "Did not meet early stopping. Best iteration is:\n",
      "[100]\tvalid_0's auc: 0.889851\n"
     ]
    },
    {
     "name": "stderr",
     "output_type": "stream",
     "text": [
      "\u001b[32m[I 2022-03-29 12:19:15,201]\u001b[0m Trial 40 finished with value: 0.6736413684916605 and parameters: {'lambda_l1': 0.0016619703806763412, 'lambda_l2': 7.738229763510573e-07, 'num_leaves': 151, 'feature_fraction': 0.9999341268072429, 'bagging_fraction': 0.7542453222360289, 'bagging_freq': 2, 'learning_rate': 0.000986385523077553, 'min_child_samples': 75}. Best is trial 28 with value: 0.9997508526029126.\u001b[0m\n"
     ]
    },
    {
     "name": "stdout",
     "output_type": "stream",
     "text": [
      "Did not meet early stopping. Best iteration is:\n",
      "[100]\tvalid_0's auc: 0.996355\n"
     ]
    },
    {
     "name": "stderr",
     "output_type": "stream",
     "text": [
      "\u001b[32m[I 2022-03-29 12:19:21,414]\u001b[0m Trial 41 finished with value: 0.9456670276519944 and parameters: {'lambda_l1': 0.0019149931525731382, 'lambda_l2': 9.870260449856112e-07, 'num_leaves': 150, 'feature_fraction': 0.9973862233775741, 'bagging_fraction': 0.7601397175942797, 'bagging_freq': 2, 'learning_rate': 0.04322346771549716, 'min_child_samples': 73}. Best is trial 28 with value: 0.9997508526029126.\u001b[0m\n"
     ]
    },
    {
     "name": "stdout",
     "output_type": "stream",
     "text": [
      "Training until validation scores don't improve for 100 rounds\n",
      "Training until validation scores don't improve for 100 rounds\n",
      "Did not meet early stopping. Best iteration is:\n",
      "[100]\tvalid_0's auc: 0.996292\n"
     ]
    },
    {
     "name": "stderr",
     "output_type": "stream",
     "text": [
      "\u001b[32m[I 2022-03-29 12:19:37,872]\u001b[0m Trial 46 finished with value: 0.9536276860729866 and parameters: {'lambda_l1': 5.4191924713437955e-06, 'lambda_l2': 0.00014013367391124305, 'num_leaves': 70, 'feature_fraction': 0.9608219359120572, 'bagging_fraction': 0.6505361883728817, 'bagging_freq': 6, 'learning_rate': 0.10692062891592202, 'min_child_samples': 74}. Best is trial 28 with value: 0.9997508526029126.\u001b[0m\n"
     ]
    },
    {
     "name": "stdout",
     "output_type": "stream",
     "text": [
      "Training until validation scores don't improve for 100 rounds\n",
      "Did not meet early stopping. Best iteration is:\n",
      "[100]\tvalid_0's auc: 0.998603\n"
     ]
    },
    {
     "name": "stderr",
     "output_type": "stream",
     "text": [
      "\u001b[32m[I 2022-03-29 12:19:47,426]\u001b[0m Trial 45 finished with value: 0.973577253910163 and parameters: {'lambda_l1': 1.6026290434324697e-06, 'lambda_l2': 0.00027669788134564415, 'num_leaves': 69, 'feature_fraction': 0.9599768217530014, 'bagging_fraction': 0.6506158376300485, 'bagging_freq': 7, 'learning_rate': 0.1312936204870196, 'min_child_samples': 74}. Best is trial 28 with value: 0.9997508526029126.\u001b[0m\n"
     ]
    },
    {
     "name": "stdout",
     "output_type": "stream",
     "text": [
      "Training until validation scores don't improve for 100 rounds\n",
      "Did not meet early stopping. Best iteration is:\n",
      "[98]\tvalid_0's auc: 0.892107\n"
     ]
    },
    {
     "name": "stderr",
     "output_type": "stream",
     "text": [
      "\u001b[32m[I 2022-03-29 12:20:00,843]\u001b[0m Trial 42 finished with value: 0.5956603633573002 and parameters: {'lambda_l1': 4.2106968246801155e-06, 'lambda_l2': 9.112146036000997e-07, 'num_leaves': 158, 'feature_fraction': 0.9892528048831668, 'bagging_fraction': 0.7333893760137712, 'bagging_freq': 6, 'learning_rate': 0.0008509173219450217, 'min_child_samples': 74}. Best is trial 28 with value: 0.9997508526029126.\u001b[0m\n"
     ]
    },
    {
     "name": "stdout",
     "output_type": "stream",
     "text": [
      "Did not meet early stopping. Best iteration is:\n",
      "[96]\tvalid_0's auc: 0.893498\n"
     ]
    },
    {
     "name": "stderr",
     "output_type": "stream",
     "text": [
      "\u001b[32m[I 2022-03-29 12:20:05,570]\u001b[0m Trial 43 finished with value: 0.5 and parameters: {'lambda_l1': 9.694491777657876e-06, 'lambda_l2': 8.705784742330998e-05, 'num_leaves': 149, 'feature_fraction': 0.9639744719973803, 'bagging_fraction': 0.7442296668962901, 'bagging_freq': 6, 'learning_rate': 0.0008137634967097276, 'min_child_samples': 72}. Best is trial 28 with value: 0.9997508526029126.\u001b[0m\n"
     ]
    },
    {
     "name": "stdout",
     "output_type": "stream",
     "text": [
      "Training until validation scores don't improve for 100 rounds\n",
      "Did not meet early stopping. Best iteration is:\n",
      "[100]\tvalid_0's auc: 0.992515\n"
     ]
    },
    {
     "name": "stderr",
     "output_type": "stream",
     "text": [
      "\u001b[32m[I 2022-03-29 12:20:11,249]\u001b[0m Trial 47 finished with value: 0.9376389795538775 and parameters: {'lambda_l1': 3.376500823241098e-06, 'lambda_l2': 0.0001485830266489583, 'num_leaves': 68, 'feature_fraction': 0.9493299802068746, 'bagging_fraction': 0.6360384210357659, 'bagging_freq': 6, 'learning_rate': 0.09322491915748689, 'min_child_samples': 74}. Best is trial 28 with value: 0.9997508526029126.\u001b[0m\n"
     ]
    },
    {
     "name": "stdout",
     "output_type": "stream",
     "text": [
      "Training until validation scores don't improve for 100 rounds\n",
      "Did not meet early stopping. Best iteration is:\n",
      "[100]\tvalid_0's auc: 0.999985\n",
      "Training until validation scores don't improve for 100 rounds\n"
     ]
    },
    {
     "name": "stderr",
     "output_type": "stream",
     "text": [
      "\u001b[32m[I 2022-03-29 12:20:18,890]\u001b[0m Trial 44 finished with value: 0.9972556045700223 and parameters: {'lambda_l1': 3.817684760885517e-06, 'lambda_l2': 0.00019208298689891485, 'num_leaves': 157, 'feature_fraction': 0.959159243105477, 'bagging_fraction': 0.7323348041575112, 'bagging_freq': 6, 'learning_rate': 0.11578301681591525, 'min_child_samples': 72}. Best is trial 28 with value: 0.9997508526029126.\u001b[0m\n"
     ]
    },
    {
     "name": "stdout",
     "output_type": "stream",
     "text": [
      "Training until validation scores don't improve for 100 rounds\n",
      "Did not meet early stopping. Best iteration is:\n",
      "[100]\tvalid_0's auc: 0.999923\n"
     ]
    },
    {
     "name": "stderr",
     "output_type": "stream",
     "text": [
      "\u001b[32m[I 2022-03-29 12:20:37,631]\u001b[0m Trial 48 finished with value: 0.9943713609212841 and parameters: {'lambda_l1': 1.3729089425819883e-06, 'lambda_l2': 4.664108942117291e-08, 'num_leaves': 112, 'feature_fraction': 0.9560088648900918, 'bagging_fraction': 0.6445638712200588, 'bagging_freq': 6, 'learning_rate': 0.12115421864478376, 'min_child_samples': 68}. Best is trial 28 with value: 0.9997508526029126.\u001b[0m\n"
     ]
    },
    {
     "name": "stdout",
     "output_type": "stream",
     "text": [
      "Did not meet early stopping. Best iteration is:\n",
      "[100]\tvalid_0's auc: 0.999964\n"
     ]
    },
    {
     "name": "stderr",
     "output_type": "stream",
     "text": [
      "\u001b[32m[I 2022-03-29 12:20:43,619]\u001b[0m Trial 49 finished with value: 0.9963593029482704 and parameters: {'lambda_l1': 5.653369868536158e-06, 'lambda_l2': 4.3902860261242796e-08, 'num_leaves': 113, 'feature_fraction': 0.9505166565089591, 'bagging_fraction': 0.6450330323632887, 'bagging_freq': 6, 'learning_rate': 0.12872421744349385, 'min_child_samples': 40}. Best is trial 28 with value: 0.9997508526029126.\u001b[0m\n"
     ]
    },
    {
     "name": "stdout",
     "output_type": "stream",
     "text": [
      "Training until validation scores don't improve for 100 rounds\n",
      "Training until validation scores don't improve for 100 rounds\n",
      "Did not meet early stopping. Best iteration is:\n",
      "[100]\tvalid_0's auc: 0.999875\n"
     ]
    },
    {
     "name": "stderr",
     "output_type": "stream",
     "text": [
      "\u001b[32m[I 2022-03-29 12:21:03,271]\u001b[0m Trial 51 finished with value: 0.9928417126721965 and parameters: {'lambda_l1': 8.538222948190833e-05, 'lambda_l2': 5.051758137183062e-08, 'num_leaves': 111, 'feature_fraction': 0.9452433170850086, 'bagging_fraction': 0.7086295357418977, 'bagging_freq': 6, 'learning_rate': 0.1170925074202663, 'min_child_samples': 67}. Best is trial 28 with value: 0.9997508526029126.\u001b[0m\n"
     ]
    },
    {
     "name": "stdout",
     "output_type": "stream",
     "text": [
      "Training until validation scores don't improve for 100 rounds\n",
      "Did not meet early stopping. Best iteration is:\n",
      "[100]\tvalid_0's auc: 0.99995\n"
     ]
    },
    {
     "name": "stderr",
     "output_type": "stream",
     "text": [
      "\u001b[32m[I 2022-03-29 12:21:22,426]\u001b[0m Trial 54 finished with value: 0.99466961084073 and parameters: {'lambda_l1': 7.214400282167411e-05, 'lambda_l2': 4.472900660209674e-08, 'num_leaves': 113, 'feature_fraction': 0.7331995544275671, 'bagging_fraction': 0.7868800366614479, 'bagging_freq': 1, 'learning_rate': 0.12949772593524322, 'min_child_samples': 67}. Best is trial 28 with value: 0.9997508526029126.\u001b[0m\n"
     ]
    },
    {
     "name": "stdout",
     "output_type": "stream",
     "text": [
      "Did not meet early stopping. Best iteration is:\n",
      "[100]\tvalid_0's auc: 0.999998\n"
     ]
    },
    {
     "name": "stderr",
     "output_type": "stream",
     "text": [
      "\u001b[32m[I 2022-03-29 12:21:27,517]\u001b[0m Trial 50 finished with value: 0.9990863462899784 and parameters: {'lambda_l1': 7.359408226034882e-05, 'lambda_l2': 5.2901393192597234e-08, 'num_leaves': 188, 'feature_fraction': 0.9486676402486179, 'bagging_fraction': 0.7291475786341955, 'bagging_freq': 7, 'learning_rate': 0.11950895818388652, 'min_child_samples': 68}. Best is trial 28 with value: 0.9997508526029126.\u001b[0m\n"
     ]
    },
    {
     "name": "stdout",
     "output_type": "stream",
     "text": [
      "Training until validation scores don't improve for 100 rounds\n",
      "Training until validation scores don't improve for 100 rounds\n",
      "Did not meet early stopping. Best iteration is:\n",
      "[100]\tvalid_0's auc: 0.999998\n"
     ]
    },
    {
     "name": "stderr",
     "output_type": "stream",
     "text": [
      "\u001b[32m[I 2022-03-29 12:21:41,763]\u001b[0m Trial 52 finished with value: 0.9993874397608468 and parameters: {'lambda_l1': 6.86018114478003e-05, 'lambda_l2': 4.291587519754034e-08, 'num_leaves': 180, 'feature_fraction': 0.9453384827773531, 'bagging_fraction': 0.720598834495324, 'bagging_freq': 6, 'learning_rate': 0.13681409650948598, 'min_child_samples': 67}. Best is trial 28 with value: 0.9997508526029126.\u001b[0m\n"
     ]
    },
    {
     "name": "stdout",
     "output_type": "stream",
     "text": [
      "Did not meet early stopping. Best iteration is:\n",
      "[99]\tvalid_0's auc: 0.999995\n"
     ]
    },
    {
     "name": "stderr",
     "output_type": "stream",
     "text": [
      "\u001b[32m[I 2022-03-29 12:21:48,412]\u001b[0m Trial 53 finished with value: 0.9992558421242732 and parameters: {'lambda_l1': 0.00011123199750220239, 'lambda_l2': 3.747171416462904e-08, 'num_leaves': 180, 'feature_fraction': 0.8223299855408481, 'bagging_fraction': 0.7891580412822348, 'bagging_freq': 6, 'learning_rate': 0.1373187419375766, 'min_child_samples': 67}. Best is trial 28 with value: 0.9997508526029126.\u001b[0m\n"
     ]
    },
    {
     "name": "stdout",
     "output_type": "stream",
     "text": [
      "Training until validation scores don't improve for 100 rounds\n",
      "Training until validation scores don't improve for 100 rounds\n",
      "Did not meet early stopping. Best iteration is:\n",
      "[100]\tvalid_0's auc: 0.999498\n"
     ]
    },
    {
     "name": "stderr",
     "output_type": "stream",
     "text": [
      "\u001b[32m[I 2022-03-29 12:21:57,807]\u001b[0m Trial 55 finished with value: 0.9803277946920798 and parameters: {'lambda_l1': 7.095698293705218e-05, 'lambda_l2': 4.006983931353177e-08, 'num_leaves': 180, 'feature_fraction': 0.8221294769839039, 'bagging_fraction': 0.7898491851286977, 'bagging_freq': 1, 'learning_rate': 0.05458995873342892, 'min_child_samples': 89}. Best is trial 28 with value: 0.9997508526029126.\u001b[0m\n"
     ]
    },
    {
     "name": "stdout",
     "output_type": "stream",
     "text": [
      "Training until validation scores don't improve for 100 rounds\n",
      "Did not meet early stopping. Best iteration is:\n",
      "[100]\tvalid_0's auc: 0.999671\n"
     ]
    },
    {
     "name": "stderr",
     "output_type": "stream",
     "text": [
      "\u001b[32m[I 2022-03-29 12:22:16,752]\u001b[0m Trial 56 finished with value: 0.98288820564759 and parameters: {'lambda_l1': 9.989759457705837e-05, 'lambda_l2': 0.004490828195014671, 'num_leaves': 183, 'feature_fraction': 0.8233739308891515, 'bagging_fraction': 0.713181914605463, 'bagging_freq': 7, 'learning_rate': 0.05677927665589474, 'min_child_samples': 92}. Best is trial 28 with value: 0.9997508526029126.\u001b[0m\n"
     ]
    },
    {
     "name": "stdout",
     "output_type": "stream",
     "text": [
      "Training until validation scores don't improve for 100 rounds\n",
      "Did not meet early stopping. Best iteration is:\n",
      "[100]\tvalid_0's auc: 0.999424\n"
     ]
    },
    {
     "name": "stderr",
     "output_type": "stream",
     "text": [
      "\u001b[32m[I 2022-03-29 12:22:41,453]\u001b[0m Trial 57 finished with value: 0.9797178377256179 and parameters: {'lambda_l1': 7.506292741800983e-05, 'lambda_l2': 0.0016951576558103423, 'num_leaves': 177, 'feature_fraction': 0.8259881121754507, 'bagging_fraction': 0.781509261611242, 'bagging_freq': 1, 'learning_rate': 0.05425582002384026, 'min_child_samples': 66}. Best is trial 28 with value: 0.9997508526029126.\u001b[0m\n"
     ]
    },
    {
     "name": "stdout",
     "output_type": "stream",
     "text": [
      "Did not meet early stopping. Best iteration is:\n",
      "[100]\tvalid_0's auc: 0.999458\n"
     ]
    },
    {
     "name": "stderr",
     "output_type": "stream",
     "text": [
      "\u001b[32m[I 2022-03-29 12:22:46,675]\u001b[0m Trial 58 finished with value: 0.9793245568859615 and parameters: {'lambda_l1': 2.1337108920552186e-05, 'lambda_l2': 2.562079812063565e-06, 'num_leaves': 179, 'feature_fraction': 0.543030699262482, 'bagging_fraction': 0.7845113916437654, 'bagging_freq': 1, 'learning_rate': 0.05859195998533659, 'min_child_samples': 91}. Best is trial 28 with value: 0.9997508526029126.\u001b[0m\n"
     ]
    },
    {
     "name": "stdout",
     "output_type": "stream",
     "text": [
      "Training until validation scores don't improve for 100 rounds\n",
      "Training until validation scores don't improve for 100 rounds\n",
      "Did not meet early stopping. Best iteration is:\n",
      "[100]\tvalid_0's auc: 0.999251\n"
     ]
    },
    {
     "name": "stderr",
     "output_type": "stream",
     "text": [
      "\u001b[32m[I 2022-03-29 12:23:09,181]\u001b[0m Trial 59 finished with value: 0.9771189776172459 and parameters: {'lambda_l1': 0.0032793122579840724, 'lambda_l2': 9.112478943954506e-08, 'num_leaves': 189, 'feature_fraction': 0.5760172984041275, 'bagging_fraction': 0.8416439307682877, 'bagging_freq': 1, 'learning_rate': 0.05214413643524438, 'min_child_samples': 90}. Best is trial 28 with value: 0.9997508526029126.\u001b[0m\n"
     ]
    },
    {
     "name": "stdout",
     "output_type": "stream",
     "text": [
      "Did not meet early stopping. Best iteration is:\n",
      "[100]\tvalid_0's auc: 0.999492\n",
      "Did not meet early stopping. Best iteration is:\n",
      "[100]\tvalid_0's auc: 0.998405\n"
     ]
    },
    {
     "name": "stderr",
     "output_type": "stream",
     "text": [
      "\u001b[32m[I 2022-03-29 12:23:14,308]\u001b[0m Trial 60 finished with value: 0.9794994796476956 and parameters: {'lambda_l1': 0.003735535223004976, 'lambda_l2': 2.5164424403201153e-06, 'num_leaves': 177, 'feature_fraction': 0.5372729558520206, 'bagging_fraction': 0.8375821649733992, 'bagging_freq': 1, 'learning_rate': 0.0612270096554627, 'min_child_samples': 21}. Best is trial 28 with value: 0.9997508526029126.\u001b[0m\n",
      "\u001b[32m[I 2022-03-29 12:23:18,323]\u001b[0m Trial 62 finished with value: 0.9638385329054766 and parameters: {'lambda_l1': 1.5999994330841582e-05, 'lambda_l2': 3.885393446042896e-06, 'num_leaves': 136, 'feature_fraction': 0.541972843543282, 'bagging_fraction': 0.838679135031439, 'bagging_freq': 1, 'learning_rate': 0.0651538736747096, 'min_child_samples': 90}. Best is trial 28 with value: 0.9997508526029126.\u001b[0m\n"
     ]
    },
    {
     "name": "stdout",
     "output_type": "stream",
     "text": [
      "Training until validation scores don't improve for 100 rounds\n",
      "Did not meet early stopping. Best iteration is:\n",
      "[100]\tvalid_0's auc: 0.999574Did not meet early stopping. Best iteration is:\n",
      "[100]\tvalid_0's auc: 0.999987\n",
      "\n"
     ]
    },
    {
     "name": "stderr",
     "output_type": "stream",
     "text": [
      "\u001b[32m[I 2022-03-29 12:23:25,568]\u001b[0m Trial 64 finished with value: 0.9986953381499291 and parameters: {'lambda_l1': 0.0039713807523056805, 'lambda_l2': 3.7900219760506744e-06, 'num_leaves': 82, 'feature_fraction': 0.5456022386242425, 'bagging_fraction': 0.8359648939854774, 'bagging_freq': 1, 'learning_rate': 0.2947320547537192, 'min_child_samples': 78}. Best is trial 28 with value: 0.9997508526029126.\u001b[0m\n",
      "\u001b[32m[I 2022-03-29 12:23:25,913]\u001b[0m Trial 61 finished with value: 0.9809624330074237 and parameters: {'lambda_l1': 2.0919892946671643e-05, 'lambda_l2': 0.007102387489304646, 'num_leaves': 166, 'feature_fraction': 0.5482526622435206, 'bagging_fraction': 0.8434021533830578, 'bagging_freq': 1, 'learning_rate': 0.06616223607978562, 'min_child_samples': 91}. Best is trial 28 with value: 0.9997508526029126.\u001b[0m\n"
     ]
    },
    {
     "name": "stdout",
     "output_type": "stream",
     "text": [
      "Training until validation scores don't improve for 100 rounds\n",
      "Training until validation scores don't improve for 100 rounds\n",
      "Training until validation scores don't improve for 100 rounds\n",
      "Did not meet early stopping. Best iteration is:\n",
      "[100]\tvalid_0's auc: 0.978147\n",
      "Training until validation scores don't improve for 100 rounds\n"
     ]
    },
    {
     "name": "stderr",
     "output_type": "stream",
     "text": [
      "\u001b[32m[I 2022-03-29 12:23:36,028]\u001b[0m Trial 63 finished with value: 0.8834939800498782 and parameters: {'lambda_l1': 0.0027060432662969133, 'lambda_l2': 0.005318913290474201, 'num_leaves': 166, 'feature_fraction': 0.6523541097690764, 'bagging_fraction': 0.8368830972966799, 'bagging_freq': 1, 'learning_rate': 0.022589110033389315, 'min_child_samples': 90}. Best is trial 28 with value: 0.9997508526029126.\u001b[0m\n"
     ]
    },
    {
     "name": "stdout",
     "output_type": "stream",
     "text": [
      "Training until validation scores don't improve for 100 rounds\n",
      "Did not meet early stopping. Best iteration is:\n",
      "[100]\tvalid_0's auc: 0.999909\n"
     ]
    },
    {
     "name": "stderr",
     "output_type": "stream",
     "text": [
      "\u001b[32m[I 2022-03-29 12:23:58,972]\u001b[0m Trial 65 finished with value: 0.9943353650567364 and parameters: {'lambda_l1': 0.002585209076726762, 'lambda_l2': 8.381479460723882e-06, 'num_leaves': 80, 'feature_fraction': 0.5539608275000826, 'bagging_fraction': 0.843153072443692, 'bagging_freq': 1, 'learning_rate': 0.18813851934672401, 'min_child_samples': 79}. Best is trial 28 with value: 0.9997508526029126.\u001b[0m\n"
     ]
    },
    {
     "name": "stdout",
     "output_type": "stream",
     "text": [
      "Training until validation scores don't improve for 100 rounds\n",
      "Did not meet early stopping. Best iteration is:\n",
      "[100]\tvalid_0's auc: 0.999943\n"
     ]
    },
    {
     "name": "stderr",
     "output_type": "stream",
     "text": [
      "\u001b[32m[I 2022-03-29 12:24:14,341]\u001b[0m Trial 66 finished with value: 0.9950644236471258 and parameters: {'lambda_l1': 0.0026352916942826224, 'lambda_l2': 1.015259156400734e-08, 'num_leaves': 82, 'feature_fraction': 0.6514496968322913, 'bagging_fraction': 0.8444270451593154, 'bagging_freq': 5, 'learning_rate': 0.18840781774541784, 'min_child_samples': 42}. Best is trial 28 with value: 0.9997508526029126.\u001b[0m\n"
     ]
    },
    {
     "name": "stdout",
     "output_type": "stream",
     "text": [
      "Training until validation scores don't improve for 100 rounds\n",
      "Did not meet early stopping. Best iteration is:\n",
      "[100]\tvalid_0's auc: 0.999888\n"
     ]
    },
    {
     "name": "stderr",
     "output_type": "stream",
     "text": [
      "\u001b[32m[I 2022-03-29 12:24:27,186]\u001b[0m Trial 67 finished with value: 0.9940924557176345 and parameters: {'lambda_l1': 2.8950432538248656e-05, 'lambda_l2': 9.99872178764785e-06, 'num_leaves': 83, 'feature_fraction': 0.6005318499961492, 'bagging_fraction': 0.8358360909762794, 'bagging_freq': 5, 'learning_rate': 0.18337109811577945, 'min_child_samples': 80}. Best is trial 28 with value: 0.9997508526029126.\u001b[0m\n"
     ]
    },
    {
     "name": "stdout",
     "output_type": "stream",
     "text": [
      "Training until validation scores don't improve for 100 rounds\n",
      "Did not meet early stopping. Best iteration is:\n",
      "[100]\tvalid_0's auc: 0.999997\n"
     ]
    },
    {
     "name": "stderr",
     "output_type": "stream",
     "text": [
      "\u001b[32m[I 2022-03-29 12:24:55,651]\u001b[0m Trial 68 finished with value: 0.999402318664128 and parameters: {'lambda_l1': 0.00040860914063878387, 'lambda_l2': 1.0396458706004745e-07, 'num_leaves': 137, 'feature_fraction': 0.6450304515666998, 'bagging_fraction': 0.8321656811269589, 'bagging_freq': 3, 'learning_rate': 0.20444643389065043, 'min_child_samples': 85}. Best is trial 28 with value: 0.9997508526029126.\u001b[0m\n"
     ]
    },
    {
     "name": "stdout",
     "output_type": "stream",
     "text": [
      "Did not meet early stopping. Best iteration is:\n",
      "[100]\tvalid_0's auc: 0.999997\n",
      "Training until validation scores don't improve for 100 rounds\n"
     ]
    },
    {
     "name": "stderr",
     "output_type": "stream",
     "text": [
      "\u001b[32m[I 2022-03-29 12:25:04,140]\u001b[0m Trial 71 finished with value: 0.9994085766187882 and parameters: {'lambda_l1': 0.0003566757939040121, 'lambda_l2': 1.1731777972262105e-08, 'num_leaves': 137, 'feature_fraction': 0.6612250778408365, 'bagging_fraction': 0.8962604612995495, 'bagging_freq': 4, 'learning_rate': 0.20129511508734177, 'min_child_samples': 82}. Best is trial 28 with value: 0.9997508526029126.\u001b[0m\n"
     ]
    },
    {
     "name": "stdout",
     "output_type": "stream",
     "text": [
      "Did not meet early stopping. Best iteration is:\n",
      "[100]\tvalid_0's auc: 0.999998\n",
      "Did not meet early stopping. Best iteration is:\n",
      "[100]\tvalid_0's auc: 0.999997\n"
     ]
    },
    {
     "name": "stderr",
     "output_type": "stream",
     "text": [
      "\u001b[32m[I 2022-03-29 12:25:08,386]\u001b[0m Trial 72 finished with value: 0.9993621875601492 and parameters: {'lambda_l1': 0.00045081801032202825, 'lambda_l2': 1.136303364714298e-08, 'num_leaves': 138, 'feature_fraction': 0.9081765262598549, 'bagging_fraction': 0.6922104630158864, 'bagging_freq': 3, 'learning_rate': 0.20361245263277775, 'min_child_samples': 81}. Best is trial 28 with value: 0.9997508526029126.\u001b[0m\n",
      "\u001b[32m[I 2022-03-29 12:25:13,435]\u001b[0m Trial 69 finished with value: 0.9990524930373347 and parameters: {'lambda_l1': 0.000520351664818494, 'lambda_l2': 1.1645266576954998e-08, 'num_leaves': 118, 'feature_fraction': 0.6587613281328952, 'bagging_fraction': 0.8241405091052417, 'bagging_freq': 4, 'learning_rate': 0.20597887655221234, 'min_child_samples': 79}. Best is trial 28 with value: 0.9997508526029126.\u001b[0m\n"
     ]
    },
    {
     "name": "stdout",
     "output_type": "stream",
     "text": [
      "Training until validation scores don't improve for 100 rounds\n",
      "Training until validation scores don't improve for 100 rounds\n",
      "Did not meet early stopping. Best iteration is:\n",
      "[100]\tvalid_0's auc: 0.999993\n",
      "Training until validation scores don't improve for 100 rounds\n"
     ]
    },
    {
     "name": "stderr",
     "output_type": "stream",
     "text": [
      "\u001b[32m[I 2022-03-29 12:25:20,962]\u001b[0m Trial 70 finished with value: 0.9986591020066502 and parameters: {'lambda_l1': 0.00048193524485743854, 'lambda_l2': 1.9821594258279904e-08, 'num_leaves': 117, 'feature_fraction': 0.6039512849301929, 'bagging_fraction': 0.9060992433082747, 'bagging_freq': 4, 'learning_rate': 0.19267142017710095, 'min_child_samples': 80}. Best is trial 28 with value: 0.9997508526029126.\u001b[0m\n"
     ]
    },
    {
     "name": "stdout",
     "output_type": "stream",
     "text": [
      "Training until validation scores don't improve for 100 rounds\n",
      "Did not meet early stopping. Best iteration is:\n",
      "[100]\tvalid_0's auc: 0.999999\n"
     ]
    },
    {
     "name": "stderr",
     "output_type": "stream",
     "text": [
      "\u001b[32m[I 2022-03-29 12:25:48,738]\u001b[0m Trial 74 finished with value: 0.9995350977976818 and parameters: {'lambda_l1': 0.0004237111307983244, 'lambda_l2': 1.0103846902048046e-07, 'num_leaves': 120, 'feature_fraction': 0.5992343121385892, 'bagging_fraction': 0.8986283841981714, 'bagging_freq': 2, 'learning_rate': 0.2431082591279858, 'min_child_samples': 82}. Best is trial 28 with value: 0.9997508526029126.\u001b[0m\n"
     ]
    },
    {
     "name": "stdout",
     "output_type": "stream",
     "text": [
      "Training until validation scores don't improve for 100 rounds\n",
      "Did not meet early stopping. Best iteration is:\n",
      "[100]\tvalid_0's auc: 0.999997\n"
     ]
    },
    {
     "name": "stderr",
     "output_type": "stream",
     "text": [
      "\u001b[32m[I 2022-03-29 12:25:57,975]\u001b[0m Trial 75 finished with value: 0.9994379640589167 and parameters: {'lambda_l1': 0.00040964512349757077, 'lambda_l2': 1.1242236836299074e-07, 'num_leaves': 120, 'feature_fraction': 0.8996858290976, 'bagging_fraction': 0.6862794027195279, 'bagging_freq': 3, 'learning_rate': 0.2267360668173941, 'min_child_samples': 84}. Best is trial 28 with value: 0.9997508526029126.\u001b[0m\n"
     ]
    },
    {
     "name": "stdout",
     "output_type": "stream",
     "text": [
      "Training until validation scores don't improve for 100 rounds\n",
      "Did not meet early stopping. Best iteration is:\n",
      "[100]\tvalid_0's auc: 0.999999\n"
     ]
    },
    {
     "name": "stderr",
     "output_type": "stream",
     "text": [
      "\u001b[32m[I 2022-03-29 12:26:05,974]\u001b[0m Trial 73 finished with value: 0.9994451632318263 and parameters: {'lambda_l1': 0.0004254921857564146, 'lambda_l2': 1.1324981709461784e-07, 'num_leaves': 138, 'feature_fraction': 0.5981352006235017, 'bagging_fraction': 0.8861148111288113, 'bagging_freq': 4, 'learning_rate': 0.21026240330765836, 'min_child_samples': 83}. Best is trial 28 with value: 0.9997508526029126.\u001b[0m\n"
     ]
    },
    {
     "name": "stdout",
     "output_type": "stream",
     "text": [
      "Training until validation scores don't improve for 100 rounds\n",
      "Did not meet early stopping. Best iteration is:\n",
      "[98]\tvalid_0's auc: 0.999999\n"
     ]
    },
    {
     "name": "stderr",
     "output_type": "stream",
     "text": [
      "\u001b[32m[I 2022-03-29 12:26:29,108]\u001b[0m Trial 76 finished with value: 0.9997064760684752 and parameters: {'lambda_l1': 0.0004866249872979515, 'lambda_l2': 2.4779572418637485e-08, 'num_leaves': 119, 'feature_fraction': 0.8953488416085243, 'bagging_fraction': 0.6827403393329475, 'bagging_freq': 4, 'learning_rate': 0.29320377486191884, 'min_child_samples': 62}. Best is trial 28 with value: 0.9997508526029126.\u001b[0m\n"
     ]
    },
    {
     "name": "stdout",
     "output_type": "stream",
     "text": [
      "Did not meet early stopping. Best iteration is:\n",
      "[100]\tvalid_0's auc: 0.999999\n"
     ]
    },
    {
     "name": "stderr",
     "output_type": "stream",
     "text": [
      "\u001b[32m[I 2022-03-29 12:26:35,082]\u001b[0m Trial 77 finished with value: 0.9996620995340374 and parameters: {'lambda_l1': 0.0006379487481172894, 'lambda_l2': 2.1953856102295282e-08, 'num_leaves': 119, 'feature_fraction': 0.7155921401656709, 'bagging_fraction': 0.6832664028346656, 'bagging_freq': 2, 'learning_rate': 0.2870896061809967, 'min_child_samples': 53}. Best is trial 28 with value: 0.9997508526029126.\u001b[0m\n"
     ]
    },
    {
     "name": "stdout",
     "output_type": "stream",
     "text": [
      "Training until validation scores don't improve for 100 rounds\n",
      "Training until validation scores don't improve for 100 rounds\n",
      "Did not meet early stopping. Best iteration is:\n",
      "[100]\tvalid_0's auc: 1\n",
      "Did not meet early stopping. Best iteration is:\n",
      "[100]\tvalid_0's auc: 1\n"
     ]
    },
    {
     "name": "stderr",
     "output_type": "stream",
     "text": [
      "\u001b[32m[I 2022-03-29 12:26:49,305]\u001b[0m Trial 78 finished with value: 0.9997205239445351 and parameters: {'lambda_l1': 0.0006503139468338425, 'lambda_l2': 3.64536691288324e-07, 'num_leaves': 120, 'feature_fraction': 0.7306671037456662, 'bagging_fraction': 0.8837493929498512, 'bagging_freq': 2, 'learning_rate': 0.2943974360287786, 'min_child_samples': 62}. Best is trial 28 with value: 0.9997508526029126.\u001b[0m\n",
      "\u001b[32m[I 2022-03-29 12:26:49,367]\u001b[0m Trial 79 finished with value: 0.9997109617776649 and parameters: {'lambda_l1': 0.00015170719309071974, 'lambda_l2': 4.83183427174867e-07, 'num_leaves': 121, 'feature_fraction': 0.8521241554829965, 'bagging_fraction': 0.9011686191676485, 'bagging_freq': 2, 'learning_rate': 0.2749934439890536, 'min_child_samples': 62}. Best is trial 28 with value: 0.9997508526029126.\u001b[0m\n"
     ]
    },
    {
     "name": "stdout",
     "output_type": "stream",
     "text": [
      "Did not meet early stopping. Best iteration is:\n",
      "[89]\tvalid_0's auc: 0.999998\n",
      "Training until validation scores don't improve for 100 rounds\n",
      "Training until validation scores don't improve for 100 rounds\n"
     ]
    },
    {
     "name": "stderr",
     "output_type": "stream",
     "text": [
      "\u001b[32m[I 2022-03-29 12:27:00,013]\u001b[0m Trial 80 finished with value: 0.9996687079584569 and parameters: {'lambda_l1': 0.00018865297954321716, 'lambda_l2': 3.2532771799312055e-07, 'num_leaves': 122, 'feature_fraction': 0.712631028509451, 'bagging_fraction': 0.927326799404428, 'bagging_freq': 2, 'learning_rate': 0.28623827141536606, 'min_child_samples': 52}. Best is trial 28 with value: 0.9997508526029126.\u001b[0m\n"
     ]
    },
    {
     "name": "stdout",
     "output_type": "stream",
     "text": [
      "Training until validation scores don't improve for 100 rounds\n",
      "Did not meet early stopping. Best iteration is:\n",
      "[100]\tvalid_0's auc: 0.999996\n"
     ]
    },
    {
     "name": "stderr",
     "output_type": "stream",
     "text": [
      "\u001b[32m[I 2022-03-29 12:27:17,938]\u001b[0m Trial 81 finished with value: 0.9993447252808513 and parameters: {'lambda_l1': 0.0001774891523704478, 'lambda_l2': 4.854192816920831e-07, 'num_leaves': 106, 'feature_fraction': 0.7263858008734051, 'bagging_fraction': 0.878955860759669, 'bagging_freq': 2, 'learning_rate': 0.28565179221991027, 'min_child_samples': 53}. Best is trial 28 with value: 0.9997508526029126.\u001b[0m\n"
     ]
    },
    {
     "name": "stdout",
     "output_type": "stream",
     "text": [
      "Training until validation scores don't improve for 100 rounds\n",
      "Did not meet early stopping. Best iteration is:\n",
      "[100]\tvalid_0's auc: 0.999997\n"
     ]
    },
    {
     "name": "stderr",
     "output_type": "stream",
     "text": [
      "\u001b[32m[I 2022-03-29 12:27:26,469]\u001b[0m Trial 82 finished with value: 0.9995437187463025 and parameters: {'lambda_l1': 0.00018536775379244117, 'lambda_l2': 4.6034340766352763e-07, 'num_leaves': 101, 'feature_fraction': 0.7153670384069841, 'bagging_fraction': 0.8751860530027362, 'bagging_freq': 2, 'learning_rate': 0.28487592956456875, 'min_child_samples': 62}. Best is trial 28 with value: 0.9997508526029126.\u001b[0m\n"
     ]
    },
    {
     "name": "stdout",
     "output_type": "stream",
     "text": [
      "Training until validation scores don't improve for 100 rounds\n",
      "Did not meet early stopping. Best iteration is:\n",
      "[100]\tvalid_0's auc: 0.999999\n"
     ]
    },
    {
     "name": "stderr",
     "output_type": "stream",
     "text": [
      "\u001b[32m[I 2022-03-29 12:27:52,110]\u001b[0m Trial 83 finished with value: 0.9995778321743519 and parameters: {'lambda_l1': 0.00015691303750632306, 'lambda_l2': 4.542800578704866e-07, 'num_leaves': 105, 'feature_fraction': 0.8477437118064816, 'bagging_fraction': 0.43056681346997827, 'bagging_freq': 2, 'learning_rate': 0.29819680429445633, 'min_child_samples': 62}. Best is trial 28 with value: 0.9997508526029126.\u001b[0m\n"
     ]
    },
    {
     "name": "stdout",
     "output_type": "stream",
     "text": [
      "Did not meet early stopping. Best iteration is:\n",
      "[95]\tvalid_0's auc: 0.999998\n"
     ]
    },
    {
     "name": "stderr",
     "output_type": "stream",
     "text": [
      "\u001b[32m[I 2022-03-29 12:27:57,081]\u001b[0m Trial 84 finished with value: 0.9996675264614766 and parameters: {'lambda_l1': 0.0001570909349310166, 'lambda_l2': 4.433505444003695e-07, 'num_leaves': 103, 'feature_fraction': 0.7859129854301865, 'bagging_fraction': 0.605336293354752, 'bagging_freq': 2, 'learning_rate': 0.29987834566814214, 'min_child_samples': 55}. Best is trial 28 with value: 0.9997508526029126.\u001b[0m\n"
     ]
    },
    {
     "name": "stdout",
     "output_type": "stream",
     "text": [
      "Training until validation scores don't improve for 100 rounds\n",
      "Did not meet early stopping. Best iteration is:\n",
      "[100]\tvalid_0's auc: 0.999997\n"
     ]
    },
    {
     "name": "stderr",
     "output_type": "stream",
     "text": [
      "\u001b[32m[I 2022-03-29 12:28:02,616]\u001b[0m Trial 85 finished with value: 0.999651005400428 and parameters: {'lambda_l1': 0.00016256536612579056, 'lambda_l2': 4.439009263815406e-07, 'num_leaves': 104, 'feature_fraction': 0.9226981307499552, 'bagging_fraction': 0.580944866426103, 'bagging_freq': 2, 'learning_rate': 0.29839138489779504, 'min_child_samples': 54}. Best is trial 28 with value: 0.9997508526029126.\u001b[0m\n"
     ]
    },
    {
     "name": "stdout",
     "output_type": "stream",
     "text": [
      "Training until validation scores don't improve for 100 rounds\n",
      "Training until validation scores don't improve for 100 rounds\n",
      "Did not meet early stopping. Best iteration is:\n",
      "[100]\tvalid_0's auc: 0.894936\n"
     ]
    },
    {
     "name": "stderr",
     "output_type": "stream",
     "text": [
      "\u001b[32m[I 2022-03-29 12:28:21,280]\u001b[0m Trial 86 finished with value: 0.8105699073683232 and parameters: {'lambda_l1': 0.00019238720736329206, 'lambda_l2': 4.6735483089251307e-07, 'num_leaves': 99, 'feature_fraction': 0.8534349737118215, 'bagging_fraction': 0.9397948692353932, 'bagging_freq': 2, 'learning_rate': 0.004014129944634203, 'min_child_samples': 56}. Best is trial 28 with value: 0.9997508526029126.\u001b[0m\n"
     ]
    },
    {
     "name": "stdout",
     "output_type": "stream",
     "text": [
      "Training until validation scores don't improve for 100 rounds\n",
      "Did not meet early stopping. Best iteration is:\n",
      "[100]\tvalid_0's auc: 0.99873\n"
     ]
    },
    {
     "name": "stderr",
     "output_type": "stream",
     "text": [
      "\u001b[32m[I 2022-03-29 12:28:31,663]\u001b[0m Trial 87 finished with value: 0.9721698936357979 and parameters: {'lambda_l1': 0.0001574664882863955, 'lambda_l2': 5.844497040554143e-07, 'num_leaves': 105, 'feature_fraction': 0.8496883052909321, 'bagging_fraction': 0.9441587624138323, 'bagging_freq': 2, 'learning_rate': 0.08372520366621582, 'min_child_samples': 54}. Best is trial 28 with value: 0.9997508526029126.\u001b[0m\n"
     ]
    },
    {
     "name": "stdout",
     "output_type": "stream",
     "text": [
      "Did not meet early stopping. Best iteration is:\n",
      "[100]\tvalid_0's auc: 0.999999\n"
     ]
    },
    {
     "name": "stderr",
     "output_type": "stream",
     "text": [
      "\u001b[32m[I 2022-03-29 12:28:36,634]\u001b[0m Trial 88 finished with value: 0.9996591457915868 and parameters: {'lambda_l1': 0.00015058698135708245, 'lambda_l2': 2.29911272924995e-08, 'num_leaves': 104, 'feature_fraction': 0.7869809482839991, 'bagging_fraction': 0.9333922005017685, 'bagging_freq': 2, 'learning_rate': 0.29067420912936076, 'min_child_samples': 53}. Best is trial 28 with value: 0.9997508526029126.\u001b[0m\n"
     ]
    },
    {
     "name": "stdout",
     "output_type": "stream",
     "text": [
      "Training until validation scores don't improve for 100 rounds\n",
      "Training until validation scores don't improve for 100 rounds\n",
      "Did not meet early stopping. Best iteration is:\n",
      "[100]\tvalid_0's auc: 0.998826\n"
     ]
    },
    {
     "name": "stderr",
     "output_type": "stream",
     "text": [
      "\u001b[32m[I 2022-03-29 12:28:53,250]\u001b[0m Trial 89 finished with value: 0.9687190089567377 and parameters: {'lambda_l1': 3.547435506554922e-05, 'lambda_l2': 2.377080300100607e-08, 'num_leaves': 102, 'feature_fraction': 0.7953903576187322, 'bagging_fraction': 0.9361434358509474, 'bagging_freq': 2, 'learning_rate': 0.09016822259573752, 'min_child_samples': 62}. Best is trial 28 with value: 0.9997508526029126.\u001b[0m\n"
     ]
    },
    {
     "name": "stdout",
     "output_type": "stream",
     "text": [
      "Did not meet early stopping. Best iteration is:\n",
      "[100]\tvalid_0's auc: 0.997193\n"
     ]
    },
    {
     "name": "stderr",
     "output_type": "stream",
     "text": [
      "\u001b[32m[I 2022-03-29 12:28:57,191]\u001b[0m Trial 90 finished with value: 0.9579162979789236 and parameters: {'lambda_l1': 3.674911246678695e-05, 'lambda_l2': 2.4237411413143545e-08, 'num_leaves': 92, 'feature_fraction': 0.8000588850388093, 'bagging_fraction': 0.9346536879802374, 'bagging_freq': 3, 'learning_rate': 0.0857052233952052, 'min_child_samples': 57}. Best is trial 28 with value: 0.9997508526029126.\u001b[0m\n"
     ]
    },
    {
     "name": "stdout",
     "output_type": "stream",
     "text": [
      "Training until validation scores don't improve for 100 rounds\n",
      "Training until validation scores don't improve for 100 rounds\n",
      "Did not meet early stopping. Best iteration is:\n",
      "[100]\tvalid_0's auc: 0.9976\n"
     ]
    },
    {
     "name": "stderr",
     "output_type": "stream",
     "text": [
      "\u001b[32m[I 2022-03-29 12:29:21,998]\u001b[0m Trial 92 finished with value: 0.9619116170430458 and parameters: {'lambda_l1': 1.1278476283637793e-08, 'lambda_l2': 1.4657937481682923e-06, 'num_leaves': 90, 'feature_fraction': 0.7870768877189341, 'bagging_fraction': 0.9273729028895563, 'bagging_freq': 3, 'learning_rate': 0.0911954450605228, 'min_child_samples': 56}. Best is trial 28 with value: 0.9997508526029126.\u001b[0m\n"
     ]
    },
    {
     "name": "stdout",
     "output_type": "stream",
     "text": [
      "Did not meet early stopping. Best iteration is:\n",
      "[100]\tvalid_0's auc: 0.998299\n",
      "Training until validation scores don't improve for 100 rounds\n"
     ]
    },
    {
     "name": "stderr",
     "output_type": "stream",
     "text": [
      "\u001b[32m[I 2022-03-29 12:29:28,647]\u001b[0m Trial 93 finished with value: 0.9656558266868832 and parameters: {'lambda_l1': 0.007690529743222591, 'lambda_l2': 1.6129615222799641e-06, 'num_leaves': 96, 'feature_fraction': 0.7859836418933356, 'bagging_fraction': 0.9422939022577549, 'bagging_freq': 3, 'learning_rate': 0.0876553921867544, 'min_child_samples': 50}. Best is trial 28 with value: 0.9997508526029126.\u001b[0m\n"
     ]
    },
    {
     "name": "stdout",
     "output_type": "stream",
     "text": [
      "Did not meet early stopping. Best iteration is:\n",
      "[100]\tvalid_0's auc: 0.999963\n",
      "Did not meet early stopping. Best iteration is:\n",
      "[100]\tvalid_0's auc: 0.999931\n"
     ]
    },
    {
     "name": "stderr",
     "output_type": "stream",
     "text": [
      "\u001b[32m[I 2022-03-29 12:29:42,779]\u001b[0m Trial 95 finished with value: 0.9965015340576663 and parameters: {'lambda_l1': 0.000741697466452519, 'lambda_l2': 1.2415366369249223e-06, 'num_leaves': 95, 'feature_fraction': 0.7942070367473484, 'bagging_fraction': 0.5407044344209135, 'bagging_freq': 3, 'learning_rate': 0.15893019288596938, 'min_child_samples': 45}. Best is trial 28 with value: 0.9997508526029126.\u001b[0m\n",
      "\u001b[32m[I 2022-03-29 12:29:43,859]\u001b[0m Trial 91 finished with value: 0.9936807514837562 and parameters: {'lambda_l1': 0.001033918810534647, 'lambda_l2': 2.684922168393431e-08, 'num_leaves': 143, 'feature_fraction': 0.7914709542089559, 'bagging_fraction': 0.947859898152745, 'bagging_freq': 3, 'learning_rate': 0.09559811207795824, 'min_child_samples': 58}. Best is trial 28 with value: 0.9997508526029126.\u001b[0m\n"
     ]
    },
    {
     "name": "stdout",
     "output_type": "stream",
     "text": [
      "Did not meet early stopping. Best iteration is:\n",
      "[100]\tvalid_0's auc: 0.99993\n"
     ]
    },
    {
     "name": "stderr",
     "output_type": "stream",
     "text": [
      "\u001b[32m[I 2022-03-29 12:29:54,774]\u001b[0m Trial 97 finished with value: 0.9948304857264039 and parameters: {'lambda_l1': 0.0009583850305070391, 'lambda_l2': 1.5706970278606003e-06, 'num_leaves': 94, 'feature_fraction': 0.7507474366727384, 'bagging_fraction': 0.6717399090798554, 'bagging_freq': 3, 'learning_rate': 0.1609447246765993, 'min_child_samples': 50}. Best is trial 28 with value: 0.9997508526029126.\u001b[0m\n"
     ]
    },
    {
     "name": "stdout",
     "output_type": "stream",
     "text": [
      "Did not meet early stopping. Best iteration is:\n",
      "[100]\tvalid_0's auc: 0.999995\n"
     ]
    },
    {
     "name": "stderr",
     "output_type": "stream",
     "text": [
      "\u001b[32m[I 2022-03-29 12:30:05,691]\u001b[0m Trial 96 finished with value: 0.9986704165223159 and parameters: {'lambda_l1': 4.088284864617312e-05, 'lambda_l2': 1.253267189262457e-06, 'num_leaves': 143, 'feature_fraction': 0.7579085410211814, 'bagging_fraction': 0.6095477701639924, 'bagging_freq': 3, 'learning_rate': 0.15131508928271606, 'min_child_samples': 45}. Best is trial 28 with value: 0.9997508526029126.\u001b[0m\n"
     ]
    },
    {
     "name": "stdout",
     "output_type": "stream",
     "text": [
      "Did not meet early stopping. Best iteration is:\n",
      "[100]\tvalid_0's auc: 0.999996\n"
     ]
    },
    {
     "name": "stderr",
     "output_type": "stream",
     "text": [
      "\u001b[32m[I 2022-03-29 12:30:11,509]\u001b[0m Trial 98 finished with value: 0.9988521879872003 and parameters: {'lambda_l1': 0.0008783504534971537, 'lambda_l2': 2.4231217098263497e-07, 'num_leaves': 143, 'feature_fraction': 0.7642016314545961, 'bagging_fraction': 0.618620500322694, 'bagging_freq': 2, 'learning_rate': 0.15714057044431437, 'min_child_samples': 50}. Best is trial 28 with value: 0.9997508526029126.\u001b[0m\n"
     ]
    },
    {
     "name": "stdout",
     "output_type": "stream",
     "text": [
      "Did not meet early stopping. Best iteration is:\n",
      "[100]\tvalid_0's auc: 0.999993\n"
     ]
    },
    {
     "name": "stderr",
     "output_type": "stream",
     "text": [
      "\u001b[32m[I 2022-03-29 12:30:13,595]\u001b[0m Trial 99 finished with value: 0.9984955136572566 and parameters: {'lambda_l1': 0.0007829569269747941, 'lambda_l2': 2.0313393620573155e-07, 'num_leaves': 132, 'feature_fraction': 0.7497484553059574, 'bagging_fraction': 0.6656474035046798, 'bagging_freq': 2, 'learning_rate': 0.15665262419878445, 'min_child_samples': 50}. Best is trial 28 with value: 0.9997508526029126.\u001b[0m\n"
     ]
    },
    {
     "name": "stdout",
     "output_type": "stream",
     "text": [
      "Did not meet early stopping. Best iteration is:\n",
      "[100]\tvalid_0's auc: 0.999993\n"
     ]
    },
    {
     "name": "stderr",
     "output_type": "stream",
     "text": [
      "\u001b[32m[I 2022-03-29 12:30:15,963]\u001b[0m Trial 94 finished with value: 0.9979788857632135 and parameters: {'lambda_l1': 0.0009348205742090182, 'lambda_l2': 1.5120161823496e-06, 'num_leaves': 255, 'feature_fraction': 0.7753030186321059, 'bagging_fraction': 0.933088791461638, 'bagging_freq': 3, 'learning_rate': 0.0797049556247469, 'min_child_samples': 46}. Best is trial 28 with value: 0.9997508526029126.\u001b[0m\n"
     ]
    },
    {
     "name": "stdout",
     "output_type": "stream",
     "text": [
      "{'lambda_l1': 0.00032574720269417805, 'lambda_l2': 5.057248106078933e-08, 'num_leaves': 119, 'feature_fraction': 0.9034027933885391, 'bagging_fraction': 0.8342429990334918, 'bagging_freq': 1, 'learning_rate': 0.29777689593036366, 'min_child_samples': 58} -> 0.9997508526029126\n",
      "[LightGBM] [Warning] feature_fraction is set=0.9034027933885391, colsample_bytree=1.0 will be ignored. Current value: feature_fraction=0.9034027933885391\n",
      "[LightGBM] [Warning] lambda_l1 is set=0.00032574720269417805, reg_alpha=0.0 will be ignored. Current value: lambda_l1=0.00032574720269417805\n",
      "[LightGBM] [Warning] bagging_fraction is set=0.8342429990334918, subsample=1.0 will be ignored. Current value: bagging_fraction=0.8342429990334918\n",
      "[LightGBM] [Warning] lambda_l2 is set=5.057248106078933e-08, reg_lambda=0.0 will be ignored. Current value: lambda_l2=5.057248106078933e-08\n",
      "[LightGBM] [Warning] bagging_freq is set=1, subsample_freq=0 will be ignored. Current value: bagging_freq=1\n",
      "Training until validation scores don't improve for 100 rounds\n",
      "Did not meet early stopping. Best iteration is:\n",
      "[100]\tvalid_0's auc: 1\tvalid_0's binary_logloss: 0.0125079\n"
     ]
    }
   ],
   "source": [
    "clf_meta = get_best_clf(df_train_meta)"
   ]
  },
  {
   "cell_type": "code",
   "execution_count": 19,
   "id": "f80c6a01",
   "metadata": {
    "ExecuteTime": {
     "end_time": "2022-03-29T10:30:32.775904Z",
     "start_time": "2022-03-29T10:30:29.971061Z"
    }
   },
   "outputs": [
    {
     "name": "stdout",
     "output_type": "stream",
     "text": [
      "AUROC: 0.7456488098229351\n",
      "Accuracy: 0.7479123199391583\n"
     ]
    },
    {
     "data": {
      "image/png": "[encoded data removed]",
      "text/plain": [
       "<Figure size 432x288 with 2 Axes>"
      ]
     },
     "metadata": {
      "needs_background": "light"
     },
     "output_type": "display_data"
    },
    {
     "data": {
      "image/png": "[encoded data removed]",
      "text/plain": [
       "<Figure size 432x288 with 1 Axes>"
      ]
     },
     "metadata": {
      "needs_background": "light"
     },
     "output_type": "display_data"
    }
   ],
   "source": [
    "eval_clf(clf_meta, df_test_meta)"
   ]
  },
  {
   "cell_type": "markdown",
   "id": "fd9508ff",
   "metadata": {},
   "source": [
    "### Average probas at the user level"
   ]
  },
  {
   "cell_type": "code",
   "execution_count": 20,
   "id": "9717164e",
   "metadata": {
    "ExecuteTime": {
     "end_time": "2022-03-29T10:30:51.155654Z",
     "start_time": "2022-03-29T10:30:32.776915Z"
    },
    "collapsed": true
   },
   "outputs": [
    {
     "name": "stderr",
     "output_type": "stream",
     "text": [
      "\u001b[32m[I 2022-03-29 12:30:41,293]\u001b[0m A new study created in memory with name: no-name-9d7b66f6-835e-4a6a-8ccc-428caf2c2c87\u001b[0m\n",
      "\u001b[32m[I 2022-03-29 12:30:41,559]\u001b[0m Trial 6 finished with value: 0.5 and parameters: {'lambda_l1': 0.8025872019719471, 'lambda_l2': 0.18614322014146678, 'num_leaves': 205, 'feature_fraction': 0.9154939740766698, 'bagging_fraction': 0.45236515707168806, 'bagging_freq': 3, 'learning_rate': 3.1623122337225445e-05, 'min_child_samples': 68}. Best is trial 6 with value: 0.5.\u001b[0m\n"
     ]
    },
    {
     "name": "stdout",
     "output_type": "stream",
     "text": [
      "Training until validation scores don't improve for 100 rounds\n",
      "Training until validation scores don't improve for 100 rounds\n",
      "Training until validation scores don't improve for 100 roundsTraining until validation scores don't improve for 100 roundsTraining until validation scores don't improve for 100 roundsTraining until validation scores don't improve for 100 rounds\n",
      "\n",
      "Training until validation scores don't improve for 100 roundsTraining until validation scores don't improve for 100 rounds\n",
      "\n",
      "\n",
      "\n",
      "Did not meet early stopping. Best iteration is:\n",
      "[52]\tvalid_0's auc: 0.999878\n"
     ]
    },
    {
     "name": "stderr",
     "output_type": "stream",
     "text": [
      "\u001b[32m[I 2022-03-29 12:30:41,574]\u001b[0m Trial 7 finished with value: 0.5 and parameters: {'lambda_l1': 1.247154120074183, 'lambda_l2': 0.0004988778465035614, 'num_leaves': 178, 'feature_fraction': 0.6073961786987421, 'bagging_fraction': 0.940550430984856, 'bagging_freq': 6, 'learning_rate': 0.007721236325755842, 'min_child_samples': 79}. Best is trial 6 with value: 0.5.\u001b[0m\n",
      "\u001b[32m[I 2022-03-29 12:30:41,593]\u001b[0m Trial 0 finished with value: 0.5 and parameters: {'lambda_l1': 2.910700903143719e-07, 'lambda_l2': 1.936120588623136, 'num_leaves': 175, 'feature_fraction': 0.7845760825668453, 'bagging_fraction': 0.924407791670551, 'bagging_freq': 7, 'learning_rate': 0.0001632102116528983, 'min_child_samples': 60}. Best is trial 6 with value: 0.5.\u001b[0m\n",
      "\u001b[32m[I 2022-03-29 12:30:41,606]\u001b[0m Trial 2 finished with value: 0.5 and parameters: {'lambda_l1': 2.074622355116885, 'lambda_l2': 0.00365686820250909, 'num_leaves': 52, 'feature_fraction': 0.5647236180849451, 'bagging_fraction': 0.4345653594371697, 'bagging_freq': 1, 'learning_rate': 5.6862058272898516e-05, 'min_child_samples': 30}. Best is trial 6 with value: 0.5.\u001b[0m\n",
      "\u001b[32m[I 2022-03-29 12:30:41,637]\u001b[0m Trial 3 finished with value: 0.996626988831717 and parameters: {'lambda_l1': 7.03368516267058e-08, 'lambda_l2': 3.608835023554438, 'num_leaves': 58, 'feature_fraction': 0.708622813381262, 'bagging_fraction': 0.9213532565063141, 'bagging_freq': 3, 'learning_rate': 0.04428812828539681, 'min_child_samples': 71}. Best is trial 3 with value: 0.996626988831717.\u001b[0m\n",
      "\u001b[32m[I 2022-03-29 12:30:41,668]\u001b[0m Trial 4 finished with value: 0.9960905081450218 and parameters: {'lambda_l1': 1.7403409059276831e-06, 'lambda_l2': 0.08361385416207075, 'num_leaves': 86, 'feature_fraction': 0.4701936770619894, 'bagging_fraction': 0.8864223545917695, 'bagging_freq': 6, 'learning_rate': 0.04721184657814774, 'min_child_samples': 59}. Best is trial 3 with value: 0.996626988831717.\u001b[0m\n"
     ]
    },
    {
     "name": "stdout",
     "output_type": "stream",
     "text": [
      "Did not meet early stopping. Best iteration is:\n",
      "[7]\tvalid_0's auc: 0.999343\n",
      "Did not meet early stopping. Best iteration is:\n",
      "[99]\tvalid_0's auc: 0.999346\n",
      "Did not meet early stopping. Best iteration is:\n",
      "[53]\tvalid_0's auc: 0.999355\n",
      "Did not meet early stopping. Best iteration is:\n",
      "[85]\tvalid_0's auc: 0.999848Training until validation scores don't improve for 100 rounds\n",
      "\n",
      "Training until validation scores don't improve for 100 rounds\n",
      "Did not meet early stopping. Best iteration is:\n",
      "[80]\tvalid_0's auc: 0.999838\n",
      "Training until validation scores don't improve for 100 rounds\n",
      "Training until validation scores don't improve for 100 rounds\n",
      "Training until validation scores don't improve for 100 rounds\n",
      "Training until validation scores don't improve for 100 rounds\n"
     ]
    },
    {
     "name": "stderr",
     "output_type": "stream",
     "text": [
      "\u001b[32m[I 2022-03-29 12:30:41,778]\u001b[0m Trial 1 finished with value: 0.9963187347354943 and parameters: {'lambda_l1': 0.11634916818417955, 'lambda_l2': 0.019582209686597206, 'num_leaves': 221, 'feature_fraction': 0.5347121304605724, 'bagging_fraction': 0.5836565691867059, 'bagging_freq': 5, 'learning_rate': 0.02573260177567649, 'min_child_samples': 11}. Best is trial 3 with value: 0.996626988831717.\u001b[0m\n",
      "\u001b[32m[I 2022-03-29 12:30:41,856]\u001b[0m Trial 5 finished with value: 0.5 and parameters: {'lambda_l1': 5.4177494011174456e-05, 'lambda_l2': 0.0001358468318560076, 'num_leaves': 204, 'feature_fraction': 0.803611650930467, 'bagging_fraction': 0.6743825304108697, 'bagging_freq': 4, 'learning_rate': 0.003782683061972491, 'min_child_samples': 13}. Best is trial 3 with value: 0.996626988831717.\u001b[0m\n",
      "\u001b[32m[I 2022-03-29 12:30:41,887]\u001b[0m Trial 9 finished with value: 0.5 and parameters: {'lambda_l1': 0.00018229188494763718, 'lambda_l2': 2.8994097284580693e-08, 'num_leaves': 24, 'feature_fraction': 0.9545179255302018, 'bagging_fraction': 0.5918790233563831, 'bagging_freq': 5, 'learning_rate': 3.6453794551244844e-05, 'min_child_samples': 88}. Best is trial 3 with value: 0.996626988831717.\u001b[0m\n",
      "\u001b[32m[I 2022-03-29 12:30:41,919]\u001b[0m Trial 10 finished with value: 0.9976999502051076 and parameters: {'lambda_l1': 6.655486290642856e-05, 'lambda_l2': 0.014265377318239333, 'num_leaves': 249, 'feature_fraction': 0.7999964089907659, 'bagging_fraction': 0.49380845911410015, 'bagging_freq': 3, 'learning_rate': 0.020475597926064803, 'min_child_samples': 91}. Best is trial 10 with value: 0.9976999502051076.\u001b[0m\n"
     ]
    },
    {
     "name": "stdout",
     "output_type": "stream",
     "text": [
      "Did not meet early stopping. Best iteration is:\n",
      "[26]\tvalid_0's auc: 0.999847\n",
      "Training until validation scores don't improve for 100 rounds\n",
      "Did not meet early stopping. Best iteration is:\n",
      "[12]\tvalid_0's auc: 0.999869\n",
      "Did not meet early stopping. Best iteration is:\n",
      "[86]\tvalid_0's auc: 0.999866\n",
      "Training until validation scores don't improve for 100 rounds\n",
      "Did not meet early stopping. Best iteration is:\n",
      "[29]\tvalid_0's auc: 0.999858\n",
      "Training until validation scores don't improve for 100 rounds\n"
     ]
    },
    {
     "name": "stderr",
     "output_type": "stream",
     "text": [
      "\u001b[32m[I 2022-03-29 12:30:41,998]\u001b[0m Trial 8 finished with value: 0.9858054916652834 and parameters: {'lambda_l1': 0.0001511604057883134, 'lambda_l2': 0.00149095761819134, 'num_leaves': 140, 'feature_fraction': 0.8092673839455025, 'bagging_fraction': 0.6092426135910165, 'bagging_freq': 4, 'learning_rate': 0.009130359613520182, 'min_child_samples': 26}. Best is trial 10 with value: 0.9976999502051076.\u001b[0m\n",
      "\u001b[32m[I 2022-03-29 12:30:42,094]\u001b[0m Trial 12 finished with value: 0.5 and parameters: {'lambda_l1': 5.8431090769480885e-08, 'lambda_l2': 0.00012838664622412635, 'num_leaves': 189, 'feature_fraction': 0.527324968279405, 'bagging_fraction': 0.6576665872913848, 'bagging_freq': 2, 'learning_rate': 0.0016806211544429107, 'min_child_samples': 71}. Best is trial 10 with value: 0.9976999502051076.\u001b[0m\n",
      "\u001b[32m[I 2022-03-29 12:30:42,185]\u001b[0m Trial 11 finished with value: 0.5 and parameters: {'lambda_l1': 0.0007120009103475826, 'lambda_l2': 0.006810504602442652, 'num_leaves': 245, 'feature_fraction': 0.8072202146305936, 'bagging_fraction': 0.6779080073926111, 'bagging_freq': 7, 'learning_rate': 0.0001433191467183676, 'min_child_samples': 20}. Best is trial 10 with value: 0.9976999502051076.\u001b[0m\n"
     ]
    },
    {
     "name": "stdout",
     "output_type": "stream",
     "text": [
      "Did not meet early stopping. Best iteration is:\n",
      "[22]\tvalid_0's auc: 0.999865\n",
      "Did not meet early stopping. Best iteration is:\n",
      "[62]\tvalid_0's auc: 0.999843\n",
      "Training until validation scores don't improve for 100 rounds\n",
      "Training until validation scores don't improve for 100 rounds\n",
      "Did not meet early stopping. Best iteration is:\n",
      "[35]\tvalid_0's auc: 0.999853\n"
     ]
    },
    {
     "name": "stderr",
     "output_type": "stream",
     "text": [
      "\u001b[32m[I 2022-03-29 12:30:42,311]\u001b[0m Trial 14 finished with value: 0.5 and parameters: {'lambda_l1': 0.0013731175078101588, 'lambda_l2': 1.0784686813840526e-08, 'num_leaves': 123, 'feature_fraction': 0.5728101201300132, 'bagging_fraction': 0.549117390356842, 'bagging_freq': 5, 'learning_rate': 0.002670158621353094, 'min_child_samples': 89}. Best is trial 10 with value: 0.9976999502051076.\u001b[0m\n"
     ]
    },
    {
     "name": "stdout",
     "output_type": "stream",
     "text": [
      "Training until validation scores don't improve for 100 rounds\n",
      "Training until validation scores don't improve for 100 rounds\n",
      "Did not meet early stopping. Best iteration is:\n",
      "[33]\tvalid_0's auc: 0.999852\n",
      "Training until validation scores don't improve for 100 rounds\n"
     ]
    },
    {
     "name": "stderr",
     "output_type": "stream",
     "text": [
      "\u001b[32m[I 2022-03-29 12:30:42,499]\u001b[0m Trial 15 finished with value: 0.5 and parameters: {'lambda_l1': 0.0005407804879472165, 'lambda_l2': 3.692801040892746e-05, 'num_leaves': 99, 'feature_fraction': 0.9224437189258522, 'bagging_fraction': 0.9979391773764843, 'bagging_freq': 3, 'learning_rate': 8.352801095116554e-05, 'min_child_samples': 57}. Best is trial 10 with value: 0.9976999502051076.\u001b[0m\n",
      "\u001b[32m[I 2022-03-29 12:30:42,609]\u001b[0m Trial 16 finished with value: 0.5 and parameters: {'lambda_l1': 0.001038507940063627, 'lambda_l2': 1.6001527401510122e-06, 'num_leaves': 155, 'feature_fraction': 0.8365288477348733, 'bagging_fraction': 0.8600701379162853, 'bagging_freq': 3, 'learning_rate': 0.00013707011444405467, 'min_child_samples': 49}. Best is trial 10 with value: 0.9976999502051076.\u001b[0m\n",
      "\u001b[32m[I 2022-03-29 12:30:42,609]\u001b[0m Trial 13 finished with value: 0.5 and parameters: {'lambda_l1': 0.03426537161166718, 'lambda_l2': 0.1117146057508911, 'num_leaves': 45, 'feature_fraction': 0.9893756867870981, 'bagging_fraction': 0.6969123962148863, 'bagging_freq': 1, 'learning_rate': 0.0026508817901881587, 'min_child_samples': 5}. Best is trial 10 with value: 0.9976999502051076.\u001b[0m\n"
     ]
    },
    {
     "name": "stdout",
     "output_type": "stream",
     "text": [
      "Did not meet early stopping. Best iteration is:\n",
      "[10]\tvalid_0's auc: 0.999835\n",
      "Did not meet early stopping. Best iteration is:\n",
      "[6]\tvalid_0's auc: 0.999834\n",
      "Did not meet early stopping. Best iteration is:\n",
      "[21]\tvalid_0's auc: 0.999836\n",
      "Did not meet early stopping. Best iteration is:\n",
      "[41]\tvalid_0's auc: 0.999844\n",
      "Training until validation scores don't improve for 100 rounds\n"
     ]
    },
    {
     "name": "stderr",
     "output_type": "stream",
     "text": [
      "\u001b[32m[I 2022-03-29 12:30:42,766]\u001b[0m Trial 18 finished with value: 0.9960905081450218 and parameters: {'lambda_l1': 1.295014400785985e-08, 'lambda_l2': 9.186799734609131, 'num_leaves': 251, 'feature_fraction': 0.6710538941658366, 'bagging_fraction': 0.8036802602813984, 'bagging_freq': 2, 'learning_rate': 0.23723120841762155, 'min_child_samples': 96}. Best is trial 10 with value: 0.9976999502051076.\u001b[0m\n",
      "\u001b[32m[I 2022-03-29 12:30:42,860]\u001b[0m Trial 19 finished with value: 0.996626988831717 and parameters: {'lambda_l1': 0.007122968370756171, 'lambda_l2': 5.552497086726103, 'num_leaves': 110, 'feature_fraction': 0.6913347730989617, 'bagging_fraction': 0.803393283607208, 'bagging_freq': 2, 'learning_rate': 0.15265629142528053, 'min_child_samples': 91}. Best is trial 10 with value: 0.9976999502051076.\u001b[0m\n",
      "\u001b[32m[I 2022-03-29 12:30:42,923]\u001b[0m Trial 17 finished with value: 0.5 and parameters: {'lambda_l1': 0.007389300266756513, 'lambda_l2': 4.543705907181981e-06, 'num_leaves': 255, 'feature_fraction': 0.40139280444299613, 'bagging_fraction': 0.7485635574271151, 'bagging_freq': 1, 'learning_rate': 0.0006278290639130876, 'min_child_samples': 95}. Best is trial 10 with value: 0.9976999502051076.\u001b[0m\n"
     ]
    },
    {
     "name": "stdout",
     "output_type": "stream",
     "text": [
      "Did not meet early stopping. Best iteration is:\n",
      "[48]\tvalid_0's auc: 0.999848\n",
      "Did not meet early stopping. Best iteration is:\n",
      "[11]\tvalid_0's auc: 0.999851Training until validation scores don't improve for 100 rounds\n",
      "\n",
      "Training until validation scores don't improve for 100 rounds\n",
      "Did not meet early stopping. Best iteration is:\n",
      "[25]\tvalid_0's auc: 0.999846\n",
      "Training until validation scores don't improve for 100 rounds\n"
     ]
    },
    {
     "name": "stderr",
     "output_type": "stream",
     "text": [
      "\u001b[32m[I 2022-03-29 12:30:43,033]\u001b[0m Trial 20 finished with value: 0.996626988831717 and parameters: {'lambda_l1': 1.218671788988681e-08, 'lambda_l2': 6.9530688794739595, 'num_leaves': 105, 'feature_fraction': 0.6801466821019384, 'bagging_fraction': 0.8132604189676511, 'bagging_freq': 2, 'learning_rate': 0.24432765601863315, 'min_child_samples': 100}. Best is trial 10 with value: 0.9976999502051076.\u001b[0m\n",
      "\u001b[32m[I 2022-03-29 12:30:43,142]\u001b[0m Trial 21 finished with value: 0.996626988831717 and parameters: {'lambda_l1': 1.8929293696151363e-08, 'lambda_l2': 9.715159393222422, 'num_leaves': 5, 'feature_fraction': 0.704341938944404, 'bagging_fraction': 0.8090334752466507, 'bagging_freq': 2, 'learning_rate': 0.29815854262939184, 'min_child_samples': 42}. Best is trial 10 with value: 0.9976999502051076.\u001b[0m\n"
     ]
    },
    {
     "name": "stdout",
     "output_type": "stream",
     "text": [
      "Did not meet early stopping. Best iteration is:\n",
      "[17]\tvalid_0's auc: 0.999857\n",
      "Training until validation scores don't improve for 100 rounds\n",
      "Training until validation scores don't improve for 100 rounds\n",
      "Training until validation scores don't improve for 100 rounds\n"
     ]
    },
    {
     "name": "stderr",
     "output_type": "stream",
     "text": [
      "\u001b[32m[I 2022-03-29 12:30:43,346]\u001b[0m Trial 22 finished with value: 0.9960905081450218 and parameters: {'lambda_l1': 6.2969838436965465e-06, 'lambda_l2': 6.071164632043555, 'num_leaves': 56, 'feature_fraction': 0.6946638327279191, 'bagging_fraction': 0.8102822978357331, 'bagging_freq': 2, 'learning_rate': 0.1661287674562698, 'min_child_samples': 100}. Best is trial 10 with value: 0.9976999502051076.\u001b[0m\n"
     ]
    },
    {
     "name": "stdout",
     "output_type": "stream",
     "text": [
      "Training until validation scores don't improve for 100 rounds\n",
      "Did not meet early stopping. Best iteration is:\n",
      "[52]\tvalid_0's auc: 0.999848\n"
     ]
    },
    {
     "name": "stderr",
     "output_type": "stream",
     "text": [
      "\u001b[32m[I 2022-03-29 12:30:43,440]\u001b[0m Trial 23 finished with value: 0.996626988831717 and parameters: {'lambda_l1': 1.1205989203788361e-08, 'lambda_l2': 8.865367575816249, 'num_leaves': 8, 'feature_fraction': 0.6850281682216812, 'bagging_fraction': 0.7852470966152625, 'bagging_freq': 2, 'learning_rate': 0.27772004662004574, 'min_child_samples': 95}. Best is trial 10 with value: 0.9976999502051076.\u001b[0m\n",
      "\u001b[32m[I 2022-03-29 12:30:43,535]\u001b[0m Trial 24 finished with value: 0.996626988831717 and parameters: {'lambda_l1': 5.882818854410937e-06, 'lambda_l2': 9.903070099941123, 'num_leaves': 9, 'feature_fraction': 0.6811785106509238, 'bagging_fraction': 0.7854811022730709, 'bagging_freq': 2, 'learning_rate': 0.24295933671933537, 'min_child_samples': 95}. Best is trial 10 with value: 0.9976999502051076.\u001b[0m\n"
     ]
    },
    {
     "name": "stdout",
     "output_type": "stream",
     "text": [
      "Did not meet early stopping. Best iteration is:\n",
      "[25]\tvalid_0's auc: 0.99985\n",
      "Training until validation scores don't improve for 100 rounds\n",
      "Did not meet early stopping. Best iteration is:\n",
      "[27]\tvalid_0's auc: 0.99985\n",
      "Training until validation scores don't improve for 100 rounds\n"
     ]
    },
    {
     "name": "stderr",
     "output_type": "stream",
     "text": [
      "\u001b[32m[I 2022-03-29 12:30:43,644]\u001b[0m Trial 28 finished with value: 0.9960905081450218 and parameters: {'lambda_l1': 9.571467071255653e-06, 'lambda_l2': 0.9612384530078497, 'num_leaves': 69, 'feature_fraction': 0.7372540242336565, 'bagging_fraction': 0.7802746291505179, 'bagging_freq': 3, 'learning_rate': 0.06518737773673693, 'min_child_samples': 80}. Best is trial 10 with value: 0.9976999502051076.\u001b[0m\n",
      "\u001b[32m[I 2022-03-29 12:30:43,738]\u001b[0m Trial 25 finished with value: 0.996626988831717 and parameters: {'lambda_l1': 4.024121772095052e-06, 'lambda_l2': 2.1520057256664775, 'num_leaves': 67, 'feature_fraction': 0.6946835320263732, 'bagging_fraction': 0.7812730254364664, 'bagging_freq': 2, 'learning_rate': 0.2364264648977462, 'min_child_samples': 41}. Best is trial 10 with value: 0.9976999502051076.\u001b[0m\n"
     ]
    },
    {
     "name": "stdout",
     "output_type": "stream",
     "text": [
      "Did not meet early stopping. Best iteration is:\n",
      "[85]\tvalid_0's auc: 0.999841\n",
      "Training until validation scores don't improve for 100 rounds\n",
      "Did not meet early stopping. Best iteration is:\n",
      "[19]\tvalid_0's auc: 0.999859\n",
      "Did not meet early stopping. Best iteration is:\n",
      "[12]\tvalid_0's auc: 0.999857\n",
      "Did not meet early stopping. Best iteration is:\n",
      "[88]\tvalid_0's auc: 0.999862\n",
      "Training until validation scores don't improve for 100 rounds\n",
      "Did not meet early stopping. Best iteration is:\n",
      "[9]\tvalid_0's auc: 0.999856\n"
     ]
    },
    {
     "name": "stderr",
     "output_type": "stream",
     "text": [
      "\u001b[32m[I 2022-03-29 12:30:43,848]\u001b[0m Trial 27 finished with value: 0.9960905081450218 and parameters: {'lambda_l1': 1.1534131602389605e-05, 'lambda_l2': 0.3919056759730344, 'num_leaves': 111, 'feature_fraction': 0.7065552961671351, 'bagging_fraction': 0.48645031274364176, 'bagging_freq': 2, 'learning_rate': 0.27362883746515465, 'min_child_samples': 100}. Best is trial 10 with value: 0.9976999502051076.\u001b[0m\n",
      "\u001b[32m[I 2022-03-29 12:30:43,848]\u001b[0m Trial 29 finished with value: 0.9950175467716312 and parameters: {'lambda_l1': 9.342038428625075e-06, 'lambda_l2': 0.7768742481838539, 'num_leaves': 106, 'feature_fraction': 0.6418257118546223, 'bagging_fraction': 0.7764300475744055, 'bagging_freq': 2, 'learning_rate': 0.10492545587365355, 'min_child_samples': 84}. Best is trial 10 with value: 0.9976999502051076.\u001b[0m\n",
      "\u001b[32m[I 2022-03-29 12:30:43,926]\u001b[0m Trial 26 finished with value: 0.996626988831717 and parameters: {'lambda_l1': 0.011121811676927409, 'lambda_l2': 2.7043951530720965e-06, 'num_leaves': 106, 'feature_fraction': 0.6943702615625924, 'bagging_fraction': 0.7771190635233138, 'bagging_freq': 2, 'learning_rate': 0.22516379333472103, 'min_child_samples': 39}. Best is trial 10 with value: 0.9976999502051076.\u001b[0m\n",
      "\u001b[32m[I 2022-03-29 12:30:44,099]\u001b[0m Trial 30 finished with value: 0.9963187347354943 and parameters: {'lambda_l1': 1.4594980491500058e-07, 'lambda_l2': 0.39666170505855464, 'num_leaves': 84, 'feature_fraction': 0.7592243133041947, 'bagging_fraction': 0.49572724937959356, 'bagging_freq': 3, 'learning_rate': 0.05624380741449781, 'min_child_samples': 76}. Best is trial 10 with value: 0.9976999502051076.\u001b[0m\n"
     ]
    },
    {
     "name": "stdout",
     "output_type": "stream",
     "text": [
      "Training until validation scores don't improve for 100 rounds\n",
      "Did not meet early stopping. Best iteration is:\n",
      "[9]\tvalid_0's auc: 0.999868\n"
     ]
    },
    {
     "name": "stderr",
     "output_type": "stream",
     "text": [
      "\u001b[32m[I 2022-03-29 12:30:44,240]\u001b[0m Trial 31 finished with value: 0.9920209612785431 and parameters: {'lambda_l1': 5.1921254487864385e-06, 'lambda_l2': 0.6814516761878623, 'num_leaves': 7, 'feature_fraction': 0.738232075652481, 'bagging_fraction': 0.4927629186497356, 'bagging_freq': 3, 'learning_rate': 0.08526809036281302, 'min_child_samples': 47}. Best is trial 10 with value: 0.9976999502051076.\u001b[0m\n",
      "\u001b[32m[I 2022-03-29 12:30:44,271]\u001b[0m Trial 32 finished with value: 0.9971634695184123 and parameters: {'lambda_l1': 1.115112253567636e-05, 'lambda_l2': 0.623923417158946, 'num_leaves': 77, 'feature_fraction': 0.7334217126761607, 'bagging_fraction': 0.4914879069111403, 'bagging_freq': 3, 'learning_rate': 0.05911174821198108, 'min_child_samples': 80}. Best is trial 10 with value: 0.9976999502051076.\u001b[0m\n"
     ]
    },
    {
     "name": "stdout",
     "output_type": "stream",
     "text": [
      "Did not meet early stopping. Best iteration is:\n",
      "[4]\tvalid_0's auc: 0.999853\n",
      "Training until validation scores don't improve for 100 rounds\n",
      "Did not meet early stopping. Best iteration is:\n",
      "[12]\tvalid_0's auc: 0.999861\n",
      "Training until validation scores don't improve for 100 rounds\n",
      "Training until validation scores don't improve for 100 rounds\n",
      "Training until validation scores don't improve for 100 rounds\n"
     ]
    },
    {
     "name": "stderr",
     "output_type": "stream",
     "text": [
      "\u001b[32m[I 2022-03-29 12:30:44,428]\u001b[0m Trial 33 finished with value: 0.9971634695184123 and parameters: {'lambda_l1': 2.424394182436825e-07, 'lambda_l2': 0.4764017430339104, 'num_leaves': 29, 'feature_fraction': 0.6182728886386083, 'bagging_fraction': 0.9931495442916963, 'bagging_freq': 4, 'learning_rate': 0.020663728875129992, 'min_child_samples': 80}. Best is trial 10 with value: 0.9976999502051076.\u001b[0m\n",
      "\u001b[32m[I 2022-03-29 12:30:44,522]\u001b[0m Trial 34 finished with value: 0.9971634695184123 and parameters: {'lambda_l1': 3.420106317239252e-07, 'lambda_l2': 0.5334344466385641, 'num_leaves': 31, 'feature_fraction': 0.8729280875291272, 'bagging_fraction': 0.5239037217262524, 'bagging_freq': 4, 'learning_rate': 0.024712268453406162, 'min_child_samples': 81}. Best is trial 10 with value: 0.9976999502051076.\u001b[0m\n"
     ]
    },
    {
     "name": "stdout",
     "output_type": "stream",
     "text": [
      "Did not meet early stopping. Best iteration is:\n",
      "[60]\tvalid_0's auc: 0.99985\n",
      "Training until validation scores don't improve for 100 rounds\n",
      "Did not meet early stopping. Best iteration is:\n",
      "[24]\tvalid_0's auc: 0.999862\n",
      "Training until validation scores don't improve for 100 rounds\n",
      "Training until validation scores don't improve for 100 rounds\n"
     ]
    },
    {
     "name": "stderr",
     "output_type": "stream",
     "text": [
      "\u001b[32m[I 2022-03-29 12:30:44,726]\u001b[0m Trial 36 finished with value: 0.9976999502051076 and parameters: {'lambda_l1': 4.2246964072267397e-07, 'lambda_l2': 0.02385396228513217, 'num_leaves': 81, 'feature_fraction': 0.7529571433431008, 'bagging_fraction': 0.9614031513619729, 'bagging_freq': 4, 'learning_rate': 0.023851687166808574, 'min_child_samples': 67}. Best is trial 10 with value: 0.9976999502051076.\u001b[0m\n",
      "\u001b[32m[I 2022-03-29 12:30:44,805]\u001b[0m Trial 35 finished with value: 0.9971634695184123 and parameters: {'lambda_l1': 3.0975387385455936e-07, 'lambda_l2': 0.024698317079609254, 'num_leaves': 76, 'feature_fraction': 0.86044270654999, 'bagging_fraction': 0.9463044724446127, 'bagging_freq': 4, 'learning_rate': 0.026666724817732104, 'min_child_samples': 72}. Best is trial 10 with value: 0.9976999502051076.\u001b[0m\n"
     ]
    },
    {
     "name": "stdout",
     "output_type": "stream",
     "text": [
      "Training until validation scores don't improve for 100 rounds\n",
      "Did not meet early stopping. Best iteration is:\n",
      "[29]\tvalid_0's auc: 0.999858\n",
      "Did not meet early stopping. Best iteration is:\n",
      "[39]\tvalid_0's auc: 0.999853\n",
      "Did not meet early stopping. Best iteration is:\n",
      "[46]\tvalid_0's auc: 0.999853\n"
     ]
    },
    {
     "name": "stderr",
     "output_type": "stream",
     "text": [
      "\u001b[32m[I 2022-03-29 12:30:44,930]\u001b[0m Trial 38 finished with value: 0.9971634695184123 and parameters: {'lambda_l1': 4.2147630457195886e-07, 'lambda_l2': 0.04393951817031366, 'num_leaves': 31, 'feature_fraction': 0.8483547605506919, 'bagging_fraction': 0.8627085760381203, 'bagging_freq': 4, 'learning_rate': 0.01861757845750841, 'min_child_samples': 66}. Best is trial 10 with value: 0.9976999502051076.\u001b[0m\n",
      "\u001b[32m[I 2022-03-29 12:30:44,977]\u001b[0m Trial 37 finished with value: 0.9971634695184123 and parameters: {'lambda_l1': 4.223138070236921e-07, 'lambda_l2': 1.873605739857078e-07, 'num_leaves': 153, 'feature_fraction': 0.7567822738639722, 'bagging_fraction': 0.9448005601524055, 'bagging_freq': 4, 'learning_rate': 0.021626696116883587, 'min_child_samples': 66}. Best is trial 10 with value: 0.9976999502051076.\u001b[0m\n",
      "\u001b[32m[I 2022-03-29 12:30:44,977]\u001b[0m Trial 39 finished with value: 0.9942469115310744 and parameters: {'lambda_l1': 5.954376968655452e-07, 'lambda_l2': 0.029270703761258104, 'num_leaves': 146, 'feature_fraction': 0.8489112046216105, 'bagging_fraction': 0.5333252142897901, 'bagging_freq': 4, 'learning_rate': 0.021932512438582342, 'min_child_samples': 65}. Best is trial 10 with value: 0.9976999502051076.\u001b[0m\n",
      "\u001b[32m[I 2022-03-29 12:30:45,000]\u001b[0m Trial 40 finished with value: 0.9971634695184123 and parameters: {'lambda_l1': 6.281855079329135e-07, 'lambda_l2': 0.020115955445659632, 'num_leaves': 151, 'feature_fraction': 0.852971953713631, 'bagging_fraction': 0.4143156690851791, 'bagging_freq': 4, 'learning_rate': 0.015100463628483404, 'min_child_samples': 65}. Best is trial 10 with value: 0.9976999502051076.\u001b[0m\n"
     ]
    },
    {
     "name": "stdout",
     "output_type": "stream",
     "text": [
      "Did not meet early stopping. Best iteration is:\n",
      "[29]\tvalid_0's auc: 0.999855\n",
      "Did not meet early stopping. Best iteration is:\n",
      "[12]\tvalid_0's auc: 0.999854\n",
      "Did not meet early stopping. Best iteration is:\n",
      "[87]\tvalid_0's auc: 0.999849\n",
      "Training until validation scores don't improve for 100 rounds\n",
      "Did not meet early stopping. Best iteration is:\n",
      "[49]\tvalid_0's auc: 0.999847\n",
      "Training until validation scores don't improve for 100 rounds\n"
     ]
    },
    {
     "name": "stderr",
     "output_type": "stream",
     "text": [
      "\u001b[32m[I 2022-03-29 12:30:45,213]\u001b[0m Trial 41 finished with value: 0.9971634695184123 and parameters: {'lambda_l1': 6.652632899593686e-07, 'lambda_l2': 0.02961109496642921, 'num_leaves': 38, 'feature_fraction': 0.8562450669776367, 'bagging_fraction': 0.40540649538696133, 'bagging_freq': 4, 'learning_rate': 0.01875579366890721, 'min_child_samples': 69}. Best is trial 10 with value: 0.9976999502051076.\u001b[0m\n",
      "\u001b[32m[I 2022-03-29 12:30:45,259]\u001b[0m Trial 42 finished with value: 0.9971634695184123 and parameters: {'lambda_l1': 5.611529078812616e-07, 'lambda_l2': 0.025371623596353705, 'num_leaves': 31, 'feature_fraction': 0.8527674360425783, 'bagging_fraction': 0.4016684260560966, 'bagging_freq': 4, 'learning_rate': 0.014210414877816617, 'min_child_samples': 64}. Best is trial 10 with value: 0.9976999502051076.\u001b[0m\n"
     ]
    },
    {
     "name": "stdout",
     "output_type": "stream",
     "text": [
      "Did not meet early stopping. Best iteration is:\n",
      "[32]\tvalid_0's auc: 0.999852\n",
      "Training until validation scores don't improve for 100 rounds\n"
     ]
    },
    {
     "name": "stderr",
     "output_type": "stream",
     "text": [
      "\u001b[32m[I 2022-03-29 12:30:45,557]\u001b[0m Trial 43 finished with value: 0.9920209612785431 and parameters: {'lambda_l1': 7.695120979106722e-07, 'lambda_l2': 0.02194278207931877, 'num_leaves': 83, 'feature_fraction': 0.7648147233712861, 'bagging_fraction': 0.40579888742208386, 'bagging_freq': 4, 'learning_rate': 0.021434726991182297, 'min_child_samples': 64}. Best is trial 10 with value: 0.9976999502051076.\u001b[0m\n",
      "\u001b[32m[I 2022-03-29 12:30:45,651]\u001b[0m Trial 44 finished with value: 0.9976999502051076 and parameters: {'lambda_l1': 1.1158808559122783e-06, 'lambda_l2': 0.022899563963326614, 'num_leaves': 38, 'feature_fraction': 0.7714172100293931, 'bagging_fraction': 0.42208854742588214, 'bagging_freq': 4, 'learning_rate': 0.01289105930799013, 'min_child_samples': 62}. Best is trial 10 with value: 0.9976999502051076.\u001b[0m\n"
     ]
    },
    {
     "name": "stdout",
     "output_type": "stream",
     "text": [
      "Training until validation scores don't improve for 100 roundsTraining until validation scores don't improve for 100 rounds\n",
      "\n",
      "Training until validation scores don't improve for 100 rounds\n",
      "Training until validation scores don't improve for 100 rounds\n",
      "Training until validation scores don't improve for 100 rounds\n",
      "Did not meet early stopping. Best iteration is:\n",
      "[14]\tvalid_0's auc: 0.999868\n",
      "Did not meet early stopping. Best iteration is:\n",
      "[34]\tvalid_0's auc: 0.999853\n"
     ]
    },
    {
     "name": "stderr",
     "output_type": "stream",
     "text": [
      "\u001b[32m[I 2022-03-29 12:30:45,776]\u001b[0m Trial 45 finished with value: 0.5 and parameters: {'lambda_l1': 9.818043211377085e-07, 'lambda_l2': 0.0305460297202905, 'num_leaves': 230, 'feature_fraction': 0.7789511074375346, 'bagging_fraction': 0.4233098400737333, 'bagging_freq': 5, 'learning_rate': 0.008617436688155173, 'min_child_samples': 64}. Best is trial 10 with value: 0.9976999502051076.\u001b[0m\n"
     ]
    },
    {
     "name": "stdout",
     "output_type": "stream",
     "text": [
      "Training until validation scores don't improve for 100 rounds\n",
      "Training until validation scores don't improve for 100 rounds\n",
      "Did not meet early stopping. Best iteration is:\n",
      "[6]\tvalid_0's auc: 0.999852\n",
      "Training until validation scores don't improve for 100 rounds\n",
      "Did not meet early stopping. Best iteration is:\n",
      "[89]\tvalid_0's auc: 0.999854\n"
     ]
    },
    {
     "name": "stderr",
     "output_type": "stream",
     "text": [
      "\u001b[32m[I 2022-03-29 12:30:45,918]\u001b[0m Trial 47 finished with value: 0.9971634695184123 and parameters: {'lambda_l1': 1.3616634875666638e-06, 'lambda_l2': 0.005416060023200266, 'num_leaves': 161, 'feature_fraction': 0.7743928565590131, 'bagging_fraction': 0.41828755586120026, 'bagging_freq': 5, 'learning_rate': 0.007547147779343316, 'min_child_samples': 75}. Best is trial 10 with value: 0.9976999502051076.\u001b[0m\n",
      "\u001b[32m[I 2022-03-29 12:30:46,001]\u001b[0m Trial 46 finished with value: 0.5 and parameters: {'lambda_l1': 6.246613945493131e-08, 'lambda_l2': 0.0051122748538959244, 'num_leaves': 229, 'feature_fraction': 0.774735025873222, 'bagging_fraction': 0.40199686460978606, 'bagging_freq': 5, 'learning_rate': 0.010674166623242444, 'min_child_samples': 61}. Best is trial 10 with value: 0.9976999502051076.\u001b[0m\n",
      "\u001b[32m[I 2022-03-29 12:30:46,043]\u001b[0m Trial 49 finished with value: 0.5 and parameters: {'lambda_l1': 3.097240738806999e-05, 'lambda_l2': 0.003645813718875753, 'num_leaves': 46, 'feature_fraction': 0.8920310484717718, 'bagging_fraction': 0.40218673850318853, 'bagging_freq': 5, 'learning_rate': 1.1216776811895171e-05, 'min_child_samples': 57}. Best is trial 10 with value: 0.9976999502051076.\u001b[0m\n",
      "\u001b[32m[I 2022-03-29 12:30:46,059]\u001b[0m Trial 50 finished with value: 0.5 and parameters: {'lambda_l1': 3.605521420482803e-05, 'lambda_l2': 0.00664633162139989, 'num_leaves': 43, 'feature_fraction': 0.9024761129228809, 'bagging_fraction': 0.4005780809635343, 'bagging_freq': 5, 'learning_rate': 0.007208915457045532, 'min_child_samples': 55}. Best is trial 10 with value: 0.9976999502051076.\u001b[0m\n",
      "\u001b[32m[I 2022-03-29 12:30:46,090]\u001b[0m Trial 48 finished with value: 0.9668508287292817 and parameters: {'lambda_l1': 1.1590877154226922e-06, 'lambda_l2': 0.00728197944510979, 'num_leaves': 167, 'feature_fraction': 0.7777664206047602, 'bagging_fraction': 0.4195501422769376, 'bagging_freq': 5, 'learning_rate': 0.007749032335224796, 'min_child_samples': 56}. Best is trial 10 with value: 0.9976999502051076.\u001b[0m\n"
     ]
    },
    {
     "name": "stdout",
     "output_type": "stream",
     "text": [
      "Did not meet early stopping. Best iteration is:\n",
      "[6]\tvalid_0's auc: 0.999853\n",
      "Did not meet early stopping. Best iteration is:\n",
      "[86]\tvalid_0's auc: 0.999857\n",
      "Did not meet early stopping. Best iteration is:\n",
      "[11]\tvalid_0's auc: 0.999845\n",
      "Did not meet early stopping. Best iteration is:\n",
      "[16]\tvalid_0's auc: 0.999854\n",
      "Training until validation scores don't improve for 100 rounds\n",
      "Did not meet early stopping. Best iteration is:\n",
      "[71]\tvalid_0's auc: 0.999855\n",
      "Training until validation scores don't improve for 100 rounds"
     ]
    },
    {
     "name": "stderr",
     "output_type": "stream",
     "text": [
      "\u001b[32m[I 2022-03-29 12:30:46,357]\u001b[0m Trial 51 finished with value: 0.9971634695184123 and parameters: {'lambda_l1': 3.207394510219107e-05, 'lambda_l2': 0.0038984473809171244, 'num_leaves': 45, 'feature_fraction': 0.7860782474779463, 'bagging_fraction': 0.9804211168471897, 'bagging_freq': 5, 'learning_rate': 0.009751659494078076, 'min_child_samples': 74}. Best is trial 10 with value: 0.9976999502051076.\u001b[0m\n",
      "\u001b[32m[I 2022-03-29 12:30:46,502]\u001b[0m Trial 52 finished with value: 0.5 and parameters: {'lambda_l1': 4.40964038989575e-05, 'lambda_l2': 0.005952357109292384, 'num_leaves': 47, 'feature_fraction': 0.7878174994866192, 'bagging_fraction': 0.9964303095568544, 'bagging_freq': 5, 'learning_rate': 1.1364556215829192e-05, 'min_child_samples': 74}. Best is trial 10 with value: 0.9976999502051076.\u001b[0m\n"
     ]
    },
    {
     "name": "stdout",
     "output_type": "stream",
     "text": [
      "\n",
      "Did not meet early stopping. Best iteration is:\n",
      "[11]\tvalid_0's auc: 0.999844\n",
      "Training until validation scores don't improve for 100 rounds\n",
      "Training until validation scores don't improve for 100 rounds\n",
      "Did not meet early stopping. Best iteration is:\n",
      "[89]\tvalid_0's auc: 0.999855\n",
      "Training until validation scores don't improve for 100 rounds\n"
     ]
    },
    {
     "name": "stderr",
     "output_type": "stream",
     "text": [
      "\u001b[32m[I 2022-03-29 12:30:46,608]\u001b[0m Trial 53 finished with value: 0.5 and parameters: {'lambda_l1': 4.3501091965905434e-05, 'lambda_l2': 0.0041521278556705425, 'num_leaves': 51, 'feature_fraction': 0.8856243078363711, 'bagging_fraction': 0.4532202186536776, 'bagging_freq': 5, 'learning_rate': 1.3348679483775875e-05, 'min_child_samples': 58}. Best is trial 10 with value: 0.9976999502051076.\u001b[0m\n",
      "\u001b[32m[I 2022-03-29 12:30:46,718]\u001b[0m Trial 54 finished with value: 0.5 and parameters: {'lambda_l1': 3.1444855558600026e-05, 'lambda_l2': 0.003650701203730662, 'num_leaves': 202, 'feature_fraction': 0.8083215351394094, 'bagging_fraction': 0.44655814686269735, 'bagging_freq': 6, 'learning_rate': 0.005016015102407801, 'min_child_samples': 86}. Best is trial 10 with value: 0.9976999502051076.\u001b[0m\n"
     ]
    },
    {
     "name": "stdout",
     "output_type": "stream",
     "text": [
      "Training until validation scores don't improve for 100 rounds\n",
      "Training until validation scores don't improve for 100 rounds\n",
      "Did not meet early stopping. Best iteration is:\n",
      "[8]\tvalid_0's auc: 0.999848\n",
      "Training until validation scores don't improve for 100 rounds\n"
     ]
    },
    {
     "name": "stderr",
     "output_type": "stream",
     "text": [
      "\u001b[32m[I 2022-03-29 12:30:46,874]\u001b[0m Trial 55 finished with value: 0.9971634695184123 and parameters: {'lambda_l1': 4.731131554090261e-05, 'lambda_l2': 0.0009861632123964823, 'num_leaves': 127, 'feature_fraction': 0.8167026757362854, 'bagging_fraction': 0.9947344704487513, 'bagging_freq': 3, 'learning_rate': 0.03287744001263892, 'min_child_samples': 83}. Best is trial 10 with value: 0.9976999502051076.\u001b[0m\n",
      "\u001b[32m[I 2022-03-29 12:30:46,969]\u001b[0m Trial 57 finished with value: 0.9971634695184123 and parameters: {'lambda_l1': 9.577443932258278, 'lambda_l2': 0.0007891693737875992, 'num_leaves': 206, 'feature_fraction': 0.639302916398075, 'bagging_fraction': 0.9926925038082497, 'bagging_freq': 3, 'learning_rate': 0.037760869337046137, 'min_child_samples': 85}. Best is trial 10 with value: 0.9976999502051076.\u001b[0m\n"
     ]
    },
    {
     "name": "stdout",
     "output_type": "stream",
     "text": [
      "Training until validation scores don't improve for 100 rounds\n",
      "Did not meet early stopping. Best iteration is:\n",
      "[74]\tvalid_0's auc: 0.999848\n",
      "Did not meet early stopping. Best iteration is:\n",
      "[59]\tvalid_0's auc: 0.999857\n",
      "Training until validation scores don't improve for 100 rounds"
     ]
    },
    {
     "name": "stderr",
     "output_type": "stream",
     "text": [
      "\u001b[32m[I 2022-03-29 12:30:47,078]\u001b[0m Trial 56 finished with value: 0.9971634695184123 and parameters: {'lambda_l1': 9.601067184874195e-05, 'lambda_l2': 0.11500311083404857, 'num_leaves': 129, 'feature_fraction': 0.8169095655936972, 'bagging_fraction': 0.9966036298712275, 'bagging_freq': 3, 'learning_rate': 0.03430054975576254, 'min_child_samples': 85}. Best is trial 10 with value: 0.9976999502051076.\u001b[0m\n",
      "\u001b[32m[I 2022-03-29 12:30:47,126]\u001b[0m Trial 58 finished with value: 0.9971634695184123 and parameters: {'lambda_l1': 8.644525866679828e-05, 'lambda_l2': 0.0006206486430695112, 'num_leaves': 131, 'feature_fraction': 0.8147163203848837, 'bagging_fraction': 0.9562056080249476, 'bagging_freq': 3, 'learning_rate': 0.03591702726380253, 'min_child_samples': 84}. Best is trial 10 with value: 0.9976999502051076.\u001b[0m\n"
     ]
    },
    {
     "name": "stdout",
     "output_type": "stream",
     "text": [
      "\n",
      "Did not meet early stopping. Best iteration is:\n",
      "[27]\tvalid_0's auc: 0.999847\n",
      "Did not meet early stopping. Best iteration is:\n",
      "[75]\tvalid_0's auc: 0.999842\n",
      "Training until validation scores don't improve for 100 rounds\n",
      "Did not meet early stopping. Best iteration is:\n",
      "[24]\tvalid_0's auc: 0.999847\n"
     ]
    },
    {
     "name": "stderr",
     "output_type": "stream",
     "text": [
      "\u001b[32m[I 2022-03-29 12:30:47,251]\u001b[0m Trial 59 finished with value: 0.9971634695184123 and parameters: {'lambda_l1': 0.00015414894074163946, 'lambda_l2': 0.0010809331326555821, 'num_leaves': 21, 'feature_fraction': 0.808363442133508, 'bagging_fraction': 0.9895327569309534, 'bagging_freq': 6, 'learning_rate': 0.03781277393706434, 'min_child_samples': 84}. Best is trial 10 with value: 0.9976999502051076.\u001b[0m\n",
      "\u001b[32m[I 2022-03-29 12:30:47,360]\u001b[0m Trial 61 finished with value: 0.9976999502051076 and parameters: {'lambda_l1': 7.987333608151866, 'lambda_l2': 0.08146516059886796, 'num_leaves': 23, 'feature_fraction': 0.8203668380262776, 'bagging_fraction': 0.4555678099314514, 'bagging_freq': 6, 'learning_rate': 0.004874510098109084, 'min_child_samples': 50}. Best is trial 10 with value: 0.9976999502051076.\u001b[0m\n",
      "\u001b[32m[I 2022-03-29 12:30:47,376]\u001b[0m Trial 60 finished with value: 0.9934021767481563 and parameters: {'lambda_l1': 2.3988942078185653e-06, 'lambda_l2': 0.0006639526349995015, 'num_leaves': 18, 'feature_fraction': 0.9468100971854517, 'bagging_fraction': 0.45790308273904157, 'bagging_freq': 6, 'learning_rate': 0.004125344698702445, 'min_child_samples': 69}. Best is trial 10 with value: 0.9976999502051076.\u001b[0m\n"
     ]
    },
    {
     "name": "stdout",
     "output_type": "stream",
     "text": [
      "Did not meet early stopping. Best iteration is:\n",
      "[61]\tvalid_0's auc: 0.99987\n",
      "Did not meet early stopping. Best iteration is:\n",
      "[59]\tvalid_0's auc: 0.999352\n",
      "Training until validation scores don't improve for 100 rounds\n",
      "Training until validation scores don't improve for 100 rounds\n",
      "Did not meet early stopping. Best iteration is:\n",
      "[67]\tvalid_0's auc: 0.99985\n"
     ]
    },
    {
     "name": "stderr",
     "output_type": "stream",
     "text": [
      "\u001b[32m[I 2022-03-29 12:30:47,454]\u001b[0m Trial 62 finished with value: 0.9971634695184123 and parameters: {'lambda_l1': 9.179491690544301, 'lambda_l2': 0.09606158853221128, 'num_leaves': 16, 'feature_fraction': 0.8255682377698859, 'bagging_fraction': 0.9020173938360699, 'bagging_freq': 4, 'learning_rate': 0.04046627110866018, 'min_child_samples': 51}. Best is trial 10 with value: 0.9976999502051076.\u001b[0m\n"
     ]
    },
    {
     "name": "stdout",
     "output_type": "stream",
     "text": [
      "Training until validation scores don't improve for 100 rounds\n",
      "Did not meet early stopping. Best iteration is:\n",
      "[83]\tvalid_0's auc: 0.999839\n"
     ]
    },
    {
     "name": "stderr",
     "output_type": "stream",
     "text": [
      "\u001b[32m[I 2022-03-29 12:30:47,674]\u001b[0m Trial 63 finished with value: 0.9960905081450218 and parameters: {'lambda_l1': 1.6964880830050472e-07, 'lambda_l2': 0.1263388078640006, 'num_leaves': 19, 'feature_fraction': 0.5784008056966641, 'bagging_fraction': 0.552973766432675, 'bagging_freq': 3, 'learning_rate': 0.03810740479369931, 'min_child_samples': 81}. Best is trial 10 with value: 0.9976999502051076.\u001b[0m\n",
      "\u001b[32m[I 2022-03-29 12:30:47,784]\u001b[0m Trial 64 finished with value: 0.996626988831717 and parameters: {'lambda_l1': 5.190996716956663, 'lambda_l2': 0.0008035543706121554, 'num_leaves': 131, 'feature_fraction': 0.6527833421534673, 'bagging_fraction': 0.6243796844133491, 'bagging_freq': 3, 'learning_rate': 0.040962221816937476, 'min_child_samples': 92}. Best is trial 10 with value: 0.9976999502051076.\u001b[0m\n"
     ]
    },
    {
     "name": "stdout",
     "output_type": "stream",
     "text": [
      "Training until validation scores don't improve for 100 rounds\n",
      "Training until validation scores don't improve for 100 rounds\n",
      "Did not meet early stopping. Best iteration is:\n",
      "[29]\tvalid_0's auc: 0.999864\n",
      "Training until validation scores don't improve for 100 rounds\n",
      "Training until validation scores don't improve for 100 rounds\n"
     ]
    },
    {
     "name": "stderr",
     "output_type": "stream",
     "text": [
      "\u001b[32m[I 2022-03-29 12:30:47,905]\u001b[0m Trial 65 finished with value: 0.9971634695184123 and parameters: {'lambda_l1': 0.00019210894323127336, 'lambda_l2': 0.15362996189019648, 'num_leaves': 18, 'feature_fraction': 0.726275931741843, 'bagging_fraction': 0.906366882926284, 'bagging_freq': 3, 'learning_rate': 0.039923216287554304, 'min_child_samples': 91}. Best is trial 10 with value: 0.9976999502051076.\u001b[0m\n",
      "\u001b[32m[I 2022-03-29 12:30:47,972]\u001b[0m Trial 66 finished with value: 0.5 and parameters: {'lambda_l1': 6.867846594998728, 'lambda_l2': 0.00020940288296130997, 'num_leaves': 187, 'feature_fraction': 0.6514266641905565, 'bagging_fraction': 0.9009552992607566, 'bagging_freq': 3, 'learning_rate': 0.0011711022136157003, 'min_child_samples': 92}. Best is trial 10 with value: 0.9976999502051076.\u001b[0m\n"
     ]
    },
    {
     "name": "stdout",
     "output_type": "stream",
     "text": [
      "Did not meet early stopping. Best iteration is:\n",
      "[68]\tvalid_0's auc: 0.999846\n",
      "Training until validation scores don't improve for 100 rounds\n",
      "Did not meet early stopping. Best iteration is:\n",
      "[45]\tvalid_0's auc: 0.999353\n"
     ]
    },
    {
     "name": "stderr",
     "output_type": "stream",
     "text": [
      "\u001b[32m[I 2022-03-29 12:30:48,113]\u001b[0m Trial 67 finished with value: 0.5 and parameters: {'lambda_l1': 2.22815732149926e-06, 'lambda_l2': 0.0001722452091932949, 'num_leaves': 66, 'feature_fraction': 0.8298948808873255, 'bagging_fraction': 0.6288993482912116, 'bagging_freq': 4, 'learning_rate': 0.0010491468356161543, 'min_child_samples': 51}. Best is trial 10 with value: 0.9976999502051076.\u001b[0m\n",
      "\u001b[32m[I 2022-03-29 12:30:48,239]\u001b[0m Trial 69 finished with value: 0.5 and parameters: {'lambda_l1': 1.7283490882602114e-07, 'lambda_l2': 0.0730014302193066, 'num_leaves': 63, 'feature_fraction': 0.7296578064166497, 'bagging_fraction': 0.8846213764124339, 'bagging_freq': 7, 'learning_rate': 0.0016576544474038776, 'min_child_samples': 49}. Best is trial 10 with value: 0.9976999502051076.\u001b[0m\n"
     ]
    },
    {
     "name": "stdout",
     "output_type": "stream",
     "text": [
      "Did not meet early stopping. Best iteration is:\n",
      "[33]\tvalid_0's auc: 0.99985\n",
      "Training until validation scores don't improve for 100 rounds\n",
      "Training until validation scores don't improve for 100 rounds\n",
      "Training until validation scores don't improve for 100 rounds\n",
      "Did not meet early stopping. Best iteration is:\n",
      "[16]\tvalid_0's auc: 0.999842\n",
      "Did not meet early stopping. Best iteration is:\n",
      "[84]\tvalid_0's auc: 0.999355\n"
     ]
    },
    {
     "name": "stderr",
     "output_type": "stream",
     "text": [
      "\u001b[32m[I 2022-03-29 12:30:48,317]\u001b[0m Trial 70 finished with value: 0.9830430607260568 and parameters: {'lambda_l1': 0.5083263925652299, 'lambda_l2': 0.05951966872466028, 'num_leaves': 60, 'feature_fraction': 0.7371017806509392, 'bagging_fraction': 0.8957921642099174, 'bagging_freq': 7, 'learning_rate': 0.0016048751423842183, 'min_child_samples': 47}. Best is trial 10 with value: 0.9976999502051076.\u001b[0m\n",
      "\u001b[32m[I 2022-03-29 12:30:48,349]\u001b[0m Trial 68 finished with value: 0.9971634695184123 and parameters: {'lambda_l1': 1.8255115030405118e-07, 'lambda_l2': 0.167205979492291, 'num_leaves': 61, 'feature_fraction': 0.7395405601590918, 'bagging_fraction': 0.8866945046707254, 'bagging_freq': 7, 'learning_rate': 0.07911272104716792, 'min_child_samples': 51}. Best is trial 10 with value: 0.9976999502051076.\u001b[0m\n",
      "\u001b[32m[I 2022-03-29 12:30:48,364]\u001b[0m Trial 71 finished with value: 0.5 and parameters: {'lambda_l1': 2.6790153509320915, 'lambda_l2': 0.21120599174351537, 'num_leaves': 63, 'feature_fraction': 0.7373069969569233, 'bagging_fraction': 0.6213578969718891, 'bagging_freq': 4, 'learning_rate': 0.0008581711805752199, 'min_child_samples': 51}. Best is trial 10 with value: 0.9976999502051076.\u001b[0m\n"
     ]
    },
    {
     "name": "stdout",
     "output_type": "stream",
     "text": [
      "Did not meet early stopping. Best iteration is:\n",
      "[18]\tvalid_0's auc: 0.999861\n",
      "Did not meet early stopping. Best iteration is:\n",
      "[32]\tvalid_0's auc: 0.999347\n",
      "Did not meet early stopping. Best iteration is:\n",
      "[72]\tvalid_0's auc: 0.999346\n"
     ]
    },
    {
     "name": "stderr",
     "output_type": "stream",
     "text": [
      "\u001b[32m[I 2022-03-29 12:30:48,521]\u001b[0m Trial 72 finished with value: 0.5 and parameters: {'lambda_l1': 0.29985256973854274, 'lambda_l2': 0.2456852082793451, 'num_leaves': 63, 'feature_fraction': 0.9321726200479556, 'bagging_fraction': 0.516185137732114, 'bagging_freq': 7, 'learning_rate': 0.0007202818047642473, 'min_child_samples': 46}. Best is trial 10 with value: 0.9976999502051076.\u001b[0m\n",
      "\u001b[32m[I 2022-03-29 12:30:48,678]\u001b[0m Trial 74 finished with value: 0.9971634695184123 and parameters: {'lambda_l1': 0.0004867844724120835, 'lambda_l2': 0.24252986236791704, 'num_leaves': 97, 'feature_fraction': 0.732955698549359, 'bagging_fraction': 0.4704616153096043, 'bagging_freq': 7, 'learning_rate': 0.07585238777149722, 'min_child_samples': 77}. Best is trial 10 with value: 0.9976999502051076.\u001b[0m\n"
     ]
    },
    {
     "name": "stdout",
     "output_type": "stream",
     "text": [
      "Training until validation scores don't improve for 100 rounds\n",
      "Did not meet early stopping. Best iteration is:\n",
      "[8]\tvalid_0's auc: 0.999857\n",
      "Did not meet early stopping. Best iteration is:\n",
      "[80]\tvalid_0's auc: 0.999841\n"
     ]
    },
    {
     "name": "stderr",
     "output_type": "stream",
     "text": [
      "\u001b[32m[I 2022-03-29 12:30:48,835]\u001b[0m Trial 75 finished with value: 0.996626988831717 and parameters: {'lambda_l1': 1.3797401906649506e-07, 'lambda_l2': 2.340227158232246, 'num_leaves': 31, 'feature_fraction': 0.5420044549153022, 'bagging_fraction': 0.5145468279038581, 'bagging_freq': 7, 'learning_rate': 0.07606355048267661, 'min_child_samples': 36}. Best is trial 10 with value: 0.9976999502051076.\u001b[0m\n",
      "\u001b[32m[I 2022-03-29 12:30:48,850]\u001b[0m Trial 73 finished with value: 0.9971634695184123 and parameters: {'lambda_l1': 3.71365474647379e-08, 'lambda_l2': 7.103817184347153e-08, 'num_leaves': 98, 'feature_fraction': 0.7530084150642783, 'bagging_fraction': 0.8734359825480196, 'bagging_freq': 7, 'learning_rate': 0.08608354105582555, 'min_child_samples': 35}. Best is trial 10 with value: 0.9976999502051076.\u001b[0m\n"
     ]
    },
    {
     "name": "stdout",
     "output_type": "stream",
     "text": [
      "Did not meet early stopping. Best iteration is:\n",
      "[15]\tvalid_0's auc: 0.99986\n",
      "Training until validation scores don't improve for 100 rounds\n",
      "Training until validation scores don't improve for 100 rounds\n",
      "Training until validation scores don't improve for 100 rounds\n",
      "Training until validation scores don't improve for 100 rounds\n"
     ]
    },
    {
     "name": "stderr",
     "output_type": "stream",
     "text": [
      "\u001b[32m[I 2022-03-29 12:30:49,069]\u001b[0m Trial 76 finished with value: 0.9971634695184123 and parameters: {'lambda_l1': 0.12356495531648547, 'lambda_l2': 0.010366809263402126, 'num_leaves': 35, 'feature_fraction': 0.876882247868578, 'bagging_fraction': 0.4692461993815068, 'bagging_freq': 6, 'learning_rate': 0.013408957239638225, 'min_child_samples': 78}. Best is trial 10 with value: 0.9976999502051076.\u001b[0m\n"
     ]
    },
    {
     "name": "stdout",
     "output_type": "stream",
     "text": [
      "Training until validation scores don't improve for 100 rounds\n",
      "Did not meet early stopping. Best iteration is:\n",
      "[62]\tvalid_0's auc: 0.999864\n",
      "Training until validation scores don't improve for 100 rounds\n",
      "Training until validation scores don't improve for 100 rounds\n",
      "Training until validation scores don't improve for 100 rounds\n"
     ]
    },
    {
     "name": "stderr",
     "output_type": "stream",
     "text": [
      "\u001b[32m[I 2022-03-29 12:30:49,242]\u001b[0m Trial 78 finished with value: 0.9935563037962678 and parameters: {'lambda_l1': 8.614812845723479e-08, 'lambda_l2': 2.3639312229498577, 'num_leaves': 76, 'feature_fraction': 0.8763231157739235, 'bagging_fraction': 0.5247771340634583, 'bagging_freq': 4, 'learning_rate': 0.012884522357891413, 'min_child_samples': 71}. Best is trial 10 with value: 0.9976999502051076.\u001b[0m\n",
      "\u001b[32m[I 2022-03-29 12:30:49,289]\u001b[0m Trial 77 finished with value: 0.9976999502051076 and parameters: {'lambda_l1': 4.7041535403590175e-08, 'lambda_l2': 2.2617787749078304, 'num_leaves': 75, 'feature_fraction': 0.8746428000309655, 'bagging_fraction': 0.482723090137091, 'bagging_freq': 4, 'learning_rate': 0.013465888629571224, 'min_child_samples': 71}. Best is trial 10 with value: 0.9976999502051076.\u001b[0m\n",
      "\u001b[32m[I 2022-03-29 12:30:49,336]\u001b[0m Trial 80 finished with value: 0.9976999502051076 and parameters: {'lambda_l1': 2.9010662678216864e-08, 'lambda_l2': 2.7101576979852093, 'num_leaves': 92, 'feature_fraction': 0.8719354032439929, 'bagging_fraction': 0.4755463842830945, 'bagging_freq': 4, 'learning_rate': 0.013206471841756755, 'min_child_samples': 61}. Best is trial 10 with value: 0.9976999502051076.\u001b[0m\n",
      "\u001b[32m[I 2022-03-29 12:30:49,352]\u001b[0m Trial 79 finished with value: 0.9683861712470064 and parameters: {'lambda_l1': 8.324435431178559e-08, 'lambda_l2': 2.1382012184496846, 'num_leaves': 77, 'feature_fraction': 0.8743799605268507, 'bagging_fraction': 0.51823780083125, 'bagging_freq': 4, 'learning_rate': 0.01289048979312153, 'min_child_samples': 71}. Best is trial 10 with value: 0.9976999502051076.\u001b[0m\n"
     ]
    },
    {
     "name": "stdout",
     "output_type": "stream",
     "text": [
      "Did not meet early stopping. Best iteration is:\n",
      "[21]\tvalid_0's auc: 0.999867\n",
      "Did not meet early stopping. Best iteration is:\n",
      "[52]\tvalid_0's auc: 0.999848\n",
      "Did not meet early stopping. Best iteration is:\n",
      "[52]\tvalid_0's auc: 0.999845\n",
      "Did not meet early stopping. Best iteration is:\n",
      "[10]\tvalid_0's auc: 0.999863\n"
     ]
    },
    {
     "name": "stderr",
     "output_type": "stream",
     "text": [
      "\u001b[32m[I 2022-03-29 12:30:49,619]\u001b[0m Trial 81 finished with value: 0.9971634695184123 and parameters: {'lambda_l1': 2.7596205012664605e-08, 'lambda_l2': 2.6865155780012815, 'num_leaves': 34, 'feature_fraction': 0.8802362801019786, 'bagging_fraction': 0.949505698106646, 'bagging_freq': 4, 'learning_rate': 0.026464755721779438, 'min_child_samples': 72}. Best is trial 10 with value: 0.9976999502051076.\u001b[0m\n"
     ]
    },
    {
     "name": "stdout",
     "output_type": "stream",
     "text": [
      "Did not meet early stopping. Best iteration is:\n",
      "[61]\tvalid_0's auc: 0.999851\n",
      "Training until validation scores don't improve for 100 rounds\n",
      "Did not meet early stopping. Best iteration is:\n",
      "[13]\tvalid_0's auc: 0.999865Training until validation scores don't improve for 100 rounds\n",
      "\n",
      "Did not meet early stopping. Best iteration is:\n",
      "[11]\tvalid_0's auc: 0.999852\n",
      "Training until validation scores don't improve for 100 rounds"
     ]
    },
    {
     "name": "stderr",
     "output_type": "stream",
     "text": [
      "\u001b[32m[I 2022-03-29 12:30:49,697]\u001b[0m Trial 82 finished with value: 0.5 and parameters: {'lambda_l1': 4.185773938893625e-08, 'lambda_l2': 0.010535813169558268, 'num_leaves': 93, 'feature_fraction': 0.872327730937737, 'bagging_fraction': 0.4676431673823626, 'bagging_freq': 4, 'learning_rate': 0.0003557414286261345, 'min_child_samples': 71}. Best is trial 10 with value: 0.9976999502051076.\u001b[0m\n",
      "\u001b[32m[I 2022-03-29 12:30:49,713]\u001b[0m Trial 83 finished with value: 0.994937519265881 and parameters: {'lambda_l1': 0.002155340742626447, 'lambda_l2': 4.6265564341318337e-07, 'num_leaves': 90, 'feature_fraction': 0.8795425773659297, 'bagging_fraction': 0.9377119424663823, 'bagging_freq': 4, 'learning_rate': 0.02572640340264906, 'min_child_samples': 61}. Best is trial 10 with value: 0.9976999502051076.\u001b[0m\n"
     ]
    },
    {
     "name": "stdout",
     "output_type": "stream",
     "text": [
      "\n",
      "Training until validation scores don't improve for 100 rounds\n",
      "Did not meet early stopping. Best iteration is:\n",
      "[9]\tvalid_0's auc: 0.999855\n"
     ]
    },
    {
     "name": "stderr",
     "output_type": "stream",
     "text": [
      "\u001b[32m[I 2022-03-29 12:30:49,932]\u001b[0m Trial 84 finished with value: 0.9899491380741232 and parameters: {'lambda_l1': 3.443136480106321e-07, 'lambda_l2': 0.048923409702995066, 'num_leaves': 72, 'feature_fraction': 0.8422591500512105, 'bagging_fraction': 0.9485477330823616, 'bagging_freq': 4, 'learning_rate': 0.027115326327601594, 'min_child_samples': 62}. Best is trial 10 with value: 0.9976999502051076.\u001b[0m\n",
      "\u001b[32m[I 2022-03-29 12:30:50,109]\u001b[0m Trial 85 finished with value: 0.9971634695184123 and parameters: {'lambda_l1': 1.633314954293514e-05, 'lambda_l2': 0.012098246643980227, 'num_leaves': 25, 'feature_fraction': 0.7951906352412907, 'bagging_fraction': 0.9645667404457683, 'bagging_freq': 6, 'learning_rate': 0.02461945236266936, 'min_child_samples': 61}. Best is trial 10 with value: 0.9976999502051076.\u001b[0m\n"
     ]
    },
    {
     "name": "stdout",
     "output_type": "stream",
     "text": [
      "Training until validation scores don't improve for 100 rounds\n",
      "Training until validation scores don't improve for 100 rounds\n",
      "Training until validation scores don't improve for 100 rounds\n",
      "Training until validation scores don't improve for 100 rounds\n",
      "Did not meet early stopping. Best iteration is:\n",
      "[62]\tvalid_0's auc: 0.999855\n"
     ]
    },
    {
     "name": "stderr",
     "output_type": "stream",
     "text": [
      "\u001b[32m[I 2022-03-29 12:30:50,215]\u001b[0m Trial 86 finished with value: 0.9942469115310744 and parameters: {'lambda_l1': 3.108671018097351e-08, 'lambda_l2': 0.0019088073212805193, 'num_leaves': 87, 'feature_fraction': 0.7947312721890928, 'bagging_fraction': 0.9296104629281854, 'bagging_freq': 4, 'learning_rate': 0.0273777240508277, 'min_child_samples': 61}. Best is trial 10 with value: 0.9976999502051076.\u001b[0m\n",
      "\u001b[32m[I 2022-03-29 12:30:50,246]\u001b[0m Trial 88 finished with value: 0.996626988831717 and parameters: {'lambda_l1': 3.177749786081476e-07, 'lambda_l2': 1.1634248868419246, 'num_leaves': 92, 'feature_fraction': 0.9161734362332272, 'bagging_fraction': 0.5657284315730507, 'bagging_freq': 4, 'learning_rate': 0.025462405668153745, 'min_child_samples': 60}. Best is trial 10 with value: 0.9976999502051076.\u001b[0m\n",
      "\u001b[32m[I 2022-03-29 12:30:50,340]\u001b[0m Trial 87 finished with value: 0.9689226519337016 and parameters: {'lambda_l1': 2.6169849882328516e-08, 'lambda_l2': 5.006288514193446e-05, 'num_leaves': 94, 'feature_fraction': 0.8381627751685123, 'bagging_fraction': 0.9308102693263887, 'bagging_freq': 4, 'learning_rate': 0.0028045975517815343, 'min_child_samples': 60}. Best is trial 10 with value: 0.9976999502051076.\u001b[0m\n"
     ]
    },
    {
     "name": "stdout",
     "output_type": "stream",
     "text": [
      "Did not meet early stopping. Best iteration is:\n",
      "[9]\tvalid_0's auc: 0.999856\n",
      "Did not meet early stopping. Best iteration is:\n",
      "[90]\tvalid_0's auc: 0.999848\n",
      "Did not meet early stopping. Best iteration is:\n",
      "[45]\tvalid_0's auc: 0.999861\n",
      "Training until validation scores don't improve for 100 rounds\n"
     ]
    },
    {
     "name": "stderr",
     "output_type": "stream",
     "text": [
      "\u001b[32m[I 2022-03-29 12:30:50,497]\u001b[0m Trial 89 finished with value: 0.9934021767481563 and parameters: {'lambda_l1': 2.8432163958955512e-08, 'lambda_l2': 0.01495870211106239, 'num_leaves': 113, 'feature_fraction': 0.9105989927233987, 'bagging_fraction': 0.5631258091421953, 'bagging_freq': 4, 'learning_rate': 0.005681194897872873, 'min_child_samples': 81}. Best is trial 10 with value: 0.9976999502051076.\u001b[0m\n",
      "\u001b[32m[I 2022-03-29 12:30:50,513]\u001b[0m Trial 90 finished with value: 0.9960905081450218 and parameters: {'lambda_l1': 2.0302045876895163e-08, 'lambda_l2': 1.2165320629897347, 'num_leaves': 26, 'feature_fraction': 0.9808920673117958, 'bagging_fraction': 0.4908220585844872, 'bagging_freq': 4, 'learning_rate': 0.05564254305279496, 'min_child_samples': 81}. Best is trial 10 with value: 0.9976999502051076.\u001b[0m\n"
     ]
    },
    {
     "name": "stdout",
     "output_type": "stream",
     "text": [
      "Did not meet early stopping. Best iteration is:\n",
      "[43]\tvalid_0's auc: 0.99987\n",
      "Did not meet early stopping. Best iteration is:\n",
      "[25]\tvalid_0's auc: 0.99987\n",
      "Did not meet early stopping. Best iteration is:\n",
      "[29]\tvalid_0's auc: 0.999856\n",
      "Training until validation scores don't improve for 100 rounds\n",
      "Did not meet early stopping. Best iteration is:\n",
      "[89]\tvalid_0's auc: 0.999844\n",
      "Training until validation scores don't improve for 100 rounds\n"
     ]
    },
    {
     "name": "stderr",
     "output_type": "stream",
     "text": [
      "\u001b[32m[I 2022-03-29 12:30:50,622]\u001b[0m Trial 91 finished with value: 0.5 and parameters: {'lambda_l1': 2.539313675349795e-07, 'lambda_l2': 1.2005781595582203, 'num_leaves': 117, 'feature_fraction': 0.7128796865560357, 'bagging_fraction': 0.5648420817196654, 'bagging_freq': 4, 'learning_rate': 0.0031338254613948657, 'min_child_samples': 80}. Best is trial 10 with value: 0.9976999502051076.\u001b[0m\n",
      "\u001b[32m[I 2022-03-29 12:30:50,685]\u001b[0m Trial 92 finished with value: 0.9971634695184123 and parameters: {'lambda_l1': 2.3670950663352583e-08, 'lambda_l2': 0.4739057341209915, 'num_leaves': 26, 'feature_fraction': 0.970650891438994, 'bagging_fraction': 0.5707683991429259, 'bagging_freq': 4, 'learning_rate': 0.006390149400030849, 'min_child_samples': 54}. Best is trial 10 with value: 0.9976999502051076.\u001b[0m\n",
      "\u001b[32m[I 2022-03-29 12:30:50,857]\u001b[0m Trial 93 finished with value: 0.9739110331254596 and parameters: {'lambda_l1': 2.7605153980933454e-06, 'lambda_l2': 1.1244897193557863, 'num_leaves': 115, 'feature_fraction': 0.9787555298035399, 'bagging_fraction': 0.43731400933629494, 'bagging_freq': 4, 'learning_rate': 0.005686676924190573, 'min_child_samples': 54}. Best is trial 10 with value: 0.9976999502051076.\u001b[0m\n"
     ]
    },
    {
     "name": "stdout",
     "output_type": "stream",
     "text": [
      "Training until validation scores don't improve for 100 rounds\n",
      "Did not meet early stopping. Best iteration is:\n",
      "[23]\tvalid_0's auc: 0.999858\n",
      "Training until validation scores don't improve for 100 rounds\n",
      "Training until validation scores don't improve for 100 rounds\n",
      "Training until validation scores don't improve for 100 rounds\n",
      "Did not meet early stopping. Best iteration is:\n",
      "[88]\tvalid_0's auc: 0.999847\n"
     ]
    },
    {
     "name": "stderr",
     "output_type": "stream",
     "text": [
      "\u001b[32m[I 2022-03-29 12:30:50,936]\u001b[0m Trial 94 finished with value: 0.9970093424703008 and parameters: {'lambda_l1': 3.943994537565436e-06, 'lambda_l2': 1.094050469059054, 'num_leaves': 121, 'feature_fraction': 0.9911657576797723, 'bagging_fraction': 0.7230953326340628, 'bagging_freq': 3, 'learning_rate': 0.005984855730874001, 'min_child_samples': 75}. Best is trial 10 with value: 0.9976999502051076.\u001b[0m\n",
      "\u001b[32m[I 2022-03-29 12:30:50,983]\u001b[0m Trial 95 finished with value: 0.976673464064686 and parameters: {'lambda_l1': 8.330733438367759e-05, 'lambda_l2': 6.018454994288688e-05, 'num_leaves': 119, 'feature_fraction': 0.9952555246315528, 'bagging_fraction': 0.43044158261598925, 'bagging_freq': 5, 'learning_rate': 0.00529979839535254, 'min_child_samples': 54}. Best is trial 10 with value: 0.9976999502051076.\u001b[0m\n",
      "\u001b[32m[I 2022-03-29 12:30:51,014]\u001b[0m Trial 98 finished with value: 0.994937519265881 and parameters: {'lambda_l1': 3.3884339521449756e-07, 'lambda_l2': 4.150052402517556, 'num_leaves': 53, 'feature_fraction': 0.860818360205041, 'bagging_fraction': 0.4391296670136061, 'bagging_freq': 5, 'learning_rate': 0.005864651191469374, 'min_child_samples': 67}. Best is trial 10 with value: 0.9976999502051076.\u001b[0m\n",
      "\u001b[32m[I 2022-03-29 12:30:51,030]\u001b[0m Trial 99 finished with value: 0.9971634695184123 and parameters: {'lambda_l1': 3.776084217542658e-06, 'lambda_l2': 4.631361541036755, 'num_leaves': 3, 'feature_fraction': 0.9706843427016586, 'bagging_fraction': 0.7276571393099096, 'bagging_freq': 5, 'learning_rate': 0.017576134214821456, 'min_child_samples': 55}. Best is trial 10 with value: 0.9976999502051076.\u001b[0m\n",
      "\u001b[32m[I 2022-03-29 12:30:51,030]\u001b[0m Trial 96 finished with value: 0.9960905081450218 and parameters: {'lambda_l1': 1.6426262711881394e-08, 'lambda_l2': 0.002083585176409347, 'num_leaves': 51, 'feature_fraction': 0.8979389467933805, 'bagging_fraction': 0.4287285008942199, 'bagging_freq': 4, 'learning_rate': 0.017547644168763865, 'min_child_samples': 55}. Best is trial 10 with value: 0.9976999502051076.\u001b[0m\n",
      "\u001b[32m[I 2022-03-29 12:30:51,045]\u001b[0m Trial 97 finished with value: 0.9971634695184123 and parameters: {'lambda_l1': 0.018710199355341756, 'lambda_l2': 3.859686326300933, 'num_leaves': 117, 'feature_fraction': 0.8663643945836411, 'bagging_fraction': 0.8416236710544558, 'bagging_freq': 4, 'learning_rate': 0.01749114035357387, 'min_child_samples': 68}. Best is trial 10 with value: 0.9976999502051076.\u001b[0m\n"
     ]
    },
    {
     "name": "stdout",
     "output_type": "stream",
     "text": [
      "Did not meet early stopping. Best iteration is:\n",
      "[26]\tvalid_0's auc: 0.999853\n",
      "Did not meet early stopping. Best iteration is:\n",
      "[93]\tvalid_0's auc: 0.999848\n",
      "Did not meet early stopping. Best iteration is:\n",
      "[53]\tvalid_0's auc: 0.999355\n",
      "Did not meet early stopping. Best iteration is:\n",
      "[42]\tvalid_0's auc: 0.999841\n",
      "Did not meet early stopping. Best iteration is:\n",
      "[66]\tvalid_0's auc: 0.999343\n",
      "{'lambda_l1': 6.655486290642856e-05, 'lambda_l2': 0.014265377318239333, 'num_leaves': 249, 'feature_fraction': 0.7999964089907659, 'bagging_fraction': 0.49380845911410015, 'bagging_freq': 3, 'learning_rate': 0.020475597926064803, 'min_child_samples': 91} -> 0.9976999502051076\n",
      "[LightGBM] [Warning] feature_fraction is set=0.7999964089907659, colsample_bytree=1.0 will be ignored. Current value: feature_fraction=0.7999964089907659\n",
      "[LightGBM] [Warning] lambda_l1 is set=6.655486290642856e-05, reg_alpha=0.0 will be ignored. Current value: lambda_l1=6.655486290642856e-05\n",
      "[LightGBM] [Warning] bagging_fraction is set=0.49380845911410015, subsample=1.0 will be ignored. Current value: bagging_fraction=0.49380845911410015\n",
      "[LightGBM] [Warning] lambda_l2 is set=0.014265377318239333, reg_lambda=0.0 will be ignored. Current value: lambda_l2=0.014265377318239333\n",
      "[LightGBM] [Warning] bagging_freq is set=3, subsample_freq=0 will be ignored. Current value: bagging_freq=3\n",
      "Training until validation scores don't improve for 100 rounds\n",
      "Did not meet early stopping. Best iteration is:\n",
      "[58]\tvalid_0's auc: 0.999856\tvalid_0's binary_logloss: 0.174544\n"
     ]
    }
   ],
   "source": [
    "df_train_meta_agg, df_test_meta_agg = get_agg(clf_meta, \n",
    "                                              df_train_meta, \n",
    "                                              df_test_meta, \n",
    "                                              df_train['id'], \n",
    "                                              df_test['id'])\n",
    "clf_meta_agg = get_best_clf(df_train_meta_agg)"
   ]
  },
  {
   "cell_type": "code",
   "execution_count": 21,
   "id": "afb54284",
   "metadata": {
    "ExecuteTime": {
     "end_time": "2022-03-29T10:30:51.532215Z",
     "start_time": "2022-03-29T10:30:51.155654Z"
    }
   },
   "outputs": [
    {
     "name": "stdout",
     "output_type": "stream",
     "text": [
      "AUROC: 0.7287292817679558\n",
      "Accuracy: 0.7345731191885038\n"
     ]
    },
    {
     "data": {
      "image/png": "[encoded data removed]",
      "text/plain": [
       "<Figure size 432x288 with 2 Axes>"
      ]
     },
     "metadata": {
      "needs_background": "light"
     },
     "output_type": "display_data"
    },
    {
     "data": {
      "image/png": "[encoded data removed]",
      "text/plain": [
       "<Figure size 432x288 with 1 Axes>"
      ]
     },
     "metadata": {
      "needs_background": "light"
     },
     "output_type": "display_data"
    }
   ],
   "source": [
    "eval_clf(clf_meta_agg, df_test_meta_agg)"
   ]
  },
  {
   "cell_type": "markdown",
   "id": "9d6e8ee0",
   "metadata": {},
   "source": [
    "## Feature engineering"
   ]
  },
  {
   "cell_type": "code",
   "execution_count": null,
   "id": "bf4ef18f",
   "metadata": {
    "ExecuteTime": {
     "end_time": "2022-03-28T12:18:05.778486Z",
     "start_time": "2022-03-28T12:18:05.778486Z"
    },
    "deletable": false,
    "editable": false,
    "run_control": {
     "frozen": true
    }
   },
   "outputs": [],
   "source": [
    "POS_TAGS = [\n",
    "    'ADJ', 'ADP', 'ADV', 'AUX',\n",
    "    'CONJ', 'CCONJ', 'DET', 'INTJ',\n",
    "    'NOUN', 'NUM', 'PART', 'PRON',\n",
    "    'PROPN', 'PUNCT', 'SCONJ', 'SYM', \n",
    "    'VERB', 'X', 'SPACE'\n",
    "]\n",
    "POS_TAGS = OrderedDict({ tag: 0 for tag in POS_TAGS })\n",
    "\n",
    "def extract_tweet_metadata(text: str):\n",
    "    \n",
    "    tokens = nlp(text)\n",
    "    tokens_count = len(tokens)\n",
    "    \n",
    "    avg_token_len = 0\n",
    "    tokens_diff_ratio = []\n",
    "    pos_tags_count = POS_TAGS.copy()\n",
    "    \n",
    "    for token in tokens:\n",
    "        avg_token_len += len(token)\n",
    "        tokens_diff_ratio.append(token.text)\n",
    "        \n",
    "        try:\n",
    "            pos_tags_count[token.pos_] += 1\n",
    "        except KeyError:\n",
    "            print(token.pos_, \"not in POS_TAGS\")\n",
    "        \n",
    "    try:\n",
    "        avg_token_len = avg_token_len / tokens_count\n",
    "        tokens_diff_ratio = len(set(tokens_diff_ratio)) / tokens_count\n",
    "    except ZeroDivisionError:\n",
    "        tokens_diff_ratio = 0\n",
    "            \n",
    "    return tokens_count, avg_token_len, tokens_diff_ratio, *pos_tags_count.values()\n",
    "\n",
    "\n",
    "def get_tweet_metadata(df: pd.DataFrame):\n",
    "    new_cols = [ 'tokens_count', 'avg_token_len', 'tokens_diff_ratio' ] + [ tag.lower() + \"_count\" for tag in POS_TAGS ]\n",
    "    df[new_cols] = pd.DataFrame(\n",
    "        df['tweet'].swifter.apply(extract_tweet_metadata).to_list(), \n",
    "        columns=new_cols\n",
    "    )\n",
    "    return df"
   ]
  },
  {
   "cell_type": "code",
   "execution_count": 15,
   "id": "f6d165b8",
   "metadata": {
    "ExecuteTime": {
     "end_time": "2022-03-27T19:45:22.849705Z",
     "start_time": "2022-03-27T16:51:09.918385Z"
    },
    "deletable": false,
    "editable": false,
    "run_control": {
     "frozen": true
    }
   },
   "outputs": [
    {
     "data": {
      "application/vnd.jupyter.widget-view+json": {
       "model_id": "6a379a5128d7454581ff5cf4e9e65496",
       "version_major": 2,
       "version_minor": 0
      },
      "text/plain": [
       "Pandas Apply:   0%|          | 0/1398465 [00:00<?, ?it/s]"
      ]
     },
     "metadata": {},
     "output_type": "display_data"
    },
    {
     "data": {
      "application/vnd.jupyter.widget-view+json": {
       "model_id": "f5421d94e2c846149a898c87a64a5d21",
       "version_major": 2,
       "version_minor": 0
      },
      "text/plain": [
       "Pandas Apply:   0%|          | 0/199863 [00:00<?, ?it/s]"
      ]
     },
     "metadata": {},
     "output_type": "display_data"
    },
    {
     "data": {
      "text/html": [
       "<div>\n",
       "<style scoped>\n",
       "    .dataframe tbody tr th:only-of-type {\n",
       "        vertical-align: middle;\n",
       "    }\n",
       "\n",
       "    .dataframe tbody tr th {\n",
       "        vertical-align: top;\n",
       "    }\n",
       "\n",
       "    .dataframe thead th {\n",
       "        text-align: right;\n",
       "    }\n",
       "</style>\n",
       "<table border=\"1\" class=\"dataframe\">\n",
       "  <thead>\n",
       "    <tr style=\"text-align: right;\">\n",
       "      <th></th>\n",
       "      <th>id</th>\n",
       "      <th>screen_name</th>\n",
       "      <th>location</th>\n",
       "      <th>followers_count</th>\n",
       "      <th>friends_count</th>\n",
       "      <th>statuses_count</th>\n",
       "      <th>tweet</th>\n",
       "      <th>label</th>\n",
       "      <th>location_enc</th>\n",
       "      <th>created_at_year</th>\n",
       "      <th>...</th>\n",
       "      <th>num_count</th>\n",
       "      <th>part_count</th>\n",
       "      <th>pron_count</th>\n",
       "      <th>propn_count</th>\n",
       "      <th>punct_count</th>\n",
       "      <th>sconj_count</th>\n",
       "      <th>sym_count</th>\n",
       "      <th>verb_count</th>\n",
       "      <th>x_count</th>\n",
       "      <th>space_count</th>\n",
       "    </tr>\n",
       "  </thead>\n",
       "  <tbody>\n",
       "    <tr>\n",
       "      <th>0</th>\n",
       "      <td>24691376</td>\n",
       "      <td>vangoghmuseum</td>\n",
       "      <td>Amsterdam</td>\n",
       "      <td>1647822</td>\n",
       "      <td>1536</td>\n",
       "      <td>16822</td>\n",
       "      <td>Gustave Courbet was often called 'the most arr...</td>\n",
       "      <td>0</td>\n",
       "      <td>171</td>\n",
       "      <td>2009</td>\n",
       "      <td>...</td>\n",
       "      <td>1</td>\n",
       "      <td>1</td>\n",
       "      <td>1</td>\n",
       "      <td>10</td>\n",
       "      <td>14</td>\n",
       "      <td>0</td>\n",
       "      <td>0</td>\n",
       "      <td>4</td>\n",
       "      <td>0</td>\n",
       "      <td>0</td>\n",
       "    </tr>\n",
       "    <tr>\n",
       "      <th>1</th>\n",
       "      <td>259540958</td>\n",
       "      <td>IncredibleCulk</td>\n",
       "      <td>Heading to the corner</td>\n",
       "      <td>808966</td>\n",
       "      <td>146</td>\n",
       "      <td>2223</td>\n",
       "      <td>An animal MackLibs</td>\n",
       "      <td>0</td>\n",
       "      <td>1029</td>\n",
       "      <td>2011</td>\n",
       "      <td>...</td>\n",
       "      <td>0</td>\n",
       "      <td>0</td>\n",
       "      <td>0</td>\n",
       "      <td>1</td>\n",
       "      <td>0</td>\n",
       "      <td>0</td>\n",
       "      <td>0</td>\n",
       "      <td>0</td>\n",
       "      <td>0</td>\n",
       "      <td>0</td>\n",
       "    </tr>\n",
       "    <tr>\n",
       "      <th>2</th>\n",
       "      <td>424423803</td>\n",
       "      <td>CyaSteve</td>\n",
       "      <td>Los Angeles, CA</td>\n",
       "      <td>2551</td>\n",
       "      <td>462</td>\n",
       "      <td>26710</td>\n",
       "      <td>I hope it's 900 gems.</td>\n",
       "      <td>1</td>\n",
       "      <td>1416</td>\n",
       "      <td>2011</td>\n",
       "      <td>...</td>\n",
       "      <td>1</td>\n",
       "      <td>0</td>\n",
       "      <td>2</td>\n",
       "      <td>0</td>\n",
       "      <td>1</td>\n",
       "      <td>0</td>\n",
       "      <td>0</td>\n",
       "      <td>1</td>\n",
       "      <td>0</td>\n",
       "      <td>0</td>\n",
       "    </tr>\n",
       "    <tr>\n",
       "      <th>3</th>\n",
       "      <td>281902422</td>\n",
       "      <td>SwatiJaiHind</td>\n",
       "      <td>New Delhi, India</td>\n",
       "      <td>326003</td>\n",
       "      <td>381</td>\n",
       "      <td>8848</td>\n",
       "      <td>Delhi : Social Welfare Minister AdvRajendraPal...</td>\n",
       "      <td>0</td>\n",
       "      <td>1724</td>\n",
       "      <td>2011</td>\n",
       "      <td>...</td>\n",
       "      <td>0</td>\n",
       "      <td>0</td>\n",
       "      <td>0</td>\n",
       "      <td>7</td>\n",
       "      <td>1</td>\n",
       "      <td>0</td>\n",
       "      <td>0</td>\n",
       "      <td>1</td>\n",
       "      <td>0</td>\n",
       "      <td>0</td>\n",
       "    </tr>\n",
       "    <tr>\n",
       "      <th>4</th>\n",
       "      <td>173195708</td>\n",
       "      <td>Nigella_Lawson</td>\n",
       "      <td>London</td>\n",
       "      <td>2672077</td>\n",
       "      <td>872</td>\n",
       "      <td>36654</td>\n",
       "      <td>I wouldn't even consider going on holiday now,...</td>\n",
       "      <td>0</td>\n",
       "      <td>1381</td>\n",
       "      <td>2010</td>\n",
       "      <td>...</td>\n",
       "      <td>0</td>\n",
       "      <td>1</td>\n",
       "      <td>2</td>\n",
       "      <td>0</td>\n",
       "      <td>1</td>\n",
       "      <td>0</td>\n",
       "      <td>0</td>\n",
       "      <td>4</td>\n",
       "      <td>0</td>\n",
       "      <td>0</td>\n",
       "    </tr>\n",
       "  </tbody>\n",
       "</table>\n",
       "<p>5 rows × 54 columns</p>\n",
       "</div>"
      ],
      "text/plain": [
       "          id     screen_name               location  followers_count  \\\n",
       "0   24691376   vangoghmuseum              Amsterdam          1647822   \n",
       "1  259540958  IncredibleCulk  Heading to the corner           808966   \n",
       "2  424423803        CyaSteve        Los Angeles, CA             2551   \n",
       "3  281902422    SwatiJaiHind       New Delhi, India           326003   \n",
       "4  173195708  Nigella_Lawson                 London          2672077   \n",
       "\n",
       "   friends_count  statuses_count  \\\n",
       "0           1536           16822   \n",
       "1            146            2223   \n",
       "2            462           26710   \n",
       "3            381            8848   \n",
       "4            872           36654   \n",
       "\n",
       "                                               tweet  label  location_enc  \\\n",
       "0  Gustave Courbet was often called 'the most arr...      0           171   \n",
       "1                                 An animal MackLibs      0          1029   \n",
       "2                              I hope it's 900 gems.      1          1416   \n",
       "3  Delhi : Social Welfare Minister AdvRajendraPal...      0          1724   \n",
       "4  I wouldn't even consider going on holiday now,...      0          1381   \n",
       "\n",
       "   created_at_year  ...  num_count  part_count  pron_count  propn_count  \\\n",
       "0             2009  ...          1           1           1           10   \n",
       "1             2011  ...          0           0           0            1   \n",
       "2             2011  ...          1           0           2            0   \n",
       "3             2011  ...          0           0           0            7   \n",
       "4             2010  ...          0           1           2            0   \n",
       "\n",
       "   punct_count  sconj_count sym_count  verb_count x_count  space_count  \n",
       "0           14            0         0           4       0            0  \n",
       "1            0            0         0           0       0            0  \n",
       "2            1            0         0           1       0            0  \n",
       "3            1            0         0           1       0            0  \n",
       "4            1            0         0           4       0            0  \n",
       "\n",
       "[5 rows x 54 columns]"
      ]
     },
     "execution_count": 15,
     "metadata": {},
     "output_type": "execute_result"
    }
   ],
   "source": [
    "# Pretty long (4h on my pc)\n",
    "df_train_fe = get_tweet_metadata(df_train)\n",
    "df_test_fe = get_tweet_metadata(df_test)\n",
    "df_train_fe.head()"
   ]
  },
  {
   "cell_type": "code",
   "execution_count": 16,
   "id": "0b96f32b",
   "metadata": {
    "ExecuteTime": {
     "end_time": "2022-03-27T19:47:49.812098Z",
     "start_time": "2022-03-27T19:47:11.251587Z"
    },
    "deletable": false,
    "editable": false,
    "run_control": {
     "frozen": true
    }
   },
   "outputs": [],
   "source": [
    "df_train_fe.to_csv(PATH.format('train_metadata_fe'))\n",
    "df_test_fe.to_csv(PATH.format('test_metadata_fe'))"
   ]
  },
  {
   "cell_type": "code",
   "execution_count": 22,
   "id": "d8a56bf3",
   "metadata": {
    "ExecuteTime": {
     "end_time": "2022-03-29T10:31:07.532456Z",
     "start_time": "2022-03-29T10:30:51.532215Z"
    }
   },
   "outputs": [],
   "source": [
    "df_train_fe = pd.read_csv(PATH.format('train_metadata_fe'), index_col='Unnamed: 0')\n",
    "df_test_fe = pd.read_csv(PATH.format('test_metadata_fe'), index_col='Unnamed: 0')"
   ]
  },
  {
   "cell_type": "code",
   "execution_count": 23,
   "id": "5d373aa2",
   "metadata": {
    "ExecuteTime": {
     "end_time": "2022-03-29T10:31:08.113046Z",
     "start_time": "2022-03-29T10:31:07.532456Z"
    }
   },
   "outputs": [],
   "source": [
    "df_train_meta_fe = filter_metadata(df_train_fe)\n",
    "df_test_meta_fe = filter_metadata(df_test_fe)\n",
    "\n",
    "# Adding engineered features from df_users\n",
    "df_train_meta_fe = add_avg(df_train_meta_fe)\n",
    "df_test_meta_fe = add_avg(df_test_meta_fe)"
   ]
  },
  {
   "cell_type": "code",
   "execution_count": 24,
   "id": "de93dc3f",
   "metadata": {
    "ExecuteTime": {
     "end_time": "2022-03-29T10:55:52.634082Z",
     "start_time": "2022-03-29T10:31:08.113046Z"
    },
    "scrolled": true
   },
   "outputs": [
    {
     "name": "stderr",
     "output_type": "stream",
     "text": [
      "\u001b[32m[I 2022-03-29 12:31:09,477]\u001b[0m A new study created in memory with name: no-name-905eb79a-f741-48f9-a2a7-997f3f392076\u001b[0m\n"
     ]
    },
    {
     "name": "stdout",
     "output_type": "stream",
     "text": [
      "Training until validation scores don't improve for 100 rounds\n",
      "Training until validation scores don't improve for 100 roundsTraining until validation scores don't improve for 100 rounds\n",
      "\n",
      "Training until validation scores don't improve for 100 rounds\n",
      "Training until validation scores don't improve for 100 rounds\n",
      "Training until validation scores don't improve for 100 rounds\n",
      "Training until validation scores don't improve for 100 rounds\n",
      "Training until validation scores don't improve for 100 rounds\n",
      "Did not meet early stopping. Best iteration is:\n",
      "[100]\tvalid_0's auc: 0.938165\n"
     ]
    },
    {
     "name": "stderr",
     "output_type": "stream",
     "text": [
      "\u001b[32m[I 2022-03-29 12:33:12,359]\u001b[0m Trial 5 finished with value: 0.8374824498754673 and parameters: {'lambda_l1': 1.2409791705317443, 'lambda_l2': 1.5850215247280956e-05, 'num_leaves': 25, 'feature_fraction': 0.48697477786458376, 'bagging_fraction': 0.569839919483849, 'bagging_freq': 5, 'learning_rate': 0.11285829969448646, 'min_child_samples': 88}. Best is trial 5 with value: 0.8374824498754673.\u001b[0m\n"
     ]
    },
    {
     "name": "stdout",
     "output_type": "stream",
     "text": [
      "Training until validation scores don't improve for 100 rounds\n",
      "Did not meet early stopping. Best iteration is:\n",
      "[100]\tvalid_0's auc: 0.864411\n"
     ]
    },
    {
     "name": "stderr",
     "output_type": "stream",
     "text": [
      "\u001b[32m[I 2022-03-29 12:33:26,834]\u001b[0m Trial 0 finished with value: 0.7656275260942493 and parameters: {'lambda_l1': 0.0004409665952879248, 'lambda_l2': 0.0321832564146263, 'num_leaves': 43, 'feature_fraction': 0.9335519990410485, 'bagging_fraction': 0.43910942239981376, 'bagging_freq': 2, 'learning_rate': 0.002106719046302345, 'min_child_samples': 60}. Best is trial 5 with value: 0.8374824498754673.\u001b[0m\n"
     ]
    },
    {
     "name": "stdout",
     "output_type": "stream",
     "text": [
      "Training until validation scores don't improve for 100 rounds\n",
      "Did not meet early stopping. Best iteration is:\n",
      "[99]\tvalid_0's auc: 0.874796\n"
     ]
    },
    {
     "name": "stderr",
     "output_type": "stream",
     "text": [
      "\u001b[32m[I 2022-03-29 12:33:46,940]\u001b[0m Trial 6 finished with value: 0.5 and parameters: {'lambda_l1': 0.007649372749158575, 'lambda_l2': 3.0833817700458045e-05, 'num_leaves': 56, 'feature_fraction': 0.6916349495193209, 'bagging_fraction': 0.40821169984536093, 'bagging_freq': 7, 'learning_rate': 7.062523336429437e-05, 'min_child_samples': 5}. Best is trial 5 with value: 0.8374824498754673.\u001b[0m\n"
     ]
    },
    {
     "name": "stdout",
     "output_type": "stream",
     "text": [
      "Training until validation scores don't improve for 100 rounds\n",
      "Did not meet early stopping. Best iteration is:\n",
      "[100]\tvalid_0's auc: 0.99975\n",
      "Did not meet early stopping. Best iteration is:\n",
      "[100]\tvalid_0's auc: 0.91562\n"
     ]
    },
    {
     "name": "stderr",
     "output_type": "stream",
     "text": [
      "\u001b[32m[I 2022-03-29 12:34:27,340]\u001b[0m Trial 9 finished with value: 0.9929453339366987 and parameters: {'lambda_l1': 1.284437967901849e-07, 'lambda_l2': 0.00010487709077553717, 'num_leaves': 59, 'feature_fraction': 0.4537516202204841, 'bagging_fraction': 0.44816538144080137, 'bagging_freq': 4, 'learning_rate': 0.29679755381494677, 'min_child_samples': 52}. Best is trial 9 with value: 0.9929453339366987.\u001b[0m\n",
      "\u001b[32m[I 2022-03-29 12:34:32,798]\u001b[0m Trial 8 finished with value: 0.8230960841968409 and parameters: {'lambda_l1': 0.04739050418317637, 'lambda_l2': 2.4378381247133085e-05, 'num_leaves': 73, 'feature_fraction': 0.6274190170814989, 'bagging_fraction': 0.5997599336942739, 'bagging_freq': 5, 'learning_rate': 0.018099295836757696, 'min_child_samples': 38}. Best is trial 9 with value: 0.9929453339366987.\u001b[0m\n"
     ]
    },
    {
     "name": "stdout",
     "output_type": "stream",
     "text": [
      "Training until validation scores don't improve for 100 rounds\n",
      "Training until validation scores don't improve for 100 rounds\n",
      "Did not meet early stopping. Best iteration is:\n",
      "[100]\tvalid_0's auc: 0.970108\n",
      "Did not meet early stopping. Best iteration is:\n",
      "[99]\tvalid_0's auc: 1\n"
     ]
    },
    {
     "name": "stderr",
     "output_type": "stream",
     "text": [
      "\u001b[32m[I 2022-03-29 12:35:06,139]\u001b[0m Trial 3 finished with value: 0.8769552516487561 and parameters: {'lambda_l1': 0.002081525509451745, 'lambda_l2': 1.3960035902996438e-07, 'num_leaves': 168, 'feature_fraction': 0.46527317332092155, 'bagging_fraction': 0.7273143981356738, 'bagging_freq': 6, 'learning_rate': 0.02227691945417735, 'min_child_samples': 68}. Best is trial 9 with value: 0.9929453339366987.\u001b[0m\n",
      "\u001b[32m[I 2022-03-29 12:35:11,518]\u001b[0m Trial 4 finished with value: 0.9998797367757668 and parameters: {'lambda_l1': 4.059330087894703e-06, 'lambda_l2': 3.998226523321873e-06, 'num_leaves': 198, 'feature_fraction': 0.7435413488670926, 'bagging_fraction': 0.7446460042572678, 'bagging_freq': 5, 'learning_rate': 0.2945279197311752, 'min_child_samples': 23}. Best is trial 4 with value: 0.9998797367757668.\u001b[0m\n"
     ]
    },
    {
     "name": "stdout",
     "output_type": "stream",
     "text": [
      "Training until validation scores don't improve for 100 rounds\n",
      "Did not meet early stopping. Best iteration is:\n",
      "[100]\tvalid_0's auc: 0.854486\n",
      "Training until validation scores don't improve for 100 rounds\n"
     ]
    },
    {
     "name": "stderr",
     "output_type": "stream",
     "text": [
      "\u001b[32m[I 2022-03-29 12:35:23,938]\u001b[0m Trial 12 finished with value: 0.7712572626817829 and parameters: {'lambda_l1': 0.004319658576633723, 'lambda_l2': 0.0009355655994149912, 'num_leaves': 13, 'feature_fraction': 0.4217483391896314, 'bagging_fraction': 0.5666912136494592, 'bagging_freq': 5, 'learning_rate': 0.014901502040867454, 'min_child_samples': 26}. Best is trial 4 with value: 0.9998797367757668.\u001b[0m\n"
     ]
    },
    {
     "name": "stdout",
     "output_type": "stream",
     "text": [
      "Training until validation scores don't improve for 100 rounds\n",
      "Did not meet early stopping. Best iteration is:\n",
      "[100]\tvalid_0's auc: 0.987605\n",
      "Did not meet early stopping. Best iteration is:\n",
      "[100]\tvalid_0's auc: 0.985618\n"
     ]
    },
    {
     "name": "stderr",
     "output_type": "stream",
     "text": [
      "\u001b[32m[I 2022-03-29 12:35:37,722]\u001b[0m Trial 2 finished with value: 0.9146110368298888 and parameters: {'lambda_l1': 1.3703721948820453, 'lambda_l2': 2.8866422984927455e-07, 'num_leaves': 185, 'feature_fraction': 0.6307352258845116, 'bagging_fraction': 0.8941480858304652, 'bagging_freq': 6, 'learning_rate': 0.030271442291889696, 'min_child_samples': 24}. Best is trial 4 with value: 0.9998797367757668.\u001b[0m\n",
      "\u001b[32m[I 2022-03-29 12:35:42,726]\u001b[0m Trial 7 finished with value: 0.9076514950184187 and parameters: {'lambda_l1': 0.13505874702900053, 'lambda_l2': 8.42356327065989e-08, 'num_leaves': 254, 'feature_fraction': 0.662022492685729, 'bagging_fraction': 0.8314443726062422, 'bagging_freq': 1, 'learning_rate': 0.021005107519762336, 'min_child_samples': 12}. Best is trial 4 with value: 0.9998797367757668.\u001b[0m\n"
     ]
    },
    {
     "name": "stdout",
     "output_type": "stream",
     "text": [
      "Did not meet early stopping. Best iteration is:\n",
      "[100]\tvalid_0's auc: 0.884108\n",
      "Training until validation scores don't improve for 100 rounds\n"
     ]
    },
    {
     "name": "stderr",
     "output_type": "stream",
     "text": [
      "\u001b[32m[I 2022-03-29 12:35:53,170]\u001b[0m Trial 10 finished with value: 0.8034174250047798 and parameters: {'lambda_l1': 0.0007538981616649946, 'lambda_l2': 0.4757443363728359, 'num_leaves': 84, 'feature_fraction': 0.9488784866653627, 'bagging_fraction': 0.989697517597516, 'bagging_freq': 5, 'learning_rate': 0.0034466292588074573, 'min_child_samples': 75}. Best is trial 4 with value: 0.9998797367757668.\u001b[0m\n"
     ]
    },
    {
     "name": "stdout",
     "output_type": "stream",
     "text": [
      "Training until validation scores don't improve for 100 rounds\n",
      "Did not meet early stopping. Best iteration is:\n",
      "[92]\tvalid_0's auc: 0.942868\n",
      "Training until validation scores don't improve for 100 rounds\n"
     ]
    },
    {
     "name": "stderr",
     "output_type": "stream",
     "text": [
      "\u001b[32m[I 2022-03-29 12:36:05,451]\u001b[0m Trial 1 finished with value: 0.5 and parameters: {'lambda_l1': 0.02373287920942888, 'lambda_l2': 0.33198227651881557, 'num_leaves': 241, 'feature_fraction': 0.45563691956795976, 'bagging_fraction': 0.6294481831689738, 'bagging_freq': 3, 'learning_rate': 1.0394470796102569e-05, 'min_child_samples': 99}. Best is trial 4 with value: 0.9998797367757668.\u001b[0m\n"
     ]
    },
    {
     "name": "stdout",
     "output_type": "stream",
     "text": [
      "Training until validation scores don't improve for 100 rounds\n",
      "Did not meet early stopping. Best iteration is:\n",
      "[100]\tvalid_0's auc: 0.944395\n"
     ]
    },
    {
     "name": "stderr",
     "output_type": "stream",
     "text": [
      "\u001b[32m[I 2022-03-29 12:36:28,175]\u001b[0m Trial 13 finished with value: 0.8520692215290171 and parameters: {'lambda_l1': 0.0652048902970933, 'lambda_l2': 0.0007784310417568438, 'num_leaves': 19, 'feature_fraction': 0.42304530150163544, 'bagging_fraction': 0.6537667857187295, 'bagging_freq': 1, 'learning_rate': 0.18117911825832972, 'min_child_samples': 80}. Best is trial 4 with value: 0.9998797367757668.\u001b[0m\n"
     ]
    },
    {
     "name": "stdout",
     "output_type": "stream",
     "text": [
      "Training until validation scores don't improve for 100 rounds\n",
      "Did not meet early stopping. Best iteration is:\n",
      "[13]\tvalid_0's auc: 0.872737\n"
     ]
    },
    {
     "name": "stderr",
     "output_type": "stream",
     "text": [
      "\u001b[32m[I 2022-03-29 12:36:55,311]\u001b[0m Trial 15 finished with value: 0.5 and parameters: {'lambda_l1': 0.0004089766709965149, 'lambda_l2': 0.00028583434140432506, 'num_leaves': 60, 'feature_fraction': 0.8643647388811537, 'bagging_fraction': 0.8691547966756987, 'bagging_freq': 5, 'learning_rate': 0.0001900787654992413, 'min_child_samples': 47}. Best is trial 4 with value: 0.9998797367757668.\u001b[0m\n"
     ]
    },
    {
     "name": "stdout",
     "output_type": "stream",
     "text": [
      "Training until validation scores don't improve for 100 rounds\n",
      "Did not meet early stopping. Best iteration is:\n",
      "[100]\tvalid_0's auc: 0.94609\n"
     ]
    },
    {
     "name": "stderr",
     "output_type": "stream",
     "text": [
      "\u001b[32m[I 2022-03-29 12:37:38,104]\u001b[0m Trial 11 finished with value: 0.8580156708374745 and parameters: {'lambda_l1': 0.02061600244027678, 'lambda_l2': 4.000761978701346e-06, 'num_leaves': 231, 'feature_fraction': 0.7045551432906836, 'bagging_fraction': 0.9938152290166983, 'bagging_freq': 7, 'learning_rate': 0.005960305047495795, 'min_child_samples': 30}. Best is trial 4 with value: 0.9998797367757668.\u001b[0m\n"
     ]
    },
    {
     "name": "stdout",
     "output_type": "stream",
     "text": [
      "Did not meet early stopping. Best iteration is:\n",
      "[99]\tvalid_0's auc: 0.999985\n",
      "Training until validation scores don't improve for 100 roundsDid not meet early stopping. Best iteration is:\n",
      "[100]\tvalid_0's auc: 1\n",
      "\n"
     ]
    },
    {
     "name": "stderr",
     "output_type": "stream",
     "text": [
      "\u001b[32m[I 2022-03-29 12:37:50,557]\u001b[0m Trial 19 finished with value: 0.9982110713351398 and parameters: {'lambda_l1': 2.941763489050502e-07, 'lambda_l2': 0.002794131175848931, 'num_leaves': 130, 'feature_fraction': 0.8211976798054291, 'bagging_fraction': 0.7525540637980687, 'bagging_freq': 3, 'learning_rate': 0.16604321342300632, 'min_child_samples': 47}. Best is trial 4 with value: 0.9998797367757668.\u001b[0m\n",
      "\u001b[32m[I 2022-03-29 12:37:55,575]\u001b[0m Trial 18 finished with value: 0.9998431501627288 and parameters: {'lambda_l1': 2.8561937106234383e-07, 'lambda_l2': 0.001788679509093287, 'num_leaves': 157, 'feature_fraction': 0.8289065037444483, 'bagging_fraction': 0.709002848796831, 'bagging_freq': 3, 'learning_rate': 0.2748156110062864, 'min_child_samples': 46}. Best is trial 4 with value: 0.9998797367757668.\u001b[0m\n"
     ]
    },
    {
     "name": "stdout",
     "output_type": "stream",
     "text": [
      "Training until validation scores don't improve for 100 rounds\n",
      "Training until validation scores don't improve for 100 rounds\n",
      "Did not meet early stopping. Best iteration is:\n",
      "[100]\tvalid_0's auc: 0.989061\n"
     ]
    },
    {
     "name": "stderr",
     "output_type": "stream",
     "text": [
      "\u001b[32m[I 2022-03-29 12:38:21,233]\u001b[0m Trial 16 finished with value: 0.9230992382084607 and parameters: {'lambda_l1': 0.010695368593144851, 'lambda_l2': 0.014984423992522228, 'num_leaves': 210, 'feature_fraction': 0.8491679952975957, 'bagging_fraction': 0.7351496529980079, 'bagging_freq': 4, 'learning_rate': 0.027247755746038372, 'min_child_samples': 70}. Best is trial 4 with value: 0.9998797367757668.\u001b[0m\n"
     ]
    },
    {
     "name": "stdout",
     "output_type": "stream",
     "text": [
      "Did not meet early stopping. Best iteration is:\n",
      "[96]\tvalid_0's auc: 0.999999\n"
     ]
    },
    {
     "name": "stderr",
     "output_type": "stream",
     "text": [
      "\u001b[32m[I 2022-03-29 12:38:29,493]\u001b[0m Trial 20 finished with value: 0.9996659944947373 and parameters: {'lambda_l1': 9.64533793348909e-07, 'lambda_l2': 2.0816452282097493e-06, 'num_leaves': 118, 'feature_fraction': 0.8098769071278071, 'bagging_fraction': 0.7805211612540496, 'bagging_freq': 3, 'learning_rate': 0.29995755734096374, 'min_child_samples': 46}. Best is trial 4 with value: 0.9998797367757668.\u001b[0m\n"
     ]
    },
    {
     "name": "stdout",
     "output_type": "stream",
     "text": [
      "Training until validation scores don't improve for 100 rounds\n",
      "Did not meet early stopping. Best iteration is:\n",
      "[99]\tvalid_0's auc: 0.946993\n",
      "Did not meet early stopping. Best iteration is:\n",
      "[100]\tvalid_0's auc: 0.999992\n",
      "Training until validation scores don't improve for 100 rounds\n"
     ]
    },
    {
     "name": "stderr",
     "output_type": "stream",
     "text": [
      "\u001b[32m[I 2022-03-29 12:38:43,644]\u001b[0m Trial 14 finished with value: 0.5332820887104296 and parameters: {'lambda_l1': 0.0009020390765592415, 'lambda_l2': 1.8758174425038473e-07, 'num_leaves': 251, 'feature_fraction': 0.42319900620670275, 'bagging_fraction': 0.9037835017060047, 'bagging_freq': 1, 'learning_rate': 0.0009817683474337192, 'min_child_samples': 59}. Best is trial 4 with value: 0.9998797367757668.\u001b[0m\n",
      "\u001b[32m[I 2022-03-29 12:38:48,829]\u001b[0m Trial 21 finished with value: 0.9984813555901687 and parameters: {'lambda_l1': 2.692307192645508e-07, 'lambda_l2': 2.0776447280624495e-06, 'num_leaves': 118, 'feature_fraction': 0.803870161262039, 'bagging_fraction': 0.7517042168115318, 'bagging_freq': 3, 'learning_rate': 0.20598924625252313, 'min_child_samples': 44}. Best is trial 4 with value: 0.9998797367757668.\u001b[0m\n"
     ]
    },
    {
     "name": "stdout",
     "output_type": "stream",
     "text": [
      "Did not meet early stopping. Best iteration is:\n",
      "[39]\tvalid_0's auc: 0.921258\n"
     ]
    },
    {
     "name": "stderr",
     "output_type": "stream",
     "text": [
      "\u001b[32m[I 2022-03-29 12:38:56,738]\u001b[0m Trial 17 finished with value: 0.5 and parameters: {'lambda_l1': 9.138782983411029e-07, 'lambda_l2': 6.678051030828009, 'num_leaves': 243, 'feature_fraction': 0.8718662679211016, 'bagging_fraction': 0.9983759102940075, 'bagging_freq': 3, 'learning_rate': 6.413911500164868e-05, 'min_child_samples': 41}. Best is trial 4 with value: 0.9998797367757668.\u001b[0m\n"
     ]
    },
    {
     "name": "stdout",
     "output_type": "stream",
     "text": [
      "Training until validation scores don't improve for 100 rounds\n",
      "Training until validation scores don't improve for 100 rounds\n",
      "Training until validation scores don't improve for 100 rounds\n",
      "Did not meet early stopping. Best iteration is:\n",
      "[100]\tvalid_0's auc: 0.999999\n"
     ]
    },
    {
     "name": "stderr",
     "output_type": "stream",
     "text": [
      "\u001b[32m[I 2022-03-29 12:39:41,434]\u001b[0m Trial 22 finished with value: 0.9996875920134658 and parameters: {'lambda_l1': 3.228564351801271e-07, 'lambda_l2': 1.2588481959156681e-08, 'num_leaves': 123, 'feature_fraction': 0.7989129288163836, 'bagging_fraction': 0.7451913354072819, 'bagging_freq': 3, 'learning_rate': 0.28963893034680765, 'min_child_samples': 53}. Best is trial 4 with value: 0.9998797367757668.\u001b[0m\n"
     ]
    },
    {
     "name": "stdout",
     "output_type": "stream",
     "text": [
      "Training until validation scores don't improve for 100 rounds\n",
      "Did not meet early stopping. Best iteration is:\n",
      "[100]\tvalid_0's auc: 0.999256\n"
     ]
    },
    {
     "name": "stderr",
     "output_type": "stream",
     "text": [
      "\u001b[32m[I 2022-03-29 12:40:01,227]\u001b[0m Trial 23 finished with value: 0.9807304265055706 and parameters: {'lambda_l1': 2.1836210481094797e-06, 'lambda_l2': 0.010035864560651819, 'num_leaves': 130, 'feature_fraction': 0.7934210132704579, 'bagging_fraction': 0.7636510532035916, 'bagging_freq': 3, 'learning_rate': 0.08399106101408105, 'min_child_samples': 43}. Best is trial 4 with value: 0.9998797367757668.\u001b[0m\n"
     ]
    },
    {
     "name": "stdout",
     "output_type": "stream",
     "text": [
      "Training until validation scores don't improve for 100 rounds\n",
      "Did not meet early stopping. Best iteration is:\n",
      "[39]\tvalid_0's auc: 0.920245\n"
     ]
    },
    {
     "name": "stderr",
     "output_type": "stream",
     "text": [
      "\u001b[32m[I 2022-03-29 12:40:32,030]\u001b[0m Trial 24 finished with value: 0.5 and parameters: {'lambda_l1': 7.954311721543081e-06, 'lambda_l2': 0.012863798664398005, 'num_leaves': 193, 'feature_fraction': 0.7851495053321186, 'bagging_fraction': 0.7865417806556003, 'bagging_freq': 3, 'learning_rate': 0.000602061487782571, 'min_child_samples': 17}. Best is trial 4 with value: 0.9998797367757668.\u001b[0m\n"
     ]
    },
    {
     "name": "stdout",
     "output_type": "stream",
     "text": [
      "Did not meet early stopping. Best iteration is:\n",
      "[40]\tvalid_0's auc: 0.906112\n"
     ]
    },
    {
     "name": "stderr",
     "output_type": "stream",
     "text": [
      "\u001b[32m[I 2022-03-29 12:40:38,616]\u001b[0m Trial 25 finished with value: 0.5 and parameters: {'lambda_l1': 6.819448509229901e-06, 'lambda_l2': 5.207965665553473, 'num_leaves': 142, 'feature_fraction': 0.773536693638211, 'bagging_fraction': 0.7932414875747246, 'bagging_freq': 3, 'learning_rate': 0.000535732856502472, 'min_child_samples': 17}. Best is trial 4 with value: 0.9998797367757668.\u001b[0m\n"
     ]
    },
    {
     "name": "stdout",
     "output_type": "stream",
     "text": [
      "Training until validation scores don't improve for 100 rounds\n",
      "Did not meet early stopping. Best iteration is:\n",
      "[41]\tvalid_0's auc: 0.911502\n",
      "Training until validation scores don't improve for 100 rounds\n"
     ]
    },
    {
     "name": "stderr",
     "output_type": "stream",
     "text": [
      "\u001b[32m[I 2022-03-29 12:40:50,112]\u001b[0m Trial 26 finished with value: 0.5 and parameters: {'lambda_l1': 9.363465729436526e-06, 'lambda_l2': 0.015221740802651528, 'num_leaves': 155, 'feature_fraction': 0.7625132699379891, 'bagging_fraction': 0.5231822048655514, 'bagging_freq': 2, 'learning_rate': 0.0008583380968338236, 'min_child_samples': 18}. Best is trial 4 with value: 0.9998797367757668.\u001b[0m\n"
     ]
    },
    {
     "name": "stdout",
     "output_type": "stream",
     "text": [
      "Did not meet early stopping. Best iteration is:\n",
      "[100]\tvalid_0's auc: 0.998564\n",
      "Did not meet early stopping. Best iteration is:\n",
      "[100]\tvalid_0's auc: 0.998069\n"
     ]
    },
    {
     "name": "stderr",
     "output_type": "stream",
     "text": [
      "\u001b[32m[I 2022-03-29 12:41:00,933]\u001b[0m Trial 29 finished with value: 0.9719107831010777 and parameters: {'lambda_l1': 1.1641198352644396e-05, 'lambda_l2': 1.6892377453019385e-06, 'num_leaves': 136, 'feature_fraction': 0.7516584788471149, 'bagging_fraction': 0.8039212112594051, 'bagging_freq': 2, 'learning_rate': 0.06746314637842221, 'min_child_samples': 34}. Best is trial 4 with value: 0.9998797367757668.\u001b[0m\n",
      "\u001b[32m[I 2022-03-29 12:41:01,058]\u001b[0m Trial 27 finished with value: 0.9668380413888336 and parameters: {'lambda_l1': 8.316496293661676e-06, 'lambda_l2': 0.017537609954023845, 'num_leaves': 153, 'feature_fraction': 0.7635141977723952, 'bagging_fraction': 0.6753019458061321, 'bagging_freq': 4, 'learning_rate': 0.057101222859288134, 'min_child_samples': 17}. Best is trial 4 with value: 0.9998797367757668.\u001b[0m\n"
     ]
    },
    {
     "name": "stdout",
     "output_type": "stream",
     "text": [
      "Training until validation scores don't improve for 100 rounds\n",
      "Did not meet early stopping. Best iteration is:\n",
      "[100]\tvalid_0's auc: 0.999858\n",
      "Training until validation scores don't improve for 100 roundsTraining until validation scores don't improve for 100 rounds\n",
      "\n"
     ]
    },
    {
     "name": "stderr",
     "output_type": "stream",
     "text": [
      "\u001b[32m[I 2022-03-29 12:41:17,729]\u001b[0m Trial 28 finished with value: 0.9921064359204962 and parameters: {'lambda_l1': 7.1160773623772416e-06, 'lambda_l2': 1.0975433720668469e-08, 'num_leaves': 158, 'feature_fraction': 0.7690758071530989, 'bagging_fraction': 0.7971775095387683, 'bagging_freq': 2, 'learning_rate': 0.08875473640305295, 'min_child_samples': 37}. Best is trial 4 with value: 0.9998797367757668.\u001b[0m\n"
     ]
    },
    {
     "name": "stdout",
     "output_type": "stream",
     "text": [
      "Training until validation scores don't improve for 100 rounds\n",
      "Did not meet early stopping. Best iteration is:\n",
      "[100]\tvalid_0's auc: 0.999536\n"
     ]
    },
    {
     "name": "stderr",
     "output_type": "stream",
     "text": [
      "\u001b[32m[I 2022-03-29 12:42:08,315]\u001b[0m Trial 30 finished with value: 0.9852012506405042 and parameters: {'lambda_l1': 1.5376436480148526e-05, 'lambda_l2': 0.009285332659370215, 'num_leaves': 157, 'feature_fraction': 0.7540746317358755, 'bagging_fraction': 0.6783982766209726, 'bagging_freq': 2, 'learning_rate': 0.07455009570280666, 'min_child_samples': 17}. Best is trial 4 with value: 0.9998797367757668.\u001b[0m\n"
     ]
    },
    {
     "name": "stdout",
     "output_type": "stream",
     "text": [
      "Training until validation scores don't improve for 100 rounds\n",
      "Did not meet early stopping. Best iteration is:\n",
      "[100]\tvalid_0's auc: 0.995753\n"
     ]
    },
    {
     "name": "stderr",
     "output_type": "stream",
     "text": [
      "\u001b[32m[I 2022-03-29 12:42:38,096]\u001b[0m Trial 31 finished with value: 0.9515725471838706 and parameters: {'lambda_l1': 1.2121235540991515e-08, 'lambda_l2': 2.4474147499420904e-08, 'num_leaves': 163, 'feature_fraction': 0.7408725275608715, 'bagging_fraction': 0.6710370460792806, 'bagging_freq': 2, 'learning_rate': 0.04706471389839533, 'min_child_samples': 19}. Best is trial 4 with value: 0.9998797367757668.\u001b[0m\n"
     ]
    },
    {
     "name": "stdout",
     "output_type": "stream",
     "text": [
      "Did not meet early stopping. Best iteration is:\n",
      "[100]\tvalid_0's auc: 0.902681\n"
     ]
    },
    {
     "name": "stderr",
     "output_type": "stream",
     "text": [
      "\u001b[32m[I 2022-03-29 12:42:47,124]\u001b[0m Trial 36 finished with value: 0.8231667061698628 and parameters: {'lambda_l1': 1.750705231681158e-08, 'lambda_l2': 1.6506386188314724e-08, 'num_leaves': 97, 'feature_fraction': 0.9121734076939814, 'bagging_fraction': 0.7034976052310074, 'bagging_freq': 4, 'learning_rate': 0.007640006941824225, 'min_child_samples': 58}. Best is trial 4 with value: 0.9998797367757668.\u001b[0m\n"
     ]
    },
    {
     "name": "stdout",
     "output_type": "stream",
     "text": [
      "Did not meet early stopping. Best iteration is:\n",
      "[100]\tvalid_0's auc: 0.975404Did not meet early stopping. Best iteration is:\n",
      "[100]\tvalid_0's auc: 0.995671\n",
      "Training until validation scores don't improve for 100 rounds\n",
      "\n",
      "Did not meet early stopping. Best iteration is:\n",
      "[100]\tvalid_0's auc: 0.988338\n"
     ]
    },
    {
     "name": "stderr",
     "output_type": "stream",
     "text": [
      "\u001b[32m[I 2022-03-29 12:43:02,048]\u001b[0m Trial 37 finished with value: 0.8892249946501909 and parameters: {'lambda_l1': 1.0719577786557328e-08, 'lambda_l2': 1.627618543983673e-08, 'num_leaves': 95, 'feature_fraction': 0.9036396204471292, 'bagging_fraction': 0.7049658833852439, 'bagging_freq': 4, 'learning_rate': 0.04326840224756484, 'min_child_samples': 60}. Best is trial 4 with value: 0.9998797367757668.\u001b[0m\n",
      "\u001b[32m[I 2022-03-29 12:43:02,160]\u001b[0m Trial 34 finished with value: 0.952697760769668 and parameters: {'lambda_l1': 1.0419689819054003e-08, 'lambda_l2': 2.202956868971701e-08, 'num_leaves': 107, 'feature_fraction': 0.9870831997093712, 'bagging_fraction': 0.6815920285740998, 'bagging_freq': 2, 'learning_rate': 0.06441850059819923, 'min_child_samples': 34}. Best is trial 4 with value: 0.9998797367757668.\u001b[0m\n",
      "\u001b[32m[I 2022-03-29 12:43:02,162]\u001b[0m Trial 35 finished with value: 0.9222639122502606 and parameters: {'lambda_l1': 1.4452244647327557e-08, 'lambda_l2': 2.15544515451111e-08, 'num_leaves': 103, 'feature_fraction': 0.9767175240883896, 'bagging_fraction': 0.6882028583689505, 'bagging_freq': 4, 'learning_rate': 0.05231657467760768, 'min_child_samples': 56}. Best is trial 4 with value: 0.9998797367757668.\u001b[0m\n"
     ]
    },
    {
     "name": "stdout",
     "output_type": "stream",
     "text": [
      "Training until validation scores don't improve for 100 rounds\n",
      "Did not meet early stopping. Best iteration is:\n",
      "[100]\tvalid_0's auc: 0.999041\n",
      "Did not meet early stopping. Best iteration is:\n",
      "[100]\tvalid_0's auc: 0.99933\n",
      "Training until validation scores don't improve for 100 rounds\n",
      "Training until validation scores don't improve for 100 rounds\n"
     ]
    },
    {
     "name": "stderr",
     "output_type": "stream",
     "text": [
      "\u001b[32m[I 2022-03-29 12:43:29,542]\u001b[0m Trial 32 finished with value: 0.9774449315070695 and parameters: {'lambda_l1': 1.0607623241808177e-08, 'lambda_l2': 2.7692051950181837e-08, 'num_leaves': 158, 'feature_fraction': 0.7281598916468494, 'bagging_fraction': 0.6863089553646041, 'bagging_freq': 2, 'learning_rate': 0.06285455839523774, 'min_child_samples': 59}. Best is trial 4 with value: 0.9998797367757668.\u001b[0m\n",
      "\u001b[32m[I 2022-03-29 12:43:30,506]\u001b[0m Trial 33 finished with value: 0.9811932258893341 and parameters: {'lambda_l1': 1.218972253603039e-08, 'lambda_l2': 1.510601272914639e-08, 'num_leaves': 160, 'feature_fraction': 0.7289895077049534, 'bagging_fraction': 0.6722368155453404, 'bagging_freq': 2, 'learning_rate': 0.06883994579587853, 'min_child_samples': 59}. Best is trial 4 with value: 0.9998797367757668.\u001b[0m\n"
     ]
    },
    {
     "name": "stdout",
     "output_type": "stream",
     "text": [
      "Training until validation scores don't improve for 100 rounds\n",
      "Training until validation scores don't improve for 100 rounds\n",
      "Training until validation scores don't improve for 100 rounds\n",
      "Did not meet early stopping. Best iteration is:\n",
      "[100]\tvalid_0's auc: 0.999998\n"
     ]
    },
    {
     "name": "stderr",
     "output_type": "stream",
     "text": [
      "\u001b[32m[I 2022-03-29 12:44:22,842]\u001b[0m Trial 38 finished with value: 0.9996377885515891 and parameters: {'lambda_l1': 1.1714538515003597e-08, 'lambda_l2': 1.1871321082261048e-08, 'num_leaves': 103, 'feature_fraction': 0.9037405724597823, 'bagging_fraction': 0.698135073048134, 'bagging_freq': 4, 'learning_rate': 0.2957745803605854, 'min_child_samples': 57}. Best is trial 4 with value: 0.9998797367757668.\u001b[0m\n"
     ]
    },
    {
     "name": "stdout",
     "output_type": "stream",
     "text": [
      "Training until validation scores don't improve for 100 rounds\n",
      "Did not meet early stopping. Best iteration is:\n",
      "[97]\tvalid_0's auc: 0.999981\n"
     ]
    },
    {
     "name": "stderr",
     "output_type": "stream",
     "text": [
      "\u001b[32m[I 2022-03-29 12:44:47,701]\u001b[0m Trial 39 finished with value: 0.9995170447698939 and parameters: {'lambda_l1': 7.212444483486473e-05, 'lambda_l2': 7.330942000107123e-07, 'num_leaves': 109, 'feature_fraction': 0.8932478332839462, 'bagging_fraction': 0.7134479062282956, 'bagging_freq': 4, 'learning_rate': 0.2826047312854121, 'min_child_samples': 57}. Best is trial 4 with value: 0.9998797367757668.\u001b[0m\n"
     ]
    },
    {
     "name": "stdout",
     "output_type": "stream",
     "text": [
      "Did not meet early stopping. Best iteration is:\n",
      "[100]\tvalid_0's auc: 0.999999\n",
      "Training until validation scores don't improve for 100 rounds\n"
     ]
    },
    {
     "name": "stderr",
     "output_type": "stream",
     "text": [
      "\u001b[32m[I 2022-03-29 12:44:59,971]\u001b[0m Trial 40 finished with value: 0.9996698894554371 and parameters: {'lambda_l1': 6.333014124833731e-08, 'lambda_l2': 6.638707033893729e-07, 'num_leaves': 113, 'feature_fraction': 0.8947086338223946, 'bagging_fraction': 0.8492088102134419, 'bagging_freq': 4, 'learning_rate': 0.2911958132544384, 'min_child_samples': 53}. Best is trial 4 with value: 0.9998797367757668.\u001b[0m\n"
     ]
    },
    {
     "name": "stdout",
     "output_type": "stream",
     "text": [
      "Did not meet early stopping. Best iteration is:\n",
      "[99]\tvalid_0's auc: 0.999998\n"
     ]
    },
    {
     "name": "stderr",
     "output_type": "stream",
     "text": [
      "\u001b[32m[I 2022-03-29 12:45:07,861]\u001b[0m Trial 41 finished with value: 0.9994450530407982 and parameters: {'lambda_l1': 4.735068487980014e-05, 'lambda_l2': 5.5529729385384494e-06, 'num_leaves': 109, 'feature_fraction': 0.9821891114030525, 'bagging_fraction': 0.849628736559451, 'bagging_freq': 6, 'learning_rate': 0.2755742954657093, 'min_child_samples': 29}. Best is trial 4 with value: 0.9998797367757668.\u001b[0m\n"
     ]
    },
    {
     "name": "stdout",
     "output_type": "stream",
     "text": [
      "Training until validation scores don't improve for 100 rounds\n",
      "Training until validation scores don't improve for 100 rounds\n",
      "Did not meet early stopping. Best iteration is:\n",
      "[100]\tvalid_0's auc: 0.999997\n"
     ]
    },
    {
     "name": "stderr",
     "output_type": "stream",
     "text": [
      "\u001b[32m[I 2022-03-29 12:45:48,957]\u001b[0m Trial 44 finished with value: 0.9989879208632049 and parameters: {'lambda_l1': 0.00010866098535740414, 'lambda_l2': 6.570426173391153e-06, 'num_leaves': 180, 'feature_fraction': 0.8360401525895031, 'bagging_fraction': 0.8665587350963064, 'bagging_freq': 6, 'learning_rate': 0.1497886386125783, 'min_child_samples': 65}. Best is trial 4 with value: 0.9998797367757668.\u001b[0m\n"
     ]
    },
    {
     "name": "stdout",
     "output_type": "stream",
     "text": [
      "Did not meet early stopping. Best iteration is:\n",
      "[100]\tvalid_0's auc: 0.999994\n"
     ]
    },
    {
     "name": "stderr",
     "output_type": "stream",
     "text": [
      "\u001b[32m[I 2022-03-29 12:45:57,509]\u001b[0m Trial 43 finished with value: 0.9986876584195575 and parameters: {'lambda_l1': 7.732396613826633e-05, 'lambda_l2': 5.694952892461944e-07, 'num_leaves': 183, 'feature_fraction': 0.5785682892813289, 'bagging_fraction': 0.8490321165103548, 'bagging_freq': 6, 'learning_rate': 0.1371176053739328, 'min_child_samples': 51}. Best is trial 4 with value: 0.9998797367757668.\u001b[0m\n"
     ]
    },
    {
     "name": "stdout",
     "output_type": "stream",
     "text": [
      "Did not meet early stopping. Best iteration is:\n",
      "[98]\tvalid_0's auc: 1\n",
      "Training until validation scores don't improve for 100 rounds\n"
     ]
    },
    {
     "name": "stderr",
     "output_type": "stream",
     "text": [
      "\u001b[32m[I 2022-03-29 12:46:06,999]\u001b[0m Trial 42 finished with value: 0.9999052292551953 and parameters: {'lambda_l1': 7.831559093358174e-05, 'lambda_l2': 5.395608550448875e-06, 'num_leaves': 184, 'feature_fraction': 0.5607764241904563, 'bagging_fraction': 0.8591637004878071, 'bagging_freq': 6, 'learning_rate': 0.2931668689825694, 'min_child_samples': 67}. Best is trial 42 with value: 0.9999052292551953.\u001b[0m\n"
     ]
    },
    {
     "name": "stdout",
     "output_type": "stream",
     "text": [
      "Training until validation scores don't improve for 100 rounds\n",
      "Training until validation scores don't improve for 100 rounds\n",
      "Did not meet early stopping. Best iteration is:\n",
      "[100]\tvalid_0's auc: 1\n"
     ]
    },
    {
     "name": "stderr",
     "output_type": "stream",
     "text": [
      "\u001b[32m[I 2022-03-29 12:46:28,029]\u001b[0m Trial 45 finished with value: 0.9998515308326186 and parameters: {'lambda_l1': 5.3270928867836065e-05, 'lambda_l2': 9.558493355735876e-07, 'num_leaves': 181, 'feature_fraction': 0.6105719939970771, 'bagging_fraction': 0.8449426383109704, 'bagging_freq': 6, 'learning_rate': 0.299331319408263, 'min_child_samples': 68}. Best is trial 42 with value: 0.9999052292551953.\u001b[0m\n"
     ]
    },
    {
     "name": "stdout",
     "output_type": "stream",
     "text": [
      "Training until validation scores don't improve for 100 rounds\n",
      "Did not meet early stopping. Best iteration is:\n",
      "[100]\tvalid_0's auc: 0.999991\n"
     ]
    },
    {
     "name": "stderr",
     "output_type": "stream",
     "text": [
      "\u001b[32m[I 2022-03-29 12:46:42,283]\u001b[0m Trial 46 finished with value: 0.9986542658277012 and parameters: {'lambda_l1': 3.930392094646971e-05, 'lambda_l2': 8.639311825117981e-07, 'num_leaves': 177, 'feature_fraction': 0.5842759083018475, 'bagging_fraction': 0.6190746603654829, 'bagging_freq': 6, 'learning_rate': 0.14249956404617098, 'min_child_samples': 65}. Best is trial 42 with value: 0.9999052292551953.\u001b[0m\n"
     ]
    },
    {
     "name": "stdout",
     "output_type": "stream",
     "text": [
      "Training until validation scores don't improve for 100 rounds\n",
      "Did not meet early stopping. Best iteration is:\n",
      "[98]\tvalid_0's auc: 0.999997\n"
     ]
    },
    {
     "name": "stderr",
     "output_type": "stream",
     "text": [
      "\u001b[32m[I 2022-03-29 12:47:11,460]\u001b[0m Trial 48 finished with value: 0.9992585555879928 and parameters: {'lambda_l1': 5.7961526564537534e-08, 'lambda_l2': 4.786822833987481e-06, 'num_leaves': 185, 'feature_fraction': 0.8301829416390859, 'bagging_fraction': 0.8441901752329249, 'bagging_freq': 3, 'learning_rate': 0.1398724160652819, 'min_child_samples': 66}. Best is trial 42 with value: 0.9999052292551953.\u001b[0m\n"
     ]
    },
    {
     "name": "stdout",
     "output_type": "stream",
     "text": [
      "Did not meet early stopping. Best iteration is:\n",
      "[100]\tvalid_0's auc: 0.999997\n",
      "Did not meet early stopping. Best iteration is:\n",
      "[100]\tvalid_0's auc: 0.999999\n"
     ]
    },
    {
     "name": "stderr",
     "output_type": "stream",
     "text": [
      "\u001b[32m[I 2022-03-29 12:47:22,825]\u001b[0m Trial 47 finished with value: 0.9991559949217883 and parameters: {'lambda_l1': 5.9554383031229176e-08, 'lambda_l2': 6.202155853406192e-05, 'num_leaves': 186, 'feature_fraction': 0.5656205600744096, 'bagging_fraction': 0.6230944043915436, 'bagging_freq': 6, 'learning_rate': 0.15352098456909985, 'min_child_samples': 52}. Best is trial 42 with value: 0.9999052292551953.\u001b[0m\n",
      "\u001b[32m[I 2022-03-29 12:47:22,903]\u001b[0m Trial 49 finished with value: 0.9994509406290245 and parameters: {'lambda_l1': 7.992499486925181e-08, 'lambda_l2': 3.5148753784790083e-07, 'num_leaves': 188, 'feature_fraction': 0.8351230068449026, 'bagging_fraction': 0.9158063032481815, 'bagging_freq': 3, 'learning_rate': 0.15438480825266745, 'min_child_samples': 48}. Best is trial 42 with value: 0.9999052292551953.\u001b[0m\n"
     ]
    },
    {
     "name": "stdout",
     "output_type": "stream",
     "text": [
      "Training until validation scores don't improve for 100 rounds\n",
      "Training until validation scores don't improve for 100 rounds\n",
      "Training until validation scores don't improve for 100 rounds\n",
      "Did not meet early stopping. Best iteration is:\n",
      "[100]\tvalid_0's auc: 0.999997\n"
     ]
    },
    {
     "name": "stderr",
     "output_type": "stream",
     "text": [
      "\u001b[32m[I 2022-03-29 12:48:22,627]\u001b[0m Trial 51 finished with value: 0.9989588838928355 and parameters: {'lambda_l1': 1.005974658906967e-07, 'lambda_l2': 9.274241966051357e-08, 'num_leaves': 208, 'feature_fraction': 0.9455460806528507, 'bagging_fraction': 0.9250534467075618, 'bagging_freq': 3, 'learning_rate': 0.12152498371486006, 'min_child_samples': 6}. Best is trial 42 with value: 0.9999052292551953.\u001b[0m\n"
     ]
    },
    {
     "name": "stdout",
     "output_type": "stream",
     "text": [
      "Training until validation scores don't improve for 100 rounds\n",
      "Did not meet early stopping. Best iteration is:\n",
      "[100]\tvalid_0's auc: 0.999998\n"
     ]
    },
    {
     "name": "stderr",
     "output_type": "stream",
     "text": [
      "\u001b[32m[I 2022-03-29 12:48:52,590]\u001b[0m Trial 50 finished with value: 0.9992438067724144 and parameters: {'lambda_l1': 6.981821431570586e-08, 'lambda_l2': 5.037160865575377e-07, 'num_leaves': 204, 'feature_fraction': 0.6435899653823522, 'bagging_fraction': 0.920786628710228, 'bagging_freq': 3, 'learning_rate': 0.13026357562438867, 'min_child_samples': 51}. Best is trial 42 with value: 0.9999052292551953.\u001b[0m\n"
     ]
    },
    {
     "name": "stdout",
     "output_type": "stream",
     "text": [
      "Did not meet early stopping. Best iteration is:\n",
      "[100]\tvalid_0's auc: 0.999991\n"
     ]
    },
    {
     "name": "stderr",
     "output_type": "stream",
     "text": [
      "\u001b[32m[I 2022-03-29 12:49:02,983]\u001b[0m Trial 53 finished with value: 0.9985701086590438 and parameters: {'lambda_l1': 5.484987221668251, 'lambda_l2': 9.9259989478614e-05, 'num_leaves': 208, 'feature_fraction': 0.5592235711631827, 'bagging_fraction': 0.928538742570843, 'bagging_freq': 7, 'learning_rate': 0.13451677046023255, 'min_child_samples': 88}. Best is trial 42 with value: 0.9999052292551953.\u001b[0m\n"
     ]
    },
    {
     "name": "stdout",
     "output_type": "stream",
     "text": [
      "Training until validation scores don't improve for 100 rounds\n",
      "Training until validation scores don't improve for 100 rounds\n",
      "Did not meet early stopping. Best iteration is:\n",
      "[100]\tvalid_0's auc: 0.96204\n"
     ]
    },
    {
     "name": "stderr",
     "output_type": "stream",
     "text": [
      "\u001b[32m[I 2022-03-29 12:49:16,927]\u001b[0m Trial 54 finished with value: 0.8670699026012034 and parameters: {'lambda_l1': 1.0231293943571602e-06, 'lambda_l2': 8.118261475502112e-05, 'num_leaves': 204, 'feature_fraction': 0.5277470026172739, 'bagging_fraction': 0.9335877143491635, 'bagging_freq': 7, 'learning_rate': 0.01254240292635624, 'min_child_samples': 87}. Best is trial 42 with value: 0.9999052292551953.\u001b[0m\n"
     ]
    },
    {
     "name": "stdout",
     "output_type": "stream",
     "text": [
      "Did not meet early stopping. Best iteration is:\n",
      "[100]\tvalid_0's auc: 0.999996\n"
     ]
    },
    {
     "name": "stderr",
     "output_type": "stream",
     "text": [
      "\u001b[32m[I 2022-03-29 12:49:25,663]\u001b[0m Trial 52 finished with value: 0.9990345502005749 and parameters: {'lambda_l1': 6.903429345274767e-08, 'lambda_l2': 6.969257493009016e-05, 'num_leaves': 212, 'feature_fraction': 0.5999732870022654, 'bagging_fraction': 0.9417644108501817, 'bagging_freq': 7, 'learning_rate': 0.1357744638860708, 'min_child_samples': 91}. Best is trial 42 with value: 0.9999052292551953.\u001b[0m\n"
     ]
    },
    {
     "name": "stdout",
     "output_type": "stream",
     "text": [
      "Training until validation scores don't improve for 100 rounds\n",
      "Training until validation scores don't improve for 100 rounds\n",
      "Did not meet early stopping. Best iteration is:\n",
      "[100]\tvalid_0's auc: 0.990569\n"
     ]
    },
    {
     "name": "stderr",
     "output_type": "stream",
     "text": [
      "\u001b[32m[I 2022-03-29 12:49:57,504]\u001b[0m Trial 55 finished with value: 0.9222106086466935 and parameters: {'lambda_l1': 2.3072092832481146e-06, 'lambda_l2': 6.613560822809548e-05, 'num_leaves': 217, 'feature_fraction': 0.5217438211442998, 'bagging_fraction': 0.9234249513373738, 'bagging_freq': 7, 'learning_rate': 0.029692038700588914, 'min_child_samples': 82}. Best is trial 42 with value: 0.9999052292551953.\u001b[0m\n"
     ]
    },
    {
     "name": "stdout",
     "output_type": "stream",
     "text": [
      "Did not meet early stopping. Best iteration is:\n",
      "[100]\tvalid_0's auc: 0.961292\n"
     ]
    },
    {
     "name": "stderr",
     "output_type": "stream",
     "text": [
      "\u001b[32m[I 2022-03-29 12:50:05,365]\u001b[0m Trial 56 finished with value: 0.8653947389271852 and parameters: {'lambda_l1': 2.0868670527324732e-06, 'lambda_l2': 0.0002549969117450328, 'num_leaves': 208, 'feature_fraction': 0.5209277473301125, 'bagging_fraction': 0.9262006817239284, 'bagging_freq': 7, 'learning_rate': 0.011496233182994428, 'min_child_samples': 86}. Best is trial 42 with value: 0.9999052292551953.\u001b[0m\n"
     ]
    },
    {
     "name": "stdout",
     "output_type": "stream",
     "text": [
      "Training until validation scores don't improve for 100 rounds\n",
      "Did not meet early stopping. Best iteration is:\n",
      "[100]\tvalid_0's auc: 0.966492\n",
      "Training until validation scores don't improve for 100 rounds\n"
     ]
    },
    {
     "name": "stderr",
     "output_type": "stream",
     "text": [
      "\u001b[32m[I 2022-03-29 12:50:17,980]\u001b[0m Trial 57 finished with value: 0.8715220048917937 and parameters: {'lambda_l1': 1.5266918257866696e-06, 'lambda_l2': 7.608940493232036e-08, 'num_leaves': 224, 'feature_fraction': 0.5303907401243574, 'bagging_fraction': 0.9462358561019601, 'bagging_freq': 7, 'learning_rate': 0.012167455281326298, 'min_child_samples': 91}. Best is trial 42 with value: 0.9999052292551953.\u001b[0m\n"
     ]
    },
    {
     "name": "stdout",
     "output_type": "stream",
     "text": [
      "Training until validation scores don't improve for 100 rounds\n",
      "Did not meet early stopping. Best iteration is:\n",
      "[99]\tvalid_0's auc: 0.918665\n"
     ]
    },
    {
     "name": "stderr",
     "output_type": "stream",
     "text": [
      "\u001b[32m[I 2022-03-29 12:50:37,961]\u001b[0m Trial 58 finished with value: 0.5 and parameters: {'lambda_l1': 1.435141015607484e-06, 'lambda_l2': 1.1192946188384266e-05, 'num_leaves': 171, 'feature_fraction': 0.634965013113223, 'bagging_fraction': 0.8170544229671045, 'bagging_freq': 7, 'learning_rate': 2.1627640370699885e-05, 'min_child_samples': 79}. Best is trial 42 with value: 0.9999052292551953.\u001b[0m\n"
     ]
    },
    {
     "name": "stdout",
     "output_type": "stream",
     "text": [
      "Training until validation scores don't improve for 100 rounds\n",
      "Did not meet early stopping. Best iteration is:\n",
      "[100]\tvalid_0's auc: 0.999996\n"
     ]
    },
    {
     "name": "stderr",
     "output_type": "stream",
     "text": [
      "\u001b[32m[I 2022-03-29 12:51:08,016]\u001b[0m Trial 60 finished with value: 0.9992092326835778 and parameters: {'lambda_l1': 8.570578383747481e-07, 'lambda_l2': 1.8138537721874038e-05, 'num_leaves': 143, 'feature_fraction': 0.5349284696452912, 'bagging_fraction': 0.8177446286847313, 'bagging_freq': 5, 'learning_rate': 0.2164587808851469, 'min_child_samples': 78}. Best is trial 42 with value: 0.9999052292551953.\u001b[0m\n"
     ]
    },
    {
     "name": "stdout",
     "output_type": "stream",
     "text": [
      "Training until validation scores don't improve for 100 rounds\n",
      "Did not meet early stopping. Best iteration is:\n",
      "[100]\tvalid_0's auc: 0.970209\n",
      "Did not meet early stopping. Best iteration is:\n",
      "[100]\tvalid_0's auc: 0.90886\n",
      "Did not meet early stopping. Best iteration is:\n",
      "[100]\tvalid_0's auc: 1\n"
     ]
    },
    {
     "name": "stderr",
     "output_type": "stream",
     "text": [
      "\u001b[32m[I 2022-03-29 12:51:47,112]\u001b[0m Trial 59 finished with value: 0.8754556259375377 and parameters: {'lambda_l1': 2.6162053503285427e-06, 'lambda_l2': 1.46299350959794e-05, 'num_leaves': 231, 'feature_fraction': 0.549227200677974, 'bagging_fraction': 0.7340084143809841, 'bagging_freq': 7, 'learning_rate': 0.01364437106348653, 'min_child_samples': 84}. Best is trial 42 with value: 0.9999052292551953.\u001b[0m\n"
     ]
    },
    {
     "name": "stdout",
     "output_type": "stream",
     "text": [
      "Did not meet early stopping. Best iteration is:\n",
      "[99]\tvalid_0's auc: 0.931257\n"
     ]
    },
    {
     "name": "stderr",
     "output_type": "stream",
     "text": [
      "\u001b[32m[I 2022-03-29 12:51:53,728]\u001b[0m Trial 61 finished with value: 0.999761005518273 and parameters: {'lambda_l1': 2.0145812508053396e-06, 'lambda_l2': 1.5821825521426777e-05, 'num_leaves': 230, 'feature_fraction': 0.676031328471803, 'bagging_fraction': 0.9664542718325224, 'bagging_freq': 5, 'learning_rate': 0.20434289651469598, 'min_child_samples': 74}. Best is trial 42 with value: 0.9999052292551953.\u001b[0m\n",
      "\u001b[32m[I 2022-03-29 12:51:54,810]\u001b[0m Trial 63 finished with value: 0.5 and parameters: {'lambda_l1': 3.102693538110814e-07, 'lambda_l2': 1.4551294463215657e-05, 'num_leaves': 145, 'feature_fraction': 0.6973360546756545, 'bagging_fraction': 0.8797948503223652, 'bagging_freq': 5, 'learning_rate': 1.0135170792764309e-05, 'min_child_samples': 70}. Best is trial 42 with value: 0.9999052292551953.\u001b[0m\n",
      "\u001b[32m[I 2022-03-29 12:52:05,217]\u001b[0m Trial 62 finished with value: 0.5 and parameters: {'lambda_l1': 2.5713790429535178e-06, 'lambda_l2': 1.0696174479993654e-05, 'num_leaves': 227, 'feature_fraction': 0.6864476748929429, 'bagging_fraction': 0.8178395473400646, 'bagging_freq': 5, 'learning_rate': 2.889967001350646e-05, 'min_child_samples': 74}. Best is trial 42 with value: 0.9999052292551953.\u001b[0m\n"
     ]
    },
    {
     "name": "stdout",
     "output_type": "stream",
     "text": [
      "Training until validation scores don't improve for 100 rounds\n",
      "Training until validation scores don't improve for 100 roundsTraining until validation scores don't improve for 100 rounds\n",
      "\n",
      "Training until validation scores don't improve for 100 rounds\n",
      "Did not meet early stopping. Best iteration is:\n",
      "[98]\tvalid_0's auc: 1\n"
     ]
    },
    {
     "name": "stderr",
     "output_type": "stream",
     "text": [
      "\u001b[32m[I 2022-03-29 12:52:23,874]\u001b[0m Trial 65 finished with value: 0.9998147039408497 and parameters: {'lambda_l1': 3.410795664572892e-07, 'lambda_l2': 1.7647985185280722e-05, 'num_leaves': 171, 'feature_fraction': 0.6838160057303385, 'bagging_fraction': 0.8158875682370149, 'bagging_freq': 5, 'learning_rate': 0.23402580130444658, 'min_child_samples': 73}. Best is trial 42 with value: 0.9999052292551953.\u001b[0m\n"
     ]
    },
    {
     "name": "stdout",
     "output_type": "stream",
     "text": [
      "Did not meet early stopping. Best iteration is:\n",
      "[100]\tvalid_0's auc: 0.999997\n"
     ]
    },
    {
     "name": "stderr",
     "output_type": "stream",
     "text": [
      "\u001b[32m[I 2022-03-29 12:52:33,537]\u001b[0m Trial 66 finished with value: 0.999407635400539 and parameters: {'lambda_l1': 3.540438961120369e-07, 'lambda_l2': 0.10734343053452758, 'num_leaves': 144, 'feature_fraction': 0.6958685964765986, 'bagging_fraction': 0.8836137106611666, 'bagging_freq': 5, 'learning_rate': 0.22420380567826229, 'min_child_samples': 72}. Best is trial 42 with value: 0.9999052292551953.\u001b[0m\n"
     ]
    },
    {
     "name": "stdout",
     "output_type": "stream",
     "text": [
      "Training until validation scores don't improve for 100 rounds\n",
      "Training until validation scores don't improve for 100 rounds\n",
      "Did not meet early stopping. Best iteration is:\n",
      "[100]\tvalid_0's auc: 1\n"
     ]
    },
    {
     "name": "stderr",
     "output_type": "stream",
     "text": [
      "\u001b[32m[I 2022-03-29 12:52:50,638]\u001b[0m Trial 64 finished with value: 0.9998102182316597 and parameters: {'lambda_l1': 2.8473774588305055e-07, 'lambda_l2': 1.6362646034882952e-07, 'num_leaves': 230, 'feature_fraction': 0.6665875341328935, 'bagging_fraction': 0.7309012533968062, 'bagging_freq': 5, 'learning_rate': 0.20965613539024358, 'min_child_samples': 76}. Best is trial 42 with value: 0.9999052292551953.\u001b[0m\n"
     ]
    },
    {
     "name": "stdout",
     "output_type": "stream",
     "text": [
      "Training until validation scores don't improve for 100 rounds\n",
      "Did not meet early stopping. Best iteration is:\n",
      "[100]\tvalid_0's auc: 0.999989\n"
     ]
    },
    {
     "name": "stderr",
     "output_type": "stream",
     "text": [
      "\u001b[32m[I 2022-03-29 12:53:05,625]\u001b[0m Trial 67 finished with value: 0.9988873727212018 and parameters: {'lambda_l1': 0.0001797807200252194, 'lambda_l2': 0.0011848681652418453, 'num_leaves': 122, 'feature_fraction': 0.6694512379573482, 'bagging_fraction': 0.7370358308934728, 'bagging_freq': 5, 'learning_rate': 0.21477363299945548, 'min_child_samples': 70}. Best is trial 42 with value: 0.9999052292551953.\u001b[0m\n"
     ]
    },
    {
     "name": "stdout",
     "output_type": "stream",
     "text": [
      "Training until validation scores don't improve for 100 rounds\n",
      "Did not meet early stopping. Best iteration is:\n",
      "[100]\tvalid_0's auc: 0.999719\n"
     ]
    },
    {
     "name": "stderr",
     "output_type": "stream",
     "text": [
      "\u001b[32m[I 2022-03-29 12:53:27,261]\u001b[0m Trial 68 finished with value: 0.9909005897603075 and parameters: {'lambda_l1': 3.6776258696654354e-07, 'lambda_l2': 1.6147511843284566e-06, 'num_leaves': 74, 'feature_fraction': 0.682924296413062, 'bagging_fraction': 0.7731948366744702, 'bagging_freq': 5, 'learning_rate': 0.20405939616437432, 'min_child_samples': 74}. Best is trial 42 with value: 0.9999052292551953.\u001b[0m\n"
     ]
    },
    {
     "name": "stdout",
     "output_type": "stream",
     "text": [
      "Training until validation scores don't improve for 100 rounds\n",
      "Did not meet early stopping. Best iteration is:\n",
      "[100]\tvalid_0's auc: 0.999997\n"
     ]
    },
    {
     "name": "stderr",
     "output_type": "stream",
     "text": [
      "\u001b[32m[I 2022-03-29 12:53:56,249]\u001b[0m Trial 71 finished with value: 0.9992113553988073 and parameters: {'lambda_l1': 3.9890244949024435e-07, 'lambda_l2': 0.0017023582525079045, 'num_leaves': 121, 'feature_fraction': 0.8705286857541895, 'bagging_fraction': 0.965935715920244, 'bagging_freq': 5, 'learning_rate': 0.21376250428991045, 'min_child_samples': 74}. Best is trial 42 with value: 0.9999052292551953.\u001b[0m\n"
     ]
    },
    {
     "name": "stdout",
     "output_type": "stream",
     "text": [
      "Training until validation scores don't improve for 100 rounds\n",
      "Did not meet early stopping. Best iteration is:\n",
      "[99]\tvalid_0's auc: 0.999999\n"
     ]
    },
    {
     "name": "stderr",
     "output_type": "stream",
     "text": [
      "\u001b[32m[I 2022-03-29 12:54:18,756]\u001b[0m Trial 70 finished with value: 0.9996768483496157 and parameters: {'lambda_l1': 2.1356386049478123e-07, 'lambda_l2': 0.0029552711859370724, 'num_leaves': 196, 'feature_fraction': 0.6858074186260531, 'bagging_fraction': 0.7652753228158826, 'bagging_freq': 5, 'learning_rate': 0.20480591032880302, 'min_child_samples': 72}. Best is trial 42 with value: 0.9999052292551953.\u001b[0m\n"
     ]
    },
    {
     "name": "stdout",
     "output_type": "stream",
     "text": [
      "Did not meet early stopping. Best iteration is:\n",
      "[100]\tvalid_0's auc: 1\n",
      "Training until validation scores don't improve for 100 rounds\n"
     ]
    },
    {
     "name": "stderr",
     "output_type": "stream",
     "text": [
      "\u001b[32m[I 2022-03-29 12:54:30,906]\u001b[0m Trial 69 finished with value: 0.9997703274064119 and parameters: {'lambda_l1': 4.236225446437082e-07, 'lambda_l2': 0.0034933400163690937, 'num_leaves': 198, 'feature_fraction': 0.6661218382039498, 'bagging_fraction': 0.770970819260679, 'bagging_freq': 5, 'learning_rate': 0.2156339552889422, 'min_child_samples': 74}. Best is trial 42 with value: 0.9999052292551953.\u001b[0m\n"
     ]
    },
    {
     "name": "stdout",
     "output_type": "stream",
     "text": [
      "Training until validation scores don't improve for 100 rounds\n",
      "Did not meet early stopping. Best iteration is:\n",
      "[100]\tvalid_0's auc: 0.999961\n"
     ]
    },
    {
     "name": "stderr",
     "output_type": "stream",
     "text": [
      "\u001b[32m[I 2022-03-29 12:54:47,631]\u001b[0m Trial 72 finished with value: 0.9956923433470222 and parameters: {'lambda_l1': 5.358218210932762e-07, 'lambda_l2': 0.0009030569207188309, 'num_leaves': 197, 'feature_fraction': 0.667647615171922, 'bagging_fraction': 0.9668135438474863, 'bagging_freq': 5, 'learning_rate': 0.09712198782339385, 'min_child_samples': 74}. Best is trial 42 with value: 0.9999052292551953.\u001b[0m\n"
     ]
    },
    {
     "name": "stdout",
     "output_type": "stream",
     "text": [
      "Did not meet early stopping. Best iteration is:\n",
      "[99]\tvalid_0's auc: 0.931121\n"
     ]
    },
    {
     "name": "stderr",
     "output_type": "stream",
     "text": [
      "\u001b[32m[I 2022-03-29 12:54:52,374]\u001b[0m Trial 73 finished with value: 0.8178846036148482 and parameters: {'lambda_l1': 0.00028784959824187787, 'lambda_l2': 0.0012722169973052398, 'num_leaves': 198, 'feature_fraction': 0.6669621438707977, 'bagging_fraction': 0.7703996630460431, 'bagging_freq': 6, 'learning_rate': 0.0021022794392701162, 'min_child_samples': 62}. Best is trial 42 with value: 0.9999052292551953.\u001b[0m\n"
     ]
    },
    {
     "name": "stdout",
     "output_type": "stream",
     "text": [
      "Did not meet early stopping. Best iteration is:\n",
      "[100]\tvalid_0's auc: 0.999981\n"
     ]
    },
    {
     "name": "stderr",
     "output_type": "stream",
     "text": [
      "\u001b[32m[I 2022-03-29 12:55:25,589]\u001b[0m Trial 75 finished with value: 0.9974451858529814 and parameters: {'lambda_l1': 2.5084779064717884e-05, 'lambda_l2': 3.683505267601096e-05, 'num_leaves': 248, 'feature_fraction': 0.6099095632905956, 'bagging_fraction': 0.9725493787156644, 'bagging_freq': 6, 'learning_rate': 0.08459514428936966, 'min_child_samples': 76}. Best is trial 42 with value: 0.9999052292551953.\u001b[0m\n"
     ]
    },
    {
     "name": "stdout",
     "output_type": "stream",
     "text": [
      "Did not meet early stopping. Best iteration is:\n",
      "[100]\tvalid_0's auc: 0.999991\n"
     ]
    },
    {
     "name": "stderr",
     "output_type": "stream",
     "text": [
      "\u001b[32m[I 2022-03-29 12:55:28,689]\u001b[0m Trial 76 finished with value: 0.9983733480998501 and parameters: {'lambda_l1': 0.0009273746541035407, 'lambda_l2': 1.7798252806072283e-07, 'num_leaves': 243, 'feature_fraction': 0.7166340616583275, 'bagging_fraction': 0.7637473963692812, 'bagging_freq': 6, 'learning_rate': 0.09205427465344727, 'min_child_samples': 63}. Best is trial 42 with value: 0.9999052292551953.\u001b[0m\n"
     ]
    },
    {
     "name": "stdout",
     "output_type": "stream",
     "text": [
      "Did not meet early stopping. Best iteration is:\n",
      "[100]\tvalid_0's auc: 0.999991\n"
     ]
    },
    {
     "name": "stderr",
     "output_type": "stream",
     "text": [
      "\u001b[32m[I 2022-03-29 12:55:35,503]\u001b[0m Trial 74 finished with value: 0.9982100000291876 and parameters: {'lambda_l1': 0.00025451653936974644, 'lambda_l2': 0.0016469818525309651, 'num_leaves': 247, 'feature_fraction': 0.6665533101122787, 'bagging_fraction': 0.7779953982475492, 'bagging_freq': 6, 'learning_rate': 0.09650037903492785, 'min_child_samples': 68}. Best is trial 42 with value: 0.9999052292551953.\u001b[0m\n"
     ]
    },
    {
     "name": "stdout",
     "output_type": "stream",
     "text": [
      "Did not meet early stopping. Best iteration is:\n",
      "[100]\tvalid_0's auc: 0.999985\n"
     ]
    },
    {
     "name": "stderr",
     "output_type": "stream",
     "text": [
      "\u001b[32m[I 2022-03-29 12:55:45,039]\u001b[0m Trial 77 finished with value: 0.9978751634967037 and parameters: {'lambda_l1': 2.226385974667219e-05, 'lambda_l2': 2.1215597348427597e-07, 'num_leaves': 241, 'feature_fraction': 0.6192971952436442, 'bagging_fraction': 0.7642768033113029, 'bagging_freq': 6, 'learning_rate': 0.09417712193054224, 'min_child_samples': 62}. Best is trial 42 with value: 0.9999052292551953.\u001b[0m\n"
     ]
    },
    {
     "name": "stdout",
     "output_type": "stream",
     "text": [
      "Did not meet early stopping. Best iteration is:\n",
      "[100]\tvalid_0's auc: 0.999993\n",
      "Did not meet early stopping. Best iteration is:\n",
      "[100]\tvalid_0's auc: 0.999994\n"
     ]
    },
    {
     "name": "stderr",
     "output_type": "stream",
     "text": [
      "\u001b[32m[I 2022-03-29 12:55:50,225]\u001b[0m Trial 79 finished with value: 0.9985423633766829 and parameters: {'lambda_l1': 2.668041132882397e-05, 'lambda_l2': 0.00047567981191785696, 'num_leaves': 247, 'feature_fraction': 0.6552578270153588, 'bagging_fraction': 0.6523871782456724, 'bagging_freq': 6, 'learning_rate': 0.09737257858675771, 'min_child_samples': 62}. Best is trial 42 with value: 0.9999052292551953.\u001b[0m\n",
      "\u001b[32m[I 2022-03-29 12:55:51,166]\u001b[0m Trial 78 finished with value: 0.9985081397576054 and parameters: {'lambda_l1': 1.911337498610208e-05, 'lambda_l2': 2.9504926822149205e-06, 'num_leaves': 252, 'feature_fraction': 0.6074758653038974, 'bagging_fraction': 0.7553745115574947, 'bagging_freq': 6, 'learning_rate': 0.10070264441047211, 'min_child_samples': 77}. Best is trial 42 with value: 0.9999052292551953.\u001b[0m\n"
     ]
    },
    {
     "ename": "KeyboardInterrupt",
     "evalue": "",
     "output_type": "error",
     "traceback": [
      "\u001b[1;31m---------------------------------------------------------------------------\u001b[0m",
      "\u001b[1;31mKeyboardInterrupt\u001b[0m                         Traceback (most recent call last)",
      "Input \u001b[1;32mIn [24]\u001b[0m, in \u001b[0;36m<module>\u001b[1;34m\u001b[0m\n\u001b[1;32m----> 1\u001b[0m clf_meta_fe \u001b[38;5;241m=\u001b[39m \u001b[43mget_best_clf\u001b[49m\u001b[43m(\u001b[49m\u001b[43mdf_train_meta_fe\u001b[49m\u001b[43m)\u001b[49m\n",
      "Input \u001b[1;32mIn [4]\u001b[0m, in \u001b[0;36mget_best_clf\u001b[1;34m(df_train)\u001b[0m\n\u001b[0;32m     40\u001b[0m study \u001b[38;5;241m=\u001b[39m optuna\u001b[38;5;241m.\u001b[39mcreate_study(direction\u001b[38;5;241m=\u001b[39m\u001b[38;5;124m'\u001b[39m\u001b[38;5;124mmaximize\u001b[39m\u001b[38;5;124m'\u001b[39m)\n\u001b[0;32m     41\u001b[0m objective \u001b[38;5;241m=\u001b[39m \u001b[38;5;28;01mlambda\u001b[39;00m trial: objective_func(trial, X_train, y_train, X_val, y_val)\n\u001b[1;32m---> 42\u001b[0m \u001b[43mstudy\u001b[49m\u001b[38;5;241;43m.\u001b[39;49m\u001b[43moptimize\u001b[49m\u001b[43m(\u001b[49m\u001b[43mobjective\u001b[49m\u001b[43m,\u001b[49m\u001b[43m \u001b[49m\u001b[43mn_trials\u001b[49m\u001b[38;5;241;43m=\u001b[39;49m\u001b[38;5;241;43m100\u001b[39;49m\u001b[43m,\u001b[49m\u001b[43m \u001b[49m\u001b[43mn_jobs\u001b[49m\u001b[38;5;241;43m=\u001b[39;49m\u001b[38;5;241;43m-\u001b[39;49m\u001b[38;5;241;43m1\u001b[39;49m\u001b[43m)\u001b[49m\n\u001b[0;32m     44\u001b[0m \u001b[38;5;28mprint\u001b[39m(study\u001b[38;5;241m.\u001b[39mbest_params, \u001b[38;5;124m\"\u001b[39m\u001b[38;5;124m->\u001b[39m\u001b[38;5;124m\"\u001b[39m, study\u001b[38;5;241m.\u001b[39mbest_value)\n\u001b[0;32m     45\u001b[0m \u001b[38;5;28;01mreturn\u001b[39;00m train_clf(study\u001b[38;5;241m.\u001b[39mbest_params, X_train, y_train, X_val, y_val)\n",
      "File \u001b[1;32mc:\\users\\flo\\miniconda3\\lib\\site-packages\\optuna\\study\\study.py:400\u001b[0m, in \u001b[0;36mStudy.optimize\u001b[1;34m(self, func, n_trials, timeout, n_jobs, catch, callbacks, gc_after_trial, show_progress_bar)\u001b[0m\n\u001b[0;32m    392\u001b[0m \u001b[38;5;28;01mif\u001b[39;00m n_jobs \u001b[38;5;241m!=\u001b[39m \u001b[38;5;241m1\u001b[39m:\n\u001b[0;32m    393\u001b[0m     warnings\u001b[38;5;241m.\u001b[39mwarn(\n\u001b[0;32m    394\u001b[0m         \u001b[38;5;124m\"\u001b[39m\u001b[38;5;124m`n_jobs` argument has been deprecated in v2.7.0. \u001b[39m\u001b[38;5;124m\"\u001b[39m\n\u001b[0;32m    395\u001b[0m         \u001b[38;5;124m\"\u001b[39m\u001b[38;5;124mThis feature will be removed in v4.0.0. \u001b[39m\u001b[38;5;124m\"\u001b[39m\n\u001b[0;32m    396\u001b[0m         \u001b[38;5;124m\"\u001b[39m\u001b[38;5;124mSee https://github.com/optuna/optuna/releases/tag/v2.7.0.\u001b[39m\u001b[38;5;124m\"\u001b[39m,\n\u001b[0;32m    397\u001b[0m         \u001b[38;5;167;01mFutureWarning\u001b[39;00m,\n\u001b[0;32m    398\u001b[0m     )\n\u001b[1;32m--> 400\u001b[0m \u001b[43m_optimize\u001b[49m\u001b[43m(\u001b[49m\n\u001b[0;32m    401\u001b[0m \u001b[43m    \u001b[49m\u001b[43mstudy\u001b[49m\u001b[38;5;241;43m=\u001b[39;49m\u001b[38;5;28;43mself\u001b[39;49m\u001b[43m,\u001b[49m\n\u001b[0;32m    402\u001b[0m \u001b[43m    \u001b[49m\u001b[43mfunc\u001b[49m\u001b[38;5;241;43m=\u001b[39;49m\u001b[43mfunc\u001b[49m\u001b[43m,\u001b[49m\n\u001b[0;32m    403\u001b[0m \u001b[43m    \u001b[49m\u001b[43mn_trials\u001b[49m\u001b[38;5;241;43m=\u001b[39;49m\u001b[43mn_trials\u001b[49m\u001b[43m,\u001b[49m\n\u001b[0;32m    404\u001b[0m \u001b[43m    \u001b[49m\u001b[43mtimeout\u001b[49m\u001b[38;5;241;43m=\u001b[39;49m\u001b[43mtimeout\u001b[49m\u001b[43m,\u001b[49m\n\u001b[0;32m    405\u001b[0m \u001b[43m    \u001b[49m\u001b[43mn_jobs\u001b[49m\u001b[38;5;241;43m=\u001b[39;49m\u001b[43mn_jobs\u001b[49m\u001b[43m,\u001b[49m\n\u001b[0;32m    406\u001b[0m \u001b[43m    \u001b[49m\u001b[43mcatch\u001b[49m\u001b[38;5;241;43m=\u001b[39;49m\u001b[43mcatch\u001b[49m\u001b[43m,\u001b[49m\n\u001b[0;32m    407\u001b[0m \u001b[43m    \u001b[49m\u001b[43mcallbacks\u001b[49m\u001b[38;5;241;43m=\u001b[39;49m\u001b[43mcallbacks\u001b[49m\u001b[43m,\u001b[49m\n\u001b[0;32m    408\u001b[0m \u001b[43m    \u001b[49m\u001b[43mgc_after_trial\u001b[49m\u001b[38;5;241;43m=\u001b[39;49m\u001b[43mgc_after_trial\u001b[49m\u001b[43m,\u001b[49m\n\u001b[0;32m    409\u001b[0m \u001b[43m    \u001b[49m\u001b[43mshow_progress_bar\u001b[49m\u001b[38;5;241;43m=\u001b[39;49m\u001b[43mshow_progress_bar\u001b[49m\u001b[43m,\u001b[49m\n\u001b[0;32m    410\u001b[0m \u001b[43m\u001b[49m\u001b[43m)\u001b[49m\n",
      "File \u001b[1;32mc:\\users\\flo\\miniconda3\\lib\\site-packages\\optuna\\study\\_optimize.py:103\u001b[0m, in \u001b[0;36m_optimize\u001b[1;34m(study, func, n_trials, timeout, n_jobs, catch, callbacks, gc_after_trial, show_progress_bar)\u001b[0m\n\u001b[0;32m    100\u001b[0m     \u001b[38;5;28;01mbreak\u001b[39;00m\n\u001b[0;32m    102\u001b[0m \u001b[38;5;28;01mif\u001b[39;00m \u001b[38;5;28mlen\u001b[39m(futures) \u001b[38;5;241m>\u001b[39m\u001b[38;5;241m=\u001b[39m n_jobs:\n\u001b[1;32m--> 103\u001b[0m     completed, futures \u001b[38;5;241m=\u001b[39m \u001b[43mwait\u001b[49m\u001b[43m(\u001b[49m\u001b[43mfutures\u001b[49m\u001b[43m,\u001b[49m\u001b[43m \u001b[49m\u001b[43mreturn_when\u001b[49m\u001b[38;5;241;43m=\u001b[39;49m\u001b[43mFIRST_COMPLETED\u001b[49m\u001b[43m)\u001b[49m\n\u001b[0;32m    104\u001b[0m     \u001b[38;5;66;03m# Raise if exception occurred in executing the completed futures.\u001b[39;00m\n\u001b[0;32m    105\u001b[0m     \u001b[38;5;28;01mfor\u001b[39;00m f \u001b[38;5;129;01min\u001b[39;00m completed:\n",
      "File \u001b[1;32mc:\\users\\flo\\miniconda3\\lib\\concurrent\\futures\\_base.py:306\u001b[0m, in \u001b[0;36mwait\u001b[1;34m(fs, timeout, return_when)\u001b[0m\n\u001b[0;32m    302\u001b[0m         \u001b[38;5;28;01mreturn\u001b[39;00m DoneAndNotDoneFutures(done, not_done)\n\u001b[0;32m    304\u001b[0m     waiter \u001b[38;5;241m=\u001b[39m _create_and_install_waiters(fs, return_when)\n\u001b[1;32m--> 306\u001b[0m \u001b[43mwaiter\u001b[49m\u001b[38;5;241;43m.\u001b[39;49m\u001b[43mevent\u001b[49m\u001b[38;5;241;43m.\u001b[39;49m\u001b[43mwait\u001b[49m\u001b[43m(\u001b[49m\u001b[43mtimeout\u001b[49m\u001b[43m)\u001b[49m\n\u001b[0;32m    307\u001b[0m \u001b[38;5;28;01mfor\u001b[39;00m f \u001b[38;5;129;01min\u001b[39;00m fs:\n\u001b[0;32m    308\u001b[0m     \u001b[38;5;28;01mwith\u001b[39;00m f\u001b[38;5;241m.\u001b[39m_condition:\n",
      "File \u001b[1;32mc:\\users\\flo\\miniconda3\\lib\\threading.py:574\u001b[0m, in \u001b[0;36mEvent.wait\u001b[1;34m(self, timeout)\u001b[0m\n\u001b[0;32m    572\u001b[0m signaled \u001b[38;5;241m=\u001b[39m \u001b[38;5;28mself\u001b[39m\u001b[38;5;241m.\u001b[39m_flag\n\u001b[0;32m    573\u001b[0m \u001b[38;5;28;01mif\u001b[39;00m \u001b[38;5;129;01mnot\u001b[39;00m signaled:\n\u001b[1;32m--> 574\u001b[0m     signaled \u001b[38;5;241m=\u001b[39m \u001b[38;5;28;43mself\u001b[39;49m\u001b[38;5;241;43m.\u001b[39;49m\u001b[43m_cond\u001b[49m\u001b[38;5;241;43m.\u001b[39;49m\u001b[43mwait\u001b[49m\u001b[43m(\u001b[49m\u001b[43mtimeout\u001b[49m\u001b[43m)\u001b[49m\n\u001b[0;32m    575\u001b[0m \u001b[38;5;28;01mreturn\u001b[39;00m signaled\n",
      "File \u001b[1;32mc:\\users\\flo\\miniconda3\\lib\\threading.py:312\u001b[0m, in \u001b[0;36mCondition.wait\u001b[1;34m(self, timeout)\u001b[0m\n\u001b[0;32m    310\u001b[0m \u001b[38;5;28;01mtry\u001b[39;00m:    \u001b[38;5;66;03m# restore state no matter what (e.g., KeyboardInterrupt)\u001b[39;00m\n\u001b[0;32m    311\u001b[0m     \u001b[38;5;28;01mif\u001b[39;00m timeout \u001b[38;5;129;01mis\u001b[39;00m \u001b[38;5;28;01mNone\u001b[39;00m:\n\u001b[1;32m--> 312\u001b[0m         \u001b[43mwaiter\u001b[49m\u001b[38;5;241;43m.\u001b[39;49m\u001b[43macquire\u001b[49m\u001b[43m(\u001b[49m\u001b[43m)\u001b[49m\n\u001b[0;32m    313\u001b[0m         gotit \u001b[38;5;241m=\u001b[39m \u001b[38;5;28;01mTrue\u001b[39;00m\n\u001b[0;32m    314\u001b[0m     \u001b[38;5;28;01melse\u001b[39;00m:\n",
      "\u001b[1;31mKeyboardInterrupt\u001b[0m: "
     ]
    }
   ],
   "source": [
    "clf_meta_fe = get_best_clf(df_train_meta_fe)"
   ]
  },
  {
   "cell_type": "code",
   "execution_count": null,
   "id": "90a83c43",
   "metadata": {
    "ExecuteTime": {
     "end_time": "2022-03-29T10:55:52.665329Z",
     "start_time": "2022-03-29T10:55:52.665329Z"
    }
   },
   "outputs": [],
   "source": [
    "eval_clf(clf_meta_fe, df_test_meta_fe)"
   ]
  },
  {
   "cell_type": "markdown",
   "id": "59129c72",
   "metadata": {},
   "source": [
    "### Average probas at the user level"
   ]
  },
  {
   "cell_type": "code",
   "execution_count": null,
   "id": "2ef17280",
   "metadata": {
    "ExecuteTime": {
     "end_time": "2022-03-29T10:55:52.680949Z",
     "start_time": "2022-03-29T10:55:52.680949Z"
    }
   },
   "outputs": [],
   "source": [
    "df_train_meta_fe_agg, df_test_meta_fe_agg = get_agg(clf_meta_fe, \n",
    "                                                    df_train_meta_fe, \n",
    "                                                    df_test_meta_fe, \n",
    "                                                    df_train['id'], \n",
    "                                                    df_test['id'])\n",
    "clf_meta_fe_agg = get_best_clf(df_train_meta_fe_agg)"
   ]
  },
  {
   "cell_type": "code",
   "execution_count": null,
   "id": "e06d6a76",
   "metadata": {
    "ExecuteTime": {
     "end_time": "2022-03-29T10:55:52.680949Z",
     "start_time": "2022-03-29T10:55:52.680949Z"
    }
   },
   "outputs": [],
   "source": [
    "eval_clf(clf_meta_fe_agg, df_test_meta_fe_agg)"
   ]
  },
  {
   "cell_type": "markdown",
   "id": "c656087a",
   "metadata": {},
   "source": [
    "# Detection on tweets metadata (but not users')"
   ]
  },
  {
   "cell_type": "code",
   "execution_count": null,
   "id": "1f114fe1",
   "metadata": {
    "ExecuteTime": {
     "end_time": "2022-03-29T10:55:52.921086Z",
     "start_time": "2022-03-29T10:55:52.921086Z"
    }
   },
   "outputs": [],
   "source": [
    "def filter_tweet_metadata(df: pd.DataFrame):\n",
    "    return df.drop([ 'followers_count', 'friends_count', 'statuses_count',\n",
    "                     'location_enc', 'created_at_date', 'created_at_year',\n",
    "                     'created_at_month', 'created_at_day', 'created_at_hour', \n",
    "                     'avg_daily_followers', 'avg_daily_friends', 'avg_daily_statuses'], axis=1)"
   ]
  },
  {
   "cell_type": "code",
   "execution_count": null,
   "id": "b11c8d41",
   "metadata": {
    "ExecuteTime": {
     "end_time": "2022-03-29T10:55:52.932096Z",
     "start_time": "2022-03-29T10:55:52.932096Z"
    }
   },
   "outputs": [],
   "source": [
    "df_train_meta_tweet = filter_tweet_metadata(df_train_meta)\n",
    "df_test_meta_tweet = filter_tweet_metadata(df_test_meta)"
   ]
  },
  {
   "cell_type": "code",
   "execution_count": null,
   "id": "73c0faf5",
   "metadata": {
    "ExecuteTime": {
     "end_time": "2022-03-29T10:55:52.932096Z",
     "start_time": "2022-03-29T10:55:52.932096Z"
    }
   },
   "outputs": [],
   "source": [
    "clf_meta_tweet = get_best_clf(df_train_meta_tweet)"
   ]
  },
  {
   "cell_type": "code",
   "execution_count": null,
   "id": "32cdad62",
   "metadata": {
    "ExecuteTime": {
     "end_time": "2022-03-29T10:55:52.947723Z",
     "start_time": "2022-03-29T10:55:52.947723Z"
    }
   },
   "outputs": [],
   "source": [
    "eval_clf(clf_meta_tweet, df_test_meta_tweet)"
   ]
  },
  {
   "cell_type": "markdown",
   "id": "de6527c2",
   "metadata": {},
   "source": [
    "### Average probas at the user level"
   ]
  },
  {
   "cell_type": "code",
   "execution_count": null,
   "id": "17c76506",
   "metadata": {
    "ExecuteTime": {
     "end_time": "2022-03-29T10:55:52.947723Z",
     "start_time": "2022-03-29T10:55:52.947723Z"
    }
   },
   "outputs": [],
   "source": [
    "df_train_meta_agg_tweet, df_test_meta_agg_tweet = get_agg(clf_meta_tweet, \n",
    "                                                          df_train_meta_tweet, \n",
    "                                                          df_test_meta_tweet, \n",
    "                                                          df_train['id'], \n",
    "                                                          df_test['id'])\n",
    "clf_meta_agg_tweet = get_best_clf(df_train_meta_agg_tweet)"
   ]
  },
  {
   "cell_type": "code",
   "execution_count": null,
   "id": "0395ccfa",
   "metadata": {
    "ExecuteTime": {
     "end_time": "2022-03-29T10:55:52.963346Z",
     "start_time": "2022-03-29T10:55:52.963346Z"
    }
   },
   "outputs": [],
   "source": [
    "eval_clf(clf_meta_agg_tweet, df_test_meta_agg_tweet)"
   ]
  },
  {
   "cell_type": "markdown",
   "id": "1e2d1008",
   "metadata": {},
   "source": [
    "## Feature engineering"
   ]
  },
  {
   "cell_type": "code",
   "execution_count": null,
   "id": "6bdca23f",
   "metadata": {
    "ExecuteTime": {
     "end_time": "2022-03-29T10:55:52.963346Z",
     "start_time": "2022-03-29T10:55:52.963346Z"
    }
   },
   "outputs": [],
   "source": [
    "df_train_meta_tweet_fe = filter_tweet_metadata(df_train_meta_fe)\n",
    "df_test_meta_tweet_fe = filter_tweet_metadata(df_test_meta_fe)"
   ]
  },
  {
   "cell_type": "code",
   "execution_count": null,
   "id": "d76fb224",
   "metadata": {
    "ExecuteTime": {
     "end_time": "2022-03-29T10:55:52.978968Z",
     "start_time": "2022-03-29T10:55:52.978968Z"
    }
   },
   "outputs": [],
   "source": [
    "clf_meta_tweet_fe = get_best_clf(df_train_meta_tweet_fe)"
   ]
  },
  {
   "cell_type": "code",
   "execution_count": null,
   "id": "9c006760",
   "metadata": {
    "ExecuteTime": {
     "end_time": "2022-03-29T10:55:52.978968Z",
     "start_time": "2022-03-29T10:55:52.978968Z"
    }
   },
   "outputs": [],
   "source": [
    "eval_clf(clf_meta_tweet_fe, df_test_meta_tweet_fe)"
   ]
  },
  {
   "cell_type": "markdown",
   "id": "f95f9797",
   "metadata": {},
   "source": [
    "### Average probas at the user level"
   ]
  },
  {
   "cell_type": "code",
   "execution_count": null,
   "id": "041c94fd",
   "metadata": {
    "ExecuteTime": {
     "end_time": "2022-03-29T10:55:52.994589Z",
     "start_time": "2022-03-29T10:55:52.994589Z"
    }
   },
   "outputs": [],
   "source": [
    "df_train_meta_agg_tweet_fe, df_test_meta_agg_tweet_fe = get_agg(clf_meta_tweet_fe, \n",
    "                                                                df_train_meta_tweet_fe, \n",
    "                                                                df_test_meta_tweet_fe, \n",
    "                                                                df_train['id'], \n",
    "                                                                df_test['id'])\n",
    "clf_meta_agg_tweet_fe = get_best_clf(df_train_meta_agg_tweet_fe)"
   ]
  },
  {
   "cell_type": "code",
   "execution_count": null,
   "id": "0963f7f7",
   "metadata": {
    "ExecuteTime": {
     "end_time": "2022-03-29T10:55:52.994589Z",
     "start_time": "2022-03-29T10:55:52.994589Z"
    }
   },
   "outputs": [],
   "source": [
    "eval_clf(clf_meta_agg_tweet_fe, df_test_meta_agg_tweet_fe)"
   ]
  },
  {
   "cell_type": "markdown",
   "id": "18c8629f",
   "metadata": {},
   "source": [
    "# TODO: Combine models on users metadata + tweets metadata"
   ]
  },
  {
   "cell_type": "code",
   "execution_count": null,
   "id": "f5739c19",
   "metadata": {},
   "outputs": [],
   "source": []
  },
  {
   "cell_type": "markdown",
   "id": "1168bed7",
   "metadata": {
    "heading_collapsed": true
   },
   "source": [
    "# Detection on tweets content"
   ]
  },
  {
   "cell_type": "code",
   "execution_count": null,
   "id": "5a0b20c6",
   "metadata": {
    "ExecuteTime": {
     "end_time": "2022-03-29T10:55:52.680949Z",
     "start_time": "2022-03-29T10:55:52.680949Z"
    },
    "hidden": true
   },
   "outputs": [],
   "source": [
    "X_train_tweet, y_train_tweet = df_train['tweet'], df_train['label']\n",
    "X_test_tweet, y_test_tweet = df_test['tweet'], df_test['label']\n",
    "\n",
    "X_train_tweet.head()"
   ]
  },
  {
   "cell_type": "markdown",
   "id": "6f999c61",
   "metadata": {
    "hidden": true
   },
   "source": [
    "## Encoding hashtags"
   ]
  },
  {
   "cell_type": "markdown",
   "id": "952ba9db",
   "metadata": {
    "hidden": true
   },
   "source": [
    "> __Meh__"
   ]
  },
  {
   "cell_type": "code",
   "execution_count": 7,
   "id": "8d8fcee4",
   "metadata": {
    "ExecuteTime": {
     "end_time": "2022-03-24T16:34:45.573535Z",
     "start_time": "2022-03-24T16:34:44.166050Z"
    },
    "deletable": false,
    "editable": false,
    "hidden": true,
    "run_control": {
     "frozen": true
    }
   },
   "outputs": [
    {
     "data": {
      "application/vnd.jupyter.widget-view+json": {
       "model_id": "82e15b765bc94a4d82be97b9e3e1723c",
       "version_major": 2,
       "version_minor": 0
      },
      "text/plain": [
       "  0%|          | 0/1398465 [00:00<?, ?it/s]"
      ]
     },
     "metadata": {},
     "output_type": "display_data"
    },
    {
     "data": {
      "text/plain": [
       "Counter({'Sponsored': 39,\n",
       "         'HandShaq': 1,\n",
       "         'ad': 465,\n",
       "         'lsunationalchamps': 1,\n",
       "         'WeWantToPlay': 22,\n",
       "         'SharkWeek': 124,\n",
       "         'LeadingThroughChange': 2,\n",
       "         'MyStartingFive': 4,\n",
       "         'SHAQvsGRONK': 1,\n",
       "         'fortopartner': 2,\n",
       "         'ShotForHeroes': 1,\n",
       "         'sanitation': 5,\n",
       "         'NRGFAM': 14,\n",
       "         'BETAwards': 52,\n",
       "         'BiteSizedGlory': 1,\n",
       "         'GeauxTigers': 62,\n",
       "         'frostedflakespartner': 1,\n",
       "         'RingPartner': 1,\n",
       "         'healthcareheroes': 19,\n",
       "         'ShareMyHero': 1,\n",
       "         'jcppartner': 1,\n",
       "         'shaqlife': 4,\n",
       "         'TNTpartner': 4,\n",
       "         'MothersDay': 87,\n",
       "         'FastFoto': 2,\n",
       "         'FastFotoSweepstakes': 1,\n",
       "         'EpsonPartner': 1,\n",
       "         'NFLdraft': 2,\n",
       "         'Shaqcast': 1,\n",
       "         'Prince': 13,\n",
       "         'HatsOff': 2,\n",
       "         'JCPpartner': 1,\n",
       "         'throwback': 80,\n",
       "         'TNTPartner': 1,\n",
       "         'PapaJohnsPartner': 1,\n",
       "         'PostForPencils': 1,\n",
       "         'ShaqLife': 2,\n",
       "         '1': 1385,\n",
       "         'FortoPartner': 1,\n",
       "         'SHAQ': 1,\n",
       "         'setthedvr': 1,\n",
       "         'stayinside': 3,\n",
       "         'youwilllaugh': 1,\n",
       "         'ipromise': 1,\n",
       "         'RunMargaretRun': 1,\n",
       "         'RideWithTheGeneral': 1,\n",
       "         'ShopHQSHAQ': 1,\n",
       "         'Ad': 64,\n",
       "         'GoFORTO': 2,\n",
       "         'ridewiththegeneral': 2,\n",
       "         'FixFosterCare': 3,\n",
       "         'BigChickenShaq': 1,\n",
       "         'BigChickenGlendale': 1,\n",
       "         'ShaqsFunHouse': 2,\n",
       "         'Papadias': 1,\n",
       "         'RIPMamba': 10,\n",
       "         'TeigenOnCarnival': 1,\n",
       "         'AllAtJCP': 5,\n",
       "         'undercoverboss': 1,\n",
       "         'CheatSweet': 1,\n",
       "         'DeliveringSmiles': 2,\n",
       "         'sponsored': 109,\n",
       "         'Steady': 1,\n",
       "         'americangreetingspartner': 1,\n",
       "         'smashups': 1,\n",
       "         'GETAPAIR': 1,\n",
       "         'BeAMan': 1,\n",
       "         'MensHealthAwareness': 1,\n",
       "         'kidsfilmitfestival': 1,\n",
       "         'ICYMI': 319,\n",
       "         'ChooseFun': 3,\n",
       "         'ShaneMcGhie': 1,\n",
       "         'PTSD': 37,\n",
       "         'fostercare': 2,\n",
       "         'JBLFest': 2,\n",
       "         'AD': 82,\n",
       "         'bassallstars': 1,\n",
       "         'ShaqSweeps': 1,\n",
       "         'verabradley': 1,\n",
       "         'blessingsina': 1,\n",
       "         'CarnivalCruiseLine': 1,\n",
       "         'LSU': 83,\n",
       "         'OWL2019': 3,\n",
       "         'internationalcoffeeday': 1,\n",
       "         'Fosterkids': 1,\n",
       "         'TheMaskedSinger': 16,\n",
       "         'djdiesel': 2,\n",
       "         'imf2019': 2,\n",
       "         'headbangers': 2,\n",
       "         'dubstep': 1,\n",
       "         'bassmusic': 1,\n",
       "         'iloveatlanta': 1,\n",
       "         'emperorofdubstep': 1,\n",
       "         'plur': 3,\n",
       "         'Carnival': 6,\n",
       "         'Glendale': 2,\n",
       "         'BigChicken': 1,\n",
       "         'betterday': 1,\n",
       "         'ShaqToSchool': 1,\n",
       "         'ZapposForGood': 1,\n",
       "         'Zappos': 1,\n",
       "         'SchoolIsForWinners': 1,\n",
       "         'RNC2020': 1158,\n",
       "         'GOP': 82,\n",
       "         'RNCConvention': 96,\n",
       "         'PaloAltoMafia': 1,\n",
       "         'DemConvention': 619,\n",
       "         'MAGA2020': 165,\n",
       "         'BidenHarris': 92,\n",
       "         'AmericaFirst': 203,\n",
       "         'CnnIsASuperPac': 1,\n",
       "         'COVID19': 5406,\n",
       "         'MAGA': 830,\n",
       "         'Karendemic': 1,\n",
       "         'DefendThePolice': 4,\n",
       "         'Loser': 15,\n",
       "         'SchoolChoice': 13,\n",
       "         'Trump2020': 312,\n",
       "         'PledgetoAmericasWorkers': 2,\n",
       "         'TX23': 3,\n",
       "         'NeverTrumperPolls': 1,\n",
       "         'BLUELIVESMATTER': 1,\n",
       "         'BlackLivesMatter': 1125,\n",
       "         'AntifaTerrorist': 7,\n",
       "         'HidenBiden': 19,\n",
       "         'IAMRepublican': 1,\n",
       "         'EndTrafficking': 30,\n",
       "         'MakeAmericaGreatAgain': 34,\n",
       "         'sunset': 132,\n",
       "         'Florida': 128,\n",
       "         'Sarasota': 1,\n",
       "         'Skytower': 2,\n",
       "         'Laura': 261,\n",
       "         'Marco': 47,\n",
       "         'Tampa': 4,\n",
       "         'BREAKING': 446,\n",
       "         'GOESEast': 2,\n",
       "         'GoodDayTB': 1,\n",
       "         'SundayMorning': 50,\n",
       "         'GoodDayTampaBay': 1,\n",
       "         'TropicalStormLaura': 8,\n",
       "         'skytower': 1,\n",
       "         'TD14': 3,\n",
       "         'DNC2020': 123,\n",
       "         'sarasota': 1,\n",
       "         'manatee': 1,\n",
       "         'RaysUp': 9,\n",
       "         '13': 44,\n",
       "         'ALERT': 4,\n",
       "         'RaysWin': 8,\n",
       "         'StanleyCup': 84,\n",
       "         'GoBolts': 20,\n",
       "         'BeTheDistantThunder': 1,\n",
       "         'BOLTSWIN': 2,\n",
       "         'NewProfilePic': 552,\n",
       "         'Fall2019': 1,\n",
       "         'PlugSeason': 1,\n",
       "         'All2k19': 1,\n",
       "         'FinePeopleFromNorthCarolina': 2,\n",
       "         'LaunchAmerica': 198,\n",
       "         'CrewDragon': 69,\n",
       "         'LaunchAme': 1,\n",
       "         'milakunis': 1,\n",
       "         'PaleyFest': 4,\n",
       "         'vmas': 8,\n",
       "         'GlobalGoalUnite': 53,\n",
       "         'Icry': 1,\n",
       "         'usher': 1,\n",
       "         'icry': 2,\n",
       "         'blacklivesmatter': 182,\n",
       "         'BLM': 409,\n",
       "         'MOBBthevote': 3,\n",
       "         'MarchOnBallotBoxes': 2,\n",
       "         '5': 178,\n",
       "         'Georgia': 35,\n",
       "         'StuckwithU': 11,\n",
       "         'Hot100': 36,\n",
       "         'BestOfCapitalSTB': 1,\n",
       "         'Yummy': 1,\n",
       "         'STUCKWITHU': 9,\n",
       "         '7': 118,\n",
       "         'stuckwithu': 16,\n",
       "         'stuckwithumom': 3,\n",
       "         'HappyMothersDay': 32,\n",
       "         'stuckwithuMom': 1,\n",
       "         'stuckwithuprom': 1,\n",
       "         'stuckwithuvideo': 2,\n",
       "         'Stuckwithumusicvideo': 1,\n",
       "         'Allinchallenge': 1,\n",
       "         'TheBiebersonWatch': 1,\n",
       "         'StuckwithUVideo': 1,\n",
       "         'J': 13,\n",
       "         'mybeliebers': 2,\n",
       "         'BieberVirtualConcert': 3,\n",
       "         'beliebers': 1,\n",
       "         'BIEBER2020VirtualConcert': 1,\n",
       "         'intentionschallenge': 2,\n",
       "         'ALLINCHALLENGE': 22,\n",
       "         'jklivin': 3,\n",
       "         'VERDE': 3,\n",
       "         'GrowtheLegend': 1,\n",
       "         'greenlightsbook': 2,\n",
       "         'GreenlightsBook': 3,\n",
       "         'TandCPhilanthropy': 1,\n",
       "         'LISTOS': 1,\n",
       "         'AustinFC': 4,\n",
       "         'fathersday': 23,\n",
       "         'theburgershowdown': 1,\n",
       "         'hookem': 19,\n",
       "         'verde': 1,\n",
       "         'flykitfriday': 1,\n",
       "         'McConaugheyTakes': 7,\n",
       "         'G': 38,\n",
       "         'Graduation2020': 9,\n",
       "         'happymothersday': 7,\n",
       "         'nationalteacherappreciationday': 1,\n",
       "         'CupOfJoe': 5,\n",
       "         'justkeeplivin': 2,\n",
       "         'HookEm': 27,\n",
       "         'BobbyBandito': 2,\n",
       "         'stayhome': 102,\n",
       "         'Hookem': 3,\n",
       "         'BillClinton': 4,\n",
       "         'GeorgeWBush': 1,\n",
       "         '22': 24,\n",
       "         '11': 40,\n",
       "         '6': 221,\n",
       "         'tbt': 331,\n",
       "         'MyTe': 1,\n",
       "         'goodluck': 6,\n",
       "         'UTScripttoScreen': 2,\n",
       "         'happybirrhday': 1,\n",
       "         'gameday': 19,\n",
       "         'happynewyear': 18,\n",
       "         'AlamoBowl': 2,\n",
       "         'jkl': 1,\n",
       "         'lobos': 1,\n",
       "         'givingtuesday': 9,\n",
       "         'happythanksgivng': 3,\n",
       "         'dallasbuyersclub': 1,\n",
       "         'Austin': 29,\n",
       "         'thankyouforyourservice': 3,\n",
       "         'FallonAtUT': 2,\n",
       "         'MyPLMorning': 1,\n",
       "         'talkturkey': 1,\n",
       "         'TrapKitchen': 1,\n",
       "         'TalkTurkey': 1,\n",
       "         'unyoked': 1,\n",
       "         'danbuettner': 1,\n",
       "         'JustKeepLivin': 1,\n",
       "         'WorldMentalHealthDay': 16,\n",
       "         'NobelPrize': 10,\n",
       "         'justkeepwinnin': 1,\n",
       "         'ChasingLifeCNN': 1,\n",
       "         'Kimmel': 9,\n",
       "         'TheBeachBum': 3,\n",
       "         'HerbKelleher': 1,\n",
       "         'LincolnAviator': 1,\n",
       "         'GivingTuesday': 88,\n",
       "         'DallasBuyersClub': 1,\n",
       "         'WildTurkeyGivesBack': 1,\n",
       "         'ivoted': 8,\n",
       "         'WhiteBoyRickMovie': 3,\n",
       "         'WhiteBoyRick': 1,\n",
       "         'roosterandbutch': 1,\n",
       "         'KiehlsxAutismSpeaks': 1,\n",
       "         'KiehlsPartner': 1,\n",
       "         'Harvey': 14,\n",
       "         'DarkTowerMovie': 5,\n",
       "         'OneNationOneRationCard': 1,\n",
       "         'PMCARES': 9,\n",
       "         'TransformingIndia': 1,\n",
       "         'IndiaFightsCorona': 82,\n",
       "         'PositiveHarmonies': 2,\n",
       "         'COVID': 414,\n",
       "         'JoinBJP': 4,\n",
       "         'AatmaNirbharBharat': 181,\n",
       "         'AatmanirbharBharat': 15,\n",
       "         'AatmaNirbharKrishi': 28,\n",
       "         'SwachhSurvekshan2020': 12,\n",
       "         'आत': 2,\n",
       "         'NationalRecruitmentAgency': 20,\n",
       "         'MannKiBaat': 32,\n",
       "         'NewIndia': 15,\n",
       "         'स': 43,\n",
       "         '2425': 1,\n",
       "         'findyourowncooksunprofessional': 1,\n",
       "         'gobears': 1,\n",
       "         'GoBears': 7,\n",
       "         'BearDown': 12,\n",
       "         'WIFL2019': 1,\n",
       "         'LincolnYards': 1,\n",
       "         'ChicagoBearsMobile': 1,\n",
       "         'KickHunger': 1,\n",
       "         'TNFL': 2,\n",
       "         'tnfl': 1,\n",
       "         'The': 10,\n",
       "         'Smithsonian': 5,\n",
       "         'Folklife': 1,\n",
       "         'Armenia': 7,\n",
       "         'GoogleAlerts': 19,\n",
       "         'CNN': 98,\n",
       "         'PartsUnknown': 4,\n",
       "         'IcantvisitAzerbaijaneither': 1,\n",
       "         'royalwedding': 10,\n",
       "         'kickhunger': 1,\n",
       "         'GCFD': 1,\n",
       "         'bypopulardemand': 1,\n",
       "         'NAHA': 1,\n",
       "         'flavorsofFrance': 1,\n",
       "         'wakeupwithFS': 1,\n",
       "         'jbfa': 5,\n",
       "         'Tim': 3,\n",
       "         'Burtons': 1,\n",
       "         'naha': 3,\n",
       "         'brindille': 1,\n",
       "         'laquercia': 1,\n",
       "         'chefwithnoname': 1,\n",
       "         'kickhungerchallenge': 2,\n",
       "         'bears': 2,\n",
       "         '86hunger': 1,\n",
       "         'chicagobears': 2,\n",
       "         'WheelsUp': 39,\n",
       "         'WinnersFlyWheelsUp': 3,\n",
       "         'SpottedatCHS': 1,\n",
       "         'aviation': 18,\n",
       "         'NBC': 9,\n",
       "         'WheelsUpPuttsDown': 1,\n",
       "         'DadsUp': 1,\n",
       "         'BelmontStakes': 3,\n",
       "         'TBT': 389,\n",
       "         'TripleCrown': 4,\n",
       "         'RidersUp': 1,\n",
       "         'MikeSmith': 1,\n",
       "         'TheMatch': 10,\n",
       "         'ChampionsForCharity': 1,\n",
       "         'MemorialDay': 96,\n",
       "         'WheelsUpCares': 4,\n",
       "         'ONandUP': 1,\n",
       "         'MealsUp': 6,\n",
       "         'MVP': 18,\n",
       "         'CapitalOnesTheMatch': 6,\n",
       "         'FlyUp': 1,\n",
       "         'TheMat': 1,\n",
       "         'TheMatch2': 4,\n",
       "         'championsforcharity': 1,\n",
       "         'PeytonManning': 2,\n",
       "         'LoveLivesOn': 2,\n",
       "         'TAPSFam': 3,\n",
       "         'Part135': 1,\n",
       "         'COVIDー19': 266,\n",
       "         'St': 15,\n",
       "         'MEALSUP': 4,\n",
       "         'Repost': 452,\n",
       "         'W': 27,\n",
       "         'MealsUP': 2,\n",
       "         'UpTheWayYouFly': 18,\n",
       "         'flywheelsup': 1,\n",
       "         'adventuret': 1,\n",
       "         'WinnersFlyWheelsUP': 1,\n",
       "         'WomenOfAviation': 1,\n",
       "         'WomenOfWheelsUp': 1,\n",
       "         'GirlPower': 6,\n",
       "         'UEL': 330,\n",
       "         'FUT20': 36,\n",
       "         'playtogether': 3,\n",
       "         'UCLPredict': 7,\n",
       "         'UCLfinal': 365,\n",
       "         'eChampionsLeague': 8,\n",
       "         'Campe6nes': 1,\n",
       "         'UELFinal': 21,\n",
       "         'UCLShowdown': 8,\n",
       "         'FUT': 24,\n",
       "         'FIFA21': 96,\n",
       "         'UCLFinal': 92,\n",
       "         'BVBcupjersey': 1,\n",
       "         'UCL': 469,\n",
       "         'PLAwards': 11,\n",
       "         'FUT21': 19,\n",
       "         'PreSeason': 10,\n",
       "         'MLSisBack': 9,\n",
       "         'TellUsNever': 9,\n",
       "         'VOLTA': 3,\n",
       "         'ICON100': 3,\n",
       "         'USMNT': 20,\n",
       "         'PL': 138,\n",
       "         'WinAsOne': 5,\n",
       "         'MOTM': 3,\n",
       "         'LFC': 591,\n",
       "         'SummerCupSeries': 10,\n",
       "         'COYS': 266,\n",
       "         'ItAChelseaThing': 1,\n",
       "         'RaiseYourDare': 1,\n",
       "         'BHAFC': 26,\n",
       "         'TOTW': 12,\n",
       "         'OnesToWatch': 1,\n",
       "         'SummerHeat': 8,\n",
       "         'FIFA20': 44,\n",
       "         'SummerCup': 2,\n",
       "         'SummerCupSer': 1,\n",
       "         'SummerSeriesCup': 1,\n",
       "         'SummerC': 1,\n",
       "         'GilletteGamingAlliance': 1,\n",
       "         'RepublicanConvention': 93,\n",
       "         'AlexeiNavalny': 2,\n",
       "         'UkraineIndependenceDay': 1,\n",
       "         'Freedom': 27,\n",
       "         'Crime': 7,\n",
       "         'BackTheBlue': 80,\n",
       "         'Kenosha': 320,\n",
       "         'antifa': 75,\n",
       "         'Navalny': 28,\n",
       "         'FoxNews': 301,\n",
       "         'RuleBritannia': 3,\n",
       "         'lastnightoftheproms': 1,\n",
       "         'BlackRibbonDay': 4,\n",
       "         'OTD': 348,\n",
       "         'fox': 8,\n",
       "         'media': 89,\n",
       "         'cable': 2,\n",
       "         'Ratings': 1,\n",
       "         'Fox': 6,\n",
       "         'Turkey': 105,\n",
       "         'German': 17,\n",
       "         'Brexit': 136,\n",
       "         'MichelBarnier': 1,\n",
       "         'NoDealBrexit': 4,\n",
       "         'OnThisDay': 707,\n",
       "         'FamiliesFirst': 21,\n",
       "         'MSNBCLive': 5,\n",
       "         'JusticeInPolicing': 35,\n",
       "         'HeroesAct': 111,\n",
       "         'CNNSOTU': 34,\n",
       "         'DontMessWithUSPS': 56,\n",
       "         'DeliveringForAmericaAct': 5,\n",
       "         'SaveUSPS': 32,\n",
       "         'PBSNews': 3,\n",
       "         'DeadlineWH': 3,\n",
       "         'SavetheUSPS': 8,\n",
       "         'MrsCarterBirthday': 1,\n",
       "         'SocialSecurity': 11,\n",
       "         'BlackWomensEqualPayDay': 18,\n",
       "         'PaycheckFairness': 1,\n",
       "         'SaveThe600': 14,\n",
       "         'TheReidOut': 22,\n",
       "         'FoxNewsSunday': 2,\n",
       "         'JobsReport': 20,\n",
       "         'RestoreTheVote': 5,\n",
       "         'EndGunViolence': 10,\n",
       "         'ElPasoStrong': 9,\n",
       "         'AMJoy': 19,\n",
       "         'ThisWeek': 3,\n",
       "         'Medicare': 75,\n",
       "         'Medicaid': 19,\n",
       "         'AC360': 4,\n",
       "         'SaveChildCare': 8,\n",
       "         'LowerDrugCosts': 1,\n",
       "         'AmericanInjusticeBET': 1,\n",
       "         'OnWednesdaysWeWearPink': 10,\n",
       "         'WearAMask': 93,\n",
       "         'TrumpVirus': 140,\n",
       "         'SitRoom': 1,\n",
       "         'DoddFrank': 3,\n",
       "         'StrikeForBlackLives': 21,\n",
       "         'RestoreTheVRA': 4,\n",
       "         'ProtectOurCare': 18,\n",
       "         'HongKong': 172,\n",
       "         'PoliticsNation': 61,\n",
       "         'ClimateCrisis': 45,\n",
       "         'GeorgeFloydLaw': 4,\n",
       "         'ForThePeople': 26,\n",
       "         'MovingForward': 11,\n",
       "         'LowerCostsForCare': 6,\n",
       "         'MovingForw': 1,\n",
       "         'ForTheP': 1,\n",
       "         'Warof1812': 1,\n",
       "         'AmericanHistory': 4,\n",
       "         'veep': 1,\n",
       "         'TheSetUp': 1,\n",
       "         'TopicOfDiscussion': 1,\n",
       "         'WhoYouGot': 1,\n",
       "         'GOATS': 1,\n",
       "         'FACTS': 11,\n",
       "         'The13thFloor': 1,\n",
       "         'TRPE': 1,\n",
       "         'Salute': 20,\n",
       "         'Respect': 63,\n",
       "         'TheRealestPodcastEver': 1,\n",
       "         'TheBestPodcastToo': 1,\n",
       "         'LetMePutYouOn': 1,\n",
       "         '8': 104,\n",
       "         'bougie': 1,\n",
       "         'iLiveInPhillyCuz': 1,\n",
       "         'FreeThatNiggaLil': 1,\n",
       "         'zanardi': 1,\n",
       "         'Tricolore': 1,\n",
       "         '11settembre': 1,\n",
       "         'TorriGemelle': 1,\n",
       "         'Carabinieri': 2,\n",
       "         '26luglio': 1,\n",
       "         'MilanoCortina2026': 1,\n",
       "         'Olimpiadi2026': 1,\n",
       "         'amicizia': 1,\n",
       "         'stimaprofessionale': 1,\n",
       "         'network': 14,\n",
       "         'Pellissier': 2,\n",
       "         'VeronaNetwork2019': 1,\n",
       "         'Sanremo2019': 1,\n",
       "         'Bacanàl': 1,\n",
       "         'nuovieroi': 1,\n",
       "         'Mobilization': 1,\n",
       "         'Mattarella': 10,\n",
       "         'Savona': 1,\n",
       "         '3maggio': 1,\n",
       "         'LibertàDiStampa': 1,\n",
       "         'ONU': 6,\n",
       "         'agroalimentare': 1,\n",
       "         'sostenibilità': 1,\n",
       "         'parasnowboard': 1,\n",
       "         'elezioni2018': 2,\n",
       "         'Elezioni2018': 1,\n",
       "         'pantheon88': 1,\n",
       "         'sicurezza': 2,\n",
       "         'pantheon': 2,\n",
       "         'veronanetwork': 2,\n",
       "         'pantheon10anni': 1,\n",
       "         'cambiamoilcalcio': 1,\n",
       "         'innovazione': 2,\n",
       "         'tecnologia': 3,\n",
       "         'Buonenotizie': 1,\n",
       "         'DaphneCaruanaGalizia': 1,\n",
       "         'TEDxVerona': 1,\n",
       "         'TEDxLab': 1,\n",
       "         'TimeToRock': 2,\n",
       "         'Speakernews': 1,\n",
       "         'TEDxV': 1,\n",
       "         'FALCONEeBORSELLINO': 1,\n",
       "         'giornatacontrolemafie': 1,\n",
       "         'multimedia': 1,\n",
       "         'management': 13,\n",
       "         'nextgeneration': 4,\n",
       "         'future': 74,\n",
       "         'VeronaNetwork': 1,\n",
       "         'LEGO': 5,\n",
       "         '8Marzo': 1,\n",
       "         'FestaDellaDonna': 1,\n",
       "         'InternationalWomensDay': 87,\n",
       "         'baggio50': 1,\n",
       "         's': 67,\n",
       "         'Baggio': 1,\n",
       "         'AccaddeOggi': 1,\n",
       "         '50anni': 1,\n",
       "         'auguri': 1,\n",
       "         'tuttoilcalcio': 1,\n",
       "         'Tuttoilcalciominutopermi': 1,\n",
       "         'Sanremo2017': 1,\n",
       "         'sanremo2017': 1,\n",
       "         'Verona': 8,\n",
       "         'univr': 2,\n",
       "         'memoriae': 1,\n",
       "         'gior': 1,\n",
       "         'Italia': 13,\n",
       "         'Industry40': 9,\n",
       "         'patentbox': 1,\n",
       "         'CharlieHedbo': 1,\n",
       "         'Rigopiano': 2,\n",
       "         'terremotocentroitalia': 1,\n",
       "         'Veneto': 2,\n",
       "         'fablab': 1,\n",
       "         'SkySport': 9,\n",
       "         'lessinia': 1,\n",
       "         'donne': 4,\n",
       "         'scommesse': 1,\n",
       "         'PuoiScommetterci': 1,\n",
       "         '8gennaio': 1,\n",
       "         'IlCollegio': 1,\n",
       "         'darileggere': 1,\n",
       "         '1gennaio2017': 1,\n",
       "         'Papa': 5,\n",
       "         'SaveTheDate': 13,\n",
       "         'quadridicastelvecchio': 1,\n",
       "         'Berlino': 3,\n",
       "         'Ankara': 3,\n",
       "         'Terremoto': 4,\n",
       "         'Hallelujah': 3,\n",
       "         'concertodinatale': 1,\n",
       "         'raiuno': 1,\n",
       "         'XFactor': 8,\n",
       "         'Gentiloni': 1,\n",
       "         'trenistorici': 1,\n",
       "         'italianialvoto': 1,\n",
       "         'referendumcostituzionale': 2,\n",
       "         'campioniveri': 1,\n",
       "         'Formula1': 2,\n",
       "         'Salgari': 1,\n",
       "         'Referendum4dicembre': 1,\n",
       "         'pantheon75': 1,\n",
       "         'editoriale': 1,\n",
       "         'nataleinpiazza': 1,\n",
       "         'camcom': 1,\n",
       "         'contest': 46,\n",
       "         'VeronaProduce': 1,\n",
       "         'premiosalgari': 1,\n",
       "         'camera': 22,\n",
       "         'letteraturaavventurosa': 1,\n",
       "         'cultura': 11,\n",
       "         'bigfamily': 1,\n",
       "         'OpportunityZones': 18,\n",
       "         'MAGADragTheInterstate': 11,\n",
       "         'PresidentTrump': 225,\n",
       "         'HCQ': 37,\n",
       "         'USPS': 174,\n",
       "         'Bolivia': 49,\n",
       "         'IGY6': 2,\n",
       "         'FightBack': 26,\n",
       "         'China': 341,\n",
       "         'R': 38,\n",
       "         'OR04': 2,\n",
       "         'CA25': 2,\n",
       "         'Boerne': 2,\n",
       "         'StopCensorshipNOW': 1,\n",
       "         'Uyghurs': 5,\n",
       "         'TX21': 4,\n",
       "         'K': 15,\n",
       "         'covid19relief': 1,\n",
       "         'Truth': 44,\n",
       "         'StandUpForAmeric': 1,\n",
       "         '2020election': 7,\n",
       "         'GeorgeFloyd': 205,\n",
       "         'JustIn': 6,\n",
       "         'politics': 51,\n",
       "         'TedCruz': 4,\n",
       "         'USnews': 1,\n",
       "         'GAGARADIO': 8,\n",
       "         'VMAs': 128,\n",
       "         'CHANNELKINDNESS': 1,\n",
       "         'Chromatica': 42,\n",
       "         'GagaRadio': 1,\n",
       "         'GagaVision': 1,\n",
       "         'RainOnMe': 36,\n",
       "         'ElvisDragSpectacular': 3,\n",
       "         'LadyGagaxAdobe': 1,\n",
       "         'Fundrager': 1,\n",
       "         'ClubQuarantine': 6,\n",
       "         'SourCandy': 3,\n",
       "         'DearClassOf2020': 9,\n",
       "         'ChromaticaListeningParty': 2,\n",
       "         'CHROMATICA': 8,\n",
       "         'SOURCANDY': 1,\n",
       "         'AListPop': 7,\n",
       "         'RELEASED': 2,\n",
       "         'NewMusicDaily': 14,\n",
       "         'RAINONME': 13,\n",
       "         'RAINONMEMUSICVIDEO': 1,\n",
       "         'RainOnMeMusicVideo': 1,\n",
       "         'LittleMonsters': 1,\n",
       "         'rainonme': 16,\n",
       "         'BeKindBeThere': 1,\n",
       "         'withme': 3,\n",
       "         'JERSEY4JERSEY': 1,\n",
       "         'LG6': 1,\n",
       "         'TogetherAtHome': 57,\n",
       "         'G7': 26,\n",
       "         'G20': 23,\n",
       "         'PlankTheCurve': 2,\n",
       "         'GlobalCitizens': 5,\n",
       "         'CallforCode': 5,\n",
       "         'Tog': 2,\n",
       "         'AmericasFoodFund': 10,\n",
       "         'StupidLove': 2,\n",
       "         'ChannelKindness': 1,\n",
       "         'VerifiedFan': 2,\n",
       "         'CitiPresale': 2,\n",
       "         'trumpbakery': 11,\n",
       "         'birthdaycake': 4,\n",
       "         'anniversarycake': 1,\n",
       "         'celebration': 21,\n",
       "         'nationalrelaxationday': 1,\n",
       "         'trumpspa': 1,\n",
       "         'NationalLighthouseDay': 2,\n",
       "         'NationalChocolateChipCookieDay': 3,\n",
       "         'TrumpBakery': 5,\n",
       "         'NationalWatermelonDay': 5,\n",
       "         'trumpgolf': 152,\n",
       "         'sundayfunday': 20,\n",
       "         'NationalGolfMonth': 3,\n",
       "         'SaturdayMorning': 36,\n",
       "         'nationalcheesecakeday': 1,\n",
       "         'TrumpGolf': 46,\n",
       "         'OpeningDay': 77,\n",
       "         'nationalyouthsportsweek': 1,\n",
       "         'trumptennis': 1,\n",
       "         'juniorgolf': 2,\n",
       "         'juniortennis': 4,\n",
       "         'nationalicecreamday': 2,\n",
       "         'fourthofjuly': 10,\n",
       "         'redwhiteandblue': 6,\n",
       "         'TrumpTennis': 3,\n",
       "         'Tennis': 16,\n",
       "         'JuniorTennis': 6,\n",
       "         'USTA': 1,\n",
       "         'EricsCornerGrill': 1,\n",
       "         '19thHole': 1,\n",
       "         'FamilyDining': 1,\n",
       "         'weddingflorals': 1,\n",
       "         'weddingcake': 1,\n",
       "         'weddingphotographer': 3,\n",
       "         'wedding': 36,\n",
       "         'weddingwednesday': 15,\n",
       "         'FathersDay': 116,\n",
       "         'FazioFive': 2,\n",
       "         'ShortGame': 2,\n",
       "         'Par3': 1,\n",
       "         'Golf': 24,\n",
       "         'banquets': 1,\n",
       "         'bridalshower': 2,\n",
       "         'babyshower': 7,\n",
       "         'anniversary': 22,\n",
       "         'familyreunion': 2,\n",
       "         'trumpclub': 2,\n",
       "         'trumpdining': 1,\n",
       "         'outdoordining': 5,\n",
       "         'bestview': 1,\n",
       "         'lakenorman': 5,\n",
       "         'boardwalk': 5,\n",
       "         'summerstroll': 1,\n",
       "         'TrumpClub': 1,\n",
       "         'SummerFun': 1,\n",
       "         'Pool': 3,\n",
       "         'Swimming': 2,\n",
       "         'Weekend': 18,\n",
       "         'TGIF': 93,\n",
       "         'tenniscourt': 1,\n",
       "         'usta': 1,\n",
       "         'beattheheat': 2,\n",
       "         'LadiesGolf': 1,\n",
       "         'LadiesDay': 4,\n",
       "         'WeddingWednesday': 11,\n",
       "         'weddingvenue': 1,\n",
       "         'LKNwedding': 1,\n",
       "         'ballroom': 1,\n",
       "         'golfmerchandise': 1,\n",
       "         'Greyson': 2,\n",
       "         'FootJoy': 1,\n",
       "         'PeterMillar': 2,\n",
       "         'Polo': 1,\n",
       "         'NASCAR': 30,\n",
       "         'TeamPenske': 1,\n",
       "         '2for2': 1,\n",
       "         'summercamp': 2,\n",
       "         'VirtualGolfLesson': 1,\n",
       "         'FirstDayOfSpring': 3,\n",
       "         'VernalEquinox': 1,\n",
       "         'SpringGolf': 1,\n",
       "         'lakeliving': 1,\n",
       "         'nofilter': 39,\n",
       "         'icecreamsundae': 1,\n",
       "         'superbowlsunday': 2,\n",
       "         'trumpcollection': 1,\n",
       "         'trumpstore': 1,\n",
       "         'cookies': 18,\n",
       "         'cookiesforsanta': 1,\n",
       "         'christmascookies': 1,\n",
       "         'trumpculinaryteam': 2,\n",
       "         'wintermenu': 1,\n",
       "         'foodart': 2,\n",
       "         'culinary': 2,\n",
       "         'foodie': 38,\n",
       "         'foodphotography': 2,\n",
       "         'holidayshopping': 2,\n",
       "         'stressfreeshopping': 1,\n",
       "         'proshop': 1,\n",
       "         'villagespa': 2,\n",
       "         'trumpphilly': 3,\n",
       "         'VeteransDay': 49,\n",
       "         'ThankYouVeterans': 3,\n",
       "         'GodBlessAmerica': 56,\n",
       "         'NASCARPlayoffs': 2,\n",
       "         'PGAChampionsTour': 1,\n",
       "         'SchwabCupFinale': 2,\n",
       "         'embracetherain': 1,\n",
       "         'silhouette': 3,\n",
       "         'rainisgoodluck': 1,\n",
       "         'wortheverypenny': 1,\n",
       "         'carolinablue': 1,\n",
       "         'membership': 23,\n",
       "         'countryclub': 7,\n",
       "         'mooresville': 1,\n",
       "         'fall': 29,\n",
       "         'golf': 240,\n",
       "         'bestofthebest': 3,\n",
       "         'bossesday': 1,\n",
       "         'NationalDessertDay': 2,\n",
       "         'nationalfarmersday': 1,\n",
       "         'autumnequinox': 1,\n",
       "         'labordayweekend': 4,\n",
       "         'familyfun': 6,\n",
       "         'tennis': 19,\n",
       "         'swim': 7,\n",
       "         'laborday': 7,\n",
       "         'bundtcakes': 1,\n",
       "         'weekend': 65,\n",
       "         'redwhiteblue': 1,\n",
       "         'LukesLanding': 1,\n",
       "         'trumpwedding': 5,\n",
       "         'firstlook': 1,\n",
       "         'fatherofthebride': 1,\n",
       "         'PrimeDay': 18,\n",
       "         'StarsandStripes': 3,\n",
       "         'ProAm': 1,\n",
       "         'poolseason': 7,\n",
       "         'covecafe': 1,\n",
       "         'memorialdayweekend': 3,\n",
       "         'summerfun': 5,\n",
       "         'membershipperks': 1,\n",
       "         'wateraerobics': 1,\n",
       "         'memberperks': 1,\n",
       "         'AllStarRace': 5,\n",
       "         'PoliceWeek': 3,\n",
       "         'TrumpTeam': 1,\n",
       "         'kentuckyderby': 2,\n",
       "         'derbyhats': 1,\n",
       "         'partyattheclub': 1,\n",
       "         'MayDay': 13,\n",
       "         'GolfMerchendise': 1,\n",
       "         'RLXgolf': 1,\n",
       "         'NationalGolfDay': 3,\n",
       "         'GolfMembership': 2,\n",
       "         'firstanniversary': 1,\n",
       "         'weddinggoals': 1,\n",
       "         'designerwedding': 1,\n",
       "         'lakenormanwedding': 1,\n",
       "         'TomFazios': 1,\n",
       "         'trumpculinary': 1,\n",
       "         'newmenu': 3,\n",
       "         'trumpnational': 3,\n",
       "         'lunch': 18,\n",
       "         'EasterBrunch': 1,\n",
       "         'trumpteam': 1,\n",
       "         'Easter': 47,\n",
       "         'HappyEaster': 26,\n",
       "         'traditions': 5,\n",
       "         'spring': 33,\n",
       "         'brunch': 15,\n",
       "         'Starbucks': 11,\n",
       "         'Bakery': 1,\n",
       "         'Spring': 11,\n",
       "         'NewLook': 1,\n",
       "         'TrumpLogo': 1,\n",
       "         'cupcakes': 7,\n",
       "         'renovation': 5,\n",
       "         'kttape': 1,\n",
       "         'cardiogolf': 2,\n",
       "         'cardiog': 1,\n",
       "         'BirthdayCake': 1,\n",
       "         'BirthdayBlessings': 1,\n",
       "         '1stBirthday': 2,\n",
       "         'MarchMadness': 23,\n",
       "         'FirstDayofSpring': 6,\n",
       "         'Fitness': 9,\n",
       "         'SocialEvents': 1,\n",
       "         'YouthActivities': 1,\n",
       "         'StPatricksDay': 52,\n",
       "         'LuckOfTheIrish': 4,\n",
       "         '2019season': 2,\n",
       "         'CarsandCoffee': 1,\n",
       "         'classiccars': 2,\n",
       "         'TrumpCulinaryTeam': 1,\n",
       "         'fattuesday': 1,\n",
       "         'mardigras': 4,\n",
       "         'Trumpchallenge': 1,\n",
       "         'EmployeeAppreciationDay': 3,\n",
       "         'Teamwork': 6,\n",
       "         'FoldsOfHonorQuikTrip500': 1,\n",
       "         'Daytona500': 3,\n",
       "         'FedEx11': 1,\n",
       "         'valentines': 7,\n",
       "         'fruitbouquet': 2,\n",
       "         'oysterroast': 1,\n",
       "         'seafoodbuffet': 1,\n",
       "         'livemusic': 34,\n",
       "         'nationalpizzaday': 1,\n",
       "         'stjude': 6,\n",
       "         'defeatchildhoodcancer': 1,\n",
       "         'lightscape': 1,\n",
       "         'SuperBowlLIII': 4,\n",
       "         'patsvsrams': 1,\n",
       "         'bakery': 11,\n",
       "         'valentinesday': 17,\n",
       "         'springcountdown': 1,\n",
       "         'nationalpieday': 1,\n",
       "         'pie': 4,\n",
       "         'AfterPayDay': 1,\n",
       "         'KylieXNordstrom': 1,\n",
       "         'WearAD': 1,\n",
       "         'NationalLipstickDay': 10,\n",
       "         'InternationalSelfCareDay': 4,\n",
       "         'KardashianKloset': 18,\n",
       "         'KendallXKylie': 1,\n",
       "         'JusticeforGeorgeFloyd': 2,\n",
       "         'NationalSunscreenDay': 1,\n",
       "         'KylieXDouglas': 3,\n",
       "         'KYLIExDOUGLAS': 1,\n",
       "         'kuwtk': 38,\n",
       "         'kylieskin': 4,\n",
       "         'gradient': 1,\n",
       "         'DNA': 9,\n",
       "         'KUWTK': 65,\n",
       "         'Muharram': 4,\n",
       "         'TeamJoe': 21,\n",
       "         'DonaldTrumpJr': 3,\n",
       "         'TrumpSupporter': 2,\n",
       "         'HappyGaneshChaturthi': 25,\n",
       "         'GaneshaChaturthi': 5,\n",
       "         'VinayakaChaturthi': 5,\n",
       "         'ThankYouWarriors': 7,\n",
       "         'ThankYouMSDhoni': 19,\n",
       "         'MSDhoni': 34,\n",
       "         'IndependenceDay': 96,\n",
       "         'స': 6,\n",
       "         'HappyIndependenceDay': 20,\n",
       "         'COVIDWarriors': 2,\n",
       "         'Janmasthami': 1,\n",
       "         'Janmashtami': 6,\n",
       "         'krishnajanmashtami': 3,\n",
       "         'Telangana': 15,\n",
       "         'AirIndiaExpress': 8,\n",
       "         'జయశ': 1,\n",
       "         'ప': 1,\n",
       "         'hyderabad': 2,\n",
       "         'Hyderabad': 27,\n",
       "         'RakshaBandhan': 16,\n",
       "         'Rakshabandhan': 2,\n",
       "         'Thalassemia_Patients': 1,\n",
       "         'Pregna': 1,\n",
       "         'EidulAdha': 3,\n",
       "         'DonatePlasma': 1,\n",
       "         'Thalassemia_Fighters': 1,\n",
       "         'Plasma': 6,\n",
       "         'RD': 11,\n",
       "         'CNarayanaReddy': 1,\n",
       "         'urgent': 3,\n",
       "         'KalvakuntlaKavitha': 1,\n",
       "         'USuniversity': 1,\n",
       "         'Hyde': 2,\n",
       "         'TRSExMPKavitha': 1,\n",
       "         'TRSK': 1,\n",
       "         'TelanganaFCRI': 1,\n",
       "         'Dasaradhi': 1,\n",
       "         'EmergencyRequirement': 1,\n",
       "         'covid19': 499,\n",
       "         'Emergency_Requirement': 2,\n",
       "         'Vijayawada': 2,\n",
       "         'Covid_19': 321,\n",
       "         'NizamabadCitizenBuddy': 1,\n",
       "         'MissionBhagiratha': 5,\n",
       "         'TrailblazerTelangana': 1,\n",
       "         'Blood': 4,\n",
       "         'Emergency': 13,\n",
       "         'Date': 2,\n",
       "         'Jagtiala': 2,\n",
       "         'Dor': 4,\n",
       "         'Pregnancy': 2,\n",
       "         'Kalva': 1,\n",
       "         '14': 30,\n",
       "         'Nizamabad': 1,\n",
       "         'blood': 2,\n",
       "         'Secunderabad': 1,\n",
       "         'century': 2,\n",
       "         'Urgent': 2,\n",
       "         'KIMS': 1,\n",
       "         'Bombay_blood': 1,\n",
       "         'Farmer': 2,\n",
       "         'Innovation': 84,\n",
       "         'MUFC': 593,\n",
       "         'eFootballPES2021': 2,\n",
       "         '𝐌𝐔𝐓𝐕': 6,\n",
       "         'GoalOfTheDay': 49,\n",
       "         '𝙈𝙐𝙏𝙑': 10,\n",
       "         'SoccerAid': 2,\n",
       "         'WallpaperWednesday': 84,\n",
       "         'MUAcademy': 14,\n",
       "         'WorldPhotographyDay': 44,\n",
       "         'MUTV': 2,\n",
       "         'UnitedAtHome': 3,\n",
       "         'WeBringTheWorldTogether': 1,\n",
       "         'MUSummerSessions': 1,\n",
       "         'ReadyForSport': 123,\n",
       "         'FACup': 56,\n",
       "         'CarabaoCup': 17,\n",
       "         'AM9': 1,\n",
       "         'WednesdayWisdom': 164,\n",
       "         'PL2': 7,\n",
       "         'InternationalYouthDay': 28,\n",
       "         'AWB': 4,\n",
       "         'FDAInsight': 4,\n",
       "         'ALS': 11,\n",
       "         'ALSresearch': 2,\n",
       "         'DYK': 78,\n",
       "         'NationalSeniorCitizensDay': 1,\n",
       "         ...})"
      ]
     },
     "execution_count": 7,
     "metadata": {},
     "output_type": "execute_result"
    }
   ],
   "source": [
    "hashtags_count = []\n",
    "for _, hashtags in tqdm(df_train['hashtags'].iteritems(), total=len(df_train)):\n",
    "    hashtags_count += hashtags\n",
    "hashtags_count = Counter(hashtags_count)\n",
    "hashtags_count"
   ]
  },
  {
   "cell_type": "code",
   "execution_count": 8,
   "id": "00dc0f25",
   "metadata": {
    "ExecuteTime": {
     "end_time": "2022-03-24T16:34:47.560940Z",
     "start_time": "2022-03-24T16:34:47.430977Z"
    },
    "deletable": false,
    "editable": false,
    "hidden": true,
    "run_control": {
     "frozen": true
    }
   },
   "outputs": [],
   "source": [
    "hashtags_best = hashtags_count.most_common()\n",
    "hashtags_best_label = [ c[0] for c in hashtags_best ]\n",
    "hashtags_best_count = [ c[1] for c in hashtags_best ]"
   ]
  },
  {
   "cell_type": "code",
   "execution_count": 9,
   "id": "1358a297",
   "metadata": {
    "ExecuteTime": {
     "end_time": "2022-03-24T16:34:50.178569Z",
     "start_time": "2022-03-24T16:34:49.567371Z"
    },
    "deletable": false,
    "editable": false,
    "hidden": true,
    "run_control": {
     "frozen": true
    },
    "scrolled": false
   },
   "outputs": [
    {
     "data": {
      "image/png": "[encoded data removed]",
      "text/plain": [
       "<Figure size 432x288 with 1 Axes>"
      ]
     },
     "metadata": {
      "needs_background": "light"
     },
     "output_type": "display_data"
    }
   ],
   "source": [
    "fig = plt.figure()\n",
    "ax = fig.add_axes([0,0,1,1])\n",
    "ax.set_yscale('log')\n",
    "langs = list(range(100))\n",
    "students = hashtags_best_count[:100]\n",
    "ax.bar(langs,students)\n",
    "plt.show()"
   ]
  },
  {
   "cell_type": "code",
   "execution_count": null,
   "id": "2d36bf8b",
   "metadata": {
    "deletable": false,
    "editable": false,
    "hidden": true,
    "run_control": {
     "frozen": true
    }
   },
   "outputs": [],
   "source": [
    "lim = 41\n",
    "hashtags_best_label = hashtags_best_label[:lim]"
   ]
  },
  {
   "cell_type": "markdown",
   "id": "1b2176ec",
   "metadata": {
    "deletable": false,
    "editable": false,
    "hidden": true,
    "run_control": {
     "frozen": true
    }
   },
   "source": [
    "> __Wouldn't it be smarter to use hashtags from the Ukraine dataset?__"
   ]
  },
  {
   "cell_type": "code",
   "execution_count": 21,
   "id": "82ae276a",
   "metadata": {
    "ExecuteTime": {
     "end_time": "2022-03-24T16:42:02.410344Z",
     "start_time": "2022-03-24T16:42:02.333888Z"
    },
    "deletable": false,
    "editable": false,
    "hidden": true,
    "run_control": {
     "frozen": true
    }
   },
   "outputs": [
    {
     "data": {
      "text/plain": [
       "8268"
      ]
     },
     "execution_count": 21,
     "metadata": {},
     "output_type": "execute_result"
    }
   ],
   "source": [
    "# To remove if above cells are unfrozen\n",
    "hashtags_best_label = [ ht for ht, c in hashtags_count.items() if c > 10 ]\n",
    "len(hashtags_best_label)"
   ]
  },
  {
   "cell_type": "code",
   "execution_count": 22,
   "id": "28b0fa82",
   "metadata": {
    "ExecuteTime": {
     "end_time": "2022-03-24T16:42:05.128761Z",
     "start_time": "2022-03-24T16:42:04.279616Z"
    },
    "deletable": false,
    "editable": false,
    "hidden": true,
    "run_control": {
     "frozen": true
    }
   },
   "outputs": [
    {
     "name": "stdout",
     "output_type": "stream",
     "text": [
      "13.578 %\n"
     ]
    },
    {
     "data": {
      "text/plain": [
       "0    NaN\n",
       "1    NaN\n",
       "2    0.0\n",
       "3    1.0\n",
       "4    NaN\n",
       "Name: hashtags_enc, dtype: float64"
      ]
     },
     "execution_count": 22,
     "metadata": {},
     "output_type": "execute_result"
    }
   ],
   "source": [
    "hashtags_filtered = { ht: i for i, ht in enumerate(hashtags_best_label) }\n",
    "\n",
    "def encode_hashtag(hashtags: list):\n",
    "    most_common = None\n",
    "    for ht in hashtags:\n",
    "        if ht in hashtags_filtered:\n",
    "            i = hashtags_filtered[ht]\n",
    "            if most_common is None or i < most_common:\n",
    "                most_common = i\n",
    "    if most_common is None:\n",
    "        most_common = np.nan\n",
    "    return most_common\n",
    "\n",
    "df_train['hashtags_enc'] = df_train['hashtags'].apply(encode_hashtag)\n",
    "df_test['hashtags_enc'] = df_test['hashtags'].apply(encode_hashtag)\n",
    "print(round(100 * df_train['hashtags_enc'].count() / len(df_train['hashtags_enc']), 3), \"%\")\n",
    "df_train['hashtags_enc'].head()"
   ]
  },
  {
   "cell_type": "code",
   "execution_count": null,
   "id": "3045ac1f",
   "metadata": {
    "hidden": true
   },
   "outputs": [],
   "source": []
  },
  {
   "cell_type": "code",
   "execution_count": null,
   "id": "71d01b39",
   "metadata": {
    "ExecuteTime": {
     "end_time": "2022-03-29T10:55:52.680949Z",
     "start_time": "2022-03-29T10:55:52.680949Z"
    },
    "hidden": true
   },
   "outputs": [],
   "source": [
    "import spacy\n",
    "nlp = spacy.load('en_core_web_sm')\n",
    "#TODO preprocess the corpus using spacy or load the pre-processed corpus\n",
    "\n",
    "def preprocess(text, nlp=nlp):\n",
    "    return [\n",
    "        token for token in nlp(text)\n",
    "        if not token.is_punct and not token.is_stop\n",
    "    ]\n",
    "\n",
    "df['text_clean'] = df['text'].progress_apply(preprocess)\n",
    "df['text_clean'].head()"
   ]
  },
  {
   "cell_type": "code",
   "execution_count": null,
   "id": "907f0796",
   "metadata": {
    "ExecuteTime": {
     "end_time": "2022-03-29T10:55:52.680949Z",
     "start_time": "2022-03-29T10:55:52.680949Z"
    },
    "hidden": true
   },
   "outputs": [],
   "source": [
    "from sklearn.feature_extraction.text import TfidfVectorizer\n",
    "tfidf = TfidfVectorizer()\n",
    "X_tfidf = tfidf.fit_transform(dfs['text'])"
   ]
  },
  {
   "cell_type": "code",
   "execution_count": null,
   "id": "beb433d7",
   "metadata": {
    "ExecuteTime": {
     "end_time": "2022-03-29T10:55:52.680949Z",
     "start_time": "2022-03-29T10:55:52.680949Z"
    },
    "hidden": true
   },
   "outputs": [],
   "source": [
    "from gensim.models import Word2Vec\n",
    "\n",
    "##TODO train a word2vec model on this dataset, only consider words which appear at least 10 times in the corpus\n",
    "w2v = Word2Vec(dataset, min_count=10)"
   ]
  },
  {
   "cell_type": "code",
   "execution_count": null,
   "id": "060e6ac7",
   "metadata": {
    "hidden": true
   },
   "outputs": [],
   "source": []
  },
  {
   "cell_type": "code",
   "execution_count": null,
   "id": "82e3d5b5",
   "metadata": {
    "ExecuteTime": {
     "end_time": "2022-03-29T10:55:52.696572Z",
     "start_time": "2022-03-29T10:55:52.696572Z"
    },
    "hidden": true
   },
   "outputs": [],
   "source": [
    "text = extract_artefacts(df_train.iloc[0]['tweet'])[0]\n",
    "text"
   ]
  },
  {
   "cell_type": "markdown",
   "id": "43ecd19e",
   "metadata": {
    "hidden": true
   },
   "source": [
    "> Doc2Vec"
   ]
  },
  {
   "cell_type": "code",
   "execution_count": null,
   "id": "eebe8a7c",
   "metadata": {
    "ExecuteTime": {
     "end_time": "2022-03-29T10:55:52.696572Z",
     "start_time": "2022-03-29T10:55:52.696572Z"
    },
    "hidden": true
   },
   "outputs": [],
   "source": [
    "from nltk import word_tokenize\n",
    "from gensim.models.doc2vec import Doc2Vec, TaggedDocument\n",
    "\n",
    "doc = [TaggedDocument(word_tokenize(text), [0])]\n",
    "d2v = Doc2Vec(doc,\n",
    "                min_count=10, # minimum word count\n",
    "                window=10,    # window size\n",
    "                vector_size=100, # size of document vector\n",
    "                sample=1e-4, \n",
    "                negative=5, \n",
    "                workers=4, # threads\n",
    "                #dbow_words = 1 # uncomment to get word vectors too\n",
    "                max_vocab_size=1000) # max vocab size\n",
    "                     \n",
    "D = d2v.docvecs.vectors_docs"
   ]
  },
  {
   "cell_type": "markdown",
   "id": "73279934",
   "metadata": {
    "hidden": true
   },
   "source": [
    "> SpaCy"
   ]
  },
  {
   "cell_type": "code",
   "execution_count": null,
   "id": "f4b6d266",
   "metadata": {
    "ExecuteTime": {
     "end_time": "2022-03-29T10:55:52.696572Z",
     "start_time": "2022-03-29T10:55:52.696572Z"
    },
    "hidden": true
   },
   "outputs": [],
   "source": [
    "import spacy\n",
    "nlp = spacy.load('en_core_web_sm')\n",
    "\n",
    "nlp(text).vector"
   ]
  },
  {
   "cell_type": "markdown",
   "id": "f33233cd",
   "metadata": {
    "hidden": true
   },
   "source": [
    "> Tensorflow"
   ]
  },
  {
   "cell_type": "code",
   "execution_count": null,
   "id": "434e8fde",
   "metadata": {
    "ExecuteTime": {
     "end_time": "2022-03-29T10:55:52.696572Z",
     "start_time": "2022-03-29T10:55:52.696572Z"
    },
    "hidden": true
   },
   "outputs": [],
   "source": [
    "import tensorflow.compat.v1 as tf\n",
    "tf.disable_eager_execution()\n",
    "\n",
    "import tensorflow_hub as hub\n",
    "import numpy as np\n",
    "\n",
    "module_url = \"https://tfhub.dev/google/universal-sentence-encoder/4\"\n",
    "model = hub.load(module_url)"
   ]
  },
  {
   "cell_type": "code",
   "execution_count": null,
   "id": "32179828",
   "metadata": {
    "ExecuteTime": {
     "end_time": "2022-03-29T10:55:52.696572Z",
     "start_time": "2022-03-29T10:55:52.696572Z"
    },
    "hidden": true
   },
   "outputs": [],
   "source": [
    "embeddings = model(text)\n",
    "\n",
    "with tf.Session() as session:\n",
    "    session.run([ tf.global_variables_initializer(), tf.tables_initializer() ])\n",
    "    text_encoded = session.run(embeddings)"
   ]
  },
  {
   "cell_type": "markdown",
   "id": "0c4f10d2",
   "metadata": {
    "hidden": true
   },
   "source": [
    "> Transformers"
   ]
  },
  {
   "cell_type": "code",
   "execution_count": null,
   "id": "13fb3de2",
   "metadata": {
    "ExecuteTime": {
     "end_time": "2022-03-29T10:55:52.696572Z",
     "start_time": "2022-03-29T10:55:52.696572Z"
    },
    "hidden": true
   },
   "outputs": [],
   "source": [
    "from sentence_transformers import SentenceTransformer\n",
    "model = \"bert-base-nli-mean-tokens\"\n",
    "embedder = SentenceTransformer(model)"
   ]
  },
  {
   "cell_type": "code",
   "execution_count": null,
   "id": "d64caebe",
   "metadata": {
    "ExecuteTime": {
     "end_time": "2022-03-29T10:55:52.696572Z",
     "start_time": "2022-03-29T10:55:52.696572Z"
    },
    "hidden": true
   },
   "outputs": [],
   "source": [
    "text_encoded = embedder.encode(text)\n",
    "text_encoded"
   ]
  },
  {
   "cell_type": "code",
   "execution_count": null,
   "id": "21ad01b9",
   "metadata": {
    "hidden": true
   },
   "outputs": [],
   "source": []
  },
  {
   "cell_type": "markdown",
   "id": "ad864ad3",
   "metadata": {
    "heading_collapsed": true
   },
   "source": [
    "# Train final model on several subsample of data (change proportion of bots in dataset)"
   ]
  },
  {
   "cell_type": "code",
   "execution_count": null,
   "id": "0ecd4ffd",
   "metadata": {
    "hidden": true
   },
   "outputs": [],
   "source": []
  }
 ],
 "metadata": {
  "kernelspec": {
   "display_name": "Python 3 (ipykernel)",
   "language": "python",
   "name": "python3"
  },
  "language_info": {
   "codemirror_mode": {
    "name": "ipython",
    "version": 3
   },
   "file_extension": ".py",
   "mimetype": "text/x-python",
   "name": "python",
   "nbconvert_exporter": "python",
   "pygments_lexer": "ipython3",
   "version": "3.9.5"
  },
  "toc": {
   "base_numbering": 1,
   "nav_menu": {},
   "number_sections": true,
   "sideBar": true,
   "skip_h1_title": false,
   "title_cell": "Table of Contents",
   "title_sidebar": "Contents",
   "toc_cell": false,
   "toc_position": {},
   "toc_section_display": true,
   "toc_window_display": false
  },
  "varInspector": {
   "cols": {
    "lenName": 16,
    "lenType": 16,
    "lenVar": 40
   },
   "kernels_config": {
    "python": {
     "delete_cmd_postfix": "",
     "delete_cmd_prefix": "del ",
     "library": "var_list.py",
     "varRefreshCmd": "print(var_dic_list())"
    },
    "r": {
     "delete_cmd_postfix": ") ",
     "delete_cmd_prefix": "rm(",
     "library": "var_list.r",
     "varRefreshCmd": "cat(var_dic_list()) "
    }
   },
   "types_to_exclude": [
    "module",
    "function",
    "builtin_function_or_method",
    "instance",
    "_Feature"
   ],
   "window_display": true
  }
 },
 "nbformat": 4,
 "nbformat_minor": 5
}
