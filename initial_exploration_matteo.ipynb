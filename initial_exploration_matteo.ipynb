{
  "nbformat": 4,
  "nbformat_minor": 0,
  "metadata": {
    "colab": {
      "name": "gess_01.ipynb",
      "provenance": [],
      "machine_shape": "hm"
    },
    "kernelspec": {
      "name": "python3",
      "display_name": "Python 3"
    },
    "language_info": {
      "name": "python"
    },
    "accelerator": "GPU"
  },
  "cells": [
    {
      "cell_type": "markdown",
      "source": [
        "### **SETUP**"
      ],
      "metadata": {
        "id": "a10cq8SzbKk1"
      }
    },
    {
      "cell_type": "code",
      "source": [
        "!pip install emoji"
      ],
      "metadata": {
        "colab": {
          "base_uri": "https://localhost:8080/"
        },
        "id": "V-XbNQcFbDXy",
        "outputId": "08286ebe-6163-48d7-89bc-eed00232cfd1"
      },
      "execution_count": 99,
      "outputs": [
        {
          "output_type": "stream",
          "name": "stdout",
          "text": [
            "Requirement already satisfied: emoji in /usr/local/lib/python3.7/dist-packages (1.7.0)\n"
          ]
        }
      ]
    },
    {
      "cell_type": "code",
      "execution_count": 211,
      "metadata": {
        "id": "kBc_Yov1Wuvy"
      },
      "outputs": [],
      "source": [
        "import pandas as pd\n",
        "import numpy as np\n",
        "import nltk\n",
        "import json\n",
        "import torch\n",
        "from sklearn.metrics import accuracy_score, f1_score, roc_auc_score\n",
        "from sklearn.preprocessing import LabelEncoder\n",
        "\n",
        "from keras import optimizers, losses, activations, models\n",
        "from keras.callbacks import ModelCheckpoint, EarlyStopping, LearningRateScheduler, ReduceLROnPlateau\n",
        "from keras.layers import Dense, Input, Dropout, Convolution1D, MaxPool1D, GlobalMaxPool1D, GlobalAveragePooling1D, concatenate\n",
        "from sklearn.metrics import f1_score, accuracy_score\n",
        "\n",
        "import tensorflow as tf\n",
        "from keras import Input, Model, layers\n",
        "from keras.models import Sequential\n",
        "from keras.layers import Dense, Flatten\n",
        "from keras import losses\n",
        "from tensorflow import keras\n",
        "from keras.callbacks import EarlyStopping\n",
        "\n",
        "from keras.models import Sequential\n",
        "from keras.layers import Dense, Activation, Dropout, Conv1D, GlobalAveragePooling1D, MaxPooling1D\n",
        "from keras import regularizers\n",
        "from keras.utils import np_utils\n",
        "from keras import utils\n",
        "from sklearn.model_selection import train_test_split\n",
        "from sklearn import preprocessing\n",
        "\n",
        "import re\n",
        "\n",
        "import emoji\n",
        "\n",
        "import os\n",
        "\n",
        "import datetime\n",
        "from datetime import timezone"
      ]
    },
    {
      "cell_type": "code",
      "source": [
        "from google.colab import drive\n",
        "drive.mount('/content/drive')"
      ],
      "metadata": {
        "colab": {
          "base_uri": "https://localhost:8080/"
        },
        "id": "lttLCFP8W839",
        "outputId": "bb305725-b735-45e5-a834-c408b7b07600"
      },
      "execution_count": 101,
      "outputs": [
        {
          "output_type": "stream",
          "name": "stdout",
          "text": [
            "Drive already mounted at /content/drive; to attempt to forcibly remount, call drive.mount(\"/content/drive\", force_remount=True).\n"
          ]
        }
      ]
    },
    {
      "cell_type": "code",
      "source": [
        "PATH = '/content/drive/MyDrive/GESS/Twibot-20/{}.json'\n",
        "DATE_REF = \"2021-01-01\""
      ],
      "metadata": {
        "id": "TcqpTfC3a02A"
      },
      "execution_count": 102,
      "outputs": []
    },
    {
      "cell_type": "markdown",
      "source": [
        "### **READ AND PRE-PROCESS THE DATA**"
      ],
      "metadata": {
        "id": "LzUj-hiZbUCI"
      }
    },
    {
      "cell_type": "code",
      "source": [
        "def strip_emoji(text):\n",
        "    new_text = re.sub(emoji.get_emoji_regexp(), r\"\", text)\n",
        "    return new_text\n",
        "def remove_links(text):\n",
        "    return re.sub(r'http\\S+', '', text)"
      ],
      "metadata": {
        "id": "8WGCuBqVW5Ee"
      },
      "execution_count": 6,
      "outputs": []
    },
    {
      "cell_type": "code",
      "source": [
        "def extract_following(neighbors: dict):\n",
        "    if neighbors is None:\n",
        "        return np.nan\n",
        "    return neighbors.get('following', np.nan)\n",
        "\n",
        "def extract_followers(neighbors: dict):\n",
        "    if neighbors is None:\n",
        "        return np.nan\n",
        "    return neighbors.get('follower', np.nan) \n",
        "    \n",
        "\n",
        "def build_df(filename: str):\n",
        "    \n",
        "    with open(PATH.format(filename)) as f:\n",
        "        data = json.load(f)\n",
        "        \n",
        "    df = pd.DataFrame.from_dict(data)\n",
        "    df_profile = pd.DataFrame.from_dict(df['profile'].values.tolist())\n",
        "    df = pd.concat([ df, df_profile ], axis=1)\n",
        "\n",
        "    df = df[[\n",
        "        'id', 'screen_name', 'location', 'followers_count',\n",
        "        'friends_count', 'statuses_count', 'created_at',\n",
        "        'tweet', 'label'\n",
        "    ]]\n",
        "\n",
        "    df['id'] = df['id'].astype(str).str.strip()\n",
        "    df['screen_name'] = df['screen_name'].astype(str).str.strip()\n",
        "    df['location'] = df['location'].astype(str).str.strip()\n",
        "\n",
        "    # scale the follower count between 0 and 1\n",
        "    x = df['followers_count'].astype(int).values.reshape(-1,1) \n",
        "    min_max_scaler = preprocessing.MinMaxScaler()\n",
        "    x_scaled = min_max_scaler.fit_transform(x)\n",
        "    df['followers_count'] = pd.DataFrame(x_scaled)\n",
        "\n",
        "    # scale the friends count between 0 and 1\n",
        "    x = df['friends_count'].astype(int).values.reshape(-1,1) \n",
        "    min_max_scaler = preprocessing.MinMaxScaler()\n",
        "    x_scaled = min_max_scaler.fit_transform(x)\n",
        "    df['friends_count'] = pd.DataFrame(x_scaled)\n",
        "    \n",
        "    # scale the statuses count between 0 and 1\n",
        "    x = df['statuses_count'].astype(int).values.reshape(-1,1) \n",
        "    min_max_scaler = preprocessing.MinMaxScaler()\n",
        "    x_scaled = min_max_scaler.fit_transform(x)\n",
        "    df['statuses_count'] = pd.DataFrame(x_scaled)\n",
        "    \n",
        "    df.loc[df['location'] == \"\", 'location'] = np.nan\n",
        "    le = LabelEncoder()\n",
        "    le.fit(df['location'].unique())\n",
        "    df['location_enc'] = le.transform(df['location'])\n",
        "    \n",
        "    # compute the number of seconds ellapsed since 1 January 2005 form when the\n",
        "    # account has been created\n",
        "    seconds = pd.to_datetime(df['created_at'], utc=True)\n",
        "    seconds = seconds - datetime.datetime(2005, 1, 1, tzinfo=timezone.utc)\n",
        "    seconds = seconds.map(lambda x: x.total_seconds())\n",
        "    df['created_at'] = seconds\n",
        "    # scale these values between 0 and 1\n",
        "    x = df['created_at'].values.reshape(-1,1) \n",
        "    min_max_scaler = preprocessing.MinMaxScaler()\n",
        "    x_scaled = min_max_scaler.fit_transform(x)\n",
        "    df['created_at'] = pd.DataFrame(x_scaled)\n",
        "\n",
        "    df = df.explode('tweet').reset_index(drop=True)\n",
        "    df['tweet'] = df['tweet'].astype(str).str.strip()\n",
        "    df['label'] = df['label'].astype(int)\n",
        "    \n",
        "    print(df.shape)\n",
        "    return df"
      ],
      "metadata": {
        "id": "y-WAE4xoazWp"
      },
      "execution_count": 254,
      "outputs": []
    },
    {
      "cell_type": "code",
      "source": [
        "# build the training and test set\n",
        "df_train = build_df('train')\n",
        "df_test = build_df('test')"
      ],
      "metadata": {
        "colab": {
          "base_uri": "https://localhost:8080/"
        },
        "id": "S5phJOHdbh-e",
        "outputId": "30f14e6b-6648-48f6-e6bb-076a447d8470"
      },
      "execution_count": 255,
      "outputs": [
        {
          "output_type": "stream",
          "name": "stdout",
          "text": [
            "(1398465, 10)\n",
            "(199863, 10)\n"
          ]
        }
      ]
    },
    {
      "cell_type": "code",
      "source": [
        "df_train.head()"
      ],
      "metadata": {
        "colab": {
          "base_uri": "https://localhost:8080/",
          "height": 204
        },
        "id": "aWpuzzJcaMeq",
        "outputId": "f86385ee-9f59-4d36-99fe-0c1ffb76df35"
      },
      "execution_count": 257,
      "outputs": [
        {
          "output_type": "execute_result",
          "data": {
            "text/plain": [
              "         id screen_name     location  followers_count  friends_count  \\\n",
              "0  17461978        SHAQ  Orlando, FL         0.136558       0.000159   \n",
              "1  17461978        SHAQ  Orlando, FL         0.136558       0.000159   \n",
              "2  17461978        SHAQ  Orlando, FL         0.136558       0.000159   \n",
              "3  17461978        SHAQ  Orlando, FL         0.136558       0.000159   \n",
              "4  17461978        SHAQ  Orlando, FL         0.136558       0.000159   \n",
              "\n",
              "   statuses_count  created_at  \\\n",
              "0        0.001906    0.184182   \n",
              "1        0.001906    0.184182   \n",
              "2        0.001906    0.184182   \n",
              "3        0.001906    0.184182   \n",
              "4        0.001906    0.184182   \n",
              "\n",
              "                                               tweet  label  location_enc  \n",
              "0  RT @CarnivalCruise: 🎉 Are you ready to see wha...      0          1872  \n",
              "1  Who has time for receipts? Not me. @epson rece...      0          1872  \n",
              "2  Steady wants to encourage you to invest in you...      0          1872  \n",
              "3  Good one, @rishid. But let’s see if y'all can ...      0          1872  \n",
              "4                                 #lsunationalchamps      0          1872  "
            ],
            "text/html": [
              "\n",
              "  <div id=\"df-8a4d10dd-639d-426c-979f-7d69ef1930dd\">\n",
              "    <div class=\"colab-df-container\">\n",
              "      <div>\n",
              "<style scoped>\n",
              "    .dataframe tbody tr th:only-of-type {\n",
              "        vertical-align: middle;\n",
              "    }\n",
              "\n",
              "    .dataframe tbody tr th {\n",
              "        vertical-align: top;\n",
              "    }\n",
              "\n",
              "    .dataframe thead th {\n",
              "        text-align: right;\n",
              "    }\n",
              "</style>\n",
              "<table border=\"1\" class=\"dataframe\">\n",
              "  <thead>\n",
              "    <tr style=\"text-align: right;\">\n",
              "      <th></th>\n",
              "      <th>id</th>\n",
              "      <th>screen_name</th>\n",
              "      <th>location</th>\n",
              "      <th>followers_count</th>\n",
              "      <th>friends_count</th>\n",
              "      <th>statuses_count</th>\n",
              "      <th>created_at</th>\n",
              "      <th>tweet</th>\n",
              "      <th>label</th>\n",
              "      <th>location_enc</th>\n",
              "    </tr>\n",
              "  </thead>\n",
              "  <tbody>\n",
              "    <tr>\n",
              "      <th>0</th>\n",
              "      <td>17461978</td>\n",
              "      <td>SHAQ</td>\n",
              "      <td>Orlando, FL</td>\n",
              "      <td>0.136558</td>\n",
              "      <td>0.000159</td>\n",
              "      <td>0.001906</td>\n",
              "      <td>0.184182</td>\n",
              "      <td>RT @CarnivalCruise: 🎉 Are you ready to see wha...</td>\n",
              "      <td>0</td>\n",
              "      <td>1872</td>\n",
              "    </tr>\n",
              "    <tr>\n",
              "      <th>1</th>\n",
              "      <td>17461978</td>\n",
              "      <td>SHAQ</td>\n",
              "      <td>Orlando, FL</td>\n",
              "      <td>0.136558</td>\n",
              "      <td>0.000159</td>\n",
              "      <td>0.001906</td>\n",
              "      <td>0.184182</td>\n",
              "      <td>Who has time for receipts? Not me. @epson rece...</td>\n",
              "      <td>0</td>\n",
              "      <td>1872</td>\n",
              "    </tr>\n",
              "    <tr>\n",
              "      <th>2</th>\n",
              "      <td>17461978</td>\n",
              "      <td>SHAQ</td>\n",
              "      <td>Orlando, FL</td>\n",
              "      <td>0.136558</td>\n",
              "      <td>0.000159</td>\n",
              "      <td>0.001906</td>\n",
              "      <td>0.184182</td>\n",
              "      <td>Steady wants to encourage you to invest in you...</td>\n",
              "      <td>0</td>\n",
              "      <td>1872</td>\n",
              "    </tr>\n",
              "    <tr>\n",
              "      <th>3</th>\n",
              "      <td>17461978</td>\n",
              "      <td>SHAQ</td>\n",
              "      <td>Orlando, FL</td>\n",
              "      <td>0.136558</td>\n",
              "      <td>0.000159</td>\n",
              "      <td>0.001906</td>\n",
              "      <td>0.184182</td>\n",
              "      <td>Good one, @rishid. But let’s see if y'all can ...</td>\n",
              "      <td>0</td>\n",
              "      <td>1872</td>\n",
              "    </tr>\n",
              "    <tr>\n",
              "      <th>4</th>\n",
              "      <td>17461978</td>\n",
              "      <td>SHAQ</td>\n",
              "      <td>Orlando, FL</td>\n",
              "      <td>0.136558</td>\n",
              "      <td>0.000159</td>\n",
              "      <td>0.001906</td>\n",
              "      <td>0.184182</td>\n",
              "      <td>#lsunationalchamps</td>\n",
              "      <td>0</td>\n",
              "      <td>1872</td>\n",
              "    </tr>\n",
              "  </tbody>\n",
              "</table>\n",
              "</div>\n",
              "      <button class=\"colab-df-convert\" onclick=\"convertToInteractive('df-8a4d10dd-639d-426c-979f-7d69ef1930dd')\"\n",
              "              title=\"Convert this dataframe to an interactive table.\"\n",
              "              style=\"display:none;\">\n",
              "        \n",
              "  <svg xmlns=\"http://www.w3.org/2000/svg\" height=\"24px\"viewBox=\"0 0 24 24\"\n",
              "       width=\"24px\">\n",
              "    <path d=\"M0 0h24v24H0V0z\" fill=\"none\"/>\n",
              "    <path d=\"M18.56 5.44l.94 2.06.94-2.06 2.06-.94-2.06-.94-.94-2.06-.94 2.06-2.06.94zm-11 1L8.5 8.5l.94-2.06 2.06-.94-2.06-.94L8.5 2.5l-.94 2.06-2.06.94zm10 10l.94 2.06.94-2.06 2.06-.94-2.06-.94-.94-2.06-.94 2.06-2.06.94z\"/><path d=\"M17.41 7.96l-1.37-1.37c-.4-.4-.92-.59-1.43-.59-.52 0-1.04.2-1.43.59L10.3 9.45l-7.72 7.72c-.78.78-.78 2.05 0 2.83L4 21.41c.39.39.9.59 1.41.59.51 0 1.02-.2 1.41-.59l7.78-7.78 2.81-2.81c.8-.78.8-2.07 0-2.86zM5.41 20L4 18.59l7.72-7.72 1.47 1.35L5.41 20z\"/>\n",
              "  </svg>\n",
              "      </button>\n",
              "      \n",
              "  <style>\n",
              "    .colab-df-container {\n",
              "      display:flex;\n",
              "      flex-wrap:wrap;\n",
              "      gap: 12px;\n",
              "    }\n",
              "\n",
              "    .colab-df-convert {\n",
              "      background-color: #E8F0FE;\n",
              "      border: none;\n",
              "      border-radius: 50%;\n",
              "      cursor: pointer;\n",
              "      display: none;\n",
              "      fill: #1967D2;\n",
              "      height: 32px;\n",
              "      padding: 0 0 0 0;\n",
              "      width: 32px;\n",
              "    }\n",
              "\n",
              "    .colab-df-convert:hover {\n",
              "      background-color: #E2EBFA;\n",
              "      box-shadow: 0px 1px 2px rgba(60, 64, 67, 0.3), 0px 1px 3px 1px rgba(60, 64, 67, 0.15);\n",
              "      fill: #174EA6;\n",
              "    }\n",
              "\n",
              "    [theme=dark] .colab-df-convert {\n",
              "      background-color: #3B4455;\n",
              "      fill: #D2E3FC;\n",
              "    }\n",
              "\n",
              "    [theme=dark] .colab-df-convert:hover {\n",
              "      background-color: #434B5C;\n",
              "      box-shadow: 0px 1px 3px 1px rgba(0, 0, 0, 0.15);\n",
              "      filter: drop-shadow(0px 1px 2px rgba(0, 0, 0, 0.3));\n",
              "      fill: #FFFFFF;\n",
              "    }\n",
              "  </style>\n",
              "\n",
              "      <script>\n",
              "        const buttonEl =\n",
              "          document.querySelector('#df-8a4d10dd-639d-426c-979f-7d69ef1930dd button.colab-df-convert');\n",
              "        buttonEl.style.display =\n",
              "          google.colab.kernel.accessAllowed ? 'block' : 'none';\n",
              "\n",
              "        async function convertToInteractive(key) {\n",
              "          const element = document.querySelector('#df-8a4d10dd-639d-426c-979f-7d69ef1930dd');\n",
              "          const dataTable =\n",
              "            await google.colab.kernel.invokeFunction('convertToInteractive',\n",
              "                                                     [key], {});\n",
              "          if (!dataTable) return;\n",
              "\n",
              "          const docLinkHtml = 'Like what you see? Visit the ' +\n",
              "            '<a target=\"_blank\" href=https://colab.research.google.com/notebooks/data_table.ipynb>data table notebook</a>'\n",
              "            + ' to learn more about interactive tables.';\n",
              "          element.innerHTML = '';\n",
              "          dataTable['output_type'] = 'display_data';\n",
              "          await google.colab.output.renderOutput(dataTable, element);\n",
              "          const docLink = document.createElement('div');\n",
              "          docLink.innerHTML = docLinkHtml;\n",
              "          element.appendChild(docLink);\n",
              "        }\n",
              "      </script>\n",
              "    </div>\n",
              "  </div>\n",
              "  "
            ]
          },
          "metadata": {},
          "execution_count": 257
        }
      ]
    },
    {
      "cell_type": "code",
      "source": [
        "# drop some columns not needed for training for the training set\n",
        "df_train_users = df_train.drop([ 'tweet', 'location', 'screen_name', 'id' ], axis=1).drop_duplicates()\n",
        "df_train_users = df_train_users.reset_index(drop=True)\n",
        "print(df_train_users.shape)\n",
        "df_train_users.head()"
      ],
      "metadata": {
        "colab": {
          "base_uri": "https://localhost:8080/",
          "height": 221
        },
        "id": "xLgVzrbtgcbn",
        "outputId": "43546c9f-3c8e-429e-82fe-1afb7f1c0ed3"
      },
      "execution_count": 258,
      "outputs": [
        {
          "output_type": "stream",
          "name": "stdout",
          "text": [
            "(8278, 6)\n"
          ]
        },
        {
          "output_type": "execute_result",
          "data": {
            "text/plain": [
              "   followers_count  friends_count  statuses_count  created_at  label  \\\n",
              "0         0.136558       0.000159        0.001906    0.184182      0   \n",
              "1         0.000000       0.000010        0.000000    0.997725      1   \n",
              "2         0.006787       0.000109        0.001074    0.185952      0   \n",
              "3         0.002914       0.001106        0.037524    0.164524      0   \n",
              "4         0.000119       0.000149        0.000020    0.510992      1   \n",
              "\n",
              "   location_enc  \n",
              "0          1872  \n",
              "1          3130  \n",
              "2           876  \n",
              "3          2440  \n",
              "4          1185  "
            ],
            "text/html": [
              "\n",
              "  <div id=\"df-47865787-6be6-4913-97ed-462ea34437da\">\n",
              "    <div class=\"colab-df-container\">\n",
              "      <div>\n",
              "<style scoped>\n",
              "    .dataframe tbody tr th:only-of-type {\n",
              "        vertical-align: middle;\n",
              "    }\n",
              "\n",
              "    .dataframe tbody tr th {\n",
              "        vertical-align: top;\n",
              "    }\n",
              "\n",
              "    .dataframe thead th {\n",
              "        text-align: right;\n",
              "    }\n",
              "</style>\n",
              "<table border=\"1\" class=\"dataframe\">\n",
              "  <thead>\n",
              "    <tr style=\"text-align: right;\">\n",
              "      <th></th>\n",
              "      <th>followers_count</th>\n",
              "      <th>friends_count</th>\n",
              "      <th>statuses_count</th>\n",
              "      <th>created_at</th>\n",
              "      <th>label</th>\n",
              "      <th>location_enc</th>\n",
              "    </tr>\n",
              "  </thead>\n",
              "  <tbody>\n",
              "    <tr>\n",
              "      <th>0</th>\n",
              "      <td>0.136558</td>\n",
              "      <td>0.000159</td>\n",
              "      <td>0.001906</td>\n",
              "      <td>0.184182</td>\n",
              "      <td>0</td>\n",
              "      <td>1872</td>\n",
              "    </tr>\n",
              "    <tr>\n",
              "      <th>1</th>\n",
              "      <td>0.000000</td>\n",
              "      <td>0.000010</td>\n",
              "      <td>0.000000</td>\n",
              "      <td>0.997725</td>\n",
              "      <td>1</td>\n",
              "      <td>3130</td>\n",
              "    </tr>\n",
              "    <tr>\n",
              "      <th>2</th>\n",
              "      <td>0.006787</td>\n",
              "      <td>0.000109</td>\n",
              "      <td>0.001074</td>\n",
              "      <td>0.185952</td>\n",
              "      <td>0</td>\n",
              "      <td>876</td>\n",
              "    </tr>\n",
              "    <tr>\n",
              "      <th>3</th>\n",
              "      <td>0.002914</td>\n",
              "      <td>0.001106</td>\n",
              "      <td>0.037524</td>\n",
              "      <td>0.164524</td>\n",
              "      <td>0</td>\n",
              "      <td>2440</td>\n",
              "    </tr>\n",
              "    <tr>\n",
              "      <th>4</th>\n",
              "      <td>0.000119</td>\n",
              "      <td>0.000149</td>\n",
              "      <td>0.000020</td>\n",
              "      <td>0.510992</td>\n",
              "      <td>1</td>\n",
              "      <td>1185</td>\n",
              "    </tr>\n",
              "  </tbody>\n",
              "</table>\n",
              "</div>\n",
              "      <button class=\"colab-df-convert\" onclick=\"convertToInteractive('df-47865787-6be6-4913-97ed-462ea34437da')\"\n",
              "              title=\"Convert this dataframe to an interactive table.\"\n",
              "              style=\"display:none;\">\n",
              "        \n",
              "  <svg xmlns=\"http://www.w3.org/2000/svg\" height=\"24px\"viewBox=\"0 0 24 24\"\n",
              "       width=\"24px\">\n",
              "    <path d=\"M0 0h24v24H0V0z\" fill=\"none\"/>\n",
              "    <path d=\"M18.56 5.44l.94 2.06.94-2.06 2.06-.94-2.06-.94-.94-2.06-.94 2.06-2.06.94zm-11 1L8.5 8.5l.94-2.06 2.06-.94-2.06-.94L8.5 2.5l-.94 2.06-2.06.94zm10 10l.94 2.06.94-2.06 2.06-.94-2.06-.94-.94-2.06-.94 2.06-2.06.94z\"/><path d=\"M17.41 7.96l-1.37-1.37c-.4-.4-.92-.59-1.43-.59-.52 0-1.04.2-1.43.59L10.3 9.45l-7.72 7.72c-.78.78-.78 2.05 0 2.83L4 21.41c.39.39.9.59 1.41.59.51 0 1.02-.2 1.41-.59l7.78-7.78 2.81-2.81c.8-.78.8-2.07 0-2.86zM5.41 20L4 18.59l7.72-7.72 1.47 1.35L5.41 20z\"/>\n",
              "  </svg>\n",
              "      </button>\n",
              "      \n",
              "  <style>\n",
              "    .colab-df-container {\n",
              "      display:flex;\n",
              "      flex-wrap:wrap;\n",
              "      gap: 12px;\n",
              "    }\n",
              "\n",
              "    .colab-df-convert {\n",
              "      background-color: #E8F0FE;\n",
              "      border: none;\n",
              "      border-radius: 50%;\n",
              "      cursor: pointer;\n",
              "      display: none;\n",
              "      fill: #1967D2;\n",
              "      height: 32px;\n",
              "      padding: 0 0 0 0;\n",
              "      width: 32px;\n",
              "    }\n",
              "\n",
              "    .colab-df-convert:hover {\n",
              "      background-color: #E2EBFA;\n",
              "      box-shadow: 0px 1px 2px rgba(60, 64, 67, 0.3), 0px 1px 3px 1px rgba(60, 64, 67, 0.15);\n",
              "      fill: #174EA6;\n",
              "    }\n",
              "\n",
              "    [theme=dark] .colab-df-convert {\n",
              "      background-color: #3B4455;\n",
              "      fill: #D2E3FC;\n",
              "    }\n",
              "\n",
              "    [theme=dark] .colab-df-convert:hover {\n",
              "      background-color: #434B5C;\n",
              "      box-shadow: 0px 1px 3px 1px rgba(0, 0, 0, 0.15);\n",
              "      filter: drop-shadow(0px 1px 2px rgba(0, 0, 0, 0.3));\n",
              "      fill: #FFFFFF;\n",
              "    }\n",
              "  </style>\n",
              "\n",
              "      <script>\n",
              "        const buttonEl =\n",
              "          document.querySelector('#df-47865787-6be6-4913-97ed-462ea34437da button.colab-df-convert');\n",
              "        buttonEl.style.display =\n",
              "          google.colab.kernel.accessAllowed ? 'block' : 'none';\n",
              "\n",
              "        async function convertToInteractive(key) {\n",
              "          const element = document.querySelector('#df-47865787-6be6-4913-97ed-462ea34437da');\n",
              "          const dataTable =\n",
              "            await google.colab.kernel.invokeFunction('convertToInteractive',\n",
              "                                                     [key], {});\n",
              "          if (!dataTable) return;\n",
              "\n",
              "          const docLinkHtml = 'Like what you see? Visit the ' +\n",
              "            '<a target=\"_blank\" href=https://colab.research.google.com/notebooks/data_table.ipynb>data table notebook</a>'\n",
              "            + ' to learn more about interactive tables.';\n",
              "          element.innerHTML = '';\n",
              "          dataTable['output_type'] = 'display_data';\n",
              "          await google.colab.output.renderOutput(dataTable, element);\n",
              "          const docLink = document.createElement('div');\n",
              "          docLink.innerHTML = docLinkHtml;\n",
              "          element.appendChild(docLink);\n",
              "        }\n",
              "      </script>\n",
              "    </div>\n",
              "  </div>\n",
              "  "
            ]
          },
          "metadata": {},
          "execution_count": 258
        }
      ]
    },
    {
      "cell_type": "code",
      "source": [
        "# drop some columns not needed for training for the test set\n",
        "df_test_users = df_test.drop([ 'tweet', 'location', 'screen_name', 'id' ], axis=1).drop_duplicates()\n",
        "df_test_users = df_test_users.reset_index(drop=True)\n",
        "print(df_test_users.shape)\n",
        "df_test_users.head()"
      ],
      "metadata": {
        "colab": {
          "base_uri": "https://localhost:8080/",
          "height": 221
        },
        "id": "RTFslHcK30k-",
        "outputId": "3afbbf55-e987-45f4-d9c4-e4f3aa29316e"
      },
      "execution_count": 259,
      "outputs": [
        {
          "output_type": "stream",
          "name": "stdout",
          "text": [
            "(1183, 6)\n"
          ]
        },
        {
          "output_type": "execute_result",
          "data": {
            "text/plain": [
              "   followers_count  friends_count  statuses_count  created_at  label  \\\n",
              "0     1.900731e-04       0.021061        0.057870    0.937419      1   \n",
              "1     1.000000e+00       0.000062        0.004151    0.248942      0   \n",
              "2     1.853396e-03       0.000449        0.085817    0.244743      0   \n",
              "3     1.030765e-07       0.000675        0.000002    0.997052      1   \n",
              "4     3.265580e-01       0.001052        0.013893    0.456113      0   \n",
              "\n",
              "   location_enc  \n",
              "0           283  \n",
              "1           479  \n",
              "2           330  \n",
              "3           409  \n",
              "4           356  "
            ],
            "text/html": [
              "\n",
              "  <div id=\"df-0413eb09-35d4-4e02-b4be-2d85928587ed\">\n",
              "    <div class=\"colab-df-container\">\n",
              "      <div>\n",
              "<style scoped>\n",
              "    .dataframe tbody tr th:only-of-type {\n",
              "        vertical-align: middle;\n",
              "    }\n",
              "\n",
              "    .dataframe tbody tr th {\n",
              "        vertical-align: top;\n",
              "    }\n",
              "\n",
              "    .dataframe thead th {\n",
              "        text-align: right;\n",
              "    }\n",
              "</style>\n",
              "<table border=\"1\" class=\"dataframe\">\n",
              "  <thead>\n",
              "    <tr style=\"text-align: right;\">\n",
              "      <th></th>\n",
              "      <th>followers_count</th>\n",
              "      <th>friends_count</th>\n",
              "      <th>statuses_count</th>\n",
              "      <th>created_at</th>\n",
              "      <th>label</th>\n",
              "      <th>location_enc</th>\n",
              "    </tr>\n",
              "  </thead>\n",
              "  <tbody>\n",
              "    <tr>\n",
              "      <th>0</th>\n",
              "      <td>1.900731e-04</td>\n",
              "      <td>0.021061</td>\n",
              "      <td>0.057870</td>\n",
              "      <td>0.937419</td>\n",
              "      <td>1</td>\n",
              "      <td>283</td>\n",
              "    </tr>\n",
              "    <tr>\n",
              "      <th>1</th>\n",
              "      <td>1.000000e+00</td>\n",
              "      <td>0.000062</td>\n",
              "      <td>0.004151</td>\n",
              "      <td>0.248942</td>\n",
              "      <td>0</td>\n",
              "      <td>479</td>\n",
              "    </tr>\n",
              "    <tr>\n",
              "      <th>2</th>\n",
              "      <td>1.853396e-03</td>\n",
              "      <td>0.000449</td>\n",
              "      <td>0.085817</td>\n",
              "      <td>0.244743</td>\n",
              "      <td>0</td>\n",
              "      <td>330</td>\n",
              "    </tr>\n",
              "    <tr>\n",
              "      <th>3</th>\n",
              "      <td>1.030765e-07</td>\n",
              "      <td>0.000675</td>\n",
              "      <td>0.000002</td>\n",
              "      <td>0.997052</td>\n",
              "      <td>1</td>\n",
              "      <td>409</td>\n",
              "    </tr>\n",
              "    <tr>\n",
              "      <th>4</th>\n",
              "      <td>3.265580e-01</td>\n",
              "      <td>0.001052</td>\n",
              "      <td>0.013893</td>\n",
              "      <td>0.456113</td>\n",
              "      <td>0</td>\n",
              "      <td>356</td>\n",
              "    </tr>\n",
              "  </tbody>\n",
              "</table>\n",
              "</div>\n",
              "      <button class=\"colab-df-convert\" onclick=\"convertToInteractive('df-0413eb09-35d4-4e02-b4be-2d85928587ed')\"\n",
              "              title=\"Convert this dataframe to an interactive table.\"\n",
              "              style=\"display:none;\">\n",
              "        \n",
              "  <svg xmlns=\"http://www.w3.org/2000/svg\" height=\"24px\"viewBox=\"0 0 24 24\"\n",
              "       width=\"24px\">\n",
              "    <path d=\"M0 0h24v24H0V0z\" fill=\"none\"/>\n",
              "    <path d=\"M18.56 5.44l.94 2.06.94-2.06 2.06-.94-2.06-.94-.94-2.06-.94 2.06-2.06.94zm-11 1L8.5 8.5l.94-2.06 2.06-.94-2.06-.94L8.5 2.5l-.94 2.06-2.06.94zm10 10l.94 2.06.94-2.06 2.06-.94-2.06-.94-.94-2.06-.94 2.06-2.06.94z\"/><path d=\"M17.41 7.96l-1.37-1.37c-.4-.4-.92-.59-1.43-.59-.52 0-1.04.2-1.43.59L10.3 9.45l-7.72 7.72c-.78.78-.78 2.05 0 2.83L4 21.41c.39.39.9.59 1.41.59.51 0 1.02-.2 1.41-.59l7.78-7.78 2.81-2.81c.8-.78.8-2.07 0-2.86zM5.41 20L4 18.59l7.72-7.72 1.47 1.35L5.41 20z\"/>\n",
              "  </svg>\n",
              "      </button>\n",
              "      \n",
              "  <style>\n",
              "    .colab-df-container {\n",
              "      display:flex;\n",
              "      flex-wrap:wrap;\n",
              "      gap: 12px;\n",
              "    }\n",
              "\n",
              "    .colab-df-convert {\n",
              "      background-color: #E8F0FE;\n",
              "      border: none;\n",
              "      border-radius: 50%;\n",
              "      cursor: pointer;\n",
              "      display: none;\n",
              "      fill: #1967D2;\n",
              "      height: 32px;\n",
              "      padding: 0 0 0 0;\n",
              "      width: 32px;\n",
              "    }\n",
              "\n",
              "    .colab-df-convert:hover {\n",
              "      background-color: #E2EBFA;\n",
              "      box-shadow: 0px 1px 2px rgba(60, 64, 67, 0.3), 0px 1px 3px 1px rgba(60, 64, 67, 0.15);\n",
              "      fill: #174EA6;\n",
              "    }\n",
              "\n",
              "    [theme=dark] .colab-df-convert {\n",
              "      background-color: #3B4455;\n",
              "      fill: #D2E3FC;\n",
              "    }\n",
              "\n",
              "    [theme=dark] .colab-df-convert:hover {\n",
              "      background-color: #434B5C;\n",
              "      box-shadow: 0px 1px 3px 1px rgba(0, 0, 0, 0.15);\n",
              "      filter: drop-shadow(0px 1px 2px rgba(0, 0, 0, 0.3));\n",
              "      fill: #FFFFFF;\n",
              "    }\n",
              "  </style>\n",
              "\n",
              "      <script>\n",
              "        const buttonEl =\n",
              "          document.querySelector('#df-0413eb09-35d4-4e02-b4be-2d85928587ed button.colab-df-convert');\n",
              "        buttonEl.style.display =\n",
              "          google.colab.kernel.accessAllowed ? 'block' : 'none';\n",
              "\n",
              "        async function convertToInteractive(key) {\n",
              "          const element = document.querySelector('#df-0413eb09-35d4-4e02-b4be-2d85928587ed');\n",
              "          const dataTable =\n",
              "            await google.colab.kernel.invokeFunction('convertToInteractive',\n",
              "                                                     [key], {});\n",
              "          if (!dataTable) return;\n",
              "\n",
              "          const docLinkHtml = 'Like what you see? Visit the ' +\n",
              "            '<a target=\"_blank\" href=https://colab.research.google.com/notebooks/data_table.ipynb>data table notebook</a>'\n",
              "            + ' to learn more about interactive tables.';\n",
              "          element.innerHTML = '';\n",
              "          dataTable['output_type'] = 'display_data';\n",
              "          await google.colab.output.renderOutput(dataTable, element);\n",
              "          const docLink = document.createElement('div');\n",
              "          docLink.innerHTML = docLinkHtml;\n",
              "          element.appendChild(docLink);\n",
              "        }\n",
              "      </script>\n",
              "    </div>\n",
              "  </div>\n",
              "  "
            ]
          },
          "metadata": {},
          "execution_count": 259
        }
      ]
    },
    {
      "cell_type": "code",
      "source": [
        "# from pandas to numpy\n",
        "y_train = df_train_users[\"label\"].to_numpy()\n",
        "X_train = df_train_users.drop(['label'], axis=1).to_numpy()\n",
        "\n",
        "y_test = df_test_users[\"label\"].to_numpy()\n",
        "X_test = df_test_users.drop(['label'], axis=1).to_numpy()\n",
        "\n",
        "print(X_train.shape)\n",
        "print(X_test.shape)"
      ],
      "metadata": {
        "colab": {
          "base_uri": "https://localhost:8080/"
        },
        "id": "uOg1qLMNjHcg",
        "outputId": "e7631cf8-e7ef-42f6-938a-436225de01e3"
      },
      "execution_count": 260,
      "outputs": [
        {
          "output_type": "stream",
          "name": "stdout",
          "text": [
            "(8278, 5)\n",
            "(1183, 5)\n"
          ]
        }
      ]
    },
    {
      "cell_type": "markdown",
      "source": [
        "### **MODELS**"
      ],
      "metadata": {
        "id": "1BMqFY9GiLbC"
      }
    },
    {
      "cell_type": "code",
      "source": [
        "def predict_and_evaluate(model, y_test):\n",
        "  y_pred = model.predict(X_test)\n",
        "\n",
        "  f1 = f1_score(y_test, y_pred, average=\"macro\")\n",
        "  acc = accuracy_score(y_test, y_pred)\n",
        "\n",
        "  return f1, acc\n",
        "\n",
        "  "
      ],
      "metadata": {
        "id": "pEukpwRY6MdH"
      },
      "execution_count": 269,
      "outputs": []
    },
    {
      "cell_type": "code",
      "source": [
        "from sklearn.ensemble import RandomForestClassifier\n",
        "model = RandomForestClassifier(n_estimators=200)\n",
        "\n",
        "model.fit(X_train, y_train)\n",
        "f1, acc = predict_and_evaluate(model)\n",
        "\n",
        "print(\"Test f1 score : %s \"% f1)\n",
        "print(\"Test accuracy score : %s \"% acc)"
      ],
      "metadata": {
        "colab": {
          "base_uri": "https://localhost:8080/"
        },
        "id": "Cd3Gs_Ni5uQ0",
        "outputId": "e94391eb-b6fc-461f-a553-751e487d3a69"
      },
      "execution_count": 262,
      "outputs": [
        {
          "output_type": "stream",
          "name": "stdout",
          "text": [
            "Test f1 score : 0.7105102165667443 \n",
            "Test accuracy score : 0.7295012679628065 \n"
          ]
        }
      ]
    },
    {
      "cell_type": "code",
      "source": [
        "from sklearn.ensemble import GradientBoostingClassifier\n",
        "model = GradientBoostingClassifier(n_estimators=150, learning_rate=0.3, max_depth=1, random_state=0)\n",
        "\n",
        "model.fit(X_train, y_train)\n",
        "f1, acc = predict_and_evaluate(model)\n",
        "\n",
        "print(\"Test f1 score : %s \"% f1)\n",
        "print(\"Test accuracy score : %s \"% acc)"
      ],
      "metadata": {
        "colab": {
          "base_uri": "https://localhost:8080/"
        },
        "id": "yJBraVJbaYnN",
        "outputId": "ec21748a-3502-4087-ec48-969b06644fc7"
      },
      "execution_count": 263,
      "outputs": [
        {
          "output_type": "stream",
          "name": "stdout",
          "text": [
            "Test f1 score : 0.7124983849433654 \n",
            "Test accuracy score : 0.7328825021132713 \n"
          ]
        }
      ]
    },
    {
      "cell_type": "code",
      "source": [
        "from sklearn import svm\n",
        "from sklearn.gaussian_process.kernels import *\n",
        "import sklearn.gaussian_process as gp\n",
        "\n",
        "model = svm.SVC(kernel='rbf', C=30)\n",
        "\n",
        "model.fit(X_train, y_train)\n",
        "f1, acc = predict_and_evaluate(model)\n",
        "\n",
        "print(\"Test f1 score : %s \"% f1)\n",
        "print(\"Test accuracy score : %s \"% acc)"
      ],
      "metadata": {
        "colab": {
          "base_uri": "https://localhost:8080/"
        },
        "id": "Jx5KtB6DbqUm",
        "outputId": "cbc8f6b8-677f-496b-dd32-edd5a7f1f67c"
      },
      "execution_count": 265,
      "outputs": [
        {
          "output_type": "stream",
          "name": "stdout",
          "text": [
            "Test f1 score : 0.3510696653867252 \n",
            "Test accuracy score : 0.5409974640743872 \n"
          ]
        }
      ]
    },
    {
      "cell_type": "code",
      "source": [
        "from xgboost import XGBClassifier\n",
        "\n",
        "model = XGBClassifier()\n",
        "\n",
        "model.fit(X_train, y_train)\n",
        "f1, acc = predict_and_evaluate(model)\n",
        "\n",
        "print(\"Test f1 score : %s \"% f1)\n",
        "print(\"Test accuracy score : %s \"% acc)"
      ],
      "metadata": {
        "colab": {
          "base_uri": "https://localhost:8080/"
        },
        "id": "DPUe8gX8dVP8",
        "outputId": "f8b1dac4-34b7-42b1-8c35-8f2bf5b5619b"
      },
      "execution_count": 266,
      "outputs": [
        {
          "output_type": "stream",
          "name": "stdout",
          "text": [
            "Test f1 score : 0.7200703295087578 \n",
            "Test accuracy score : 0.738799661876585 \n"
          ]
        }
      ]
    },
    {
      "cell_type": "code",
      "source": [
        "from tensorflow.keras import utils\n",
        "\n",
        "n_classes = 2\n",
        "y_train_nn = utils.to_categorical(y_train, n_classes)\n",
        "\n",
        "# create the neural network\n",
        "model = Sequential()\n",
        "model.add(Dense(50, activation='relu', input_dim=5))\n",
        "model.add(Dense(100, activation='relu'))\n",
        "model.add(Dropout(0.2))\n",
        "model.add(Dense(150, activation='relu'))\n",
        "model.add(Dropout(0.2))\n",
        "model.add(Dense(200, activation='relu'))\n",
        "model.add(Dropout(0.2))\n",
        "model.add(Dense(200, activation='relu'))\n",
        "model.add(Dropout(0.2))\n",
        "model.add(Dense(200, activation='relu'))\n",
        "model.add(Dropout(0.2))\n",
        "model.add(Dense(200, activation='relu'))\n",
        "model.add(Dropout(0.2))\n",
        "model.add(Dense(200, activation='relu'))\n",
        "model.add(Dropout(0.2))\n",
        "model.add(Dense(200, activation='relu'))\n",
        "model.add(Dropout(0.2))\n",
        "model.add(Dense(200, activation='relu'))\n",
        "model.add(Dense(2, activation='sigmoid'))\n",
        "\n",
        "model.compile(loss='binary_crossentropy', metrics=['accuracy'])\n",
        "model.summary()\n",
        "\n",
        "\n",
        "callbacks = [ReduceLROnPlateau(monitor=\"val_loss\", mode=\"max\", patience=3, verbose=2),\n",
        "             EarlyStopping(monitor=\"val_loss\", mode=\"max\", patience=10, verbose=1)]\n",
        "model.fit(X_train, y_train_nn, epochs=100, callbacks=callbacks, validation_split=0.2, batch_size=64)\n",
        "\n",
        "y_pred = model.predict(X_test)\n",
        "y_pred = np.argmax(y_pred, axis=-1)\n",
        "\n",
        "f1 = f1_score(y_test, y_pred, average=\"macro\")\n",
        "acc = accuracy_score(y_test, y_pred)\n",
        "\n",
        "# f1, acc = predict_and_evaluate(model, y_test)\n",
        "\n",
        "print(\"Test f1 score : %s \"% f1)\n",
        "print(\"Test accuracy score : %s \"% acc)"
      ],
      "metadata": {
        "colab": {
          "base_uri": "https://localhost:8080/"
        },
        "id": "wTpbx_n3dmEH",
        "outputId": "6998bb16-57af-4e47-9193-726e3d26424a"
      },
      "execution_count": 289,
      "outputs": [
        {
          "output_type": "stream",
          "name": "stdout",
          "text": [
            "Model: \"sequential_28\"\n",
            "_________________________________________________________________\n",
            " Layer (type)                Output Shape              Param #   \n",
            "=================================================================\n",
            " dense_106 (Dense)           (None, 50)                300       \n",
            "                                                                 \n",
            " dense_107 (Dense)           (None, 100)               5100      \n",
            "                                                                 \n",
            " dropout_29 (Dropout)        (None, 100)               0         \n",
            "                                                                 \n",
            " dense_108 (Dense)           (None, 150)               15150     \n",
            "                                                                 \n",
            " dropout_30 (Dropout)        (None, 150)               0         \n",
            "                                                                 \n",
            " dense_109 (Dense)           (None, 200)               30200     \n",
            "                                                                 \n",
            " dropout_31 (Dropout)        (None, 200)               0         \n",
            "                                                                 \n",
            " dense_110 (Dense)           (None, 200)               40200     \n",
            "                                                                 \n",
            " dropout_32 (Dropout)        (None, 200)               0         \n",
            "                                                                 \n",
            " dense_111 (Dense)           (None, 200)               40200     \n",
            "                                                                 \n",
            " dropout_33 (Dropout)        (None, 200)               0         \n",
            "                                                                 \n",
            " dense_112 (Dense)           (None, 200)               40200     \n",
            "                                                                 \n",
            " dropout_34 (Dropout)        (None, 200)               0         \n",
            "                                                                 \n",
            " dense_113 (Dense)           (None, 200)               40200     \n",
            "                                                                 \n",
            " dropout_35 (Dropout)        (None, 200)               0         \n",
            "                                                                 \n",
            " dense_114 (Dense)           (None, 200)               40200     \n",
            "                                                                 \n",
            " dropout_36 (Dropout)        (None, 200)               0         \n",
            "                                                                 \n",
            " dense_115 (Dense)           (None, 200)               40200     \n",
            "                                                                 \n",
            " dense_116 (Dense)           (None, 2)                 402       \n",
            "                                                                 \n",
            "=================================================================\n",
            "Total params: 292,352\n",
            "Trainable params: 292,352\n",
            "Non-trainable params: 0\n",
            "_________________________________________________________________\n",
            "Epoch 1/100\n",
            "104/104 [==============================] - 3s 8ms/step - loss: 0.9884 - accuracy: 0.4971 - val_loss: 0.7001 - val_accuracy: 0.2361 - lr: 0.0010\n",
            "Epoch 2/100\n",
            "104/104 [==============================] - 1s 6ms/step - loss: 0.7066 - accuracy: 0.4998 - val_loss: 0.6743 - val_accuracy: 0.7518 - lr: 0.0010\n",
            "Epoch 3/100\n",
            "104/104 [==============================] - 1s 6ms/step - loss: 0.6971 - accuracy: 0.5027 - val_loss: 0.6968 - val_accuracy: 0.2361 - lr: 0.0010\n",
            "Epoch 4/100\n",
            " 97/104 [==========================>...] - ETA: 0s - loss: 0.6964 - accuracy: 0.4974\n",
            "Epoch 4: ReduceLROnPlateau reducing learning rate to 0.00010000000474974513.\n",
            "104/104 [==============================] - 1s 6ms/step - loss: 0.6963 - accuracy: 0.4950 - val_loss: 0.6713 - val_accuracy: 0.7639 - lr: 0.0010\n",
            "Epoch 5/100\n",
            "104/104 [==============================] - 1s 6ms/step - loss: 0.6942 - accuracy: 0.5011 - val_loss: 0.6843 - val_accuracy: 0.7639 - lr: 1.0000e-04\n",
            "Epoch 6/100\n",
            "104/104 [==============================] - 1s 6ms/step - loss: 0.6932 - accuracy: 0.5091 - val_loss: 0.6899 - val_accuracy: 0.7639 - lr: 1.0000e-04\n",
            "Epoch 7/100\n",
            "104/104 [==============================] - ETA: 0s - loss: 0.6932 - accuracy: 0.5044\n",
            "Epoch 7: ReduceLROnPlateau reducing learning rate to 1.0000000474974514e-05.\n",
            "104/104 [==============================] - 1s 6ms/step - loss: 0.6932 - accuracy: 0.5044 - val_loss: 0.6893 - val_accuracy: 0.7639 - lr: 1.0000e-04\n",
            "Epoch 8/100\n",
            "104/104 [==============================] - 1s 6ms/step - loss: 0.6933 - accuracy: 0.5062 - val_loss: 0.6898 - val_accuracy: 0.7639 - lr: 1.0000e-05\n",
            "Epoch 9/100\n",
            "104/104 [==============================] - 1s 6ms/step - loss: 0.6931 - accuracy: 0.5106 - val_loss: 0.6903 - val_accuracy: 0.7639 - lr: 1.0000e-05\n",
            "Epoch 10/100\n",
            " 98/104 [===========================>..] - ETA: 0s - loss: 0.6931 - accuracy: 0.5123\n",
            "Epoch 10: ReduceLROnPlateau reducing learning rate to 1.0000000656873453e-06.\n",
            "104/104 [==============================] - 1s 6ms/step - loss: 0.6931 - accuracy: 0.5118 - val_loss: 0.6902 - val_accuracy: 0.7639 - lr: 1.0000e-05\n",
            "Epoch 11/100\n",
            "104/104 [==============================] - 1s 6ms/step - loss: 0.6930 - accuracy: 0.5080 - val_loss: 0.6902 - val_accuracy: 0.7639 - lr: 1.0000e-06\n",
            "Epoch 11: early stopping\n",
            "Test f1 score : 0.3510696653867252 \n",
            "Test accuracy score : 0.5409974640743872 \n"
          ]
        }
      ]
    }
  ]
}