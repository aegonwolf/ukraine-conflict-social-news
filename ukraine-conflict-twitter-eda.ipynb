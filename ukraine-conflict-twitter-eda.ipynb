{
 "cells": [
  {
   "cell_type": "code",
   "execution_count": 1,
   "id": "3c5f49c2",
   "metadata": {
    "_cell_guid": "b1076dfc-b9ad-4769-8c92-a6c4dae69d19",
    "_uuid": "8f2839f25d086af736a60e9eeb907d3b93b6e0e5",
    "execution": {
     "iopub.execute_input": "2022-03-06T16:50:17.937769Z",
     "iopub.status.busy": "2022-03-06T16:50:17.936573Z",
     "iopub.status.idle": "2022-03-06T16:50:29.520174Z",
     "shell.execute_reply": "2022-03-06T16:50:29.521089Z",
     "shell.execute_reply.started": "2022-03-06T16:31:56.719954Z"
    },
    "papermill": {
     "duration": 11.603037,
     "end_time": "2022-03-06T16:50:29.521961",
     "exception": false,
     "start_time": "2022-03-06T16:50:17.918924",
     "status": "completed"
    },
    "tags": []
   },
   "outputs": [
    {
     "name": "stderr",
     "output_type": "stream",
     "text": [
      "/opt/conda/lib/python3.7/site-packages/geopandas/_compat.py:115: UserWarning: The Shapely GEOS version (3.9.1-CAPI-1.14.2) is incompatible with the GEOS version PyGEOS was compiled with (3.10.1-CAPI-1.16.0). Conversions between both will be slow.\n",
      "  shapely_geos_version, geos_capi_version_string\n"
     ]
    }
   ],
   "source": [
    "import pandas as pd\n",
    "import numpy as np\n",
    "import matplotlib.pyplot as plt\n",
    "import seaborn as sns\n",
    "import bokeh\n",
    "from wordcloud import WordCloud, STOPWORDS, ImageColorGenerator\n",
    "import plotly.express as px\n",
    "import plotly.figure_factory as ff\n",
    "from collections import Counter\n",
    "import nltk\n",
    "from nltk.corpus import stopwords\n",
    "import spacy\n",
    "from spacy.util import compounding\n",
    "from spacy.util import minibatch\n",
    "from spacy import displacy\n",
    "import gc\n",
    "import os"
   ]
  },
  {
   "cell_type": "code",
   "execution_count": 2,
   "id": "04679425",
   "metadata": {
    "execution": {
     "iopub.execute_input": "2022-03-06T16:50:29.551489Z",
     "iopub.status.busy": "2022-03-06T16:50:29.550874Z",
     "iopub.status.idle": "2022-03-06T16:50:29.561656Z",
     "shell.execute_reply": "2022-03-06T16:50:29.562316Z",
     "shell.execute_reply.started": "2022-03-06T16:48:57.362113Z"
    },
    "papermill": {
     "duration": 0.025455,
     "end_time": "2022-03-06T16:50:29.562545",
     "exception": false,
     "start_time": "2022-03-06T16:50:29.537090",
     "status": "completed"
    },
    "tags": []
   },
   "outputs": [],
   "source": [
    "csv_collection = []\n",
    "for dirname, _, filenames in os.walk('/kaggle/input'):\n",
    "    for filename in filenames:\n",
    "        fullpath = os.path.join(dirname, filename)\n",
    "        csv_collection.append(fullpath)"
   ]
  },
  {
   "cell_type": "code",
   "execution_count": 3,
   "id": "d206ce74",
   "metadata": {
    "execution": {
     "iopub.execute_input": "2022-03-06T16:50:29.592937Z",
     "iopub.status.busy": "2022-03-06T16:50:29.592035Z",
     "iopub.status.idle": "2022-03-06T16:51:41.427360Z",
     "shell.execute_reply": "2022-03-06T16:51:41.426665Z"
    },
    "papermill": {
     "duration": 71.853688,
     "end_time": "2022-03-06T16:51:41.427548",
     "exception": false,
     "start_time": "2022-03-06T16:50:29.573860",
     "status": "completed"
    },
    "tags": []
   },
   "outputs": [
    {
     "name": "stderr",
     "output_type": "stream",
     "text": [
      "/opt/conda/lib/python3.7/site-packages/IPython/core/interactiveshell.py:3457: DtypeWarning: Columns (15) have mixed types.Specify dtype option on import or set low_memory=False.\n",
      "  exec(code_obj, self.user_global_ns, self.user_ns)\n",
      "/opt/conda/lib/python3.7/site-packages/numpy/lib/arraysetops.py:583: FutureWarning: elementwise comparison failed; returning scalar instead, but in the future will perform elementwise comparison\n",
      "  mask |= (ar1 == a)\n"
     ]
    }
   ],
   "source": [
    "df = pd.read_csv(csv_collection.pop(), compression = 'gzip', index_col = 0)\n",
    "for data in csv_collection:\n",
    "    tmp = pd.read_csv(data, compression = 'gzip', index_col = 0)\n",
    "    df = pd.concat([df, tmp], axis=0)"
   ]
  },
  {
   "cell_type": "code",
   "execution_count": 4,
   "id": "8454b086",
   "metadata": {
    "execution": {
     "iopub.execute_input": "2022-03-06T16:51:41.464458Z",
     "iopub.status.busy": "2022-03-06T16:51:41.460163Z",
     "iopub.status.idle": "2022-03-06T16:51:41.468345Z",
     "shell.execute_reply": "2022-03-06T16:51:41.467666Z"
    },
    "papermill": {
     "duration": 0.025844,
     "end_time": "2022-03-06T16:51:41.468482",
     "exception": false,
     "start_time": "2022-03-06T16:51:41.442638",
     "status": "completed"
    },
    "tags": []
   },
   "outputs": [
    {
     "data": {
      "text/plain": [
       "(4213690, 17)"
      ]
     },
     "execution_count": 4,
     "metadata": {},
     "output_type": "execute_result"
    }
   ],
   "source": [
    "df.shape"
   ]
  },
  {
   "cell_type": "code",
   "execution_count": 5,
   "id": "b2e75869",
   "metadata": {
    "execution": {
     "iopub.execute_input": "2022-03-06T16:51:41.504468Z",
     "iopub.status.busy": "2022-03-06T16:51:41.503962Z",
     "iopub.status.idle": "2022-03-06T16:51:41.506801Z",
     "shell.execute_reply": "2022-03-06T16:51:41.507278Z"
    },
    "papermill": {
     "duration": 0.023392,
     "end_time": "2022-03-06T16:51:41.507413",
     "exception": false,
     "start_time": "2022-03-06T16:51:41.484021",
     "status": "completed"
    },
    "tags": []
   },
   "outputs": [
    {
     "data": {
      "text/plain": [
       "Index(['userid', 'username', 'acctdesc', 'location', 'following', 'followers',\n",
       "       'totaltweets', 'usercreatedts', 'tweetid', 'tweetcreatedts',\n",
       "       'retweetcount', 'text', 'hashtags', 'language', 'coordinates',\n",
       "       'favorite_count', 'extractedts'],\n",
       "      dtype='object')"
      ]
     },
     "execution_count": 5,
     "metadata": {},
     "output_type": "execute_result"
    }
   ],
   "source": [
    "df.columns"
   ]
  },
  {
   "cell_type": "code",
   "execution_count": 6,
   "id": "56fb32d8",
   "metadata": {
    "execution": {
     "iopub.execute_input": "2022-03-06T16:51:41.532133Z",
     "iopub.status.busy": "2022-03-06T16:51:41.531655Z",
     "iopub.status.idle": "2022-03-06T16:51:44.267728Z",
     "shell.execute_reply": "2022-03-06T16:51:44.268285Z"
    },
    "papermill": {
     "duration": 2.749936,
     "end_time": "2022-03-06T16:51:44.268485",
     "exception": false,
     "start_time": "2022-03-06T16:51:41.518549",
     "status": "completed"
    },
    "tags": []
   },
   "outputs": [],
   "source": [
    "sorted_tweets = df[['username', 'text', 'retweetcount', 'tweetid']].sort_values(by = 'retweetcount', ascending = False)"
   ]
  },
  {
   "cell_type": "code",
   "execution_count": 7,
   "id": "c4b1ec83",
   "metadata": {
    "execution": {
     "iopub.execute_input": "2022-03-06T16:51:44.302034Z",
     "iopub.status.busy": "2022-03-06T16:51:44.299738Z",
     "iopub.status.idle": "2022-03-06T16:51:44.305265Z",
     "shell.execute_reply": "2022-03-06T16:51:44.304477Z"
    },
    "papermill": {
     "duration": 0.019967,
     "end_time": "2022-03-06T16:51:44.305441",
     "exception": false,
     "start_time": "2022-03-06T16:51:44.285474",
     "status": "completed"
    },
    "tags": []
   },
   "outputs": [
    {
     "name": "stdout",
     "output_type": "stream",
     "text": [
      ".@ZelenskyyUa's tv address to the Russian (!) people might be the most moving speech that I've ever seen in my entire life. The whole world needs to see, understand and share this crucial Ukrainian message.\n",
      "#StandWithUkraine #Ukraine #Україна #Russia #Россия https://t.co/WoMOgqXTWX\n"
     ]
    }
   ],
   "source": [
    "most_retweeted = sorted_tweets.iloc[0]\n",
    "print(most_retweeted.text)"
   ]
  },
  {
   "cell_type": "markdown",
   "id": "94cfe8e1",
   "metadata": {
    "papermill": {
     "duration": 0.0165,
     "end_time": "2022-03-06T16:51:44.339943",
     "exception": false,
     "start_time": "2022-03-06T16:51:44.323443",
     "status": "completed"
    },
    "tags": []
   },
   "source": [
    "<blockquote class=\"twitter-tweet\"><p lang=\"en\" dir=\"ltr\">.<a href=\"https://twitter.com/ZelenskyyUa?ref_src=twsrc%5Etfw\">@ZelenskyyUa</a>&#39;s tv address to the Russian (!) people might be the most moving speech that I&#39;ve ever seen in my entire life. The whole world needs to see, understand and share this crucial Ukrainian message.<a href=\"https://twitter.com/hashtag/StandWithUkraine?src=hash&amp;ref_src=twsrc%5Etfw\">#StandWithUkraine</a> <a href=\"https://twitter.com/hashtag/Ukraine?src=hash&amp;ref_src=twsrc%5Etfw\">#Ukraine</a> <a href=\"https://twitter.com/hashtag/%D0%A3%D0%BA%D1%80%D0%B0%D1%97%D0%BD%D0%B0?src=hash&amp;ref_src=twsrc%5Etfw\">#Україна</a> <a href=\"https://twitter.com/hashtag/Russia?src=hash&amp;ref_src=twsrc%5Etfw\">#Russia</a> <a href=\"https://twitter.com/hashtag/%D0%A0%D0%BE%D1%81%D1%81%D0%B8%D1%8F?src=hash&amp;ref_src=twsrc%5Etfw\">#Россия</a> <a href=\"https://t.co/WoMOgqXTWX\">pic.twitter.com/WoMOgqXTWX</a></p>&mdash; Patrick Moelleken 🇺🇦 (@PMoelleken) <a href=\"https://twitter.com/PMoelleken/status/1496941845812760577?ref_src=twsrc%5Etfw\">February 24, 2022</a></blockquote> <script async src=\"https://platform.twitter.com/widgets.js\" charset=\"utf-8\"></script> "
   ]
  },
  {
   "cell_type": "markdown",
   "id": "b0d083c9",
   "metadata": {
    "papermill": {
     "duration": 0.01655,
     "end_time": "2022-03-06T16:51:44.373362",
     "exception": false,
     "start_time": "2022-03-06T16:51:44.356812",
     "status": "completed"
    },
    "tags": []
   },
   "source": [
    "To find another Tweet use: twitter.com/anyuser/status/{tweetid}"
   ]
  },
  {
   "cell_type": "code",
   "execution_count": 8,
   "id": "f1c0ae7d",
   "metadata": {
    "execution": {
     "iopub.execute_input": "2022-03-06T16:51:44.411799Z",
     "iopub.status.busy": "2022-03-06T16:51:44.411134Z",
     "iopub.status.idle": "2022-03-06T16:51:44.413591Z",
     "shell.execute_reply": "2022-03-06T16:51:44.414145Z"
    },
    "papermill": {
     "duration": 0.024356,
     "end_time": "2022-03-06T16:51:44.414290",
     "exception": false,
     "start_time": "2022-03-06T16:51:44.389934",
     "status": "completed"
    },
    "tags": []
   },
   "outputs": [
    {
     "data": {
      "text/plain": [
       "1500122026702422017"
      ]
     },
     "execution_count": 8,
     "metadata": {},
     "output_type": "execute_result"
    }
   ],
   "source": [
    "#for example the above was found with\n",
    "sorted_tweets.tweetid.iloc[0]"
   ]
  },
  {
   "cell_type": "code",
   "execution_count": null,
   "id": "ec88ed2d",
   "metadata": {
    "papermill": {
     "duration": 0.01699,
     "end_time": "2022-03-06T16:51:44.448745",
     "exception": false,
     "start_time": "2022-03-06T16:51:44.431755",
     "status": "completed"
    },
    "tags": []
   },
   "outputs": [],
   "source": []
  }
 ],
 "metadata": {
  "kernelspec": {
   "display_name": "Python 3",
   "language": "python",
   "name": "python3"
  },
  "language_info": {
   "codemirror_mode": {
    "name": "ipython",
    "version": 3
   },
   "file_extension": ".py",
   "mimetype": "text/x-python",
   "name": "python",
   "nbconvert_exporter": "python",
   "pygments_lexer": "ipython3",
   "version": "3.7.12"
  },
  "papermill": {
   "default_parameters": {},
   "duration": 97.178075,
   "end_time": "2022-03-06T16:51:47.075052",
   "environment_variables": {},
   "exception": null,
   "input_path": "__notebook__.ipynb",
   "output_path": "__notebook__.ipynb",
   "parameters": {},
   "start_time": "2022-03-06T16:50:09.896977",
   "version": "2.3.3"
  }
 },
 "nbformat": 4,
 "nbformat_minor": 5
}
