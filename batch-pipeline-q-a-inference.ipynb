{
 "cells": [
  {
   "cell_type": "code",
   "execution_count": 1,
   "id": "99e4eb89",
   "metadata": {
    "execution": {
     "iopub.execute_input": "2022-03-16T17:15:05.172128Z",
     "iopub.status.busy": "2022-03-16T17:15:05.170563Z",
     "iopub.status.idle": "2022-03-16T17:15:15.594673Z",
     "shell.execute_reply": "2022-03-16T17:15:15.594073Z",
     "shell.execute_reply.started": "2022-03-13T16:32:36.154007Z"
    },
    "papermill": {
     "duration": 10.448249,
     "end_time": "2022-03-16T17:15:15.594827",
     "exception": false,
     "start_time": "2022-03-16T17:15:05.146578",
     "status": "completed"
    },
    "tags": []
   },
   "outputs": [],
   "source": [
    "import os\n",
    "import pandas as pd, numpy as np\n",
    "import matplotlib.pyplot as plt\n",
    "os.environ['TF_CPP_MIN_LOG_LEVEL'] = '3'\n",
    "from transformers import *\n",
    "from datasets import get_dataset_config_names, load_dataset\n",
    "import tqdm.notebook as tqdm\n",
    "# from torch.utils.data import DataLoader"
   ]
  },
  {
   "cell_type": "markdown",
   "id": "531bb8b8",
   "metadata": {
    "papermill": {
     "duration": 0.017978,
     "end_time": "2022-03-16T17:15:15.631962",
     "exception": false,
     "start_time": "2022-03-16T17:15:15.613984",
     "status": "completed"
    },
    "tags": []
   },
   "source": [
    "# Load Test"
   ]
  },
  {
   "cell_type": "code",
   "execution_count": 2,
   "id": "ce82a783",
   "metadata": {
    "execution": {
     "iopub.execute_input": "2022-03-16T17:15:15.671380Z",
     "iopub.status.busy": "2022-03-16T17:15:15.670602Z",
     "iopub.status.idle": "2022-03-16T17:15:15.717215Z",
     "shell.execute_reply": "2022-03-16T17:15:15.716744Z",
     "shell.execute_reply.started": "2022-03-13T16:32:36.164015Z"
    },
    "papermill": {
     "duration": 0.067391,
     "end_time": "2022-03-16T17:15:15.717330",
     "exception": false,
     "start_time": "2022-03-16T17:15:15.649939",
     "status": "completed"
    },
    "tags": []
   },
   "outputs": [
    {
     "data": {
      "text/html": [
       "<div>\n",
       "<style scoped>\n",
       "    .dataframe tbody tr th:only-of-type {\n",
       "        vertical-align: middle;\n",
       "    }\n",
       "\n",
       "    .dataframe tbody tr th {\n",
       "        vertical-align: top;\n",
       "    }\n",
       "\n",
       "    .dataframe thead th {\n",
       "        text-align: right;\n",
       "    }\n",
       "</style>\n",
       "<table border=\"1\" class=\"dataframe\">\n",
       "  <thead>\n",
       "    <tr style=\"text-align: right;\">\n",
       "      <th></th>\n",
       "      <th>id</th>\n",
       "      <th>text</th>\n",
       "    </tr>\n",
       "  </thead>\n",
       "  <tbody>\n",
       "    <tr>\n",
       "      <th>0</th>\n",
       "      <td>0FB0700DAF44</td>\n",
       "      <td>During a group project, have you ever asked a ...</td>\n",
       "    </tr>\n",
       "    <tr>\n",
       "      <th>1</th>\n",
       "      <td>D72CB1C11673</td>\n",
       "      <td>Making choices in life can be very difficult. ...</td>\n",
       "    </tr>\n",
       "    <tr>\n",
       "      <th>2</th>\n",
       "      <td>18409261F5C2</td>\n",
       "      <td>80% of Americans believe seeking multiple opin...</td>\n",
       "    </tr>\n",
       "    <tr>\n",
       "      <th>3</th>\n",
       "      <td>DF920E0A7337</td>\n",
       "      <td>Have you ever asked more than one person for h...</td>\n",
       "    </tr>\n",
       "    <tr>\n",
       "      <th>4</th>\n",
       "      <td>D46BCB48440A</td>\n",
       "      <td>When people ask for advice,they sometimes talk...</td>\n",
       "    </tr>\n",
       "  </tbody>\n",
       "</table>\n",
       "</div>"
      ],
      "text/plain": [
       "             id                                               text\n",
       "0  0FB0700DAF44  During a group project, have you ever asked a ...\n",
       "1  D72CB1C11673  Making choices in life can be very difficult. ...\n",
       "2  18409261F5C2  80% of Americans believe seeking multiple opin...\n",
       "3  DF920E0A7337  Have you ever asked more than one person for h...\n",
       "4  D46BCB48440A  When people ask for advice,they sometimes talk..."
      ]
     },
     "execution_count": 2,
     "metadata": {},
     "output_type": "execute_result"
    }
   ],
   "source": [
    "# https://www.kaggle.com/raghavendrakotala/fine-tunned-on-roberta-base-as-ner-problem-0-533\n",
    "test_names, test = [], []\n",
    "for f in list(os.listdir('../input/feedback-prize-2021/test')):\n",
    "    test_names.append(f.replace('.txt', ''))\n",
    "    test.append(open('../input/feedback-prize-2021/test/' + f, 'r').read())\n",
    "test = pd.DataFrame({'id': test_names, 'text': test})\n",
    "test.head()"
   ]
  },
  {
   "cell_type": "code",
   "execution_count": 3,
   "id": "16ccfdb0",
   "metadata": {
    "execution": {
     "iopub.execute_input": "2022-03-16T17:15:15.758866Z",
     "iopub.status.busy": "2022-03-16T17:15:15.758121Z",
     "iopub.status.idle": "2022-03-16T17:15:15.760491Z",
     "shell.execute_reply": "2022-03-16T17:15:15.760077Z",
     "shell.execute_reply.started": "2022-03-13T16:32:36.188438Z"
    },
    "papermill": {
     "duration": 0.024314,
     "end_time": "2022-03-16T17:15:15.760594",
     "exception": false,
     "start_time": "2022-03-16T17:15:15.736280",
     "status": "completed"
    },
    "tags": []
   },
   "outputs": [],
   "source": [
    "test.columns = [\"id\", \"context\"]"
   ]
  },
  {
   "cell_type": "code",
   "execution_count": 4,
   "id": "74541355",
   "metadata": {
    "execution": {
     "iopub.execute_input": "2022-03-16T17:15:15.801120Z",
     "iopub.status.busy": "2022-03-16T17:15:15.800471Z",
     "iopub.status.idle": "2022-03-16T17:15:15.803311Z",
     "shell.execute_reply": "2022-03-16T17:15:15.802840Z",
     "shell.execute_reply.started": "2022-03-13T16:32:36.19582Z"
    },
    "papermill": {
     "duration": 0.024091,
     "end_time": "2022-03-16T17:15:15.803418",
     "exception": false,
     "start_time": "2022-03-16T17:15:15.779327",
     "status": "completed"
    },
    "tags": []
   },
   "outputs": [],
   "source": [
    "labels = ['Lead', 'Position', 'Evidence', 'Claim', 'Concluding Statement',\n",
    "             'Counterclaim', 'Rebuttal']"
   ]
  },
  {
   "cell_type": "code",
   "execution_count": 5,
   "id": "9a5a0aa7",
   "metadata": {
    "execution": {
     "iopub.execute_input": "2022-03-16T17:15:15.846845Z",
     "iopub.status.busy": "2022-03-16T17:15:15.846321Z",
     "iopub.status.idle": "2022-03-16T17:15:15.849776Z",
     "shell.execute_reply": "2022-03-16T17:15:15.850244Z",
     "shell.execute_reply.started": "2022-03-13T16:32:36.203656Z"
    },
    "papermill": {
     "duration": 0.028697,
     "end_time": "2022-03-16T17:15:15.850363",
     "exception": false,
     "start_time": "2022-03-16T17:15:15.821666",
     "status": "completed"
    },
    "tags": []
   },
   "outputs": [],
   "source": [
    "test['question'] = [labels for row in range(test.shape[0])]"
   ]
  },
  {
   "cell_type": "code",
   "execution_count": 6,
   "id": "a8a67fcf",
   "metadata": {
    "execution": {
     "iopub.execute_input": "2022-03-16T17:15:15.890638Z",
     "iopub.status.busy": "2022-03-16T17:15:15.889840Z",
     "iopub.status.idle": "2022-03-16T17:15:15.904518Z",
     "shell.execute_reply": "2022-03-16T17:15:15.904120Z",
     "shell.execute_reply.started": "2022-03-13T16:32:36.212868Z"
    },
    "papermill": {
     "duration": 0.035038,
     "end_time": "2022-03-16T17:15:15.904634",
     "exception": false,
     "start_time": "2022-03-16T17:15:15.869596",
     "status": "completed"
    },
    "tags": []
   },
   "outputs": [],
   "source": [
    "test = test.explode('question')"
   ]
  },
  {
   "cell_type": "code",
   "execution_count": 7,
   "id": "fe319a5a",
   "metadata": {
    "execution": {
     "iopub.execute_input": "2022-03-16T17:15:15.949407Z",
     "iopub.status.busy": "2022-03-16T17:15:15.948805Z",
     "iopub.status.idle": "2022-03-16T17:15:15.951503Z",
     "shell.execute_reply": "2022-03-16T17:15:15.952160Z",
     "shell.execute_reply.started": "2022-03-13T16:32:36.226067Z"
    },
    "papermill": {
     "duration": 0.026301,
     "end_time": "2022-03-16T17:15:15.952372",
     "exception": false,
     "start_time": "2022-03-16T17:15:15.926071",
     "status": "completed"
    },
    "tags": []
   },
   "outputs": [
    {
     "name": "stdout",
     "output_type": "stream",
     "text": [
      "There are 5 train texts.\n"
     ]
    }
   ],
   "source": [
    "IDS = test.id.unique()\n",
    "print('There are',len(IDS),'train texts.')"
   ]
  },
  {
   "cell_type": "code",
   "execution_count": 8,
   "id": "db758244",
   "metadata": {
    "execution": {
     "iopub.execute_input": "2022-03-16T17:15:15.995418Z",
     "iopub.status.busy": "2022-03-16T17:15:15.994881Z",
     "iopub.status.idle": "2022-03-16T17:15:16.055548Z",
     "shell.execute_reply": "2022-03-16T17:15:16.054888Z",
     "shell.execute_reply.started": "2022-03-13T16:32:36.235238Z"
    },
    "papermill": {
     "duration": 0.083352,
     "end_time": "2022-03-16T17:15:16.055663",
     "exception": false,
     "start_time": "2022-03-16T17:15:15.972311",
     "status": "completed"
    },
    "tags": []
   },
   "outputs": [],
   "source": [
    "#model_ckpt = \"distilbert-base-cased-distilled-squad\"\n",
    "model_checkpoint = \"../input/q-a-pytorch/model.h5\"\n",
    "# model_checkpoint = \"distilbert-base-cased-distilled-squad\"\n",
    "config_model = \"../input/q-a-pytorch/model.h5/config.json\"\n",
    "tokenizer = AutoTokenizer.from_pretrained(model_checkpoint)\n",
    "\n",
    "target_map = {'Lead':0, 'Position':1, 'Evidence':2, 'Claim':3, 'Concluding Statement':4,\n",
    "             'Counterclaim':5, 'Rebuttal':6}"
   ]
  },
  {
   "cell_type": "code",
   "execution_count": 9,
   "id": "f647bf29",
   "metadata": {
    "execution": {
     "iopub.execute_input": "2022-03-16T17:15:16.098187Z",
     "iopub.status.busy": "2022-03-16T17:15:16.097327Z",
     "iopub.status.idle": "2022-03-16T17:15:16.099781Z",
     "shell.execute_reply": "2022-03-16T17:15:16.099364Z",
     "shell.execute_reply.started": "2022-03-13T16:32:36.26412Z"
    },
    "papermill": {
     "duration": 0.024457,
     "end_time": "2022-03-16T17:15:16.099884",
     "exception": false,
     "start_time": "2022-03-16T17:15:16.075427",
     "status": "completed"
    },
    "tags": []
   },
   "outputs": [],
   "source": [
    "# os.mkdir('model')\n",
    "\n",
    "# tokenizer = AutoTokenizer.from_pretrained(model_checkpoint, add_prefix_space=True)\n",
    "# tokenizer.save_pretrained('model')\n",
    "\n",
    "# #     config_model = AutoConfig.from_pretrained(model_checkpoint) \n",
    "# #     config_model.num_labels = 15\n",
    "# #     config_model.save_pretrained('model')\n",
    "\n",
    "# backbone = AutoModelForQuestionAnswering.from_pretrained(model_checkpoint)\n",
    "# backbone.save_pretrained('model')"
   ]
  },
  {
   "cell_type": "code",
   "execution_count": 10,
   "id": "edaaaa74",
   "metadata": {
    "execution": {
     "iopub.execute_input": "2022-03-16T17:15:16.145850Z",
     "iopub.status.busy": "2022-03-16T17:15:16.145063Z",
     "iopub.status.idle": "2022-03-16T17:15:16.147145Z",
     "shell.execute_reply": "2022-03-16T17:15:16.147596Z",
     "shell.execute_reply.started": "2022-03-13T16:32:36.271181Z"
    },
    "papermill": {
     "duration": 0.029207,
     "end_time": "2022-03-16T17:15:16.147730",
     "exception": false,
     "start_time": "2022-03-16T17:15:16.118523",
     "status": "completed"
    },
    "tags": []
   },
   "outputs": [],
   "source": [
    "max_length = tokenizer.model_max_length\n",
    "stride = 64"
   ]
  },
  {
   "cell_type": "code",
   "execution_count": 11,
   "id": "6f24ed4d",
   "metadata": {
    "execution": {
     "iopub.execute_input": "2022-03-16T17:15:16.196197Z",
     "iopub.status.busy": "2022-03-16T17:15:16.195139Z",
     "iopub.status.idle": "2022-03-16T17:15:16.197147Z",
     "shell.execute_reply": "2022-03-16T17:15:16.197657Z",
     "shell.execute_reply.started": "2022-03-13T16:32:36.27754Z"
    },
    "papermill": {
     "duration": 0.029602,
     "end_time": "2022-03-16T17:15:16.197787",
     "exception": false,
     "start_time": "2022-03-16T17:15:16.168185",
     "status": "completed"
    },
    "tags": []
   },
   "outputs": [],
   "source": [
    "def preprocess_validation_examples(examples):\n",
    "    #strip removes leading and trailing whitespaces\n",
    "    questions = [q.strip() for q in examples[\"question\"]]\n",
    "    inputs = tokenizer(\n",
    "        questions,\n",
    "        examples[\"context\"],\n",
    "        max_length=max_length,\n",
    "        truncation=\"only_second\",\n",
    "        stride=stride,\n",
    "        return_overflowing_tokens=True,\n",
    "        return_offsets_mapping=True,\n",
    "        padding=\"max_length\",\n",
    "    )\n",
    "\n",
    "    sample_map = inputs.pop(\"overflow_to_sample_mapping\")\n",
    "    offset_mapping = inputs.pop(\"offset_mapping\")\n",
    "    example_ids = []\n",
    "\n",
    "    for i in range(len(inputs[\"input_ids\"])):\n",
    "        sample_idx = sample_map[i]\n",
    "        example_ids.append(examples[\"id\"][sample_idx])\n",
    "\n",
    "        sequence_ids = inputs.sequence_ids(i)\n",
    "#         offset = inputs[\"offset_mapping\"][i]\n",
    "#         inputs[\"offset_mapping\"][i] = [\n",
    "#             o if sequence_ids[k] == 1 else None for k, o in enumerate(offset)\n",
    "#         ]\n",
    "\n",
    "    inputs[\"example_id\"] = example_ids\n",
    "    \n",
    "    return inputs"
   ]
  },
  {
   "cell_type": "code",
   "execution_count": 12,
   "id": "05e5928b",
   "metadata": {
    "execution": {
     "iopub.execute_input": "2022-03-16T17:15:16.242650Z",
     "iopub.status.busy": "2022-03-16T17:15:16.242081Z",
     "iopub.status.idle": "2022-03-16T17:15:16.260251Z",
     "shell.execute_reply": "2022-03-16T17:15:16.260657Z",
     "shell.execute_reply.started": "2022-03-13T16:32:36.287982Z"
    },
    "papermill": {
     "duration": 0.042266,
     "end_time": "2022-03-16T17:15:16.260796",
     "exception": false,
     "start_time": "2022-03-16T17:15:16.218530",
     "status": "completed"
    },
    "tags": []
   },
   "outputs": [],
   "source": [
    "from datasets import Dataset\n",
    "dataset = Dataset.from_pandas(test)"
   ]
  },
  {
   "cell_type": "code",
   "execution_count": 13,
   "id": "3779cfb5",
   "metadata": {
    "execution": {
     "iopub.execute_input": "2022-03-16T17:15:16.304667Z",
     "iopub.status.busy": "2022-03-16T17:15:16.304069Z",
     "iopub.status.idle": "2022-03-16T17:15:16.306587Z",
     "shell.execute_reply": "2022-03-16T17:15:16.307020Z",
     "shell.execute_reply.started": "2022-03-13T16:32:36.406336Z"
    },
    "papermill": {
     "duration": 0.025838,
     "end_time": "2022-03-16T17:15:16.307144",
     "exception": false,
     "start_time": "2022-03-16T17:15:16.281306",
     "status": "completed"
    },
    "tags": []
   },
   "outputs": [
    {
     "data": {
      "text/plain": [
       "['id', 'context', 'question', '__index_level_0__']"
      ]
     },
     "execution_count": 13,
     "metadata": {},
     "output_type": "execute_result"
    }
   ],
   "source": [
    "dataset.column_names"
   ]
  },
  {
   "cell_type": "markdown",
   "id": "f8d9f29a",
   "metadata": {
    "papermill": {
     "duration": 0.018772,
     "end_time": "2022-03-16T17:15:16.344586",
     "exception": false,
     "start_time": "2022-03-16T17:15:16.325814",
     "status": "completed"
    },
    "tags": []
   },
   "source": [
    "# Build Model\n",
    "We will use LongFormer backbone and add our own NER head using one hidden layer of size 256 and one final layer with softmax. We use 15 classes because we have a `B` class and `I` class for each of 7 labels. And we have an additional class (called `O` class) for tokens that do not belong to one of the 14 classes."
   ]
  },
  {
   "cell_type": "code",
   "execution_count": 14,
   "id": "57ebdbd5",
   "metadata": {
    "execution": {
     "iopub.execute_input": "2022-03-16T17:15:16.385521Z",
     "iopub.status.busy": "2022-03-16T17:15:16.384732Z",
     "iopub.status.idle": "2022-03-16T17:15:16.426842Z",
     "shell.execute_reply": "2022-03-16T17:15:16.426412Z",
     "shell.execute_reply.started": "2022-03-13T16:32:36.414407Z"
    },
    "papermill": {
     "duration": 0.063096,
     "end_time": "2022-03-16T17:15:16.426976",
     "exception": false,
     "start_time": "2022-03-16T17:15:16.363880",
     "status": "completed"
    },
    "tags": []
   },
   "outputs": [],
   "source": [
    "import torch\n",
    "from transformers import AutoModelForQuestionAnswering\n",
    "\n",
    "device = torch.device(\"cuda\") if torch.cuda.is_available() else torch.device(\"cpu\")"
   ]
  },
  {
   "cell_type": "code",
   "execution_count": 15,
   "id": "f19f921b",
   "metadata": {
    "execution": {
     "iopub.execute_input": "2022-03-16T17:15:16.468558Z",
     "iopub.status.busy": "2022-03-16T17:15:16.467956Z",
     "iopub.status.idle": "2022-03-16T17:15:22.048789Z",
     "shell.execute_reply": "2022-03-16T17:15:22.048280Z",
     "shell.execute_reply.started": "2022-03-13T16:32:36.422349Z"
    },
    "papermill": {
     "duration": 5.602937,
     "end_time": "2022-03-16T17:15:22.048939",
     "exception": false,
     "start_time": "2022-03-16T17:15:16.446002",
     "status": "completed"
    },
    "tags": []
   },
   "outputs": [],
   "source": [
    "model = AutoModelForQuestionAnswering.from_pretrained(model_checkpoint)"
   ]
  },
  {
   "cell_type": "code",
   "execution_count": 16,
   "id": "956533f5",
   "metadata": {
    "execution": {
     "iopub.execute_input": "2022-03-16T17:15:22.091358Z",
     "iopub.status.busy": "2022-03-16T17:15:22.090682Z",
     "iopub.status.idle": "2022-03-16T17:15:22.092993Z",
     "shell.execute_reply": "2022-03-16T17:15:22.093436Z",
     "shell.execute_reply.started": "2022-03-13T16:32:38.349181Z"
    },
    "papermill": {
     "duration": 0.02483,
     "end_time": "2022-03-16T17:15:22.093573",
     "exception": false,
     "start_time": "2022-03-16T17:15:22.068743",
     "status": "completed"
    },
    "tags": []
   },
   "outputs": [],
   "source": [
    "# test_set"
   ]
  },
  {
   "cell_type": "code",
   "execution_count": 17,
   "id": "27793032",
   "metadata": {
    "execution": {
     "iopub.execute_input": "2022-03-16T17:15:22.135671Z",
     "iopub.status.busy": "2022-03-16T17:15:22.134841Z",
     "iopub.status.idle": "2022-03-16T17:15:22.139320Z",
     "shell.execute_reply": "2022-03-16T17:15:22.138865Z",
     "shell.execute_reply.started": "2022-03-13T16:32:38.354853Z"
    },
    "papermill": {
     "duration": 0.026442,
     "end_time": "2022-03-16T17:15:22.139425",
     "exception": false,
     "start_time": "2022-03-16T17:15:22.112983",
     "status": "completed"
    },
    "tags": []
   },
   "outputs": [],
   "source": [
    "pipe = QuestionAnsweringPipeline(model=model, tokenizer=tokenizer)"
   ]
  },
  {
   "cell_type": "code",
   "execution_count": 18,
   "id": "219f3586",
   "metadata": {
    "execution": {
     "iopub.execute_input": "2022-03-16T17:15:22.183574Z",
     "iopub.status.busy": "2022-03-16T17:15:22.182789Z",
     "iopub.status.idle": "2022-03-16T17:15:22.185153Z",
     "shell.execute_reply": "2022-03-16T17:15:22.184682Z",
     "shell.execute_reply.started": "2022-03-13T16:32:38.374982Z"
    },
    "papermill": {
     "duration": 0.026668,
     "end_time": "2022-03-16T17:15:22.185260",
     "exception": false,
     "start_time": "2022-03-16T17:15:22.158592",
     "status": "completed"
    },
    "tags": []
   },
   "outputs": [],
   "source": [
    "def preprocess(question, context, text_id):\n",
    "    inputs = tokenizer(\n",
    "        question,\n",
    "        context,\n",
    "        max_length=max_length,\n",
    "        truncation=\"only_second\",\n",
    "        stride=stride,\n",
    "        return_overflowing_tokens=True,\n",
    "        return_offsets_mapping=True,\n",
    "        padding=\"max_length\",\n",
    "        return_tensors = 'pt'\n",
    "    )\n",
    "\n",
    "    sample_map = inputs.pop(\"overflow_to_sample_mapping\")\n",
    "    offset_mapping = inputs.pop(\"offset_mapping\")\n",
    "#     example_ids = []\n",
    "\n",
    "#     for i in range(len(inputs[\"input_ids\"])):\n",
    "#         sample_idx = sample_map[i]\n",
    "#         example_ids.append(text_id)\n",
    "#         sequence_ids = inputs.sequence_ids(i)\n",
    "\n",
    "#     inputs[\"example_id\"] = example_ids\n",
    "    \n",
    "    return inputs, offset_mapping"
   ]
  },
  {
   "cell_type": "code",
   "execution_count": 19,
   "id": "d28ff151",
   "metadata": {
    "execution": {
     "iopub.execute_input": "2022-03-16T17:15:22.241243Z",
     "iopub.status.busy": "2022-03-16T17:15:22.240446Z",
     "iopub.status.idle": "2022-03-16T17:15:22.244768Z",
     "shell.execute_reply": "2022-03-16T17:15:22.244232Z",
     "shell.execute_reply.started": "2022-03-13T16:32:38.383353Z"
    },
    "papermill": {
     "duration": 0.040538,
     "end_time": "2022-03-16T17:15:22.244873",
     "exception": false,
     "start_time": "2022-03-16T17:15:22.204335",
     "status": "completed"
    },
    "tags": []
   },
   "outputs": [],
   "source": [
    "def get_predictions(outputs, inputs, offsets, context):\n",
    "    start_logits = outputs.start_logits\n",
    "    end_logits = outputs.end_logits\n",
    "    #print(start_logits.shape, end_logits.shape)\n",
    "    sequence_ids = inputs.sequence_ids()\n",
    "    # Mask everything apart from the tokens of the context\n",
    "    mask = [i != 1 for i in sequence_ids]\n",
    "    # Unmask the [CLS] token\n",
    "    mask[0] = False\n",
    "    # Mask all the [PAD] tokens\n",
    "    mask = torch.logical_or(torch.tensor(mask)[None], (inputs[\"attention_mask\"] == 0))\n",
    "\n",
    "    start_logits[mask] = -10000\n",
    "    end_logits[mask] = -10000\n",
    "    start_probabilities = torch.nn.functional.softmax(start_logits, dim=-1)\n",
    "    end_probabilities = torch.nn.functional.softmax(end_logits, dim=-1)\n",
    "    \n",
    "    candidates = []\n",
    "    for start_probs, end_probs in zip(start_probabilities, end_probabilities):\n",
    "        scores = start_probs[:, None] * end_probs[None, :]\n",
    "        idx = torch.triu(scores).argmax().item()\n",
    "\n",
    "        start_idx = idx // scores.shape[0]\n",
    "        end_idx = idx % scores.shape[0]\n",
    "        score = scores[start_idx, end_idx].item()\n",
    "        candidates.append((start_idx, end_idx, score))\n",
    "\n",
    "    #print(candidates)\n",
    "    results = []\n",
    "    for candidate, offset in zip(candidates, offsets):\n",
    "        start_token, end_token, score = candidate\n",
    "        start_char, _ = offset[start_token]\n",
    "        _, end_char = offset[end_token]\n",
    "        answer = context[start_char:end_char]\n",
    "        result = {\"answer\": answer, \"start\": start_char, \"end\": end_char, \"score\": score}\n",
    "        results.append(result)\n",
    "    return results"
   ]
  },
  {
   "cell_type": "code",
   "execution_count": 20,
   "id": "735d1e8e",
   "metadata": {
    "execution": {
     "iopub.execute_input": "2022-03-16T17:15:22.289059Z",
     "iopub.status.busy": "2022-03-16T17:15:22.288390Z",
     "iopub.status.idle": "2022-03-16T17:15:22.290424Z",
     "shell.execute_reply": "2022-03-16T17:15:22.290780Z",
     "shell.execute_reply.started": "2022-03-13T16:32:38.396587Z"
    },
    "papermill": {
     "duration": 0.026662,
     "end_time": "2022-03-16T17:15:22.290893",
     "exception": false,
     "start_time": "2022-03-16T17:15:22.264231",
     "status": "completed"
    },
    "tags": []
   },
   "outputs": [],
   "source": [
    "def get_predictionstring(result):\n",
    "    pred = result['answer']\n",
    "    if len(pred) == 0:\n",
    "        return \"\"\n",
    "    start = result['start']\n",
    "    end = result['end']\n",
    "    score = result['score']\n",
    "    start_index = len(context[:start].split())\n",
    "    end_index = start_index + len(pred.split())\n",
    "    predictionstring = \"\"\n",
    "    for i in range(start_index, end_index):\n",
    "        predictionstring += str(i) + \" \"\n",
    "    return predictionstring"
   ]
  },
  {
   "cell_type": "code",
   "execution_count": 21,
   "id": "a718ce5a",
   "metadata": {
    "execution": {
     "iopub.execute_input": "2022-03-16T17:15:22.333959Z",
     "iopub.status.busy": "2022-03-16T17:15:22.333298Z",
     "iopub.status.idle": "2022-03-16T17:15:22.335857Z",
     "shell.execute_reply": "2022-03-16T17:15:22.335430Z",
     "shell.execute_reply.started": "2022-03-13T16:32:38.407832Z"
    },
    "papermill": {
     "duration": 0.025755,
     "end_time": "2022-03-16T17:15:22.336002",
     "exception": false,
     "start_time": "2022-03-16T17:15:22.310247",
     "status": "completed"
    },
    "tags": []
   },
   "outputs": [],
   "source": [
    "test['predictionstring'] = \"\""
   ]
  },
  {
   "cell_type": "code",
   "execution_count": 22,
   "id": "4e68dea2",
   "metadata": {
    "execution": {
     "iopub.execute_input": "2022-03-16T17:15:22.378179Z",
     "iopub.status.busy": "2022-03-16T17:15:22.377403Z",
     "iopub.status.idle": "2022-03-16T17:15:22.381414Z",
     "shell.execute_reply": "2022-03-16T17:15:22.381833Z",
     "shell.execute_reply.started": "2022-03-13T16:32:38.417026Z"
    },
    "papermill": {
     "duration": 0.026051,
     "end_time": "2022-03-16T17:15:22.381980",
     "exception": false,
     "start_time": "2022-03-16T17:15:22.355929",
     "status": "completed"
    },
    "tags": []
   },
   "outputs": [],
   "source": [
    "predictions_dict = {}\n",
    "predictions_dict['id'] = []\n",
    "predictions_dict['class'] = []\n",
    "predictions_dict['predictionstring'] = []"
   ]
  },
  {
   "cell_type": "code",
   "execution_count": 23,
   "id": "66dcd7f7",
   "metadata": {
    "execution": {
     "iopub.execute_input": "2022-03-16T17:15:22.434549Z",
     "iopub.status.busy": "2022-03-16T17:15:22.428008Z",
     "iopub.status.idle": "2022-03-16T17:15:58.398870Z",
     "shell.execute_reply": "2022-03-16T17:15:58.398198Z"
    },
    "papermill": {
     "duration": 35.997818,
     "end_time": "2022-03-16T17:15:58.399018",
     "exception": false,
     "start_time": "2022-03-16T17:15:22.401200",
     "status": "completed"
    },
    "tags": []
   },
   "outputs": [
    {
     "name": "stderr",
     "output_type": "stream",
     "text": [
      "/opt/conda/lib/python3.7/site-packages/numpy/core/_asarray.py:83: VisibleDeprecationWarning: Creating an ndarray from ragged nested sequences (which is a list-or-tuple of lists-or-tuples-or ndarrays with different lengths or shapes) is deprecated. If you meant to do this, you must specify 'dtype=object' when creating the ndarray\n",
      "  return array(a, dtype, copy=False, order=order)\n"
     ]
    }
   ],
   "source": [
    "for item in dataset:\n",
    "    question = item['question']\n",
    "    text_id = item['id']\n",
    "    context = item['context']\n",
    "#     inputs, offset_mapping = preprocess(question, context, text_id)\n",
    "#     outputs = model(**inputs)\n",
    "#     results_model = get_predictions(outputs, inputs, offset_mapping, context)\n",
    "    with torch.no_grad():\n",
    "        results = pipe(question = question, context = context, top_k = 2, max_seq_len = max_length, max_answer_len = max_length)\n",
    "    for result in results:\n",
    "        predictionstring = get_predictionstring(result)\n",
    "        if len(predictionstring) == 0:\n",
    "            continue\n",
    "        predictions_dict['id'].append(text_id)\n",
    "        predictions_dict['class'].append(question)\n",
    "        predictions_dict['predictionstring'].append(predictionstring)\n",
    "#         counter += 1\n",
    "#         if counter > 3:\n",
    "#             break\n",
    "            "
   ]
  },
  {
   "cell_type": "code",
   "execution_count": 24,
   "id": "dde4a3b3",
   "metadata": {
    "execution": {
     "iopub.execute_input": "2022-03-16T17:15:58.443231Z",
     "iopub.status.busy": "2022-03-16T17:15:58.440995Z",
     "iopub.status.idle": "2022-03-16T17:15:58.446295Z",
     "shell.execute_reply": "2022-03-16T17:15:58.445862Z",
     "shell.execute_reply.started": "2022-03-13T16:33:16.122644Z"
    },
    "papermill": {
     "duration": 0.026772,
     "end_time": "2022-03-16T17:15:58.446406",
     "exception": false,
     "start_time": "2022-03-16T17:15:58.419634",
     "status": "completed"
    },
    "tags": []
   },
   "outputs": [],
   "source": [
    "sub = pd.DataFrame.from_dict(predictions_dict)"
   ]
  },
  {
   "cell_type": "code",
   "execution_count": 25,
   "id": "a77a8a97",
   "metadata": {
    "execution": {
     "iopub.execute_input": "2022-03-16T17:15:58.487828Z",
     "iopub.status.busy": "2022-03-16T17:15:58.487339Z",
     "iopub.status.idle": "2022-03-16T17:15:58.494243Z",
     "shell.execute_reply": "2022-03-16T17:15:58.493810Z",
     "shell.execute_reply.started": "2022-03-13T16:33:16.129768Z"
    },
    "papermill": {
     "duration": 0.028926,
     "end_time": "2022-03-16T17:15:58.494353",
     "exception": false,
     "start_time": "2022-03-16T17:15:58.465427",
     "status": "completed"
    },
    "tags": []
   },
   "outputs": [],
   "source": [
    "sub.to_csv(\"submission.csv\", index = False)"
   ]
  }
 ],
 "metadata": {
  "kernelspec": {
   "display_name": "Python 3",
   "language": "python",
   "name": "python3"
  },
  "language_info": {
   "codemirror_mode": {
    "name": "ipython",
    "version": 3
   },
   "file_extension": ".py",
   "mimetype": "text/x-python",
   "name": "python",
   "nbconvert_exporter": "python",
   "pygments_lexer": "ipython3",
   "version": "3.7.12"
  },
  "papermill": {
   "default_parameters": {},
   "duration": 65.511552,
   "end_time": "2022-03-16T17:16:02.062139",
   "environment_variables": {},
   "exception": null,
   "input_path": "__notebook__.ipynb",
   "output_path": "__notebook__.ipynb",
   "parameters": {},
   "start_time": "2022-03-16T17:14:56.550587",
   "version": "2.3.3"
  }
 },
 "nbformat": 4,
 "nbformat_minor": 5
}
