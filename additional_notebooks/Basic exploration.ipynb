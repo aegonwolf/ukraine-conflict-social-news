{
 "cells": [
  {
   "cell_type": "code",
   "execution_count": 1,
   "id": "83a074ee",
   "metadata": {
    "ExecuteTime": {
     "end_time": "2022-03-22T16:20:44.801074Z",
     "start_time": "2022-03-22T16:20:41.396090Z"
    }
   },
   "outputs": [],
   "source": [
    "from collections import defaultdict\n",
    "from matplotlib import pyplot as plt\n",
    "from typing import Optional\n",
    "\n",
    "import os\n",
    "import re\n",
    "import networkx as nx\n",
    "import numpy as np\n",
    "import pandas as pd"
   ]
  },
  {
   "cell_type": "code",
   "execution_count": 2,
   "id": "d9d48a27",
   "metadata": {
    "ExecuteTime": {
     "end_time": "2022-03-22T16:20:44.817072Z",
     "start_time": "2022-03-22T16:20:44.805101Z"
    }
   },
   "outputs": [],
   "source": [
    "path = \"../data/ukraine/\""
   ]
  },
  {
   "cell_type": "code",
   "execution_count": 2,
   "id": "6a620e45",
   "metadata": {
    "ExecuteTime": {
     "end_time": "2022-03-22T14:37:18.721250Z",
     "start_time": "2022-03-22T14:35:31.977409Z"
    },
    "deletable": false,
    "editable": false,
    "run_control": {
     "frozen": true
    }
   },
   "outputs": [
    {
     "name": "stderr",
     "output_type": "stream",
     "text": [
      "C:\\Users\\Flo\\AppData\\Local\\Temp\\ipykernel_14008\\942500209.py:6: DtypeWarning: Columns (15) have mixed types. Specify dtype option on import or set low_memory=False.\n",
      "  temp = pd.read_csv(\n",
      "C:\\Users\\Flo\\AppData\\Local\\Temp\\ipykernel_14008\\942500209.py:6: DtypeWarning: Columns (15) have mixed types. Specify dtype option on import or set low_memory=False.\n",
      "  temp = pd.read_csv(\n",
      "C:\\Users\\Flo\\AppData\\Local\\Temp\\ipykernel_14008\\942500209.py:6: DtypeWarning: Columns (15) have mixed types. Specify dtype option on import or set low_memory=False.\n",
      "  temp = pd.read_csv(\n",
      "C:\\Users\\Flo\\AppData\\Local\\Temp\\ipykernel_14008\\942500209.py:6: DtypeWarning: Columns (15) have mixed types. Specify dtype option on import or set low_memory=False.\n",
      "  temp = pd.read_csv(\n",
      "C:\\Users\\Flo\\AppData\\Local\\Temp\\ipykernel_14008\\942500209.py:6: DtypeWarning: Columns (15) have mixed types. Specify dtype option on import or set low_memory=False.\n",
      "  temp = pd.read_csv(\n"
     ]
    }
   ],
   "source": [
    "df = pd.DataFrame()\n",
    "\n",
    "for filename in os.listdir(path):\n",
    "    if filename[-5:] == \".gzip\":\n",
    "        temp = pd.read_csv(\n",
    "            path + filename, \n",
    "            compression=\"gzip\",\n",
    "            index_col=0\n",
    "        )\n",
    "        df = pd.concat([ df, temp ])"
   ]
  },
  {
   "cell_type": "code",
   "execution_count": 3,
   "id": "9420dd25",
   "metadata": {
    "ExecuteTime": {
     "end_time": "2022-03-22T14:41:17.464338Z",
     "start_time": "2022-03-22T14:37:23.925452Z"
    },
    "deletable": false,
    "editable": false,
    "run_control": {
     "frozen": true
    }
   },
   "outputs": [],
   "source": [
    "df.to_csv(path + \"UkraineCombinedTweetsDeduped.csv.gzip\",\n",
    "          compression= \"gzip\")"
   ]
  },
  {
   "cell_type": "code",
   "execution_count": 3,
   "id": "41b5f680",
   "metadata": {
    "ExecuteTime": {
     "end_time": "2022-03-22T16:24:34.388718Z",
     "start_time": "2022-03-22T16:20:44.821382Z"
    }
   },
   "outputs": [
    {
     "name": "stderr",
     "output_type": "stream",
     "text": [
      "C:\\Users\\Flo\\AppData\\Local\\Temp\\ipykernel_14460\\1015441068.py:1: DtypeWarning: Columns (15) have mixed types. Specify dtype option on import or set low_memory=False.\n",
      "  df = pd.read_csv(\n"
     ]
    }
   ],
   "source": [
    "df = pd.read_csv(\n",
    "    path + \"UkraineCombinedTweetsDeduped.csv.gzip\",\n",
    "    compression= \"gzip\",\n",
    "    index_col=0\n",
    ")"
   ]
  },
  {
   "cell_type": "code",
   "execution_count": 4,
   "id": "9a9b7761",
   "metadata": {
    "ExecuteTime": {
     "end_time": "2022-03-22T16:24:38.793116Z",
     "start_time": "2022-03-22T16:24:34.449128Z"
    }
   },
   "outputs": [
    {
     "name": "stdout",
     "output_type": "stream",
     "text": [
      "(1777018, 8)\n"
     ]
    },
    {
     "data": {
      "text/html": [
       "<div>\n",
       "<style scoped>\n",
       "    .dataframe tbody tr th:only-of-type {\n",
       "        vertical-align: middle;\n",
       "    }\n",
       "\n",
       "    .dataframe tbody tr th {\n",
       "        vertical-align: top;\n",
       "    }\n",
       "\n",
       "    .dataframe thead th {\n",
       "        text-align: right;\n",
       "    }\n",
       "</style>\n",
       "<table border=\"1\" class=\"dataframe\">\n",
       "  <thead>\n",
       "    <tr style=\"text-align: right;\">\n",
       "      <th></th>\n",
       "      <th>userid</th>\n",
       "      <th>username</th>\n",
       "      <th>acctdesc</th>\n",
       "      <th>location</th>\n",
       "      <th>following</th>\n",
       "      <th>followers</th>\n",
       "      <th>totaltweets</th>\n",
       "      <th>usercreatedts</th>\n",
       "    </tr>\n",
       "  </thead>\n",
       "  <tbody>\n",
       "    <tr>\n",
       "      <th>0</th>\n",
       "      <td>962369743</td>\n",
       "      <td>toonspt_</td>\n",
       "      <td>พยรลก 😉\\nจะเปิดแอคเมื่อขายของเท่านั้น!!</td>\n",
       "      <td>NaN</td>\n",
       "      <td>462</td>\n",
       "      <td>7</td>\n",
       "      <td>20549</td>\n",
       "      <td>2012-11-21 13:01:19.000000</td>\n",
       "    </tr>\n",
       "    <tr>\n",
       "      <th>1</th>\n",
       "      <td>865846412755353600</td>\n",
       "      <td>SabrinaBbsmith</td>\n",
       "      <td>อ้ายคือปริญญาใจน้องจึงยิ้มได้วันนี้ #สมรสเท่าเ...</td>\n",
       "      <td>Just go for it</td>\n",
       "      <td>385</td>\n",
       "      <td>503</td>\n",
       "      <td>84016</td>\n",
       "      <td>2017-05-20 08:27:26.000000</td>\n",
       "    </tr>\n",
       "    <tr>\n",
       "      <th>2</th>\n",
       "      <td>1927022036</td>\n",
       "      <td>haleggwenn</td>\n",
       "      <td>Mathe &amp; Kulturanthropologie • Feminismus, Anti...</td>\n",
       "      <td>Göttingen, Germany</td>\n",
       "      <td>251</td>\n",
       "      <td>51</td>\n",
       "      <td>78</td>\n",
       "      <td>2013-10-02 14:19:01.000000</td>\n",
       "    </tr>\n",
       "    <tr>\n",
       "      <th>3</th>\n",
       "      <td>1073676020</td>\n",
       "      <td>IndiaTodayFLASH</td>\n",
       "      <td>No dragging feet on news. Crisp &amp; short news s...</td>\n",
       "      <td>NaN</td>\n",
       "      <td>117</td>\n",
       "      <td>1152610</td>\n",
       "      <td>589066</td>\n",
       "      <td>2013-01-09 12:46:38.000000</td>\n",
       "    </tr>\n",
       "    <tr>\n",
       "      <th>4</th>\n",
       "      <td>1484119658488033281</td>\n",
       "      <td>sandsand_fight</td>\n",
       "      <td>NaN</td>\n",
       "      <td>NaN</td>\n",
       "      <td>128</td>\n",
       "      <td>3</td>\n",
       "      <td>691</td>\n",
       "      <td>2022-01-20 11:05:01.000000</td>\n",
       "    </tr>\n",
       "  </tbody>\n",
       "</table>\n",
       "</div>"
      ],
      "text/plain": [
       "                userid         username  \\\n",
       "0            962369743         toonspt_   \n",
       "1   865846412755353600   SabrinaBbsmith   \n",
       "2           1927022036       haleggwenn   \n",
       "3           1073676020  IndiaTodayFLASH   \n",
       "4  1484119658488033281   sandsand_fight   \n",
       "\n",
       "                                            acctdesc            location  \\\n",
       "0            พยรลก 😉\\nจะเปิดแอคเมื่อขายของเท่านั้น!!                 NaN   \n",
       "1  อ้ายคือปริญญาใจน้องจึงยิ้มได้วันนี้ #สมรสเท่าเ...      Just go for it   \n",
       "2  Mathe & Kulturanthropologie • Feminismus, Anti...  Göttingen, Germany   \n",
       "3  No dragging feet on news. Crisp & short news s...                 NaN   \n",
       "4                                                NaN                 NaN   \n",
       "\n",
       "   following  followers  totaltweets               usercreatedts  \n",
       "0        462          7        20549  2012-11-21 13:01:19.000000  \n",
       "1        385        503        84016  2017-05-20 08:27:26.000000  \n",
       "2        251         51           78  2013-10-02 14:19:01.000000  \n",
       "3        117    1152610       589066  2013-01-09 12:46:38.000000  \n",
       "4        128          3          691  2022-01-20 11:05:01.000000  "
      ]
     },
     "execution_count": 4,
     "metadata": {},
     "output_type": "execute_result"
    }
   ],
   "source": [
    "df_users = df[[\n",
    "    'userid', 'username', 'acctdesc', 'location', 'following',\n",
    "    'followers', 'totaltweets', 'usercreatedts'\n",
    "]]\n",
    "df_users = df_users.drop_duplicates(subset=['userid'])\n",
    "print(df_users.shape)\n",
    "df_users.head()"
   ]
  },
  {
   "cell_type": "code",
   "execution_count": 5,
   "id": "4a1ab4f9",
   "metadata": {
    "ExecuteTime": {
     "end_time": "2022-03-22T16:25:07.823469Z",
     "start_time": "2022-03-22T16:24:38.798313Z"
    }
   },
   "outputs": [
    {
     "name": "stdout",
     "output_type": "stream",
     "text": [
      "(1460910, 8)\n"
     ]
    },
    {
     "data": {
      "text/html": [
       "<div>\n",
       "<style scoped>\n",
       "    .dataframe tbody tr th:only-of-type {\n",
       "        vertical-align: middle;\n",
       "    }\n",
       "\n",
       "    .dataframe tbody tr th {\n",
       "        vertical-align: top;\n",
       "    }\n",
       "\n",
       "    .dataframe thead th {\n",
       "        text-align: right;\n",
       "    }\n",
       "</style>\n",
       "<table border=\"1\" class=\"dataframe\">\n",
       "  <thead>\n",
       "    <tr style=\"text-align: right;\">\n",
       "      <th></th>\n",
       "      <th>userid</th>\n",
       "      <th>tweetid</th>\n",
       "      <th>tweetcreatedts</th>\n",
       "      <th>retweetcount</th>\n",
       "      <th>text</th>\n",
       "      <th>hashtags</th>\n",
       "      <th>language</th>\n",
       "      <th>favorite_count</th>\n",
       "    </tr>\n",
       "  </thead>\n",
       "  <tbody>\n",
       "    <tr>\n",
       "      <th>0</th>\n",
       "      <td>962369743</td>\n",
       "      <td>1496738675085897729</td>\n",
       "      <td>2022-02-24 06:48:02.000000</td>\n",
       "      <td>1897</td>\n",
       "      <td>Footage of the airport bombing in Ivano-Franki...</td>\n",
       "      <td>[Ukraine, Russia]</td>\n",
       "      <td>en</td>\n",
       "      <td>0</td>\n",
       "    </tr>\n",
       "    <tr>\n",
       "      <th>1</th>\n",
       "      <td>865846412755353600</td>\n",
       "      <td>1496738675140538368</td>\n",
       "      <td>2022-02-24 06:48:02.000000</td>\n",
       "      <td>3534</td>\n",
       "      <td>12.37 น. เจมส์ วอเตอร์เฮาส์ ผู้สื่อข่าว BBC ใน...</td>\n",
       "      <td>[]</td>\n",
       "      <td>th</td>\n",
       "      <td>0</td>\n",
       "    </tr>\n",
       "    <tr>\n",
       "      <th>2</th>\n",
       "      <td>1927022036</td>\n",
       "      <td>1496738675522248706</td>\n",
       "      <td>2022-02-24 06:48:02.000000</td>\n",
       "      <td>0</td>\n",
       "      <td>Die Rede von #Putin ist echt gruselig:\\n\"Russl...</td>\n",
       "      <td>[Putin, Ukraine]</td>\n",
       "      <td>de</td>\n",
       "      <td>0</td>\n",
       "    </tr>\n",
       "    <tr>\n",
       "      <th>3</th>\n",
       "      <td>1073676020</td>\n",
       "      <td>1496738675584954371</td>\n",
       "      <td>2022-02-24 06:48:02.000000</td>\n",
       "      <td>18</td>\n",
       "      <td>Ukraine MP Sophia Fedyna tells about the groun...</td>\n",
       "      <td>[ITVideo]</td>\n",
       "      <td>en</td>\n",
       "      <td>0</td>\n",
       "    </tr>\n",
       "    <tr>\n",
       "      <th>4</th>\n",
       "      <td>1484119658488033281</td>\n",
       "      <td>1496738675710857224</td>\n",
       "      <td>2022-02-24 06:48:03.000000</td>\n",
       "      <td>3974</td>\n",
       "      <td>รัสเซียยิงขีปนาวุธรัวๆไปยังยูเครน\\n#รัสเซียยูเ...</td>\n",
       "      <td>[RussiaUkraine, UkraineRussiaCrisis]</td>\n",
       "      <td>th</td>\n",
       "      <td>0</td>\n",
       "    </tr>\n",
       "  </tbody>\n",
       "</table>\n",
       "</div>"
      ],
      "text/plain": [
       "                userid              tweetid              tweetcreatedts  \\\n",
       "0            962369743  1496738675085897729  2022-02-24 06:48:02.000000   \n",
       "1   865846412755353600  1496738675140538368  2022-02-24 06:48:02.000000   \n",
       "2           1927022036  1496738675522248706  2022-02-24 06:48:02.000000   \n",
       "3           1073676020  1496738675584954371  2022-02-24 06:48:02.000000   \n",
       "4  1484119658488033281  1496738675710857224  2022-02-24 06:48:03.000000   \n",
       "\n",
       "   retweetcount                                               text  \\\n",
       "0          1897  Footage of the airport bombing in Ivano-Franki...   \n",
       "1          3534  12.37 น. เจมส์ วอเตอร์เฮาส์ ผู้สื่อข่าว BBC ใน...   \n",
       "2             0  Die Rede von #Putin ist echt gruselig:\\n\"Russl...   \n",
       "3            18  Ukraine MP Sophia Fedyna tells about the groun...   \n",
       "4          3974  รัสเซียยิงขีปนาวุธรัวๆไปยังยูเครน\\n#รัสเซียยูเ...   \n",
       "\n",
       "                               hashtags language  favorite_count  \n",
       "0                     [Ukraine, Russia]       en               0  \n",
       "1                                    []       th               0  \n",
       "2                      [Putin, Ukraine]       de               0  \n",
       "3                             [ITVideo]       en               0  \n",
       "4  [RussiaUkraine, UkraineRussiaCrisis]       th               0  "
      ]
     },
     "execution_count": 5,
     "metadata": {},
     "output_type": "execute_result"
    }
   ],
   "source": [
    "df_tweets = df[[\n",
    "    'userid',\n",
    "    'tweetid', 'tweetcreatedts', 'retweetcount', 'text',\n",
    "    'hashtags', 'language', 'favorite_count',\n",
    "    # 'coordinates', 'extractedts'\n",
    "]]\n",
    "df_tweets = df_tweets.drop_duplicates(subset=['text'])\n",
    "df_tweets['hashtags'] = df_tweets['hashtags'].apply(\n",
    "    lambda string: re.findall(r\"(?<=[\\\"\\']text[\\\"\\']: [\\\"\\'])\\w+(?=[\\\"\\'],)\", string)\n",
    ")\n",
    "print(df_tweets.shape)\n",
    "df_tweets.head()"
   ]
  },
  {
   "cell_type": "markdown",
   "id": "e88897f7",
   "metadata": {},
   "source": [
    "# Basic exploration"
   ]
  },
  {
   "cell_type": "code",
   "execution_count": 6,
   "id": "6e720b50",
   "metadata": {
    "ExecuteTime": {
     "end_time": "2022-03-22T16:25:07.871978Z",
     "start_time": "2022-03-22T16:25:07.833001Z"
    }
   },
   "outputs": [],
   "source": [
    "def explore(df: pd.DataFrame, col: str, continuous: bool = True, index: str = \"\"):\n",
    "    \"\"\" Shows basic stats and plots histogram / bar plot \"\"\"\n",
    "    s = df[col] if continuous else df[col].value_counts()\n",
    "    print(s.describe())\n",
    "    \n",
    "    if continuous:\n",
    "        s.hist(log=True, bins=20)\n",
    "    else:\n",
    "        if index:\n",
    "            s.index = [\n",
    "                df[df[col] == idx][index].iloc[0]\n",
    "                for idx in s.index\n",
    "            ]\n",
    "        s[:20].plot.bar(log=True)\n",
    "    plt.show()\n",
    "    \n",
    "    \n",
    "def build_cat(s: pd.Series, lims: list):\n",
    "    \"\"\" Builds categories according to limits \"\"\"\n",
    "    lims.sort()\n",
    "    \n",
    "    def get_cat(x):\n",
    "        for i, lim in enumerate(lims):\n",
    "            if x < lim:\n",
    "                return i\n",
    "        return len(lims)\n",
    "    \n",
    "    s_cat = s.apply(get_cat)\n",
    "    print(s_cat.value_counts())\n",
    "    return s_cat"
   ]
  },
  {
   "cell_type": "code",
   "execution_count": 7,
   "id": "9a82f752",
   "metadata": {
    "ExecuteTime": {
     "end_time": "2022-03-22T16:25:07.887574Z",
     "start_time": "2022-03-22T16:25:07.875349Z"
    }
   },
   "outputs": [],
   "source": [
    "def plot_timestamps(s: pd.Series):\n",
    "    \"\"\" Plot timestamp data (per day) \"\"\"\n",
    "    s_count = s.apply(\n",
    "        lambda date: date.split()[0]\n",
    "    ).value_counts()\n",
    "    s_count = s_count.sort_index()\n",
    "    print(s_count)\n",
    "    s_count.plot.line()\n",
    "    plt.show()"
   ]
  },
  {
   "cell_type": "markdown",
   "id": "df5f1460",
   "metadata": {},
   "source": [
    "## df_users"
   ]
  },
  {
   "cell_type": "markdown",
   "id": "ae37190d",
   "metadata": {},
   "source": [
    "### totaltweets"
   ]
  },
  {
   "cell_type": "code",
   "execution_count": 8,
   "id": "bd790753",
   "metadata": {
    "ExecuteTime": {
     "end_time": "2022-03-22T16:25:09.880911Z",
     "start_time": "2022-03-22T16:25:07.891565Z"
    }
   },
   "outputs": [
    {
     "name": "stdout",
     "output_type": "stream",
     "text": [
      "count    1.777018e+06\n",
      "mean     2.434179e+04\n",
      "std      6.202917e+04\n",
      "min      0.000000e+00\n",
      "25%      6.240000e+02\n",
      "50%      4.410000e+03\n",
      "75%      2.023100e+04\n",
      "max      4.238289e+06\n",
      "Name: totaltweets, dtype: float64\n"
     ]
    },
    {
     "data": {
      "image/png": "[encoded data removed]",
      "text/plain": [
       "<Figure size 432x288 with 1 Axes>"
      ]
     },
     "metadata": {
      "needs_background": "light"
     },
     "output_type": "display_data"
    }
   ],
   "source": [
    "explore(df_users, 'totaltweets', continuous=True)"
   ]
  },
  {
   "cell_type": "code",
   "execution_count": 9,
   "id": "992501b8",
   "metadata": {
    "ExecuteTime": {
     "end_time": "2022-03-22T16:25:11.668356Z",
     "start_time": "2022-03-22T16:25:09.888651Z"
    }
   },
   "outputs": [
    {
     "name": "stdout",
     "output_type": "stream",
     "text": [
      "0    1777008\n",
      "1          7\n",
      "2          3\n",
      "Name: totaltweets, dtype: int64\n"
     ]
    }
   ],
   "source": [
    "lims = [ 2850000, 3700000 ]\n",
    "df_users['totaltweets_cat'] = build_cat(df_users['totaltweets'], lims)"
   ]
  },
  {
   "cell_type": "markdown",
   "id": "224479ac",
   "metadata": {},
   "source": [
    "### following"
   ]
  },
  {
   "cell_type": "code",
   "execution_count": 10,
   "id": "4b64f160",
   "metadata": {
    "ExecuteTime": {
     "end_time": "2022-03-22T16:25:12.870565Z",
     "start_time": "2022-03-22T16:25:11.680876Z"
    }
   },
   "outputs": [
    {
     "name": "stdout",
     "output_type": "stream",
     "text": [
      "count    1.777018e+06\n",
      "mean     1.047519e+03\n",
      "std      4.233490e+03\n",
      "min      0.000000e+00\n",
      "25%      1.170000e+02\n",
      "50%      3.650000e+02\n",
      "75%      1.008000e+03\n",
      "max      1.422324e+06\n",
      "Name: following, dtype: float64\n"
     ]
    },
    {
     "data": {
      "image/png": "[encoded data removed]",
      "text/plain": [
       "<Figure size 432x288 with 1 Axes>"
      ]
     },
     "metadata": {
      "needs_background": "light"
     },
     "output_type": "display_data"
    }
   ],
   "source": [
    "explore(df_users, 'following', continuous=True)"
   ]
  },
  {
   "cell_type": "code",
   "execution_count": 11,
   "id": "3523a02c",
   "metadata": {
    "ExecuteTime": {
     "end_time": "2022-03-22T16:25:14.774998Z",
     "start_time": "2022-03-22T16:25:12.872530Z"
    }
   },
   "outputs": [
    {
     "name": "stdout",
     "output_type": "stream",
     "text": [
      "0    1777005\n",
      "1          9\n",
      "2          4\n",
      "Name: following, dtype: int64\n"
     ]
    }
   ],
   "source": [
    "lims = [ 500000, 1000000 ]\n",
    "df_users['following_cat'] = build_cat(df_users['following'], lims)"
   ]
  },
  {
   "cell_type": "markdown",
   "id": "bbc9488b",
   "metadata": {},
   "source": [
    "### followers"
   ]
  },
  {
   "cell_type": "code",
   "execution_count": 12,
   "id": "cb4c35d5",
   "metadata": {
    "ExecuteTime": {
     "end_time": "2022-03-22T16:25:16.011975Z",
     "start_time": "2022-03-22T16:25:14.779038Z"
    }
   },
   "outputs": [
    {
     "name": "stdout",
     "output_type": "stream",
     "text": [
      "count    1.777018e+06\n",
      "mean     2.922749e+03\n",
      "std      9.315339e+04\n",
      "min      0.000000e+00\n",
      "25%      3.100000e+01\n",
      "50%      1.650000e+02\n",
      "75%      6.940000e+02\n",
      "max      5.201331e+07\n",
      "Name: followers, dtype: float64\n"
     ]
    },
    {
     "data": {
      "image/png": "[encoded data removed]",
      "text/plain": [
       "<Figure size 432x288 with 1 Axes>"
      ]
     },
     "metadata": {
      "needs_background": "light"
     },
     "output_type": "display_data"
    }
   ],
   "source": [
    "explore(df_users, 'followers', continuous=True)"
   ]
  },
  {
   "cell_type": "code",
   "execution_count": 13,
   "id": "ac0b47cf",
   "metadata": {
    "ExecuteTime": {
     "end_time": "2022-03-22T16:25:17.871311Z",
     "start_time": "2022-03-22T16:25:16.016019Z"
    }
   },
   "outputs": [
    {
     "name": "stdout",
     "output_type": "stream",
     "text": [
      "0    1776999\n",
      "2         10\n",
      "1          9\n",
      "Name: followers, dtype: int64\n"
     ]
    }
   ],
   "source": [
    "lims = [ 11500000, 15000000 ]\n",
    "df_users['followers_cat'] = build_cat(df_users['followers'], lims)"
   ]
  },
  {
   "cell_type": "markdown",
   "id": "22831f4c",
   "metadata": {},
   "source": [
    "### location"
   ]
  },
  {
   "cell_type": "code",
   "execution_count": 14,
   "id": "c583871f",
   "metadata": {
    "ExecuteTime": {
     "end_time": "2022-03-22T16:25:19.958528Z",
     "start_time": "2022-03-22T16:25:17.874319Z"
    }
   },
   "outputs": [
    {
     "name": "stdout",
     "output_type": "stream",
     "text": [
      "count    335650.000000\n",
      "mean          3.052927\n",
      "std          49.514377\n",
      "min           1.000000\n",
      "25%           1.000000\n",
      "50%           1.000000\n",
      "75%           1.000000\n",
      "max       11139.000000\n",
      "Name: location, dtype: float64\n"
     ]
    },
    {
     "name": "stderr",
     "output_type": "stream",
     "text": [
      "c:\\users\\flo\\miniconda3\\lib\\site-packages\\IPython\\core\\pylabtools.py:151: UserWarning: Glyph 3611 (\\N{THAI CHARACTER PO PLA}) missing from current font.\n",
      "  fig.canvas.print_figure(bytes_io, **kw)\n",
      "c:\\users\\flo\\miniconda3\\lib\\site-packages\\IPython\\core\\pylabtools.py:151: UserWarning: Glyph 3619 (\\N{THAI CHARACTER RO RUA}) missing from current font.\n",
      "  fig.canvas.print_figure(bytes_io, **kw)\n",
      "c:\\users\\flo\\miniconda3\\lib\\site-packages\\IPython\\core\\pylabtools.py:151: UserWarning: Glyph 3632 (\\N{THAI CHARACTER SARA A}) missing from current font.\n",
      "  fig.canvas.print_figure(bytes_io, **kw)\n",
      "c:\\users\\flo\\miniconda3\\lib\\site-packages\\IPython\\core\\pylabtools.py:151: UserWarning: Glyph 3648 (\\N{THAI CHARACTER SARA E}) missing from current font.\n",
      "  fig.canvas.print_figure(bytes_io, **kw)\n",
      "c:\\users\\flo\\miniconda3\\lib\\site-packages\\IPython\\core\\pylabtools.py:151: UserWarning: Glyph 3607 (\\N{THAI CHARACTER THO THAHAN}) missing from current font.\n",
      "  fig.canvas.print_figure(bytes_io, **kw)\n",
      "c:\\users\\flo\\miniconda3\\lib\\site-packages\\IPython\\core\\pylabtools.py:151: UserWarning: Glyph 3624 (\\N{THAI CHARACTER SO SALA}) missing from current font.\n",
      "  fig.canvas.print_figure(bytes_io, **kw)\n",
      "c:\\users\\flo\\miniconda3\\lib\\site-packages\\IPython\\core\\pylabtools.py:151: UserWarning: Glyph 3652 (\\N{THAI CHARACTER SARA AI MAIMALAI}) missing from current font.\n",
      "  fig.canvas.print_figure(bytes_io, **kw)\n",
      "c:\\users\\flo\\miniconda3\\lib\\site-packages\\IPython\\core\\pylabtools.py:151: UserWarning: Glyph 3618 (\\N{THAI CHARACTER YO YAK}) missing from current font.\n",
      "  fig.canvas.print_figure(bytes_io, **kw)\n"
     ]
    },
    {
     "data": {
      "image/png": "[encoded data removed]",
      "text/plain": [
       "<Figure size 432x288 with 1 Axes>"
      ]
     },
     "metadata": {
      "needs_background": "light"
     },
     "output_type": "display_data"
    }
   ],
   "source": [
    "explore(df_users, 'location', continuous=False)"
   ]
  },
  {
   "cell_type": "markdown",
   "id": "16834a32",
   "metadata": {},
   "source": [
    "### usercreatedts"
   ]
  },
  {
   "cell_type": "code",
   "execution_count": 15,
   "id": "c4bcf84f",
   "metadata": {
    "ExecuteTime": {
     "end_time": "2022-03-22T16:25:22.403025Z",
     "start_time": "2022-03-22T16:25:19.963546Z"
    }
   },
   "outputs": [
    {
     "name": "stdout",
     "output_type": "stream",
     "text": [
      "1970-01-01       3\n",
      "2006-05-01       1\n",
      "2006-07-13       1\n",
      "2006-07-14       3\n",
      "2006-07-15       1\n",
      "              ... \n",
      "2022-03-02    2900\n",
      "2022-03-03    2692\n",
      "2022-03-04    6227\n",
      "2022-03-05    2761\n",
      "2022-03-06    2590\n",
      "Name: usercreatedts, Length: 5635, dtype: int64\n"
     ]
    },
    {
     "data": {
      "image/png": "[encoded data removed]",
      "text/plain": [
       "<Figure size 432x288 with 1 Axes>"
      ]
     },
     "metadata": {
      "needs_background": "light"
     },
     "output_type": "display_data"
    }
   ],
   "source": [
    "plot_timestamps(df_users['usercreatedts'])"
   ]
  },
  {
   "cell_type": "markdown",
   "id": "37ca33f7",
   "metadata": {},
   "source": [
    "## df_tweets"
   ]
  },
  {
   "cell_type": "markdown",
   "id": "ca07fcc0",
   "metadata": {},
   "source": [
    "### tweetcreatedts"
   ]
  },
  {
   "cell_type": "code",
   "execution_count": 16,
   "id": "147bb640",
   "metadata": {
    "ExecuteTime": {
     "end_time": "2022-03-22T16:25:23.875413Z",
     "start_time": "2022-03-22T16:25:22.407493Z"
    }
   },
   "outputs": [
    {
     "name": "stdout",
     "output_type": "stream",
     "text": [
      "2022-02-24    107212\n",
      "2022-02-25    128403\n",
      "2022-02-26    126298\n",
      "2022-02-27    113341\n",
      "2022-02-28    126792\n",
      "2022-03-01    131618\n",
      "2022-03-02    132418\n",
      "2022-03-03    126792\n",
      "2022-03-04    151690\n",
      "2022-03-05    162172\n",
      "2022-03-06    154174\n",
      "Name: tweetcreatedts, dtype: int64\n"
     ]
    },
    {
     "data": {
      "image/png": "[encoded data removed]",
      "text/plain": [
       "<Figure size 432x288 with 1 Axes>"
      ]
     },
     "metadata": {
      "needs_background": "light"
     },
     "output_type": "display_data"
    }
   ],
   "source": [
    "plot_timestamps(df_tweets['tweetcreatedts'])"
   ]
  },
  {
   "cell_type": "markdown",
   "id": "cac0bded",
   "metadata": {},
   "source": [
    "### userid"
   ]
  },
  {
   "cell_type": "code",
   "execution_count": 17,
   "id": "7740ee19",
   "metadata": {
    "ExecuteTime": {
     "end_time": "2022-03-22T16:25:24.942530Z",
     "start_time": "2022-03-22T16:25:23.880902Z"
    }
   },
   "outputs": [
    {
     "name": "stdout",
     "output_type": "stream",
     "text": [
      "count    636406.000000\n",
      "mean          2.295563\n",
      "std           7.230919\n",
      "min           1.000000\n",
      "25%           1.000000\n",
      "50%           1.000000\n",
      "75%           2.000000\n",
      "max        1296.000000\n",
      "Name: userid, dtype: float64\n"
     ]
    },
    {
     "data": {
      "image/png": "[encoded data removed]",
      "text/plain": [
       "<Figure size 432x288 with 1 Axes>"
      ]
     },
     "metadata": {
      "needs_background": "light"
     },
     "output_type": "display_data"
    }
   ],
   "source": [
    "explore(df_tweets, 'userid', continuous=False)"
   ]
  },
  {
   "cell_type": "markdown",
   "id": "0af8adcf",
   "metadata": {},
   "source": [
    "### language"
   ]
  },
  {
   "cell_type": "code",
   "execution_count": 18,
   "id": "ee8a4c28",
   "metadata": {
    "ExecuteTime": {
     "end_time": "2022-03-22T16:25:26.124512Z",
     "start_time": "2022-03-22T16:25:24.946858Z"
    },
    "scrolled": false
   },
   "outputs": [
    {
     "name": "stdout",
     "output_type": "stream",
     "text": [
      "count        65.000000\n",
      "mean      22475.538462\n",
      "std      106323.446017\n",
      "min           1.000000\n",
      "25%         169.000000\n",
      "50%        1152.000000\n",
      "75%        6239.000000\n",
      "max      849551.000000\n",
      "Name: language, dtype: float64\n"
     ]
    },
    {
     "data": {
      "image/png": "[encoded data removed]",
      "text/plain": [
       "<Figure size 432x288 with 1 Axes>"
      ]
     },
     "metadata": {
      "needs_background": "light"
     },
     "output_type": "display_data"
    }
   ],
   "source": [
    "explore(df_tweets, 'language', continuous=False)"
   ]
  },
  {
   "cell_type": "markdown",
   "id": "3151db0b",
   "metadata": {},
   "source": [
    "### favorite_count"
   ]
  },
  {
   "cell_type": "code",
   "execution_count": 19,
   "id": "2c010b7a",
   "metadata": {
    "ExecuteTime": {
     "end_time": "2022-03-22T16:25:27.157990Z",
     "start_time": "2022-03-22T16:25:26.128112Z"
    },
    "scrolled": false
   },
   "outputs": [
    {
     "name": "stdout",
     "output_type": "stream",
     "text": [
      "count    1.460910e+06\n",
      "mean     7.467216e-01\n",
      "std      8.782940e+01\n",
      "min      0.000000e+00\n",
      "25%      0.000000e+00\n",
      "50%      0.000000e+00\n",
      "75%      0.000000e+00\n",
      "max      4.271000e+04\n",
      "Name: favorite_count, dtype: float64\n"
     ]
    },
    {
     "data": {
      "image/png": "[encoded data removed]",
      "text/plain": [
       "<Figure size 432x288 with 1 Axes>"
      ]
     },
     "metadata": {
      "needs_background": "light"
     },
     "output_type": "display_data"
    }
   ],
   "source": [
    "explore(df_tweets, 'favorite_count')"
   ]
  },
  {
   "cell_type": "markdown",
   "id": "eed5a257",
   "metadata": {},
   "source": [
    "> It looks like a log(log) tendency ^^"
   ]
  },
  {
   "cell_type": "code",
   "execution_count": 20,
   "id": "85314fa3",
   "metadata": {
    "ExecuteTime": {
     "end_time": "2022-03-22T16:25:28.654037Z",
     "start_time": "2022-03-22T16:25:27.161984Z"
    }
   },
   "outputs": [
    {
     "name": "stdout",
     "output_type": "stream",
     "text": [
      "0    1460838\n",
      "1         72\n",
      "Name: favorite_count, dtype: int64\n"
     ]
    }
   ],
   "source": [
    "lims = [ 750 ]\n",
    "df_tweets['favorite_count_cat'] = build_cat(df_tweets['favorite_count'], lims)"
   ]
  },
  {
   "cell_type": "markdown",
   "id": "68b5b211",
   "metadata": {},
   "source": [
    "### retweetcount"
   ]
  },
  {
   "cell_type": "code",
   "execution_count": 21,
   "id": "3703ad0b",
   "metadata": {
    "ExecuteTime": {
     "end_time": "2022-03-22T16:25:29.705179Z",
     "start_time": "2022-03-22T16:25:28.658031Z"
    }
   },
   "outputs": [
    {
     "name": "stdout",
     "output_type": "stream",
     "text": [
      "count    1.460910e+06\n",
      "mean     6.424392e+00\n",
      "std      1.713753e+02\n",
      "min      0.000000e+00\n",
      "25%      0.000000e+00\n",
      "50%      0.000000e+00\n",
      "75%      2.000000e+00\n",
      "max      6.509300e+04\n",
      "Name: retweetcount, dtype: float64\n"
     ]
    },
    {
     "data": {
      "image/png": "[encoded data removed]",
      "text/plain": [
       "<Figure size 432x288 with 1 Axes>"
      ]
     },
     "metadata": {
      "needs_background": "light"
     },
     "output_type": "display_data"
    }
   ],
   "source": [
    "explore(df_tweets, 'retweetcount', continuous=True)"
   ]
  },
  {
   "cell_type": "code",
   "execution_count": 22,
   "id": "1734a6fa",
   "metadata": {
    "ExecuteTime": {
     "end_time": "2022-03-22T16:25:31.257467Z",
     "start_time": "2022-03-22T16:25:29.708388Z"
    }
   },
   "outputs": [
    {
     "name": "stdout",
     "output_type": "stream",
     "text": [
      "0    1460909\n",
      "1          1\n",
      "Name: retweetcount, dtype: int64\n"
     ]
    }
   ],
   "source": [
    "lims = [ 60000, 120000 ]\n",
    "df_tweets['retweetcount_cat'] = build_cat(df_tweets['retweetcount'], lims)"
   ]
  },
  {
   "cell_type": "markdown",
   "id": "0feaa1a5",
   "metadata": {},
   "source": [
    "## Scatter plots"
   ]
  },
  {
   "cell_type": "code",
   "execution_count": 23,
   "id": "effc0b87",
   "metadata": {
    "ExecuteTime": {
     "end_time": "2022-03-22T16:25:31.273379Z",
     "start_time": "2022-03-22T16:25:31.260458Z"
    }
   },
   "outputs": [],
   "source": [
    "def plot_scatter(x: str, y: str):\n",
    "    \"\"\" Plots scatter plot \"\"\"\n",
    "    df.plot.scatter(x, y, logx=True, logy=True, alpha=.002)\n",
    "    plt.show()"
   ]
  },
  {
   "cell_type": "code",
   "execution_count": 24,
   "id": "4f0c7fac",
   "metadata": {
    "ExecuteTime": {
     "end_time": "2022-03-22T16:26:50.078514Z",
     "start_time": "2022-03-22T16:25:31.277417Z"
    }
   },
   "outputs": [
    {
     "data": {
      "image/png": "[encoded data removed]",
      "text/plain": [
       "<Figure size 432x288 with 1 Axes>"
      ]
     },
     "metadata": {
      "needs_background": "light"
     },
     "output_type": "display_data"
    }
   ],
   "source": [
    "plot_scatter('totaltweets', 'following')"
   ]
  },
  {
   "cell_type": "code",
   "execution_count": 25,
   "id": "d1696b72",
   "metadata": {
    "ExecuteTime": {
     "end_time": "2022-03-22T16:27:38.557275Z",
     "start_time": "2022-03-22T16:26:50.100340Z"
    }
   },
   "outputs": [
    {
     "data": {
      "image/png": "[encoded data removed]",
      "text/plain": [
       "<Figure size 432x288 with 1 Axes>"
      ]
     },
     "metadata": {
      "needs_background": "light"
     },
     "output_type": "display_data"
    }
   ],
   "source": [
    "plot_scatter('totaltweets', 'followers')"
   ]
  },
  {
   "cell_type": "markdown",
   "id": "0741384c",
   "metadata": {},
   "source": [
    "> We can spot some points popping out from the general tendency"
   ]
  },
  {
   "cell_type": "code",
   "execution_count": 26,
   "id": "9a35ef5d",
   "metadata": {
    "ExecuteTime": {
     "end_time": "2022-03-22T16:28:06.467933Z",
     "start_time": "2022-03-22T16:27:38.610989Z"
    }
   },
   "outputs": [
    {
     "data": {
      "image/png": "[encoded data removed]",
      "text/plain": [
       "<Figure size 432x288 with 1 Axes>"
      ]
     },
     "metadata": {
      "needs_background": "light"
     },
     "output_type": "display_data"
    }
   ],
   "source": [
    "plot_scatter('totaltweets', 'retweetcount')"
   ]
  },
  {
   "cell_type": "code",
   "execution_count": null,
   "id": "4a8f3265",
   "metadata": {
    "ExecuteTime": {
     "end_time": "2022-03-11T10:27:29.430906Z",
     "start_time": "2022-03-11T10:27:13.176710Z"
    },
    "deletable": false,
    "editable": false,
    "run_control": {
     "frozen": true
    }
   },
   "outputs": [],
   "source": [
    "df.plot.scatter(\n",
    "    'totaltweets', \n",
    "    'followers',\n",
    "    c='following_cat',\n",
    "    colormap='jet',\n",
    "    logx=True, \n",
    "    logy=True,\n",
    "    alpha=.002\n",
    ")\n",
    "plt.show()"
   ]
  },
  {
   "cell_type": "markdown",
   "id": "efe976c0",
   "metadata": {},
   "source": [
    "\n",
    "# Hashtags"
   ]
  },
  {
   "cell_type": "code",
   "execution_count": 27,
   "id": "f07de552",
   "metadata": {
    "ExecuteTime": {
     "end_time": "2022-03-22T16:31:21.345680Z",
     "start_time": "2022-03-22T16:28:14.275472Z"
    }
   },
   "outputs": [],
   "source": [
    "counter = defaultdict(int)\n",
    "for hashtags in df['hashtags']:\n",
    "    for hashtag in hashtags:\n",
    "        counter[hashtag] += 1\n",
    "counter = pd.Series(counter)"
   ]
  },
  {
   "cell_type": "code",
   "execution_count": 28,
   "id": "fc4438f9",
   "metadata": {
    "ExecuteTime": {
     "end_time": "2022-03-22T16:31:27.195433Z",
     "start_time": "2022-03-22T16:31:21.713531Z"
    }
   },
   "outputs": [
    {
     "name": "stdout",
     "output_type": "stream",
     "text": [
      "count    4.109000e+03\n",
      "mean     1.105146e+05\n",
      "std      1.652251e+06\n",
      "min      1.000000e+00\n",
      "25%      2.000000e+00\n",
      "50%      8.000000e+00\n",
      "75%      5.300000e+01\n",
      "max      6.073103e+07\n",
      "dtype: float64\n"
     ]
    },
    {
     "data": {
      "text/plain": [
       "<AxesSubplot:>"
      ]
     },
     "execution_count": 28,
     "metadata": {},
     "output_type": "execute_result"
    },
    {
     "data": {
      "image/png": "[encoded data removed]",
      "text/plain": [
       "<Figure size 432x288 with 1 Axes>"
      ]
     },
     "metadata": {
      "needs_background": "light"
     },
     "output_type": "display_data"
    }
   ],
   "source": [
    "counter = counter.sort_values(ascending=False)\n",
    "print(counter.describe())\n",
    "counter.iloc[:20].plot.bar(log=True)"
   ]
  },
  {
   "cell_type": "markdown",
   "id": "cb5f6803",
   "metadata": {},
   "source": [
    "## Best hashtags"
   ]
  },
  {
   "cell_type": "code",
   "execution_count": 29,
   "id": "15f46d28",
   "metadata": {
    "ExecuteTime": {
     "end_time": "2022-03-22T16:31:27.661027Z",
     "start_time": "2022-03-22T16:31:27.651707Z"
    }
   },
   "outputs": [],
   "source": [
    "top = 100\n",
    "best_ht = counter.iloc[:top]"
   ]
  },
  {
   "cell_type": "code",
   "execution_count": 30,
   "id": "2e484ffc",
   "metadata": {
    "ExecuteTime": {
     "end_time": "2022-03-22T16:31:37.023213Z",
     "start_time": "2022-03-22T16:31:28.029557Z"
    }
   },
   "outputs": [
    {
     "data": {
      "text/html": [
       "<div>\n",
       "<style scoped>\n",
       "    .dataframe tbody tr th:only-of-type {\n",
       "        vertical-align: middle;\n",
       "    }\n",
       "\n",
       "    .dataframe tbody tr th {\n",
       "        vertical-align: top;\n",
       "    }\n",
       "\n",
       "    .dataframe thead th {\n",
       "        text-align: right;\n",
       "    }\n",
       "</style>\n",
       "<table border=\"1\" class=\"dataframe\">\n",
       "  <thead>\n",
       "    <tr style=\"text-align: right;\">\n",
       "      <th></th>\n",
       "      <th>'</th>\n",
       "      <th></th>\n",
       "      <th>i</th>\n",
       "      <th>,</th>\n",
       "      <th>e</th>\n",
       "      <th>t</th>\n",
       "      <th>:</th>\n",
       "      <th>n</th>\n",
       "      <th>s</th>\n",
       "      <th>]</th>\n",
       "      <th>...</th>\n",
       "      <th>к</th>\n",
       "      <th>в</th>\n",
       "      <th>ส</th>\n",
       "      <th>ี</th>\n",
       "      <th>ั</th>\n",
       "      <th>ซ</th>\n",
       "      <th>т</th>\n",
       "      <th>ب</th>\n",
       "      <th>ة</th>\n",
       "      <th>У</th>\n",
       "    </tr>\n",
       "  </thead>\n",
       "  <tbody>\n",
       "    <tr>\n",
       "      <th>'</th>\n",
       "      <td>0</td>\n",
       "      <td>0</td>\n",
       "      <td>0</td>\n",
       "      <td>0</td>\n",
       "      <td>0</td>\n",
       "      <td>0</td>\n",
       "      <td>0</td>\n",
       "      <td>0</td>\n",
       "      <td>0</td>\n",
       "      <td>0</td>\n",
       "      <td>...</td>\n",
       "      <td>0</td>\n",
       "      <td>0</td>\n",
       "      <td>0</td>\n",
       "      <td>0</td>\n",
       "      <td>0</td>\n",
       "      <td>0</td>\n",
       "      <td>0</td>\n",
       "      <td>0</td>\n",
       "      <td>0</td>\n",
       "      <td>0</td>\n",
       "    </tr>\n",
       "    <tr>\n",
       "      <th></th>\n",
       "      <td>0</td>\n",
       "      <td>0</td>\n",
       "      <td>0</td>\n",
       "      <td>0</td>\n",
       "      <td>0</td>\n",
       "      <td>0</td>\n",
       "      <td>0</td>\n",
       "      <td>0</td>\n",
       "      <td>0</td>\n",
       "      <td>0</td>\n",
       "      <td>...</td>\n",
       "      <td>0</td>\n",
       "      <td>0</td>\n",
       "      <td>0</td>\n",
       "      <td>0</td>\n",
       "      <td>0</td>\n",
       "      <td>0</td>\n",
       "      <td>0</td>\n",
       "      <td>0</td>\n",
       "      <td>0</td>\n",
       "      <td>0</td>\n",
       "    </tr>\n",
       "    <tr>\n",
       "      <th>i</th>\n",
       "      <td>0</td>\n",
       "      <td>0</td>\n",
       "      <td>0</td>\n",
       "      <td>0</td>\n",
       "      <td>0</td>\n",
       "      <td>0</td>\n",
       "      <td>0</td>\n",
       "      <td>0</td>\n",
       "      <td>0</td>\n",
       "      <td>0</td>\n",
       "      <td>...</td>\n",
       "      <td>0</td>\n",
       "      <td>0</td>\n",
       "      <td>0</td>\n",
       "      <td>0</td>\n",
       "      <td>0</td>\n",
       "      <td>0</td>\n",
       "      <td>0</td>\n",
       "      <td>0</td>\n",
       "      <td>0</td>\n",
       "      <td>0</td>\n",
       "    </tr>\n",
       "    <tr>\n",
       "      <th>,</th>\n",
       "      <td>0</td>\n",
       "      <td>0</td>\n",
       "      <td>0</td>\n",
       "      <td>0</td>\n",
       "      <td>0</td>\n",
       "      <td>0</td>\n",
       "      <td>0</td>\n",
       "      <td>0</td>\n",
       "      <td>0</td>\n",
       "      <td>0</td>\n",
       "      <td>...</td>\n",
       "      <td>0</td>\n",
       "      <td>0</td>\n",
       "      <td>0</td>\n",
       "      <td>0</td>\n",
       "      <td>0</td>\n",
       "      <td>0</td>\n",
       "      <td>0</td>\n",
       "      <td>0</td>\n",
       "      <td>0</td>\n",
       "      <td>0</td>\n",
       "    </tr>\n",
       "    <tr>\n",
       "      <th>e</th>\n",
       "      <td>0</td>\n",
       "      <td>0</td>\n",
       "      <td>0</td>\n",
       "      <td>0</td>\n",
       "      <td>0</td>\n",
       "      <td>10</td>\n",
       "      <td>0</td>\n",
       "      <td>11</td>\n",
       "      <td>1</td>\n",
       "      <td>0</td>\n",
       "      <td>...</td>\n",
       "      <td>0</td>\n",
       "      <td>0</td>\n",
       "      <td>0</td>\n",
       "      <td>0</td>\n",
       "      <td>0</td>\n",
       "      <td>0</td>\n",
       "      <td>0</td>\n",
       "      <td>0</td>\n",
       "      <td>0</td>\n",
       "      <td>0</td>\n",
       "    </tr>\n",
       "  </tbody>\n",
       "</table>\n",
       "<p>5 rows × 100 columns</p>\n",
       "</div>"
      ],
      "text/plain": [
       "   '     i  ,  e   t  :   n  s  ]  ...  к  в  ส  ี  ั  ซ  т  ب  ة  У\n",
       "'  0  0  0  0  0   0  0   0  0  0  ...  0  0  0  0  0  0  0  0  0  0\n",
       "   0  0  0  0  0   0  0   0  0  0  ...  0  0  0  0  0  0  0  0  0  0\n",
       "i  0  0  0  0  0   0  0   0  0  0  ...  0  0  0  0  0  0  0  0  0  0\n",
       ",  0  0  0  0  0   0  0   0  0  0  ...  0  0  0  0  0  0  0  0  0  0\n",
       "e  0  0  0  0  0  10  0  11  1  0  ...  0  0  0  0  0  0  0  0  0  0\n",
       "\n",
       "[5 rows x 100 columns]"
      ]
     },
     "execution_count": 30,
     "metadata": {},
     "output_type": "execute_result"
    }
   ],
   "source": [
    "ht_pair = pd.DataFrame(index=best_ht.index, columns=best_ht.index)\n",
    "ht_pair = ht_pair.fillna(0)\n",
    "\n",
    "for hashtags in df_tweets['hashtags']:\n",
    "    hashtags = [ \n",
    "        ht for ht in hashtags\n",
    "        if ht in best_ht.index\n",
    "    ]\n",
    "    \n",
    "    if len(hashtags) > 1:\n",
    "        for i, ht_1 in enumerate(hashtags):\n",
    "            for ht_2 in hashtags[i+1:]:\n",
    "                ht_pair.loc[ht_1, ht_2] += 1\n",
    "                ht_pair.loc[ht_2, ht_1] += 1\n",
    "\n",
    "for i in range(len(best_ht)):\n",
    "    ht_pair.iloc[i, i] = 0\n",
    "ht_pair.head()"
   ]
  },
  {
   "cell_type": "code",
   "execution_count": 31,
   "id": "719d62ad",
   "metadata": {
    "ExecuteTime": {
     "end_time": "2022-03-22T16:31:37.695255Z",
     "start_time": "2022-03-22T16:31:37.372932Z"
    }
   },
   "outputs": [
    {
     "data": {
      "image/png": "[encoded data removed]",
      "text/plain": [
       "<Figure size 432x288 with 1 Axes>"
      ]
     },
     "metadata": {},
     "output_type": "display_data"
    }
   ],
   "source": [
    "G = nx.from_pandas_adjacency(ht_pair)\n",
    "nx.draw(G)"
   ]
  }
 ],
 "metadata": {
  "kernelspec": {
   "display_name": "Python 3 (ipykernel)",
   "language": "python",
   "name": "python3"
  },
  "language_info": {
   "codemirror_mode": {
    "name": "ipython",
    "version": 3
   },
   "file_extension": ".py",
   "mimetype": "text/x-python",
   "name": "python",
   "nbconvert_exporter": "python",
   "pygments_lexer": "ipython3",
   "version": "3.9.5"
  },
  "toc": {
   "base_numbering": 1,
   "nav_menu": {},
   "number_sections": true,
   "sideBar": true,
   "skip_h1_title": false,
   "title_cell": "Table of Contents",
   "title_sidebar": "Contents",
   "toc_cell": false,
   "toc_position": {},
   "toc_section_display": true,
   "toc_window_display": false
  },
  "varInspector": {
   "cols": {
    "lenName": 16,
    "lenType": 16,
    "lenVar": 40
   },
   "kernels_config": {
    "python": {
     "delete_cmd_postfix": "",
     "delete_cmd_prefix": "del ",
     "library": "var_list.py",
     "varRefreshCmd": "print(var_dic_list())"
    },
    "r": {
     "delete_cmd_postfix": ") ",
     "delete_cmd_prefix": "rm(",
     "library": "var_list.r",
     "varRefreshCmd": "cat(var_dic_list()) "
    }
   },
   "types_to_exclude": [
    "module",
    "function",
    "builtin_function_or_method",
    "instance",
    "_Feature"
   ],
   "window_display": true
  }
 },
 "nbformat": 4,
 "nbformat_minor": 5
}
