{
 "cells": [
  {
   "cell_type": "code",
   "execution_count": 1,
   "id": "33b1e93c",
   "metadata": {
    "execution": {
     "iopub.execute_input": "2022-03-23T13:19:07.814632Z",
     "iopub.status.busy": "2022-03-23T13:19:07.813901Z",
     "iopub.status.idle": "2022-03-23T13:19:25.169486Z",
     "shell.execute_reply": "2022-03-23T13:19:25.168627Z",
     "shell.execute_reply.started": "2022-03-23T11:49:52.848936Z"
    },
    "papermill": {
     "duration": 17.400342,
     "end_time": "2022-03-23T13:19:25.169655",
     "exception": false,
     "start_time": "2022-03-23T13:19:07.769313",
     "status": "completed"
    },
    "tags": []
   },
   "outputs": [],
   "source": [
    "import pandas as pd\n",
    "import numpy as np\n",
    "import nltk\n",
    "import json\n",
    "from datasets import Dataset\n",
    "from transformers import *\n",
    "import torch\n",
    "from sklearn.metrics import accuracy_score, f1_score, roc_auc_score"
   ]
  },
  {
   "cell_type": "code",
   "execution_count": 2,
   "id": "5ff9901c",
   "metadata": {
    "execution": {
     "iopub.execute_input": "2022-03-23T13:19:25.249503Z",
     "iopub.status.busy": "2022-03-23T13:19:25.248472Z",
     "iopub.status.idle": "2022-03-23T13:19:25.252726Z",
     "shell.execute_reply": "2022-03-23T13:19:25.253285Z",
     "shell.execute_reply.started": "2022-03-23T11:50:08.818468Z"
    },
    "papermill": {
     "duration": 0.046826,
     "end_time": "2022-03-23T13:19:25.253466",
     "exception": false,
     "start_time": "2022-03-23T13:19:25.206640",
     "status": "completed"
    },
    "tags": []
   },
   "outputs": [],
   "source": [
    "import os"
   ]
  },
  {
   "cell_type": "code",
   "execution_count": 3,
   "id": "6ed47afa",
   "metadata": {
    "execution": {
     "iopub.execute_input": "2022-03-23T13:19:25.336700Z",
     "iopub.status.busy": "2022-03-23T13:19:25.335812Z",
     "iopub.status.idle": "2022-03-23T13:19:25.338429Z",
     "shell.execute_reply": "2022-03-23T13:19:25.338941Z"
    },
    "papermill": {
     "duration": 0.047092,
     "end_time": "2022-03-23T13:19:25.339166",
     "exception": false,
     "start_time": "2022-03-23T13:19:25.292074",
     "status": "completed"
    },
    "tags": []
   },
   "outputs": [],
   "source": [
    "def strip_emoji(text):\n",
    "    new_text = re.sub(emoji.get_emoji_regexp(), r\"\", text)\n",
    "    return new_text\n",
    "def remove_links(text):\n",
    "    return re.sub(r'http\\S+', '', text)"
   ]
  },
  {
   "cell_type": "code",
   "execution_count": 4,
   "id": "232ad0a8",
   "metadata": {
    "execution": {
     "iopub.execute_input": "2022-03-23T13:19:25.416234Z",
     "iopub.status.busy": "2022-03-23T13:19:25.415505Z",
     "iopub.status.idle": "2022-03-23T13:19:31.815616Z",
     "shell.execute_reply": "2022-03-23T13:19:31.814723Z",
     "shell.execute_reply.started": "2022-03-23T11:50:08.826677Z"
    },
    "papermill": {
     "duration": 6.439988,
     "end_time": "2022-03-23T13:19:31.815768",
     "exception": false,
     "start_time": "2022-03-23T13:19:25.375780",
     "status": "completed"
    },
    "tags": []
   },
   "outputs": [],
   "source": [
    "with open(\"../input/twitter-bot-detection/Twibot-20/Twibot-20/train.json\") as f:\n",
    "    train_json = json.load(f)\n",
    "    train_df = pd.json_normalize(train_json, sep = '_')"
   ]
  },
  {
   "cell_type": "code",
   "execution_count": 5,
   "id": "4431844f",
   "metadata": {
    "execution": {
     "iopub.execute_input": "2022-03-23T13:19:31.907883Z",
     "iopub.status.busy": "2022-03-23T13:19:31.907181Z",
     "iopub.status.idle": "2022-03-23T13:19:37.464154Z",
     "shell.execute_reply": "2022-03-23T13:19:37.463509Z",
     "shell.execute_reply.started": "2022-03-23T11:50:14.93468Z"
    },
    "papermill": {
     "duration": 5.612366,
     "end_time": "2022-03-23T13:19:37.464314",
     "exception": false,
     "start_time": "2022-03-23T13:19:31.851948",
     "status": "completed"
    },
    "tags": []
   },
   "outputs": [],
   "source": [
    "train_df = train_df.explode('tweet')"
   ]
  },
  {
   "cell_type": "code",
   "execution_count": 6,
   "id": "bffb50c5",
   "metadata": {
    "execution": {
     "iopub.execute_input": "2022-03-23T13:19:37.542261Z",
     "iopub.status.busy": "2022-03-23T13:19:37.541267Z",
     "iopub.status.idle": "2022-03-23T13:19:37.544712Z",
     "shell.execute_reply": "2022-03-23T13:19:37.545347Z",
     "shell.execute_reply.started": "2022-03-23T11:50:20.497515Z"
    },
    "papermill": {
     "duration": 0.04361,
     "end_time": "2022-03-23T13:19:37.545518",
     "exception": false,
     "start_time": "2022-03-23T13:19:37.501908",
     "status": "completed"
    },
    "tags": []
   },
   "outputs": [],
   "source": [
    "# train_df.domain.apply(len).max() #not useful don't have in ukraine"
   ]
  },
  {
   "cell_type": "code",
   "execution_count": 7,
   "id": "1be320ab",
   "metadata": {
    "execution": {
     "iopub.execute_input": "2022-03-23T13:19:37.619806Z",
     "iopub.status.busy": "2022-03-23T13:19:37.618807Z",
     "iopub.status.idle": "2022-03-23T13:19:37.653536Z",
     "shell.execute_reply": "2022-03-23T13:19:37.654130Z",
     "shell.execute_reply.started": "2022-03-23T11:50:20.505814Z"
    },
    "papermill": {
     "duration": 0.073699,
     "end_time": "2022-03-23T13:19:37.654314",
     "exception": false,
     "start_time": "2022-03-23T13:19:37.580615",
     "status": "completed"
    },
    "tags": []
   },
   "outputs": [
    {
     "data": {
      "text/html": [
       "<div>\n",
       "<style scoped>\n",
       "    .dataframe tbody tr th:only-of-type {\n",
       "        vertical-align: middle;\n",
       "    }\n",
       "\n",
       "    .dataframe tbody tr th {\n",
       "        vertical-align: top;\n",
       "    }\n",
       "\n",
       "    .dataframe thead th {\n",
       "        text-align: right;\n",
       "    }\n",
       "</style>\n",
       "<table border=\"1\" class=\"dataframe\">\n",
       "  <thead>\n",
       "    <tr style=\"text-align: right;\">\n",
       "      <th></th>\n",
       "      <th>ID</th>\n",
       "      <th>tweet</th>\n",
       "      <th>neighbor</th>\n",
       "      <th>domain</th>\n",
       "      <th>label</th>\n",
       "      <th>profile_id</th>\n",
       "      <th>profile_id_str</th>\n",
       "      <th>profile_name</th>\n",
       "      <th>profile_screen_name</th>\n",
       "      <th>profile_location</th>\n",
       "      <th>...</th>\n",
       "      <th>profile_profile_link_color</th>\n",
       "      <th>profile_profile_sidebar_border_color</th>\n",
       "      <th>profile_profile_sidebar_fill_color</th>\n",
       "      <th>profile_profile_text_color</th>\n",
       "      <th>profile_profile_use_background_image</th>\n",
       "      <th>profile_has_extended_profile</th>\n",
       "      <th>profile_default_profile</th>\n",
       "      <th>profile_default_profile_image</th>\n",
       "      <th>neighbor_following</th>\n",
       "      <th>neighbor_follower</th>\n",
       "    </tr>\n",
       "  </thead>\n",
       "  <tbody>\n",
       "    <tr>\n",
       "      <th>0</th>\n",
       "      <td>17461978</td>\n",
       "      <td>RT @CarnivalCruise: 🎉 Are you ready to see wha...</td>\n",
       "      <td>NaN</td>\n",
       "      <td>[Politics, Business, Entertainment]</td>\n",
       "      <td>0</td>\n",
       "      <td>17461978</td>\n",
       "      <td>17461978</td>\n",
       "      <td>SHAQ</td>\n",
       "      <td>SHAQ</td>\n",
       "      <td>Orlando, FL</td>\n",
       "      <td>...</td>\n",
       "      <td>2FC2EF</td>\n",
       "      <td>181A1E</td>\n",
       "      <td>252429</td>\n",
       "      <td>666666</td>\n",
       "      <td>True</td>\n",
       "      <td>False</td>\n",
       "      <td>False</td>\n",
       "      <td>False</td>\n",
       "      <td>NaN</td>\n",
       "      <td>NaN</td>\n",
       "    </tr>\n",
       "    <tr>\n",
       "      <th>0</th>\n",
       "      <td>17461978</td>\n",
       "      <td>Who has time for receipts? Not me. @epson rece...</td>\n",
       "      <td>NaN</td>\n",
       "      <td>[Politics, Business, Entertainment]</td>\n",
       "      <td>0</td>\n",
       "      <td>17461978</td>\n",
       "      <td>17461978</td>\n",
       "      <td>SHAQ</td>\n",
       "      <td>SHAQ</td>\n",
       "      <td>Orlando, FL</td>\n",
       "      <td>...</td>\n",
       "      <td>2FC2EF</td>\n",
       "      <td>181A1E</td>\n",
       "      <td>252429</td>\n",
       "      <td>666666</td>\n",
       "      <td>True</td>\n",
       "      <td>False</td>\n",
       "      <td>False</td>\n",
       "      <td>False</td>\n",
       "      <td>NaN</td>\n",
       "      <td>NaN</td>\n",
       "    </tr>\n",
       "    <tr>\n",
       "      <th>0</th>\n",
       "      <td>17461978</td>\n",
       "      <td>Steady wants to encourage you to invest in you...</td>\n",
       "      <td>NaN</td>\n",
       "      <td>[Politics, Business, Entertainment]</td>\n",
       "      <td>0</td>\n",
       "      <td>17461978</td>\n",
       "      <td>17461978</td>\n",
       "      <td>SHAQ</td>\n",
       "      <td>SHAQ</td>\n",
       "      <td>Orlando, FL</td>\n",
       "      <td>...</td>\n",
       "      <td>2FC2EF</td>\n",
       "      <td>181A1E</td>\n",
       "      <td>252429</td>\n",
       "      <td>666666</td>\n",
       "      <td>True</td>\n",
       "      <td>False</td>\n",
       "      <td>False</td>\n",
       "      <td>False</td>\n",
       "      <td>NaN</td>\n",
       "      <td>NaN</td>\n",
       "    </tr>\n",
       "    <tr>\n",
       "      <th>0</th>\n",
       "      <td>17461978</td>\n",
       "      <td>Good one, @rishid. But let’s see if y'all can ...</td>\n",
       "      <td>NaN</td>\n",
       "      <td>[Politics, Business, Entertainment]</td>\n",
       "      <td>0</td>\n",
       "      <td>17461978</td>\n",
       "      <td>17461978</td>\n",
       "      <td>SHAQ</td>\n",
       "      <td>SHAQ</td>\n",
       "      <td>Orlando, FL</td>\n",
       "      <td>...</td>\n",
       "      <td>2FC2EF</td>\n",
       "      <td>181A1E</td>\n",
       "      <td>252429</td>\n",
       "      <td>666666</td>\n",
       "      <td>True</td>\n",
       "      <td>False</td>\n",
       "      <td>False</td>\n",
       "      <td>False</td>\n",
       "      <td>NaN</td>\n",
       "      <td>NaN</td>\n",
       "    </tr>\n",
       "    <tr>\n",
       "      <th>0</th>\n",
       "      <td>17461978</td>\n",
       "      <td>#lsunationalchamps\\n</td>\n",
       "      <td>NaN</td>\n",
       "      <td>[Politics, Business, Entertainment]</td>\n",
       "      <td>0</td>\n",
       "      <td>17461978</td>\n",
       "      <td>17461978</td>\n",
       "      <td>SHAQ</td>\n",
       "      <td>SHAQ</td>\n",
       "      <td>Orlando, FL</td>\n",
       "      <td>...</td>\n",
       "      <td>2FC2EF</td>\n",
       "      <td>181A1E</td>\n",
       "      <td>252429</td>\n",
       "      <td>666666</td>\n",
       "      <td>True</td>\n",
       "      <td>False</td>\n",
       "      <td>False</td>\n",
       "      <td>False</td>\n",
       "      <td>NaN</td>\n",
       "      <td>NaN</td>\n",
       "    </tr>\n",
       "  </tbody>\n",
       "</table>\n",
       "<p>5 rows × 45 columns</p>\n",
       "</div>"
      ],
      "text/plain": [
       "         ID                                              tweet  neighbor  \\\n",
       "0  17461978  RT @CarnivalCruise: 🎉 Are you ready to see wha...       NaN   \n",
       "0  17461978  Who has time for receipts? Not me. @epson rece...       NaN   \n",
       "0  17461978  Steady wants to encourage you to invest in you...       NaN   \n",
       "0  17461978  Good one, @rishid. But let’s see if y'all can ...       NaN   \n",
       "0  17461978                               #lsunationalchamps\\n       NaN   \n",
       "\n",
       "                                domain label profile_id profile_id_str  \\\n",
       "0  [Politics, Business, Entertainment]     0  17461978       17461978    \n",
       "0  [Politics, Business, Entertainment]     0  17461978       17461978    \n",
       "0  [Politics, Business, Entertainment]     0  17461978       17461978    \n",
       "0  [Politics, Business, Entertainment]     0  17461978       17461978    \n",
       "0  [Politics, Business, Entertainment]     0  17461978       17461978    \n",
       "\n",
       "  profile_name profile_screen_name profile_location  ...  \\\n",
       "0        SHAQ                SHAQ      Orlando, FL   ...   \n",
       "0        SHAQ                SHAQ      Orlando, FL   ...   \n",
       "0        SHAQ                SHAQ      Orlando, FL   ...   \n",
       "0        SHAQ                SHAQ      Orlando, FL   ...   \n",
       "0        SHAQ                SHAQ      Orlando, FL   ...   \n",
       "\n",
       "  profile_profile_link_color profile_profile_sidebar_border_color  \\\n",
       "0                    2FC2EF                               181A1E    \n",
       "0                    2FC2EF                               181A1E    \n",
       "0                    2FC2EF                               181A1E    \n",
       "0                    2FC2EF                               181A1E    \n",
       "0                    2FC2EF                               181A1E    \n",
       "\n",
       "  profile_profile_sidebar_fill_color profile_profile_text_color  \\\n",
       "0                            252429                     666666    \n",
       "0                            252429                     666666    \n",
       "0                            252429                     666666    \n",
       "0                            252429                     666666    \n",
       "0                            252429                     666666    \n",
       "\n",
       "  profile_profile_use_background_image profile_has_extended_profile  \\\n",
       "0                                True                        False    \n",
       "0                                True                        False    \n",
       "0                                True                        False    \n",
       "0                                True                        False    \n",
       "0                                True                        False    \n",
       "\n",
       "  profile_default_profile profile_default_profile_image neighbor_following  \\\n",
       "0                  False                         False                 NaN   \n",
       "0                  False                         False                 NaN   \n",
       "0                  False                         False                 NaN   \n",
       "0                  False                         False                 NaN   \n",
       "0                  False                         False                 NaN   \n",
       "\n",
       "  neighbor_follower  \n",
       "0               NaN  \n",
       "0               NaN  \n",
       "0               NaN  \n",
       "0               NaN  \n",
       "0               NaN  \n",
       "\n",
       "[5 rows x 45 columns]"
      ]
     },
     "execution_count": 7,
     "metadata": {},
     "output_type": "execute_result"
    }
   ],
   "source": [
    "train_df.head()"
   ]
  },
  {
   "cell_type": "code",
   "execution_count": 8,
   "id": "b649bd7d",
   "metadata": {
    "execution": {
     "iopub.execute_input": "2022-03-23T13:19:37.749120Z",
     "iopub.status.busy": "2022-03-23T13:19:37.748044Z",
     "iopub.status.idle": "2022-03-23T13:19:37.751855Z",
     "shell.execute_reply": "2022-03-23T13:19:37.752810Z",
     "shell.execute_reply.started": "2022-03-23T11:50:20.557561Z"
    },
    "papermill": {
     "duration": 0.062288,
     "end_time": "2022-03-23T13:19:37.753108",
     "exception": false,
     "start_time": "2022-03-23T13:19:37.690820",
     "status": "completed"
    },
    "tags": []
   },
   "outputs": [
    {
     "data": {
      "text/plain": [
       "'@ghostingbieber Forever\\n'"
      ]
     },
     "execution_count": 8,
     "metadata": {},
     "output_type": "execute_result"
    }
   ],
   "source": [
    "train_df.tweet.iloc[1058]"
   ]
  },
  {
   "cell_type": "code",
   "execution_count": 9,
   "id": "866bbf92",
   "metadata": {
    "execution": {
     "iopub.execute_input": "2022-03-23T13:19:37.848594Z",
     "iopub.status.busy": "2022-03-23T13:19:37.847848Z",
     "iopub.status.idle": "2022-03-23T13:20:01.708508Z",
     "shell.execute_reply": "2022-03-23T13:20:01.709468Z",
     "shell.execute_reply.started": "2022-03-23T11:50:20.56747Z"
    },
    "papermill": {
     "duration": 23.904812,
     "end_time": "2022-03-23T13:20:01.709766",
     "exception": false,
     "start_time": "2022-03-23T13:19:37.804954",
     "status": "completed"
    },
    "tags": []
   },
   "outputs": [
    {
     "name": "stderr",
     "output_type": "stream",
     "text": [
      "/opt/conda/lib/python3.7/site-packages/IPython/core/interactiveshell.py:3457: DtypeWarning: Columns (15) have mixed types.Specify dtype option on import or set low_memory=False.\n",
      "  exec(code_obj, self.user_global_ns, self.user_ns)\n"
     ]
    }
   ],
   "source": [
    "ukraine = pd.read_csv(\"../input/ukraine-russian-crisis-twitter-dataset-1-2-m-rows/UkraineCombinedTweetsDeduped20220227-131611.csv.gzip\",\n",
    "                      compression = 'gzip')"
   ]
  },
  {
   "cell_type": "code",
   "execution_count": 10,
   "id": "84c889e3",
   "metadata": {
    "execution": {
     "iopub.execute_input": "2022-03-23T13:20:01.795192Z",
     "iopub.status.busy": "2022-03-23T13:20:01.794201Z",
     "iopub.status.idle": "2022-03-23T13:20:01.798714Z",
     "shell.execute_reply": "2022-03-23T13:20:01.798115Z",
     "shell.execute_reply.started": "2022-03-23T11:50:44.637947Z"
    },
    "papermill": {
     "duration": 0.049079,
     "end_time": "2022-03-23T13:20:01.798862",
     "exception": false,
     "start_time": "2022-03-23T13:20:01.749783",
     "status": "completed"
    },
    "tags": []
   },
   "outputs": [
    {
     "data": {
      "text/plain": [
       "'Footage of the airport bombing in Ivano-Frankivsk. #Ukraine #Russia https://t.co/MLVuNyPItI'"
      ]
     },
     "execution_count": 10,
     "metadata": {},
     "output_type": "execute_result"
    }
   ],
   "source": [
    "ukraine.text.iloc[0]"
   ]
  },
  {
   "cell_type": "code",
   "execution_count": 11,
   "id": "b04a455a",
   "metadata": {
    "execution": {
     "iopub.execute_input": "2022-03-23T13:20:01.883568Z",
     "iopub.status.busy": "2022-03-23T13:20:01.882694Z",
     "iopub.status.idle": "2022-03-23T13:20:01.889372Z",
     "shell.execute_reply": "2022-03-23T13:20:01.890066Z",
     "shell.execute_reply.started": "2022-03-23T11:50:44.64775Z"
    },
    "papermill": {
     "duration": 0.052419,
     "end_time": "2022-03-23T13:20:01.890278",
     "exception": false,
     "start_time": "2022-03-23T13:20:01.837859",
     "status": "completed"
    },
    "tags": []
   },
   "outputs": [
    {
     "data": {
      "text/plain": [
       "\"[{'text': 'Ukraine', 'indices': [68, 76]}, {'text': 'Russia', 'indices': [77, 84]}]\""
      ]
     },
     "execution_count": 11,
     "metadata": {},
     "output_type": "execute_result"
    }
   ],
   "source": [
    "ukraine.hashtags.iloc[0]"
   ]
  },
  {
   "cell_type": "code",
   "execution_count": 12,
   "id": "1cf2c979",
   "metadata": {
    "execution": {
     "iopub.execute_input": "2022-03-23T13:20:01.974677Z",
     "iopub.status.busy": "2022-03-23T13:20:01.973917Z",
     "iopub.status.idle": "2022-03-23T13:20:01.980377Z",
     "shell.execute_reply": "2022-03-23T13:20:01.981431Z",
     "shell.execute_reply.started": "2022-03-23T11:50:44.657126Z"
    },
    "papermill": {
     "duration": 0.052609,
     "end_time": "2022-03-23T13:20:01.981711",
     "exception": false,
     "start_time": "2022-03-23T13:20:01.929102",
     "status": "completed"
    },
    "tags": []
   },
   "outputs": [
    {
     "data": {
      "text/plain": [
       "Index(['Unnamed: 0', 'userid', 'username', 'acctdesc', 'location', 'following',\n",
       "       'followers', 'totaltweets', 'usercreatedts', 'tweetid',\n",
       "       'tweetcreatedts', 'retweetcount', 'text', 'hashtags', 'language',\n",
       "       'coordinates', 'favorite_count', 'extractedts'],\n",
       "      dtype='object')"
      ]
     },
     "execution_count": 12,
     "metadata": {},
     "output_type": "execute_result"
    }
   ],
   "source": [
    "ukraine.columns"
   ]
  },
  {
   "cell_type": "code",
   "execution_count": 13,
   "id": "dedb6f0a",
   "metadata": {
    "execution": {
     "iopub.execute_input": "2022-03-23T13:20:02.066208Z",
     "iopub.status.busy": "2022-03-23T13:20:02.065418Z",
     "iopub.status.idle": "2022-03-23T13:20:02.070883Z",
     "shell.execute_reply": "2022-03-23T13:20:02.071445Z",
     "shell.execute_reply.started": "2022-03-23T11:50:44.667747Z"
    },
    "papermill": {
     "duration": 0.049998,
     "end_time": "2022-03-23T13:20:02.071653",
     "exception": false,
     "start_time": "2022-03-23T13:20:02.021655",
     "status": "completed"
    },
    "tags": []
   },
   "outputs": [
    {
     "data": {
      "text/plain": [
       "Index(['ID', 'tweet', 'neighbor', 'domain', 'label', 'profile_id',\n",
       "       'profile_id_str', 'profile_name', 'profile_screen_name',\n",
       "       'profile_location', 'profile_profile_location', 'profile_description',\n",
       "       'profile_url', 'profile_entities', 'profile_protected',\n",
       "       'profile_followers_count', 'profile_friends_count',\n",
       "       'profile_listed_count', 'profile_created_at',\n",
       "       'profile_favourites_count', 'profile_utc_offset', 'profile_time_zone',\n",
       "       'profile_geo_enabled', 'profile_verified', 'profile_statuses_count',\n",
       "       'profile_lang', 'profile_contributors_enabled', 'profile_is_translator',\n",
       "       'profile_is_translation_enabled', 'profile_profile_background_color',\n",
       "       'profile_profile_background_image_url',\n",
       "       'profile_profile_background_image_url_https',\n",
       "       'profile_profile_background_tile', 'profile_profile_image_url',\n",
       "       'profile_profile_image_url_https', 'profile_profile_link_color',\n",
       "       'profile_profile_sidebar_border_color',\n",
       "       'profile_profile_sidebar_fill_color', 'profile_profile_text_color',\n",
       "       'profile_profile_use_background_image', 'profile_has_extended_profile',\n",
       "       'profile_default_profile', 'profile_default_profile_image',\n",
       "       'neighbor_following', 'neighbor_follower'],\n",
       "      dtype='object')"
      ]
     },
     "execution_count": 13,
     "metadata": {},
     "output_type": "execute_result"
    }
   ],
   "source": [
    "train_df.columns"
   ]
  },
  {
   "cell_type": "markdown",
   "id": "1cbce195",
   "metadata": {
    "papermill": {
     "duration": 0.041043,
     "end_time": "2022-03-23T13:20:02.153676",
     "exception": false,
     "start_time": "2022-03-23T13:20:02.112633",
     "status": "completed"
    },
    "tags": []
   },
   "source": [
    "# to do extract hashtags"
   ]
  },
  {
   "cell_type": "code",
   "execution_count": 14,
   "id": "787b8d27",
   "metadata": {
    "execution": {
     "iopub.execute_input": "2022-03-23T13:20:02.238088Z",
     "iopub.status.busy": "2022-03-23T13:20:02.237376Z",
     "iopub.status.idle": "2022-03-23T13:20:02.314098Z",
     "shell.execute_reply": "2022-03-23T13:20:02.314593Z",
     "shell.execute_reply.started": "2022-03-23T11:50:44.67859Z"
    },
    "papermill": {
     "duration": 0.120232,
     "end_time": "2022-03-23T13:20:02.314783",
     "exception": false,
     "start_time": "2022-03-23T13:20:02.194551",
     "status": "completed"
    },
    "tags": []
   },
   "outputs": [],
   "source": [
    "sample = train_df.sample(500).reset_index(drop = True)\n",
    "X = sample[['tweet', 'label']]"
   ]
  },
  {
   "cell_type": "code",
   "execution_count": 15,
   "id": "0a45f65f",
   "metadata": {
    "execution": {
     "iopub.execute_input": "2022-03-23T13:20:02.410491Z",
     "iopub.status.busy": "2022-03-23T13:20:02.401937Z",
     "iopub.status.idle": "2022-03-23T13:20:02.414691Z",
     "shell.execute_reply": "2022-03-23T13:20:02.415243Z",
     "shell.execute_reply.started": "2022-03-23T11:50:44.753566Z"
    },
    "papermill": {
     "duration": 0.060124,
     "end_time": "2022-03-23T13:20:02.415448",
     "exception": false,
     "start_time": "2022-03-23T13:20:02.355324",
     "status": "completed"
    },
    "tags": []
   },
   "outputs": [],
   "source": [
    "X.columns = ['texts', 'labels']\n",
    "X = X.dropna()\n",
    "X.labels = X.labels.apply(int)"
   ]
  },
  {
   "cell_type": "code",
   "execution_count": 16,
   "id": "72acde11",
   "metadata": {
    "execution": {
     "iopub.execute_input": "2022-03-23T13:20:02.520555Z",
     "iopub.status.busy": "2022-03-23T13:20:02.519809Z",
     "iopub.status.idle": "2022-03-23T13:20:02.526063Z",
     "shell.execute_reply": "2022-03-23T13:20:02.526715Z",
     "shell.execute_reply.started": "2022-03-23T11:50:44.761412Z"
    },
    "papermill": {
     "duration": 0.057313,
     "end_time": "2022-03-23T13:20:02.526915",
     "exception": false,
     "start_time": "2022-03-23T13:20:02.469602",
     "status": "completed"
    },
    "tags": []
   },
   "outputs": [
    {
     "data": {
      "text/plain": [
       "(500, 2)"
      ]
     },
     "execution_count": 16,
     "metadata": {},
     "output_type": "execute_result"
    }
   ],
   "source": [
    "X.shape"
   ]
  },
  {
   "cell_type": "code",
   "execution_count": 17,
   "id": "80e90791",
   "metadata": {
    "execution": {
     "iopub.execute_input": "2022-03-23T13:20:02.628107Z",
     "iopub.status.busy": "2022-03-23T13:20:02.627069Z",
     "iopub.status.idle": "2022-03-23T13:20:02.636635Z",
     "shell.execute_reply": "2022-03-23T13:20:02.637506Z",
     "shell.execute_reply.started": "2022-03-23T11:50:44.774656Z"
    },
    "papermill": {
     "duration": 0.066592,
     "end_time": "2022-03-23T13:20:02.637767",
     "exception": false,
     "start_time": "2022-03-23T13:20:02.571175",
     "status": "completed"
    },
    "tags": []
   },
   "outputs": [
    {
     "data": {
      "text/html": [
       "<div>\n",
       "<style scoped>\n",
       "    .dataframe tbody tr th:only-of-type {\n",
       "        vertical-align: middle;\n",
       "    }\n",
       "\n",
       "    .dataframe tbody tr th {\n",
       "        vertical-align: top;\n",
       "    }\n",
       "\n",
       "    .dataframe thead th {\n",
       "        text-align: right;\n",
       "    }\n",
       "</style>\n",
       "<table border=\"1\" class=\"dataframe\">\n",
       "  <thead>\n",
       "    <tr style=\"text-align: right;\">\n",
       "      <th></th>\n",
       "      <th>texts</th>\n",
       "      <th>labels</th>\n",
       "    </tr>\n",
       "  </thead>\n",
       "  <tbody>\n",
       "    <tr>\n",
       "      <th>90</th>\n",
       "      <td>RT @OpenCambridgeUK: Be sure to mark your cale...</td>\n",
       "      <td>0</td>\n",
       "    </tr>\n",
       "    <tr>\n",
       "      <th>188</th>\n",
       "      <td>@Jada__london 👊🏿❤️\\n</td>\n",
       "      <td>0</td>\n",
       "    </tr>\n",
       "    <tr>\n",
       "      <th>182</th>\n",
       "      <td>@RoshaneSport @mjshrimper Surely it would’ve b...</td>\n",
       "      <td>0</td>\n",
       "    </tr>\n",
       "  </tbody>\n",
       "</table>\n",
       "</div>"
      ],
      "text/plain": [
       "                                                 texts  labels\n",
       "90   RT @OpenCambridgeUK: Be sure to mark your cale...       0\n",
       "188                               @Jada__london 👊🏿❤️\\n       0\n",
       "182  @RoshaneSport @mjshrimper Surely it would’ve b...       0"
      ]
     },
     "execution_count": 17,
     "metadata": {},
     "output_type": "execute_result"
    }
   ],
   "source": [
    "X.sample(3)"
   ]
  },
  {
   "cell_type": "code",
   "execution_count": 18,
   "id": "ff845575",
   "metadata": {
    "execution": {
     "iopub.execute_input": "2022-03-23T13:20:02.730078Z",
     "iopub.status.busy": "2022-03-23T13:20:02.729067Z",
     "iopub.status.idle": "2022-03-23T13:20:03.021616Z",
     "shell.execute_reply": "2022-03-23T13:20:03.022589Z",
     "shell.execute_reply.started": "2022-03-23T11:50:44.790886Z"
    },
    "papermill": {
     "duration": 0.338322,
     "end_time": "2022-03-23T13:20:03.022849",
     "exception": false,
     "start_time": "2022-03-23T13:20:02.684527",
     "status": "completed"
    },
    "tags": []
   },
   "outputs": [
    {
     "data": {
      "text/plain": [
       "<AxesSubplot:>"
      ]
     },
     "execution_count": 18,
     "metadata": {},
     "output_type": "execute_result"
    },
    {
     "data": {
      "image/png": "[encoded data removed]",
      "text/plain": [
       "<Figure size 432x288 with 1 Axes>"
      ]
     },
     "metadata": {
      "needs_background": "light"
     },
     "output_type": "display_data"
    }
   ],
   "source": [
    "X.labels.value_counts().plot.barh()"
   ]
  },
  {
   "cell_type": "code",
   "execution_count": 19,
   "id": "cc01d5bb",
   "metadata": {
    "execution": {
     "iopub.execute_input": "2022-03-23T13:20:03.124404Z",
     "iopub.status.busy": "2022-03-23T13:20:03.123334Z",
     "iopub.status.idle": "2022-03-23T13:20:03.131489Z",
     "shell.execute_reply": "2022-03-23T13:20:03.132176Z",
     "shell.execute_reply.started": "2022-03-23T11:50:45.014654Z"
    },
    "papermill": {
     "duration": 0.056301,
     "end_time": "2022-03-23T13:20:03.132363",
     "exception": false,
     "start_time": "2022-03-23T13:20:03.076062",
     "status": "completed"
    },
    "tags": []
   },
   "outputs": [
    {
     "data": {
      "text/plain": [
       "13"
      ]
     },
     "execution_count": 19,
     "metadata": {},
     "output_type": "execute_result"
    }
   ],
   "source": [
    "X.texts.apply(len).min()"
   ]
  },
  {
   "cell_type": "code",
   "execution_count": 20,
   "id": "a970875b",
   "metadata": {
    "execution": {
     "iopub.execute_input": "2022-03-23T13:20:03.225473Z",
     "iopub.status.busy": "2022-03-23T13:20:03.224418Z",
     "iopub.status.idle": "2022-03-23T13:20:03.232150Z",
     "shell.execute_reply": "2022-03-23T13:20:03.233120Z",
     "shell.execute_reply.started": "2022-03-23T11:50:45.02268Z"
    },
    "papermill": {
     "duration": 0.055977,
     "end_time": "2022-03-23T13:20:03.233366",
     "exception": false,
     "start_time": "2022-03-23T13:20:03.177389",
     "status": "completed"
    },
    "tags": []
   },
   "outputs": [
    {
     "data": {
      "text/plain": [
       "117.774"
      ]
     },
     "execution_count": 20,
     "metadata": {},
     "output_type": "execute_result"
    }
   ],
   "source": [
    "X.texts.apply(len).mean()"
   ]
  },
  {
   "cell_type": "code",
   "execution_count": 21,
   "id": "554a7f06",
   "metadata": {
    "execution": {
     "iopub.execute_input": "2022-03-23T13:20:03.338440Z",
     "iopub.status.busy": "2022-03-23T13:20:03.337537Z",
     "iopub.status.idle": "2022-03-23T13:20:05.259992Z",
     "shell.execute_reply": "2022-03-23T13:20:05.260604Z",
     "shell.execute_reply.started": "2022-03-23T11:50:45.034686Z"
    },
    "papermill": {
     "duration": 1.976717,
     "end_time": "2022-03-23T13:20:05.260884",
     "exception": false,
     "start_time": "2022-03-23T13:20:03.284167",
     "status": "completed"
    },
    "tags": []
   },
   "outputs": [
    {
     "name": "stderr",
     "output_type": "stream",
     "text": [
      "https://huggingface.co/distilbert-base-uncased/resolve/main/tokenizer_config.json not found in cache or force_download set to True, downloading to /root/.cache/huggingface/transformers/tmp1f7jies6\n"
     ]
    },
    {
     "data": {
      "application/vnd.jupyter.widget-view+json": {
       "model_id": "abad918458db4d4eac1b677492bfe2e0",
       "version_major": 2,
       "version_minor": 0
      },
      "text/plain": [
       "Downloading:   0%|          | 0.00/28.0 [00:00<?, ?B/s]"
      ]
     },
     "metadata": {},
     "output_type": "display_data"
    },
    {
     "name": "stderr",
     "output_type": "stream",
     "text": [
      "storing https://huggingface.co/distilbert-base-uncased/resolve/main/tokenizer_config.json in cache at /root/.cache/huggingface/transformers/8c8624b8ac8aa99c60c912161f8332de003484428c47906d7ff7eb7f73eecdbb.20430bd8e10ef77a7d2977accefe796051e01bc2fc4aa146bc862997a1a15e79\n",
      "creating metadata file for /root/.cache/huggingface/transformers/8c8624b8ac8aa99c60c912161f8332de003484428c47906d7ff7eb7f73eecdbb.20430bd8e10ef77a7d2977accefe796051e01bc2fc4aa146bc862997a1a15e79\n",
      "https://huggingface.co/distilbert-base-uncased/resolve/main/config.json not found in cache or force_download set to True, downloading to /root/.cache/huggingface/transformers/tmppfqlxv6n\n"
     ]
    },
    {
     "data": {
      "application/vnd.jupyter.widget-view+json": {
       "model_id": "e91eca6865c54cc0ad54d1eb74877533",
       "version_major": 2,
       "version_minor": 0
      },
      "text/plain": [
       "Downloading:   0%|          | 0.00/483 [00:00<?, ?B/s]"
      ]
     },
     "metadata": {},
     "output_type": "display_data"
    },
    {
     "name": "stderr",
     "output_type": "stream",
     "text": [
      "storing https://huggingface.co/distilbert-base-uncased/resolve/main/config.json in cache at /root/.cache/huggingface/transformers/23454919702d26495337f3da04d1655c7ee010d5ec9d77bdb9e399e00302c0a1.91b885ab15d631bf9cee9dc9d25ece0afd932f2f5130eba28f2055b2220c0333\n",
      "creating metadata file for /root/.cache/huggingface/transformers/23454919702d26495337f3da04d1655c7ee010d5ec9d77bdb9e399e00302c0a1.91b885ab15d631bf9cee9dc9d25ece0afd932f2f5130eba28f2055b2220c0333\n",
      "loading configuration file https://huggingface.co/distilbert-base-uncased/resolve/main/config.json from cache at /root/.cache/huggingface/transformers/23454919702d26495337f3da04d1655c7ee010d5ec9d77bdb9e399e00302c0a1.91b885ab15d631bf9cee9dc9d25ece0afd932f2f5130eba28f2055b2220c0333\n",
      "Model config DistilBertConfig {\n",
      "  \"_name_or_path\": \"distilbert-base-uncased\",\n",
      "  \"activation\": \"gelu\",\n",
      "  \"architectures\": [\n",
      "    \"DistilBertForMaskedLM\"\n",
      "  ],\n",
      "  \"attention_dropout\": 0.1,\n",
      "  \"dim\": 768,\n",
      "  \"dropout\": 0.1,\n",
      "  \"hidden_dim\": 3072,\n",
      "  \"initializer_range\": 0.02,\n",
      "  \"max_position_embeddings\": 512,\n",
      "  \"model_type\": \"distilbert\",\n",
      "  \"n_heads\": 12,\n",
      "  \"n_layers\": 6,\n",
      "  \"pad_token_id\": 0,\n",
      "  \"qa_dropout\": 0.1,\n",
      "  \"seq_classif_dropout\": 0.2,\n",
      "  \"sinusoidal_pos_embds\": false,\n",
      "  \"tie_weights_\": true,\n",
      "  \"transformers_version\": \"4.16.2\",\n",
      "  \"vocab_size\": 30522\n",
      "}\n",
      "\n",
      "https://huggingface.co/distilbert-base-uncased/resolve/main/vocab.txt not found in cache or force_download set to True, downloading to /root/.cache/huggingface/transformers/tmp5vja6u4d\n"
     ]
    },
    {
     "data": {
      "application/vnd.jupyter.widget-view+json": {
       "model_id": "dd33c2d2b9a84479b5486090a7f3830e",
       "version_major": 2,
       "version_minor": 0
      },
      "text/plain": [
       "Downloading:   0%|          | 0.00/226k [00:00<?, ?B/s]"
      ]
     },
     "metadata": {},
     "output_type": "display_data"
    },
    {
     "name": "stderr",
     "output_type": "stream",
     "text": [
      "storing https://huggingface.co/distilbert-base-uncased/resolve/main/vocab.txt in cache at /root/.cache/huggingface/transformers/0e1bbfda7f63a99bb52e3915dcf10c3c92122b827d92eb2d34ce94ee79ba486c.d789d64ebfe299b0e416afc4a169632f903f693095b4629a7ea271d5a0cf2c99\n",
      "creating metadata file for /root/.cache/huggingface/transformers/0e1bbfda7f63a99bb52e3915dcf10c3c92122b827d92eb2d34ce94ee79ba486c.d789d64ebfe299b0e416afc4a169632f903f693095b4629a7ea271d5a0cf2c99\n",
      "https://huggingface.co/distilbert-base-uncased/resolve/main/tokenizer.json not found in cache or force_download set to True, downloading to /root/.cache/huggingface/transformers/tmpg7lkp8t6\n"
     ]
    },
    {
     "data": {
      "application/vnd.jupyter.widget-view+json": {
       "model_id": "a39d50408f3a4267b817342792f8b87e",
       "version_major": 2,
       "version_minor": 0
      },
      "text/plain": [
       "Downloading:   0%|          | 0.00/455k [00:00<?, ?B/s]"
      ]
     },
     "metadata": {},
     "output_type": "display_data"
    },
    {
     "name": "stderr",
     "output_type": "stream",
     "text": [
      "storing https://huggingface.co/distilbert-base-uncased/resolve/main/tokenizer.json in cache at /root/.cache/huggingface/transformers/75abb59d7a06f4f640158a9bfcde005264e59e8d566781ab1415b139d2e4c603.7f2721073f19841be16f41b0a70b600ca6b880c8f3df6f3535cbc704371bdfa4\n",
      "creating metadata file for /root/.cache/huggingface/transformers/75abb59d7a06f4f640158a9bfcde005264e59e8d566781ab1415b139d2e4c603.7f2721073f19841be16f41b0a70b600ca6b880c8f3df6f3535cbc704371bdfa4\n",
      "loading file https://huggingface.co/distilbert-base-uncased/resolve/main/vocab.txt from cache at /root/.cache/huggingface/transformers/0e1bbfda7f63a99bb52e3915dcf10c3c92122b827d92eb2d34ce94ee79ba486c.d789d64ebfe299b0e416afc4a169632f903f693095b4629a7ea271d5a0cf2c99\n",
      "loading file https://huggingface.co/distilbert-base-uncased/resolve/main/tokenizer.json from cache at /root/.cache/huggingface/transformers/75abb59d7a06f4f640158a9bfcde005264e59e8d566781ab1415b139d2e4c603.7f2721073f19841be16f41b0a70b600ca6b880c8f3df6f3535cbc704371bdfa4\n",
      "loading file https://huggingface.co/distilbert-base-uncased/resolve/main/added_tokens.json from cache at None\n",
      "loading file https://huggingface.co/distilbert-base-uncased/resolve/main/special_tokens_map.json from cache at None\n",
      "loading file https://huggingface.co/distilbert-base-uncased/resolve/main/tokenizer_config.json from cache at /root/.cache/huggingface/transformers/8c8624b8ac8aa99c60c912161f8332de003484428c47906d7ff7eb7f73eecdbb.20430bd8e10ef77a7d2977accefe796051e01bc2fc4aa146bc862997a1a15e79\n",
      "loading configuration file https://huggingface.co/distilbert-base-uncased/resolve/main/config.json from cache at /root/.cache/huggingface/transformers/23454919702d26495337f3da04d1655c7ee010d5ec9d77bdb9e399e00302c0a1.91b885ab15d631bf9cee9dc9d25ece0afd932f2f5130eba28f2055b2220c0333\n",
      "Model config DistilBertConfig {\n",
      "  \"_name_or_path\": \"distilbert-base-uncased\",\n",
      "  \"activation\": \"gelu\",\n",
      "  \"architectures\": [\n",
      "    \"DistilBertForMaskedLM\"\n",
      "  ],\n",
      "  \"attention_dropout\": 0.1,\n",
      "  \"dim\": 768,\n",
      "  \"dropout\": 0.1,\n",
      "  \"hidden_dim\": 3072,\n",
      "  \"initializer_range\": 0.02,\n",
      "  \"max_position_embeddings\": 512,\n",
      "  \"model_type\": \"distilbert\",\n",
      "  \"n_heads\": 12,\n",
      "  \"n_layers\": 6,\n",
      "  \"pad_token_id\": 0,\n",
      "  \"qa_dropout\": 0.1,\n",
      "  \"seq_classif_dropout\": 0.2,\n",
      "  \"sinusoidal_pos_embds\": false,\n",
      "  \"tie_weights_\": true,\n",
      "  \"transformers_version\": \"4.16.2\",\n",
      "  \"vocab_size\": 30522\n",
      "}\n",
      "\n"
     ]
    }
   ],
   "source": [
    "model_ckpt = \"distilbert-base-uncased\"\n",
    "tokenizer = AutoTokenizer.from_pretrained(model_ckpt)"
   ]
  },
  {
   "cell_type": "code",
   "execution_count": 22,
   "id": "9ee23af5",
   "metadata": {
    "execution": {
     "iopub.execute_input": "2022-03-23T13:20:05.376631Z",
     "iopub.status.busy": "2022-03-23T13:20:05.375899Z",
     "iopub.status.idle": "2022-03-23T13:20:05.378832Z",
     "shell.execute_reply": "2022-03-23T13:20:05.378056Z",
     "shell.execute_reply.started": "2022-03-23T11:50:59.24967Z"
    },
    "papermill": {
     "duration": 0.063365,
     "end_time": "2022-03-23T13:20:05.378994",
     "exception": false,
     "start_time": "2022-03-23T13:20:05.315629",
     "status": "completed"
    },
    "tags": []
   },
   "outputs": [],
   "source": [
    "max_length = tokenizer.model_max_length\n",
    "def tokenize(batch):\n",
    "    return tokenizer(batch[\"texts\"], padding=True, truncation=True,  max_length = max_length)"
   ]
  },
  {
   "cell_type": "code",
   "execution_count": 23,
   "id": "a0fccd3b",
   "metadata": {
    "execution": {
     "iopub.execute_input": "2022-03-23T13:20:05.493329Z",
     "iopub.status.busy": "2022-03-23T13:20:05.492295Z",
     "iopub.status.idle": "2022-03-23T13:20:13.319092Z",
     "shell.execute_reply": "2022-03-23T13:20:13.319580Z",
     "shell.execute_reply.started": "2022-03-23T11:50:59.255669Z"
    },
    "papermill": {
     "duration": 7.887229,
     "end_time": "2022-03-23T13:20:13.319762",
     "exception": false,
     "start_time": "2022-03-23T13:20:05.432533",
     "status": "completed"
    },
    "tags": []
   },
   "outputs": [
    {
     "name": "stderr",
     "output_type": "stream",
     "text": [
      "loading configuration file https://huggingface.co/distilbert-base-uncased/resolve/main/config.json from cache at /root/.cache/huggingface/transformers/23454919702d26495337f3da04d1655c7ee010d5ec9d77bdb9e399e00302c0a1.91b885ab15d631bf9cee9dc9d25ece0afd932f2f5130eba28f2055b2220c0333\n",
      "Model config DistilBertConfig {\n",
      "  \"_name_or_path\": \"distilbert-base-uncased\",\n",
      "  \"activation\": \"gelu\",\n",
      "  \"architectures\": [\n",
      "    \"DistilBertForMaskedLM\"\n",
      "  ],\n",
      "  \"attention_dropout\": 0.1,\n",
      "  \"dim\": 768,\n",
      "  \"dropout\": 0.1,\n",
      "  \"hidden_dim\": 3072,\n",
      "  \"initializer_range\": 0.02,\n",
      "  \"max_position_embeddings\": 512,\n",
      "  \"model_type\": \"distilbert\",\n",
      "  \"n_heads\": 12,\n",
      "  \"n_layers\": 6,\n",
      "  \"pad_token_id\": 0,\n",
      "  \"qa_dropout\": 0.1,\n",
      "  \"seq_classif_dropout\": 0.2,\n",
      "  \"sinusoidal_pos_embds\": false,\n",
      "  \"tie_weights_\": true,\n",
      "  \"transformers_version\": \"4.16.2\",\n",
      "  \"vocab_size\": 30522\n",
      "}\n",
      "\n",
      "https://huggingface.co/distilbert-base-uncased/resolve/main/pytorch_model.bin not found in cache or force_download set to True, downloading to /root/.cache/huggingface/transformers/tmpldj8dlb3\n"
     ]
    },
    {
     "data": {
      "application/vnd.jupyter.widget-view+json": {
       "model_id": "b637ff6e5eb642d28039ba3da4c71818",
       "version_major": 2,
       "version_minor": 0
      },
      "text/plain": [
       "Downloading:   0%|          | 0.00/256M [00:00<?, ?B/s]"
      ]
     },
     "metadata": {},
     "output_type": "display_data"
    },
    {
     "name": "stderr",
     "output_type": "stream",
     "text": [
      "storing https://huggingface.co/distilbert-base-uncased/resolve/main/pytorch_model.bin in cache at /root/.cache/huggingface/transformers/9c169103d7e5a73936dd2b627e42851bec0831212b677c637033ee4bce9ab5ee.126183e36667471617ae2f0835fab707baa54b731f991507ebbb55ea85adb12a\n",
      "creating metadata file for /root/.cache/huggingface/transformers/9c169103d7e5a73936dd2b627e42851bec0831212b677c637033ee4bce9ab5ee.126183e36667471617ae2f0835fab707baa54b731f991507ebbb55ea85adb12a\n",
      "loading weights file https://huggingface.co/distilbert-base-uncased/resolve/main/pytorch_model.bin from cache at /root/.cache/huggingface/transformers/9c169103d7e5a73936dd2b627e42851bec0831212b677c637033ee4bce9ab5ee.126183e36667471617ae2f0835fab707baa54b731f991507ebbb55ea85adb12a\n",
      "Some weights of the model checkpoint at distilbert-base-uncased were not used when initializing DistilBertForSequenceClassification: ['vocab_projector.bias', 'vocab_transform.bias', 'vocab_transform.weight', 'vocab_layer_norm.weight', 'vocab_projector.weight', 'vocab_layer_norm.bias']\n",
      "- This IS expected if you are initializing DistilBertForSequenceClassification from the checkpoint of a model trained on another task or with another architecture (e.g. initializing a BertForSequenceClassification model from a BertForPreTraining model).\n",
      "- This IS NOT expected if you are initializing DistilBertForSequenceClassification from the checkpoint of a model that you expect to be exactly identical (initializing a BertForSequenceClassification model from a BertForSequenceClassification model).\n",
      "Some weights of DistilBertForSequenceClassification were not initialized from the model checkpoint at distilbert-base-uncased and are newly initialized: ['pre_classifier.bias', 'classifier.bias', 'pre_classifier.weight', 'classifier.weight']\n",
      "You should probably TRAIN this model on a down-stream task to be able to use it for predictions and inference.\n"
     ]
    }
   ],
   "source": [
    "device = torch.device(\"cuda\" if torch.cuda.is_available() else \"cpu\")\n",
    "model = (AutoModelForSequenceClassification\n",
    "         .from_pretrained(model_ckpt, num_labels=2)\n",
    "         .to(device))"
   ]
  },
  {
   "cell_type": "code",
   "execution_count": 24,
   "id": "b0b8082a",
   "metadata": {
    "execution": {
     "iopub.execute_input": "2022-03-23T13:20:13.439412Z",
     "iopub.status.busy": "2022-03-23T13:20:13.438706Z",
     "iopub.status.idle": "2022-03-23T13:20:13.444430Z",
     "shell.execute_reply": "2022-03-23T13:20:13.443753Z",
     "shell.execute_reply.started": "2022-03-23T11:51:19.315935Z"
    },
    "papermill": {
     "duration": 0.064295,
     "end_time": "2022-03-23T13:20:13.444574",
     "exception": false,
     "start_time": "2022-03-23T13:20:13.380279",
     "status": "completed"
    },
    "tags": []
   },
   "outputs": [],
   "source": [
    "def compute_metrics(pred):\n",
    "    labels = pred.label_ids\n",
    "    #map to 01\n",
    "    preds = pred.predictions.argmax(-1)\n",
    "    f1 = f1_score(labels, preds, average=\"weighted\")\n",
    "    acc = accuracy_score(labels, preds)\n",
    "    roc = roc_auc_score(labels, preds)\n",
    "    return {\"accuracy\": acc, \"f1\": f1}"
   ]
  },
  {
   "cell_type": "code",
   "execution_count": 25,
   "id": "b22dd8ad",
   "metadata": {
    "execution": {
     "iopub.execute_input": "2022-03-23T13:20:13.563343Z",
     "iopub.status.busy": "2022-03-23T13:20:13.562281Z",
     "iopub.status.idle": "2022-03-23T13:20:13.617751Z",
     "shell.execute_reply": "2022-03-23T13:20:13.618493Z",
     "shell.execute_reply.started": "2022-03-23T11:51:19.325209Z"
    },
    "papermill": {
     "duration": 0.117253,
     "end_time": "2022-03-23T13:20:13.618734",
     "exception": false,
     "start_time": "2022-03-23T13:20:13.501481",
     "status": "completed"
    },
    "tags": []
   },
   "outputs": [],
   "source": [
    "from sklearn.model_selection import train_test_split\n",
    "X_train, X_test= train_test_split(X, test_size = 0.4, random_state = 42)\n",
    "train_ds = Dataset.from_pandas(X_train)\n",
    "val_ds = Dataset.from_pandas(X_test)"
   ]
  },
  {
   "cell_type": "code",
   "execution_count": 26,
   "id": "89fb3df4",
   "metadata": {
    "execution": {
     "iopub.execute_input": "2022-03-23T13:20:13.776998Z",
     "iopub.status.busy": "2022-03-23T13:20:13.775931Z",
     "iopub.status.idle": "2022-03-23T13:20:13.780300Z",
     "shell.execute_reply": "2022-03-23T13:20:13.779469Z",
     "shell.execute_reply.started": "2022-03-23T11:51:20.027266Z"
    },
    "papermill": {
     "duration": 0.080167,
     "end_time": "2022-03-23T13:20:13.780519",
     "exception": false,
     "start_time": "2022-03-23T13:20:13.700352",
     "status": "completed"
    },
    "tags": []
   },
   "outputs": [],
   "source": [
    "# train_ds.remove_columns(\"__index_level_0__\")"
   ]
  },
  {
   "cell_type": "code",
   "execution_count": 27,
   "id": "b6dd0278",
   "metadata": {
    "execution": {
     "iopub.execute_input": "2022-03-23T13:20:13.921075Z",
     "iopub.status.busy": "2022-03-23T13:20:13.920370Z",
     "iopub.status.idle": "2022-03-23T13:20:14.146512Z",
     "shell.execute_reply": "2022-03-23T13:20:14.147044Z",
     "shell.execute_reply.started": "2022-03-23T11:51:20.03335Z"
    },
    "papermill": {
     "duration": 0.292627,
     "end_time": "2022-03-23T13:20:14.147227",
     "exception": false,
     "start_time": "2022-03-23T13:20:13.854600",
     "status": "completed"
    },
    "tags": []
   },
   "outputs": [
    {
     "data": {
      "application/vnd.jupyter.widget-view+json": {
       "model_id": "ce58edfd067f4c6581594bb7e3bf4d32",
       "version_major": 2,
       "version_minor": 0
      },
      "text/plain": [
       "  0%|          | 0/1 [00:00<?, ?ba/s]"
      ]
     },
     "metadata": {},
     "output_type": "display_data"
    },
    {
     "data": {
      "application/vnd.jupyter.widget-view+json": {
       "model_id": "84a70ff156c14b2eb3fc82b5ba6f2bdb",
       "version_major": 2,
       "version_minor": 0
      },
      "text/plain": [
       "  0%|          | 0/1 [00:00<?, ?ba/s]"
      ]
     },
     "metadata": {},
     "output_type": "display_data"
    }
   ],
   "source": [
    "token_train = train_ds.map(tokenize, batched=True)\n",
    "token_val = val_ds.map(tokenize, batched=True)"
   ]
  },
  {
   "cell_type": "code",
   "execution_count": 28,
   "id": "91d273d6",
   "metadata": {
    "execution": {
     "iopub.execute_input": "2022-03-23T13:20:14.266892Z",
     "iopub.status.busy": "2022-03-23T13:20:14.266159Z",
     "iopub.status.idle": "2022-03-23T13:20:14.270084Z",
     "shell.execute_reply": "2022-03-23T13:20:14.270582Z",
     "shell.execute_reply.started": "2022-03-23T11:51:20.270909Z"
    },
    "papermill": {
     "duration": 0.066796,
     "end_time": "2022-03-23T13:20:14.270779",
     "exception": false,
     "start_time": "2022-03-23T13:20:14.203983",
     "status": "completed"
    },
    "tags": []
   },
   "outputs": [],
   "source": [
    "token_train = token_train.remove_columns(['texts', '__index_level_0__'])\n",
    "token_val = token_val.remove_columns(['texts', '__index_level_0__'])"
   ]
  },
  {
   "cell_type": "code",
   "execution_count": 29,
   "id": "ae5f451e",
   "metadata": {
    "execution": {
     "iopub.execute_input": "2022-03-23T13:20:14.390694Z",
     "iopub.status.busy": "2022-03-23T13:20:14.389578Z",
     "iopub.status.idle": "2022-03-23T13:20:14.398069Z",
     "shell.execute_reply": "2022-03-23T13:20:14.398597Z",
     "shell.execute_reply.started": "2022-03-23T11:51:20.285081Z"
    },
    "papermill": {
     "duration": 0.070586,
     "end_time": "2022-03-23T13:20:14.398917",
     "exception": false,
     "start_time": "2022-03-23T13:20:14.328331",
     "status": "completed"
    },
    "tags": []
   },
   "outputs": [
    {
     "name": "stderr",
     "output_type": "stream",
     "text": [
      "PyTorch: setting up devices\n"
     ]
    }
   ],
   "source": [
    "batch_size = 32\n",
    "logging_steps = len(token_train) // batch_size\n",
    "model_name = f\"{model_ckpt}-finetune\"\n",
    "training_args = TrainingArguments(output_dir=model_name,\n",
    "                                  num_train_epochs=2,\n",
    "                                  learning_rate=2e-5,\n",
    "                                  per_device_train_batch_size=batch_size,\n",
    "                                  per_device_eval_batch_size=batch_size,\n",
    "                                  weight_decay=0.01,\n",
    "                                  report_to = \"none\",\n",
    "                                  #evaluation_strategy=\"epoch\",\n",
    "                                  disable_tqdm=False,\n",
    "                                  #logging_steps=logging_steps,\n",
    "                                  push_to_hub=False,\n",
    "                                  log_level=\"error\")"
   ]
  },
  {
   "cell_type": "code",
   "execution_count": 30,
   "id": "2b43514e",
   "metadata": {
    "execution": {
     "iopub.execute_input": "2022-03-23T13:20:14.521842Z",
     "iopub.status.busy": "2022-03-23T13:20:14.521118Z",
     "iopub.status.idle": "2022-03-23T13:20:14.523973Z",
     "shell.execute_reply": "2022-03-23T13:20:14.524506Z",
     "shell.execute_reply.started": "2022-03-23T11:51:20.294847Z"
    },
    "papermill": {
     "duration": 0.065772,
     "end_time": "2022-03-23T13:20:14.524689",
     "exception": false,
     "start_time": "2022-03-23T13:20:14.458917",
     "status": "completed"
    },
    "tags": []
   },
   "outputs": [],
   "source": [
    "# import wandb\n",
    "# from kaggle_secrets import UserSecretsClient\n",
    "# user_secrets = UserSecretsClient()\n",
    "# wandb_key = user_secrets.get_secret(\"wandb_key\")\n",
    "# wandb.login(key=wandb_key)"
   ]
  },
  {
   "cell_type": "code",
   "execution_count": 31,
   "id": "e59d8cca",
   "metadata": {
    "execution": {
     "iopub.execute_input": "2022-03-23T13:20:14.642662Z",
     "iopub.status.busy": "2022-03-23T13:20:14.641887Z",
     "iopub.status.idle": "2022-03-23T13:20:14.645289Z",
     "shell.execute_reply": "2022-03-23T13:20:14.645880Z",
     "shell.execute_reply.started": "2022-03-23T11:51:20.305625Z"
    },
    "papermill": {
     "duration": 0.064334,
     "end_time": "2022-03-23T13:20:14.646104",
     "exception": false,
     "start_time": "2022-03-23T13:20:14.581770",
     "status": "completed"
    },
    "tags": []
   },
   "outputs": [],
   "source": [
    "# token_train.set_format('torch', columns = ['labels', 'input_ids', 'attention_mask'])"
   ]
  },
  {
   "cell_type": "code",
   "execution_count": 32,
   "id": "9c977169",
   "metadata": {
    "execution": {
     "iopub.execute_input": "2022-03-23T13:20:14.763333Z",
     "iopub.status.busy": "2022-03-23T13:20:14.762689Z",
     "iopub.status.idle": "2022-03-23T13:26:22.775555Z",
     "shell.execute_reply": "2022-03-23T13:26:22.776279Z",
     "shell.execute_reply.started": "2022-03-23T11:51:20.317959Z"
    },
    "papermill": {
     "duration": 368.073434,
     "end_time": "2022-03-23T13:26:22.776609",
     "exception": false,
     "start_time": "2022-03-23T13:20:14.703175",
     "status": "completed"
    },
    "tags": []
   },
   "outputs": [
    {
     "name": "stderr",
     "output_type": "stream",
     "text": [
      "/opt/conda/lib/python3.7/site-packages/transformers/optimization.py:309: FutureWarning: This implementation of AdamW is deprecated and will be removed in a future version. Use thePyTorch implementation torch.optim.AdamW instead, or set `no_deprecation_warning=True` to disable this warning\n",
      "  FutureWarning,\n"
     ]
    },
    {
     "data": {
      "text/html": [
       "\n",
       "    <div>\n",
       "      \n",
       "      <progress value='20' max='20' style='width:300px; height:20px; vertical-align: middle;'></progress>\n",
       "      [20/20 05:40, Epoch 2/2]\n",
       "    </div>\n",
       "    <table border=\"1\" class=\"dataframe\">\n",
       "  <thead>\n",
       " <tr style=\"text-align: left;\">\n",
       "      <th>Step</th>\n",
       "      <th>Training Loss</th>\n",
       "    </tr>\n",
       "  </thead>\n",
       "  <tbody>\n",
       "  </tbody>\n",
       "</table><p>"
      ],
      "text/plain": [
       "<IPython.core.display.HTML object>"
      ]
     },
     "metadata": {},
     "output_type": "display_data"
    }
   ],
   "source": [
    "trainer = Trainer(model=model, args=training_args,\n",
    "                  compute_metrics=compute_metrics,\n",
    "                  train_dataset=token_train,\n",
    "                  #eval_dataset=token_val,\n",
    "                  tokenizer=tokenizer)\n",
    "trainer.train();"
   ]
  },
  {
   "cell_type": "code",
   "execution_count": 33,
   "id": "df6ac778",
   "metadata": {
    "execution": {
     "iopub.execute_input": "2022-03-23T13:26:22.897435Z",
     "iopub.status.busy": "2022-03-23T13:26:22.896359Z",
     "iopub.status.idle": "2022-03-23T13:26:22.901882Z",
     "shell.execute_reply": "2022-03-23T13:26:22.902554Z",
     "shell.execute_reply.started": "2022-03-23T11:51:20.34339Z"
    },
    "papermill": {
     "duration": 0.067997,
     "end_time": "2022-03-23T13:26:22.902740",
     "exception": false,
     "start_time": "2022-03-23T13:26:22.834743",
     "status": "completed"
    },
    "tags": []
   },
   "outputs": [],
   "source": [
    "batch = next(iter(token_train))"
   ]
  },
  {
   "cell_type": "code",
   "execution_count": 34,
   "id": "16c53bfa",
   "metadata": {
    "execution": {
     "iopub.execute_input": "2022-03-23T13:26:23.026265Z",
     "iopub.status.busy": "2022-03-23T13:26:23.025566Z",
     "iopub.status.idle": "2022-03-23T13:26:23.032483Z",
     "shell.execute_reply": "2022-03-23T13:26:23.031910Z",
     "shell.execute_reply.started": "2022-03-23T12:06:56.796433Z"
    },
    "papermill": {
     "duration": 0.071551,
     "end_time": "2022-03-23T13:26:23.032638",
     "exception": false,
     "start_time": "2022-03-23T13:26:22.961087",
     "status": "completed"
    },
    "tags": []
   },
   "outputs": [
    {
     "data": {
      "text/plain": [
       "231"
      ]
     },
     "execution_count": 34,
     "metadata": {},
     "output_type": "execute_result"
    }
   ],
   "source": [
    "len(batch['attention_mask'])"
   ]
  },
  {
   "cell_type": "code",
   "execution_count": null,
   "id": "2a90a696",
   "metadata": {
    "papermill": {
     "duration": 0.059064,
     "end_time": "2022-03-23T13:26:23.150691",
     "exception": false,
     "start_time": "2022-03-23T13:26:23.091627",
     "status": "completed"
    },
    "tags": []
   },
   "outputs": [],
   "source": []
  }
 ],
 "metadata": {
  "kernelspec": {
   "display_name": "Python 3",
   "language": "python",
   "name": "python3"
  },
  "language_info": {
   "codemirror_mode": {
    "name": "ipython",
    "version": 3
   },
   "file_extension": ".py",
   "mimetype": "text/x-python",
   "name": "python",
   "nbconvert_exporter": "python",
   "pygments_lexer": "ipython3",
   "version": "3.7.12"
  },
  "papermill": {
   "default_parameters": {},
   "duration": 449.552842,
   "end_time": "2022-03-23T13:26:26.125155",
   "environment_variables": {},
   "exception": null,
   "input_path": "__notebook__.ipynb",
   "output_path": "__notebook__.ipynb",
   "parameters": {},
   "start_time": "2022-03-23T13:18:56.572313",
   "version": "2.3.3"
  },
  "widgets": {
   "application/vnd.jupyter.widget-state+json": {
    "state": {
     "095adcecccba4704a0ebe3a383163d5f": {
      "model_module": "@jupyter-widgets/controls",
      "model_module_version": "1.5.0",
      "model_name": "FloatProgressModel",
      "state": {
       "_dom_classes": [],
       "_model_module": "@jupyter-widgets/controls",
       "_model_module_version": "1.5.0",
       "_model_name": "FloatProgressModel",
       "_view_count": null,
       "_view_module": "@jupyter-widgets/controls",
       "_view_module_version": "1.5.0",
       "_view_name": "ProgressView",
       "bar_style": "success",
       "description": "",
       "description_tooltip": null,
       "layout": "IPY_MODEL_a9b564ad038a42b98b77f12ba14dd514",
       "max": 1.0,
       "min": 0.0,
       "orientation": "horizontal",
       "style": "IPY_MODEL_8702dc90cfb54b639e5c786c074fdffd",
       "value": 1.0
      }
     },
     "0d332103f3114800bc3e54311819bfd0": {
      "model_module": "@jupyter-widgets/controls",
      "model_module_version": "1.5.0",
      "model_name": "DescriptionStyleModel",
      "state": {
       "_model_module": "@jupyter-widgets/controls",
       "_model_module_version": "1.5.0",
       "_model_name": "DescriptionStyleModel",
       "_view_count": null,
       "_view_module": "@jupyter-widgets/base",
       "_view_module_version": "1.2.0",
       "_view_name": "StyleView",
       "description_width": ""
      }
     },
     "12b2fc893c6a4c1e8d272b4f371be2ef": {
      "model_module": "@jupyter-widgets/base",
      "model_module_version": "1.2.0",
      "model_name": "LayoutModel",
      "state": {
       "_model_module": "@jupyter-widgets/base",
       "_model_module_version": "1.2.0",
       "_model_name": "LayoutModel",
       "_view_count": null,
       "_view_module": "@jupyter-widgets/base",
       "_view_module_version": "1.2.0",
       "_view_name": "LayoutView",
       "align_content": null,
       "align_items": null,
       "align_self": null,
       "border": null,
       "bottom": null,
       "display": null,
       "flex": null,
       "flex_flow": null,
       "grid_area": null,
       "grid_auto_columns": null,
       "grid_auto_flow": null,
       "grid_auto_rows": null,
       "grid_column": null,
       "grid_gap": null,
       "grid_row": null,
       "grid_template_areas": null,
       "grid_template_columns": null,
       "grid_template_rows": null,
       "height": null,
       "justify_content": null,
       "justify_items": null,
       "left": null,
       "margin": null,
       "max_height": null,
       "max_width": null,
       "min_height": null,
       "min_width": null,
       "object_fit": null,
       "object_position": null,
       "order": null,
       "overflow": null,
       "overflow_x": null,
       "overflow_y": null,
       "padding": null,
       "right": null,
       "top": null,
       "visibility": null,
       "width": null
      }
     },
     "1666ac7494db4c829bba8e71fd323f5d": {
      "model_module": "@jupyter-widgets/controls",
      "model_module_version": "1.5.0",
      "model_name": "HTMLModel",
      "state": {
       "_dom_classes": [],
       "_model_module": "@jupyter-widgets/controls",
       "_model_module_version": "1.5.0",
       "_model_name": "HTMLModel",
       "_view_count": null,
       "_view_module": "@jupyter-widgets/controls",
       "_view_module_version": "1.5.0",
       "_view_name": "HTMLView",
       "description": "",
       "description_tooltip": null,
       "layout": "IPY_MODEL_94028ab4b26d480b8ebedfb1bec4b7fc",
       "placeholder": "​",
       "style": "IPY_MODEL_0d332103f3114800bc3e54311819bfd0",
       "value": " 28.0/28.0 [00:00&lt;00:00, 836B/s]"
      }
     },
     "1e1de69b527d48ce9c8d8a39c8a39216": {
      "model_module": "@jupyter-widgets/controls",
      "model_module_version": "1.5.0",
      "model_name": "HTMLModel",
      "state": {
       "_dom_classes": [],
       "_model_module": "@jupyter-widgets/controls",
       "_model_module_version": "1.5.0",
       "_model_name": "HTMLModel",
       "_view_count": null,
       "_view_module": "@jupyter-widgets/controls",
       "_view_module_version": "1.5.0",
       "_view_name": "HTMLView",
       "description": "",
       "description_tooltip": null,
       "layout": "IPY_MODEL_f6c953bc034d4bd085b380b7c72e88e8",
       "placeholder": "​",
       "style": "IPY_MODEL_781cd7f68ffb41ccba6d5bd6ae8bc491",
       "value": "Downloading: 100%"
      }
     },
     "1e813a99aeb14894ab5cf151e78ef2c4": {
      "model_module": "@jupyter-widgets/controls",
      "model_module_version": "1.5.0",
      "model_name": "HTMLModel",
      "state": {
       "_dom_classes": [],
       "_model_module": "@jupyter-widgets/controls",
       "_model_module_version": "1.5.0",
       "_model_name": "HTMLModel",
       "_view_count": null,
       "_view_module": "@jupyter-widgets/controls",
       "_view_module_version": "1.5.0",
       "_view_name": "HTMLView",
       "description": "",
       "description_tooltip": null,
       "layout": "IPY_MODEL_acde6fd445e54ac398f597e23756942c",
       "placeholder": "​",
       "style": "IPY_MODEL_c69d9423f47e4007b176faf5c4b43187",
       "value": "100%"
      }
     },
     "1f25331db29c45ba9d85a6e4eb6e2b9f": {
      "model_module": "@jupyter-widgets/controls",
      "model_module_version": "1.5.0",
      "model_name": "FloatProgressModel",
      "state": {
       "_dom_classes": [],
       "_model_module": "@jupyter-widgets/controls",
       "_model_module_version": "1.5.0",
       "_model_name": "FloatProgressModel",
       "_view_count": null,
       "_view_module": "@jupyter-widgets/controls",
       "_view_module_version": "1.5.0",
       "_view_name": "ProgressView",
       "bar_style": "success",
       "description": "",
       "description_tooltip": null,
       "layout": "IPY_MODEL_abe8b51450204e5fb58e8f53c02917c7",
       "max": 466062.0,
       "min": 0.0,
       "orientation": "horizontal",
       "style": "IPY_MODEL_f20263e9e9fc409f98b1246e9f606ff5",
       "value": 466062.0
      }
     },
     "24240f7b0a384acaa6c576942df37c11": {
      "model_module": "@jupyter-widgets/controls",
      "model_module_version": "1.5.0",
      "model_name": "HTMLModel",
      "state": {
       "_dom_classes": [],
       "_model_module": "@jupyter-widgets/controls",
       "_model_module_version": "1.5.0",
       "_model_name": "HTMLModel",
       "_view_count": null,
       "_view_module": "@jupyter-widgets/controls",
       "_view_module_version": "1.5.0",
       "_view_name": "HTMLView",
       "description": "",
       "description_tooltip": null,
       "layout": "IPY_MODEL_b4ce0bb718e547dda708c988752e9652",
       "placeholder": "​",
       "style": "IPY_MODEL_4ba697ba25634a4ca6fba7a7fbe34136",
       "value": "Downloading: 100%"
      }
     },
     "251195e39a514a88bdf5f4e91698b138": {
      "model_module": "@jupyter-widgets/base",
      "model_module_version": "1.2.0",
      "model_name": "LayoutModel",
      "state": {
       "_model_module": "@jupyter-widgets/base",
       "_model_module_version": "1.2.0",
       "_model_name": "LayoutModel",
       "_view_count": null,
       "_view_module": "@jupyter-widgets/base",
       "_view_module_version": "1.2.0",
       "_view_name": "LayoutView",
       "align_content": null,
       "align_items": null,
       "align_self": null,
       "border": null,
       "bottom": null,
       "display": null,
       "flex": null,
       "flex_flow": null,
       "grid_area": null,
       "grid_auto_columns": null,
       "grid_auto_flow": null,
       "grid_auto_rows": null,
       "grid_column": null,
       "grid_gap": null,
       "grid_row": null,
       "grid_template_areas": null,
       "grid_template_columns": null,
       "grid_template_rows": null,
       "height": null,
       "justify_content": null,
       "justify_items": null,
       "left": null,
       "margin": null,
       "max_height": null,
       "max_width": null,
       "min_height": null,
       "min_width": null,
       "object_fit": null,
       "object_position": null,
       "order": null,
       "overflow": null,
       "overflow_x": null,
       "overflow_y": null,
       "padding": null,
       "right": null,
       "top": null,
       "visibility": null,
       "width": null
      }
     },
     "277fed5db0654fa2be46450fabe13f72": {
      "model_module": "@jupyter-widgets/controls",
      "model_module_version": "1.5.0",
      "model_name": "ProgressStyleModel",
      "state": {
       "_model_module": "@jupyter-widgets/controls",
       "_model_module_version": "1.5.0",
       "_model_name": "ProgressStyleModel",
       "_view_count": null,
       "_view_module": "@jupyter-widgets/base",
       "_view_module_version": "1.2.0",
       "_view_name": "StyleView",
       "bar_color": null,
       "description_width": ""
      }
     },
     "2bc232e2187842b282e66fdfb71d4517": {
      "model_module": "@jupyter-widgets/base",
      "model_module_version": "1.2.0",
      "model_name": "LayoutModel",
      "state": {
       "_model_module": "@jupyter-widgets/base",
       "_model_module_version": "1.2.0",
       "_model_name": "LayoutModel",
       "_view_count": null,
       "_view_module": "@jupyter-widgets/base",
       "_view_module_version": "1.2.0",
       "_view_name": "LayoutView",
       "align_content": null,
       "align_items": null,
       "align_self": null,
       "border": null,
       "bottom": null,
       "display": null,
       "flex": null,
       "flex_flow": null,
       "grid_area": null,
       "grid_auto_columns": null,
       "grid_auto_flow": null,
       "grid_auto_rows": null,
       "grid_column": null,
       "grid_gap": null,
       "grid_row": null,
       "grid_template_areas": null,
       "grid_template_columns": null,
       "grid_template_rows": null,
       "height": null,
       "justify_content": null,
       "justify_items": null,
       "left": null,
       "margin": null,
       "max_height": null,
       "max_width": null,
       "min_height": null,
       "min_width": null,
       "object_fit": null,
       "object_position": null,
       "order": null,
       "overflow": null,
       "overflow_x": null,
       "overflow_y": null,
       "padding": null,
       "right": null,
       "top": null,
       "visibility": null,
       "width": null
      }
     },
     "2ec12cfaf9cb4bfa9f516fd5b947f1ab": {
      "model_module": "@jupyter-widgets/base",
      "model_module_version": "1.2.0",
      "model_name": "LayoutModel",
      "state": {
       "_model_module": "@jupyter-widgets/base",
       "_model_module_version": "1.2.0",
       "_model_name": "LayoutModel",
       "_view_count": null,
       "_view_module": "@jupyter-widgets/base",
       "_view_module_version": "1.2.0",
       "_view_name": "LayoutView",
       "align_content": null,
       "align_items": null,
       "align_self": null,
       "border": null,
       "bottom": null,
       "display": null,
       "flex": null,
       "flex_flow": null,
       "grid_area": null,
       "grid_auto_columns": null,
       "grid_auto_flow": null,
       "grid_auto_rows": null,
       "grid_column": null,
       "grid_gap": null,
       "grid_row": null,
       "grid_template_areas": null,
       "grid_template_columns": null,
       "grid_template_rows": null,
       "height": null,
       "justify_content": null,
       "justify_items": null,
       "left": null,
       "margin": null,
       "max_height": null,
       "max_width": null,
       "min_height": null,
       "min_width": null,
       "object_fit": null,
       "object_position": null,
       "order": null,
       "overflow": null,
       "overflow_x": null,
       "overflow_y": null,
       "padding": null,
       "right": null,
       "top": null,
       "visibility": null,
       "width": null
      }
     },
     "33392b4b07734fd6af4f5a7ee19ccffd": {
      "model_module": "@jupyter-widgets/base",
      "model_module_version": "1.2.0",
      "model_name": "LayoutModel",
      "state": {
       "_model_module": "@jupyter-widgets/base",
       "_model_module_version": "1.2.0",
       "_model_name": "LayoutModel",
       "_view_count": null,
       "_view_module": "@jupyter-widgets/base",
       "_view_module_version": "1.2.0",
       "_view_name": "LayoutView",
       "align_content": null,
       "align_items": null,
       "align_self": null,
       "border": null,
       "bottom": null,
       "display": null,
       "flex": null,
       "flex_flow": null,
       "grid_area": null,
       "grid_auto_columns": null,
       "grid_auto_flow": null,
       "grid_auto_rows": null,
       "grid_column": null,
       "grid_gap": null,
       "grid_row": null,
       "grid_template_areas": null,
       "grid_template_columns": null,
       "grid_template_rows": null,
       "height": null,
       "justify_content": null,
       "justify_items": null,
       "left": null,
       "margin": null,
       "max_height": null,
       "max_width": null,
       "min_height": null,
       "min_width": null,
       "object_fit": null,
       "object_position": null,
       "order": null,
       "overflow": null,
       "overflow_x": null,
       "overflow_y": null,
       "padding": null,
       "right": null,
       "top": null,
       "visibility": null,
       "width": null
      }
     },
     "36b8bd69ee6d4ff7b509c133e4003c81": {
      "model_module": "@jupyter-widgets/controls",
      "model_module_version": "1.5.0",
      "model_name": "HTMLModel",
      "state": {
       "_dom_classes": [],
       "_model_module": "@jupyter-widgets/controls",
       "_model_module_version": "1.5.0",
       "_model_name": "HTMLModel",
       "_view_count": null,
       "_view_module": "@jupyter-widgets/controls",
       "_view_module_version": "1.5.0",
       "_view_name": "HTMLView",
       "description": "",
       "description_tooltip": null,
       "layout": "IPY_MODEL_b14d6fba32cc4175907d048955d79eef",
       "placeholder": "​",
       "style": "IPY_MODEL_5148efc7acf44c1f80b86485a9773ea8",
       "value": " 1/1 [00:00&lt;00:00, 16.62ba/s]"
      }
     },
     "37ec032e2a4f451492c5e00c844ff9d8": {
      "model_module": "@jupyter-widgets/base",
      "model_module_version": "1.2.0",
      "model_name": "LayoutModel",
      "state": {
       "_model_module": "@jupyter-widgets/base",
       "_model_module_version": "1.2.0",
       "_model_name": "LayoutModel",
       "_view_count": null,
       "_view_module": "@jupyter-widgets/base",
       "_view_module_version": "1.2.0",
       "_view_name": "LayoutView",
       "align_content": null,
       "align_items": null,
       "align_self": null,
       "border": null,
       "bottom": null,
       "display": null,
       "flex": null,
       "flex_flow": null,
       "grid_area": null,
       "grid_auto_columns": null,
       "grid_auto_flow": null,
       "grid_auto_rows": null,
       "grid_column": null,
       "grid_gap": null,
       "grid_row": null,
       "grid_template_areas": null,
       "grid_template_columns": null,
       "grid_template_rows": null,
       "height": null,
       "justify_content": null,
       "justify_items": null,
       "left": null,
       "margin": null,
       "max_height": null,
       "max_width": null,
       "min_height": null,
       "min_width": null,
       "object_fit": null,
       "object_position": null,
       "order": null,
       "overflow": null,
       "overflow_x": null,
       "overflow_y": null,
       "padding": null,
       "right": null,
       "top": null,
       "visibility": null,
       "width": null
      }
     },
     "3f9bd1c1073748c9ac980bf1c831d6ca": {
      "model_module": "@jupyter-widgets/controls",
      "model_module_version": "1.5.0",
      "model_name": "HTMLModel",
      "state": {
       "_dom_classes": [],
       "_model_module": "@jupyter-widgets/controls",
       "_model_module_version": "1.5.0",
       "_model_name": "HTMLModel",
       "_view_count": null,
       "_view_module": "@jupyter-widgets/controls",
       "_view_module_version": "1.5.0",
       "_view_name": "HTMLView",
       "description": "",
       "description_tooltip": null,
       "layout": "IPY_MODEL_6ce05e93b7434a08a1f9970894b1f5e6",
       "placeholder": "​",
       "style": "IPY_MODEL_a8a3e41e29434d96a9c60233efdf610e",
       "value": " 483/483 [00:00&lt;00:00, 14.5kB/s]"
      }
     },
     "43218fd2ae8f447b9112aef2f923287f": {
      "model_module": "@jupyter-widgets/controls",
      "model_module_version": "1.5.0",
      "model_name": "ProgressStyleModel",
      "state": {
       "_model_module": "@jupyter-widgets/controls",
       "_model_module_version": "1.5.0",
       "_model_name": "ProgressStyleModel",
       "_view_count": null,
       "_view_module": "@jupyter-widgets/base",
       "_view_module_version": "1.2.0",
       "_view_name": "StyleView",
       "bar_color": null,
       "description_width": ""
      }
     },
     "46ca2c37708d47579bbb51d36cfb95bc": {
      "model_module": "@jupyter-widgets/controls",
      "model_module_version": "1.5.0",
      "model_name": "HTMLModel",
      "state": {
       "_dom_classes": [],
       "_model_module": "@jupyter-widgets/controls",
       "_model_module_version": "1.5.0",
       "_model_name": "HTMLModel",
       "_view_count": null,
       "_view_module": "@jupyter-widgets/controls",
       "_view_module_version": "1.5.0",
       "_view_name": "HTMLView",
       "description": "",
       "description_tooltip": null,
       "layout": "IPY_MODEL_ae35cdf740894a09a84825561830427e",
       "placeholder": "​",
       "style": "IPY_MODEL_a79158496cf248f08f6b41465576ba0a",
       "value": "100%"
      }
     },
     "4ba697ba25634a4ca6fba7a7fbe34136": {
      "model_module": "@jupyter-widgets/controls",
      "model_module_version": "1.5.0",
      "model_name": "DescriptionStyleModel",
      "state": {
       "_model_module": "@jupyter-widgets/controls",
       "_model_module_version": "1.5.0",
       "_model_name": "DescriptionStyleModel",
       "_view_count": null,
       "_view_module": "@jupyter-widgets/base",
       "_view_module_version": "1.2.0",
       "_view_name": "StyleView",
       "description_width": ""
      }
     },
     "4c6d8e823dd04b79babf019fd0bb1095": {
      "model_module": "@jupyter-widgets/base",
      "model_module_version": "1.2.0",
      "model_name": "LayoutModel",
      "state": {
       "_model_module": "@jupyter-widgets/base",
       "_model_module_version": "1.2.0",
       "_model_name": "LayoutModel",
       "_view_count": null,
       "_view_module": "@jupyter-widgets/base",
       "_view_module_version": "1.2.0",
       "_view_name": "LayoutView",
       "align_content": null,
       "align_items": null,
       "align_self": null,
       "border": null,
       "bottom": null,
       "display": null,
       "flex": null,
       "flex_flow": null,
       "grid_area": null,
       "grid_auto_columns": null,
       "grid_auto_flow": null,
       "grid_auto_rows": null,
       "grid_column": null,
       "grid_gap": null,
       "grid_row": null,
       "grid_template_areas": null,
       "grid_template_columns": null,
       "grid_template_rows": null,
       "height": null,
       "justify_content": null,
       "justify_items": null,
       "left": null,
       "margin": null,
       "max_height": null,
       "max_width": null,
       "min_height": null,
       "min_width": null,
       "object_fit": null,
       "object_position": null,
       "order": null,
       "overflow": null,
       "overflow_x": null,
       "overflow_y": null,
       "padding": null,
       "right": null,
       "top": null,
       "visibility": null,
       "width": null
      }
     },
     "50e8140953dd4c8cb8d8649838d90390": {
      "model_module": "@jupyter-widgets/base",
      "model_module_version": "1.2.0",
      "model_name": "LayoutModel",
      "state": {
       "_model_module": "@jupyter-widgets/base",
       "_model_module_version": "1.2.0",
       "_model_name": "LayoutModel",
       "_view_count": null,
       "_view_module": "@jupyter-widgets/base",
       "_view_module_version": "1.2.0",
       "_view_name": "LayoutView",
       "align_content": null,
       "align_items": null,
       "align_self": null,
       "border": null,
       "bottom": null,
       "display": null,
       "flex": null,
       "flex_flow": null,
       "grid_area": null,
       "grid_auto_columns": null,
       "grid_auto_flow": null,
       "grid_auto_rows": null,
       "grid_column": null,
       "grid_gap": null,
       "grid_row": null,
       "grid_template_areas": null,
       "grid_template_columns": null,
       "grid_template_rows": null,
       "height": null,
       "justify_content": null,
       "justify_items": null,
       "left": null,
       "margin": null,
       "max_height": null,
       "max_width": null,
       "min_height": null,
       "min_width": null,
       "object_fit": null,
       "object_position": null,
       "order": null,
       "overflow": null,
       "overflow_x": null,
       "overflow_y": null,
       "padding": null,
       "right": null,
       "top": null,
       "visibility": null,
       "width": null
      }
     },
     "5148efc7acf44c1f80b86485a9773ea8": {
      "model_module": "@jupyter-widgets/controls",
      "model_module_version": "1.5.0",
      "model_name": "DescriptionStyleModel",
      "state": {
       "_model_module": "@jupyter-widgets/controls",
       "_model_module_version": "1.5.0",
       "_model_name": "DescriptionStyleModel",
       "_view_count": null,
       "_view_module": "@jupyter-widgets/base",
       "_view_module_version": "1.2.0",
       "_view_name": "StyleView",
       "description_width": ""
      }
     },
     "5ad5cf3e32204e469c09a6a1f52da545": {
      "model_module": "@jupyter-widgets/base",
      "model_module_version": "1.2.0",
      "model_name": "LayoutModel",
      "state": {
       "_model_module": "@jupyter-widgets/base",
       "_model_module_version": "1.2.0",
       "_model_name": "LayoutModel",
       "_view_count": null,
       "_view_module": "@jupyter-widgets/base",
       "_view_module_version": "1.2.0",
       "_view_name": "LayoutView",
       "align_content": null,
       "align_items": null,
       "align_self": null,
       "border": null,
       "bottom": null,
       "display": null,
       "flex": null,
       "flex_flow": null,
       "grid_area": null,
       "grid_auto_columns": null,
       "grid_auto_flow": null,
       "grid_auto_rows": null,
       "grid_column": null,
       "grid_gap": null,
       "grid_row": null,
       "grid_template_areas": null,
       "grid_template_columns": null,
       "grid_template_rows": null,
       "height": null,
       "justify_content": null,
       "justify_items": null,
       "left": null,
       "margin": null,
       "max_height": null,
       "max_width": null,
       "min_height": null,
       "min_width": null,
       "object_fit": null,
       "object_position": null,
       "order": null,
       "overflow": null,
       "overflow_x": null,
       "overflow_y": null,
       "padding": null,
       "right": null,
       "top": null,
       "visibility": null,
       "width": null
      }
     },
     "6ce05e93b7434a08a1f9970894b1f5e6": {
      "model_module": "@jupyter-widgets/base",
      "model_module_version": "1.2.0",
      "model_name": "LayoutModel",
      "state": {
       "_model_module": "@jupyter-widgets/base",
       "_model_module_version": "1.2.0",
       "_model_name": "LayoutModel",
       "_view_count": null,
       "_view_module": "@jupyter-widgets/base",
       "_view_module_version": "1.2.0",
       "_view_name": "LayoutView",
       "align_content": null,
       "align_items": null,
       "align_self": null,
       "border": null,
       "bottom": null,
       "display": null,
       "flex": null,
       "flex_flow": null,
       "grid_area": null,
       "grid_auto_columns": null,
       "grid_auto_flow": null,
       "grid_auto_rows": null,
       "grid_column": null,
       "grid_gap": null,
       "grid_row": null,
       "grid_template_areas": null,
       "grid_template_columns": null,
       "grid_template_rows": null,
       "height": null,
       "justify_content": null,
       "justify_items": null,
       "left": null,
       "margin": null,
       "max_height": null,
       "max_width": null,
       "min_height": null,
       "min_width": null,
       "object_fit": null,
       "object_position": null,
       "order": null,
       "overflow": null,
       "overflow_x": null,
       "overflow_y": null,
       "padding": null,
       "right": null,
       "top": null,
       "visibility": null,
       "width": null
      }
     },
     "781cd7f68ffb41ccba6d5bd6ae8bc491": {
      "model_module": "@jupyter-widgets/controls",
      "model_module_version": "1.5.0",
      "model_name": "DescriptionStyleModel",
      "state": {
       "_model_module": "@jupyter-widgets/controls",
       "_model_module_version": "1.5.0",
       "_model_name": "DescriptionStyleModel",
       "_view_count": null,
       "_view_module": "@jupyter-widgets/base",
       "_view_module_version": "1.2.0",
       "_view_name": "StyleView",
       "description_width": ""
      }
     },
     "798885622c7c448da24276a9412825b9": {
      "model_module": "@jupyter-widgets/controls",
      "model_module_version": "1.5.0",
      "model_name": "FloatProgressModel",
      "state": {
       "_dom_classes": [],
       "_model_module": "@jupyter-widgets/controls",
       "_model_module_version": "1.5.0",
       "_model_name": "FloatProgressModel",
       "_view_count": null,
       "_view_module": "@jupyter-widgets/controls",
       "_view_module_version": "1.5.0",
       "_view_name": "ProgressView",
       "bar_style": "success",
       "description": "",
       "description_tooltip": null,
       "layout": "IPY_MODEL_50e8140953dd4c8cb8d8649838d90390",
       "max": 1.0,
       "min": 0.0,
       "orientation": "horizontal",
       "style": "IPY_MODEL_a609775e49454d1d8ab5192ceb8c9e6f",
       "value": 1.0
      }
     },
     "7aede3be9ddf4ce5b68c4f0425c060c7": {
      "model_module": "@jupyter-widgets/base",
      "model_module_version": "1.2.0",
      "model_name": "LayoutModel",
      "state": {
       "_model_module": "@jupyter-widgets/base",
       "_model_module_version": "1.2.0",
       "_model_name": "LayoutModel",
       "_view_count": null,
       "_view_module": "@jupyter-widgets/base",
       "_view_module_version": "1.2.0",
       "_view_name": "LayoutView",
       "align_content": null,
       "align_items": null,
       "align_self": null,
       "border": null,
       "bottom": null,
       "display": null,
       "flex": null,
       "flex_flow": null,
       "grid_area": null,
       "grid_auto_columns": null,
       "grid_auto_flow": null,
       "grid_auto_rows": null,
       "grid_column": null,
       "grid_gap": null,
       "grid_row": null,
       "grid_template_areas": null,
       "grid_template_columns": null,
       "grid_template_rows": null,
       "height": null,
       "justify_content": null,
       "justify_items": null,
       "left": null,
       "margin": null,
       "max_height": null,
       "max_width": null,
       "min_height": null,
       "min_width": null,
       "object_fit": null,
       "object_position": null,
       "order": null,
       "overflow": null,
       "overflow_x": null,
       "overflow_y": null,
       "padding": null,
       "right": null,
       "top": null,
       "visibility": null,
       "width": null
      }
     },
     "830c4a8946234154a42f9e4aa40bbe8c": {
      "model_module": "@jupyter-widgets/base",
      "model_module_version": "1.2.0",
      "model_name": "LayoutModel",
      "state": {
       "_model_module": "@jupyter-widgets/base",
       "_model_module_version": "1.2.0",
       "_model_name": "LayoutModel",
       "_view_count": null,
       "_view_module": "@jupyter-widgets/base",
       "_view_module_version": "1.2.0",
       "_view_name": "LayoutView",
       "align_content": null,
       "align_items": null,
       "align_self": null,
       "border": null,
       "bottom": null,
       "display": null,
       "flex": null,
       "flex_flow": null,
       "grid_area": null,
       "grid_auto_columns": null,
       "grid_auto_flow": null,
       "grid_auto_rows": null,
       "grid_column": null,
       "grid_gap": null,
       "grid_row": null,
       "grid_template_areas": null,
       "grid_template_columns": null,
       "grid_template_rows": null,
       "height": null,
       "justify_content": null,
       "justify_items": null,
       "left": null,
       "margin": null,
       "max_height": null,
       "max_width": null,
       "min_height": null,
       "min_width": null,
       "object_fit": null,
       "object_position": null,
       "order": null,
       "overflow": null,
       "overflow_x": null,
       "overflow_y": null,
       "padding": null,
       "right": null,
       "top": null,
       "visibility": null,
       "width": null
      }
     },
     "84a70ff156c14b2eb3fc82b5ba6f2bdb": {
      "model_module": "@jupyter-widgets/controls",
      "model_module_version": "1.5.0",
      "model_name": "HBoxModel",
      "state": {
       "_dom_classes": [],
       "_model_module": "@jupyter-widgets/controls",
       "_model_module_version": "1.5.0",
       "_model_name": "HBoxModel",
       "_view_count": null,
       "_view_module": "@jupyter-widgets/controls",
       "_view_module_version": "1.5.0",
       "_view_name": "HBoxView",
       "box_style": "",
       "children": [
        "IPY_MODEL_1e813a99aeb14894ab5cf151e78ef2c4",
        "IPY_MODEL_095adcecccba4704a0ebe3a383163d5f",
        "IPY_MODEL_36b8bd69ee6d4ff7b509c133e4003c81"
       ],
       "layout": "IPY_MODEL_251195e39a514a88bdf5f4e91698b138"
      }
     },
     "86b47e3960f844878a6e0ca8591cbdbb": {
      "model_module": "@jupyter-widgets/controls",
      "model_module_version": "1.5.0",
      "model_name": "HTMLModel",
      "state": {
       "_dom_classes": [],
       "_model_module": "@jupyter-widgets/controls",
       "_model_module_version": "1.5.0",
       "_model_name": "HTMLModel",
       "_view_count": null,
       "_view_module": "@jupyter-widgets/controls",
       "_view_module_version": "1.5.0",
       "_view_name": "HTMLView",
       "description": "",
       "description_tooltip": null,
       "layout": "IPY_MODEL_fea70909af03499887c108b8b5f423c8",
       "placeholder": "​",
       "style": "IPY_MODEL_9bb4456a8149481a90097897b94f5a00",
       "value": " 226k/226k [00:00&lt;00:00, 2.55MB/s]"
      }
     },
     "8702dc90cfb54b639e5c786c074fdffd": {
      "model_module": "@jupyter-widgets/controls",
      "model_module_version": "1.5.0",
      "model_name": "ProgressStyleModel",
      "state": {
       "_model_module": "@jupyter-widgets/controls",
       "_model_module_version": "1.5.0",
       "_model_name": "ProgressStyleModel",
       "_view_count": null,
       "_view_module": "@jupyter-widgets/base",
       "_view_module_version": "1.2.0",
       "_view_name": "StyleView",
       "bar_color": null,
       "description_width": ""
      }
     },
     "8e0ec20f026b4bd29fee1703caf9a251": {
      "model_module": "@jupyter-widgets/base",
      "model_module_version": "1.2.0",
      "model_name": "LayoutModel",
      "state": {
       "_model_module": "@jupyter-widgets/base",
       "_model_module_version": "1.2.0",
       "_model_name": "LayoutModel",
       "_view_count": null,
       "_view_module": "@jupyter-widgets/base",
       "_view_module_version": "1.2.0",
       "_view_name": "LayoutView",
       "align_content": null,
       "align_items": null,
       "align_self": null,
       "border": null,
       "bottom": null,
       "display": null,
       "flex": null,
       "flex_flow": null,
       "grid_area": null,
       "grid_auto_columns": null,
       "grid_auto_flow": null,
       "grid_auto_rows": null,
       "grid_column": null,
       "grid_gap": null,
       "grid_row": null,
       "grid_template_areas": null,
       "grid_template_columns": null,
       "grid_template_rows": null,
       "height": null,
       "justify_content": null,
       "justify_items": null,
       "left": null,
       "margin": null,
       "max_height": null,
       "max_width": null,
       "min_height": null,
       "min_width": null,
       "object_fit": null,
       "object_position": null,
       "order": null,
       "overflow": null,
       "overflow_x": null,
       "overflow_y": null,
       "padding": null,
       "right": null,
       "top": null,
       "visibility": null,
       "width": null
      }
     },
     "8ee5e10c00c746f3afe48b93b1d10e31": {
      "model_module": "@jupyter-widgets/controls",
      "model_module_version": "1.5.0",
      "model_name": "HTMLModel",
      "state": {
       "_dom_classes": [],
       "_model_module": "@jupyter-widgets/controls",
       "_model_module_version": "1.5.0",
       "_model_name": "HTMLModel",
       "_view_count": null,
       "_view_module": "@jupyter-widgets/controls",
       "_view_module_version": "1.5.0",
       "_view_name": "HTMLView",
       "description": "",
       "description_tooltip": null,
       "layout": "IPY_MODEL_b74a3c3e3d67426ab85788eac6547be2",
       "placeholder": "​",
       "style": "IPY_MODEL_93de7aa4187a462e87d8aed44eef78a7",
       "value": " 1/1 [00:00&lt;00:00,  8.43ba/s]"
      }
     },
     "93de7aa4187a462e87d8aed44eef78a7": {
      "model_module": "@jupyter-widgets/controls",
      "model_module_version": "1.5.0",
      "model_name": "DescriptionStyleModel",
      "state": {
       "_model_module": "@jupyter-widgets/controls",
       "_model_module_version": "1.5.0",
       "_model_name": "DescriptionStyleModel",
       "_view_count": null,
       "_view_module": "@jupyter-widgets/base",
       "_view_module_version": "1.2.0",
       "_view_name": "StyleView",
       "description_width": ""
      }
     },
     "94028ab4b26d480b8ebedfb1bec4b7fc": {
      "model_module": "@jupyter-widgets/base",
      "model_module_version": "1.2.0",
      "model_name": "LayoutModel",
      "state": {
       "_model_module": "@jupyter-widgets/base",
       "_model_module_version": "1.2.0",
       "_model_name": "LayoutModel",
       "_view_count": null,
       "_view_module": "@jupyter-widgets/base",
       "_view_module_version": "1.2.0",
       "_view_name": "LayoutView",
       "align_content": null,
       "align_items": null,
       "align_self": null,
       "border": null,
       "bottom": null,
       "display": null,
       "flex": null,
       "flex_flow": null,
       "grid_area": null,
       "grid_auto_columns": null,
       "grid_auto_flow": null,
       "grid_auto_rows": null,
       "grid_column": null,
       "grid_gap": null,
       "grid_row": null,
       "grid_template_areas": null,
       "grid_template_columns": null,
       "grid_template_rows": null,
       "height": null,
       "justify_content": null,
       "justify_items": null,
       "left": null,
       "margin": null,
       "max_height": null,
       "max_width": null,
       "min_height": null,
       "min_width": null,
       "object_fit": null,
       "object_position": null,
       "order": null,
       "overflow": null,
       "overflow_x": null,
       "overflow_y": null,
       "padding": null,
       "right": null,
       "top": null,
       "visibility": null,
       "width": null
      }
     },
     "96784f2632b94755b41286680fd3aec8": {
      "model_module": "@jupyter-widgets/base",
      "model_module_version": "1.2.0",
      "model_name": "LayoutModel",
      "state": {
       "_model_module": "@jupyter-widgets/base",
       "_model_module_version": "1.2.0",
       "_model_name": "LayoutModel",
       "_view_count": null,
       "_view_module": "@jupyter-widgets/base",
       "_view_module_version": "1.2.0",
       "_view_name": "LayoutView",
       "align_content": null,
       "align_items": null,
       "align_self": null,
       "border": null,
       "bottom": null,
       "display": null,
       "flex": null,
       "flex_flow": null,
       "grid_area": null,
       "grid_auto_columns": null,
       "grid_auto_flow": null,
       "grid_auto_rows": null,
       "grid_column": null,
       "grid_gap": null,
       "grid_row": null,
       "grid_template_areas": null,
       "grid_template_columns": null,
       "grid_template_rows": null,
       "height": null,
       "justify_content": null,
       "justify_items": null,
       "left": null,
       "margin": null,
       "max_height": null,
       "max_width": null,
       "min_height": null,
       "min_width": null,
       "object_fit": null,
       "object_position": null,
       "order": null,
       "overflow": null,
       "overflow_x": null,
       "overflow_y": null,
       "padding": null,
       "right": null,
       "top": null,
       "visibility": null,
       "width": null
      }
     },
     "9bb4456a8149481a90097897b94f5a00": {
      "model_module": "@jupyter-widgets/controls",
      "model_module_version": "1.5.0",
      "model_name": "DescriptionStyleModel",
      "state": {
       "_model_module": "@jupyter-widgets/controls",
       "_model_module_version": "1.5.0",
       "_model_name": "DescriptionStyleModel",
       "_view_count": null,
       "_view_module": "@jupyter-widgets/base",
       "_view_module_version": "1.2.0",
       "_view_name": "StyleView",
       "description_width": ""
      }
     },
     "9cb4d0a90c7c4fc3af24cc42b87fc3d3": {
      "model_module": "@jupyter-widgets/controls",
      "model_module_version": "1.5.0",
      "model_name": "HTMLModel",
      "state": {
       "_dom_classes": [],
       "_model_module": "@jupyter-widgets/controls",
       "_model_module_version": "1.5.0",
       "_model_name": "HTMLModel",
       "_view_count": null,
       "_view_module": "@jupyter-widgets/controls",
       "_view_module_version": "1.5.0",
       "_view_name": "HTMLView",
       "description": "",
       "description_tooltip": null,
       "layout": "IPY_MODEL_12b2fc893c6a4c1e8d272b4f371be2ef",
       "placeholder": "​",
       "style": "IPY_MODEL_ff17be12628f4144ba479384610091c3",
       "value": "Downloading: 100%"
      }
     },
     "a02b65d97c1647cbb2fe4ef969000bca": {
      "model_module": "@jupyter-widgets/controls",
      "model_module_version": "1.5.0",
      "model_name": "DescriptionStyleModel",
      "state": {
       "_model_module": "@jupyter-widgets/controls",
       "_model_module_version": "1.5.0",
       "_model_name": "DescriptionStyleModel",
       "_view_count": null,
       "_view_module": "@jupyter-widgets/base",
       "_view_module_version": "1.2.0",
       "_view_name": "StyleView",
       "description_width": ""
      }
     },
     "a332d66d7ef9494cabb9db19a2151cfa": {
      "model_module": "@jupyter-widgets/controls",
      "model_module_version": "1.5.0",
      "model_name": "ProgressStyleModel",
      "state": {
       "_model_module": "@jupyter-widgets/controls",
       "_model_module_version": "1.5.0",
       "_model_name": "ProgressStyleModel",
       "_view_count": null,
       "_view_module": "@jupyter-widgets/base",
       "_view_module_version": "1.2.0",
       "_view_name": "StyleView",
       "bar_color": null,
       "description_width": ""
      }
     },
     "a39d50408f3a4267b817342792f8b87e": {
      "model_module": "@jupyter-widgets/controls",
      "model_module_version": "1.5.0",
      "model_name": "HBoxModel",
      "state": {
       "_dom_classes": [],
       "_model_module": "@jupyter-widgets/controls",
       "_model_module_version": "1.5.0",
       "_model_name": "HBoxModel",
       "_view_count": null,
       "_view_module": "@jupyter-widgets/controls",
       "_view_module_version": "1.5.0",
       "_view_name": "HBoxView",
       "box_style": "",
       "children": [
        "IPY_MODEL_f1edce7e82f24b5685a5caa4c9a3845a",
        "IPY_MODEL_1f25331db29c45ba9d85a6e4eb6e2b9f",
        "IPY_MODEL_da6ba7d4085546239b0574c9a46339b7"
       ],
       "layout": "IPY_MODEL_7aede3be9ddf4ce5b68c4f0425c060c7"
      }
     },
     "a609775e49454d1d8ab5192ceb8c9e6f": {
      "model_module": "@jupyter-widgets/controls",
      "model_module_version": "1.5.0",
      "model_name": "ProgressStyleModel",
      "state": {
       "_model_module": "@jupyter-widgets/controls",
       "_model_module_version": "1.5.0",
       "_model_name": "ProgressStyleModel",
       "_view_count": null,
       "_view_module": "@jupyter-widgets/base",
       "_view_module_version": "1.2.0",
       "_view_name": "StyleView",
       "bar_color": null,
       "description_width": ""
      }
     },
     "a79158496cf248f08f6b41465576ba0a": {
      "model_module": "@jupyter-widgets/controls",
      "model_module_version": "1.5.0",
      "model_name": "DescriptionStyleModel",
      "state": {
       "_model_module": "@jupyter-widgets/controls",
       "_model_module_version": "1.5.0",
       "_model_name": "DescriptionStyleModel",
       "_view_count": null,
       "_view_module": "@jupyter-widgets/base",
       "_view_module_version": "1.2.0",
       "_view_name": "StyleView",
       "description_width": ""
      }
     },
     "a8a3e41e29434d96a9c60233efdf610e": {
      "model_module": "@jupyter-widgets/controls",
      "model_module_version": "1.5.0",
      "model_name": "DescriptionStyleModel",
      "state": {
       "_model_module": "@jupyter-widgets/controls",
       "_model_module_version": "1.5.0",
       "_model_name": "DescriptionStyleModel",
       "_view_count": null,
       "_view_module": "@jupyter-widgets/base",
       "_view_module_version": "1.2.0",
       "_view_name": "StyleView",
       "description_width": ""
      }
     },
     "a9b564ad038a42b98b77f12ba14dd514": {
      "model_module": "@jupyter-widgets/base",
      "model_module_version": "1.2.0",
      "model_name": "LayoutModel",
      "state": {
       "_model_module": "@jupyter-widgets/base",
       "_model_module_version": "1.2.0",
       "_model_name": "LayoutModel",
       "_view_count": null,
       "_view_module": "@jupyter-widgets/base",
       "_view_module_version": "1.2.0",
       "_view_name": "LayoutView",
       "align_content": null,
       "align_items": null,
       "align_self": null,
       "border": null,
       "bottom": null,
       "display": null,
       "flex": null,
       "flex_flow": null,
       "grid_area": null,
       "grid_auto_columns": null,
       "grid_auto_flow": null,
       "grid_auto_rows": null,
       "grid_column": null,
       "grid_gap": null,
       "grid_row": null,
       "grid_template_areas": null,
       "grid_template_columns": null,
       "grid_template_rows": null,
       "height": null,
       "justify_content": null,
       "justify_items": null,
       "left": null,
       "margin": null,
       "max_height": null,
       "max_width": null,
       "min_height": null,
       "min_width": null,
       "object_fit": null,
       "object_position": null,
       "order": null,
       "overflow": null,
       "overflow_x": null,
       "overflow_y": null,
       "padding": null,
       "right": null,
       "top": null,
       "visibility": null,
       "width": null
      }
     },
     "aa981d9a621545eeb380ef76c0015d4a": {
      "model_module": "@jupyter-widgets/base",
      "model_module_version": "1.2.0",
      "model_name": "LayoutModel",
      "state": {
       "_model_module": "@jupyter-widgets/base",
       "_model_module_version": "1.2.0",
       "_model_name": "LayoutModel",
       "_view_count": null,
       "_view_module": "@jupyter-widgets/base",
       "_view_module_version": "1.2.0",
       "_view_name": "LayoutView",
       "align_content": null,
       "align_items": null,
       "align_self": null,
       "border": null,
       "bottom": null,
       "display": null,
       "flex": null,
       "flex_flow": null,
       "grid_area": null,
       "grid_auto_columns": null,
       "grid_auto_flow": null,
       "grid_auto_rows": null,
       "grid_column": null,
       "grid_gap": null,
       "grid_row": null,
       "grid_template_areas": null,
       "grid_template_columns": null,
       "grid_template_rows": null,
       "height": null,
       "justify_content": null,
       "justify_items": null,
       "left": null,
       "margin": null,
       "max_height": null,
       "max_width": null,
       "min_height": null,
       "min_width": null,
       "object_fit": null,
       "object_position": null,
       "order": null,
       "overflow": null,
       "overflow_x": null,
       "overflow_y": null,
       "padding": null,
       "right": null,
       "top": null,
       "visibility": null,
       "width": null
      }
     },
     "abad918458db4d4eac1b677492bfe2e0": {
      "model_module": "@jupyter-widgets/controls",
      "model_module_version": "1.5.0",
      "model_name": "HBoxModel",
      "state": {
       "_dom_classes": [],
       "_model_module": "@jupyter-widgets/controls",
       "_model_module_version": "1.5.0",
       "_model_name": "HBoxModel",
       "_view_count": null,
       "_view_module": "@jupyter-widgets/controls",
       "_view_module_version": "1.5.0",
       "_view_name": "HBoxView",
       "box_style": "",
       "children": [
        "IPY_MODEL_24240f7b0a384acaa6c576942df37c11",
        "IPY_MODEL_af136c52101c4507b1122e8d22e36010",
        "IPY_MODEL_1666ac7494db4c829bba8e71fd323f5d"
       ],
       "layout": "IPY_MODEL_2ec12cfaf9cb4bfa9f516fd5b947f1ab"
      }
     },
     "abe8b51450204e5fb58e8f53c02917c7": {
      "model_module": "@jupyter-widgets/base",
      "model_module_version": "1.2.0",
      "model_name": "LayoutModel",
      "state": {
       "_model_module": "@jupyter-widgets/base",
       "_model_module_version": "1.2.0",
       "_model_name": "LayoutModel",
       "_view_count": null,
       "_view_module": "@jupyter-widgets/base",
       "_view_module_version": "1.2.0",
       "_view_name": "LayoutView",
       "align_content": null,
       "align_items": null,
       "align_self": null,
       "border": null,
       "bottom": null,
       "display": null,
       "flex": null,
       "flex_flow": null,
       "grid_area": null,
       "grid_auto_columns": null,
       "grid_auto_flow": null,
       "grid_auto_rows": null,
       "grid_column": null,
       "grid_gap": null,
       "grid_row": null,
       "grid_template_areas": null,
       "grid_template_columns": null,
       "grid_template_rows": null,
       "height": null,
       "justify_content": null,
       "justify_items": null,
       "left": null,
       "margin": null,
       "max_height": null,
       "max_width": null,
       "min_height": null,
       "min_width": null,
       "object_fit": null,
       "object_position": null,
       "order": null,
       "overflow": null,
       "overflow_x": null,
       "overflow_y": null,
       "padding": null,
       "right": null,
       "top": null,
       "visibility": null,
       "width": null
      }
     },
     "acde6fd445e54ac398f597e23756942c": {
      "model_module": "@jupyter-widgets/base",
      "model_module_version": "1.2.0",
      "model_name": "LayoutModel",
      "state": {
       "_model_module": "@jupyter-widgets/base",
       "_model_module_version": "1.2.0",
       "_model_name": "LayoutModel",
       "_view_count": null,
       "_view_module": "@jupyter-widgets/base",
       "_view_module_version": "1.2.0",
       "_view_name": "LayoutView",
       "align_content": null,
       "align_items": null,
       "align_self": null,
       "border": null,
       "bottom": null,
       "display": null,
       "flex": null,
       "flex_flow": null,
       "grid_area": null,
       "grid_auto_columns": null,
       "grid_auto_flow": null,
       "grid_auto_rows": null,
       "grid_column": null,
       "grid_gap": null,
       "grid_row": null,
       "grid_template_areas": null,
       "grid_template_columns": null,
       "grid_template_rows": null,
       "height": null,
       "justify_content": null,
       "justify_items": null,
       "left": null,
       "margin": null,
       "max_height": null,
       "max_width": null,
       "min_height": null,
       "min_width": null,
       "object_fit": null,
       "object_position": null,
       "order": null,
       "overflow": null,
       "overflow_x": null,
       "overflow_y": null,
       "padding": null,
       "right": null,
       "top": null,
       "visibility": null,
       "width": null
      }
     },
     "ae35cdf740894a09a84825561830427e": {
      "model_module": "@jupyter-widgets/base",
      "model_module_version": "1.2.0",
      "model_name": "LayoutModel",
      "state": {
       "_model_module": "@jupyter-widgets/base",
       "_model_module_version": "1.2.0",
       "_model_name": "LayoutModel",
       "_view_count": null,
       "_view_module": "@jupyter-widgets/base",
       "_view_module_version": "1.2.0",
       "_view_name": "LayoutView",
       "align_content": null,
       "align_items": null,
       "align_self": null,
       "border": null,
       "bottom": null,
       "display": null,
       "flex": null,
       "flex_flow": null,
       "grid_area": null,
       "grid_auto_columns": null,
       "grid_auto_flow": null,
       "grid_auto_rows": null,
       "grid_column": null,
       "grid_gap": null,
       "grid_row": null,
       "grid_template_areas": null,
       "grid_template_columns": null,
       "grid_template_rows": null,
       "height": null,
       "justify_content": null,
       "justify_items": null,
       "left": null,
       "margin": null,
       "max_height": null,
       "max_width": null,
       "min_height": null,
       "min_width": null,
       "object_fit": null,
       "object_position": null,
       "order": null,
       "overflow": null,
       "overflow_x": null,
       "overflow_y": null,
       "padding": null,
       "right": null,
       "top": null,
       "visibility": null,
       "width": null
      }
     },
     "aec59494cdbd4e7197e4e8f2b7c095c0": {
      "model_module": "@jupyter-widgets/controls",
      "model_module_version": "1.5.0",
      "model_name": "FloatProgressModel",
      "state": {
       "_dom_classes": [],
       "_model_module": "@jupyter-widgets/controls",
       "_model_module_version": "1.5.0",
       "_model_name": "FloatProgressModel",
       "_view_count": null,
       "_view_module": "@jupyter-widgets/controls",
       "_view_module_version": "1.5.0",
       "_view_name": "ProgressView",
       "bar_style": "success",
       "description": "",
       "description_tooltip": null,
       "layout": "IPY_MODEL_fe07b93239264ae9bb7a8628027d92d9",
       "max": 267967963.0,
       "min": 0.0,
       "orientation": "horizontal",
       "style": "IPY_MODEL_e66e8863cb93451aa1ee9b61e92d13c8",
       "value": 267967963.0
      }
     },
     "af136c52101c4507b1122e8d22e36010": {
      "model_module": "@jupyter-widgets/controls",
      "model_module_version": "1.5.0",
      "model_name": "FloatProgressModel",
      "state": {
       "_dom_classes": [],
       "_model_module": "@jupyter-widgets/controls",
       "_model_module_version": "1.5.0",
       "_model_name": "FloatProgressModel",
       "_view_count": null,
       "_view_module": "@jupyter-widgets/controls",
       "_view_module_version": "1.5.0",
       "_view_name": "ProgressView",
       "bar_style": "success",
       "description": "",
       "description_tooltip": null,
       "layout": "IPY_MODEL_e56b85b8903e412db3a7972e49eee810",
       "max": 28.0,
       "min": 0.0,
       "orientation": "horizontal",
       "style": "IPY_MODEL_43218fd2ae8f447b9112aef2f923287f",
       "value": 28.0
      }
     },
     "b14d6fba32cc4175907d048955d79eef": {
      "model_module": "@jupyter-widgets/base",
      "model_module_version": "1.2.0",
      "model_name": "LayoutModel",
      "state": {
       "_model_module": "@jupyter-widgets/base",
       "_model_module_version": "1.2.0",
       "_model_name": "LayoutModel",
       "_view_count": null,
       "_view_module": "@jupyter-widgets/base",
       "_view_module_version": "1.2.0",
       "_view_name": "LayoutView",
       "align_content": null,
       "align_items": null,
       "align_self": null,
       "border": null,
       "bottom": null,
       "display": null,
       "flex": null,
       "flex_flow": null,
       "grid_area": null,
       "grid_auto_columns": null,
       "grid_auto_flow": null,
       "grid_auto_rows": null,
       "grid_column": null,
       "grid_gap": null,
       "grid_row": null,
       "grid_template_areas": null,
       "grid_template_columns": null,
       "grid_template_rows": null,
       "height": null,
       "justify_content": null,
       "justify_items": null,
       "left": null,
       "margin": null,
       "max_height": null,
       "max_width": null,
       "min_height": null,
       "min_width": null,
       "object_fit": null,
       "object_position": null,
       "order": null,
       "overflow": null,
       "overflow_x": null,
       "overflow_y": null,
       "padding": null,
       "right": null,
       "top": null,
       "visibility": null,
       "width": null
      }
     },
     "b4ce0bb718e547dda708c988752e9652": {
      "model_module": "@jupyter-widgets/base",
      "model_module_version": "1.2.0",
      "model_name": "LayoutModel",
      "state": {
       "_model_module": "@jupyter-widgets/base",
       "_model_module_version": "1.2.0",
       "_model_name": "LayoutModel",
       "_view_count": null,
       "_view_module": "@jupyter-widgets/base",
       "_view_module_version": "1.2.0",
       "_view_name": "LayoutView",
       "align_content": null,
       "align_items": null,
       "align_self": null,
       "border": null,
       "bottom": null,
       "display": null,
       "flex": null,
       "flex_flow": null,
       "grid_area": null,
       "grid_auto_columns": null,
       "grid_auto_flow": null,
       "grid_auto_rows": null,
       "grid_column": null,
       "grid_gap": null,
       "grid_row": null,
       "grid_template_areas": null,
       "grid_template_columns": null,
       "grid_template_rows": null,
       "height": null,
       "justify_content": null,
       "justify_items": null,
       "left": null,
       "margin": null,
       "max_height": null,
       "max_width": null,
       "min_height": null,
       "min_width": null,
       "object_fit": null,
       "object_position": null,
       "order": null,
       "overflow": null,
       "overflow_x": null,
       "overflow_y": null,
       "padding": null,
       "right": null,
       "top": null,
       "visibility": null,
       "width": null
      }
     },
     "b637ff6e5eb642d28039ba3da4c71818": {
      "model_module": "@jupyter-widgets/controls",
      "model_module_version": "1.5.0",
      "model_name": "HBoxModel",
      "state": {
       "_dom_classes": [],
       "_model_module": "@jupyter-widgets/controls",
       "_model_module_version": "1.5.0",
       "_model_name": "HBoxModel",
       "_view_count": null,
       "_view_module": "@jupyter-widgets/controls",
       "_view_module_version": "1.5.0",
       "_view_name": "HBoxView",
       "box_style": "",
       "children": [
        "IPY_MODEL_e1342c4c9833448d9a8780a517e01fba",
        "IPY_MODEL_aec59494cdbd4e7197e4e8f2b7c095c0",
        "IPY_MODEL_d70e6a0872244902aef15b564504f3e5"
       ],
       "layout": "IPY_MODEL_aa981d9a621545eeb380ef76c0015d4a"
      }
     },
     "b74a3c3e3d67426ab85788eac6547be2": {
      "model_module": "@jupyter-widgets/base",
      "model_module_version": "1.2.0",
      "model_name": "LayoutModel",
      "state": {
       "_model_module": "@jupyter-widgets/base",
       "_model_module_version": "1.2.0",
       "_model_name": "LayoutModel",
       "_view_count": null,
       "_view_module": "@jupyter-widgets/base",
       "_view_module_version": "1.2.0",
       "_view_name": "LayoutView",
       "align_content": null,
       "align_items": null,
       "align_self": null,
       "border": null,
       "bottom": null,
       "display": null,
       "flex": null,
       "flex_flow": null,
       "grid_area": null,
       "grid_auto_columns": null,
       "grid_auto_flow": null,
       "grid_auto_rows": null,
       "grid_column": null,
       "grid_gap": null,
       "grid_row": null,
       "grid_template_areas": null,
       "grid_template_columns": null,
       "grid_template_rows": null,
       "height": null,
       "justify_content": null,
       "justify_items": null,
       "left": null,
       "margin": null,
       "max_height": null,
       "max_width": null,
       "min_height": null,
       "min_width": null,
       "object_fit": null,
       "object_position": null,
       "order": null,
       "overflow": null,
       "overflow_x": null,
       "overflow_y": null,
       "padding": null,
       "right": null,
       "top": null,
       "visibility": null,
       "width": null
      }
     },
     "b8f09bc89f524e27939c392fd353bc20": {
      "model_module": "@jupyter-widgets/controls",
      "model_module_version": "1.5.0",
      "model_name": "DescriptionStyleModel",
      "state": {
       "_model_module": "@jupyter-widgets/controls",
       "_model_module_version": "1.5.0",
       "_model_name": "DescriptionStyleModel",
       "_view_count": null,
       "_view_module": "@jupyter-widgets/base",
       "_view_module_version": "1.2.0",
       "_view_name": "StyleView",
       "description_width": ""
      }
     },
     "c69d9423f47e4007b176faf5c4b43187": {
      "model_module": "@jupyter-widgets/controls",
      "model_module_version": "1.5.0",
      "model_name": "DescriptionStyleModel",
      "state": {
       "_model_module": "@jupyter-widgets/controls",
       "_model_module_version": "1.5.0",
       "_model_name": "DescriptionStyleModel",
       "_view_count": null,
       "_view_module": "@jupyter-widgets/base",
       "_view_module_version": "1.2.0",
       "_view_name": "StyleView",
       "description_width": ""
      }
     },
     "ce58edfd067f4c6581594bb7e3bf4d32": {
      "model_module": "@jupyter-widgets/controls",
      "model_module_version": "1.5.0",
      "model_name": "HBoxModel",
      "state": {
       "_dom_classes": [],
       "_model_module": "@jupyter-widgets/controls",
       "_model_module_version": "1.5.0",
       "_model_name": "HBoxModel",
       "_view_count": null,
       "_view_module": "@jupyter-widgets/controls",
       "_view_module_version": "1.5.0",
       "_view_name": "HBoxView",
       "box_style": "",
       "children": [
        "IPY_MODEL_46ca2c37708d47579bbb51d36cfb95bc",
        "IPY_MODEL_798885622c7c448da24276a9412825b9",
        "IPY_MODEL_8ee5e10c00c746f3afe48b93b1d10e31"
       ],
       "layout": "IPY_MODEL_fd03b19e36dd49bd8c64c54f94ffc45c"
      }
     },
     "d07b271ce6564fd085b9d053ef21943e": {
      "model_module": "@jupyter-widgets/controls",
      "model_module_version": "1.5.0",
      "model_name": "DescriptionStyleModel",
      "state": {
       "_model_module": "@jupyter-widgets/controls",
       "_model_module_version": "1.5.0",
       "_model_name": "DescriptionStyleModel",
       "_view_count": null,
       "_view_module": "@jupyter-widgets/base",
       "_view_module_version": "1.2.0",
       "_view_name": "StyleView",
       "description_width": ""
      }
     },
     "d700bce66c284207aadf83592de95482": {
      "model_module": "@jupyter-widgets/controls",
      "model_module_version": "1.5.0",
      "model_name": "DescriptionStyleModel",
      "state": {
       "_model_module": "@jupyter-widgets/controls",
       "_model_module_version": "1.5.0",
       "_model_name": "DescriptionStyleModel",
       "_view_count": null,
       "_view_module": "@jupyter-widgets/base",
       "_view_module_version": "1.2.0",
       "_view_name": "StyleView",
       "description_width": ""
      }
     },
     "d70e6a0872244902aef15b564504f3e5": {
      "model_module": "@jupyter-widgets/controls",
      "model_module_version": "1.5.0",
      "model_name": "HTMLModel",
      "state": {
       "_dom_classes": [],
       "_model_module": "@jupyter-widgets/controls",
       "_model_module_version": "1.5.0",
       "_model_name": "HTMLModel",
       "_view_count": null,
       "_view_module": "@jupyter-widgets/controls",
       "_view_module_version": "1.5.0",
       "_view_name": "HTMLView",
       "description": "",
       "description_tooltip": null,
       "layout": "IPY_MODEL_4c6d8e823dd04b79babf019fd0bb1095",
       "placeholder": "​",
       "style": "IPY_MODEL_d07b271ce6564fd085b9d053ef21943e",
       "value": " 256M/256M [00:06&lt;00:00, 42.8MB/s]"
      }
     },
     "da6ba7d4085546239b0574c9a46339b7": {
      "model_module": "@jupyter-widgets/controls",
      "model_module_version": "1.5.0",
      "model_name": "HTMLModel",
      "state": {
       "_dom_classes": [],
       "_model_module": "@jupyter-widgets/controls",
       "_model_module_version": "1.5.0",
       "_model_name": "HTMLModel",
       "_view_count": null,
       "_view_module": "@jupyter-widgets/controls",
       "_view_module_version": "1.5.0",
       "_view_name": "HTMLView",
       "description": "",
       "description_tooltip": null,
       "layout": "IPY_MODEL_5ad5cf3e32204e469c09a6a1f52da545",
       "placeholder": "​",
       "style": "IPY_MODEL_d700bce66c284207aadf83592de95482",
       "value": " 455k/455k [00:00&lt;00:00, 3.53MB/s]"
      }
     },
     "dd33c2d2b9a84479b5486090a7f3830e": {
      "model_module": "@jupyter-widgets/controls",
      "model_module_version": "1.5.0",
      "model_name": "HBoxModel",
      "state": {
       "_dom_classes": [],
       "_model_module": "@jupyter-widgets/controls",
       "_model_module_version": "1.5.0",
       "_model_name": "HBoxModel",
       "_view_count": null,
       "_view_module": "@jupyter-widgets/controls",
       "_view_module_version": "1.5.0",
       "_view_name": "HBoxView",
       "box_style": "",
       "children": [
        "IPY_MODEL_1e1de69b527d48ce9c8d8a39c8a39216",
        "IPY_MODEL_e30ac17065f44109bedccdf33da95194",
        "IPY_MODEL_86b47e3960f844878a6e0ca8591cbdbb"
       ],
       "layout": "IPY_MODEL_33392b4b07734fd6af4f5a7ee19ccffd"
      }
     },
     "e1342c4c9833448d9a8780a517e01fba": {
      "model_module": "@jupyter-widgets/controls",
      "model_module_version": "1.5.0",
      "model_name": "HTMLModel",
      "state": {
       "_dom_classes": [],
       "_model_module": "@jupyter-widgets/controls",
       "_model_module_version": "1.5.0",
       "_model_name": "HTMLModel",
       "_view_count": null,
       "_view_module": "@jupyter-widgets/controls",
       "_view_module_version": "1.5.0",
       "_view_name": "HTMLView",
       "description": "",
       "description_tooltip": null,
       "layout": "IPY_MODEL_2bc232e2187842b282e66fdfb71d4517",
       "placeholder": "​",
       "style": "IPY_MODEL_a02b65d97c1647cbb2fe4ef969000bca",
       "value": "Downloading: 100%"
      }
     },
     "e30ac17065f44109bedccdf33da95194": {
      "model_module": "@jupyter-widgets/controls",
      "model_module_version": "1.5.0",
      "model_name": "FloatProgressModel",
      "state": {
       "_dom_classes": [],
       "_model_module": "@jupyter-widgets/controls",
       "_model_module_version": "1.5.0",
       "_model_name": "FloatProgressModel",
       "_view_count": null,
       "_view_module": "@jupyter-widgets/controls",
       "_view_module_version": "1.5.0",
       "_view_name": "ProgressView",
       "bar_style": "success",
       "description": "",
       "description_tooltip": null,
       "layout": "IPY_MODEL_830c4a8946234154a42f9e4aa40bbe8c",
       "max": 231508.0,
       "min": 0.0,
       "orientation": "horizontal",
       "style": "IPY_MODEL_277fed5db0654fa2be46450fabe13f72",
       "value": 231508.0
      }
     },
     "e56b85b8903e412db3a7972e49eee810": {
      "model_module": "@jupyter-widgets/base",
      "model_module_version": "1.2.0",
      "model_name": "LayoutModel",
      "state": {
       "_model_module": "@jupyter-widgets/base",
       "_model_module_version": "1.2.0",
       "_model_name": "LayoutModel",
       "_view_count": null,
       "_view_module": "@jupyter-widgets/base",
       "_view_module_version": "1.2.0",
       "_view_name": "LayoutView",
       "align_content": null,
       "align_items": null,
       "align_self": null,
       "border": null,
       "bottom": null,
       "display": null,
       "flex": null,
       "flex_flow": null,
       "grid_area": null,
       "grid_auto_columns": null,
       "grid_auto_flow": null,
       "grid_auto_rows": null,
       "grid_column": null,
       "grid_gap": null,
       "grid_row": null,
       "grid_template_areas": null,
       "grid_template_columns": null,
       "grid_template_rows": null,
       "height": null,
       "justify_content": null,
       "justify_items": null,
       "left": null,
       "margin": null,
       "max_height": null,
       "max_width": null,
       "min_height": null,
       "min_width": null,
       "object_fit": null,
       "object_position": null,
       "order": null,
       "overflow": null,
       "overflow_x": null,
       "overflow_y": null,
       "padding": null,
       "right": null,
       "top": null,
       "visibility": null,
       "width": null
      }
     },
     "e66e8863cb93451aa1ee9b61e92d13c8": {
      "model_module": "@jupyter-widgets/controls",
      "model_module_version": "1.5.0",
      "model_name": "ProgressStyleModel",
      "state": {
       "_model_module": "@jupyter-widgets/controls",
       "_model_module_version": "1.5.0",
       "_model_name": "ProgressStyleModel",
       "_view_count": null,
       "_view_module": "@jupyter-widgets/base",
       "_view_module_version": "1.2.0",
       "_view_name": "StyleView",
       "bar_color": null,
       "description_width": ""
      }
     },
     "e91eca6865c54cc0ad54d1eb74877533": {
      "model_module": "@jupyter-widgets/controls",
      "model_module_version": "1.5.0",
      "model_name": "HBoxModel",
      "state": {
       "_dom_classes": [],
       "_model_module": "@jupyter-widgets/controls",
       "_model_module_version": "1.5.0",
       "_model_name": "HBoxModel",
       "_view_count": null,
       "_view_module": "@jupyter-widgets/controls",
       "_view_module_version": "1.5.0",
       "_view_name": "HBoxView",
       "box_style": "",
       "children": [
        "IPY_MODEL_9cb4d0a90c7c4fc3af24cc42b87fc3d3",
        "IPY_MODEL_f1f8af5269fc4de2abcea01e5933dcc3",
        "IPY_MODEL_3f9bd1c1073748c9ac980bf1c831d6ca"
       ],
       "layout": "IPY_MODEL_96784f2632b94755b41286680fd3aec8"
      }
     },
     "f1edce7e82f24b5685a5caa4c9a3845a": {
      "model_module": "@jupyter-widgets/controls",
      "model_module_version": "1.5.0",
      "model_name": "HTMLModel",
      "state": {
       "_dom_classes": [],
       "_model_module": "@jupyter-widgets/controls",
       "_model_module_version": "1.5.0",
       "_model_name": "HTMLModel",
       "_view_count": null,
       "_view_module": "@jupyter-widgets/controls",
       "_view_module_version": "1.5.0",
       "_view_name": "HTMLView",
       "description": "",
       "description_tooltip": null,
       "layout": "IPY_MODEL_37ec032e2a4f451492c5e00c844ff9d8",
       "placeholder": "​",
       "style": "IPY_MODEL_b8f09bc89f524e27939c392fd353bc20",
       "value": "Downloading: 100%"
      }
     },
     "f1f8af5269fc4de2abcea01e5933dcc3": {
      "model_module": "@jupyter-widgets/controls",
      "model_module_version": "1.5.0",
      "model_name": "FloatProgressModel",
      "state": {
       "_dom_classes": [],
       "_model_module": "@jupyter-widgets/controls",
       "_model_module_version": "1.5.0",
       "_model_name": "FloatProgressModel",
       "_view_count": null,
       "_view_module": "@jupyter-widgets/controls",
       "_view_module_version": "1.5.0",
       "_view_name": "ProgressView",
       "bar_style": "success",
       "description": "",
       "description_tooltip": null,
       "layout": "IPY_MODEL_8e0ec20f026b4bd29fee1703caf9a251",
       "max": 483.0,
       "min": 0.0,
       "orientation": "horizontal",
       "style": "IPY_MODEL_a332d66d7ef9494cabb9db19a2151cfa",
       "value": 483.0
      }
     },
     "f20263e9e9fc409f98b1246e9f606ff5": {
      "model_module": "@jupyter-widgets/controls",
      "model_module_version": "1.5.0",
      "model_name": "ProgressStyleModel",
      "state": {
       "_model_module": "@jupyter-widgets/controls",
       "_model_module_version": "1.5.0",
       "_model_name": "ProgressStyleModel",
       "_view_count": null,
       "_view_module": "@jupyter-widgets/base",
       "_view_module_version": "1.2.0",
       "_view_name": "StyleView",
       "bar_color": null,
       "description_width": ""
      }
     },
     "f6c953bc034d4bd085b380b7c72e88e8": {
      "model_module": "@jupyter-widgets/base",
      "model_module_version": "1.2.0",
      "model_name": "LayoutModel",
      "state": {
       "_model_module": "@jupyter-widgets/base",
       "_model_module_version": "1.2.0",
       "_model_name": "LayoutModel",
       "_view_count": null,
       "_view_module": "@jupyter-widgets/base",
       "_view_module_version": "1.2.0",
       "_view_name": "LayoutView",
       "align_content": null,
       "align_items": null,
       "align_self": null,
       "border": null,
       "bottom": null,
       "display": null,
       "flex": null,
       "flex_flow": null,
       "grid_area": null,
       "grid_auto_columns": null,
       "grid_auto_flow": null,
       "grid_auto_rows": null,
       "grid_column": null,
       "grid_gap": null,
       "grid_row": null,
       "grid_template_areas": null,
       "grid_template_columns": null,
       "grid_template_rows": null,
       "height": null,
       "justify_content": null,
       "justify_items": null,
       "left": null,
       "margin": null,
       "max_height": null,
       "max_width": null,
       "min_height": null,
       "min_width": null,
       "object_fit": null,
       "object_position": null,
       "order": null,
       "overflow": null,
       "overflow_x": null,
       "overflow_y": null,
       "padding": null,
       "right": null,
       "top": null,
       "visibility": null,
       "width": null
      }
     },
     "fd03b19e36dd49bd8c64c54f94ffc45c": {
      "model_module": "@jupyter-widgets/base",
      "model_module_version": "1.2.0",
      "model_name": "LayoutModel",
      "state": {
       "_model_module": "@jupyter-widgets/base",
       "_model_module_version": "1.2.0",
       "_model_name": "LayoutModel",
       "_view_count": null,
       "_view_module": "@jupyter-widgets/base",
       "_view_module_version": "1.2.0",
       "_view_name": "LayoutView",
       "align_content": null,
       "align_items": null,
       "align_self": null,
       "border": null,
       "bottom": null,
       "display": null,
       "flex": null,
       "flex_flow": null,
       "grid_area": null,
       "grid_auto_columns": null,
       "grid_auto_flow": null,
       "grid_auto_rows": null,
       "grid_column": null,
       "grid_gap": null,
       "grid_row": null,
       "grid_template_areas": null,
       "grid_template_columns": null,
       "grid_template_rows": null,
       "height": null,
       "justify_content": null,
       "justify_items": null,
       "left": null,
       "margin": null,
       "max_height": null,
       "max_width": null,
       "min_height": null,
       "min_width": null,
       "object_fit": null,
       "object_position": null,
       "order": null,
       "overflow": null,
       "overflow_x": null,
       "overflow_y": null,
       "padding": null,
       "right": null,
       "top": null,
       "visibility": null,
       "width": null
      }
     },
     "fe07b93239264ae9bb7a8628027d92d9": {
      "model_module": "@jupyter-widgets/base",
      "model_module_version": "1.2.0",
      "model_name": "LayoutModel",
      "state": {
       "_model_module": "@jupyter-widgets/base",
       "_model_module_version": "1.2.0",
       "_model_name": "LayoutModel",
       "_view_count": null,
       "_view_module": "@jupyter-widgets/base",
       "_view_module_version": "1.2.0",
       "_view_name": "LayoutView",
       "align_content": null,
       "align_items": null,
       "align_self": null,
       "border": null,
       "bottom": null,
       "display": null,
       "flex": null,
       "flex_flow": null,
       "grid_area": null,
       "grid_auto_columns": null,
       "grid_auto_flow": null,
       "grid_auto_rows": null,
       "grid_column": null,
       "grid_gap": null,
       "grid_row": null,
       "grid_template_areas": null,
       "grid_template_columns": null,
       "grid_template_rows": null,
       "height": null,
       "justify_content": null,
       "justify_items": null,
       "left": null,
       "margin": null,
       "max_height": null,
       "max_width": null,
       "min_height": null,
       "min_width": null,
       "object_fit": null,
       "object_position": null,
       "order": null,
       "overflow": null,
       "overflow_x": null,
       "overflow_y": null,
       "padding": null,
       "right": null,
       "top": null,
       "visibility": null,
       "width": null
      }
     },
     "fea70909af03499887c108b8b5f423c8": {
      "model_module": "@jupyter-widgets/base",
      "model_module_version": "1.2.0",
      "model_name": "LayoutModel",
      "state": {
       "_model_module": "@jupyter-widgets/base",
       "_model_module_version": "1.2.0",
       "_model_name": "LayoutModel",
       "_view_count": null,
       "_view_module": "@jupyter-widgets/base",
       "_view_module_version": "1.2.0",
       "_view_name": "LayoutView",
       "align_content": null,
       "align_items": null,
       "align_self": null,
       "border": null,
       "bottom": null,
       "display": null,
       "flex": null,
       "flex_flow": null,
       "grid_area": null,
       "grid_auto_columns": null,
       "grid_auto_flow": null,
       "grid_auto_rows": null,
       "grid_column": null,
       "grid_gap": null,
       "grid_row": null,
       "grid_template_areas": null,
       "grid_template_columns": null,
       "grid_template_rows": null,
       "height": null,
       "justify_content": null,
       "justify_items": null,
       "left": null,
       "margin": null,
       "max_height": null,
       "max_width": null,
       "min_height": null,
       "min_width": null,
       "object_fit": null,
       "object_position": null,
       "order": null,
       "overflow": null,
       "overflow_x": null,
       "overflow_y": null,
       "padding": null,
       "right": null,
       "top": null,
       "visibility": null,
       "width": null
      }
     },
     "ff17be12628f4144ba479384610091c3": {
      "model_module": "@jupyter-widgets/controls",
      "model_module_version": "1.5.0",
      "model_name": "DescriptionStyleModel",
      "state": {
       "_model_module": "@jupyter-widgets/controls",
       "_model_module_version": "1.5.0",
       "_model_name": "DescriptionStyleModel",
       "_view_count": null,
       "_view_module": "@jupyter-widgets/base",
       "_view_module_version": "1.2.0",
       "_view_name": "StyleView",
       "description_width": ""
      }
     }
    },
    "version_major": 2,
    "version_minor": 0
   }
  }
 },
 "nbformat": 4,
 "nbformat_minor": 5
}
