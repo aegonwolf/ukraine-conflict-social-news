{
  "nbformat": 4,
  "nbformat_minor": 0,
  "metadata": {
    "colab": {
      "name": "Prediction_Analysis.ipynb",
      "provenance": [],
      "collapsed_sections": []
    },
    "kernelspec": {
      "name": "python3",
      "display_name": "Python 3"
    },
    "language_info": {
      "name": "python"
    }
  },
  "cells": [
    {
      "cell_type": "code",
      "source": [
        "# Utils\n",
        "import os\n",
        "import re\n",
        "\n",
        "# DS toolkit\n",
        "import pandas as pd\n",
        "!pip install duckdb\n",
        "import duckdb\n",
        "\n",
        "# Visualisation\n",
        "import folium\n",
        "from geopy.exc import GeocoderTimedOut\n",
        "from geopy.geocoders import Nominatim"
      ],
      "metadata": {
        "id": "aJAmSxmsk1xi",
        "colab": {
          "base_uri": "https://localhost:8080/"
        },
        "outputId": "46f462f2-d573-4b40-d554-f2afd9e1424f"
      },
      "execution_count": 110,
      "outputs": [
        {
          "output_type": "stream",
          "name": "stdout",
          "text": [
            "Requirement already satisfied: duckdb in /usr/local/lib/python3.7/dist-packages (0.3.2)\n",
            "Requirement already satisfied: numpy>=1.14 in /usr/local/lib/python3.7/dist-packages (from duckdb) (1.21.5)\n"
          ]
        }
      ]
    },
    {
      "cell_type": "code",
      "execution_count": 2,
      "metadata": {
        "colab": {
          "base_uri": "https://localhost:8080/"
        },
        "id": "XjCOttl0j6tn",
        "outputId": "63b6d670-be03-4d90-fa13-30d8ecd1d8eb"
      },
      "outputs": [
        {
          "output_type": "stream",
          "name": "stdout",
          "text": [
            "Archive:  /content/drive/MyDrive/DSTSES/Oliver_preds_1_week/predictions1week.zip\n",
            "  inflating: predictions262728.csv   \n",
            " extracting: predictions293031.zip   \n",
            " extracting: presdictions_262728.zip  \n",
            "Archive:  /content/predictions293031.zip\n",
            "  inflating: predictions293031.csv   \n",
            "Archive:  /content/presdictions_262728.zip\n",
            "replace predictions262728.csv? [y]es, [n]o, [A]ll, [N]one, [r]ename: y\n",
            "  inflating: predictions262728.csv   \n"
          ]
        }
      ],
      "source": [
        "# Unzip all data to /content/data folder \n",
        "!unzip /content/drive/MyDrive/DSTSES/Oliver_preds_1_week/predictions1week.zip\n",
        "!unzip /content/predictions293031.zip\n",
        "!unzip /content/presdictions_262728.zip\n",
        "!mkdir /content/data\n",
        "!mv /content/*.csv /content/data\n",
        "PATH = \"/content/data/\""
      ]
    },
    {
      "cell_type": "code",
      "source": [
        "def load_data_from_folder(folder_path):\n",
        "  df = pd.DataFrame()\n",
        "  for filename in os.listdir(folder_path):\n",
        "    if(filename.split(\".\")[-1] == 'csv'):\n",
        "      print(\"Reading\", folder_path+filename)\n",
        "      df = pd.concat([df, pd.read_csv(folder_path+filename, lineterminator=\"\\n\")])\n",
        "  print(\"Dataframe shape:\", df.shape)\n",
        "  return df      \n",
        "\n",
        "df = load_data_from_folder(PATH)\n",
        "df_unique_users = df.drop_duplicates('userid')\n",
        "df.head()"
      ],
      "metadata": {
        "colab": {
          "base_uri": "https://localhost:8080/"
        },
        "id": "xM2XQPi1kbgC",
        "outputId": "41ae73fa-f491-4ee5-db29-f33c8416b6f7"
      },
      "execution_count": 62,
      "outputs": [
        {
          "output_type": "stream",
          "name": "stdout",
          "text": [
            "Reading /content/data/predictions262728.csv\n",
            "Reading /content/data/predictions293031.csv\n",
            "Dataframe shape: (377534, 18)\n"
          ]
        }
      ]
    },
    {
      "cell_type": "markdown",
      "source": [
        "#Exploring the predictions - Locations"
      ],
      "metadata": {
        "id": "0LmVj-m_VQAY"
      }
    },
    {
      "cell_type": "code",
      "source": [
        "# Gets all records for a specific user \n",
        "def user_profile(df, userid):\n",
        "  return df[df['userid'] == userid]\n",
        "\n",
        "bot_th = 0.8\n",
        "min_tweets = 3\n",
        "\n",
        "# Select users with average bot confidence > bot_th, more than min_tweets tweets\n",
        "# and sort by number of tweets for juicy results at the top\n",
        "q1 = \"\"\"SELECT userid, COUNT(tweetid) as ntweets, AVG(bot), AVG(no_bot) \n",
        "        FROM df \n",
        "        GROUP BY userid\n",
        "        HAVING AVG(bot) > {} AND COUNT(tweetid) > {} \n",
        "        ORDER BY ntweets DESC, AVG(bot) DESC\"\"\".format(bot_th, min_tweets)\n",
        "\n",
        "df_users_avgconf = duckdb.query(q1).df()\n",
        "df_users_avgconf.head()\n",
        "\n",
        "# Find the user profiles by joning the unique_user table with the above findings\n",
        "# Also filter out users with no location tag\n",
        "q2 = \"\"\"SELECT userid, username, location, \"avg(bot)\",  \"avg(no_bot)\", \"ntweets\"\n",
        "        FROM df_unique_users\n",
        "        NATURAL JOIN df_users_avgconf\n",
        "        WHERE location NOT LIKE 'NaN'\n",
        "        ORDER BY \"avg(bot)\" DESC\"\"\"\n",
        "\n",
        "df_bots_high_conf = duckdb.query(q2).df()\n",
        "df_bots_high_conf.head()"
      ],
      "metadata": {
        "colab": {
          "base_uri": "https://localhost:8080/",
          "height": 206
        },
        "id": "RxJ76b6nzLea",
        "outputId": "98b061a0-cc3c-4218-9182-170dfd8dad71"
      },
      "execution_count": 108,
      "outputs": [
        {
          "output_type": "execute_result",
          "data": {
            "text/plain": [
              "                userid         username      location  avg(bot)  avg(no_bot)  \\\n",
              "0  1057944726870081537     SumyElektrik          sumy  0.963296     0.036704   \n",
              "1           2768798843    AnnaTeterina_       Ukraine  0.962190     0.037810   \n",
              "2  1066305159184244736    Mr_GamesHater       Украина  0.956695     0.043305   \n",
              "3  1507002607704805386  Aleksan10288763          Kyiv  0.933305     0.066695   \n",
              "4  1507828648392331268         MudRogue  United State  0.925665     0.074335   \n",
              "\n",
              "   ntweets  \n",
              "0        7  \n",
              "1        4  \n",
              "2       20  \n",
              "3        9  \n",
              "4       16  "
            ],
            "text/html": [
              "\n",
              "  <div id=\"df-2b083bd5-67c5-43b9-8d3e-ae797d8d394d\">\n",
              "    <div class=\"colab-df-container\">\n",
              "      <div>\n",
              "<style scoped>\n",
              "    .dataframe tbody tr th:only-of-type {\n",
              "        vertical-align: middle;\n",
              "    }\n",
              "\n",
              "    .dataframe tbody tr th {\n",
              "        vertical-align: top;\n",
              "    }\n",
              "\n",
              "    .dataframe thead th {\n",
              "        text-align: right;\n",
              "    }\n",
              "</style>\n",
              "<table border=\"1\" class=\"dataframe\">\n",
              "  <thead>\n",
              "    <tr style=\"text-align: right;\">\n",
              "      <th></th>\n",
              "      <th>userid</th>\n",
              "      <th>username</th>\n",
              "      <th>location</th>\n",
              "      <th>avg(bot)</th>\n",
              "      <th>avg(no_bot)</th>\n",
              "      <th>ntweets</th>\n",
              "    </tr>\n",
              "  </thead>\n",
              "  <tbody>\n",
              "    <tr>\n",
              "      <th>0</th>\n",
              "      <td>1057944726870081537</td>\n",
              "      <td>SumyElektrik</td>\n",
              "      <td>sumy</td>\n",
              "      <td>0.963296</td>\n",
              "      <td>0.036704</td>\n",
              "      <td>7</td>\n",
              "    </tr>\n",
              "    <tr>\n",
              "      <th>1</th>\n",
              "      <td>2768798843</td>\n",
              "      <td>AnnaTeterina_</td>\n",
              "      <td>Ukraine</td>\n",
              "      <td>0.962190</td>\n",
              "      <td>0.037810</td>\n",
              "      <td>4</td>\n",
              "    </tr>\n",
              "    <tr>\n",
              "      <th>2</th>\n",
              "      <td>1066305159184244736</td>\n",
              "      <td>Mr_GamesHater</td>\n",
              "      <td>Украина</td>\n",
              "      <td>0.956695</td>\n",
              "      <td>0.043305</td>\n",
              "      <td>20</td>\n",
              "    </tr>\n",
              "    <tr>\n",
              "      <th>3</th>\n",
              "      <td>1507002607704805386</td>\n",
              "      <td>Aleksan10288763</td>\n",
              "      <td>Kyiv</td>\n",
              "      <td>0.933305</td>\n",
              "      <td>0.066695</td>\n",
              "      <td>9</td>\n",
              "    </tr>\n",
              "    <tr>\n",
              "      <th>4</th>\n",
              "      <td>1507828648392331268</td>\n",
              "      <td>MudRogue</td>\n",
              "      <td>United State</td>\n",
              "      <td>0.925665</td>\n",
              "      <td>0.074335</td>\n",
              "      <td>16</td>\n",
              "    </tr>\n",
              "  </tbody>\n",
              "</table>\n",
              "</div>\n",
              "      <button class=\"colab-df-convert\" onclick=\"convertToInteractive('df-2b083bd5-67c5-43b9-8d3e-ae797d8d394d')\"\n",
              "              title=\"Convert this dataframe to an interactive table.\"\n",
              "              style=\"display:none;\">\n",
              "        \n",
              "  <svg xmlns=\"http://www.w3.org/2000/svg\" height=\"24px\"viewBox=\"0 0 24 24\"\n",
              "       width=\"24px\">\n",
              "    <path d=\"M0 0h24v24H0V0z\" fill=\"none\"/>\n",
              "    <path d=\"M18.56 5.44l.94 2.06.94-2.06 2.06-.94-2.06-.94-.94-2.06-.94 2.06-2.06.94zm-11 1L8.5 8.5l.94-2.06 2.06-.94-2.06-.94L8.5 2.5l-.94 2.06-2.06.94zm10 10l.94 2.06.94-2.06 2.06-.94-2.06-.94-.94-2.06-.94 2.06-2.06.94z\"/><path d=\"M17.41 7.96l-1.37-1.37c-.4-.4-.92-.59-1.43-.59-.52 0-1.04.2-1.43.59L10.3 9.45l-7.72 7.72c-.78.78-.78 2.05 0 2.83L4 21.41c.39.39.9.59 1.41.59.51 0 1.02-.2 1.41-.59l7.78-7.78 2.81-2.81c.8-.78.8-2.07 0-2.86zM5.41 20L4 18.59l7.72-7.72 1.47 1.35L5.41 20z\"/>\n",
              "  </svg>\n",
              "      </button>\n",
              "      \n",
              "  <style>\n",
              "    .colab-df-container {\n",
              "      display:flex;\n",
              "      flex-wrap:wrap;\n",
              "      gap: 12px;\n",
              "    }\n",
              "\n",
              "    .colab-df-convert {\n",
              "      background-color: #E8F0FE;\n",
              "      border: none;\n",
              "      border-radius: 50%;\n",
              "      cursor: pointer;\n",
              "      display: none;\n",
              "      fill: #1967D2;\n",
              "      height: 32px;\n",
              "      padding: 0 0 0 0;\n",
              "      width: 32px;\n",
              "    }\n",
              "\n",
              "    .colab-df-convert:hover {\n",
              "      background-color: #E2EBFA;\n",
              "      box-shadow: 0px 1px 2px rgba(60, 64, 67, 0.3), 0px 1px 3px 1px rgba(60, 64, 67, 0.15);\n",
              "      fill: #174EA6;\n",
              "    }\n",
              "\n",
              "    [theme=dark] .colab-df-convert {\n",
              "      background-color: #3B4455;\n",
              "      fill: #D2E3FC;\n",
              "    }\n",
              "\n",
              "    [theme=dark] .colab-df-convert:hover {\n",
              "      background-color: #434B5C;\n",
              "      box-shadow: 0px 1px 3px 1px rgba(0, 0, 0, 0.15);\n",
              "      filter: drop-shadow(0px 1px 2px rgba(0, 0, 0, 0.3));\n",
              "      fill: #FFFFFF;\n",
              "    }\n",
              "  </style>\n",
              "\n",
              "      <script>\n",
              "        const buttonEl =\n",
              "          document.querySelector('#df-2b083bd5-67c5-43b9-8d3e-ae797d8d394d button.colab-df-convert');\n",
              "        buttonEl.style.display =\n",
              "          google.colab.kernel.accessAllowed ? 'block' : 'none';\n",
              "\n",
              "        async function convertToInteractive(key) {\n",
              "          const element = document.querySelector('#df-2b083bd5-67c5-43b9-8d3e-ae797d8d394d');\n",
              "          const dataTable =\n",
              "            await google.colab.kernel.invokeFunction('convertToInteractive',\n",
              "                                                     [key], {});\n",
              "          if (!dataTable) return;\n",
              "\n",
              "          const docLinkHtml = 'Like what you see? Visit the ' +\n",
              "            '<a target=\"_blank\" href=https://colab.research.google.com/notebooks/data_table.ipynb>data table notebook</a>'\n",
              "            + ' to learn more about interactive tables.';\n",
              "          element.innerHTML = '';\n",
              "          dataTable['output_type'] = 'display_data';\n",
              "          await google.colab.output.renderOutput(dataTable, element);\n",
              "          const docLink = document.createElement('div');\n",
              "          docLink.innerHTML = docLinkHtml;\n",
              "          element.appendChild(docLink);\n",
              "        }\n",
              "      </script>\n",
              "    </div>\n",
              "  </div>\n",
              "  "
            ]
          },
          "metadata": {},
          "execution_count": 108
        }
      ]
    },
    {
      "cell_type": "code",
      "source": [
        "bot_example = user_profile(df, 1507002607704805386)\n",
        "bot_example.head(10)"
      ],
      "metadata": {
        "id": "1BJXolOuAj8u"
      },
      "execution_count": null,
      "outputs": []
    },
    {
      "cell_type": "code",
      "source": [
        "def put_markers(map, df):\n",
        "    geo_locator = Nominatim(user_agent=\"NotTheDefaultUserAgent\")\n",
        "    for index, row in df.iterrows():\n",
        "        location = re.sub(\"\\W+\", \" \", row['location'])\n",
        "        if location:\n",
        "            try:\n",
        "                location = geo_locator.geocode(location)\n",
        "            except GeocoderTimedOut:\n",
        "                continue\n",
        "            if location:\n",
        "                popup_string = \"🌐: {}\\n👤: {}\".format(row['location'], row['username'])\n",
        "                folium.Marker([location.latitude, location.longitude], popup = popup_string).add_to(map)"
      ],
      "metadata": {
        "id": "PCzL6lRbFUYY"
      },
      "execution_count": 126,
      "outputs": []
    },
    {
      "cell_type": "code",
      "source": [
        "map = folium.Map(location=[0, 0], zoom_start=2)\n",
        "#groupByLocdf = groupByLocdf.reset_index()\n",
        "put_markers(map, df_bots_high_conf)\n",
        "map.save(\"bots.html\")"
      ],
      "metadata": {
        "id": "ZEUMiCknPD3G"
      },
      "execution_count": 125,
      "outputs": []
    }
  ]
}