{
 "cells": [
  {
   "cell_type": "markdown",
   "metadata": {},
   "source": [
    "# Utils"
   ]
  },
  {
   "cell_type": "code",
   "execution_count": 1,
   "metadata": {
    "ExecuteTime": {
     "end_time": "2022-04-10T16:14:22.195192Z",
     "start_time": "2022-04-10T16:14:12.533232Z"
    }
   },
   "outputs": [],
   "source": [
    "from collections import Counter, OrderedDict\n",
    "from matplotlib import pyplot as plt\n",
    "from sklearn.metrics import accuracy_score, plot_confusion_matrix, roc_auc_score\n",
    "from sklearn.model_selection import train_test_split\n",
    "from sklearn.preprocessing import LabelEncoder\n",
    "from typing import Tuple\n",
    "from unidecode import unidecode\n",
    "\n",
    "import emojis\n",
    "import json\n",
    "import lightgbm as lgb\n",
    "import matplotlib\n",
    "import numpy as np\n",
    "import optuna\n",
    "import pandas as pd\n",
    "import re\n",
    "import seaborn as sns\n",
    "import spacy\n",
    "import swifter\n",
    "\n",
    "nlp = spacy.load('en_core_web_sm')"
   ]
  },
  {
   "cell_type": "code",
   "execution_count": 2,
   "metadata": {
    "ExecuteTime": {
     "end_time": "2022-04-10T16:14:26.249947Z",
     "start_time": "2022-04-10T16:14:26.234339Z"
    }
   },
   "outputs": [],
   "source": [
    "PATH_UKRAINE = \"../data/ukraine/UkraineCombinedTweetsDeduped.csv.gzip\"\n",
    "PATH_TWIBOT = \"../data/twibot/{}.json\"\n",
    "\n",
    "DATASET = \"twibot\"\n",
    "# DATASET = \"ukraine\"\n",
    "\n",
    "PATH = PATH_UKRAINE if DATASET == 'ukraine' else PATH_TWIBOT"
   ]
  },
  {
   "cell_type": "code",
   "execution_count": 3,
   "metadata": {
    "ExecuteTime": {
     "end_time": "2022-04-10T16:14:26.673038Z",
     "start_time": "2022-04-10T16:14:26.641811Z"
    }
   },
   "outputs": [],
   "source": [
    "DATE_REF = \"2022-06-01\"\n",
    "\n",
    "SEED = 42\n",
    "PARAMS = {\n",
    "    'objective': 'binary',\n",
    "    'metric': 'auc',\n",
    "    'verbosity': -1,\n",
    "    'seed': SEED\n",
    "}"
   ]
  },
  {
   "cell_type": "code",
   "execution_count": 4,
   "metadata": {
    "ExecuteTime": {
     "end_time": "2022-04-10T16:14:26.986347Z",
     "start_time": "2022-04-10T16:14:26.954932Z"
    }
   },
   "outputs": [],
   "source": [
    "def get_X_y(df: pd.DataFrame) -> Tuple[pd.DataFrame, pd.Series]:\n",
    "    \"\"\" Get training set / labels \"\"\"\n",
    "    return df.drop('label', axis=1), df['label']    \n",
    "\n",
    "def get_train_val(df: pd.DataFrame) -> Tuple[pd.DataFrame]:\n",
    "    \"\"\" Get train/validation/test datasets \"\"\"\n",
    "    X_train, X_val, y_train, y_val = train_test_split(*get_X_y(df),\n",
    "                                                      test_size=0.2, \n",
    "                                                      random_state=SEED)\n",
    "    return X_train, X_val, y_train, y_val"
   ]
  },
  {
   "cell_type": "markdown",
   "metadata": {},
   "source": [
    "## Models"
   ]
  },
  {
   "cell_type": "code",
   "execution_count": 5,
   "metadata": {
    "ExecuteTime": {
     "end_time": "2022-04-10T16:14:27.663691Z",
     "start_time": "2022-04-10T16:14:27.632612Z"
    }
   },
   "outputs": [],
   "source": [
    "def train_clf(params: dict, \n",
    "              X_train: pd.DataFrame, \n",
    "              y_train: pd.Series, \n",
    "              X_val: pd.DataFrame, \n",
    "              y_val: pd.Series):\n",
    "    \"\"\" Train LGBM Classifier \"\"\"\n",
    "    clf = lgb.LGBMClassifier(**params)\n",
    "    clf.fit(X_train, y_train,\n",
    "            eval_set=[( X_val, y_val )],\n",
    "            eval_metric='auc',\n",
    "            callbacks=[lgb.early_stopping(100)])\n",
    "    return clf\n",
    "\n",
    "\n",
    "def objective_func(trial, \n",
    "                   X_train: pd.DataFrame, \n",
    "                   y_train: pd.Series, \n",
    "                   X_val: pd.DataFrame, \n",
    "                   y_val: pd.Series):\n",
    "    \"\"\" Train and evaluate LGBM Classifier \"\"\"\n",
    "    params = {\n",
    "        **PARAMS,\n",
    "        'lambda_l1': trial.suggest_loguniform('lambda_l1', 1e-8, 10.0),\n",
    "        'lambda_l2': trial.suggest_loguniform('lambda_l2', 1e-8, 10.0),\n",
    "        'num_leaves': trial.suggest_int('num_leaves', 2, 256),\n",
    "        'feature_fraction': trial.suggest_uniform('feature_fraction', 0.4, 1.0),\n",
    "        'bagging_fraction': trial.suggest_uniform('bagging_fraction', 0.4, 1.0),\n",
    "        'bagging_freq': trial.suggest_int('bagging_freq', 1, 7),\n",
    "        'learning_rate': trial.suggest_loguniform('learning_rate', 1e-5, 0.3),\n",
    "        'min_child_samples': trial.suggest_int('min_child_samples', 5, 100),\n",
    "    }\n",
    "    \n",
    "    clf = train_clf(params, X_train, y_train, X_val, y_val)\n",
    "    y_pred = clf.predict(X_val)\n",
    "    return roc_auc_score(y_val, y_pred)\n",
    "\n",
    "\n",
    "def get_best_clf(df_train: pd.DataFrame):\n",
    "    \"\"\" Fine-tune LGBM Classifier hyperparameters \"\"\"\n",
    "    \n",
    "    X_train, X_val, y_train, y_val = get_train_val(df_train)\n",
    "    \n",
    "    study = optuna.create_study(direction='maximize')\n",
    "    objective = lambda trial: objective_func(trial, X_train, y_train, X_val, y_val)\n",
    "    study.optimize(objective, n_trials=100, n_jobs=-1)\n",
    "    \n",
    "    print(study.best_params, \"->\", study.best_value)\n",
    "    return train_clf(study.best_params, X_train, y_train, X_val, y_val)\n",
    "\n",
    "\n",
    "def eval_clf(clf: lgb.LGBMClassifier, df_test: pd.DataFrame) -> None:\n",
    "    \"\"\" Evaluate & show insights on best classifier \"\"\"\n",
    "    X_test, y_test = get_X_y(df_test)\n",
    "    y_pred = clf.predict(X_test)\n",
    "    \n",
    "    # AUROC / accuracy\n",
    "    auroc = roc_auc_score(y_test, y_pred)\n",
    "    print('AUROC:', auroc)\n",
    "    accuracy = accuracy_score(y_test, y_pred)\n",
    "    print('Accuracy:', accuracy)\n",
    "    \n",
    "    # Confusion matrix\n",
    "    plot_confusion_matrix(clf, X_test, y_test, normalize='true')\n",
    "    \n",
    "    # Features importance\n",
    "    lgb.plot_importance(clf, max_num_features=15)"
   ]
  },
  {
   "cell_type": "markdown",
   "metadata": {},
   "source": [
    "## Scores"
   ]
  },
  {
   "cell_type": "code",
   "execution_count": 6,
   "metadata": {
    "ExecuteTime": {
     "end_time": "2022-04-10T16:14:28.292082Z",
     "start_time": "2022-04-10T16:14:28.278573Z"
    }
   },
   "outputs": [],
   "source": [
    "def get_probas(clf: lgb.LGBMClassifier, df_train: pd.DataFrame, df_test: pd.DataFrame):\n",
    "    \"\"\" Get LGBM Classifier predicted probas \"\"\"\n",
    "    X_train, X_test = get_X_y(df_train)[0], get_X_y(df_test)[0]\n",
    "    y_train_pred = pd.Series([ y[0] for y in clf.predict_proba(X_train) ])\n",
    "    y_test_pred = pd.Series([ y[0] for y in clf.predict_proba(X_test) ])\n",
    "    return y_train_pred, y_test_pred\n",
    "\n",
    "\n",
    "def compute_agg(ids: pd.Series, labels: pd.Series, preds: pd.Series) -> pd.DataFrame:\n",
    "    \"\"\" Get min/max/mean/median, aggregated by user \"\"\"\n",
    "    df = pd.concat([ ids, labels, preds ], axis=1)\n",
    "    df.columns = [ 'id', 'label', 'pred' ]\n",
    "    \n",
    "    df_agg = pd.concat([\n",
    "        df.groupby('id').max()['label'],\n",
    "        df.groupby('id').min()['pred'],\n",
    "        df.groupby('id').max()['pred'],\n",
    "        df.groupby('id').mean()['pred'],\n",
    "        df.groupby('id').median()['pred']\n",
    "    ], axis=1)\n",
    "    df_agg.columns = [ 'label', 'min', 'max', 'mean', 'median' ]\n",
    "    df_agg = df_agg.reset_index(drop=True)\n",
    "    \n",
    "    return df_agg\n",
    "\n",
    "\n",
    "def get_agg(clf: lgb.LGBMClassifier, \n",
    "            df_train: pd.DataFrame, \n",
    "            df_test: pd.DataFrame, \n",
    "            ids_train: pd.Series, \n",
    "            ids_test: pd.Series) -> Tuple[pd.DataFrame, pd.DataFrame]:\n",
    "    \"\"\" Build aggregated set \"\"\"\n",
    "    \n",
    "    y_train, y_test = get_X_y(df_train)[1], get_X_y(df_test)[1]\n",
    "    y_train_pred, y_test_pred = get_probas(clf, df_train, df_test)\n",
    "    \n",
    "    df_train_agg = compute_agg(ids_train, y_train, y_train_pred)\n",
    "    df_test_agg = compute_agg(ids_test, y_test, y_test_pred)\n",
    "    return df_train_agg, df_test_agg"
   ]
  },
  {
   "cell_type": "code",
   "execution_count": 7,
   "metadata": {
    "ExecuteTime": {
     "end_time": "2022-04-10T16:14:28.511394Z",
     "start_time": "2022-04-10T16:14:28.495816Z"
    }
   },
   "outputs": [],
   "source": [
    "def get_mean(df: pd.DataFrame, ids: pd.Series) -> pd.DataFrame:\n",
    "    \"\"\" Build averaged set \"\"\"\n",
    "    df = pd.concat([ df, ids ], axis=1)\n",
    "    return df.groupby('id').mean()\n",
    "\n",
    "def get_median(df: pd.DataFrame, ids: pd.Series) -> pd.DataFrame:\n",
    "    \"\"\" Build median set \"\"\"\n",
    "    df = pd.concat([ df, ids ], axis=1)\n",
    "    return df.groupby('id').median()"
   ]
  },
  {
   "cell_type": "markdown",
   "metadata": {},
   "source": [
    "# Data preprocessing"
   ]
  },
  {
   "cell_type": "markdown",
   "metadata": {},
   "source": [
    "## Main datasets"
   ]
  },
  {
   "cell_type": "code",
   "execution_count": 8,
   "metadata": {
    "ExecuteTime": {
     "end_time": "2022-04-10T16:14:29.486386Z",
     "start_time": "2022-04-10T16:14:29.454754Z"
    }
   },
   "outputs": [],
   "source": [
    "def load_ukraine() -> pd.DataFrame:\n",
    "    \"\"\" Load and format Ukraine dataset \"\"\"\n",
    "    df = pd.read_csv(\n",
    "        PATH_UKRAINE,\n",
    "        compression= \"gzip\",\n",
    "        index_col=0\n",
    "    )\n",
    "    df = df[[\n",
    "        'userid', 'username', 'location',\n",
    "        'following', 'followers', 'totaltweets',\n",
    "        'usercreatedts', 'text'\n",
    "    ]]\n",
    "    df.columns = [\n",
    "        'id', 'screen_name', 'location', 'friends_count',\n",
    "        'followers_count', 'statuses_count', 'created_at',\n",
    "        'tweet'\n",
    "    ]\n",
    "    return df\n",
    "\n",
    "\n",
    "# def extract_following(neighbors: dict):\n",
    "#     if neighbors is None:\n",
    "#         return np.nan\n",
    "#     return neighbors.get('following', np.nan)\n",
    "\n",
    "# def extract_followers(neighbors: dict):\n",
    "#     if neighbors is None:\n",
    "#         return np.nan\n",
    "#     return neighbors.get('follower', np.nan) \n",
    "\n",
    "def load_twibot(filename: str) -> pd.DataFrame:\n",
    "    \"\"\" Load and format Twibot dataset \"\"\"\n",
    "    with open(PATH_TWIBOT.format(filename)) as f:\n",
    "        data = json.load(f)\n",
    "        \n",
    "    df = pd.DataFrame.from_dict(data)\n",
    "    df_profile = pd.DataFrame.from_dict(df['profile'].values.tolist())\n",
    "    df = pd.concat([ df, df_profile ], axis=1)\n",
    "    # df['following'] = df['neighbor'].apply(extract_following)\n",
    "    # df['followers'] = df['neighbor'].apply(extract_followers)\n",
    "    # df = df.drop([ 'ID', 'id_str', 'profile', 'neighbor' ], axis=1)\n",
    "    \n",
    "    return df[[\n",
    "        'id', 'screen_name',  'description', 'location', \n",
    "        'followers_count', 'friends_count', 'statuses_count', \n",
    "        'created_at', 'tweet', 'label'\n",
    "    ]]"
   ]
  },
  {
   "cell_type": "markdown",
   "metadata": {},
   "source": [
    "## Extract metadata"
   ]
  },
  {
   "cell_type": "code",
   "execution_count": 9,
   "metadata": {
    "ExecuteTime": {
     "end_time": "2022-04-10T16:14:30.176806Z",
     "start_time": "2022-04-10T16:14:30.161185Z"
    }
   },
   "outputs": [],
   "source": [
    "POS_TAGS = [\n",
    "    'ADJ', 'ADP', 'ADV', 'AUX',\n",
    "    'CONJ', 'CCONJ', 'DET', 'INTJ',\n",
    "    'NOUN', 'NUM', 'PART', 'PRON',\n",
    "    'PROPN', 'PUNCT', 'SCONJ', 'SYM', \n",
    "    'VERB', 'X', 'SPACE'\n",
    "]"
   ]
  },
  {
   "cell_type": "code",
   "execution_count": 10,
   "metadata": {
    "ExecuteTime": {
     "end_time": "2022-04-10T16:14:30.537917Z",
     "start_time": "2022-04-10T16:14:30.506712Z"
    }
   },
   "outputs": [],
   "source": [
    "def count_hashtags(text: str, end: bool = False):\n",
    "    \"\"\" Count nb of hasthags at the very beginning/end of text \"\"\"\n",
    "    count, i = 0, 0\n",
    "    hashtags = re.finditer(r\"\\w+#\\s*\", text[::-1]) if end else re.finditer(r\"#\\w+\\s*\", text)\n",
    "    for hashtag in hashtags:\n",
    "        if hashtag.span()[0] != i:\n",
    "            break\n",
    "        count += 1\n",
    "        i = hashtag.span()[1]\n",
    "    return count\n",
    "\n",
    "def extract_symbols(text: str, symbol: str):\n",
    "    \"\"\" Extract hashtags/cashtags/mentions \"\"\"\n",
    "    symbols = [ symbol[1:] for symbol in re.findall(fr\"{symbol}\\w+\\b\", text) ]\n",
    "    text = re.sub(fr\"{symbol}(?=\\w+\\b)\", \"\", text)\n",
    "    return text, symbols\n",
    "\n",
    "def extract_links(text: str):\n",
    "    \"\"\" Extract links \"\"\"\n",
    "    links = re.findall(\"https?://.+?(?=(?:\\s|$))\", text)\n",
    "    for link in links:\n",
    "        text = text.replace(link, \"\")\n",
    "    return text, links\n",
    "\n",
    "# TODO: Get emojis category? (use emojis, or advertools)\n",
    "def extract_emojis(text: str):\n",
    "    \"\"\" Extract emojis \"\"\"\n",
    "    # Doesn't get all emojis...\n",
    "    text = emojis.decode(text)\n",
    "    emoji_list = re.findall(r\":(.+?):\", text)\n",
    "    for emoji in emoji_list:\n",
    "        text = text.replace(f\":{emoji}:\", \"\")\n",
    "    return text, emoji_list\n",
    "    \n",
    "def clean_text(text: str):\n",
    "    \"\"\" Clean text from unknown characters \"\"\"\n",
    "    text_cleaned = unidecode(text)\n",
    "    unk_chars_ratio = len(text_cleaned) / len(text) if text else 0\n",
    "    text_cleaned = re.sub(r'\\s+', ' ', text_cleaned)\n",
    "    return text_cleaned, unk_chars_ratio\n",
    "\n",
    "\n",
    "def extract_metadata(text: str):\n",
    "    \"\"\" Extract metadata (nb of tokens, average token length, POS tags...)\"\"\"\n",
    "    \n",
    "    tokens = nlp(text)\n",
    "    tokens_count = len(tokens)\n",
    "    \n",
    "    avg_token_len = 0\n",
    "    tokens_diff_ratio = []\n",
    "    pos_tags_count = OrderedDict({ tag: 0 for tag in POS_TAGS })\n",
    "    \n",
    "    for token in tokens:\n",
    "        avg_token_len += len(token)\n",
    "        tokens_diff_ratio.append(token.text)\n",
    "        \n",
    "        try:\n",
    "            pos_tags_count[token.pos_] += 1\n",
    "        except KeyError:\n",
    "            print(token.pos_, \"not in POS_TAGS\")\n",
    "        \n",
    "    try:\n",
    "        avg_token_len = avg_token_len / tokens_count\n",
    "        tokens_diff_ratio = len(set(tokens_diff_ratio)) / tokens_count\n",
    "    except ZeroDivisionError:\n",
    "        tokens_diff_ratio = 0\n",
    "            \n",
    "    return tokens_count, avg_token_len, tokens_diff_ratio, *pos_tags_count.values()\n",
    "\n",
    "\n",
    "def extract_desc_artefacts(text: str):\n",
    "    \"\"\" Extract all artefacts from profile description \"\"\"\n",
    "    \n",
    "    text_len = len(text)\n",
    "    \n",
    "    hashtags_start_count = count_hashtags(text)\n",
    "    hashtags_end_count = count_hashtags(text, end=True)\n",
    "    \n",
    "    text, hashtags = extract_symbols(text, \"#\")\n",
    "    text, mentions = extract_symbols(text, \"@\")\n",
    "    text, cashtags = extract_symbols(text, \"$\")\n",
    "    text, links = extract_links(text)\n",
    "    \n",
    "    text, emoji_list = extract_emojis(text)\n",
    "    text, unk_chars_ratio = clean_text(text)\n",
    "    text_clean_len = len(text)\n",
    "    \n",
    "    metadata = extract_metadata(text)\n",
    "    \n",
    "    return (\n",
    "        text, text_len, text_clean_len,\n",
    "        hashtags_start_count, hashtags_end_count,\n",
    "        hashtags, mentions, cashtags, \n",
    "        links, emoji_list, unk_chars_ratio,\n",
    "        *metadata\n",
    "    )\n",
    "\n",
    "\n",
    "def get_desc_artefacts(df: pd.DataFrame):   \n",
    "    \"\"\" Process dataframe for metadata extraction from profiles descriptions \"\"\"\n",
    "    \n",
    "    new_cols = [ \n",
    "        'description', 'desc_len', 'desc_clean_len',\n",
    "        'desc_hashtags_start_count', 'desc_hashtags_end_count',\n",
    "        'desc_hashtags', 'desc_mentions', 'desc_cashtags', \n",
    "        'desc_links', 'desc_emojis', 'desc_unk_chars_ratio',\n",
    "        'tokens_count', 'avg_token_len', 'tokens_diff_ratio'\n",
    "    ] + [ tag.lower() + \"_count\" for tag in POS_TAGS ]\n",
    "    \n",
    "    df[new_cols] = pd.DataFrame(\n",
    "        df['description'].swifter.apply(extract_desc_artefacts).tolist(), \n",
    "        columns=new_cols\n",
    "    )\n",
    "    \n",
    "    df['desc_hashtags_count'] = df['desc_hashtags'].apply(len)\n",
    "    df['desc_mentions_count'] = df['desc_mentions'].apply(len)\n",
    "    df['desc_cashtags_count'] = df['desc_cashtags'].apply(len)\n",
    "    df['desc_links_count'] = df['desc_links'].apply(len)\n",
    "    df['desc_emojis_count'] = df['desc_emojis'].apply(len)\n",
    "    \n",
    "    return df"
   ]
  },
  {
   "cell_type": "markdown",
   "metadata": {},
   "source": [
    "## Build datasets"
   ]
  },
  {
   "cell_type": "code",
   "execution_count": 11,
   "metadata": {
    "ExecuteTime": {
     "end_time": "2022-04-10T16:14:31.181936Z",
     "start_time": "2022-04-10T16:14:31.166282Z"
    }
   },
   "outputs": [],
   "source": [
    "def build_df(filename: str = \"\"):\n",
    "    \"\"\" Build and prepare dataset \"\"\"\n",
    "\n",
    "    if DATASET == 'ukraine':\n",
    "        df = load_ukraine()\n",
    "    else:\n",
    "        df = load_twibot(filename)\n",
    "\n",
    "    df['id'] = df['id'].astype(str).str.strip()\n",
    "    df['screen_name'] = df['screen_name'].astype(str).str.strip()\n",
    "    df['description'] = df['description'].astype(str).str.strip()\n",
    "    df['location'] = df['location'].astype(str).str.strip()\n",
    "    df['followers_count'] = df['followers_count'].astype(int)\n",
    "    df['friends_count'] = df['friends_count'].astype(int)\n",
    "    df['statuses_count'] = df['statuses_count'].astype(int)\n",
    "    \n",
    "    # Encoding labels\n",
    "    df.loc[df['location'] == \"\", 'location'] = np.nan\n",
    "    le = LabelEncoder()\n",
    "    le.fit(df['location'].unique())\n",
    "    df['location_enc'] = le.transform(df['location'])\n",
    "    \n",
    "    # Profile creation date\n",
    "    df['created_at'] = pd.to_datetime(df['created_at'])\n",
    "    df['created_at_year'] = df['created_at'].dt.year\n",
    "    df['created_at_month'] = df['created_at'].dt.month\n",
    "    df['created_at_day'] = df['created_at'].dt.day\n",
    "    df['created_at_date'] = (pd.Timestamp(DATE_REF).date() - df['created_at'].dt.date).dt.days.astype(int)\n",
    "    df['created_at_hour'] = df['created_at'].dt.hour * 60 + df['created_at'].dt.minute\n",
    "    df = df.drop('created_at', axis=1)\n",
    "    \n",
    "    # Extract profile description metadata\n",
    "    df = get_desc_artefacts(df)\n",
    "    \n",
    "    # Feature engineering\n",
    "    df['avg_daily_followers'] = np.round(df['followers_count'] / df['created_at_date'], 3)\n",
    "    df['avg_daily_friends'] = np.round(df['friends_count'] / df['created_at_date'], 3)\n",
    "    df['avg_daily_statuses'] = np.round(df['statuses_count'] / df['created_at_date'], 3)\n",
    "    \n",
    "    # Exploding tweets into several rows\n",
    "    df = df.explode('tweet').reset_index(drop=True)\n",
    "    df['tweet'] = df['tweet'].astype(str).str.strip()\n",
    "    df['label'] = df['label'].astype(int)\n",
    "    \n",
    "    print(df.shape)\n",
    "    df = df.sample(frac=1, random_state=SEED).reset_index(drop=True)\n",
    "    return df"
   ]
  },
  {
   "cell_type": "code",
   "execution_count": 12,
   "metadata": {
    "ExecuteTime": {
     "end_time": "2022-04-10T16:15:49.287364Z",
     "start_time": "2022-04-10T16:14:31.841808Z"
    },
    "deletable": false,
    "editable": false,
    "run_control": {
     "frozen": true
    }
   },
   "outputs": [
    {
     "data": {
      "application/vnd.jupyter.widget-view+json": {
       "model_id": "68d3e9ab5db64987ac618a97477de9b4",
       "version_major": 2,
       "version_minor": 0
      },
      "text/plain": [
       "Pandas Apply:   0%|          | 0/8278 [00:00<?, ?it/s]"
      ]
     },
     "metadata": {},
     "output_type": "display_data"
    },
    {
     "name": "stdout",
     "output_type": "stream",
     "text": [
      "(1398465, 55)\n"
     ]
    },
    {
     "data": {
      "application/vnd.jupyter.widget-view+json": {
       "model_id": "f0564b92b66a4654ba8193421fdd8661",
       "version_major": 2,
       "version_minor": 0
      },
      "text/plain": [
       "Pandas Apply:   0%|          | 0/1183 [00:00<?, ?it/s]"
      ]
     },
     "metadata": {},
     "output_type": "display_data"
    },
    {
     "name": "stdout",
     "output_type": "stream",
     "text": [
      "(199863, 55)\n"
     ]
    }
   ],
   "source": [
    "df_train = build_df('train')\n",
    "df_test = build_df('test')"
   ]
  },
  {
   "cell_type": "code",
   "execution_count": 13,
   "metadata": {
    "ExecuteTime": {
     "end_time": "2022-04-10T16:16:32.521840Z",
     "start_time": "2022-04-10T16:15:52.174372Z"
    },
    "deletable": false,
    "editable": false,
    "run_control": {
     "frozen": true
    }
   },
   "outputs": [],
   "source": [
    "df_train.to_csv(PATH.format('train_prep'))\n",
    "df_test.to_csv(PATH.format('test_prep'))"
   ]
  },
  {
   "cell_type": "code",
   "execution_count": 14,
   "metadata": {
    "ExecuteTime": {
     "end_time": "2022-04-10T16:16:54.301092Z",
     "start_time": "2022-04-10T16:16:35.470620Z"
    }
   },
   "outputs": [],
   "source": [
    "df_train = pd.read_csv(PATH.format('train_prep'), index_col='Unnamed: 0')\n",
    "df_test = pd.read_csv(PATH.format('test_prep'), index_col='Unnamed: 0')"
   ]
  },
  {
   "cell_type": "markdown",
   "metadata": {},
   "source": [
    "# Detection on users metadata"
   ]
  },
  {
   "cell_type": "markdown",
   "metadata": {},
   "source": [
    "## Aggregating by user"
   ]
  },
  {
   "cell_type": "code",
   "execution_count": 15,
   "metadata": {
    "ExecuteTime": {
     "end_time": "2022-04-10T16:17:01.548288Z",
     "start_time": "2022-04-10T16:16:58.097665Z"
    },
    "deletable": false,
    "editable": false,
    "run_control": {
     "frozen": true
    }
   },
   "outputs": [],
   "source": [
    "def agg_users(df: pd.DataFrame):\n",
    "    \"\"\" Aggregate rows by user \"\"\"\n",
    "    df_users = df.drop('tweet', axis=1)\n",
    "    df_users = df_users.drop_duplicates()\n",
    "    df_users = df_users.sample(frac=1).reset_index(drop=True)\n",
    "    return df_users\n",
    "\n",
    "df_train_users = agg_users(df_train)\n",
    "df_test_users = agg_users(df_test)"
   ]
  },
  {
   "cell_type": "code",
   "execution_count": 16,
   "metadata": {
    "ExecuteTime": {
     "end_time": "2022-04-10T16:17:04.529292Z",
     "start_time": "2022-04-10T16:17:04.325425Z"
    },
    "deletable": false,
    "editable": false,
    "run_control": {
     "frozen": true
    }
   },
   "outputs": [],
   "source": [
    "df_train_users.to_csv(PATH.format('train_users_prep'))\n",
    "df_test_users.to_csv(PATH.format('test_users_prep'))"
   ]
  },
  {
   "cell_type": "code",
   "execution_count": 17,
   "metadata": {
    "ExecuteTime": {
     "end_time": "2022-04-10T16:17:07.469588Z",
     "start_time": "2022-04-10T16:17:07.312376Z"
    }
   },
   "outputs": [],
   "source": [
    "df_train_users = pd.read_csv(PATH.format('train_users_prep'), index_col='Unnamed: 0')\n",
    "df_test_users = pd.read_csv(PATH.format('test_users_prep'), index_col='Unnamed: 0')"
   ]
  },
  {
   "cell_type": "code",
   "execution_count": 18,
   "metadata": {
    "ExecuteTime": {
     "end_time": "2022-04-10T16:17:10.339952Z",
     "start_time": "2022-04-10T16:17:10.324203Z"
    }
   },
   "outputs": [],
   "source": [
    "def filter_metadata(df: pd.DataFrame):\n",
    "    \"\"\" Drop un-processable features \"\"\"\n",
    "    return df.drop([ 'location', 'screen_name', 'id',\n",
    "                     'description', 'desc_hashtags', 'desc_mentions', \n",
    "                     'desc_cashtags', 'desc_links', 'desc_emojis' ], axis=1)\n",
    "\n",
    "df_train_users = filter_metadata(df_train_users)\n",
    "df_test_users = filter_metadata(df_test_users)"
   ]
  },
  {
   "cell_type": "markdown",
   "metadata": {},
   "source": [
    "# Detection on tweets metadata"
   ]
  },
  {
   "cell_type": "markdown",
   "metadata": {},
   "source": [
    "## Extract tweet metadata"
   ]
  },
  {
   "cell_type": "code",
   "execution_count": 21,
   "metadata": {
    "ExecuteTime": {
     "end_time": "2022-04-10T16:17:53.786973Z",
     "start_time": "2022-04-10T16:17:53.755648Z"
    }
   },
   "outputs": [],
   "source": [
    "def extract_reply(text: str):\n",
    "    \"\"\" Extract 'reply' tweets \"\"\"\n",
    "    res = re.match(r'(@\\w+ )+', text)\n",
    "    if res:\n",
    "        text = text[res.span()[1]:]\n",
    "        return text, True, res.group()[1:-1].split(\" @\")\n",
    "    return text, False, np.nan\n",
    "\n",
    "def extract_retweet(text: str):\n",
    "    \"\"\" Extract 'retweets' \"\"\"\n",
    "    res = re.match(r'RT @(\\w+): \\.?', text)\n",
    "    if res:\n",
    "        text = text[res.span(0)[1]:]\n",
    "        return text, True, res.group(1)\n",
    "    return text, False, np.nan\n",
    "\n",
    "def extract_modified_tweet(text: str):\n",
    "    \"\"\" Extract 'modified' tweets \"\"\"\n",
    "    res = re.match(r'MT : ', text)\n",
    "    if res:\n",
    "        text = text[res.span(0)[1]:]\n",
    "        return text, True\n",
    "    return text, False\n",
    "\n",
    "def extract_ellipsis(text: str):\n",
    "    \"\"\" Extract artefacts corresponding to a several-parts tweet \"\"\"\n",
    "    text_cleaned = re.sub(r'\\s*(?:\\.{3}|…|\\(\\d+\\/\\d+\\))\\s*$', \"\", text)\n",
    "    has_ellipsis = len(text_cleaned) != len(text)\n",
    "    return text_cleaned, has_ellipsis\n",
    "\n",
    "\n",
    "def extract_artefacts(text: str):\n",
    "    \"\"\" Process dataframe for metadata extraction from tweets \"\"\"\n",
    "    text, is_reply, replies = extract_reply(text)\n",
    "    text_sat = len(text) / 240\n",
    "    \n",
    "    text, is_rt, retweet = extract_retweet(text)\n",
    "    text, is_mt = extract_modified_tweet(text)\n",
    "    \n",
    "    hashtags_start_count = count_hashtags(text)\n",
    "    hashtags_end_count = count_hashtags(text, end=True)\n",
    "    \n",
    "    text, hashtags = extract_symbols(text, \"#\")\n",
    "    text, mentions = extract_symbols(text, \"@\")\n",
    "    text, cashtags = extract_symbols(text, \"$\")\n",
    "    text, links = extract_links(text)\n",
    "    \n",
    "    text, has_ellipsis = extract_ellipsis(text)\n",
    "    text, emoji_list = extract_emojis(text)\n",
    "    text, unk_chars_ratio = clean_text(text)\n",
    "    \n",
    "    metadata = extract_metadata(text)\n",
    "    \n",
    "    return (\n",
    "        text, text_sat, is_reply, replies, \n",
    "        is_rt, retweet, is_mt, \n",
    "        hashtags_start_count, hashtags_end_count,\n",
    "        hashtags, mentions, cashtags, \n",
    "        links, has_ellipsis, emoji_list, \n",
    "        unk_chars_ratio, *metadata\n",
    "    )\n",
    "\n",
    "\n",
    "def get_artefacts(df: pd.DataFrame):    \n",
    "    new_cols = [ \n",
    "        'tweet', 'text_sat', 'is_reply', 'replies', \n",
    "        'is_rt', 'retweet', 'is_mt', \n",
    "        'hashtags_start_count', 'hashtags_end_count',\n",
    "        'hashtags', 'mentions', 'cashtags',\n",
    "        'links', 'has_ellipsis', 'emojis', \n",
    "        'unk_chars_ratio', \n",
    "        'tokens_count', 'avg_token_len', 'tokens_diff_ratio'\n",
    "    ] + [ tag.lower() + \"_count\" for tag in POS_TAGS ]\n",
    "    \n",
    "    df[new_cols] = pd.DataFrame(\n",
    "        df['tweet'].swifter.apply(extract_artefacts).to_list(), \n",
    "        columns=new_cols\n",
    "    )\n",
    "    \n",
    "    df['hashtags_count'] = df['hashtags'].apply(len)\n",
    "    df['mentions_count'] = df['mentions'].apply(len)\n",
    "    df['cashtags_count'] = df['cashtags'].apply(len)\n",
    "    df['links_count'] = df['links'].apply(len)\n",
    "    df['emojis_count'] = df['emojis'].apply(len)\n",
    "    \n",
    "    return df"
   ]
  },
  {
   "cell_type": "code",
   "execution_count": 22,
   "metadata": {
    "ExecuteTime": {
     "end_time": "2022-04-10T19:21:03.433671Z",
     "start_time": "2022-04-10T16:17:57.145238Z"
    },
    "deletable": false,
    "editable": false,
    "run_control": {
     "frozen": true
    }
   },
   "outputs": [
    {
     "data": {
      "application/vnd.jupyter.widget-view+json": {
       "model_id": "890a3660686d43bd9df1d103960cc73b",
       "version_major": 2,
       "version_minor": 0
      },
      "text/plain": [
       "Pandas Apply:   0%|          | 0/1398465 [00:00<?, ?it/s]"
      ]
     },
     "metadata": {},
     "output_type": "display_data"
    },
    {
     "data": {
      "application/vnd.jupyter.widget-view+json": {
       "model_id": "86a606af856b4e0f9d6e8cf7159a01ab",
       "version_major": 2,
       "version_minor": 0
      },
      "text/plain": [
       "Pandas Apply:   0%|          | 0/199863 [00:00<?, ?it/s]"
      ]
     },
     "metadata": {},
     "output_type": "display_data"
    }
   ],
   "source": [
    "df_train_tweets = get_artefacts(df_train)\n",
    "df_test_tweets = get_artefacts(df_test)"
   ]
  },
  {
   "cell_type": "code",
   "execution_count": 23,
   "metadata": {
    "ExecuteTime": {
     "end_time": "2022-04-10T19:22:13.929740Z",
     "start_time": "2022-04-10T19:21:19.983795Z"
    },
    "deletable": false,
    "editable": false,
    "run_control": {
     "frozen": true
    }
   },
   "outputs": [],
   "source": [
    "df_train_tweets.to_csv(PATH.format('train_tweets_prep'))\n",
    "df_test_tweets.to_csv(PATH.format('test_tweets_prep'))"
   ]
  },
  {
   "cell_type": "code",
   "execution_count": 24,
   "metadata": {
    "ExecuteTime": {
     "end_time": "2022-04-10T19:22:55.446128Z",
     "start_time": "2022-04-10T19:22:25.585428Z"
    }
   },
   "outputs": [],
   "source": [
    "df_train_tweets = pd.read_csv(PATH.format('train_tweets_prep'), index_col='Unnamed: 0')\n",
    "df_test_tweets = pd.read_csv(PATH.format('test_tweets_prep'), index_col='Unnamed: 0')"
   ]
  },
  {
   "cell_type": "code",
   "execution_count": 26,
   "metadata": {
    "ExecuteTime": {
     "end_time": "2022-04-10T21:16:17.509133Z",
     "start_time": "2022-04-10T21:16:16.473587Z"
    }
   },
   "outputs": [],
   "source": [
    "def filter_metadata(df: pd.DataFrame):\n",
    "    return df.drop([ 'tweet', 'location', 'screen_name', 'id',\n",
    "                     'description', 'desc_hashtags', 'desc_mentions', \n",
    "                     'desc_cashtags', 'desc_links', 'desc_emojis',\n",
    "                     'replies', 'retweet', 'hashtags', 'mentions',\n",
    "                     'cashtags', 'links', 'emojis' ], axis=1)\n",
    "\n",
    "df_train_tweets = filter_metadata(df_train_tweets)\n",
    "df_test_tweets = filter_metadata(df_test_tweets)"
   ]
  },
  {
   "cell_type": "markdown",
   "metadata": {},
   "source": [
    "## Training"
   ]
  },
  {
   "cell_type": "markdown",
   "metadata": {},
   "source": [
    "> __Very high AUROC during training, but meh performance in the end bc of over-use of users metadata__"
   ]
  },
  {
   "cell_type": "code",
   "execution_count": 28,
   "id": "f6b26dd0",
   "metadata": {
    "ExecuteTime": {
     "end_time": "2022-04-10T21:50:33.175042Z",
     "start_time": "2022-04-10T21:50:29.237626Z"
    }
   },
   "outputs": [
    {
     "name": "stdout",
     "output_type": "stream",
     "text": [
      "AUROC: 0.7651347509577517\n",
      "Accuracy: 0.7674006694585791\n"
     ]
    },
    {
     "data": {
      "image/png": "[encoded data removed]",
      "text/plain": [
       "<Figure size 432x288 with 2 Axes>"
      ]
     },
     "metadata": {
      "needs_background": "light"
     },
     "output_type": "display_data"
    },
    {
     "data": {
      "image/png": "[encoded data removed]",
      "text/plain": [
       "<Figure size 432x288 with 1 Axes>"
      ]
     },
     "metadata": {
      "needs_background": "light"
     },
     "output_type": "display_data"
    }
   ],
   "source": [
    "eval_clf(clf_tweets, df_test_tweets)"
   ]
  },
  {
   "cell_type": "markdown",
   "metadata": {},
   "source": [
    "### Average probas at the user level"
   ]
  },
  {
   "cell_type": "code",
   "execution_count": 31,
   "metadata": {
    "ExecuteTime": {
     "end_time": "2022-04-10T21:53:32.553738Z",
     "start_time": "2022-04-10T21:53:32.114159Z"
    }
   },
   "outputs": [
    {
     "name": "stdout",
     "output_type": "stream",
     "text": [
      "AUROC: 0.7482605317679558\n",
      "Accuracy: 0.7557058326289096\n"
     ]
    },
    {
     "data": {
      "image/png": "[encoded data removed]",
      "text/plain": [
       "<Figure size 432x288 with 2 Axes>"
      ]
     },
     "metadata": {
      "needs_background": "light"
     },
     "output_type": "display_data"
    },
    {
     "data": {
      "image/png": "[encoded data removed]",
      "text/plain": [
       "<Figure size 432x288 with 1 Axes>"
      ]
     },
     "metadata": {
      "needs_background": "light"
     },
     "output_type": "display_data"
    }
   ],
   "source": [
    "eval_clf(clf_tweets_agg, df_test_tweets_agg)"
   ]
  },
  {
   "cell_type": "markdown",
   "metadata": {},
   "source": [
    "### Average features at the user level"
   ]
  },
  {
   "cell_type": "markdown",
   "metadata": {},
   "source": [
    "> Mean"
   ]
  },
  {
   "cell_type": "code",
   "execution_count": 34,
   "metadata": {
    "ExecuteTime": {
     "end_time": "2022-04-10T21:55:04.886777Z",
     "start_time": "2022-04-10T21:55:04.431366Z"
    }
   },
   "outputs": [
    {
     "name": "stdout",
     "output_type": "stream",
     "text": [
      "AUROC: 0.7916781767955801\n",
      "Accuracy: 0.7954353338968724\n"
     ]
    },
    {
     "data": {
      "image/png": "[encoded data removed]",
      "text/plain": [
       "<Figure size 432x288 with 2 Axes>"
      ]
     },
     "metadata": {
      "needs_background": "light"
     },
     "output_type": "display_data"
    },
    {
     "data": {
      "image/png": "[encoded data removed]",
      "text/plain": [
       "<Figure size 432x288 with 1 Axes>"
      ]
     },
     "metadata": {
      "needs_background": "light"
     },
     "output_type": "display_data"
    }
   ],
   "source": [
    "eval_clf(clf_tweets_mean, df_test_tweets_mean)"
   ]
  },
  {
   "cell_type": "markdown",
   "metadata": {},
   "source": [
    "> Median"
   ]
  },
  {
   "cell_type": "code",
   "execution_count": 36,
   "metadata": {
    "ExecuteTime": {
     "end_time": "2022-04-10T21:55:52.021044Z",
     "start_time": "2022-04-10T21:55:51.597461Z"
    }
   },
   "outputs": [
    {
     "name": "stdout",
     "output_type": "stream",
     "text": [
      "AUROC: 0.7829722030386741\n",
      "Accuracy: 0.7878275570583263\n"
     ]
    },
    {
     "data": {
      "image/png": "[encoded data removed]",
      "text/plain": [
       "<Figure size 432x288 with 2 Axes>"
      ]
     },
     "metadata": {
      "needs_background": "light"
     },
     "output_type": "display_data"
    },
    {
     "data": {
      "image/png": "[encoded data removed]",
      "text/plain": [
       "<Figure size 432x288 with 1 Axes>"
      ]
     },
     "metadata": {
      "needs_background": "light"
     },
     "output_type": "display_data"
    }
   ],
   "source": [
    "eval_clf(clf_tweets_median, df_test_tweets_median)"
   ]
  },
  {
   "cell_type": "markdown",
   "metadata": {
    "hidden": true
   },
   "source": [
    "## Feature engineering"
   ]
  },
  {
   "cell_type": "code",
   "execution_count": 49,
   "metadata": {
    "ExecuteTime": {
     "end_time": "2022-03-29T15:37:13.671253Z",
     "start_time": "2022-03-29T15:37:11.114498Z"
    },
    "hidden": true
   },
   "outputs": [
    {
     "name": "stdout",
     "output_type": "stream",
     "text": [
      "AUROC: 0.6242186773358023\n",
      "Accuracy: 0.6275898990808704\n"
     ]
    },
    {
     "data": {
      "image/png": "[encoded data removed]",
      "text/plain": [
       "<Figure size 432x288 with 2 Axes>"
      ]
     },
     "metadata": {
      "needs_background": "light"
     },
     "output_type": "display_data"
    },
    {
     "data": {
      "image/png": "[encoded data removed]",
      "text/plain": [
       "<Figure size 432x288 with 1 Axes>"
      ]
     },
     "metadata": {
      "needs_background": "light"
     },
     "output_type": "display_data"
    }
   ],
   "source": [
    "eval_clf(clf_meta_tweet_fe, df_test_meta_tweet_fe)"
   ]
  },
  {
   "cell_type": "markdown",
   "metadata": {
    "hidden": true
   },
   "source": [
    "### Average probas at the user level"
   ]
  },
  {
   "cell_type": "code",
   "execution_count": 51,
   "metadata": {
    "ExecuteTime": {
     "end_time": "2022-03-29T15:37:37.868398Z",
     "start_time": "2022-03-29T15:37:37.498177Z"
    },
    "hidden": true
   },
   "outputs": [
    {
     "name": "stdout",
     "output_type": "stream",
     "text": [
      "AUROC: 0.7320240561694291\n",
      "Accuracy: 0.7311918850380389\n"
     ]
    },
    {
     "data": {
      "image/png": "[encoded data removed]",
      "text/plain": [
       "<Figure size 432x288 with 2 Axes>"
      ]
     },
     "metadata": {
      "needs_background": "light"
     },
     "output_type": "display_data"
    },
    {
     "data": {
      "image/png": "[encoded data removed]",
      "text/plain": [
       "<Figure size 432x288 with 1 Axes>"
      ]
     },
     "metadata": {
      "needs_background": "light"
     },
     "output_type": "display_data"
    }
   ],
   "source": [
    "eval_clf(clf_meta_agg_tweet_fe, df_test_meta_agg_tweet_fe)"
   ]
  }
 ],
 "metadata": {
  "kernelspec": {
   "display_name": "Python 3",
   "language": "python",
   "name": "python3"
  },
  "language_info": {
   "codemirror_mode": {
    "name": "ipython",
    "version": 3
   },
   "file_extension": ".py",
   "mimetype": "text/x-python",
   "name": "python",
   "nbconvert_exporter": "python",
   "pygments_lexer": "ipython3",
   "version": "3.8.3"
  },
  "toc": {
   "base_numbering": 1,
   "nav_menu": {},
   "number_sections": true,
   "sideBar": true,
   "skip_h1_title": false,
   "title_cell": "Table of Contents",
   "title_sidebar": "Contents",
   "toc_cell": false,
   "toc_position": {},
   "toc_section_display": true,
   "toc_window_display": false
  },
  "varInspector": {
   "cols": {
    "lenName": 16,
    "lenType": 16,
    "lenVar": 40
   },
   "kernels_config": {
    "python": {
     "delete_cmd_postfix": "",
     "delete_cmd_prefix": "del ",
     "library": "var_list.py",
     "varRefreshCmd": "print(var_dic_list())"
    },
    "r": {
     "delete_cmd_postfix": ") ",
     "delete_cmd_prefix": "rm(",
     "library": "var_list.r",
     "varRefreshCmd": "cat(var_dic_list()) "
    }
   },
   "types_to_exclude": [
    "module",
    "function",
    "builtin_function_or_method",
    "instance",
    "_Feature"
   ],
   "window_display": true
  }
 },
 "nbformat": 4,
 "nbformat_minor": 5
}
