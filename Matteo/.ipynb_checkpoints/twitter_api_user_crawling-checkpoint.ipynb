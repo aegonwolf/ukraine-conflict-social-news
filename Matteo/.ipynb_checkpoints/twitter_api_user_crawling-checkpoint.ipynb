{
 "cells": [
  {
   "cell_type": "code",
   "execution_count": 1,
   "metadata": {},
   "outputs": [],
   "source": [
    "import numpy as np\n",
    "import pandas as pd\n",
    "\n",
    "import json\n",
    "import requests\n",
    "import time"
   ]
  },
  {
   "cell_type": "code",
   "execution_count": 62,
   "metadata": {},
   "outputs": [],
   "source": [
    "# helper function to flatten nested jsonobject\n",
    "def flatten_json(y):\n",
    "    out = {}\n",
    "  \n",
    "    def flatten(x, name =''):\n",
    "          \n",
    "        # If the Nested key-value \n",
    "        # pair is of dict type\n",
    "        if type(x) is dict:\n",
    "            for a in x:\n",
    "                flatten(x[a], name + a + '_')\n",
    "                  \n",
    "        # If the Nested key-value\n",
    "        # pair is of list type\n",
    "        elif type(x) is list:\n",
    "            for a in x:                \n",
    "                flatten(a, name)\n",
    "        else:\n",
    "            out[name[:-1]] = x\n",
    "  \n",
    "    flatten(y)\n",
    "    return out"
   ]
  },
  {
   "cell_type": "code",
   "execution_count": 20,
   "metadata": {},
   "outputs": [
    {
     "name": "stdout",
     "output_type": "stream",
     "text": [
      "(1229349, 18)\n"
     ]
    }
   ],
   "source": [
    "# the csv file that contains the tweets\n",
    "file_name = '/Users/matteoomenetti/Documents/ETH/second/gess/dataset/UkraineCombinedTweetsDeduped20220227-131611.csv'\n",
    "panda_tweets = pd.read_csv(file_name)\n",
    "print(panda_tweets.shape)"
   ]
  },
  {
   "cell_type": "code",
   "execution_count": 21,
   "metadata": {},
   "outputs": [
    {
     "name": "stdout",
     "output_type": "stream",
     "text": [
      "(767777, 1)\n"
     ]
    },
    {
     "data": {
      "text/html": [
       "<div>\n",
       "<style scoped>\n",
       "    .dataframe tbody tr th:only-of-type {\n",
       "        vertical-align: middle;\n",
       "    }\n",
       "\n",
       "    .dataframe tbody tr th {\n",
       "        vertical-align: top;\n",
       "    }\n",
       "\n",
       "    .dataframe thead th {\n",
       "        text-align: right;\n",
       "    }\n",
       "</style>\n",
       "<table border=\"1\" class=\"dataframe\">\n",
       "  <thead>\n",
       "    <tr style=\"text-align: right;\">\n",
       "      <th></th>\n",
       "      <th>userid</th>\n",
       "    </tr>\n",
       "  </thead>\n",
       "  <tbody>\n",
       "    <tr>\n",
       "      <th>0</th>\n",
       "      <td>962369743</td>\n",
       "    </tr>\n",
       "    <tr>\n",
       "      <th>1</th>\n",
       "      <td>865846412755353600</td>\n",
       "    </tr>\n",
       "    <tr>\n",
       "      <th>2</th>\n",
       "      <td>1927022036</td>\n",
       "    </tr>\n",
       "    <tr>\n",
       "      <th>3</th>\n",
       "      <td>1073676020</td>\n",
       "    </tr>\n",
       "    <tr>\n",
       "      <th>4</th>\n",
       "      <td>1484119658488033281</td>\n",
       "    </tr>\n",
       "  </tbody>\n",
       "</table>\n",
       "</div>"
      ],
      "text/plain": [
       "                userid\n",
       "0            962369743\n",
       "1   865846412755353600\n",
       "2           1927022036\n",
       "3           1073676020\n",
       "4  1484119658488033281"
      ]
     },
     "execution_count": 21,
     "metadata": {},
     "output_type": "execute_result"
    }
   ],
   "source": [
    "# drop useless columns\n",
    "panda_tweets = panda_tweets[[\n",
    "    'userid'\n",
    "]]\n",
    "#  get unique users\n",
    "panda_tweets = panda_tweets.drop_duplicates(subset=['userid'])\n",
    "print(panda_tweets.shape)\n",
    "\n",
    "tweets = np.array(panda_tweets)\n",
    "\n",
    "panda_tweets.head()"
   ]
  },
  {
   "cell_type": "code",
   "execution_count": 72,
   "metadata": {},
   "outputs": [],
   "source": [
    "count = 0\n",
    "users = []\n",
    "\n",
    "for tweet in tweets:\n",
    "    url =  \"https://api.twitter.com/2/users?ids=\" + str(tweet[0]) + \"&user.fields=created_at,description,entities,id,location,name,pinned_tweet_id,profile_image_url,protected,public_metrics,url,username,verified,withheld\"\n",
    "    headers = {'Authorization':'Bearer <Your bearer  token goes here>'}\n",
    "    user = requests.get(url, headers=headers)\n",
    "    user = user.json()\n",
    "    user = user['data']\n",
    "    user = flatten_json(user)\n",
    "    # print(user)\n",
    "    users.append(user)\n",
    "    count = count + 1\n",
    "    \n",
    "    # if (count == 5):\n",
    "        # break\n",
    "    \n",
    "    # only one request per second  can be made\n",
    "    time.sleep(1.05)\n",
    "\n",
    "\n",
    "with open(\"./users.json\", 'w') as json_file:\n",
    "    json.dump(users, json_file)\n",
    "with open('./users.json', encoding='utf-8') as inputfile:\n",
    "    df = pd.read_json(inputfile)\n",
    "\n",
    "df.to_csv('users.csv', encoding='utf-8', index=False)\n",
    "import os\n",
    "os.remove(\"users.json\")"
   ]
  },
  {
   "cell_type": "code",
   "execution_count": null,
   "metadata": {},
   "outputs": [],
   "source": []
  }
 ],
 "metadata": {
  "kernelspec": {
   "display_name": "Python 3",
   "language": "python",
   "name": "python3"
  },
  "language_info": {
   "codemirror_mode": {
    "name": "ipython",
    "version": 3
   },
   "file_extension": ".py",
   "mimetype": "text/x-python",
   "name": "python",
   "nbconvert_exporter": "python",
   "pygments_lexer": "ipython3",
   "version": "3.8.3"
  }
 },
 "nbformat": 4,
 "nbformat_minor": 4
}
