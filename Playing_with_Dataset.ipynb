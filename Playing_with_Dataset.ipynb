{
  "nbformat": 4,
  "nbformat_minor": 0,
  "metadata": {
    "colab": {
      "name": "Playing with Dataset.ipynb",
      "provenance": [],
      "toc_visible": true,
      "include_colab_link": true
    },
    "kernelspec": {
      "name": "python3",
      "display_name": "Python 3"
    },
    "language_info": {
      "name": "python"
    }
  },
  "cells": [
    {
      "cell_type": "markdown",
      "metadata": {
        "id": "view-in-github",
        "colab_type": "text"
      },
      "source": [
        "<a href=\"https://colab.research.google.com/github/aegonwolf/ukraine-conflict-social-news/blob/main/Playing_with_Dataset.ipynb\" target=\"_parent\"><img src=\"https://colab.research.google.com/assets/colab-badge.svg\" alt=\"Open In Colab\"/></a>"
      ]
    },
    {
      "cell_type": "code",
      "source": [
        "# DS toolkit\n",
        "import pandas as pd\n",
        "\n",
        "# Visualisation\n",
        "import folium\n",
        "from geopy.exc import GeocoderTimedOut\n",
        "from geopy.geocoders import Nominatim"
      ],
      "metadata": {
        "id": "JnO8S2a8Y9Hp"
      },
      "execution_count": 7,
      "outputs": []
    },
    {
      "cell_type": "markdown",
      "source": [
        "Download and unzip the dataset using this cell. Make sure to upload the API token (kaggle.json) before running it."
      ],
      "metadata": {
        "id": "-Q8LijkKlp0r"
      }
    },
    {
      "cell_type": "code",
      "source": [
        "!pip install kaggle\n",
        "!mkdir -p ~/.kaggle/ && mv kaggle.json ~/.kaggle/ && chmod 600 ~/.kaggle/kaggle.json\n",
        "!kaggle datasets download -d 'bwandowando/ukraine-russian-crisis-twitter-dataset-1-2-m-rows'\n",
        "!unzip /content/ukraine-russian-crisis-twitter-dataset-1-2-m-rows.zip"
      ],
      "metadata": {
        "id": "khiaKQjemvdI"
      },
      "execution_count": null,
      "outputs": []
    },
    {
      "cell_type": "markdown",
      "source": [
        "Let's explore the data!"
      ],
      "metadata": {
        "id": "7WEhz0xOZq9Q"
      }
    },
    {
      "cell_type": "code",
      "source": [
        "df = pd.read_csv(\n",
        "    \"UkraineCombinedTweetsDeduped_MAR10.csv.gzip\", \n",
        "    compression=\"gzip\",\n",
        "    index_col=\"Unnamed: 0\"\n",
        ")"
      ],
      "metadata": {
        "id": "KXxKfivpY62Z"
      },
      "execution_count": null,
      "outputs": []
    },
    {
      "cell_type": "code",
      "source": [
        "reduceddf = df.sample(10 ** 2, random_state = 42)\n",
        "reduceddf.tail()"
      ],
      "metadata": {
        "colab": {
          "base_uri": "https://localhost:8080/",
          "height": 582
        },
        "id": "pe0EpdBUgIrl",
        "outputId": "dc578d94-1667-4085-9829-7bae56a96dd2"
      },
      "execution_count": 55,
      "outputs": [
        {
          "output_type": "execute_result",
          "data": {
            "text/html": [
              "\n",
              "  <div id=\"df-9a2149ac-ccdb-410a-a7f3-85cb26e0d488\">\n",
              "    <div class=\"colab-df-container\">\n",
              "      <div>\n",
              "<style scoped>\n",
              "    .dataframe tbody tr th:only-of-type {\n",
              "        vertical-align: middle;\n",
              "    }\n",
              "\n",
              "    .dataframe tbody tr th {\n",
              "        vertical-align: top;\n",
              "    }\n",
              "\n",
              "    .dataframe thead th {\n",
              "        text-align: right;\n",
              "    }\n",
              "</style>\n",
              "<table border=\"1\" class=\"dataframe\">\n",
              "  <thead>\n",
              "    <tr style=\"text-align: right;\">\n",
              "      <th></th>\n",
              "      <th>userid</th>\n",
              "      <th>username</th>\n",
              "      <th>acctdesc</th>\n",
              "      <th>location</th>\n",
              "      <th>following</th>\n",
              "      <th>followers</th>\n",
              "      <th>totaltweets</th>\n",
              "      <th>usercreatedts</th>\n",
              "      <th>tweetid</th>\n",
              "      <th>tweetcreatedts</th>\n",
              "      <th>retweetcount</th>\n",
              "      <th>text</th>\n",
              "      <th>hashtags</th>\n",
              "      <th>language</th>\n",
              "      <th>coordinates</th>\n",
              "      <th>favorite_count</th>\n",
              "      <th>extractedts</th>\n",
              "    </tr>\n",
              "  </thead>\n",
              "  <tbody>\n",
              "    <tr>\n",
              "      <th>4808434</th>\n",
              "      <td>2462530824</td>\n",
              "      <td>idntwannabeu_</td>\n",
              "      <td>♡ @_chowoodz🧡💙✦ @treasuremembers 💎✨ • YG STAN ...</td>\n",
              "      <td>แอคหลุมหวีดพิยอน • อนิเมะ💥🐾</td>\n",
              "      <td>391</td>\n",
              "      <td>7</td>\n",
              "      <td>1035</td>\n",
              "      <td>2014-04-25 02:27:51.000000</td>\n",
              "      <td>1501910519715799041</td>\n",
              "      <td>2022-03-10 13:19:06</td>\n",
              "      <td>92204</td>\n",
              "      <td>เด็กชายตัวน้อยๆคนนี้ เดินร้องไห้ หนีสงครามจากย...</td>\n",
              "      <td>[]</td>\n",
              "      <td>th</td>\n",
              "      <td>NaN</td>\n",
              "      <td>0</td>\n",
              "      <td>2022-03-10 13:21:47.637511</td>\n",
              "    </tr>\n",
              "    <tr>\n",
              "      <th>4912399</th>\n",
              "      <td>1261199216157876225</td>\n",
              "      <td>MichaelPitz1</td>\n",
              "      <td>Reisebusunternehmen</td>\n",
              "      <td>Offenbach am Main, Deutschland</td>\n",
              "      <td>88</td>\n",
              "      <td>31</td>\n",
              "      <td>650</td>\n",
              "      <td>2020-05-15 07:38:31.000000</td>\n",
              "      <td>1501988599075643395</td>\n",
              "      <td>2022-03-10 18:29:22</td>\n",
              "      <td>676</td>\n",
              "      <td>Wir dürfen nicht schon wieder naiv werden. #Pu...</td>\n",
              "      <td>[{'text': 'Putin', 'indices': [59, 65]}]</td>\n",
              "      <td>de</td>\n",
              "      <td>NaN</td>\n",
              "      <td>0</td>\n",
              "      <td>2022-03-10 18:36:47.595256</td>\n",
              "    </tr>\n",
              "    <tr>\n",
              "      <th>4866540</th>\n",
              "      <td>820344569527226370</td>\n",
              "      <td>upchuck66</td>\n",
              "      <td>Democracy isn’t just on the ballot this time, ...</td>\n",
              "      <td>NaN</td>\n",
              "      <td>2517</td>\n",
              "      <td>1834</td>\n",
              "      <td>463294</td>\n",
              "      <td>2017-01-14 18:59:21.000000</td>\n",
              "      <td>1501954152624275456</td>\n",
              "      <td>2022-03-10 16:12:29</td>\n",
              "      <td>91</td>\n",
              "      <td>In 2014, I addressed the brave #Ukrainian peop...</td>\n",
              "      <td>[{'text': 'Ukrainian', 'indices': [40, 50]}, {...</td>\n",
              "      <td>en</td>\n",
              "      <td>NaN</td>\n",
              "      <td>0</td>\n",
              "      <td>2022-03-10 16:21:34.843277</td>\n",
              "    </tr>\n",
              "    <tr>\n",
              "      <th>4643612</th>\n",
              "      <td>1110814508992344064</td>\n",
              "      <td>TeemuTukimies</td>\n",
              "      <td>NaN</td>\n",
              "      <td>NaN</td>\n",
              "      <td>580</td>\n",
              "      <td>476</td>\n",
              "      <td>44108</td>\n",
              "      <td>2019-03-27 08:03:11.000000</td>\n",
              "      <td>1501781384792264708</td>\n",
              "      <td>2022-03-10 04:45:58</td>\n",
              "      <td>1</td>\n",
              "      <td>@veronikahonka Ai niinkuin entinen tyttö oli v...</td>\n",
              "      <td>[{'text': 'NATO', 'indices': [114, 119]}]</td>\n",
              "      <td>fi</td>\n",
              "      <td>NaN</td>\n",
              "      <td>0</td>\n",
              "      <td>2022-03-10 04:54:17.367254</td>\n",
              "    </tr>\n",
              "    <tr>\n",
              "      <th>4795783</th>\n",
              "      <td>717092348</td>\n",
              "      <td>AndreaTiberio7</td>\n",
              "      <td>Senza conflitto non si progredisce. Senza conf...</td>\n",
              "      <td>NaN</td>\n",
              "      <td>1905</td>\n",
              "      <td>2515</td>\n",
              "      <td>8208</td>\n",
              "      <td>2012-07-26 00:57:10.000000</td>\n",
              "      <td>1501900151903899653</td>\n",
              "      <td>2022-03-10 12:37:54</td>\n",
              "      <td>0</td>\n",
              "      <td>Ma tutti quelli che criticano #Zelensky per no...</td>\n",
              "      <td>[{'text': 'Zelensky', 'indices': [30, 39]}, {'...</td>\n",
              "      <td>it</td>\n",
              "      <td>NaN</td>\n",
              "      <td>1</td>\n",
              "      <td>2022-03-10 12:39:52.701083</td>\n",
              "    </tr>\n",
              "  </tbody>\n",
              "</table>\n",
              "</div>\n",
              "      <button class=\"colab-df-convert\" onclick=\"convertToInteractive('df-9a2149ac-ccdb-410a-a7f3-85cb26e0d488')\"\n",
              "              title=\"Convert this dataframe to an interactive table.\"\n",
              "              style=\"display:none;\">\n",
              "        \n",
              "  <svg xmlns=\"http://www.w3.org/2000/svg\" height=\"24px\"viewBox=\"0 0 24 24\"\n",
              "       width=\"24px\">\n",
              "    <path d=\"M0 0h24v24H0V0z\" fill=\"none\"/>\n",
              "    <path d=\"M18.56 5.44l.94 2.06.94-2.06 2.06-.94-2.06-.94-.94-2.06-.94 2.06-2.06.94zm-11 1L8.5 8.5l.94-2.06 2.06-.94-2.06-.94L8.5 2.5l-.94 2.06-2.06.94zm10 10l.94 2.06.94-2.06 2.06-.94-2.06-.94-.94-2.06-.94 2.06-2.06.94z\"/><path d=\"M17.41 7.96l-1.37-1.37c-.4-.4-.92-.59-1.43-.59-.52 0-1.04.2-1.43.59L10.3 9.45l-7.72 7.72c-.78.78-.78 2.05 0 2.83L4 21.41c.39.39.9.59 1.41.59.51 0 1.02-.2 1.41-.59l7.78-7.78 2.81-2.81c.8-.78.8-2.07 0-2.86zM5.41 20L4 18.59l7.72-7.72 1.47 1.35L5.41 20z\"/>\n",
              "  </svg>\n",
              "      </button>\n",
              "      \n",
              "  <style>\n",
              "    .colab-df-container {\n",
              "      display:flex;\n",
              "      flex-wrap:wrap;\n",
              "      gap: 12px;\n",
              "    }\n",
              "\n",
              "    .colab-df-convert {\n",
              "      background-color: #E8F0FE;\n",
              "      border: none;\n",
              "      border-radius: 50%;\n",
              "      cursor: pointer;\n",
              "      display: none;\n",
              "      fill: #1967D2;\n",
              "      height: 32px;\n",
              "      padding: 0 0 0 0;\n",
              "      width: 32px;\n",
              "    }\n",
              "\n",
              "    .colab-df-convert:hover {\n",
              "      background-color: #E2EBFA;\n",
              "      box-shadow: 0px 1px 2px rgba(60, 64, 67, 0.3), 0px 1px 3px 1px rgba(60, 64, 67, 0.15);\n",
              "      fill: #174EA6;\n",
              "    }\n",
              "\n",
              "    [theme=dark] .colab-df-convert {\n",
              "      background-color: #3B4455;\n",
              "      fill: #D2E3FC;\n",
              "    }\n",
              "\n",
              "    [theme=dark] .colab-df-convert:hover {\n",
              "      background-color: #434B5C;\n",
              "      box-shadow: 0px 1px 3px 1px rgba(0, 0, 0, 0.15);\n",
              "      filter: drop-shadow(0px 1px 2px rgba(0, 0, 0, 0.3));\n",
              "      fill: #FFFFFF;\n",
              "    }\n",
              "  </style>\n",
              "\n",
              "      <script>\n",
              "        const buttonEl =\n",
              "          document.querySelector('#df-9a2149ac-ccdb-410a-a7f3-85cb26e0d488 button.colab-df-convert');\n",
              "        buttonEl.style.display =\n",
              "          google.colab.kernel.accessAllowed ? 'block' : 'none';\n",
              "\n",
              "        async function convertToInteractive(key) {\n",
              "          const element = document.querySelector('#df-9a2149ac-ccdb-410a-a7f3-85cb26e0d488');\n",
              "          const dataTable =\n",
              "            await google.colab.kernel.invokeFunction('convertToInteractive',\n",
              "                                                     [key], {});\n",
              "          if (!dataTable) return;\n",
              "\n",
              "          const docLinkHtml = 'Like what you see? Visit the ' +\n",
              "            '<a target=\"_blank\" href=https://colab.research.google.com/notebooks/data_table.ipynb>data table notebook</a>'\n",
              "            + ' to learn more about interactive tables.';\n",
              "          element.innerHTML = '';\n",
              "          dataTable['output_type'] = 'display_data';\n",
              "          await google.colab.output.renderOutput(dataTable, element);\n",
              "          const docLink = document.createElement('div');\n",
              "          docLink.innerHTML = docLinkHtml;\n",
              "          element.appendChild(docLink);\n",
              "        }\n",
              "      </script>\n",
              "    </div>\n",
              "  </div>\n",
              "  "
            ],
            "text/plain": [
              "                      userid        username  \\\n",
              "4808434           2462530824   idntwannabeu_   \n",
              "4912399  1261199216157876225    MichaelPitz1   \n",
              "4866540   820344569527226370       upchuck66   \n",
              "4643612  1110814508992344064   TeemuTukimies   \n",
              "4795783            717092348  AndreaTiberio7   \n",
              "\n",
              "                                                  acctdesc  \\\n",
              "4808434  ♡ @_chowoodz🧡💙✦ @treasuremembers 💎✨ • YG STAN ...   \n",
              "4912399                                Reisebusunternehmen   \n",
              "4866540  Democracy isn’t just on the ballot this time, ...   \n",
              "4643612                                                NaN   \n",
              "4795783  Senza conflitto non si progredisce. Senza conf...   \n",
              "\n",
              "                               location  following  followers  totaltweets  \\\n",
              "4808434     แอคหลุมหวีดพิยอน • อนิเมะ💥🐾        391          7         1035   \n",
              "4912399  Offenbach am Main, Deutschland         88         31          650   \n",
              "4866540                             NaN       2517       1834       463294   \n",
              "4643612                             NaN        580        476        44108   \n",
              "4795783                             NaN       1905       2515         8208   \n",
              "\n",
              "                      usercreatedts              tweetid       tweetcreatedts  \\\n",
              "4808434  2014-04-25 02:27:51.000000  1501910519715799041  2022-03-10 13:19:06   \n",
              "4912399  2020-05-15 07:38:31.000000  1501988599075643395  2022-03-10 18:29:22   \n",
              "4866540  2017-01-14 18:59:21.000000  1501954152624275456  2022-03-10 16:12:29   \n",
              "4643612  2019-03-27 08:03:11.000000  1501781384792264708  2022-03-10 04:45:58   \n",
              "4795783  2012-07-26 00:57:10.000000  1501900151903899653  2022-03-10 12:37:54   \n",
              "\n",
              "         retweetcount                                               text  \\\n",
              "4808434         92204  เด็กชายตัวน้อยๆคนนี้ เดินร้องไห้ หนีสงครามจากย...   \n",
              "4912399           676  Wir dürfen nicht schon wieder naiv werden. #Pu...   \n",
              "4866540            91  In 2014, I addressed the brave #Ukrainian peop...   \n",
              "4643612             1  @veronikahonka Ai niinkuin entinen tyttö oli v...   \n",
              "4795783             0  Ma tutti quelli che criticano #Zelensky per no...   \n",
              "\n",
              "                                                  hashtags language  \\\n",
              "4808434                                                 []       th   \n",
              "4912399           [{'text': 'Putin', 'indices': [59, 65]}]       de   \n",
              "4866540  [{'text': 'Ukrainian', 'indices': [40, 50]}, {...       en   \n",
              "4643612          [{'text': 'NATO', 'indices': [114, 119]}]       fi   \n",
              "4795783  [{'text': 'Zelensky', 'indices': [30, 39]}, {'...       it   \n",
              "\n",
              "        coordinates  favorite_count                 extractedts  \n",
              "4808434         NaN               0  2022-03-10 13:21:47.637511  \n",
              "4912399         NaN               0  2022-03-10 18:36:47.595256  \n",
              "4866540         NaN               0  2022-03-10 16:21:34.843277  \n",
              "4643612         NaN               0  2022-03-10 04:54:17.367254  \n",
              "4795783         NaN               1  2022-03-10 12:39:52.701083  "
            ]
          },
          "metadata": {},
          "execution_count": 55
        }
      ]
    },
    {
      "cell_type": "code",
      "source": [
        "groupByLocdf = reduceddf.groupby(['location'])['tweetid'].count() # SELECT location, COUNT(tweetid) FROM reduceddf GROUP BY location"
      ],
      "metadata": {
        "colab": {
          "base_uri": "https://localhost:8080/"
        },
        "id": "_Ykfe8DLhuJL",
        "outputId": "d0724e4c-d8f4-4fa7-fc06-44c5fd989d69"
      },
      "execution_count": 41,
      "outputs": [
        {
          "output_type": "execute_result",
          "data": {
            "text/plain": [
              "location\n",
              "404 location not found    1\n",
              "47.973906, 38.763963      1\n",
              "Aeroship Iditarod         1\n",
              "Anjou, Montréal           1\n",
              "Ballantrae, Scotland      1\n",
              "Name: tweetid, dtype: int64"
            ]
          },
          "metadata": {},
          "execution_count": 41
        }
      ]
    },
    {
      "cell_type": "code",
      "source": [
        "def put_markers(map, df):\n",
        "    geo_locator = Nominatim()\n",
        "    for index, row in df.iterrows():\n",
        "        location = row['location']\n",
        "        if location:\n",
        "            try:\n",
        "                location = geo_locator.geocode(location)\n",
        "            except GeocoderTimedOut:\n",
        "                continue\n",
        "            if location:\n",
        "                folium.Marker([location.latitude, location.longitude], popup = row['location']).add_to(map)"
      ],
      "metadata": {
        "id": "xjvqYN0Mkrw4"
      },
      "execution_count": 56,
      "outputs": []
    },
    {
      "cell_type": "code",
      "source": [
        "map = folium.Map(location=[0, 0], zoom_start=2)\n",
        "#groupByLocdf = groupByLocdf.reset_index()\n",
        "put_markers(map, groupByLocdf)\n",
        "map.save(\"index.html\")"
      ],
      "metadata": {
        "colab": {
          "base_uri": "https://localhost:8080/"
        },
        "id": "kRxKHIGmmyVq",
        "outputId": "2b5c500f-62b8-47c9-b731-3f0384c72098"
      },
      "execution_count": 58,
      "outputs": [
        {
          "output_type": "stream",
          "name": "stderr",
          "text": [
            "/usr/local/lib/python3.7/dist-packages/geopy/geocoders/osm.py:143: UserWarning: Using Nominatim with the default \"geopy/1.17.0\" `user_agent` is strongly discouraged, as it violates Nominatim's ToS https://operations.osmfoundation.org/policies/nominatim/ and may possibly cause 403 and 429 HTTP errors. Please specify a custom `user_agent` with `Nominatim(user_agent=\"my-application\")` or by overriding the default `user_agent`: `geopy.geocoders.options.default_user_agent = \"my-application\"`. In geopy 2.0 this will become an exception.\n",
            "  UserWarning\n"
          ]
        }
      ]
    }
  ]
}