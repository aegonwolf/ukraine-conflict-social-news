{
 "cells": [
  {
   "cell_type": "code",
   "execution_count": 18,
   "id": "83a074ee",
   "metadata": {
    "ExecuteTime": {
     "end_time": "2022-03-10T20:01:50.036058Z",
     "start_time": "2022-03-10T20:01:50.017207Z"
    }
   },
   "outputs": [],
   "source": [
    "from collections import defaultdict\n",
    "from matplotlib import pyplot as plt\n",
    "\n",
    "import os\n",
    "import re\n",
    "import networkx as nx\n",
    "import numpy as np\n",
    "import pandas as pd"
   ]
  },
  {
   "cell_type": "code",
   "execution_count": 2,
   "id": "df8b1033",
   "metadata": {
    "ExecuteTime": {
     "end_time": "2022-03-10T19:49:52.415734Z",
     "start_time": "2022-03-10T19:49:18.434122Z"
    }
   },
   "outputs": [
    {
     "name": "stderr",
     "output_type": "stream",
     "text": [
      "C:\\Users\\Flo\\AppData\\Local\\Temp\\ipykernel_16592\\3839880814.py:1: DtypeWarning: Columns (15) have mixed types. Specify dtype option on import or set low_memory=False.\n",
      "  df = pd.read_csv(\n"
     ]
    },
    {
     "data": {
      "text/html": [
       "<div>\n",
       "<style scoped>\n",
       "    .dataframe tbody tr th:only-of-type {\n",
       "        vertical-align: middle;\n",
       "    }\n",
       "\n",
       "    .dataframe tbody tr th {\n",
       "        vertical-align: top;\n",
       "    }\n",
       "\n",
       "    .dataframe thead th {\n",
       "        text-align: right;\n",
       "    }\n",
       "</style>\n",
       "<table border=\"1\" class=\"dataframe\">\n",
       "  <thead>\n",
       "    <tr style=\"text-align: right;\">\n",
       "      <th></th>\n",
       "      <th>userid</th>\n",
       "      <th>username</th>\n",
       "      <th>acctdesc</th>\n",
       "      <th>location</th>\n",
       "      <th>following</th>\n",
       "      <th>followers</th>\n",
       "      <th>totaltweets</th>\n",
       "      <th>usercreatedts</th>\n",
       "      <th>tweetid</th>\n",
       "      <th>tweetcreatedts</th>\n",
       "      <th>retweetcount</th>\n",
       "      <th>text</th>\n",
       "      <th>hashtags</th>\n",
       "      <th>language</th>\n",
       "      <th>coordinates</th>\n",
       "      <th>favorite_count</th>\n",
       "      <th>extractedts</th>\n",
       "    </tr>\n",
       "  </thead>\n",
       "  <tbody>\n",
       "    <tr>\n",
       "      <th>0</th>\n",
       "      <td>962369743</td>\n",
       "      <td>toonspt_</td>\n",
       "      <td>พยรลก 😉\\nจะเปิดแอคเมื่อขายของเท่านั้น!!</td>\n",
       "      <td>NaN</td>\n",
       "      <td>462</td>\n",
       "      <td>7</td>\n",
       "      <td>20549</td>\n",
       "      <td>2012-11-21 13:01:19.000000</td>\n",
       "      <td>1496738675085897729</td>\n",
       "      <td>2022-02-24 06:48:02.000000</td>\n",
       "      <td>1897</td>\n",
       "      <td>Footage of the airport bombing in Ivano-Franki...</td>\n",
       "      <td>[{'text': 'Ukraine', 'indices': [68, 76]}, {'t...</td>\n",
       "      <td>en</td>\n",
       "      <td>NaN</td>\n",
       "      <td>0</td>\n",
       "      <td>2022-02-24 06:51:34.430620</td>\n",
       "    </tr>\n",
       "    <tr>\n",
       "      <th>1</th>\n",
       "      <td>865846412755353600</td>\n",
       "      <td>SabrinaBbsmith</td>\n",
       "      <td>อ้ายคือปริญญาใจน้องจึงยิ้มได้วันนี้ #สมรสเท่าเ...</td>\n",
       "      <td>Just go for it</td>\n",
       "      <td>385</td>\n",
       "      <td>503</td>\n",
       "      <td>84016</td>\n",
       "      <td>2017-05-20 08:27:26.000000</td>\n",
       "      <td>1496738675140538368</td>\n",
       "      <td>2022-02-24 06:48:02.000000</td>\n",
       "      <td>3534</td>\n",
       "      <td>12.37 น. เจมส์ วอเตอร์เฮาส์ ผู้สื่อข่าว BBC ใน...</td>\n",
       "      <td>[]</td>\n",
       "      <td>th</td>\n",
       "      <td>NaN</td>\n",
       "      <td>0</td>\n",
       "      <td>2022-02-24 06:51:34.421428</td>\n",
       "    </tr>\n",
       "    <tr>\n",
       "      <th>2</th>\n",
       "      <td>1927022036</td>\n",
       "      <td>haleggwenn</td>\n",
       "      <td>Mathe &amp; Kulturanthropologie • Feminismus, Anti...</td>\n",
       "      <td>Göttingen, Germany</td>\n",
       "      <td>251</td>\n",
       "      <td>51</td>\n",
       "      <td>78</td>\n",
       "      <td>2013-10-02 14:19:01.000000</td>\n",
       "      <td>1496738675522248706</td>\n",
       "      <td>2022-02-24 06:48:02.000000</td>\n",
       "      <td>0</td>\n",
       "      <td>Die Rede von #Putin ist echt gruselig:\\n\"Russl...</td>\n",
       "      <td>[{'text': 'Putin', 'indices': [13, 19]}, {'tex...</td>\n",
       "      <td>de</td>\n",
       "      <td>NaN</td>\n",
       "      <td>0</td>\n",
       "      <td>2022-02-24 06:51:34.412324</td>\n",
       "    </tr>\n",
       "    <tr>\n",
       "      <th>3</th>\n",
       "      <td>1073676020</td>\n",
       "      <td>IndiaTodayFLASH</td>\n",
       "      <td>No dragging feet on news. Crisp &amp; short news s...</td>\n",
       "      <td>NaN</td>\n",
       "      <td>117</td>\n",
       "      <td>1152610</td>\n",
       "      <td>589066</td>\n",
       "      <td>2013-01-09 12:46:38.000000</td>\n",
       "      <td>1496738675584954371</td>\n",
       "      <td>2022-02-24 06:48:02.000000</td>\n",
       "      <td>18</td>\n",
       "      <td>Ukraine MP Sophia Fedyna tells about the groun...</td>\n",
       "      <td>[{'text': 'ITVideo', 'indices': [130, 138]}]</td>\n",
       "      <td>en</td>\n",
       "      <td>NaN</td>\n",
       "      <td>0</td>\n",
       "      <td>2022-02-24 06:51:34.403108</td>\n",
       "    </tr>\n",
       "    <tr>\n",
       "      <th>4</th>\n",
       "      <td>1484119658488033281</td>\n",
       "      <td>sandsand_fight</td>\n",
       "      <td>NaN</td>\n",
       "      <td>NaN</td>\n",
       "      <td>128</td>\n",
       "      <td>3</td>\n",
       "      <td>691</td>\n",
       "      <td>2022-01-20 11:05:01.000000</td>\n",
       "      <td>1496738675710857224</td>\n",
       "      <td>2022-02-24 06:48:03.000000</td>\n",
       "      <td>3974</td>\n",
       "      <td>รัสเซียยิงขีปนาวุธรัวๆไปยังยูเครน\\n#รัสเซียยูเ...</td>\n",
       "      <td>[{'text': 'รัสเซียยูเครน', 'indices': [50, 64]...</td>\n",
       "      <td>th</td>\n",
       "      <td>NaN</td>\n",
       "      <td>0</td>\n",
       "      <td>2022-02-24 06:51:34.393984</td>\n",
       "    </tr>\n",
       "  </tbody>\n",
       "</table>\n",
       "</div>"
      ],
      "text/plain": [
       "                userid         username  \\\n",
       "0            962369743         toonspt_   \n",
       "1   865846412755353600   SabrinaBbsmith   \n",
       "2           1927022036       haleggwenn   \n",
       "3           1073676020  IndiaTodayFLASH   \n",
       "4  1484119658488033281   sandsand_fight   \n",
       "\n",
       "                                            acctdesc            location  \\\n",
       "0            พยรลก 😉\\nจะเปิดแอคเมื่อขายของเท่านั้น!!                 NaN   \n",
       "1  อ้ายคือปริญญาใจน้องจึงยิ้มได้วันนี้ #สมรสเท่าเ...      Just go for it   \n",
       "2  Mathe & Kulturanthropologie • Feminismus, Anti...  Göttingen, Germany   \n",
       "3  No dragging feet on news. Crisp & short news s...                 NaN   \n",
       "4                                                NaN                 NaN   \n",
       "\n",
       "   following  followers  totaltweets               usercreatedts  \\\n",
       "0        462          7        20549  2012-11-21 13:01:19.000000   \n",
       "1        385        503        84016  2017-05-20 08:27:26.000000   \n",
       "2        251         51           78  2013-10-02 14:19:01.000000   \n",
       "3        117    1152610       589066  2013-01-09 12:46:38.000000   \n",
       "4        128          3          691  2022-01-20 11:05:01.000000   \n",
       "\n",
       "               tweetid              tweetcreatedts  retweetcount  \\\n",
       "0  1496738675085897729  2022-02-24 06:48:02.000000          1897   \n",
       "1  1496738675140538368  2022-02-24 06:48:02.000000          3534   \n",
       "2  1496738675522248706  2022-02-24 06:48:02.000000             0   \n",
       "3  1496738675584954371  2022-02-24 06:48:02.000000            18   \n",
       "4  1496738675710857224  2022-02-24 06:48:03.000000          3974   \n",
       "\n",
       "                                                text  \\\n",
       "0  Footage of the airport bombing in Ivano-Franki...   \n",
       "1  12.37 น. เจมส์ วอเตอร์เฮาส์ ผู้สื่อข่าว BBC ใน...   \n",
       "2  Die Rede von #Putin ist echt gruselig:\\n\"Russl...   \n",
       "3  Ukraine MP Sophia Fedyna tells about the groun...   \n",
       "4  รัสเซียยิงขีปนาวุธรัวๆไปยังยูเครน\\n#รัสเซียยูเ...   \n",
       "\n",
       "                                            hashtags language coordinates  \\\n",
       "0  [{'text': 'Ukraine', 'indices': [68, 76]}, {'t...       en         NaN   \n",
       "1                                                 []       th         NaN   \n",
       "2  [{'text': 'Putin', 'indices': [13, 19]}, {'tex...       de         NaN   \n",
       "3       [{'text': 'ITVideo', 'indices': [130, 138]}]       en         NaN   \n",
       "4  [{'text': 'รัสเซียยูเครน', 'indices': [50, 64]...       th         NaN   \n",
       "\n",
       "   favorite_count                 extractedts  \n",
       "0               0  2022-02-24 06:51:34.430620  \n",
       "1               0  2022-02-24 06:51:34.421428  \n",
       "2               0  2022-02-24 06:51:34.412324  \n",
       "3               0  2022-02-24 06:51:34.403108  \n",
       "4               0  2022-02-24 06:51:34.393984  "
      ]
     },
     "execution_count": 2,
     "metadata": {},
     "output_type": "execute_result"
    }
   ],
   "source": [
    "df = pd.read_csv(\n",
    "    \"archive/UkraineCombinedTweetsDeduped20220227-131611.csv.gzip\", \n",
    "    compression=\"gzip\",\n",
    "    index_col=\"Unnamed: 0\"\n",
    ")\n",
    "df.head()"
   ]
  },
  {
   "cell_type": "code",
   "execution_count": 3,
   "id": "4a1ab4f9",
   "metadata": {
    "ExecuteTime": {
     "end_time": "2022-03-10T19:50:03.215418Z",
     "start_time": "2022-03-10T19:49:52.419029Z"
    }
   },
   "outputs": [
    {
     "data": {
      "text/plain": [
       "0                       [Ukraine, Russia]\n",
       "1                                      []\n",
       "2                        [Putin, Ukraine]\n",
       "3                               [ITVideo]\n",
       "4    [RussiaUkraine, UkraineRussiaCrisis]\n",
       "Name: hashtags, dtype: object"
      ]
     },
     "execution_count": 3,
     "metadata": {},
     "output_type": "execute_result"
    }
   ],
   "source": [
    "def extract_ht(string):\n",
    "    \"\"\" Extract hashtag from stringified list \"\"\"\n",
    "    return re.findall(r\"(?<=[\\\"\\']text[\\\"\\']: [\\\"\\'])\\w+(?=[\\\"\\'],)\", string)\n",
    "\n",
    "df['hashtags'] = df['hashtags'].apply(extract_ht)\n",
    "df['hashtags'].head()"
   ]
  },
  {
   "cell_type": "markdown",
   "id": "e88897f7",
   "metadata": {},
   "source": [
    "# Basic exploration"
   ]
  },
  {
   "cell_type": "code",
   "execution_count": 4,
   "id": "4d11a39b",
   "metadata": {
    "ExecuteTime": {
     "end_time": "2022-03-10T19:50:03.230771Z",
     "start_time": "2022-03-10T19:50:03.220730Z"
    }
   },
   "outputs": [],
   "source": [
    "def explore(col: str):\n",
    "    \"\"\" Shows basic stats and plots histogram \"\"\"\n",
    "    print(df[col].describe())\n",
    "    df[col].hist(log=True, bins=20)\n",
    "    plt.show()"
   ]
  },
  {
   "cell_type": "code",
   "execution_count": 5,
   "id": "bd790753",
   "metadata": {
    "ExecuteTime": {
     "end_time": "2022-03-10T19:50:04.695556Z",
     "start_time": "2022-03-10T19:50:03.234855Z"
    }
   },
   "outputs": [
    {
     "name": "stdout",
     "output_type": "stream",
     "text": [
      "count    1.229349e+06\n",
      "mean     4.434949e+04\n",
      "std      1.082518e+05\n",
      "min      0.000000e+00\n",
      "25%      1.223000e+03\n",
      "50%      8.518000e+03\n",
      "75%      3.914100e+04\n",
      "max      4.238289e+06\n",
      "Name: totaltweets, dtype: float64\n"
     ]
    },
    {
     "data": {
      "image/png": "[encoded data removed]",
      "text/plain": [
       "<Figure size 432x288 with 1 Axes>"
      ]
     },
     "metadata": {
      "needs_background": "light"
     },
     "output_type": "display_data"
    }
   ],
   "source": [
    "explore('totaltweets')"
   ]
  },
  {
   "cell_type": "code",
   "execution_count": 6,
   "id": "4b64f160",
   "metadata": {
    "ExecuteTime": {
     "end_time": "2022-03-10T19:50:05.715548Z",
     "start_time": "2022-03-10T19:50:04.699933Z"
    }
   },
   "outputs": [
    {
     "name": "stdout",
     "output_type": "stream",
     "text": [
      "count    1.229349e+06\n",
      "mean     1.359178e+03\n",
      "std      5.679755e+03\n",
      "min      0.000000e+00\n",
      "25%      1.370000e+02\n",
      "50%      4.330000e+02\n",
      "75%      1.269000e+03\n",
      "max      1.422324e+06\n",
      "Name: following, dtype: float64\n"
     ]
    },
    {
     "data": {
      "image/png": "[encoded data removed]",
      "text/plain": [
       "<Figure size 432x288 with 1 Axes>"
      ]
     },
     "metadata": {
      "needs_background": "light"
     },
     "output_type": "display_data"
    }
   ],
   "source": [
    "explore('following')"
   ]
  },
  {
   "cell_type": "code",
   "execution_count": 7,
   "id": "cb4c35d5",
   "metadata": {
    "ExecuteTime": {
     "end_time": "2022-03-10T19:50:06.759748Z",
     "start_time": "2022-03-10T19:50:05.718167Z"
    }
   },
   "outputs": [
    {
     "name": "stdout",
     "output_type": "stream",
     "text": [
      "count    1.229349e+06\n",
      "mean     9.837248e+03\n",
      "std      2.390025e+05\n",
      "min      0.000000e+00\n",
      "25%      4.500000e+01\n",
      "50%      2.310000e+02\n",
      "75%      9.890000e+02\n",
      "max      1.750050e+07\n",
      "Name: followers, dtype: float64\n"
     ]
    },
    {
     "data": {
      "image/png": "[encoded data removed]",
      "text/plain": [
       "<Figure size 432x288 with 1 Axes>"
      ]
     },
     "metadata": {
      "needs_background": "light"
     },
     "output_type": "display_data"
    }
   ],
   "source": [
    "explore('followers')"
   ]
  },
  {
   "cell_type": "code",
   "execution_count": 8,
   "id": "3703ad0b",
   "metadata": {
    "ExecuteTime": {
     "end_time": "2022-03-10T19:50:07.548830Z",
     "start_time": "2022-03-10T19:50:06.761772Z"
    }
   },
   "outputs": [
    {
     "name": "stdout",
     "output_type": "stream",
     "text": [
      "count    1.229349e+06\n",
      "mean     3.430804e+03\n",
      "std      1.327360e+04\n",
      "min      0.000000e+00\n",
      "25%      3.000000e+00\n",
      "50%      6.300000e+01\n",
      "75%      6.790000e+02\n",
      "max      1.339370e+05\n",
      "Name: retweetcount, dtype: float64\n"
     ]
    },
    {
     "data": {
      "image/png": "[encoded data removed]",
      "text/plain": [
       "<Figure size 432x288 with 1 Axes>"
      ]
     },
     "metadata": {
      "needs_background": "light"
     },
     "output_type": "display_data"
    }
   ],
   "source": [
    "explore('retweetcount')"
   ]
  },
  {
   "cell_type": "markdown",
   "id": "0feaa1a5",
   "metadata": {},
   "source": [
    "## Scatter plots"
   ]
  },
  {
   "cell_type": "code",
   "execution_count": null,
   "id": "effc0b87",
   "metadata": {},
   "outputs": [],
   "source": [
    "def plot_scatter(x: str, y: str):\n",
    "    \"\"\" Plots scatter plot \"\"\"\n",
    "    df.plot.scatter(x, y, logx=True, logy=True, alpha=.3)"
   ]
  },
  {
   "cell_type": "code",
   "execution_count": 9,
   "id": "4f0c7fac",
   "metadata": {
    "ExecuteTime": {
     "end_time": "2022-03-10T19:50:14.648274Z",
     "start_time": "2022-03-10T19:50:07.553816Z"
    }
   },
   "outputs": [
    {
     "data": {
      "text/plain": [
       "<AxesSubplot:xlabel='totaltweets', ylabel='following'>"
      ]
     },
     "execution_count": 9,
     "metadata": {},
     "output_type": "execute_result"
    },
    {
     "data": {
      "image/png": "[encoded data removed]",
      "text/plain": [
       "<Figure size 432x288 with 1 Axes>"
      ]
     },
     "metadata": {
      "needs_background": "light"
     },
     "output_type": "display_data"
    }
   ],
   "source": [
    "plot_scatter('totaltweets', 'following')"
   ]
  },
  {
   "cell_type": "code",
   "execution_count": 9,
   "id": "d1696b72",
   "metadata": {
    "ExecuteTime": {
     "end_time": "2022-03-10T19:50:14.648274Z",
     "start_time": "2022-03-10T19:50:07.553816Z"
    }
   },
   "outputs": [
    {
     "data": {
      "text/plain": [
       "<AxesSubplot:xlabel='totaltweets', ylabel='following'>"
      ]
     },
     "execution_count": 9,
     "metadata": {},
     "output_type": "execute_result"
    },
    {
     "data": {
      "image/png": "[encoded data removed]",
      "text/plain": [
       "<Figure size 432x288 with 1 Axes>"
      ]
     },
     "metadata": {
      "needs_background": "light"
     },
     "output_type": "display_data"
    }
   ],
   "source": [
    "plot_scatter('totaltweets', 'followers')"
   ]
  },
  {
   "cell_type": "code",
   "execution_count": 9,
   "id": "9a35ef5d",
   "metadata": {
    "ExecuteTime": {
     "end_time": "2022-03-10T19:50:14.648274Z",
     "start_time": "2022-03-10T19:50:07.553816Z"
    }
   },
   "outputs": [
    {
     "data": {
      "text/plain": [
       "<AxesSubplot:xlabel='totaltweets', ylabel='following'>"
      ]
     },
     "execution_count": 9,
     "metadata": {},
     "output_type": "execute_result"
    },
    {
     "data": {
      "image/png": "[encoded data removed]",
      "text/plain": [
       "<Figure size 432x288 with 1 Axes>"
      ]
     },
     "metadata": {
      "needs_background": "light"
     },
     "output_type": "display_data"
    }
   ],
   "source": [
    "plot_scatter('totaltweets', 'retweetcount')"
   ]
  },
  {
   "cell_type": "markdown",
   "id": "efe976c0",
   "metadata": {},
   "source": [
    "\n",
    "# Hashtags"
   ]
  },
  {
   "cell_type": "code",
   "execution_count": 12,
   "id": "f07de552",
   "metadata": {
    "ExecuteTime": {
     "end_time": "2022-03-10T19:50:30.606756Z",
     "start_time": "2022-03-10T19:50:28.747140Z"
    }
   },
   "outputs": [],
   "source": [
    "counter = defaultdict(int)\n",
    "for hashtags in df['hashtags']:\n",
    "    for hashtag in hashtags:\n",
    "        counter[hashtag] += 1\n",
    "counter = pd.Series(counter)"
   ]
  },
  {
   "cell_type": "code",
   "execution_count": 13,
   "id": "fc4438f9",
   "metadata": {
    "ExecuteTime": {
     "end_time": "2022-03-10T19:50:31.662542Z",
     "start_time": "2022-03-10T19:50:30.611563Z"
    }
   },
   "outputs": [
    {
     "name": "stdout",
     "output_type": "stream",
     "text": [
      "count     68148.000000\n",
      "mean         35.598976\n",
      "std        2039.913312\n",
      "min           1.000000\n",
      "25%           1.000000\n",
      "50%           1.000000\n",
      "75%           3.000000\n",
      "max      456618.000000\n",
      "dtype: float64\n"
     ]
    },
    {
     "data": {
      "text/plain": [
       "<AxesSubplot:>"
      ]
     },
     "execution_count": 13,
     "metadata": {},
     "output_type": "execute_result"
    },
    {
     "data": {
      "image/png": "[encoded data removed]",
      "text/plain": [
       "<Figure size 432x288 with 1 Axes>"
      ]
     },
     "metadata": {
      "needs_background": "light"
     },
     "output_type": "display_data"
    }
   ],
   "source": [
    "counter = counter.sort_values(ascending=False)\n",
    "print(counter.describe())\n",
    "counter.iloc[:20].plot.bar(log=True)"
   ]
  },
  {
   "cell_type": "markdown",
   "id": "cb5f6803",
   "metadata": {},
   "source": [
    "## Best hashtags"
   ]
  },
  {
   "cell_type": "code",
   "execution_count": 14,
   "id": "15f46d28",
   "metadata": {
    "ExecuteTime": {
     "end_time": "2022-03-10T19:50:31.678670Z",
     "start_time": "2022-03-10T19:50:31.666180Z"
    }
   },
   "outputs": [],
   "source": [
    "top = 100\n",
    "best_ht = counter.iloc[:top]"
   ]
  },
  {
   "cell_type": "code",
   "execution_count": 25,
   "id": "2e484ffc",
   "metadata": {
    "ExecuteTime": {
     "end_time": "2022-03-10T20:04:08.740928Z",
     "start_time": "2022-03-10T20:04:08.703844Z"
    }
   },
   "outputs": [
    {
     "data": {
      "text/html": [
       "<div>\n",
       "<style scoped>\n",
       "    .dataframe tbody tr th:only-of-type {\n",
       "        vertical-align: middle;\n",
       "    }\n",
       "\n",
       "    .dataframe tbody tr th {\n",
       "        vertical-align: top;\n",
       "    }\n",
       "\n",
       "    .dataframe thead th {\n",
       "        text-align: right;\n",
       "    }\n",
       "</style>\n",
       "<table border=\"1\" class=\"dataframe\">\n",
       "  <thead>\n",
       "    <tr style=\"text-align: right;\">\n",
       "      <th></th>\n",
       "      <th>Ukraine</th>\n",
       "      <th>Russia</th>\n",
       "      <th>Putin</th>\n",
       "      <th>UkraineRussia</th>\n",
       "      <th>Kyiv</th>\n",
       "      <th>RussiaUkraineConflict</th>\n",
       "      <th>RussiaUkraineWar</th>\n",
       "      <th>WWIII</th>\n",
       "      <th>worldwar3</th>\n",
       "      <th>UkraineUnderAttack</th>\n",
       "      <th>...</th>\n",
       "      <th>War</th>\n",
       "      <th>Swift</th>\n",
       "      <th>Germany</th>\n",
       "      <th>OpRussia</th>\n",
       "      <th>Taiwan</th>\n",
       "      <th>Guerra</th>\n",
       "      <th>URGENTE</th>\n",
       "      <th>India</th>\n",
       "      <th>Donbass</th>\n",
       "      <th>แตงโม</th>\n",
       "    </tr>\n",
       "  </thead>\n",
       "  <tbody>\n",
       "    <tr>\n",
       "      <th>Ukraine</th>\n",
       "      <td>0</td>\n",
       "      <td>117482</td>\n",
       "      <td>39418</td>\n",
       "      <td>20820</td>\n",
       "      <td>22221</td>\n",
       "      <td>20135</td>\n",
       "      <td>11725</td>\n",
       "      <td>7270</td>\n",
       "      <td>10934</td>\n",
       "      <td>15231</td>\n",
       "      <td>...</td>\n",
       "      <td>2057</td>\n",
       "      <td>1370</td>\n",
       "      <td>936</td>\n",
       "      <td>1176</td>\n",
       "      <td>1630</td>\n",
       "      <td>363</td>\n",
       "      <td>472</td>\n",
       "      <td>1283</td>\n",
       "      <td>1383</td>\n",
       "      <td>941</td>\n",
       "    </tr>\n",
       "    <tr>\n",
       "      <th>Russia</th>\n",
       "      <td>117482</td>\n",
       "      <td>0</td>\n",
       "      <td>18353</td>\n",
       "      <td>9068</td>\n",
       "      <td>14809</td>\n",
       "      <td>17531</td>\n",
       "      <td>5021</td>\n",
       "      <td>4193</td>\n",
       "      <td>7273</td>\n",
       "      <td>4971</td>\n",
       "      <td>...</td>\n",
       "      <td>1835</td>\n",
       "      <td>1766</td>\n",
       "      <td>1141</td>\n",
       "      <td>1000</td>\n",
       "      <td>1347</td>\n",
       "      <td>752</td>\n",
       "      <td>568</td>\n",
       "      <td>1289</td>\n",
       "      <td>1087</td>\n",
       "      <td>97</td>\n",
       "    </tr>\n",
       "    <tr>\n",
       "      <th>Putin</th>\n",
       "      <td>39418</td>\n",
       "      <td>18353</td>\n",
       "      <td>0</td>\n",
       "      <td>6761</td>\n",
       "      <td>3442</td>\n",
       "      <td>10353</td>\n",
       "      <td>2456</td>\n",
       "      <td>9531</td>\n",
       "      <td>9794</td>\n",
       "      <td>2673</td>\n",
       "      <td>...</td>\n",
       "      <td>490</td>\n",
       "      <td>167</td>\n",
       "      <td>313</td>\n",
       "      <td>57</td>\n",
       "      <td>335</td>\n",
       "      <td>629</td>\n",
       "      <td>439</td>\n",
       "      <td>248</td>\n",
       "      <td>430</td>\n",
       "      <td>222</td>\n",
       "    </tr>\n",
       "    <tr>\n",
       "      <th>UkraineRussia</th>\n",
       "      <td>20820</td>\n",
       "      <td>9068</td>\n",
       "      <td>6761</td>\n",
       "      <td>0</td>\n",
       "      <td>2413</td>\n",
       "      <td>4215</td>\n",
       "      <td>6185</td>\n",
       "      <td>1224</td>\n",
       "      <td>3485</td>\n",
       "      <td>8984</td>\n",
       "      <td>...</td>\n",
       "      <td>248</td>\n",
       "      <td>49</td>\n",
       "      <td>89</td>\n",
       "      <td>128</td>\n",
       "      <td>50</td>\n",
       "      <td>130</td>\n",
       "      <td>57</td>\n",
       "      <td>180</td>\n",
       "      <td>71</td>\n",
       "      <td>352</td>\n",
       "    </tr>\n",
       "    <tr>\n",
       "      <th>Kyiv</th>\n",
       "      <td>22221</td>\n",
       "      <td>14809</td>\n",
       "      <td>3442</td>\n",
       "      <td>2413</td>\n",
       "      <td>0</td>\n",
       "      <td>1836</td>\n",
       "      <td>1995</td>\n",
       "      <td>914</td>\n",
       "      <td>1277</td>\n",
       "      <td>2164</td>\n",
       "      <td>...</td>\n",
       "      <td>279</td>\n",
       "      <td>7</td>\n",
       "      <td>65</td>\n",
       "      <td>17</td>\n",
       "      <td>61</td>\n",
       "      <td>39</td>\n",
       "      <td>94</td>\n",
       "      <td>46</td>\n",
       "      <td>196</td>\n",
       "      <td>0</td>\n",
       "    </tr>\n",
       "  </tbody>\n",
       "</table>\n",
       "<p>5 rows × 100 columns</p>\n",
       "</div>"
      ],
      "text/plain": [
       "               Ukraine  Russia  Putin  UkraineRussia   Kyiv  \\\n",
       "Ukraine              0  117482  39418          20820  22221   \n",
       "Russia          117482       0  18353           9068  14809   \n",
       "Putin            39418   18353      0           6761   3442   \n",
       "UkraineRussia    20820    9068   6761              0   2413   \n",
       "Kyiv             22221   14809   3442           2413      0   \n",
       "\n",
       "               RussiaUkraineConflict  RussiaUkraineWar  WWIII  worldwar3  \\\n",
       "Ukraine                        20135             11725   7270      10934   \n",
       "Russia                         17531              5021   4193       7273   \n",
       "Putin                          10353              2456   9531       9794   \n",
       "UkraineRussia                   4215              6185   1224       3485   \n",
       "Kyiv                            1836              1995    914       1277   \n",
       "\n",
       "               UkraineUnderAttack  ...   War  Swift  Germany  OpRussia  \\\n",
       "Ukraine                     15231  ...  2057   1370      936      1176   \n",
       "Russia                       4971  ...  1835   1766     1141      1000   \n",
       "Putin                        2673  ...   490    167      313        57   \n",
       "UkraineRussia                8984  ...   248     49       89       128   \n",
       "Kyiv                         2164  ...   279      7       65        17   \n",
       "\n",
       "               Taiwan  Guerra  URGENTE  India  Donbass  แตงโม  \n",
       "Ukraine          1630     363      472   1283     1383    941  \n",
       "Russia           1347     752      568   1289     1087     97  \n",
       "Putin             335     629      439    248      430    222  \n",
       "UkraineRussia      50     130       57    180       71    352  \n",
       "Kyiv               61      39       94     46      196      0  \n",
       "\n",
       "[5 rows x 100 columns]"
      ]
     },
     "execution_count": 25,
     "metadata": {},
     "output_type": "execute_result"
    }
   ],
   "source": [
    "ht_pair = pd.DataFrame(index=best_ht.index, columns=best_ht.index)\n",
    "ht_pair = ht_pair.fillna(0)\n",
    "\n",
    "for hashtags in df['hashtags']:\n",
    "    hashtags = [ \n",
    "        ht for ht in hashtags\n",
    "        if ht in best_ht.index\n",
    "    ]\n",
    "    \n",
    "    if len(hashtags) > 1:\n",
    "        for i, ht_1 in enumerate(hashtags):\n",
    "            for ht_2 in hashtags[i+1:]:\n",
    "                ht_pair.loc[ht_1, ht_2] += 1\n",
    "                ht_pair.loc[ht_2, ht_1] += 1\n",
    "\n",
    "for i in range(len(best_ht)):\n",
    "    ht_pair.iloc[i, i] = 0\n",
    "ht_pair.head()"
   ]
  },
  {
   "cell_type": "code",
   "execution_count": 26,
   "id": "719d62ad",
   "metadata": {
    "ExecuteTime": {
     "end_time": "2022-03-10T20:04:31.038479Z",
     "start_time": "2022-03-10T20:04:30.540432Z"
    }
   },
   "outputs": [
    {
     "data": {
      "image/png": "[encoded data removed]",
      "text/plain": [
       "<Figure size 432x288 with 1 Axes>"
      ]
     },
     "metadata": {},
     "output_type": "display_data"
    }
   ],
   "source": [
    "G = nx.from_pandas_adjacency(ht_pair)\n",
    "nx.draw(G)"
   ]
  },
  {
   "cell_type": "code",
   "execution_count": null,
   "id": "10b1c5c8",
   "metadata": {},
   "outputs": [],
   "source": []
  }
 ],
 "metadata": {
  "kernelspec": {
   "display_name": "Python 3 (ipykernel)",
   "language": "python",
   "name": "python3"
  },
  "language_info": {
   "codemirror_mode": {
    "name": "ipython",
    "version": 3
   },
   "file_extension": ".py",
   "mimetype": "text/x-python",
   "name": "python",
   "nbconvert_exporter": "python",
   "pygments_lexer": "ipython3",
   "version": "3.9.5"
  },
  "toc": {
   "base_numbering": 1,
   "nav_menu": {},
   "number_sections": true,
   "sideBar": true,
   "skip_h1_title": false,
   "title_cell": "Table of Contents",
   "title_sidebar": "Contents",
   "toc_cell": false,
   "toc_position": {},
   "toc_section_display": true,
   "toc_window_display": false
  },
  "varInspector": {
   "cols": {
    "lenName": 16,
    "lenType": 16,
    "lenVar": 40
   },
   "kernels_config": {
    "python": {
     "delete_cmd_postfix": "",
     "delete_cmd_prefix": "del ",
     "library": "var_list.py",
     "varRefreshCmd": "print(var_dic_list())"
    },
    "r": {
     "delete_cmd_postfix": ") ",
     "delete_cmd_prefix": "rm(",
     "library": "var_list.r",
     "varRefreshCmd": "cat(var_dic_list()) "
    }
   },
   "types_to_exclude": [
    "module",
    "function",
    "builtin_function_or_method",
    "instance",
    "_Feature"
   ],
   "window_display": true
  }
 },
 "nbformat": 4,
 "nbformat_minor": 5
}
