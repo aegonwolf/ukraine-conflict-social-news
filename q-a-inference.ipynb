{
 "cells": [
  {
   "cell_type": "code",
   "execution_count": 1,
   "id": "04d825aa",
   "metadata": {
    "execution": {
     "iopub.execute_input": "2022-03-16T17:14:04.304371Z",
     "iopub.status.busy": "2022-03-16T17:14:04.300437Z",
     "iopub.status.idle": "2022-03-16T17:14:17.406998Z",
     "shell.execute_reply": "2022-03-16T17:14:17.405581Z",
     "shell.execute_reply.started": "2022-03-14T18:36:50.498195Z"
    },
    "papermill": {
     "duration": 13.141318,
     "end_time": "2022-03-16T17:14:17.407219",
     "exception": false,
     "start_time": "2022-03-16T17:14:04.265901",
     "status": "completed"
    },
    "tags": []
   },
   "outputs": [],
   "source": [
    "import os\n",
    "import pandas as pd, numpy as np\n",
    "import matplotlib.pyplot as plt\n",
    "os.environ['TF_CPP_MIN_LOG_LEVEL'] = '3'\n",
    "from transformers import *\n",
    "from datasets import get_dataset_config_names, load_dataset\n",
    "import tqdm.notebook as tqdm"
   ]
  },
  {
   "cell_type": "markdown",
   "id": "e85445ab",
   "metadata": {
    "papermill": {
     "duration": 0.023711,
     "end_time": "2022-03-16T17:14:17.456557",
     "exception": false,
     "start_time": "2022-03-16T17:14:17.432846",
     "status": "completed"
    },
    "tags": []
   },
   "source": [
    "# Load Test"
   ]
  },
  {
   "cell_type": "code",
   "execution_count": 2,
   "id": "7532f0a3",
   "metadata": {
    "execution": {
     "iopub.execute_input": "2022-03-16T17:14:17.506908Z",
     "iopub.status.busy": "2022-03-16T17:14:17.505952Z",
     "iopub.status.idle": "2022-03-16T17:14:17.552857Z",
     "shell.execute_reply": "2022-03-16T17:14:17.553350Z",
     "shell.execute_reply.started": "2022-03-14T18:37:03.141482Z"
    },
    "papermill": {
     "duration": 0.073769,
     "end_time": "2022-03-16T17:14:17.553517",
     "exception": false,
     "start_time": "2022-03-16T17:14:17.479748",
     "status": "completed"
    },
    "tags": []
   },
   "outputs": [
    {
     "data": {
      "text/html": [
       "<div>\n",
       "<style scoped>\n",
       "    .dataframe tbody tr th:only-of-type {\n",
       "        vertical-align: middle;\n",
       "    }\n",
       "\n",
       "    .dataframe tbody tr th {\n",
       "        vertical-align: top;\n",
       "    }\n",
       "\n",
       "    .dataframe thead th {\n",
       "        text-align: right;\n",
       "    }\n",
       "</style>\n",
       "<table border=\"1\" class=\"dataframe\">\n",
       "  <thead>\n",
       "    <tr style=\"text-align: right;\">\n",
       "      <th></th>\n",
       "      <th>id</th>\n",
       "      <th>text</th>\n",
       "    </tr>\n",
       "  </thead>\n",
       "  <tbody>\n",
       "    <tr>\n",
       "      <th>0</th>\n",
       "      <td>0FB0700DAF44</td>\n",
       "      <td>During a group project, have you ever asked a ...</td>\n",
       "    </tr>\n",
       "    <tr>\n",
       "      <th>1</th>\n",
       "      <td>D72CB1C11673</td>\n",
       "      <td>Making choices in life can be very difficult. ...</td>\n",
       "    </tr>\n",
       "    <tr>\n",
       "      <th>2</th>\n",
       "      <td>18409261F5C2</td>\n",
       "      <td>80% of Americans believe seeking multiple opin...</td>\n",
       "    </tr>\n",
       "    <tr>\n",
       "      <th>3</th>\n",
       "      <td>DF920E0A7337</td>\n",
       "      <td>Have you ever asked more than one person for h...</td>\n",
       "    </tr>\n",
       "    <tr>\n",
       "      <th>4</th>\n",
       "      <td>D46BCB48440A</td>\n",
       "      <td>When people ask for advice,they sometimes talk...</td>\n",
       "    </tr>\n",
       "  </tbody>\n",
       "</table>\n",
       "</div>"
      ],
      "text/plain": [
       "             id                                               text\n",
       "0  0FB0700DAF44  During a group project, have you ever asked a ...\n",
       "1  D72CB1C11673  Making choices in life can be very difficult. ...\n",
       "2  18409261F5C2  80% of Americans believe seeking multiple opin...\n",
       "3  DF920E0A7337  Have you ever asked more than one person for h...\n",
       "4  D46BCB48440A  When people ask for advice,they sometimes talk..."
      ]
     },
     "execution_count": 2,
     "metadata": {},
     "output_type": "execute_result"
    }
   ],
   "source": [
    "# https://www.kaggle.com/raghavendrakotala/fine-tunned-on-roberta-base-as-ner-problem-0-533\n",
    "test_names, test = [], []\n",
    "for f in list(os.listdir('../input/feedback-prize-2021/test')):\n",
    "    test_names.append(f.replace('.txt', ''))\n",
    "    test.append(open('../input/feedback-prize-2021/test/' + f, 'r').read())\n",
    "test = pd.DataFrame({'id': test_names, 'text': test})\n",
    "test.head()"
   ]
  },
  {
   "cell_type": "code",
   "execution_count": 3,
   "id": "87bd26f4",
   "metadata": {
    "execution": {
     "iopub.execute_input": "2022-03-16T17:14:17.607190Z",
     "iopub.status.busy": "2022-03-16T17:14:17.606174Z",
     "iopub.status.idle": "2022-03-16T17:14:17.608639Z",
     "shell.execute_reply": "2022-03-16T17:14:17.609112Z",
     "shell.execute_reply.started": "2022-03-14T18:37:03.193719Z"
    },
    "papermill": {
     "duration": 0.031605,
     "end_time": "2022-03-16T17:14:17.609281",
     "exception": false,
     "start_time": "2022-03-16T17:14:17.577676",
     "status": "completed"
    },
    "tags": []
   },
   "outputs": [],
   "source": [
    "test.columns = [\"id\", \"context\"]"
   ]
  },
  {
   "cell_type": "code",
   "execution_count": 4,
   "id": "5565c060",
   "metadata": {
    "execution": {
     "iopub.execute_input": "2022-03-16T17:14:17.662219Z",
     "iopub.status.busy": "2022-03-16T17:14:17.661195Z",
     "iopub.status.idle": "2022-03-16T17:14:17.663739Z",
     "shell.execute_reply": "2022-03-16T17:14:17.663124Z",
     "shell.execute_reply.started": "2022-03-14T18:37:03.199313Z"
    },
    "papermill": {
     "duration": 0.030688,
     "end_time": "2022-03-16T17:14:17.663881",
     "exception": false,
     "start_time": "2022-03-16T17:14:17.633193",
     "status": "completed"
    },
    "tags": []
   },
   "outputs": [],
   "source": [
    "labels = ['Lead', 'Position', 'Evidence', 'Claim', 'Concluding Statement',\n",
    "             'Counterclaim', 'Rebuttal']"
   ]
  },
  {
   "cell_type": "code",
   "execution_count": 5,
   "id": "9595bc7a",
   "metadata": {
    "execution": {
     "iopub.execute_input": "2022-03-16T17:14:17.715764Z",
     "iopub.status.busy": "2022-03-16T17:14:17.714788Z",
     "iopub.status.idle": "2022-03-16T17:14:17.724866Z",
     "shell.execute_reply": "2022-03-16T17:14:17.725403Z",
     "shell.execute_reply.started": "2022-03-14T18:37:03.216187Z"
    },
    "papermill": {
     "duration": 0.038006,
     "end_time": "2022-03-16T17:14:17.725576",
     "exception": false,
     "start_time": "2022-03-16T17:14:17.687570",
     "status": "completed"
    },
    "tags": []
   },
   "outputs": [],
   "source": [
    "test['question'] = [labels for row in range(test.shape[0])]"
   ]
  },
  {
   "cell_type": "code",
   "execution_count": 6,
   "id": "a114fd80",
   "metadata": {
    "execution": {
     "iopub.execute_input": "2022-03-16T17:14:17.794088Z",
     "iopub.status.busy": "2022-03-16T17:14:17.776192Z",
     "iopub.status.idle": "2022-03-16T17:14:17.795871Z",
     "shell.execute_reply": "2022-03-16T17:14:17.796359Z",
     "shell.execute_reply.started": "2022-03-14T18:37:03.240249Z"
    },
    "papermill": {
     "duration": 0.047122,
     "end_time": "2022-03-16T17:14:17.796528",
     "exception": false,
     "start_time": "2022-03-16T17:14:17.749406",
     "status": "completed"
    },
    "tags": []
   },
   "outputs": [],
   "source": [
    "test = test.explode('question')"
   ]
  },
  {
   "cell_type": "code",
   "execution_count": 7,
   "id": "3f1773b4",
   "metadata": {
    "execution": {
     "iopub.execute_input": "2022-03-16T17:14:17.847379Z",
     "iopub.status.busy": "2022-03-16T17:14:17.846749Z",
     "iopub.status.idle": "2022-03-16T17:14:17.853059Z",
     "shell.execute_reply": "2022-03-16T17:14:17.852369Z",
     "shell.execute_reply.started": "2022-03-14T18:37:03.27331Z"
    },
    "papermill": {
     "duration": 0.032607,
     "end_time": "2022-03-16T17:14:17.853217",
     "exception": false,
     "start_time": "2022-03-16T17:14:17.820610",
     "status": "completed"
    },
    "tags": []
   },
   "outputs": [
    {
     "name": "stdout",
     "output_type": "stream",
     "text": [
      "There are 5 train texts.\n"
     ]
    }
   ],
   "source": [
    "IDS = test.id.unique()\n",
    "print('There are',len(IDS),'train texts.')"
   ]
  },
  {
   "cell_type": "code",
   "execution_count": 8,
   "id": "f4e287d7",
   "metadata": {
    "execution": {
     "iopub.execute_input": "2022-03-16T17:14:17.905465Z",
     "iopub.status.busy": "2022-03-16T17:14:17.904793Z",
     "iopub.status.idle": "2022-03-16T17:14:17.989890Z",
     "shell.execute_reply": "2022-03-16T17:14:17.989303Z",
     "shell.execute_reply.started": "2022-03-14T18:37:03.281877Z"
    },
    "papermill": {
     "duration": 0.112688,
     "end_time": "2022-03-16T17:14:17.990054",
     "exception": false,
     "start_time": "2022-03-16T17:14:17.877366",
     "status": "completed"
    },
    "tags": []
   },
   "outputs": [],
   "source": [
    "#model_ckpt = \"distilbert-base-cased-distilled-squad\"\n",
    "model_checkpoint = \"../input/q-a-pytorch/model.h5\"\n",
    "# model_checkpoint = \"distilbert-base-cased-distilled-squad\"\n",
    "config_model = \"../input/q-a-pytorch/model.h5/config.json\"\n",
    "tokenizer = AutoTokenizer.from_pretrained(model_checkpoint)\n",
    "\n",
    "target_map = {'Lead':0, 'Position':1, 'Evidence':2, 'Claim':3, 'Concluding Statement':4,\n",
    "             'Counterclaim':5, 'Rebuttal':6}"
   ]
  },
  {
   "cell_type": "code",
   "execution_count": 9,
   "id": "b47c0328",
   "metadata": {
    "execution": {
     "iopub.execute_input": "2022-03-16T17:14:18.043635Z",
     "iopub.status.busy": "2022-03-16T17:14:18.042898Z",
     "iopub.status.idle": "2022-03-16T17:14:18.046003Z",
     "shell.execute_reply": "2022-03-16T17:14:18.045320Z",
     "shell.execute_reply.started": "2022-03-14T18:37:03.36801Z"
    },
    "papermill": {
     "duration": 0.031236,
     "end_time": "2022-03-16T17:14:18.046148",
     "exception": false,
     "start_time": "2022-03-16T17:14:18.014912",
     "status": "completed"
    },
    "tags": []
   },
   "outputs": [],
   "source": [
    "# os.mkdir('model')\n",
    "\n",
    "# tokenizer = AutoTokenizer.from_pretrained(model_checkpoint, add_prefix_space=True)\n",
    "# tokenizer.save_pretrained('model')\n",
    "\n",
    "# #     config_model = AutoConfig.from_pretrained(model_checkpoint) \n",
    "# #     config_model.num_labels = 15\n",
    "# #     config_model.save_pretrained('model')\n",
    "\n",
    "# backbone = AutoModelForQuestionAnswering.from_pretrained(model_checkpoint)\n",
    "# backbone.save_pretrained('model')"
   ]
  },
  {
   "cell_type": "code",
   "execution_count": 10,
   "id": "e9216122",
   "metadata": {
    "execution": {
     "iopub.execute_input": "2022-03-16T17:14:18.098883Z",
     "iopub.status.busy": "2022-03-16T17:14:18.098133Z",
     "iopub.status.idle": "2022-03-16T17:14:18.100395Z",
     "shell.execute_reply": "2022-03-16T17:14:18.100916Z",
     "shell.execute_reply.started": "2022-03-14T18:37:03.372508Z"
    },
    "papermill": {
     "duration": 0.030805,
     "end_time": "2022-03-16T17:14:18.101078",
     "exception": false,
     "start_time": "2022-03-16T17:14:18.070273",
     "status": "completed"
    },
    "tags": []
   },
   "outputs": [],
   "source": [
    "max_length = tokenizer.model_max_length\n",
    "stride = 64"
   ]
  },
  {
   "cell_type": "code",
   "execution_count": 11,
   "id": "f0aa1aea",
   "metadata": {
    "execution": {
     "iopub.execute_input": "2022-03-16T17:14:18.155823Z",
     "iopub.status.busy": "2022-03-16T17:14:18.154828Z",
     "iopub.status.idle": "2022-03-16T17:14:18.162323Z",
     "shell.execute_reply": "2022-03-16T17:14:18.162816Z",
     "shell.execute_reply.started": "2022-03-14T18:37:03.384785Z"
    },
    "papermill": {
     "duration": 0.036804,
     "end_time": "2022-03-16T17:14:18.163000",
     "exception": false,
     "start_time": "2022-03-16T17:14:18.126196",
     "status": "completed"
    },
    "tags": []
   },
   "outputs": [],
   "source": [
    "def preprocess_validation_examples(examples):\n",
    "    #strip removes leading and trailing whitespaces\n",
    "    questions = [q.strip() for q in examples[\"question\"]]\n",
    "    inputs = tokenizer(\n",
    "        questions,\n",
    "        examples[\"context\"],\n",
    "        max_length=max_length,\n",
    "        truncation=\"only_second\",\n",
    "        stride=stride,\n",
    "        return_overflowing_tokens=True,\n",
    "        return_offsets_mapping=True,\n",
    "        padding=\"max_length\",\n",
    "    )\n",
    "\n",
    "    sample_map = inputs.pop(\"overflow_to_sample_mapping\")\n",
    "    offset_mapping = inputs.pop(\"offset_mapping\")\n",
    "    example_ids = []\n",
    "\n",
    "    for i in range(len(inputs[\"input_ids\"])):\n",
    "        sample_idx = sample_map[i]\n",
    "        example_ids.append(examples[\"id\"][sample_idx])\n",
    "\n",
    "        sequence_ids = inputs.sequence_ids(i)\n",
    "#         offset = inputs[\"offset_mapping\"][i]\n",
    "#         inputs[\"offset_mapping\"][i] = [\n",
    "#             o if sequence_ids[k] == 1 else None for k, o in enumerate(offset)\n",
    "#         ]\n",
    "\n",
    "    inputs[\"example_id\"] = example_ids\n",
    "    \n",
    "    return inputs"
   ]
  },
  {
   "cell_type": "code",
   "execution_count": 12,
   "id": "813ddf30",
   "metadata": {
    "execution": {
     "iopub.execute_input": "2022-03-16T17:14:18.217385Z",
     "iopub.status.busy": "2022-03-16T17:14:18.215273Z",
     "iopub.status.idle": "2022-03-16T17:14:18.248317Z",
     "shell.execute_reply": "2022-03-16T17:14:18.248797Z",
     "shell.execute_reply.started": "2022-03-14T18:37:03.398461Z"
    },
    "papermill": {
     "duration": 0.060963,
     "end_time": "2022-03-16T17:14:18.248986",
     "exception": false,
     "start_time": "2022-03-16T17:14:18.188023",
     "status": "completed"
    },
    "tags": []
   },
   "outputs": [],
   "source": [
    "from datasets import Dataset\n",
    "dataset = Dataset.from_pandas(test)"
   ]
  },
  {
   "cell_type": "code",
   "execution_count": 13,
   "id": "fe3d1285",
   "metadata": {
    "execution": {
     "iopub.execute_input": "2022-03-16T17:14:18.302977Z",
     "iopub.status.busy": "2022-03-16T17:14:18.302291Z",
     "iopub.status.idle": "2022-03-16T17:14:18.304795Z",
     "shell.execute_reply": "2022-03-16T17:14:18.305300Z",
     "shell.execute_reply.started": "2022-03-14T18:37:03.440678Z"
    },
    "papermill": {
     "duration": 0.032307,
     "end_time": "2022-03-16T17:14:18.305464",
     "exception": false,
     "start_time": "2022-03-16T17:14:18.273157",
     "status": "completed"
    },
    "tags": []
   },
   "outputs": [
    {
     "data": {
      "text/plain": [
       "['id', 'context', 'question', '__index_level_0__']"
      ]
     },
     "execution_count": 13,
     "metadata": {},
     "output_type": "execute_result"
    }
   ],
   "source": [
    "dataset.column_names"
   ]
  },
  {
   "cell_type": "code",
   "execution_count": 14,
   "id": "dbb19be3",
   "metadata": {
    "execution": {
     "iopub.execute_input": "2022-03-16T17:14:18.358044Z",
     "iopub.status.busy": "2022-03-16T17:14:18.357381Z",
     "iopub.status.idle": "2022-03-16T17:14:18.500656Z",
     "shell.execute_reply": "2022-03-16T17:14:18.501239Z",
     "shell.execute_reply.started": "2022-03-14T18:37:03.449361Z"
    },
    "papermill": {
     "duration": 0.171065,
     "end_time": "2022-03-16T17:14:18.501416",
     "exception": false,
     "start_time": "2022-03-16T17:14:18.330351",
     "status": "completed"
    },
    "tags": []
   },
   "outputs": [
    {
     "data": {
      "application/vnd.jupyter.widget-view+json": {
       "model_id": "e8daf9b92b0149b999185565c18dd3e4",
       "version_major": 2,
       "version_minor": 0
      },
      "text/plain": [
       "  0%|          | 0/1 [00:00<?, ?ba/s]"
      ]
     },
     "metadata": {},
     "output_type": "display_data"
    },
    {
     "data": {
      "text/plain": [
       "70"
      ]
     },
     "execution_count": 14,
     "metadata": {},
     "output_type": "execute_result"
    }
   ],
   "source": [
    "validation_dataset = dataset.map(\n",
    "    preprocess_validation_examples,\n",
    "    batched=True,\n",
    "    remove_columns=dataset.column_names,\n",
    ")\n",
    "len(validation_dataset)"
   ]
  },
  {
   "cell_type": "markdown",
   "id": "a4eda8b5",
   "metadata": {
    "papermill": {
     "duration": 0.024704,
     "end_time": "2022-03-16T17:14:18.552630",
     "exception": false,
     "start_time": "2022-03-16T17:14:18.527926",
     "status": "completed"
    },
    "tags": []
   },
   "source": [
    "# Build Model\n",
    "We will use LongFormer backbone and add our own NER head using one hidden layer of size 256 and one final layer with softmax. We use 15 classes because we have a `B` class and `I` class for each of 7 labels. And we have an additional class (called `O` class) for tokens that do not belong to one of the 14 classes."
   ]
  },
  {
   "cell_type": "code",
   "execution_count": 15,
   "id": "e61272f1",
   "metadata": {
    "execution": {
     "iopub.execute_input": "2022-03-16T17:14:18.608904Z",
     "iopub.status.busy": "2022-03-16T17:14:18.607833Z",
     "iopub.status.idle": "2022-03-16T17:14:18.609759Z",
     "shell.execute_reply": "2022-03-16T17:14:18.610279Z",
     "shell.execute_reply.started": "2022-03-14T18:37:03.57709Z"
    },
    "papermill": {
     "duration": 0.032666,
     "end_time": "2022-03-16T17:14:18.610442",
     "exception": false,
     "start_time": "2022-03-16T17:14:18.577776",
     "status": "completed"
    },
    "tags": []
   },
   "outputs": [],
   "source": [
    "import torch\n",
    "from transformers import AutoModelForQuestionAnswering\n",
    "\n",
    "device = torch.device(\"cuda\") if torch.cuda.is_available() else torch.device(\"cpu\")"
   ]
  },
  {
   "cell_type": "code",
   "execution_count": 16,
   "id": "a70251fa",
   "metadata": {
    "execution": {
     "iopub.execute_input": "2022-03-16T17:14:18.665460Z",
     "iopub.status.busy": "2022-03-16T17:14:18.664490Z",
     "iopub.status.idle": "2022-03-16T17:14:24.118845Z",
     "shell.execute_reply": "2022-03-16T17:14:24.119342Z",
     "shell.execute_reply.started": "2022-03-14T18:37:03.58308Z"
    },
    "papermill": {
     "duration": 5.483367,
     "end_time": "2022-03-16T17:14:24.119530",
     "exception": false,
     "start_time": "2022-03-16T17:14:18.636163",
     "status": "completed"
    },
    "tags": []
   },
   "outputs": [],
   "source": [
    "model = AutoModelForQuestionAnswering.from_pretrained(model_checkpoint)"
   ]
  },
  {
   "cell_type": "code",
   "execution_count": 17,
   "id": "3d5aa932",
   "metadata": {
    "execution": {
     "iopub.execute_input": "2022-03-16T17:14:24.175264Z",
     "iopub.status.busy": "2022-03-16T17:14:24.173375Z",
     "iopub.status.idle": "2022-03-16T17:14:24.178462Z",
     "shell.execute_reply": "2022-03-16T17:14:24.177824Z",
     "shell.execute_reply.started": "2022-03-14T18:37:08.849248Z"
    },
    "papermill": {
     "duration": 0.03369,
     "end_time": "2022-03-16T17:14:24.178632",
     "exception": false,
     "start_time": "2022-03-16T17:14:24.144942",
     "status": "completed"
    },
    "tags": []
   },
   "outputs": [],
   "source": [
    "question = test.question.iloc[0]\n",
    "context = test.context.iloc[0]"
   ]
  },
  {
   "cell_type": "code",
   "execution_count": 18,
   "id": "3b7d8d7f",
   "metadata": {
    "execution": {
     "iopub.execute_input": "2022-03-16T17:14:24.234395Z",
     "iopub.status.busy": "2022-03-16T17:14:24.233666Z",
     "iopub.status.idle": "2022-03-16T17:14:24.236195Z",
     "shell.execute_reply": "2022-03-16T17:14:24.236679Z",
     "shell.execute_reply.started": "2022-03-14T18:37:08.855505Z"
    },
    "papermill": {
     "duration": 0.032785,
     "end_time": "2022-03-16T17:14:24.236860",
     "exception": false,
     "start_time": "2022-03-16T17:14:24.204075",
     "status": "completed"
    },
    "tags": []
   },
   "outputs": [
    {
     "data": {
      "text/plain": [
       "Dataset({\n",
       "    features: ['attention_mask', 'example_id', 'input_ids'],\n",
       "    num_rows: 70\n",
       "})"
      ]
     },
     "execution_count": 18,
     "metadata": {},
     "output_type": "execute_result"
    }
   ],
   "source": [
    "validation_dataset"
   ]
  },
  {
   "cell_type": "code",
   "execution_count": 19,
   "id": "ce7ef69b",
   "metadata": {
    "execution": {
     "iopub.execute_input": "2022-03-16T17:14:24.291869Z",
     "iopub.status.busy": "2022-03-16T17:14:24.291179Z",
     "iopub.status.idle": "2022-03-16T17:14:24.295040Z",
     "shell.execute_reply": "2022-03-16T17:14:24.295495Z",
     "shell.execute_reply.started": "2022-03-14T18:37:08.876181Z"
    },
    "papermill": {
     "duration": 0.033272,
     "end_time": "2022-03-16T17:14:24.295673",
     "exception": false,
     "start_time": "2022-03-16T17:14:24.262401",
     "status": "completed"
    },
    "tags": []
   },
   "outputs": [],
   "source": [
    "from torch.utils.data import DataLoader\n",
    "from transformers import default_data_collator\n",
    "dataloader = DataLoader(validation_dataset, collate_fn = default_data_collator, batch_size = 8)"
   ]
  },
  {
   "cell_type": "code",
   "execution_count": 20,
   "id": "cb9e0061",
   "metadata": {
    "execution": {
     "iopub.execute_input": "2022-03-16T17:14:24.363462Z",
     "iopub.status.busy": "2022-03-16T17:14:24.362475Z",
     "iopub.status.idle": "2022-03-16T17:14:24.364874Z",
     "shell.execute_reply": "2022-03-16T17:14:24.365454Z",
     "shell.execute_reply.started": "2022-03-14T18:37:08.88976Z"
    },
    "papermill": {
     "duration": 0.044377,
     "end_time": "2022-03-16T17:14:24.365620",
     "exception": false,
     "start_time": "2022-03-16T17:14:24.321243",
     "status": "completed"
    },
    "tags": []
   },
   "outputs": [],
   "source": [
    "def preprocess(question, context, text_id):\n",
    "    inputs = tokenizer(\n",
    "        question,\n",
    "        context,\n",
    "        max_length=max_length,\n",
    "        truncation=\"only_second\",\n",
    "        stride=stride,\n",
    "        return_overflowing_tokens=True,\n",
    "        return_offsets_mapping=True,\n",
    "        padding=\"max_length\",\n",
    "        return_tensors = 'pt'\n",
    "    )\n",
    "\n",
    "    sample_map = inputs.pop(\"overflow_to_sample_mapping\")\n",
    "    offset_mapping = inputs.pop(\"offset_mapping\")\n",
    "#     example_ids = []\n",
    "\n",
    "#     for i in range(len(inputs[\"input_ids\"])):\n",
    "#         sample_idx = sample_map[i]\n",
    "#         example_ids.append(text_id)\n",
    "#         sequence_ids = inputs.sequence_ids(i)\n",
    "\n",
    "#     inputs[\"example_id\"] = example_ids\n",
    "    \n",
    "    return inputs, offset_mapping"
   ]
  },
  {
   "cell_type": "code",
   "execution_count": 21,
   "id": "733be4d2",
   "metadata": {
    "execution": {
     "iopub.execute_input": "2022-03-16T17:14:24.433224Z",
     "iopub.status.busy": "2022-03-16T17:14:24.432251Z",
     "iopub.status.idle": "2022-03-16T17:14:24.450880Z",
     "shell.execute_reply": "2022-03-16T17:14:24.449783Z",
     "shell.execute_reply.started": "2022-03-14T18:37:08.902761Z"
    },
    "papermill": {
     "duration": 0.055889,
     "end_time": "2022-03-16T17:14:24.451105",
     "exception": false,
     "start_time": "2022-03-16T17:14:24.395216",
     "status": "completed"
    },
    "tags": []
   },
   "outputs": [],
   "source": [
    "def get_predictions(outputs, inputs, offsets, context):\n",
    "    start_logits = outputs.start_logits\n",
    "    end_logits = outputs.end_logits\n",
    "    #print(start_logits.shape, end_logits.shape)\n",
    "    sequence_ids = inputs.sequence_ids()\n",
    "    # Mask everything apart from the tokens of the context\n",
    "    mask = [i != 1 for i in sequence_ids]\n",
    "    # Unmask the [CLS] token\n",
    "    mask[0] = False\n",
    "    # Mask all the [PAD] tokens\n",
    "    mask = torch.logical_or(torch.tensor(mask)[None], (inputs[\"attention_mask\"] == 0))\n",
    "\n",
    "    start_logits[mask] = -10000\n",
    "    end_logits[mask] = -10000\n",
    "    start_probabilities = torch.nn.functional.softmax(start_logits, dim=-1)\n",
    "    end_probabilities = torch.nn.functional.softmax(end_logits, dim=-1)\n",
    "    print(f\"start shape {start_probabilities.shape}, end shape {end_probabilities.shape}\")\n",
    "    candidates = []\n",
    "    for start_probs, end_probs in zip(start_probabilities, end_probabilities):\n",
    "        scores = start_probs[:, None] * end_probs[None, :]\n",
    "        idx = torch.triu(scores).argmax().item()\n",
    "\n",
    "        start_idx = idx // scores.shape[0]\n",
    "        end_idx = idx % scores.shape[0]\n",
    "        score = scores[start_idx, end_idx].item()\n",
    "        candidates.append((start_idx, end_idx, score))\n",
    "\n",
    "    #print(candidates)\n",
    "    results = []\n",
    "    for candidate, offset in zip(candidates, offsets):\n",
    "        start_token, end_token, score = candidate\n",
    "        start_char, _ = offset[start_token]\n",
    "        _, end_char = offset[end_token]\n",
    "        answer = context[start_char:end_char]\n",
    "        result = {\"answer\": answer, \"start\": start_char, \"end\": end_char, \"score\": score}\n",
    "        results.append(result)\n",
    "    return results"
   ]
  },
  {
   "cell_type": "code",
   "execution_count": 22,
   "id": "ec0725f2",
   "metadata": {
    "execution": {
     "iopub.execute_input": "2022-03-16T17:14:24.508651Z",
     "iopub.status.busy": "2022-03-16T17:14:24.507698Z",
     "iopub.status.idle": "2022-03-16T17:14:24.513464Z",
     "shell.execute_reply": "2022-03-16T17:14:24.514075Z",
     "shell.execute_reply.started": "2022-03-14T18:37:08.923257Z"
    },
    "papermill": {
     "duration": 0.03526,
     "end_time": "2022-03-16T17:14:24.514243",
     "exception": false,
     "start_time": "2022-03-16T17:14:24.478983",
     "status": "completed"
    },
    "tags": []
   },
   "outputs": [],
   "source": [
    "def get_predictionstring(result):\n",
    "    pred = result['answer']\n",
    "    if len(pred) == 0:\n",
    "        return \"\"\n",
    "    start = result['start']\n",
    "    end = result['end']\n",
    "    score = result['score']\n",
    "    start_index = len(context[:start].split())\n",
    "    end_index = start_index + len(pred.split())\n",
    "    predictionstring = \"\"\n",
    "    for i in range(start_index, end_index):\n",
    "        predictionstring += str(i) + \" \"\n",
    "    return predictionstring"
   ]
  },
  {
   "cell_type": "code",
   "execution_count": 23,
   "id": "202033b9",
   "metadata": {
    "execution": {
     "iopub.execute_input": "2022-03-16T17:14:24.570711Z",
     "iopub.status.busy": "2022-03-16T17:14:24.569954Z",
     "iopub.status.idle": "2022-03-16T17:14:24.572174Z",
     "shell.execute_reply": "2022-03-16T17:14:24.572856Z",
     "shell.execute_reply.started": "2022-03-14T18:37:08.941944Z"
    },
    "papermill": {
     "duration": 0.033422,
     "end_time": "2022-03-16T17:14:24.573025",
     "exception": false,
     "start_time": "2022-03-16T17:14:24.539603",
     "status": "completed"
    },
    "tags": []
   },
   "outputs": [],
   "source": [
    "test['predictionstring'] = \"\""
   ]
  },
  {
   "cell_type": "code",
   "execution_count": 24,
   "id": "7d3a461b",
   "metadata": {
    "execution": {
     "iopub.execute_input": "2022-03-16T17:14:24.629023Z",
     "iopub.status.busy": "2022-03-16T17:14:24.626884Z",
     "iopub.status.idle": "2022-03-16T17:14:24.630906Z",
     "shell.execute_reply": "2022-03-16T17:14:24.631450Z",
     "shell.execute_reply.started": "2022-03-14T18:37:08.957097Z"
    },
    "papermill": {
     "duration": 0.033172,
     "end_time": "2022-03-16T17:14:24.631620",
     "exception": false,
     "start_time": "2022-03-16T17:14:24.598448",
     "status": "completed"
    },
    "tags": []
   },
   "outputs": [],
   "source": [
    "predictions_dict = {}\n",
    "predictions_dict['id'] = []\n",
    "predictions_dict['class'] = []\n",
    "predictions_dict['predictionstring'] = []"
   ]
  },
  {
   "cell_type": "code",
   "execution_count": 25,
   "id": "0d7e6fb9",
   "metadata": {
    "execution": {
     "iopub.execute_input": "2022-03-16T17:14:24.692203Z",
     "iopub.status.busy": "2022-03-16T17:14:24.691427Z",
     "iopub.status.idle": "2022-03-16T17:14:25.935464Z",
     "shell.execute_reply": "2022-03-16T17:14:25.934936Z",
     "shell.execute_reply.started": "2022-03-14T18:37:08.973277Z"
    },
    "papermill": {
     "duration": 1.278171,
     "end_time": "2022-03-16T17:14:25.935609",
     "exception": false,
     "start_time": "2022-03-16T17:14:24.657438",
     "status": "completed"
    },
    "tags": []
   },
   "outputs": [
    {
     "name": "stdout",
     "output_type": "stream",
     "text": [
      "start shape torch.Size([2, 512]), end shape torch.Size([2, 512])\n"
     ]
    }
   ],
   "source": [
    "with torch.no_grad():\n",
    "#     counter = 0\n",
    "    for index, row in test.iterrows():\n",
    "        question = row.question\n",
    "        text_id = row.id\n",
    "        context = row.context\n",
    "        inputs, offset_mapping = preprocess(question, context, text_id)\n",
    "        outputs = model(**inputs)\n",
    "        results = get_predictions(outputs, inputs, offset_mapping, context)\n",
    "        break\n",
    "        for result in results:\n",
    "            predictionstring = get_predictionstring(result)\n",
    "            if len(predictionstring) == 0:\n",
    "                continue\n",
    "            predictions_dict['id'].append(text_id)\n",
    "            predictions_dict['class'].append(question)\n",
    "            predictions_dict['predictionstring'].append(predictionstring)\n",
    "#         counter += 1\n",
    "#         if counter > 3:\n",
    "#             break\n",
    "            "
   ]
  },
  {
   "cell_type": "code",
   "execution_count": 26,
   "id": "600d9d8c",
   "metadata": {
    "execution": {
     "iopub.execute_input": "2022-03-16T17:14:25.991229Z",
     "iopub.status.busy": "2022-03-16T17:14:25.990566Z",
     "iopub.status.idle": "2022-03-16T17:14:25.994540Z",
     "shell.execute_reply": "2022-03-16T17:14:25.995102Z",
     "shell.execute_reply.started": "2022-03-14T18:37:10.165066Z"
    },
    "papermill": {
     "duration": 0.033575,
     "end_time": "2022-03-16T17:14:25.995276",
     "exception": false,
     "start_time": "2022-03-16T17:14:25.961701",
     "status": "completed"
    },
    "tags": []
   },
   "outputs": [],
   "source": [
    "sub = pd.DataFrame.from_dict(predictions_dict)"
   ]
  },
  {
   "cell_type": "code",
   "execution_count": 27,
   "id": "d8323565",
   "metadata": {
    "execution": {
     "iopub.execute_input": "2022-03-16T17:14:26.050798Z",
     "iopub.status.busy": "2022-03-16T17:14:26.050087Z",
     "iopub.status.idle": "2022-03-16T17:14:26.057845Z",
     "shell.execute_reply": "2022-03-16T17:14:26.058376Z",
     "shell.execute_reply.started": "2022-03-14T18:37:10.171498Z"
    },
    "papermill": {
     "duration": 0.037082,
     "end_time": "2022-03-16T17:14:26.058547",
     "exception": false,
     "start_time": "2022-03-16T17:14:26.021465",
     "status": "completed"
    },
    "tags": []
   },
   "outputs": [],
   "source": [
    "sub.to_csv(\"submission.csv\", index = False)"
   ]
  }
 ],
 "metadata": {
  "kernelspec": {
   "display_name": "Python 3",
   "language": "python",
   "name": "python3"
  },
  "language_info": {
   "codemirror_mode": {
    "name": "ipython",
    "version": 3
   },
   "file_extension": ".py",
   "mimetype": "text/x-python",
   "name": "python",
   "nbconvert_exporter": "python",
   "pygments_lexer": "ipython3",
   "version": "3.7.12"
  },
  "papermill": {
   "default_parameters": {},
   "duration": 35.732982,
   "end_time": "2022-03-16T17:14:29.437993",
   "environment_variables": {},
   "exception": null,
   "input_path": "__notebook__.ipynb",
   "output_path": "__notebook__.ipynb",
   "parameters": {},
   "start_time": "2022-03-16T17:13:53.705011",
   "version": "2.3.3"
  },
  "widgets": {
   "application/vnd.jupyter.widget-state+json": {
    "state": {
     "0c34a097e60144a9a47ab1ef5b7f907f": {
      "model_module": "@jupyter-widgets/base",
      "model_module_version": "1.2.0",
      "model_name": "LayoutModel",
      "state": {
       "_model_module": "@jupyter-widgets/base",
       "_model_module_version": "1.2.0",
       "_model_name": "LayoutModel",
       "_view_count": null,
       "_view_module": "@jupyter-widgets/base",
       "_view_module_version": "1.2.0",
       "_view_name": "LayoutView",
       "align_content": null,
       "align_items": null,
       "align_self": null,
       "border": null,
       "bottom": null,
       "display": null,
       "flex": null,
       "flex_flow": null,
       "grid_area": null,
       "grid_auto_columns": null,
       "grid_auto_flow": null,
       "grid_auto_rows": null,
       "grid_column": null,
       "grid_gap": null,
       "grid_row": null,
       "grid_template_areas": null,
       "grid_template_columns": null,
       "grid_template_rows": null,
       "height": null,
       "justify_content": null,
       "justify_items": null,
       "left": null,
       "margin": null,
       "max_height": null,
       "max_width": null,
       "min_height": null,
       "min_width": null,
       "object_fit": null,
       "object_position": null,
       "order": null,
       "overflow": null,
       "overflow_x": null,
       "overflow_y": null,
       "padding": null,
       "right": null,
       "top": null,
       "visibility": null,
       "width": null
      }
     },
     "1ecaf0d7543a406192d0b09c8a2904c7": {
      "model_module": "@jupyter-widgets/base",
      "model_module_version": "1.2.0",
      "model_name": "LayoutModel",
      "state": {
       "_model_module": "@jupyter-widgets/base",
       "_model_module_version": "1.2.0",
       "_model_name": "LayoutModel",
       "_view_count": null,
       "_view_module": "@jupyter-widgets/base",
       "_view_module_version": "1.2.0",
       "_view_name": "LayoutView",
       "align_content": null,
       "align_items": null,
       "align_self": null,
       "border": null,
       "bottom": null,
       "display": null,
       "flex": null,
       "flex_flow": null,
       "grid_area": null,
       "grid_auto_columns": null,
       "grid_auto_flow": null,
       "grid_auto_rows": null,
       "grid_column": null,
       "grid_gap": null,
       "grid_row": null,
       "grid_template_areas": null,
       "grid_template_columns": null,
       "grid_template_rows": null,
       "height": null,
       "justify_content": null,
       "justify_items": null,
       "left": null,
       "margin": null,
       "max_height": null,
       "max_width": null,
       "min_height": null,
       "min_width": null,
       "object_fit": null,
       "object_position": null,
       "order": null,
       "overflow": null,
       "overflow_x": null,
       "overflow_y": null,
       "padding": null,
       "right": null,
       "top": null,
       "visibility": null,
       "width": null
      }
     },
     "3e5a64e127584fa2ab7778b1ab9ba5f1": {
      "model_module": "@jupyter-widgets/controls",
      "model_module_version": "1.5.0",
      "model_name": "HTMLModel",
      "state": {
       "_dom_classes": [],
       "_model_module": "@jupyter-widgets/controls",
       "_model_module_version": "1.5.0",
       "_model_name": "HTMLModel",
       "_view_count": null,
       "_view_module": "@jupyter-widgets/controls",
       "_view_module_version": "1.5.0",
       "_view_name": "HTMLView",
       "description": "",
       "description_tooltip": null,
       "layout": "IPY_MODEL_0c34a097e60144a9a47ab1ef5b7f907f",
       "placeholder": "​",
       "style": "IPY_MODEL_7269ae6760c34ef990214613aa61cb13",
       "value": " 1/1 [00:00&lt;00:00,  8.61ba/s]"
      }
     },
     "7269ae6760c34ef990214613aa61cb13": {
      "model_module": "@jupyter-widgets/controls",
      "model_module_version": "1.5.0",
      "model_name": "DescriptionStyleModel",
      "state": {
       "_model_module": "@jupyter-widgets/controls",
       "_model_module_version": "1.5.0",
       "_model_name": "DescriptionStyleModel",
       "_view_count": null,
       "_view_module": "@jupyter-widgets/base",
       "_view_module_version": "1.2.0",
       "_view_name": "StyleView",
       "description_width": ""
      }
     },
     "743068990fa242c98a6c638193cdf0fc": {
      "model_module": "@jupyter-widgets/base",
      "model_module_version": "1.2.0",
      "model_name": "LayoutModel",
      "state": {
       "_model_module": "@jupyter-widgets/base",
       "_model_module_version": "1.2.0",
       "_model_name": "LayoutModel",
       "_view_count": null,
       "_view_module": "@jupyter-widgets/base",
       "_view_module_version": "1.2.0",
       "_view_name": "LayoutView",
       "align_content": null,
       "align_items": null,
       "align_self": null,
       "border": null,
       "bottom": null,
       "display": null,
       "flex": null,
       "flex_flow": null,
       "grid_area": null,
       "grid_auto_columns": null,
       "grid_auto_flow": null,
       "grid_auto_rows": null,
       "grid_column": null,
       "grid_gap": null,
       "grid_row": null,
       "grid_template_areas": null,
       "grid_template_columns": null,
       "grid_template_rows": null,
       "height": null,
       "justify_content": null,
       "justify_items": null,
       "left": null,
       "margin": null,
       "max_height": null,
       "max_width": null,
       "min_height": null,
       "min_width": null,
       "object_fit": null,
       "object_position": null,
       "order": null,
       "overflow": null,
       "overflow_x": null,
       "overflow_y": null,
       "padding": null,
       "right": null,
       "top": null,
       "visibility": null,
       "width": null
      }
     },
     "9d02982bb29e45a39e496f15305c3216": {
      "model_module": "@jupyter-widgets/controls",
      "model_module_version": "1.5.0",
      "model_name": "ProgressStyleModel",
      "state": {
       "_model_module": "@jupyter-widgets/controls",
       "_model_module_version": "1.5.0",
       "_model_name": "ProgressStyleModel",
       "_view_count": null,
       "_view_module": "@jupyter-widgets/base",
       "_view_module_version": "1.2.0",
       "_view_name": "StyleView",
       "bar_color": null,
       "description_width": ""
      }
     },
     "b0720c63853e4707b2a884a59794430a": {
      "model_module": "@jupyter-widgets/controls",
      "model_module_version": "1.5.0",
      "model_name": "FloatProgressModel",
      "state": {
       "_dom_classes": [],
       "_model_module": "@jupyter-widgets/controls",
       "_model_module_version": "1.5.0",
       "_model_name": "FloatProgressModel",
       "_view_count": null,
       "_view_module": "@jupyter-widgets/controls",
       "_view_module_version": "1.5.0",
       "_view_name": "ProgressView",
       "bar_style": "success",
       "description": "",
       "description_tooltip": null,
       "layout": "IPY_MODEL_743068990fa242c98a6c638193cdf0fc",
       "max": 1.0,
       "min": 0.0,
       "orientation": "horizontal",
       "style": "IPY_MODEL_9d02982bb29e45a39e496f15305c3216",
       "value": 1.0
      }
     },
     "e4df569895274881b8692d8f41128430": {
      "model_module": "@jupyter-widgets/controls",
      "model_module_version": "1.5.0",
      "model_name": "HTMLModel",
      "state": {
       "_dom_classes": [],
       "_model_module": "@jupyter-widgets/controls",
       "_model_module_version": "1.5.0",
       "_model_name": "HTMLModel",
       "_view_count": null,
       "_view_module": "@jupyter-widgets/controls",
       "_view_module_version": "1.5.0",
       "_view_name": "HTMLView",
       "description": "",
       "description_tooltip": null,
       "layout": "IPY_MODEL_1ecaf0d7543a406192d0b09c8a2904c7",
       "placeholder": "​",
       "style": "IPY_MODEL_eecb7d8b244e4d7b813ad2809e48fb70",
       "value": "100%"
      }
     },
     "e8daf9b92b0149b999185565c18dd3e4": {
      "model_module": "@jupyter-widgets/controls",
      "model_module_version": "1.5.0",
      "model_name": "HBoxModel",
      "state": {
       "_dom_classes": [],
       "_model_module": "@jupyter-widgets/controls",
       "_model_module_version": "1.5.0",
       "_model_name": "HBoxModel",
       "_view_count": null,
       "_view_module": "@jupyter-widgets/controls",
       "_view_module_version": "1.5.0",
       "_view_name": "HBoxView",
       "box_style": "",
       "children": [
        "IPY_MODEL_e4df569895274881b8692d8f41128430",
        "IPY_MODEL_b0720c63853e4707b2a884a59794430a",
        "IPY_MODEL_3e5a64e127584fa2ab7778b1ab9ba5f1"
       ],
       "layout": "IPY_MODEL_f51ca9740e3b440c82580e2839862764"
      }
     },
     "eecb7d8b244e4d7b813ad2809e48fb70": {
      "model_module": "@jupyter-widgets/controls",
      "model_module_version": "1.5.0",
      "model_name": "DescriptionStyleModel",
      "state": {
       "_model_module": "@jupyter-widgets/controls",
       "_model_module_version": "1.5.0",
       "_model_name": "DescriptionStyleModel",
       "_view_count": null,
       "_view_module": "@jupyter-widgets/base",
       "_view_module_version": "1.2.0",
       "_view_name": "StyleView",
       "description_width": ""
      }
     },
     "f51ca9740e3b440c82580e2839862764": {
      "model_module": "@jupyter-widgets/base",
      "model_module_version": "1.2.0",
      "model_name": "LayoutModel",
      "state": {
       "_model_module": "@jupyter-widgets/base",
       "_model_module_version": "1.2.0",
       "_model_name": "LayoutModel",
       "_view_count": null,
       "_view_module": "@jupyter-widgets/base",
       "_view_module_version": "1.2.0",
       "_view_name": "LayoutView",
       "align_content": null,
       "align_items": null,
       "align_self": null,
       "border": null,
       "bottom": null,
       "display": null,
       "flex": null,
       "flex_flow": null,
       "grid_area": null,
       "grid_auto_columns": null,
       "grid_auto_flow": null,
       "grid_auto_rows": null,
       "grid_column": null,
       "grid_gap": null,
       "grid_row": null,
       "grid_template_areas": null,
       "grid_template_columns": null,
       "grid_template_rows": null,
       "height": null,
       "justify_content": null,
       "justify_items": null,
       "left": null,
       "margin": null,
       "max_height": null,
       "max_width": null,
       "min_height": null,
       "min_width": null,
       "object_fit": null,
       "object_position": null,
       "order": null,
       "overflow": null,
       "overflow_x": null,
       "overflow_y": null,
       "padding": null,
       "right": null,
       "top": null,
       "visibility": null,
       "width": null
      }
     }
    },
    "version_major": 2,
    "version_minor": 0
   }
  }
 },
 "nbformat": 4,
 "nbformat_minor": 5
}
