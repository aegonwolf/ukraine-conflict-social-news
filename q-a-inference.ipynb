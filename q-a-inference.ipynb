{
 "cells": [
  {
   "cell_type": "code",
   "execution_count": 1,
   "id": "ffe330a6",
   "metadata": {
    "execution": {
     "iopub.execute_input": "2022-03-07T07:45:49.651944Z",
     "iopub.status.busy": "2022-03-07T07:45:49.651194Z",
     "iopub.status.idle": "2022-03-07T07:45:59.965827Z",
     "shell.execute_reply": "2022-03-07T07:45:59.966978Z",
     "shell.execute_reply.started": "2022-03-07T07:43:26.466493Z"
    },
    "papermill": {
     "duration": 10.346919,
     "end_time": "2022-03-07T07:45:59.967361",
     "exception": false,
     "start_time": "2022-03-07T07:45:49.620442",
     "status": "completed"
    },
    "tags": []
   },
   "outputs": [],
   "source": [
    "import os\n",
    "import pandas as pd, numpy as np\n",
    "import matplotlib.pyplot as plt\n",
    "os.environ['TF_CPP_MIN_LOG_LEVEL'] = '3'\n",
    "from transformers import *\n",
    "from datasets import get_dataset_config_names, load_dataset\n",
    "import tqdm.notebook as tqdm"
   ]
  },
  {
   "cell_type": "markdown",
   "id": "dbb00eaf",
   "metadata": {
    "papermill": {
     "duration": 0.019466,
     "end_time": "2022-03-07T07:46:00.008478",
     "exception": false,
     "start_time": "2022-03-07T07:45:59.989012",
     "status": "completed"
    },
    "tags": []
   },
   "source": [
    "# Load Test"
   ]
  },
  {
   "cell_type": "code",
   "execution_count": 2,
   "id": "ebfbb2b5",
   "metadata": {
    "execution": {
     "iopub.execute_input": "2022-03-07T07:46:00.053571Z",
     "iopub.status.busy": "2022-03-07T07:46:00.052862Z",
     "iopub.status.idle": "2022-03-07T07:46:00.088309Z",
     "shell.execute_reply": "2022-03-07T07:46:00.088670Z",
     "shell.execute_reply.started": "2022-03-07T07:43:38.483059Z"
    },
    "papermill": {
     "duration": 0.060911,
     "end_time": "2022-03-07T07:46:00.088859",
     "exception": false,
     "start_time": "2022-03-07T07:46:00.027948",
     "status": "completed"
    },
    "tags": []
   },
   "outputs": [
    {
     "data": {
      "text/html": [
       "<div>\n",
       "<style scoped>\n",
       "    .dataframe tbody tr th:only-of-type {\n",
       "        vertical-align: middle;\n",
       "    }\n",
       "\n",
       "    .dataframe tbody tr th {\n",
       "        vertical-align: top;\n",
       "    }\n",
       "\n",
       "    .dataframe thead th {\n",
       "        text-align: right;\n",
       "    }\n",
       "</style>\n",
       "<table border=\"1\" class=\"dataframe\">\n",
       "  <thead>\n",
       "    <tr style=\"text-align: right;\">\n",
       "      <th></th>\n",
       "      <th>id</th>\n",
       "      <th>text</th>\n",
       "    </tr>\n",
       "  </thead>\n",
       "  <tbody>\n",
       "    <tr>\n",
       "      <th>0</th>\n",
       "      <td>0FB0700DAF44</td>\n",
       "      <td>During a group project, have you ever asked a ...</td>\n",
       "    </tr>\n",
       "    <tr>\n",
       "      <th>1</th>\n",
       "      <td>D72CB1C11673</td>\n",
       "      <td>Making choices in life can be very difficult. ...</td>\n",
       "    </tr>\n",
       "    <tr>\n",
       "      <th>2</th>\n",
       "      <td>18409261F5C2</td>\n",
       "      <td>80% of Americans believe seeking multiple opin...</td>\n",
       "    </tr>\n",
       "    <tr>\n",
       "      <th>3</th>\n",
       "      <td>DF920E0A7337</td>\n",
       "      <td>Have you ever asked more than one person for h...</td>\n",
       "    </tr>\n",
       "    <tr>\n",
       "      <th>4</th>\n",
       "      <td>D46BCB48440A</td>\n",
       "      <td>When people ask for advice,they sometimes talk...</td>\n",
       "    </tr>\n",
       "  </tbody>\n",
       "</table>\n",
       "</div>"
      ],
      "text/plain": [
       "             id                                               text\n",
       "0  0FB0700DAF44  During a group project, have you ever asked a ...\n",
       "1  D72CB1C11673  Making choices in life can be very difficult. ...\n",
       "2  18409261F5C2  80% of Americans believe seeking multiple opin...\n",
       "3  DF920E0A7337  Have you ever asked more than one person for h...\n",
       "4  D46BCB48440A  When people ask for advice,they sometimes talk..."
      ]
     },
     "execution_count": 2,
     "metadata": {},
     "output_type": "execute_result"
    }
   ],
   "source": [
    "# https://www.kaggle.com/raghavendrakotala/fine-tunned-on-roberta-base-as-ner-problem-0-533\n",
    "test_names, test = [], []\n",
    "for f in list(os.listdir('../input/feedback-prize-2021/test')):\n",
    "    test_names.append(f.replace('.txt', ''))\n",
    "    test.append(open('../input/feedback-prize-2021/test/' + f, 'r').read())\n",
    "test = pd.DataFrame({'id': test_names, 'text': test})\n",
    "test.head()"
   ]
  },
  {
   "cell_type": "code",
   "execution_count": 3,
   "id": "52fb6b4b",
   "metadata": {
    "execution": {
     "iopub.execute_input": "2022-03-07T07:46:00.133555Z",
     "iopub.status.busy": "2022-03-07T07:46:00.132858Z",
     "iopub.status.idle": "2022-03-07T07:46:00.135307Z",
     "shell.execute_reply": "2022-03-07T07:46:00.134893Z",
     "shell.execute_reply.started": "2022-03-07T07:43:38.529110Z"
    },
    "papermill": {
     "duration": 0.025849,
     "end_time": "2022-03-07T07:46:00.135416",
     "exception": false,
     "start_time": "2022-03-07T07:46:00.109567",
     "status": "completed"
    },
    "tags": []
   },
   "outputs": [],
   "source": [
    "test.columns = [\"id\", \"context\"]"
   ]
  },
  {
   "cell_type": "code",
   "execution_count": 4,
   "id": "8d1b8646",
   "metadata": {
    "execution": {
     "iopub.execute_input": "2022-03-07T07:46:00.178875Z",
     "iopub.status.busy": "2022-03-07T07:46:00.178070Z",
     "iopub.status.idle": "2022-03-07T07:46:00.180420Z",
     "shell.execute_reply": "2022-03-07T07:46:00.179992Z",
     "shell.execute_reply.started": "2022-03-07T07:43:38.537115Z"
    },
    "papermill": {
     "duration": 0.025566,
     "end_time": "2022-03-07T07:46:00.180526",
     "exception": false,
     "start_time": "2022-03-07T07:46:00.154960",
     "status": "completed"
    },
    "tags": []
   },
   "outputs": [],
   "source": [
    "labels = ['Lead', 'Position', 'Evidence', 'Claim', 'Concluding Statement',\n",
    "             'Counterclaim', 'Rebuttal']"
   ]
  },
  {
   "cell_type": "code",
   "execution_count": 5,
   "id": "7036bd1f",
   "metadata": {
    "execution": {
     "iopub.execute_input": "2022-03-07T07:46:00.232141Z",
     "iopub.status.busy": "2022-03-07T07:46:00.230396Z",
     "iopub.status.idle": "2022-03-07T07:46:00.234536Z",
     "shell.execute_reply": "2022-03-07T07:46:00.234128Z",
     "shell.execute_reply.started": "2022-03-07T07:43:38.547377Z"
    },
    "papermill": {
     "duration": 0.034242,
     "end_time": "2022-03-07T07:46:00.234636",
     "exception": false,
     "start_time": "2022-03-07T07:46:00.200394",
     "status": "completed"
    },
    "tags": []
   },
   "outputs": [],
   "source": [
    "test['question'] = [labels for row in range(test.shape[0])]"
   ]
  },
  {
   "cell_type": "code",
   "execution_count": 6,
   "id": "b2fb568e",
   "metadata": {
    "execution": {
     "iopub.execute_input": "2022-03-07T07:46:00.289331Z",
     "iopub.status.busy": "2022-03-07T07:46:00.288621Z",
     "iopub.status.idle": "2022-03-07T07:46:00.291121Z",
     "shell.execute_reply": "2022-03-07T07:46:00.290715Z",
     "shell.execute_reply.started": "2022-03-07T07:43:38.560707Z"
    },
    "papermill": {
     "duration": 0.036944,
     "end_time": "2022-03-07T07:46:00.291224",
     "exception": false,
     "start_time": "2022-03-07T07:46:00.254280",
     "status": "completed"
    },
    "tags": []
   },
   "outputs": [],
   "source": [
    "test = test.explode('question')"
   ]
  },
  {
   "cell_type": "code",
   "execution_count": 7,
   "id": "ba0bffc7",
   "metadata": {
    "execution": {
     "iopub.execute_input": "2022-03-07T07:46:00.336091Z",
     "iopub.status.busy": "2022-03-07T07:46:00.335478Z",
     "iopub.status.idle": "2022-03-07T07:46:00.338089Z",
     "shell.execute_reply": "2022-03-07T07:46:00.338495Z",
     "shell.execute_reply.started": "2022-03-07T07:43:38.583699Z"
    },
    "papermill": {
     "duration": 0.026962,
     "end_time": "2022-03-07T07:46:00.338608",
     "exception": false,
     "start_time": "2022-03-07T07:46:00.311646",
     "status": "completed"
    },
    "tags": []
   },
   "outputs": [
    {
     "name": "stdout",
     "output_type": "stream",
     "text": [
      "There are 5 train texts.\n"
     ]
    }
   ],
   "source": [
    "IDS = test.id.unique()\n",
    "print('There are',len(IDS),'train texts.')"
   ]
  },
  {
   "cell_type": "code",
   "execution_count": 8,
   "id": "3d339923",
   "metadata": {
    "execution": {
     "iopub.execute_input": "2022-03-07T07:46:00.384436Z",
     "iopub.status.busy": "2022-03-07T07:46:00.383933Z",
     "iopub.status.idle": "2022-03-07T07:46:00.443858Z",
     "shell.execute_reply": "2022-03-07T07:46:00.443360Z",
     "shell.execute_reply.started": "2022-03-07T07:43:38.591789Z"
    },
    "papermill": {
     "duration": 0.084935,
     "end_time": "2022-03-07T07:46:00.443975",
     "exception": false,
     "start_time": "2022-03-07T07:46:00.359040",
     "status": "completed"
    },
    "tags": []
   },
   "outputs": [],
   "source": [
    "#model_ckpt = \"distilbert-base-cased-distilled-squad\"\n",
    "model_checkpoint = \"../input/q-a-pytorch/model.h5\"\n",
    "# model_checkpoint = \"distilbert-base-cased-distilled-squad\"\n",
    "config_model = \"../input/q-a-pytorch/model.h5/config.json\"\n",
    "tokenizer = AutoTokenizer.from_pretrained(model_checkpoint)\n",
    "\n",
    "target_map = {'Lead':0, 'Position':1, 'Evidence':2, 'Claim':3, 'Concluding Statement':4,\n",
    "             'Counterclaim':5, 'Rebuttal':6}"
   ]
  },
  {
   "cell_type": "code",
   "execution_count": 9,
   "id": "b47ae1b5",
   "metadata": {
    "execution": {
     "iopub.execute_input": "2022-03-07T07:46:00.487946Z",
     "iopub.status.busy": "2022-03-07T07:46:00.487189Z",
     "iopub.status.idle": "2022-03-07T07:46:00.489156Z",
     "shell.execute_reply": "2022-03-07T07:46:00.489563Z",
     "shell.execute_reply.started": "2022-03-07T07:43:38.688327Z"
    },
    "papermill": {
     "duration": 0.025685,
     "end_time": "2022-03-07T07:46:00.489680",
     "exception": false,
     "start_time": "2022-03-07T07:46:00.463995",
     "status": "completed"
    },
    "tags": []
   },
   "outputs": [],
   "source": [
    "# os.mkdir('model')\n",
    "\n",
    "# tokenizer = AutoTokenizer.from_pretrained(model_checkpoint, add_prefix_space=True)\n",
    "# tokenizer.save_pretrained('model')\n",
    "\n",
    "# #     config_model = AutoConfig.from_pretrained(model_checkpoint) \n",
    "# #     config_model.num_labels = 15\n",
    "# #     config_model.save_pretrained('model')\n",
    "\n",
    "# backbone = AutoModelForQuestionAnswering.from_pretrained(model_checkpoint)\n",
    "# backbone.save_pretrained('model')"
   ]
  },
  {
   "cell_type": "code",
   "execution_count": 10,
   "id": "8ad11ba0",
   "metadata": {
    "execution": {
     "iopub.execute_input": "2022-03-07T07:46:00.533479Z",
     "iopub.status.busy": "2022-03-07T07:46:00.532771Z",
     "iopub.status.idle": "2022-03-07T07:46:00.535295Z",
     "shell.execute_reply": "2022-03-07T07:46:00.534822Z",
     "shell.execute_reply.started": "2022-03-07T07:43:38.694973Z"
    },
    "papermill": {
     "duration": 0.025874,
     "end_time": "2022-03-07T07:46:00.535410",
     "exception": false,
     "start_time": "2022-03-07T07:46:00.509536",
     "status": "completed"
    },
    "tags": []
   },
   "outputs": [],
   "source": [
    "max_length = tokenizer.model_max_length\n",
    "stride = 64"
   ]
  },
  {
   "cell_type": "code",
   "execution_count": 11,
   "id": "fed18475",
   "metadata": {
    "execution": {
     "iopub.execute_input": "2022-03-07T07:46:00.581920Z",
     "iopub.status.busy": "2022-03-07T07:46:00.581166Z",
     "iopub.status.idle": "2022-03-07T07:46:00.583517Z",
     "shell.execute_reply": "2022-03-07T07:46:00.583098Z",
     "shell.execute_reply.started": "2022-03-07T07:43:38.707811Z"
    },
    "papermill": {
     "duration": 0.028394,
     "end_time": "2022-03-07T07:46:00.583617",
     "exception": false,
     "start_time": "2022-03-07T07:46:00.555223",
     "status": "completed"
    },
    "tags": []
   },
   "outputs": [],
   "source": [
    "def preprocess_validation_examples(examples):\n",
    "    #strip removes leading and trailing whitespaces\n",
    "    questions = [q.strip() for q in examples[\"question\"]]\n",
    "    inputs = tokenizer(\n",
    "        questions,\n",
    "        examples[\"context\"],\n",
    "        max_length=max_length,\n",
    "        truncation=\"only_second\",\n",
    "        stride=stride,\n",
    "        return_overflowing_tokens=True,\n",
    "        return_offsets_mapping=True,\n",
    "        padding=\"max_length\",\n",
    "    )\n",
    "\n",
    "    sample_map = inputs.pop(\"overflow_to_sample_mapping\")\n",
    "    offset_mapping = inputs.pop(\"offset_mapping\")\n",
    "    example_ids = []\n",
    "\n",
    "    for i in range(len(inputs[\"input_ids\"])):\n",
    "        sample_idx = sample_map[i]\n",
    "        example_ids.append(examples[\"id\"][sample_idx])\n",
    "\n",
    "        sequence_ids = inputs.sequence_ids(i)\n",
    "#         offset = inputs[\"offset_mapping\"][i]\n",
    "#         inputs[\"offset_mapping\"][i] = [\n",
    "#             o if sequence_ids[k] == 1 else None for k, o in enumerate(offset)\n",
    "#         ]\n",
    "\n",
    "    inputs[\"example_id\"] = example_ids\n",
    "    \n",
    "    return inputs"
   ]
  },
  {
   "cell_type": "code",
   "execution_count": 12,
   "id": "6e323059",
   "metadata": {
    "execution": {
     "iopub.execute_input": "2022-03-07T07:46:00.628522Z",
     "iopub.status.busy": "2022-03-07T07:46:00.627775Z",
     "iopub.status.idle": "2022-03-07T07:46:00.644570Z",
     "shell.execute_reply": "2022-03-07T07:46:00.644183Z",
     "shell.execute_reply.started": "2022-03-07T07:43:38.718874Z"
    },
    "papermill": {
     "duration": 0.039785,
     "end_time": "2022-03-07T07:46:00.644672",
     "exception": false,
     "start_time": "2022-03-07T07:46:00.604887",
     "status": "completed"
    },
    "tags": []
   },
   "outputs": [],
   "source": [
    "from datasets import Dataset\n",
    "dataset = Dataset.from_pandas(test)"
   ]
  },
  {
   "cell_type": "code",
   "execution_count": 13,
   "id": "34652c3f",
   "metadata": {
    "execution": {
     "iopub.execute_input": "2022-03-07T07:46:00.688870Z",
     "iopub.status.busy": "2022-03-07T07:46:00.688149Z",
     "iopub.status.idle": "2022-03-07T07:46:00.690847Z",
     "shell.execute_reply": "2022-03-07T07:46:00.691254Z",
     "shell.execute_reply.started": "2022-03-07T07:43:38.758302Z"
    },
    "papermill": {
     "duration": 0.026767,
     "end_time": "2022-03-07T07:46:00.691367",
     "exception": false,
     "start_time": "2022-03-07T07:46:00.664600",
     "status": "completed"
    },
    "tags": []
   },
   "outputs": [
    {
     "data": {
      "text/plain": [
       "['id', 'context', 'question', '__index_level_0__']"
      ]
     },
     "execution_count": 13,
     "metadata": {},
     "output_type": "execute_result"
    }
   ],
   "source": [
    "dataset.column_names"
   ]
  },
  {
   "cell_type": "code",
   "execution_count": 14,
   "id": "1bcd34fb",
   "metadata": {
    "execution": {
     "iopub.execute_input": "2022-03-07T07:46:00.745789Z",
     "iopub.status.busy": "2022-03-07T07:46:00.735493Z",
     "iopub.status.idle": "2022-03-07T07:46:00.869602Z",
     "shell.execute_reply": "2022-03-07T07:46:00.870042Z",
     "shell.execute_reply.started": "2022-03-07T07:43:38.764464Z"
    },
    "papermill": {
     "duration": 0.158762,
     "end_time": "2022-03-07T07:46:00.870184",
     "exception": false,
     "start_time": "2022-03-07T07:46:00.711422",
     "status": "completed"
    },
    "tags": []
   },
   "outputs": [
    {
     "data": {
      "application/vnd.jupyter.widget-view+json": {
       "model_id": "ee4aa663d3bf4200a3c499e57456eac4",
       "version_major": 2,
       "version_minor": 0
      },
      "text/plain": [
       "  0%|          | 0/1 [00:00<?, ?ba/s]"
      ]
     },
     "metadata": {},
     "output_type": "display_data"
    },
    {
     "data": {
      "text/plain": [
       "70"
      ]
     },
     "execution_count": 14,
     "metadata": {},
     "output_type": "execute_result"
    }
   ],
   "source": [
    "validation_dataset = dataset.map(\n",
    "    preprocess_validation_examples,\n",
    "    batched=True,\n",
    "    remove_columns=dataset.column_names,\n",
    ")\n",
    "len(validation_dataset)"
   ]
  },
  {
   "cell_type": "markdown",
   "id": "cd0ca83b",
   "metadata": {
    "papermill": {
     "duration": 0.020806,
     "end_time": "2022-03-07T07:46:00.912249",
     "exception": false,
     "start_time": "2022-03-07T07:46:00.891443",
     "status": "completed"
    },
    "tags": []
   },
   "source": [
    "# Build Model\n",
    "We will use LongFormer backbone and add our own NER head using one hidden layer of size 256 and one final layer with softmax. We use 15 classes because we have a `B` class and `I` class for each of 7 labels. And we have an additional class (called `O` class) for tokens that do not belong to one of the 14 classes."
   ]
  },
  {
   "cell_type": "code",
   "execution_count": 15,
   "id": "47869e08",
   "metadata": {
    "execution": {
     "iopub.execute_input": "2022-03-07T07:46:00.957610Z",
     "iopub.status.busy": "2022-03-07T07:46:00.956830Z",
     "iopub.status.idle": "2022-03-07T07:46:00.998983Z",
     "shell.execute_reply": "2022-03-07T07:46:00.998517Z",
     "shell.execute_reply.started": "2022-03-07T07:43:38.904307Z"
    },
    "papermill": {
     "duration": 0.065675,
     "end_time": "2022-03-07T07:46:00.999109",
     "exception": false,
     "start_time": "2022-03-07T07:46:00.933434",
     "status": "completed"
    },
    "tags": []
   },
   "outputs": [],
   "source": [
    "import torch\n",
    "from transformers import AutoModelForQuestionAnswering\n",
    "\n",
    "device = torch.device(\"cuda\") if torch.cuda.is_available() else torch.device(\"cpu\")"
   ]
  },
  {
   "cell_type": "code",
   "execution_count": 16,
   "id": "458b489f",
   "metadata": {
    "execution": {
     "iopub.execute_input": "2022-03-07T07:46:01.045875Z",
     "iopub.status.busy": "2022-03-07T07:46:01.045327Z",
     "iopub.status.idle": "2022-03-07T07:46:06.198670Z",
     "shell.execute_reply": "2022-03-07T07:46:06.197882Z",
     "shell.execute_reply.started": "2022-03-07T07:43:38.910330Z"
    },
    "papermill": {
     "duration": 5.177747,
     "end_time": "2022-03-07T07:46:06.198823",
     "exception": false,
     "start_time": "2022-03-07T07:46:01.021076",
     "status": "completed"
    },
    "tags": []
   },
   "outputs": [],
   "source": [
    "model = AutoModelForQuestionAnswering.from_pretrained(model_checkpoint)"
   ]
  },
  {
   "cell_type": "code",
   "execution_count": 17,
   "id": "0581bb12",
   "metadata": {
    "execution": {
     "iopub.execute_input": "2022-03-07T07:46:06.245603Z",
     "iopub.status.busy": "2022-03-07T07:46:06.245030Z",
     "iopub.status.idle": "2022-03-07T07:46:06.247895Z",
     "shell.execute_reply": "2022-03-07T07:46:06.247440Z",
     "shell.execute_reply.started": "2022-03-07T07:43:43.935832Z"
    },
    "papermill": {
     "duration": 0.027492,
     "end_time": "2022-03-07T07:46:06.248010",
     "exception": false,
     "start_time": "2022-03-07T07:46:06.220518",
     "status": "completed"
    },
    "tags": []
   },
   "outputs": [],
   "source": [
    "question = test.question.iloc[0]\n",
    "context = test.context.iloc[0]"
   ]
  },
  {
   "cell_type": "code",
   "execution_count": 18,
   "id": "0a9568f5",
   "metadata": {
    "execution": {
     "iopub.execute_input": "2022-03-07T07:46:06.295250Z",
     "iopub.status.busy": "2022-03-07T07:46:06.294736Z",
     "iopub.status.idle": "2022-03-07T07:46:06.299767Z",
     "shell.execute_reply": "2022-03-07T07:46:06.299316Z",
     "shell.execute_reply.started": "2022-03-07T07:43:43.944284Z"
    },
    "papermill": {
     "duration": 0.030317,
     "end_time": "2022-03-07T07:46:06.299877",
     "exception": false,
     "start_time": "2022-03-07T07:46:06.269560",
     "status": "completed"
    },
    "tags": []
   },
   "outputs": [
    {
     "data": {
      "text/plain": [
       "Dataset({\n",
       "    features: ['attention_mask', 'example_id', 'input_ids'],\n",
       "    num_rows: 70\n",
       "})"
      ]
     },
     "execution_count": 18,
     "metadata": {},
     "output_type": "execute_result"
    }
   ],
   "source": [
    "validation_dataset"
   ]
  },
  {
   "cell_type": "code",
   "execution_count": 19,
   "id": "62dd8979",
   "metadata": {
    "execution": {
     "iopub.execute_input": "2022-03-07T07:46:06.346789Z",
     "iopub.status.busy": "2022-03-07T07:46:06.345984Z",
     "iopub.status.idle": "2022-03-07T07:46:06.347968Z",
     "shell.execute_reply": "2022-03-07T07:46:06.348418Z",
     "shell.execute_reply.started": "2022-03-07T07:43:43.961779Z"
    },
    "papermill": {
     "duration": 0.027303,
     "end_time": "2022-03-07T07:46:06.348597",
     "exception": false,
     "start_time": "2022-03-07T07:46:06.321294",
     "status": "completed"
    },
    "tags": []
   },
   "outputs": [],
   "source": [
    "from torch.utils.data import DataLoader\n",
    "from transformers import default_data_collator\n",
    "dataloader = DataLoader(validation_dataset, collate_fn = default_data_collator, batch_size = 8)"
   ]
  },
  {
   "cell_type": "code",
   "execution_count": 20,
   "id": "23a73755",
   "metadata": {
    "execution": {
     "iopub.execute_input": "2022-03-07T07:46:06.396484Z",
     "iopub.status.busy": "2022-03-07T07:46:06.395819Z",
     "iopub.status.idle": "2022-03-07T07:46:06.398301Z",
     "shell.execute_reply": "2022-03-07T07:46:06.397896Z",
     "shell.execute_reply.started": "2022-03-07T07:43:43.971572Z"
    },
    "papermill": {
     "duration": 0.028619,
     "end_time": "2022-03-07T07:46:06.398407",
     "exception": false,
     "start_time": "2022-03-07T07:46:06.369788",
     "status": "completed"
    },
    "tags": []
   },
   "outputs": [],
   "source": [
    "def preprocess(question, context, text_id):\n",
    "    inputs = tokenizer(\n",
    "        question,\n",
    "        context,\n",
    "        max_length=max_length,\n",
    "        truncation=\"only_second\",\n",
    "        stride=stride,\n",
    "        return_overflowing_tokens=True,\n",
    "        return_offsets_mapping=True,\n",
    "        padding=\"max_length\",\n",
    "        return_tensors = 'pt'\n",
    "    )\n",
    "\n",
    "    sample_map = inputs.pop(\"overflow_to_sample_mapping\")\n",
    "    offset_mapping = inputs.pop(\"offset_mapping\")\n",
    "#     example_ids = []\n",
    "\n",
    "#     for i in range(len(inputs[\"input_ids\"])):\n",
    "#         sample_idx = sample_map[i]\n",
    "#         example_ids.append(text_id)\n",
    "#         sequence_ids = inputs.sequence_ids(i)\n",
    "\n",
    "#     inputs[\"example_id\"] = example_ids\n",
    "    \n",
    "    return inputs, offset_mapping"
   ]
  },
  {
   "cell_type": "code",
   "execution_count": 21,
   "id": "f593cf22",
   "metadata": {
    "execution": {
     "iopub.execute_input": "2022-03-07T07:46:06.450670Z",
     "iopub.status.busy": "2022-03-07T07:46:06.449995Z",
     "iopub.status.idle": "2022-03-07T07:46:06.452668Z",
     "shell.execute_reply": "2022-03-07T07:46:06.452217Z",
     "shell.execute_reply.started": "2022-03-07T07:43:43.983265Z"
    },
    "papermill": {
     "duration": 0.033255,
     "end_time": "2022-03-07T07:46:06.452785",
     "exception": false,
     "start_time": "2022-03-07T07:46:06.419530",
     "status": "completed"
    },
    "tags": []
   },
   "outputs": [],
   "source": [
    "def get_predictions(outputs, inputs, offsets, context):\n",
    "    start_logits = outputs.start_logits\n",
    "    end_logits = outputs.end_logits\n",
    "    #print(start_logits.shape, end_logits.shape)\n",
    "    sequence_ids = inputs.sequence_ids()\n",
    "    # Mask everything apart from the tokens of the context\n",
    "    mask = [i != 1 for i in sequence_ids]\n",
    "    # Unmask the [CLS] token\n",
    "    mask[0] = False\n",
    "    # Mask all the [PAD] tokens\n",
    "    mask = torch.logical_or(torch.tensor(mask)[None], (inputs[\"attention_mask\"] == 0))\n",
    "\n",
    "    start_logits[mask] = -10000\n",
    "    end_logits[mask] = -10000\n",
    "    start_probabilities = torch.nn.functional.softmax(start_logits, dim=-1)\n",
    "    end_probabilities = torch.nn.functional.softmax(end_logits, dim=-1)\n",
    "    \n",
    "    candidates = []\n",
    "    for start_probs, end_probs in zip(start_probabilities, end_probabilities):\n",
    "        scores = start_probs[:, None] * end_probs[None, :]\n",
    "        idx = torch.triu(scores).argmax().item()\n",
    "\n",
    "        start_idx = idx // scores.shape[0]\n",
    "        end_idx = idx % scores.shape[0]\n",
    "        score = scores[start_idx, end_idx].item()\n",
    "        candidates.append((start_idx, end_idx, score))\n",
    "\n",
    "    #print(candidates)\n",
    "    results = []\n",
    "    for candidate, offset in zip(candidates, offsets):\n",
    "        start_token, end_token, score = candidate\n",
    "        start_char, _ = offset[start_token]\n",
    "        _, end_char = offset[end_token]\n",
    "        answer = context[start_char:end_char]\n",
    "        result = {\"answer\": answer, \"start\": start_char, \"end\": end_char, \"score\": score}\n",
    "        results.append(result)\n",
    "    return results"
   ]
  },
  {
   "cell_type": "code",
   "execution_count": 22,
   "id": "8f618fd9",
   "metadata": {
    "execution": {
     "iopub.execute_input": "2022-03-07T07:46:06.500658Z",
     "iopub.status.busy": "2022-03-07T07:46:06.500029Z",
     "iopub.status.idle": "2022-03-07T07:46:06.502507Z",
     "shell.execute_reply": "2022-03-07T07:46:06.502121Z",
     "shell.execute_reply.started": "2022-03-07T07:43:43.999869Z"
    },
    "papermill": {
     "duration": 0.028372,
     "end_time": "2022-03-07T07:46:06.502609",
     "exception": false,
     "start_time": "2022-03-07T07:46:06.474237",
     "status": "completed"
    },
    "tags": []
   },
   "outputs": [],
   "source": [
    "def get_predictionstring(result):\n",
    "    pred = result['answer']\n",
    "    if len(pred) == 0:\n",
    "        return \"\"\n",
    "    start = result['start']\n",
    "    end = result['end']\n",
    "    score = result['score']\n",
    "    start_index = len(context[:start].split())\n",
    "    end_index = start_index + len(pred.split())\n",
    "    predictionstring = \"\"\n",
    "    for i in range(start_index, end_index):\n",
    "        predictionstring += str(i) + \" \"\n",
    "    return predictionstring"
   ]
  },
  {
   "cell_type": "code",
   "execution_count": 23,
   "id": "b71737b0",
   "metadata": {
    "execution": {
     "iopub.execute_input": "2022-03-07T07:46:06.549019Z",
     "iopub.status.busy": "2022-03-07T07:46:06.548468Z",
     "iopub.status.idle": "2022-03-07T07:46:06.550779Z",
     "shell.execute_reply": "2022-03-07T07:46:06.551183Z",
     "shell.execute_reply.started": "2022-03-07T07:43:44.017661Z"
    },
    "papermill": {
     "duration": 0.027389,
     "end_time": "2022-03-07T07:46:06.551304",
     "exception": false,
     "start_time": "2022-03-07T07:46:06.523915",
     "status": "completed"
    },
    "tags": []
   },
   "outputs": [],
   "source": [
    "test['predictionstring'] = \"\""
   ]
  },
  {
   "cell_type": "code",
   "execution_count": 24,
   "id": "61a1e6f5",
   "metadata": {
    "execution": {
     "iopub.execute_input": "2022-03-07T07:46:06.597865Z",
     "iopub.status.busy": "2022-03-07T07:46:06.597135Z",
     "iopub.status.idle": "2022-03-07T07:46:06.599176Z",
     "shell.execute_reply": "2022-03-07T07:46:06.599587Z",
     "shell.execute_reply.started": "2022-03-07T07:43:44.028597Z"
    },
    "papermill": {
     "duration": 0.027287,
     "end_time": "2022-03-07T07:46:06.599727",
     "exception": false,
     "start_time": "2022-03-07T07:46:06.572440",
     "status": "completed"
    },
    "tags": []
   },
   "outputs": [],
   "source": [
    "predictions_dict = {}\n",
    "predictions_dict['id'] = []\n",
    "predictions_dict['class'] = []\n",
    "predictions_dict['predictionstring'] = []"
   ]
  },
  {
   "cell_type": "code",
   "execution_count": 25,
   "id": "86ba5495",
   "metadata": {
    "execution": {
     "iopub.execute_input": "2022-03-07T07:46:06.648853Z",
     "iopub.status.busy": "2022-03-07T07:46:06.648090Z",
     "iopub.status.idle": "2022-03-07T07:46:43.106262Z",
     "shell.execute_reply": "2022-03-07T07:46:43.105788Z",
     "shell.execute_reply.started": "2022-03-07T07:43:44.040145Z"
    },
    "papermill": {
     "duration": 36.485538,
     "end_time": "2022-03-07T07:46:43.106395",
     "exception": false,
     "start_time": "2022-03-07T07:46:06.620857",
     "status": "completed"
    },
    "tags": []
   },
   "outputs": [],
   "source": [
    "with torch.no_grad():\n",
    "#     counter = 0\n",
    "    for index, row in test.iterrows():\n",
    "        question = row.question\n",
    "        text_id = row.id\n",
    "        context = row.context\n",
    "        inputs, offset_mapping = preprocess(question, context, text_id)\n",
    "        outputs = model(**inputs)\n",
    "        results = get_predictions(outputs, inputs, offset_mapping, context)\n",
    "        for result in results:\n",
    "            predictionstring = get_predictionstring(result)\n",
    "            if len(predictionstring) == 0:\n",
    "                continue\n",
    "            predictions_dict['id'].append(text_id)\n",
    "            predictions_dict['class'].append(question)\n",
    "            predictions_dict['predictionstring'].append(predictionstring)\n",
    "#         counter += 1\n",
    "#         if counter > 3:\n",
    "#             break\n",
    "            "
   ]
  },
  {
   "cell_type": "code",
   "execution_count": 26,
   "id": "49ff8e71",
   "metadata": {
    "execution": {
     "iopub.execute_input": "2022-03-07T07:46:43.155304Z",
     "iopub.status.busy": "2022-03-07T07:46:43.154500Z",
     "iopub.status.idle": "2022-03-07T07:46:43.156913Z",
     "shell.execute_reply": "2022-03-07T07:46:43.156468Z",
     "shell.execute_reply.started": "2022-03-07T07:43:48.409876Z"
    },
    "papermill": {
     "duration": 0.028082,
     "end_time": "2022-03-07T07:46:43.157032",
     "exception": false,
     "start_time": "2022-03-07T07:46:43.128950",
     "status": "completed"
    },
    "tags": []
   },
   "outputs": [],
   "source": [
    "sub = pd.DataFrame.from_dict(predictions_dict)"
   ]
  },
  {
   "cell_type": "code",
   "execution_count": 27,
   "id": "131c6bdc",
   "metadata": {
    "execution": {
     "iopub.execute_input": "2022-03-07T07:46:43.202856Z",
     "iopub.status.busy": "2022-03-07T07:46:43.202273Z",
     "iopub.status.idle": "2022-03-07T07:46:43.208008Z",
     "shell.execute_reply": "2022-03-07T07:46:43.207578Z",
     "shell.execute_reply.started": "2022-03-07T07:43:48.416721Z"
    },
    "papermill": {
     "duration": 0.030017,
     "end_time": "2022-03-07T07:46:43.208119",
     "exception": false,
     "start_time": "2022-03-07T07:46:43.178102",
     "status": "completed"
    },
    "tags": []
   },
   "outputs": [],
   "source": [
    "sub.to_csv(\"submission.csv\", index = False)"
   ]
  }
 ],
 "metadata": {
  "kernelspec": {
   "display_name": "Python 3",
   "language": "python",
   "name": "python3"
  },
  "language_info": {
   "codemirror_mode": {
    "name": "ipython",
    "version": 3
   },
   "file_extension": ".py",
   "mimetype": "text/x-python",
   "name": "python",
   "nbconvert_exporter": "python",
   "pygments_lexer": "ipython3",
   "version": "3.7.12"
  },
  "papermill": {
   "default_parameters": {},
   "duration": 64.451802,
   "end_time": "2022-03-07T07:46:45.979714",
   "environment_variables": {},
   "exception": null,
   "input_path": "__notebook__.ipynb",
   "output_path": "__notebook__.ipynb",
   "parameters": {},
   "start_time": "2022-03-07T07:45:41.527912",
   "version": "2.3.3"
  },
  "widgets": {
   "application/vnd.jupyter.widget-state+json": {
    "state": {
     "25416f2607164d77b6461496474eb204": {
      "model_module": "@jupyter-widgets/controls",
      "model_module_version": "1.5.0",
      "model_name": "ProgressStyleModel",
      "state": {
       "_model_module": "@jupyter-widgets/controls",
       "_model_module_version": "1.5.0",
       "_model_name": "ProgressStyleModel",
       "_view_count": null,
       "_view_module": "@jupyter-widgets/base",
       "_view_module_version": "1.2.0",
       "_view_name": "StyleView",
       "bar_color": null,
       "description_width": ""
      }
     },
     "356eae9f7b314265ab59bfa224f1ebeb": {
      "model_module": "@jupyter-widgets/base",
      "model_module_version": "1.2.0",
      "model_name": "LayoutModel",
      "state": {
       "_model_module": "@jupyter-widgets/base",
       "_model_module_version": "1.2.0",
       "_model_name": "LayoutModel",
       "_view_count": null,
       "_view_module": "@jupyter-widgets/base",
       "_view_module_version": "1.2.0",
       "_view_name": "LayoutView",
       "align_content": null,
       "align_items": null,
       "align_self": null,
       "border": null,
       "bottom": null,
       "display": null,
       "flex": null,
       "flex_flow": null,
       "grid_area": null,
       "grid_auto_columns": null,
       "grid_auto_flow": null,
       "grid_auto_rows": null,
       "grid_column": null,
       "grid_gap": null,
       "grid_row": null,
       "grid_template_areas": null,
       "grid_template_columns": null,
       "grid_template_rows": null,
       "height": null,
       "justify_content": null,
       "justify_items": null,
       "left": null,
       "margin": null,
       "max_height": null,
       "max_width": null,
       "min_height": null,
       "min_width": null,
       "object_fit": null,
       "object_position": null,
       "order": null,
       "overflow": null,
       "overflow_x": null,
       "overflow_y": null,
       "padding": null,
       "right": null,
       "top": null,
       "visibility": null,
       "width": null
      }
     },
     "3e24ca408f5d46bdbc3dec3e7a254b8d": {
      "model_module": "@jupyter-widgets/base",
      "model_module_version": "1.2.0",
      "model_name": "LayoutModel",
      "state": {
       "_model_module": "@jupyter-widgets/base",
       "_model_module_version": "1.2.0",
       "_model_name": "LayoutModel",
       "_view_count": null,
       "_view_module": "@jupyter-widgets/base",
       "_view_module_version": "1.2.0",
       "_view_name": "LayoutView",
       "align_content": null,
       "align_items": null,
       "align_self": null,
       "border": null,
       "bottom": null,
       "display": null,
       "flex": null,
       "flex_flow": null,
       "grid_area": null,
       "grid_auto_columns": null,
       "grid_auto_flow": null,
       "grid_auto_rows": null,
       "grid_column": null,
       "grid_gap": null,
       "grid_row": null,
       "grid_template_areas": null,
       "grid_template_columns": null,
       "grid_template_rows": null,
       "height": null,
       "justify_content": null,
       "justify_items": null,
       "left": null,
       "margin": null,
       "max_height": null,
       "max_width": null,
       "min_height": null,
       "min_width": null,
       "object_fit": null,
       "object_position": null,
       "order": null,
       "overflow": null,
       "overflow_x": null,
       "overflow_y": null,
       "padding": null,
       "right": null,
       "top": null,
       "visibility": null,
       "width": null
      }
     },
     "53a53b0f19b64351931f44e74fae7c38": {
      "model_module": "@jupyter-widgets/base",
      "model_module_version": "1.2.0",
      "model_name": "LayoutModel",
      "state": {
       "_model_module": "@jupyter-widgets/base",
       "_model_module_version": "1.2.0",
       "_model_name": "LayoutModel",
       "_view_count": null,
       "_view_module": "@jupyter-widgets/base",
       "_view_module_version": "1.2.0",
       "_view_name": "LayoutView",
       "align_content": null,
       "align_items": null,
       "align_self": null,
       "border": null,
       "bottom": null,
       "display": null,
       "flex": null,
       "flex_flow": null,
       "grid_area": null,
       "grid_auto_columns": null,
       "grid_auto_flow": null,
       "grid_auto_rows": null,
       "grid_column": null,
       "grid_gap": null,
       "grid_row": null,
       "grid_template_areas": null,
       "grid_template_columns": null,
       "grid_template_rows": null,
       "height": null,
       "justify_content": null,
       "justify_items": null,
       "left": null,
       "margin": null,
       "max_height": null,
       "max_width": null,
       "min_height": null,
       "min_width": null,
       "object_fit": null,
       "object_position": null,
       "order": null,
       "overflow": null,
       "overflow_x": null,
       "overflow_y": null,
       "padding": null,
       "right": null,
       "top": null,
       "visibility": null,
       "width": null
      }
     },
     "7001d87ac52842709d415d14c27edaa9": {
      "model_module": "@jupyter-widgets/controls",
      "model_module_version": "1.5.0",
      "model_name": "HTMLModel",
      "state": {
       "_dom_classes": [],
       "_model_module": "@jupyter-widgets/controls",
       "_model_module_version": "1.5.0",
       "_model_name": "HTMLModel",
       "_view_count": null,
       "_view_module": "@jupyter-widgets/controls",
       "_view_module_version": "1.5.0",
       "_view_name": "HTMLView",
       "description": "",
       "description_tooltip": null,
       "layout": "IPY_MODEL_356eae9f7b314265ab59bfa224f1ebeb",
       "placeholder": "​",
       "style": "IPY_MODEL_ebfc941d46c248a090182ef1d03c57c2",
       "value": "100%"
      }
     },
     "73b903e4739f409db4d36fcabed6f2cf": {
      "model_module": "@jupyter-widgets/controls",
      "model_module_version": "1.5.0",
      "model_name": "DescriptionStyleModel",
      "state": {
       "_model_module": "@jupyter-widgets/controls",
       "_model_module_version": "1.5.0",
       "_model_name": "DescriptionStyleModel",
       "_view_count": null,
       "_view_module": "@jupyter-widgets/base",
       "_view_module_version": "1.2.0",
       "_view_name": "StyleView",
       "description_width": ""
      }
     },
     "a05384d315ea4401aeaa5e8b27b262ef": {
      "model_module": "@jupyter-widgets/controls",
      "model_module_version": "1.5.0",
      "model_name": "HTMLModel",
      "state": {
       "_dom_classes": [],
       "_model_module": "@jupyter-widgets/controls",
       "_model_module_version": "1.5.0",
       "_model_name": "HTMLModel",
       "_view_count": null,
       "_view_module": "@jupyter-widgets/controls",
       "_view_module_version": "1.5.0",
       "_view_name": "HTMLView",
       "description": "",
       "description_tooltip": null,
       "layout": "IPY_MODEL_53a53b0f19b64351931f44e74fae7c38",
       "placeholder": "​",
       "style": "IPY_MODEL_73b903e4739f409db4d36fcabed6f2cf",
       "value": " 1/1 [00:00&lt;00:00,  8.83ba/s]"
      }
     },
     "deb9db25723749979c2db59857e59655": {
      "model_module": "@jupyter-widgets/base",
      "model_module_version": "1.2.0",
      "model_name": "LayoutModel",
      "state": {
       "_model_module": "@jupyter-widgets/base",
       "_model_module_version": "1.2.0",
       "_model_name": "LayoutModel",
       "_view_count": null,
       "_view_module": "@jupyter-widgets/base",
       "_view_module_version": "1.2.0",
       "_view_name": "LayoutView",
       "align_content": null,
       "align_items": null,
       "align_self": null,
       "border": null,
       "bottom": null,
       "display": null,
       "flex": null,
       "flex_flow": null,
       "grid_area": null,
       "grid_auto_columns": null,
       "grid_auto_flow": null,
       "grid_auto_rows": null,
       "grid_column": null,
       "grid_gap": null,
       "grid_row": null,
       "grid_template_areas": null,
       "grid_template_columns": null,
       "grid_template_rows": null,
       "height": null,
       "justify_content": null,
       "justify_items": null,
       "left": null,
       "margin": null,
       "max_height": null,
       "max_width": null,
       "min_height": null,
       "min_width": null,
       "object_fit": null,
       "object_position": null,
       "order": null,
       "overflow": null,
       "overflow_x": null,
       "overflow_y": null,
       "padding": null,
       "right": null,
       "top": null,
       "visibility": null,
       "width": null
      }
     },
     "ebfc941d46c248a090182ef1d03c57c2": {
      "model_module": "@jupyter-widgets/controls",
      "model_module_version": "1.5.0",
      "model_name": "DescriptionStyleModel",
      "state": {
       "_model_module": "@jupyter-widgets/controls",
       "_model_module_version": "1.5.0",
       "_model_name": "DescriptionStyleModel",
       "_view_count": null,
       "_view_module": "@jupyter-widgets/base",
       "_view_module_version": "1.2.0",
       "_view_name": "StyleView",
       "description_width": ""
      }
     },
     "ee4aa663d3bf4200a3c499e57456eac4": {
      "model_module": "@jupyter-widgets/controls",
      "model_module_version": "1.5.0",
      "model_name": "HBoxModel",
      "state": {
       "_dom_classes": [],
       "_model_module": "@jupyter-widgets/controls",
       "_model_module_version": "1.5.0",
       "_model_name": "HBoxModel",
       "_view_count": null,
       "_view_module": "@jupyter-widgets/controls",
       "_view_module_version": "1.5.0",
       "_view_name": "HBoxView",
       "box_style": "",
       "children": [
        "IPY_MODEL_7001d87ac52842709d415d14c27edaa9",
        "IPY_MODEL_f1829793b2e240da8c9f6df192759b3d",
        "IPY_MODEL_a05384d315ea4401aeaa5e8b27b262ef"
       ],
       "layout": "IPY_MODEL_deb9db25723749979c2db59857e59655"
      }
     },
     "f1829793b2e240da8c9f6df192759b3d": {
      "model_module": "@jupyter-widgets/controls",
      "model_module_version": "1.5.0",
      "model_name": "FloatProgressModel",
      "state": {
       "_dom_classes": [],
       "_model_module": "@jupyter-widgets/controls",
       "_model_module_version": "1.5.0",
       "_model_name": "FloatProgressModel",
       "_view_count": null,
       "_view_module": "@jupyter-widgets/controls",
       "_view_module_version": "1.5.0",
       "_view_name": "ProgressView",
       "bar_style": "success",
       "description": "",
       "description_tooltip": null,
       "layout": "IPY_MODEL_3e24ca408f5d46bdbc3dec3e7a254b8d",
       "max": 1.0,
       "min": 0.0,
       "orientation": "horizontal",
       "style": "IPY_MODEL_25416f2607164d77b6461496474eb204",
       "value": 1.0
      }
     }
    },
    "version_major": 2,
    "version_minor": 0
   }
  }
 },
 "nbformat": 4,
 "nbformat_minor": 5
}
