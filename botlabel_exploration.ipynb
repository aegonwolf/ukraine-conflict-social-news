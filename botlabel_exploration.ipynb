{
 "cells": [
  {
   "cell_type": "code",
   "execution_count": 124,
   "id": "44cfe37d",
   "metadata": {},
   "outputs": [],
   "source": [
    "import pandas as pd\n",
    "import matplotlib.pyplot as plt\n",
    "import os"
   ]
  },
  {
   "cell_type": "code",
   "execution_count": 125,
   "id": "541898bc",
   "metadata": {},
   "outputs": [],
   "source": [
    "path = '../predictions1week/'\n",
    "bot_prob = 0.9 # threshold for bot accounts"
   ]
  },
  {
   "cell_type": "markdown",
   "id": "e1aa42df",
   "metadata": {},
   "source": [
    "## Load dataset"
   ]
  },
  {
   "cell_type": "code",
   "execution_count": 126,
   "id": "00eb66ac",
   "metadata": {},
   "outputs": [
    {
     "name": "stdout",
     "output_type": "stream",
     "text": [
      "predictions262728.csv\n",
      "predictions293031.csv\n",
      "(377534, 18)\n"
     ]
    },
    {
     "data": {
      "text/html": [
       "<div>\n",
       "<style scoped>\n",
       "    .dataframe tbody tr th:only-of-type {\n",
       "        vertical-align: middle;\n",
       "    }\n",
       "\n",
       "    .dataframe tbody tr th {\n",
       "        vertical-align: top;\n",
       "    }\n",
       "\n",
       "    .dataframe thead th {\n",
       "        text-align: right;\n",
       "    }\n",
       "</style>\n",
       "<table border=\"1\" class=\"dataframe\">\n",
       "  <thead>\n",
       "    <tr style=\"text-align: right;\">\n",
       "      <th></th>\n",
       "      <th>userid</th>\n",
       "      <th>username</th>\n",
       "      <th>acctdesc</th>\n",
       "      <th>location</th>\n",
       "      <th>following</th>\n",
       "      <th>followers</th>\n",
       "      <th>totaltweets</th>\n",
       "      <th>usercreatedts</th>\n",{
 "cells": [
  {
   "cell_type": "code",
   "execution_count": 124,
   "id": "44cfe37d",
   "metadata": {},
   "outputs": [],
   "source": [
    "import pandas as pd\n",
    "import matplotlib.pyplot as plt\n",
    "import os"
   ]
  },
  {
   "cell_type": "code",
   "execution_count": 125,
   "id": "541898bc",
   "metadata": {},
   "outputs": [],
   "source": [
    "path = '../predictions1week/'\n",
    "bot_prob = 0.9 # threshold for bot accounts"
   ]
  },
  {
   "cell_type": "markdown",
   "id": "cdedc326",
   "metadata": {},
   "source": [
    "## Load dataset"
   ]
  },
  {
   "cell_type": "code",
   "execution_count": 126,
   "id": "00eb66ac",
   "metadata": {},
   "outputs": [
    {
     "name": "stdout",
     "output_type": "stream",
     "text": [
      "predictions262728.csv\n",
      "predictions293031.csv\n",
      "(377534, 18)\n"
     ]
    },
    {
     "data": {
      "text/html": [
       "<div>\n",
       "<style scoped>\n",
       "    .dataframe tbody tr th:only-of-type {\n",
       "        vertical-align: middle;\n",
       "    }\n",
       "\n",
       "    .dataframe tbody tr th {\n",
       "        vertical-align: top;\n",
       "    }\n",
       "\n",
       "    .dataframe thead th {\n",
       "        text-align: right;\n",
       "    }\n",
       "</style>\n",
       "<table border=\"1\" class=\"dataframe\">\n",
       "  <thead>\n",
       "    <tr style=\"text-align: right;\">\n",
       "      <th></th>\n",
       "      <th>userid</th>\n",
       "      <th>username</th>\n",
       "      <th>acctdesc</th>\n",
       "      <th>location</th>\n",
       "      <th>following</th>\n",
       "      <th>followers</th>\n",
       "      <th>totaltweets</th>\n",
       "      <th>usercreatedts</th>\n",
       "      <th>tweetid</th>\n",
       "      <th>tweetcreatedts</th>\n",
       "      <th>retweetcount</th>\n",
       "      <th>text</th>\n",
       "      <th>hashtags</th>\n",
       "      <th>coordinates</th>\n",
       "      <th>favorite_count</th>\n",
       "      <th>extractedts</th>\n",
       "      <th>bot</th>\n",
       "      <th>no_bot</th>\n",
       "    </tr>\n",
       "  </thead>\n",
       "  <tbody>\n",
       "    <tr>\n",
       "      <th>0</th>\n",
       "      <td>567289542</td>\n",
       "      <td>Saudi_Gazette</td>\n",
       "      <td>Saudi Gazette is a leading English language da...</td>\n",
       "      <td>Saudi Arabia</td>\n",
       "      <td>2</td>\n",
       "      <td>388279</td>\n",
       "      <td>127237</td>\n",
       "      <td>2012-04-30 13:01:28.000000</td>\n",
       "      <td>1507507623624646664</td>\n",
       "      <td>2022-03-26 00:00:00</td>\n",
       "      <td>1</td>\n",
       "      <td>#Ukraine: General Assembly passes resolution d...</td>\n",
       "      <td>[{'text': 'Ukraine', 'indices': [0, 8]}]</td>\n",
       "      <td>NaN</td>\n",
       "      <td>2</td>\n",
       "      <td>2022-03-26 00:09:04.163917</td>\n",
       "      <td>0.0</td>\n",
       "      <td>1.0</td>\n",
       "    </tr>\n",
       "    <tr>\n",
       "      <th>1</th>\n",
       "      <td>1142687555625738240</td>\n",
       "      <td>Steed0905</td>\n",
       "      <td>いったんバイクアカウント停止します。\\n今後はウクライナの情報を流していきます。\\n嫌な方は...</td>\n",
       "      <td>NaN</td>\n",
       "      <td>396</td>\n",
       "      <td>324</td>\n",
       "      <td>4242</td>\n",
       "      <td>2019-06-23 06:55:18.000000</td>\n",
       "      <td>1507507622936657920</td>\n",
       "      <td>2022-03-26 00:00:00</td>\n",
       "      <td>265</td>\n",
       "      <td>#Ukraine: It seems that the 🚫 on this Russian ...</td>\n",
       "      <td>[{'text': 'Ukraine', 'indices': [15, 23]}]</td>\n",
       "      <td>NaN</td>\n",
       "      <td>0</td>\n",
       "      <td>2022-03-26 00:09:04.196237</td>\n",
       "      <td>0.0</td>\n",
       "      <td>1.0</td>\n",
       "    </tr>\n",
       "    <tr>\n",
       "      <th>2</th>\n",
       "      <td>770241326172418048</td>\n",
       "      <td>NGOnewsTW</td>\n",
       "      <td>inspired by @GovNewsTW, tweets,  videos and we...</td>\n",
       "      <td>Taiwan</td>\n",
       "      <td>106</td>\n",
       "      <td>516</td>\n",
       "      <td>43798</td>\n",
       "      <td>2016-08-29 12:46:57.000000</td>\n",
       "      <td>1507507625256177690</td>\n",
       "      <td>2022-03-26 00:00:00</td>\n",
       "      <td>0</td>\n",
       "      <td>[伊甸基金會推文] @edenfortaiwan: 「RT @Trending_Taiwan...</td>\n",
       "      <td>[{'text': 'StandWithUkraine', 'indices': [122,...</td>\n",
       "      <td>NaN</td>\n",
       "      <td>0</td>\n",
       "      <td>2022-03-26 00:03:14.849212</td>\n",
       "      <td>0.0</td>\n",
       "      <td>1.0</td>\n",
       "    </tr>\n",
       "    <tr>\n",
       "      <th>3</th>\n",
       "      <td>1498353133042507787</td>\n",
       "      <td>ArmedMaidan</td>\n",
       "      <td>News about Russia's war on Ukraine from award-...</td>\n",
       "      <td>Quebec, Canada</td>\n",
       "      <td>292</td>\n",
       "      <td>396</td>\n",
       "      <td>1031</td>\n",
       "      <td>2022-02-28 17:43:30.000000</td>\n",
       "      <td>1507507623335280641</td>\n",
       "      <td>2022-03-26 00:00:00</td>\n",
       "      <td>2</td>\n",
       "      <td>#Putin's WWII obsession hindering invasion of ...</td>\n",
       "      <td>[{'text': 'Putin', 'indices': [0, 6]}, {'text'...</td>\n",
       "      <td>NaN</td>\n",
       "      <td>1</td>\n",
       "      <td>2022-03-26 00:23:57.198251</td>\n",
       "      <td>0.0</td>\n",
       "      <td>1.0</td>\n",
       "    </tr>\n",
       "    <tr>\n",
       "      <th>4</th>\n",
       "      <td>1496075956062146563</td>\n",
       "      <td>IsPutinDeadYet</td>\n",
       "      <td>We're the first-ever socially driven #blockcha...</td>\n",
       "      <td>NaN</td>\n",
       "      <td>475</td>\n",
       "      <td>253</td>\n",
       "      <td>715</td>\n",
       "      <td>2022-02-22 10:54:53.000000</td>\n",
       "      <td>1507507626933817346</td>\n",
       "      <td>2022-03-26 00:00:01</td>\n",
       "      <td>1</td>\n",
       "      <td>Do you love playing Real-time shooters? #Ukrai...</td>\n",
       "      <td>[{'text': 'Ukrainians', 'indices': [40, 51]}, ...</td>\n",
       "      <td>NaN</td>\n",
       "      <td>1</td>\n",
       "      <td>2022-03-26 00:09:04.155853</td>\n",
       "      <td>0.0</td>\n",
       "      <td>1.0</td>\n",
       "    </tr>\n",
       "  </tbody>\n",
       "</table>\n",
       "</div>"
      ],
      "text/plain": [
       "                userid        username  \\\n",
       "0            567289542   Saudi_Gazette   \n",
       "1  1142687555625738240       Steed0905   \n",
       "2   770241326172418048       NGOnewsTW   \n",
       "3  1498353133042507787     ArmedMaidan   \n",
       "4  1496075956062146563  IsPutinDeadYet   \n",
       "\n",
       "                                            acctdesc        location  \\\n",
       "0  Saudi Gazette is a leading English language da...    Saudi Arabia   \n",
       "1  いったんバイクアカウント停止します。\\n今後はウクライナの情報を流していきます。\\n嫌な方は...             NaN   \n",
       "2  inspired by @GovNewsTW, tweets,  videos and we...          Taiwan   \n",
       "3  News about Russia's war on Ukraine from award-...  Quebec, Canada   \n",
       "4  We're the first-ever socially driven #blockcha...             NaN   \n",
       "\n",
       "   following  followers  totaltweets               usercreatedts  \\\n",
       "0          2     388279       127237  2012-04-30 13:01:28.000000   \n",
       "1        396        324         4242  2019-06-23 06:55:18.000000   \n",
       "2        106        516        43798  2016-08-29 12:46:57.000000   \n",
       "3        292        396         1031  2022-02-28 17:43:30.000000   \n",
       "4        475        253          715  2022-02-22 10:54:53.000000   \n",
       "\n",
       "               tweetid       tweetcreatedts  retweetcount  \\\n",
       "0  1507507623624646664  2022-03-26 00:00:00             1   \n",
       "1  1507507622936657920  2022-03-26 00:00:00           265   \n",
       "2  1507507625256177690  2022-03-26 00:00:00             0   \n",
       "3  1507507623335280641  2022-03-26 00:00:00             2   \n",
       "4  1507507626933817346  2022-03-26 00:00:01             1   \n",
       "\n",
       "                                                text  \\\n",
       "0  #Ukraine: General Assembly passes resolution d...   \n",
       "1  #Ukraine: It seems that the 🚫 on this Russian ...   \n",
       "2  [伊甸基金會推文] @edenfortaiwan: 「RT @Trending_Taiwan...   \n",
       "3  #Putin's WWII obsession hindering invasion of ...   \n",
       "4  Do you love playing Real-time shooters? #Ukrai...   \n",
       "\n",
       "                                            hashtags coordinates  \\\n",
       "0           [{'text': 'Ukraine', 'indices': [0, 8]}]         NaN   \n",
       "1         [{'text': 'Ukraine', 'indices': [15, 23]}]         NaN   \n",
       "2  [{'text': 'StandWithUkraine', 'indices': [122,...         NaN   \n",
       "3  [{'text': 'Putin', 'indices': [0, 6]}, {'text'...         NaN   \n",
       "4  [{'text': 'Ukrainians', 'indices': [40, 51]}, ...         NaN   \n",
       "\n",
       "   favorite_count                 extractedts  bot  no_bot  \n",
       "0               2  2022-03-26 00:09:04.163917  0.0     1.0  \n",
       "1               0  2022-03-26 00:09:04.196237  0.0     1.0  \n",
       "2               0  2022-03-26 00:03:14.849212  0.0     1.0  \n",
       "3               1  2022-03-26 00:23:57.198251  0.0     1.0  \n",
       "4               1  2022-03-26 00:09:04.155853  0.0     1.0  "
      ]
     },
     "execution_count": 126,
     "metadata": {},
     "output_type": "execute_result"
    }
   ],
   "source": [
    "df = pd.DataFrame()\n",
    "\n",
    "for filename in os.listdir(path):\n",
    "    if filename[-4:] == \".csv\":\n",
    "        print(filename)\n",
    "        temp = pd.read_csv(path + filename, lineterminator = '\\n')\n",
    "        df = pd.concat([ df, temp ])\n",
    "\n",
    "print(df.shape)\n",
    "df.head()"
   ]
  },
  {
   "cell_type": "markdown",
   "id": "74997463",
   "metadata": {},
   "source": [
    "## Distribution of bot prediction labels for accounts"
   ]
  },
  {
   "cell_type": "code",
   "execution_count": 146,
   "id": "a2180e49",
   "metadata": {},
   "outputs": [
    {
     "data": {
      "image/png": "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\n",
      "text/plain": [
       "<Figure size 1440x576 with 1 Axes>"
      ]
     },
     "metadata": {
      "needs_background": "light"
     },
     "output_type": "display_data"
    }
   ],
   "source": [
    "df.drop_duplicates('userid')['bot'].plot(x = 'bot prediction', kind = 'hist', logy = True)\n",
    "plt.rcParams[\"figure.figsize\"] = (20,8)\n",
    "plt.show()"
   ]
  },
  {
   "cell_type": "markdown",
   "id": "f406ee6b",
   "metadata": {},
   "source": [
    "Let's check out the bot accounts "
   ]
  },
  {
   "cell_type": "code",
   "execution_count": 128,
   "id": "c6afe837",
   "metadata": {},
   "outputs": [
    {
     "name": "stdout",
     "output_type": "stream",
     "text": [
      "(2214, 18)\n",
      "(1076, 18)\n"
     ]
    }
   ],
   "source": [
    "df_bottweets = df[df['bot'] > bot_prob]\n",
    "print(df_bottweets.shape)\n",
    "df_botaccounts = df_bottweets.drop_duplicates('userid')\n",
    "print(df_botaccounts.shape)"
   ]
  },
  {
   "cell_type": "markdown",
   "id": "40755f8d",
   "metadata": {},
   "source": [
    "### Number of tweets per bot account"
   ]
  },
  {
   "cell_type": "code",
   "execution_count": 148,
   "id": "caf4545e",
   "metadata": {},
   "outputs": [
    {
     "data": {
      "image/png": "iVBORw0KGgoAAAANSUhEUgAABJIAAAHSCAYAAAC3jeHUAAAAOXRFWHRTb2Z0d2FyZQBNYXRwbG90bGliIHZlcnNpb24zLjUuMSwgaHR0cHM6Ly9tYXRwbG90bGliLm9yZy/YYfK9AAAACXBIWXMAAAsTAAALEwEAmpwYAAAccElEQVR4nO3dbbCtdXnf8d8lBJ/aLGuwtuUhB3sYDDWm0uNDJ01rbTKB4gZr0wij09RSdm1jm/RhGjBOk77IjJm2MdqoyY5SNLUQQhLLLlijaYx94QOonQQlVEZRQROINstUHQnm6ou9GHeO58AfYe17LdbnM3OGdf/XOudcL+65z+wv9/1f1d0BAAAAgAfyqKkHAAAAAGA9CEkAAAAADBGSAAAAABgiJAEAAAAwREgCAAAAYIiQBAAAAMCQE6ce4KE4+eST+9ChQ1OPAQAAAPCI8cEPfvD3u/tJx3pvrUPSoUOHctNNN009BgAAAMAjRlV98njvebQNAAAAgCFCEgAAAABDhCQAAAAAhghJAAAAAAwRkgAAAAAYIiQBAAAAMERIAgAAAGCIkAQAAADAECEJAAAAgCFCEgAAAABDhCQAAAAAhghJAAAAAAwRkgAAAAAYIiQBAAAAMERIAgAAAGCIkAQAAADAECEJAAAAgCErE5Kq6tuq6mer6tqq+idTzwMAAADAn3TiMv/wqroiyfOT3NXdT9u3fm6S1yQ5Ickbu/tV3X1LkpdV1aOSvCXJG5Y526o5dNn1U4/AUW5/1flTjwAAAAArZdl3JF2Z5Nz9C1V1QpLXJTkvydlJLq6qsxfvXZDk+iQ3LHkuAAAAAB6kpYak7n5Pks8ftfysJLd198e7+54kVye5cPH567r7vCQvXuZcAAAAADx4S3207ThOSfLpfcd3JHl2VT03yQuTPDr3c0dSVW0n2U6S008/fWlDAgAAAPAnTRGSjqm7353k3QOf20mykyRHjhzp5U4FAAAAwH2m+Na2O5Octu/41MUaAAAAACtsipB0Y5Izq+qMqjopyUVJrptgDgAAAAAehKWGpKq6Ksl7k5xVVXdU1SXdfW+Slyd5R5JbklzT3R9Z5hwAAAAAPHRL3SOpuy8+zvoNuZ8NtQEAAABYPVM82vaQVdVWVe3M5/OpRwEAAADYGGsZkrp7t7u3Z7PZ1KMAAAAAbIy1DEkAAAAAHDwhCQAAAIAhQhIAAAAAQ4QkAAAAAIYISQAAAAAMWcuQVFVbVbUzn8+nHgUAAABgY6xlSOru3e7ens1mU48CAAAAsDHWMiQBAAAAcPCEJAAAAACGCEkAAAAADBGSAAAAABgiJAEAAAAwZC1DUlVtVdXOfD6fehQAAACAjbGWIam7d7t7ezabTT0KAAAAwMZYy5AEAAAAwMETkgAAAAAYIiQBAAAAMERIAgAAAGCIkAQAAADAECEJAAAAgCFCEgAAAABD1jIkVdVWVe3M5/OpRwEAAADYGGsZkrp7t7u3Z7PZ1KMAAAAAbIy1DEkAAAAAHDwhCQAAAIAhQhIAAAAAQ4QkAAAAAIYISQAAAAAMEZIAAAAAGCIkAQAAADBESAIAAABgyFqGpKraqqqd+Xw+9SgAAAAAG2MtQ1J373b39mw2m3oUAAAAgI2xliEJAAAAgIMnJAEAAAAwREgCAAAAYIiQBAAAAMAQIQkAAACAIUISAAAAAEOEJAAAAACGCEkAAAAADBGSAAAAABgiJAEAAAAwREgCAAAAYMhahqSq2qqqnfl8PvUoAAAAABtjLUNSd+929/ZsNpt6FAAAAICNsZYhCQAAAICDJyQBAAAAMERIAgAAAGCIkAQAAADAECEJAAAAgCFCEgAAAABDhCQAAAAAhghJAAAAAAwRkgAAAAAYIiQBAAAAMERIAgAAAGCIkAQAAADAECEJAAAAgCFCEgAAAABD1jIkVdVWVe3M5/OpRwEAAADYGGsZkrp7t7u3Z7PZ1KMAAAAAbIy1DEkAAAAAHDwhCQAAAIAhQhIAAAAAQ4QkAAAAAIYISQAAAAAMEZIAAAAAGCIkAQAAADBESAIAAABgiJAEAAAAwBAhCQAAAIAhQhIAAAAAQ4QkAAAAAIYISQAAAAAMEZIAAAAAGCIkAQAAADBESAIAAABgiJAEAAAAwBAhCQAAAIAhQhIAAAAAQ4QkAAAAAIYISQAAAAAMWcuQVFVbVbUzn8+nHgUAAABgY6xlSOru3e7ens1mU48CAAAAsDHWMiQBAAAAcPCEJAAAAACGCEkAAAAADBGSAAAAABgiJAEAAAAwREgCAAAAYIiQBAAAAMAQIQkAAACAIUISAAAAAEOEJAAAAACGCEkAAAAADBGSAAAAABgiJAEAAAAwREgCAAAAYIiQBAAAAMAQIQkAAACAIUISAAAAAEOEJAAAAACGCEkAAAAADBGSAAAAABgiJAEAAAAwREgCAAAAYIiQBAAAAMAQIQkAAACAIUISAAAAAEOEJAAAAACGCEkAAAAADBGSAAAAABgiJAEAAAAwREgCAAAAYIiQBAAAAMAQIQkAAACAIUISAAAAAEOEJAAAAACGnDj1APtV1QuSnJ/km5O8qbt/bdqJAAAAALjP0u9Iqqorququqrr5qPVzq+rWqrqtqi5Lku5+W3dfmuRlSV607NkAAAAAGHcQj7ZdmeTc/QtVdUKS1yU5L8nZSS6uqrP3feSVi/cBAAAAWBFLD0nd/Z4knz9q+VlJbuvuj3f3PUmuTnJh7fnJJG/v7g8tezYAAAAAxk212fYpST697/iOxdo/S/LdSb6vql52rN9YVdtVdVNV3XT33Xcvf1IAAAAAkqzYZtvd/dokr32Az+wk2UmSI0eO9EHMBQAAAMB0dyTdmeS0fcenLtYAAAAAWFFThaQbk5xZVWdU1UlJLkpy3USzAAAAADBg6SGpqq5K8t4kZ1XVHVV1SXffm+TlSd6R5JYk13T3R5Y9CwAAAADfuKXvkdTdFx9n/YYkNyz77wcAAADg4THVo20PSVVtVdXOfD6fehQAAACAjbGWIam7d7t7ezabTT0KAAAAwMZYy5AEAAAAwMETkgAAAAAYIiQBAAAAMERIAgAAAGDIWoYk39oGAAAAcPDWMiT51jYAAACAg7eWIQkAAACAgyckAQAAADBESAIAAABgiJAEAAAAwBAhCQAAAIAhQhIAAAAAQ9YyJFXVVlXtzOfzqUcBAAAA2BhrGZK6e7e7t2ez2dSjAAAAAGyMtQxJAAAAABw8IQkAAACAIUISAAAAAEOEJAAAAACGCEkAAAAADBGSAAAAABgiJAEAAAAwZC1DUlVtVdXOfD6fehQAAACAjbGWIam7d7t7ezabTT0KAAAAwMZYy5AEAAAAwMETkgAAAAAYIiQBAAAAMERIAgAAAGCIkAQAAADAECEJAAAAgCFCEgAAAABDhCQAAAAAhgyFpKr69mUP8mBU1VZV7czn86lHAQAAANgYo3ckvb6qPlBV/7SqZkudaEB373b39mw2+SgAAAAAG2MoJHX3dyV5cZLTknywqv5rVX3PUicDAAAAYKUM75HU3R9L8sokP5LkbyR5bVX9TlW9cFnDAQAAALA6RvdIenpVvTrJLUmel2Sru79t8frVS5wPAAAAgBVx4uDn/lOSNyZ5RXd/+b7F7v5MVb1yKZMBAAAAsFJGQ9L5Sb7c3V9Nkqp6VJLHdPeXuvsXljYdAAAAACtjdI+kdyV57L7jxy3WAAAAANgQoyHpMd39/+47WLx+3HJGAgAAAGAVjYakL1bVOfcdVNVfSfLl+/k8AAAAAI8wo3sk/XCSX6qqzySpJH8uyYuWNRQAAAAAq2coJHX3jVX11CRnLZZu7e4/Wt5YAAAAAKya0TuSkuSZSQ4tfs85VZXufstSpgIAAABg5QyFpKr6hSR/Mcn/TvLVxXInmSQkVdVWkq3Dhw9P8dcDAAAAbKTRO5KOJDm7u3uZw4zq7t0ku0eOHLl06lkAAAAANsXot7bdnL0NtgEAAADYUKN3JJ2c5KNV9YEkX7lvsbsvWMpUAAAAAKyc0ZD048scAgAAAIDVNxSSuvs3q+pbk5zZ3e+qqsclOWG5owEAAACwSob2SKqqS5Ncm+TnFkunJHnbkmYCAAAAYAWNbrb9g0m+M8kXkqS7P5bkzy5rKAAAAABWz2hI+kp333PfQVWdmKSXMxIAAAAAq2g0JP1mVb0iyWOr6nuS/FKS3eWNBQAAAMCqGQ1JlyW5O8lvJ/nHSW5I8splDQUAAADA6hn91rY/TvLzi18AAAAAbKChkFRVn8gx9kTq7qc87BMBAAAAsJKGQlKSI/tePybJ30vyxId/HAAAAABW1dAeSd39uX2/7uzun05y/nJHAwAAAGCVjD7ads6+w0dl7w6l0buZAAAAAHgEGI1B/3Hf63uT3J7k+x/2aQZV1VaSrcOHD081AgAAAMDGGf3Wtr+57EEejO7eTbJ75MiRS6eeBQAAAGBTjD7a9i/v7/3u/qmHZxwAAAAAVtWD+da2Zya5bnG8leQDST62jKEAAAAAWD2jIenUJOd09x8mSVX9eJLru/slyxoMAAAAgNXyqMHPPTnJPfuO71msAQAAALAhRu9IekuSD1TVry6OX5DkzUuZCAAAAICVNPqtbT9RVW9P8l2LpZd294eXNxYAAAAAq2b00bYkeVySL3T3a5LcUVVnLGkmAAAAAFbQUEiqqh9L8iNJLl8sfVOS/7KsoQAAAABYPaN3JP2dJBck+WKSdPdnkvzpZQ0FAAAAwOoZDUn3dHcn6SSpqscvbyQAAAAAVtFoSLqmqn4uyROq6tIk70ry88sbCwAAAIBV84Df2lZVleQXkzw1yReSnJXk33b3O5c8GwAAAAAr5AFDUnd3Vd3Q3d+eRDwCAAAA2FCjj7Z9qKqeudRJAAAAAFhpD3hH0sKzk7ykqm7P3je3VfZuVnr6sgYDAAAAYLXcb0iqqtO7+1NJvveA5gEAAABgRT3QHUlvS3JOd3+yqn65u//uAcwEAAAAwAp6oD2Sat/rpyxzEAAAAABW2wOFpD7OawAAAAA2zAM92vYdVfWF7N2Z9NjF6+Rrm21/81KnAwAAAGBl3G9I6u4TDmoQAAAAAFbbAz3atpKqaquqdubz+dSjAAAAAGyMtQxJ3b3b3duz2WzqUQAAAAA2xlqGJAAAAAAOnpAEAAAAwBAhCQAAAIAhQhIAAAAAQ4QkAAAAAIYISQAAAAAMEZIAAAAAGCIkAQAAADBESAIAAABgiJAEAAAAwBAhCQAAAIAhQhIAAAAAQ4QkAAAAAIYISQAAAAAMEZIAAAAAGCIkAQAAADBESAIAAABgiJAEAAAAwBAhCQAAAIAhQhIAAAAAQ4QkAAAAAIYISQAAAAAMEZIAAAAAGCIkAQAAADBESAIAAABgiJAEAAAAwBAhCQAAAIAhQhIAAAAAQ4QkAAAAAIYISQAAAAAMEZIAAAAAGCIkAQAAADBESAIAAABgiJAEAAAAwJCVCUlV9ZSqelNVXTv1LAAAAAB8vaWGpKq6oqruqqqbj1o/t6purarbquqyJOnuj3f3JcucBwAAAIBv3LLvSLoyybn7F6rqhCSvS3JekrOTXFxVZy95DgAAAAAeoqWGpO5+T5LPH7X8rCS3Le5AuifJ1UkuHP0zq2q7qm6qqpvuvvvuh3FaAAAAAO7PFHsknZLk0/uO70hySlV9S1X9bJJnVNXlx/vN3b3T3Ue6+8iTnvSkZc8KAAAAwMKJUw9wn+7+XJKXTT0HAAAAAMc2xR1JdyY5bd/xqYs1AAAAAFbYFCHpxiRnVtUZVXVSkouSXDfBHAAAAAA8CEsNSVV1VZL3Jjmrqu6oqku6+94kL0/yjiS3JLmmuz+yzDkAAAAAeOiWukdSd198nPUbktzwjf65VbWVZOvw4cPf6B8BD+jQZddPPQLHcPurzp96BAAAgI01xaNtD1l373b39mw2m3oUAAAAgI2xliEJAAAAgIMnJAEAAAAwREgCAAAAYIiQBAAAAMAQIQkAAACAIWsZkqpqq6p25vP51KMAAAAAbIy1DEndvdvd27PZbOpRAAAAADbGWoYkAAAAAA6ekAQAAADAECEJAAAAgCFCEgAAAABDhCQAAAAAhghJAAAAAAxZy5BUVVtVtTOfz6ceBQAAAGBjrGVI6u7d7t6ezWZTjwIAAACwMdYyJAEAAABw8IQkAAAAAIYISQAAAAAMEZIAAAAAGCIkAQAAADBESAIAAABgyFqGpKraqqqd+Xw+9SgAAAAAG2MtQ1J373b39mw2m3oUAAAAgI2xliEJAAAAgIMnJAEAAAAwREgCAAAAYIiQBAAAAMAQIQkAAACAIUISAAAAAEOEJAAAAACGCEkAAAAADBGSAAAAABiyliGpqraqamc+n089CgAAAMDGWMuQ1N273b09m82mHgUAAABgY6xlSAIAAADg4AlJAAAAAAwRkgAAAAAYIiQBAAAAMERIAgAAAGCIkAQAAADAECEJAAAAgCFCEgAAAABDhCQAAAAAhghJAAAAAAxZy5BUVVtVtTOfz6ceBQAAAGBjrGVI6u7d7t6ezWZTjwIAAACwMdYyJAEAAABw8IQkAAAAAIYISQAAAAAMEZIAAAAAGCIkAQAAADBESAIAAABgiJAEAAAAwBAhCQAAAIAhQhIAAAAAQ4QkAAAAAIYISQAAAAAMEZIAAAAAGCIkAQAAADBESAIAAABgiJAEAAAAwJATpx7gG1FVW0m2Dh8+PPUowAE7dNn1U4/AUW5/1flTjwAAAByQtbwjqbt3u3t7NptNPQoAAADAxljLkAQAAADAwROSAAAAABgiJAEAAAAwREgCAAAAYIiQBAAAAMAQIQkAAACAIUISAAAAAEOEJAAAAACGCEkAAAAADBGSAAAAABgiJAEAAAAwREgCAAAAYIiQBAAAAMAQIQkAAACAIUISAAAAAEOEJAAAAACGCEkAAAAADBGSAAAAABgiJAEAAAAwREgCAAAAYIiQBAAAAMCQtQxJVbVVVTvz+XzqUQAAAAA2xlqGpO7e7e7t2Ww29SgAAAAAG2MtQxIAAAAAB09IAgAAAGCIkAQAAADAECEJAAAAgCFCEgAAAABDhCQAAAAAhghJAAAAAAwRkgAAAAAYIiQBAAAAMERIAgAAAGCIkAQAAADAECEJAAAAgCFCEgAAAABDhCQAAAAAhghJAAAAAAwRkgAAAAAYIiQBAAAAMERIAgAAAGCIkAQAAADAECEJAAAAgCFCEgAAAABDhCQAAAAAhghJAAAAAAwRkgAAAAAYIiQBAAAAMERIAgAAAGCIkAQAAADAECEJAAAAgCFCEgAAAABDhCQAAAAAhghJAAAAAAwRkgAAAAAYIiQBAAAAMOTEqQe4T1U9Psnrk9yT5N3d/daJRwIAAABgn6XekVRVV1TVXVV181Hr51bVrVV1W1Vdtlh+YZJru/vSJBcscy4AAAAAHrxlP9p2ZZJz9y9U1QlJXpfkvCRnJ7m4qs5OcmqSTy8+9tUlzwUAAADAg7TUkNTd70ny+aOWn5Xktu7+eHffk+TqJBcmuSN7MWnpcwEAAADw4E2xR9Ip+dqdR8leQHp2ktcm+ZmqOj/J7vF+c1VtJ9lOktNPP32JYwIA8Eh26LLrpx6BY7j9VedPPQKsBdew1bMp16+V2Wy7u7+Y5KUDn9tJspMkR44c6WXPBQAAAMCeKR4huzPJafuOT12sAQAAALDCpghJNyY5s6rOqKqTklyU5LoJ5gAAAADgQVhqSKqqq5K8N8lZVXVHVV3S3fcmeXmSdyS5Jck13f2RZc4BAAAAwEO31D2Suvvi46zfkOSGZf7dAAAAADy8pni07SGrqq2q2pnP51OPAgAAALAx1jIkdfdud2/PZrOpRwEAAADYGGsZkgAAAAA4eEISAAAAAEOEJAAAAACGCEkAAAAADBGSAAAAABiyliGpqraqamc+n089CgAAAMDGWMuQ1N273b09m82mHgUAAABgY6xlSAIAAADg4AlJAAAAAAwRkgAAAAAYIiQBAAAAMERIAgAAAGBIdffUM3zDquruJJ+ceo4BJyf5/amHgGNwbrKKnJesIuclq8q5ySpyXrKKnJcPzrd295OO9cZah6R1UVU3dfeRqeeAozk3WUXOS1aR85JV5dxkFTkvWUXOy4ePR9sAAAAAGCIkAQAAADBESDoYO1MPAMfh3GQVOS9ZRc5LVpVzk1XkvGQVOS8fJvZIAgAAAGCIO5IAAAAAGCIkLVlVnVtVt1bVbVV12dTzsJmq6rSq+o2q+mhVfaSqfmix/sSqemdVfWzx3z8z9axsnqo6oao+XFX/fXF8RlW9f3Hd/MWqOmnqGdk8VfWEqrq2qn6nqm6pqr/qmsnUqupfLP4dv7mqrqqqx7hmMoWquqKq7qqqm/etHfMaWXteuzhHf6uqzpluch7JjnNe/vvFv+W/VVW/WlVP2Pfe5Yvz8taq+t5Jhl5TQtISVdUJSV6X5LwkZye5uKrOnnYqNtS9Sf5Vd5+d5DlJfnBxLl6W5Ne7+8wkv744hoP2Q0lu2Xf8k0le3d2Hk/zfJJdMMhWb7jVJ/kd3PzXJd2TvHHXNZDJVdUqSf57kSHc/LckJSS6KaybTuDLJuUetHe8aeV6SMxe/tpO84YBmZPNcma8/L9+Z5Gnd/fQk/yfJ5Umy+FnooiR/afF7Xr/4+Z0BQtJyPSvJbd398e6+J8nVSS6ceCY2UHd/trs/tHj9h9n7geiU7J2Pb1587M1JXjDJgGysqjo1yflJ3rg4riTPS3Lt4iPOSw5cVc2S/PUkb0qS7r6nu/8grplM78Qkj62qE5M8Lsln45rJBLr7PUk+f9Ty8a6RFyZ5S+95X5InVNWfP5BB2SjHOi+7+9e6+97F4fuSnLp4fWGSq7v7K939iSS3Ze/ndwYISct1SpJP7zu+Y7EGk6mqQ0mekeT9SZ7c3Z9dvPW7SZ481VxsrJ9O8m+S/PHi+FuS/MG+f/BdN5nCGUnuTvKfF49dvrGqHh/XTCbU3Xcm+Q9JPpW9gDRP8sG4ZrI6jneN9DMRq+IfJnn74rXz8iEQkmCDVNWfSvLLSX64u7+w/73e+wpHX+PIgamq5ye5q7s/OPUscJQTk5yT5A3d/YwkX8xRj7G5ZnLQFvvNXJi90PkXkjw+X/8IB6wE10hWTVX9aPa2+3jr1LM8EghJy3VnktP2HZ+6WIMDV1XflL2I9Nbu/pXF8u/dd2vx4r93TTUfG+k7k1xQVbdn79Hf52VvX5onLB7bSFw3mcYdSe7o7vcvjq/NXlhyzWRK353kE919d3f/UZJfyd511DWTVXG8a6SfiZhUVf2DJM9P8uJF5Eyclw+JkLRcNyY5c/FtGidlbzOv6yaeiQ202HfmTUlu6e6f2vfWdUl+YPH6B5L8t4Oejc3V3Zd396ndfSh718f/2d0vTvIbSb5v8THnJQeuu383yaer6qzF0t9K8tG4ZjKtTyV5TlU9bvHv+n3npWsmq+J418jrkvz9xbe3PSfJfN8jcLBUVXVu9rZRuKC7v7TvreuSXFRVj66qM7K3GfwHpphxHdXXghzLUFV/O3t7gJyQ5Iru/olpJ2ITVdVfS/K/kvx2vrYXzSuyt0/SNUlOT/LJJN/f3UdvnAhLV1XPTfKvu/v5VfWU7N2h9MQkH07yku7+yoTjsYGq6i9nbxP4k5J8PMlLs/c/4FwzmUxV/bskL8re4xkfTvKPsrenh2smB6qqrkry3CQnJ/m9JD+W5G05xjVyET5/JnuPYn4pyUu7+6YJxuYR7jjn5eVJHp3kc4uPva+7X7b4/I9mb9+ke7O39cfbj/4zOTYhCQAAAIAhHm0DAAAAYIiQBAAAAMAQIQkAAACAIUISAAAAAEOEJAAAAACGCEkAAAAADBGSAAAAABgiJAEAAAAw5P8DeTlQ2hsvInsAAAAASUVORK5CYII=\n",
      "text/plain": [
       "<Figure size 1440x576 with 1 Axes>"
      ]
     },
     "metadata": {
      "needs_background": "light"
     },
     "output_type": "display_data"
    }
   ],
   "source": [
    "df_bottweets.groupby(['userid'])['tweetid'].count().plot(x = 'number of tweets', kind = 'hist', logy = True)\n",
    "plt.show()"
   ]
  },
  {
   "cell_type": "code",
   "execution_count": 130,
   "id": "3be9fa4d",
   "metadata": {},
   "outputs": [
    {
     "data": {
      "text/plain": [
       "userid\n",
       "1387324144929419265    123\n",
       "1509194192785879042     77\n",
       "1502614845329657860     37\n",
       "1502987879521431554     30\n",
       "940474547366703106      26\n",
       "                      ... \n",
       "1495489511605866497      1\n",
       "1495794734018748418      1\n",
       "1495831643256414215      1\n",
       "1495917720172470274      1\n",
       "1509625146696474637      1\n",
       "Name: tweetid, Length: 1076, dtype: int64"
      ]
     },
     "execution_count": 130,
     "metadata": {},
     "output_type": "execute_result"
    }
   ],
   "source": [
    "df_bottweets.groupby(['userid'])['tweetid'].count().sort_values(ascending = False)"
   ]
  },
  {
   "cell_type": "markdown",
   "id": "7a50a273",
   "metadata": {},
   "source": [
    "Filtering retweets/tweets with same text"
   ]
  },
  {
   "cell_type": "code",
   "execution_count": 147,
   "id": "6838e394",
   "metadata": {},
   "outputs": [
    {
     "data": {
      "image/png": "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\n",
      "text/plain": [
       "<Figure size 1440x576 with 1 Axes>"
      ]
     },
     "metadata": {
      "needs_background": "light"
     },
     "output_type": "display_data"
    }
   ],
   "source": [
    "df_bottweets.drop_duplicates(['text']).groupby(['userid'])['tweetid'].count().plot(kind = 'hist', logy = True)\n",
    "plt.show()"
   ]
  },
  {
   "cell_type": "code",
   "execution_count": 132,
   "id": "80749ee8",
   "metadata": {},
   "outputs": [
    {
     "data": {
      "text/plain": [
       "userid\n",
       "1387324144929419265    123\n",
       "1509194192785879042     77\n",
       "1502614845329657860     37\n",
       "1502987879521431554     30\n",
       "940474547366703106      26\n",
       "                      ... \n",
       "1498928213594095617      1\n",
       "1388123693080104963      1\n",
       "1388068321057284098      1\n",
       "1387706455642492928      1\n",
       "1509625146696474637      1\n",
       "Name: tweetid, Length: 1069, dtype: int64"
      ]
     },
     "execution_count": 132,
     "metadata": {},
     "output_type": "execute_result"
    }
   ],
   "source": [
    "df_bottweets.drop_duplicates(['text']).groupby(['userid'])['tweetid'].count().sort_values(ascending = False)"
   ]
  },
  {
   "cell_type": "code",
   "execution_count": 133,
   "id": "d67f1afe",
   "metadata": {},
   "outputs": [
    {
     "name": "stdout",
     "output_type": "stream",
     "text": [
      "(123, 18)\n"
     ]
    },
    {
     "data": {
      "text/html": [
       "<div>\n",
       "<style scoped>\n",
       "    .dataframe tbody tr th:only-of-type {\n",
       "        vertical-align: middle;\n",
       "    }\n",
       "\n",
       "    .dataframe tbody tr th {\n",
       "        vertical-align: top;\n",
       "    }\n",
       "\n",
       "    .dataframe thead th {\n",
       "        text-align: right;\n",
       "    }\n",
       "</style>\n",
       "<table border=\"1\" class=\"dataframe\">\n",
       "  <thead>\n",
       "    <tr style=\"text-align: right;\">\n",
       "      <th></th>\n",
       "      <th>userid</th>\n",
       "      <th>username</th>\n",
       "      <th>acctdesc</th>\n",
       "      <th>location</th>\n",
       "      <th>following</th>\n",
       "      <th>followers</th>\n",
       "      <th>totaltweets</th>\n",
       "      <th>usercreatedts</th>\n",
       "      <th>tweetid</th>\n",
       "      <th>tweetcreatedts</th>\n",
       "      <th>retweetcount</th>\n",
       "      <th>text</th>\n",
       "      <th>hashtags</th>\n",
       "      <th>coordinates</th>\n",
       "      <th>favorite_count</th>\n",
       "      <th>extractedts</th>\n",
       "      <th>bot</th>\n",
       "      <th>no_bot</th>\n",
       "    </tr>\n",
       "  </thead>\n",
       "  <tbody>\n",
       "    <tr>\n",
       "      <th>42956</th>\n",
       "      <td>1387324144929419265</td>\n",
       "      <td>FreedKomet</td>\n",
       "      <td>NaN</td>\n",
       "      <td>NaN</td>\n",
       "      <td>30</td>\n",
       "      <td>0</td>\n",
       "      <td>15</td>\n",
       "      <td>2021-04-28 08:33:59.000000</td>\n",
       "      <td>1507740663009497093</td>\n",
       "      <td>2022-03-26 15:26:01</td>\n",
       "      <td>0</td>\n",
       "      <td>@ITB_Berlin @TUIDeutschland @DEhospitality @BM...</td>\n",
       "      <td>[{'text': 'Alexey_Mordashov', 'indices': [85, ...</td>\n",
       "      <td>NaN</td>\n",
       "      <td>0</td>\n",
       "      <td>2022-03-26 15:35:05.609823</td>\n",
       "      <td>0.963469</td>\n",
       "      <td>0.036531</td>\n",
       "    </tr>\n",
       "    <tr>\n",
       "      <th>43043</th>\n",
       "      <td>1387324144929419265</td>\n",
       "      <td>FreedKomet</td>\n",
       "      <td>NaN</td>\n",
       "      <td>NaN</td>\n",
       "      <td>30</td>\n",
       "      <td>0</td>\n",
       "      <td>15</td>\n",
       "      <td>2021-04-28 08:33:59.000000</td>\n",
       "      <td>1507741000009138178</td>\n",
       "      <td>2022-03-26 15:27:21</td>\n",
       "      <td>0</td>\n",
       "      <td>@TUIDeutschland @derbuerger16 @dertouristik @A...</td>\n",
       "      <td>[{'text': 'Billionaire', 'indices': [73, 85]},...</td>\n",
       "      <td>NaN</td>\n",
       "      <td>0</td>\n",
       "      <td>2022-03-26 15:35:03.365207</td>\n",
       "      <td>0.969319</td>\n",
       "      <td>0.030681</td>\n",
       "    </tr>\n",
       "    <tr>\n",
       "      <th>43104</th>\n",
       "      <td>1387324144929419265</td>\n",
       "      <td>FreedKomet</td>\n",
       "      <td>NaN</td>\n",
       "      <td>NaN</td>\n",
       "      <td>30</td>\n",
       "      <td>0</td>\n",
       "      <td>15</td>\n",
       "      <td>2021-04-28 08:33:59.000000</td>\n",
       "      <td>1507741247636754439</td>\n",
       "      <td>2022-03-26 15:28:20</td>\n",
       "      <td>0</td>\n",
       "      <td>@TUIDeutschland @turkeyonline Shame on YOU!\\n#...</td>\n",
       "      <td>[{'text': 'Billionaire', 'indices': [44, 56]},...</td>\n",
       "      <td>NaN</td>\n",
       "      <td>0</td>\n",
       "      <td>2022-03-26 15:35:01.192162</td>\n",
       "      <td>0.914658</td>\n",
       "      <td>0.085342</td>\n",
       "    </tr>\n",
       "    <tr>\n",
       "      <th>43509</th>\n",
       "      <td>1387324144929419265</td>\n",
       "      <td>FreedKomet</td>\n",
       "      <td>NaN</td>\n",
       "      <td>NaN</td>\n",
       "      <td>30</td>\n",
       "      <td>0</td>\n",
       "      <td>17</td>\n",
       "      <td>2021-04-28 08:33:59.000000</td>\n",
       "      <td>1507743582714839052</td>\n",
       "      <td>2022-03-26 15:37:37</td>\n",
       "      <td>0</td>\n",
       "      <td>#UkraineUnderAttack\\n#boycottTUI\\n#Billionaire...</td>\n",
       "      <td>[{'text': 'UkraineUnderAttack', 'indices': [0,...</td>\n",
       "      <td>NaN</td>\n",
       "      <td>1</td>\n",
       "      <td>2022-03-26 15:46:31.995861</td>\n",
       "      <td>0.909614</td>\n",
       "      <td>0.090386</td>\n",
       "    </tr>\n",
       "    <tr>\n",
       "      <th>44635</th>\n",
       "      <td>1387324144929419265</td>\n",
       "      <td>FreedKomet</td>\n",
       "      <td>NaN</td>\n",
       "      <td>NaN</td>\n",
       "      <td>31</td>\n",
       "      <td>0</td>\n",
       "      <td>93</td>\n",
       "      <td>2021-04-28 08:33:59.000000</td>\n",
       "      <td>1507748244918575115</td>\n",
       "      <td>2022-03-26 15:56:08</td>\n",
       "      <td>0</td>\n",
       "      <td>@kingjulienyo @TUIUK #UkraineUnderAttack #boyc...</td>\n",
       "      <td>[{'text': 'UkraineUnderAttack', 'indices': [21...</td>\n",
       "      <td>NaN</td>\n",
       "      <td>0</td>\n",
       "      <td>2022-03-26 16:11:08.193738</td>\n",
       "      <td>0.918127</td>\n",
       "      <td>0.081873</td>\n",
       "    </tr>\n",
       "  </tbody>\n",
       "</table>\n",
       "</div>"
      ],
      "text/plain": [
       "                    userid    username acctdesc location  following  \\\n",
       "42956  1387324144929419265  FreedKomet      NaN      NaN         30   \n",
       "43043  1387324144929419265  FreedKomet      NaN      NaN         30   \n",
       "43104  1387324144929419265  FreedKomet      NaN      NaN         30   \n",
       "43509  1387324144929419265  FreedKomet      NaN      NaN         30   \n",
       "44635  1387324144929419265  FreedKomet      NaN      NaN         31   \n",
       "\n",
       "       followers  totaltweets               usercreatedts  \\\n",
       "42956          0           15  2021-04-28 08:33:59.000000   \n",
       "43043          0           15  2021-04-28 08:33:59.000000   \n",
       "43104          0           15  2021-04-28 08:33:59.000000   \n",
       "43509          0           17  2021-04-28 08:33:59.000000   \n",
       "44635          0           93  2021-04-28 08:33:59.000000   \n",
       "\n",
       "                   tweetid       tweetcreatedts  retweetcount  \\\n",
       "42956  1507740663009497093  2022-03-26 15:26:01             0   \n",
       "43043  1507741000009138178  2022-03-26 15:27:21             0   \n",
       "43104  1507741247636754439  2022-03-26 15:28:20             0   \n",
       "43509  1507743582714839052  2022-03-26 15:37:37             0   \n",
       "44635  1507748244918575115  2022-03-26 15:56:08             0   \n",
       "\n",
       "                                                    text  \\\n",
       "42956  @ITB_Berlin @TUIDeutschland @DEhospitality @BM...   \n",
       "43043  @TUIDeutschland @derbuerger16 @dertouristik @A...   \n",
       "43104  @TUIDeutschland @turkeyonline Shame on YOU!\\n#...   \n",
       "43509  #UkraineUnderAttack\\n#boycottTUI\\n#Billionaire...   \n",
       "44635  @kingjulienyo @TUIUK #UkraineUnderAttack #boyc...   \n",
       "\n",
       "                                                hashtags coordinates  \\\n",
       "42956  [{'text': 'Alexey_Mordashov', 'indices': [85, ...         NaN   \n",
       "43043  [{'text': 'Billionaire', 'indices': [73, 85]},...         NaN   \n",
       "43104  [{'text': 'Billionaire', 'indices': [44, 56]},...         NaN   \n",
       "43509  [{'text': 'UkraineUnderAttack', 'indices': [0,...         NaN   \n",
       "44635  [{'text': 'UkraineUnderAttack', 'indices': [21...         NaN   \n",
       "\n",
       "       favorite_count                 extractedts       bot    no_bot  \n",
       "42956               0  2022-03-26 15:35:05.609823  0.963469  0.036531  \n",
       "43043               0  2022-03-26 15:35:03.365207  0.969319  0.030681  \n",
       "43104               0  2022-03-26 15:35:01.192162  0.914658  0.085342  \n",
       "43509               1  2022-03-26 15:46:31.995861  0.909614  0.090386  \n",
       "44635               0  2022-03-26 16:11:08.193738  0.918127  0.081873  "
      ]
     },
     "execution_count": 133,
     "metadata": {},
     "output_type": "execute_result"
    }
   ],
   "source": [
    "# Most active bot (it just spams the same tweet with minimal changes)\n",
    "df_most_active_bot = df_bottweets[df_bottweets['userid'] == 1387324144929419265]\n",
    "print(df_most_active_bot.shape)\n",
    "df_most_active_bot.head()"
   ]
  },
  {
   "cell_type": "markdown",
   "id": "7507bc7b",
   "metadata": {},
   "source": [
    "## Locations of bot accounts"
   ]
  },
  {
   "cell_type": "code",
   "execution_count": 134,
   "id": "5c20c920",
   "metadata": {},
   "outputs": [
    {
     "data": {
      "text/plain": [
       "location\n",
       "Украина              10\n",
       "Ukraine               9\n",
       "United States         9\n",
       "Україна               8\n",
       "Kyiv                  7\n",
       "                     ..\n",
       "Karachi Pakistan      1\n",
       "Key West, FL          1\n",
       "Kharkiv. Ukraine      1\n",
       "Kiev                  1\n",
       "𝐥𝐨𝐨𝐧𝐚.🔗               1\n",
       "Name: userid, Length: 203, dtype: int64"
      ]
     },
     "execution_count": 134,
     "metadata": {},
     "output_type": "execute_result"
    }
   ],
   "source": [
    "df_botaccounts.groupby(['location'])['userid'].count().sort_values(ascending = False)"
   ]
  },
  {
   "cell_type": "code",
   "execution_count": 135,
   "id": "eb64244e",
   "metadata": {
    "scrolled": true
   },
   "outputs": [
    {
     "name": "stdout",
     "output_type": "stream",
     "text": [
      "['not UK', 'New York, USA', 'Planet Earth', nan, 'Simulation!', 'Global', 'Україна', 'Offenbach am Main', 'New York', 'Texas, United States.', 'Pakistan', '東京 千代田区千代田1-1', 'AZ, Baku 🇦🇿', 'Paris, France', 'Istanbul Turkey', 'Fufore, Yola Nigeria ', 'kyiv, ukraine ', 'United State', 'Yugoslavia', 'Kyiv', 'Obywatel Świata', '日本 愛知', 'EVERYWHERE', 'Vilnius, Lithuania', 'France', 'poland', 'секрет', 'Brussel, België', 'England, United Kingdom', 'Home', 'sumy', 'Україна, Ірпінь', 'Secret Alien base. ', 'US', 'Lviv, Ukraine', 'England', 'Blockchain', 'Mumbai, India', 'volatility', 'Coslada, España', 'https://www.instagram.com/smar', 'Sjehdbdh', 'EU', 'Australia', '𝐥𝐨𝐨𝐧𝐚.🔗', 'Madagascar', 'Montreal', 'Nederland', 'Kyiv, Ukraine', 'Ukraine', 'Paris et Formentera', 'Austria', 'Sao Paulo, Brazil', 'Anywhere', 'India ', 'worldwide', 'İstanbul, Türkiye', 'Bangladesh', 'San Diego, CA', 'Japan', 'Somewhere but not here... ', 'Off the coast of Pluto', 'UK', 'mozambique', 'United Kingdom', '#TelAviv', 'West Germany', 'Pennsylvania, USA', 'Deception, USA', 'North Carolina, USA', 'Polska', 'USA', 'Silicon Valley California', '✈️🚘', 'Colombia', 'kabul, afghanistan', 'Isreal', 'Anywhere and nowhere', 'Nasik', 'Mönchengladbach, Deutschland', 'United States', 'Independent country of Ukraine', 'Serbia', 'Website Coming Soon!', 'mohali', 'Estonia of course', 'St.Petersburg Russia', 'Warsaw, Poland', 'Україна, Київ', 'Brooklyn, NY', 'Texas', 'Jackson Hole ', 'Hashemite Kingdom of Jordan', 'Wherever I may roam.', 'Honduras', 'Planet  Earth', 'Netherlands and Ukraine', 'Italia', 'An island named Hawaii ', 'North West, England', 'Auckland, New Zealand', 'Украина', 'Belgique', 'Marseille, France', 'Earth', 'Kiev', 'Guangdong', 'جمهوری اسلامی ایران', 'Ghana', 'Wien, Vienna, Austria', 'Texas, USA', 'Baltimore, Maryland', 'Gurgaon, India', 'Delhi, India', 'United states ', 'Dubai UAE', 'Phoenix, AZ', 'Canada', 'The World State Kingdom of God', \"Texas, Austin, 'Murica\", 'Toronto ', 'Orlando, FL', 'In Imagination', 'Not in an Empire', 'دبي, الامارات العربية المتحدة', 'pakistan', 'Essen, Germany', 'Te Atatu North ', 'Roma^Arcore^Chateauneuf-Grasse', 'The Hague', 'Everywhere', 'Houston, TX', 'Austin, TX', 'Miami, FL', 'Indonesia', 'PaRappa Town', 'Atlantis', 'Albion', 'Tacoma, WA', '5 miles away', 'India', 'KARACHI', 'United States 🇺🇸 ', 'Bengaluru, India', 'delhi, india', 'califronia,usa', 'Beijing', 'Усинск, Россия', 'My flat.', 'Denouement', 'Uk', '@ Fact Land ', 'Los Angeles, CA', 'Karachi Pakistan ', 'San Francisco,USA', 'Castle Nochicsquietimea', 'global', 'morocco', 'Tiananmen Square, 1989', 'Valencia', 'The Hootin Skies', 'Kharkiv. Ukraine', 'Chicago Ridge, IL', 'Sialkot, Punjab, Pakistan', 'Russia, the DADDYland', 'Xanthi, Greece ', 'Head', 'Dubai', 'Dhaka, Bangladesh', 'Northpole', 'The United States', 'Zielona Góra', 'Taft California(Hell on Earth)', '3 jay ave Northborough,ma 0153', 'Sonnensystem ', \"Utrecht M'n Stadje, Nederland\", 'UK & IRELAND', 'Key West, FL', 'City of London', 'Minding my MFKN business, USA!', 'Rovigo I^Châteauneuf-Grasse FR', 'Yes, just over there.', 'Ukraine, Kyiv', 'Germany', 'Norway', 'Sveitsi', 'san francisco', 'Oregon, USA', 'Kurdia', 'PALM SPRING CALIFORNIA^ARCORE^', 'Ukrania', 'GB UK', 'Junagad, India', 'The World Kingdom of God', 'World', 'California, USA', 'Atlanta, GA', 'Bayern, Deutschland', 'MeatUs.org', 'Antarctica', 'Sweden', 'Bronx, NY', 'Russia', 'Jungle ']\n"
     ]
    }
   ],
   "source": [
    "# df_botaccounts['location'].value_counts().plot(x = 'location', kind = 'bar')\n",
    "# plt.rcParams['figure.figsize'] = [100, 10]\n",
    "# plt.show()\n",
    "print(df_botaccounts.drop_duplicates(['location'])['location'].tolist())"
   ]
  },
  {
   "cell_type": "code",
   "execution_count": 136,
   "id": "ebdc0251",
   "metadata": {},
   "outputs": [],
   "source": [
    "def concat_locations(df_source: pd.DataFrame, df_return: pd.DataFrame, loc_list = list[str]):\n",
    "    '''append accounts with locations from loc_list in df_source to df_return'''\n",
    "    for loc in loc_list:\n",
    "        temp = df_source[df_source['location'] == loc]\n",
    "        df_return = pd.concat([df_return, temp ])\n",
    "    print(df_return.shape)\n",
    "    return df_return"
   ]
  },
  {
   "cell_type": "code",
   "execution_count": 137,
   "id": "262d324d",
   "metadata": {},
   "outputs": [
    {
     "name": "stdout",
     "output_type": "stream",
     "text": [
      "(104, 18)\n",
      "(3, 18)\n",
      "(40, 18)\n"
     ]
    },
    {
     "data": {
      "text/plain": [
       "(104, 18)"
      ]
     },
     "execution_count": 137,
     "metadata": {},
     "output_type": "execute_result"
    }
   ],
   "source": [
    "# Extract bot accounts from Ukraine, Russia and USA - not complete!\n",
    "df_ukrainebots = pd.DataFrame()\n",
    "df_ukrainebots = concat_locations(\n",
    "    df_bottweets, \n",
    "    df_ukrainebots, \n",
    "    ['Kyiv', 'Ukraine', 'Kiev', 'Україна', 'Украина', 'Kharkiv. Ukraine', \n",
    "     'kyiv, ukraine ', 'Kyiv, Ukraine', 'Україна, Київ', 'Ukrania', 'Україна, Ірпінь']\n",
    ")\n",
    "\n",
    "df_russiabots = pd.DataFrame() # Actually seem to be Ukrainian accounts judging from the content\n",
    "df_russiabots = concat_locations(\n",
    "    df_bottweets, \n",
    "    df_russiabots, \n",
    "    ['Russia, the DADDYland', 'Russia']\n",
    ")\n",
    "\n",
    "df_usabots = pd.DataFrame()\n",
    "df_usabots = concat_locations(\n",
    "    df_bottweets,\n",
    "    df_usabots, \n",
    "    ['United states ', 'United States 🇺🇸 ','United States',\n",
    "     'United State', 'PALM SPRING CALIFORNIA^ARCORE^','Los Angeles, CA',\n",
    "     'North Carolina, USA', 'Oregon, USA', \n",
    "     'Texas, United States.', 'Texas, USA', 'Texas, Austin', \n",
    "     'Murica', 'Texas'])\n",
    "\n",
    "df_ukrainebots.shape"
   ]
  },
  {
   "cell_type": "markdown",
   "id": "0f0cfed0",
   "metadata": {},
   "source": [
    "## Download subsets for exploration of content"
   ]
  },
  {
   "cell_type": "code",
   "execution_count": 138,
   "id": "d810db1f",
   "metadata": {},
   "outputs": [],
   "source": [
    "# sorting for easier legibility\n",
    "df_bottweets = df_bottweets.sort_values('userid', ascending = False)\n",
    "df_botaccounts = df_botaccounts.sort_values('location', ascending = False)\n",
    "df_ukrainebots = df_ukrainebots.sort_values('userid', ascending = False)\n",
    "df_russiabots = df_russiabots.sort_values('userid', ascending = False)\n",
    "df_usabots = df_usabots.sort_values('userid', ascending = False)"
   ]
  },
  {
   "cell_type": "code",
   "execution_count": 139,
   "id": "74ea48c7",
   "metadata": {},
   "outputs": [],
   "source": [
    "df_botaccounts.to_csv(path + '/subsets/predictions262728_botaccounts.csv')\n",
    "df_bottweets.to_csv(path + '/subsets/predictions262728_bottweets.csv')\n",
    "df_ukrainebots.to_csv(path + '/subsets/predictions262728_botsukraine.csv')\n",
    "df_most_active_bot.to_csv(path + '/subsets/predictions262728_most_active_bot.csv')\n",
    "df_russiabots.to_csv(path + '/subsets/predictions262728_russiabots.csv')\n",
    "df_usabots.to_csv(path + '/subsets/predictions262728_usabots.csv')"
   ]
  }
 ],
 "metadata": {
  "kernelspec": {
   "display_name": "Python 3 (ipykernel)",
   "language": "python",
   "name": "python3"
  },
  "language_info": {
   "codemirror_mode": {
    "name": "ipython",
    "version": 3
   },
   "file_extension": ".py",
   "mimetype": "text/x-python",
   "name": "python",
   "nbconvert_exporter": "python",
   "pygments_lexer": "ipython3",
   "version": "3.10.2"
  }
 },
 "nbformat": 4,
 "nbformat_minor": 5
}

       "      <th>tweetid</th>\n",
       "      <th>tweetcreatedts</th>\n",
       "      <th>retweetcount</th>\n",
       "      <th>text</th>\n",
       "      <th>hashtags</th>\n",
       "      <th>coordinates</th>\n",
       "      <th>favorite_count</th>\n",
       "      <th>extractedts</th>\n",
       "      <th>bot</th>\n",
       "      <th>no_bot</th>\n",
       "    </tr>\n",
       "  </thead>\n",
       "  <tbody>\n",
       "    <tr>\n",
       "      <th>0</th>\n",
       "      <td>567289542</td>\n",
       "      <td>Saudi_Gazette</td>\n",
       "      <td>Saudi Gazette is a leading English language da...</td>\n",
       "      <td>Saudi Arabia</td>\n",
       "      <td>2</td>\n",
       "      <td>388279</td>\n",
       "      <td>127237</td>\n",
       "      <td>2012-04-30 13:01:28.000000</td>\n",
       "      <td>1507507623624646664</td>\n",
       "      <td>2022-03-26 00:00:00</td>\n",
       "      <td>1</td>\n",
       "      <td>#Ukraine: General Assembly passes resolution d...</td>\n",
       "      <td>[{'text': 'Ukraine', 'indices': [0, 8]}]</td>\n",
       "      <td>NaN</td>\n",
       "      <td>2</td>\n",
       "      <td>2022-03-26 00:09:04.163917</td>\n",
       "      <td>0.0</td>\n",
       "      <td>1.0</td>\n",
       "    </tr>\n",
       "    <tr>\n",
       "      <th>1</th>\n",
       "      <td>1142687555625738240</td>\n",
       "      <td>Steed0905</td>\n",
       "      <td>いったんバイクアカウント停止します。\\n今後はウクライナの情報を流していきます。\\n嫌な方は...</td>\n",
       "      <td>NaN</td>\n",
       "      <td>396</td>\n",
       "      <td>324</td>\n",
       "      <td>4242</td>\n",
       "      <td>2019-06-23 06:55:18.000000</td>\n",
       "      <td>1507507622936657920</td>\n",
       "      <td>2022-03-26 00:00:00</td>\n",
       "      <td>265</td>\n",
       "      <td>#Ukraine: It seems that the 🚫 on this Russian ...</td>\n",
       "      <td>[{'text': 'Ukraine', 'indices': [15, 23]}]</td>\n",
       "      <td>NaN</td>\n",
       "      <td>0</td>\n",
       "      <td>2022-03-26 00:09:04.196237</td>\n",
       "      <td>0.0</td>\n",
       "      <td>1.0</td>\n",
       "    </tr>\n",
       "    <tr>\n",
       "      <th>2</th>\n",
       "      <td>770241326172418048</td>\n",
       "      <td>NGOnewsTW</td>\n",
       "      <td>inspired by @GovNewsTW, tweets,  videos and we...</td>\n",
       "      <td>Taiwan</td>\n",
       "      <td>106</td>\n",
       "      <td>516</td>\n",
       "      <td>43798</td>\n",
       "      <td>2016-08-29 12:46:57.000000</td>\n",
       "      <td>1507507625256177690</td>\n",
       "      <td>2022-03-26 00:00:00</td>\n",
       "      <td>0</td>\n",
       "      <td>[伊甸基金會推文] @edenfortaiwan: 「RT @Trending_Taiwan...</td>\n",
       "      <td>[{'text': 'StandWithUkraine', 'indices': [122,...</td>\n",
       "      <td>NaN</td>\n",
       "      <td>0</td>\n",
       "      <td>2022-03-26 00:03:14.849212</td>\n",
       "      <td>0.0</td>\n",
       "      <td>1.0</td>\n",
       "    </tr>\n",
       "    <tr>\n",
       "      <th>3</th>\n",
       "      <td>1498353133042507787</td>\n",
       "      <td>ArmedMaidan</td>\n",
       "      <td>News about Russia's war on Ukraine from award-...</td>\n",
       "      <td>Quebec, Canada</td>\n",
       "      <td>292</td>\n",
       "      <td>396</td>\n",
       "      <td>1031</td>\n",
       "      <td>2022-02-28 17:43:30.000000</td>\n",
       "      <td>1507507623335280641</td>\n",
       "      <td>2022-03-26 00:00:00</td>\n",
       "      <td>2</td>\n",
       "      <td>#Putin's WWII obsession hindering invasion of ...</td>\n",
       "      <td>[{'text': 'Putin', 'indices': [0, 6]}, {'text'...</td>\n",
       "      <td>NaN</td>\n",
       "      <td>1</td>\n",
       "      <td>2022-03-26 00:23:57.198251</td>\n",
       "      <td>0.0</td>\n",
       "      <td>1.0</td>\n",
       "    </tr>\n",
       "    <tr>\n",
       "      <th>4</th>\n",
       "      <td>1496075956062146563</td>\n",
       "      <td>IsPutinDeadYet</td>\n",
       "      <td>We're the first-ever socially driven #blockcha...</td>\n",
       "      <td>NaN</td>\n",
       "      <td>475</td>\n",
       "      <td>253</td>\n",
       "      <td>715</td>\n",
       "      <td>2022-02-22 10:54:53.000000</td>\n",
       "      <td>1507507626933817346</td>\n",
       "      <td>2022-03-26 00:00:01</td>\n",
       "      <td>1</td>\n",
       "      <td>Do you love playing Real-time shooters? #Ukrai...</td>\n",
       "      <td>[{'text': 'Ukrainians', 'indices': [40, 51]}, ...</td>\n",
       "      <td>NaN</td>\n",
       "      <td>1</td>\n",
       "      <td>2022-03-26 00:09:04.155853</td>\n",
       "      <td>0.0</td>\n",
       "      <td>1.0</td>\n",
       "    </tr>\n",
       "  </tbody>\n",
       "</table>\n",
       "</div>"
      ],
      "text/plain": [
       "                userid        username  \\\n",
       "0            567289542   Saudi_Gazette   \n",
       "1  1142687555625738240       Steed0905   \n",
       "2   770241326172418048       NGOnewsTW   \n",
       "3  1498353133042507787     ArmedMaidan   \n",
       "4  1496075956062146563  IsPutinDeadYet   \n",
       "\n",
       "                                            acctdesc        location  \\\n",
       "0  Saudi Gazette is a leading English language da...    Saudi Arabia   \n",
       "1  いったんバイクアカウント停止します。\\n今後はウクライナの情報を流していきます。\\n嫌な方は...             NaN   \n",
       "2  inspired by @GovNewsTW, tweets,  videos and we...          Taiwan   \n",
       "3  News about Russia's war on Ukraine from award-...  Quebec, Canada   \n",
       "4  We're the first-ever socially driven #blockcha...             NaN   \n",
       "\n",
       "   following  followers  totaltweets               usercreatedts  \\\n",
       "0          2     388279       127237  2012-04-30 13:01:28.000000   \n",
       "1        396        324         4242  2019-06-23 06:55:18.000000   \n",
       "2        106        516        43798  2016-08-29 12:46:57.000000   \n",
       "3        292        396         1031  2022-02-28 17:43:30.000000   \n",
       "4        475        253          715  2022-02-22 10:54:53.000000   \n",
       "\n",
       "               tweetid       tweetcreatedts  retweetcount  \\\n",
       "0  1507507623624646664  2022-03-26 00:00:00             1   \n",
       "1  1507507622936657920  2022-03-26 00:00:00           265   \n",
       "2  1507507625256177690  2022-03-26 00:00:00             0   \n",
       "3  1507507623335280641  2022-03-26 00:00:00             2   \n",
       "4  1507507626933817346  2022-03-26 00:00:01             1   \n",
       "\n",
       "                                                text  \\\n",
       "0  #Ukraine: General Assembly passes resolution d...   \n",
       "1  #Ukraine: It seems that the 🚫 on this Russian ...   \n",
       "2  [伊甸基金會推文] @edenfortaiwan: 「RT @Trending_Taiwan...   \n",
       "3  #Putin's WWII obsession hindering invasion of ...   \n",
       "4  Do you love playing Real-time shooters? #Ukrai...   \n",
       "\n",
       "                                            hashtags coordinates  \\\n",
       "0           [{'text': 'Ukraine', 'indices': [0, 8]}]         NaN   \n",
       "1         [{'text': 'Ukraine', 'indices': [15, 23]}]         NaN   \n",
       "2  [{'text': 'StandWithUkraine', 'indices': [122,...         NaN   \n",
       "3  [{'text': 'Putin', 'indices': [0, 6]}, {'text'...         NaN   \n",
       "4  [{'text': 'Ukrainians', 'indices': [40, 51]}, ...         NaN   \n",
       "\n",
       "   favorite_count                 extractedts  bot  no_bot  \n",
       "0               2  2022-03-26 00:09:04.163917  0.0     1.0  \n",
       "1               0  2022-03-26 00:09:04.196237  0.0     1.0  \n",
       "2               0  2022-03-26 00:03:14.849212  0.0     1.0  \n",
       "3               1  2022-03-26 00:23:57.198251  0.0     1.0  \n",
       "4               1  2022-03-26 00:09:04.155853  0.0     1.0  "
      ]
     },
     "execution_count": 126,
     "metadata": {},
     "output_type": "execute_result"
    }
   ],
   "source": [
    "df = pd.DataFrame()\n",
    "\n",
    "for filename in os.listdir(path):\n",
    "    if filename[-4:] == \".csv\":\n",
    "        print(filename)\n",
    "        temp = pd.read_csv(path + filename, lineterminator = '\\n')\n",
    "        df = pd.concat([ df, temp ])\n",
    "\n",
    "print(df.shape)\n",
    "df.head()"
   ]
  },
  {
   "cell_type": "markdown",
   "id": "74997463",
   "metadata": {},
   "source": [
    "## Distribution of bot prediction labels for accounts"
   ]
  },
  {
   "cell_type": "code",
   "execution_count": 127,
   "id": "a2180e49",
   "metadata": {},
   "outputs": [
    {
     "data": {
      "image/png": "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\n",
      "text/plain": [
       "<Figure size 7200x720 with 1 Axes>"
      ]
     },
     "metadata": {
      "needs_background": "light"
     },
     "output_type": "display_data"
    }
   ],
   "source": [
    "df.drop_duplicates('userid')['bot'].plot(x = 'bot prediction', kind = 'hist', logy = True)\n",
    "plt.show()"
   ]
  },
  {
   "cell_type": "markdown",
   "id": "f406ee6b",
   "metadata": {},
   "source": [
    "Let's check out the bot accounts "
   ]
  },
  {
   "cell_type": "code",
   "execution_count": 128,
   "id": "c6afe837",
   "metadata": {},
   "outputs": [
    {
     "name": "stdout",
     "output_type": "stream",
     "text": [
      "(2214, 18)\n",
      "(1076, 18)\n"
     ]
    }
   ],
   "source": [
    "df_bottweets = df[df['bot'] > bot_prob]\n",
    "print(df_bottweets.shape)\n",
    "df_botaccounts = df_bottweets.drop_duplicates('userid')\n",
    "print(df_botaccounts.shape)"
   ]
  },
  {
   "cell_type": "markdown",
   "id": "40755f8d",
   "metadata": {},
   "source": [
    "### Number of tweets per bot account"
   ]
  },
  {
   "cell_type": "code",
   "execution_count": 129,
   "id": "caf4545e",
   "metadata": {},
   "outputs": [
    {
     "data": {
      "image/png": "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\n",
      "text/plain": [
       "<Figure size 7200x720 with 1 Axes>"
      ]
     },
     "metadata": {
      "needs_background": "light"
     },
     "output_type": "display_data"
    }
   ],
   "source": [
    "df_bottweets.groupby(['userid'])['tweetid'].count().plot(x = 'number of tweets', kind = 'hist', logy = True)\n",
    "plt.show()"
   ]
  },
  {
   "cell_type": "code",
   "execution_count": 130,
   "id": "3be9fa4d",
   "metadata": {},
   "outputs": [
    {
     "data": {
      "text/plain": [
       "userid\n",
       "1387324144929419265    123\n",
       "1509194192785879042     77\n",
       "1502614845329657860     37\n",
       "1502987879521431554     30\n",
       "940474547366703106      26\n",
       "                      ... \n",
       "1495489511605866497      1\n",
       "1495794734018748418      1\n",
       "1495831643256414215      1\n",
       "1495917720172470274      1\n",
       "1509625146696474637      1\n",
       "Name: tweetid, Length: 1076, dtype: int64"
      ]
     },
     "execution_count": 130,
     "metadata": {},
     "output_type": "execute_result"
    }
   ],
   "source": [
    "df_bottweets.groupby(['userid'])['tweetid'].count().sort_values(ascending = False)"
   ]
  },
  {
   "cell_type": "markdown",
   "id": "56997149",
   "metadata": {},
   "source": [
    "Filtering retweets/tweets with same text"
   ]
  },
  {
   "cell_type": "code",
   "execution_count": 131,
   "id": "4680f768",
   "metadata": {},
   "outputs": [
    {
     "data": {
      "image/png": "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\n",
      "text/plain": [
       "<Figure size 7200x720 with 1 Axes>"
      ]
     },
     "metadata": {
      "needs_background": "light"
     },
     "output_type": "display_data"
    }
   ],
   "source": [
    "df_bottweets.drop_duplicates(['text']).groupby(['userid'])['tweetid'].count().plot(kind = 'hist', logy = True)\n",
    "plt.show()"
   ]
  },
  {
   "cell_type": "code",
   "execution_count": 132,
   "id": "b4da853c",
   "metadata": {},
   "outputs": [
    {
     "data": {
      "text/plain": [
       "userid\n",
       "1387324144929419265    123\n",
       "1509194192785879042     77\n",
       "1502614845329657860     37\n",
       "1502987879521431554     30\n",
       "940474547366703106      26\n",
       "                      ... \n",
       "1498928213594095617      1\n",
       "1388123693080104963      1\n",
       "1388068321057284098      1\n",
       "1387706455642492928      1\n",
       "1509625146696474637      1\n",
       "Name: tweetid, Length: 1069, dtype: int64"
      ]
     },
     "execution_count": 132,
     "metadata": {},
     "output_type": "execute_result"
    }
   ],
   "source": [
    "df_bottweets.drop_duplicates(['text']).groupby(['userid'])['tweetid'].count().sort_values(ascending = False)"
   ]
  },
  {
   "cell_type": "code",
   "execution_count": 133,
   "id": "d67f1afe",
   "metadata": {},
   "outputs": [
    {
     "name": "stdout",
     "output_type": "stream",
     "text": [
      "(123, 18)\n"
     ]
    },
    {
     "data": {
      "text/html": [
       "<div>\n",
       "<style scoped>\n",
       "    .dataframe tbody tr th:only-of-type {\n",
       "        vertical-align: middle;\n",
       "    }\n",
       "\n",
       "    .dataframe tbody tr th {\n",
       "        vertical-align: top;\n",
       "    }\n",
       "\n",
       "    .dataframe thead th {\n",
       "        text-align: right;\n",
       "    }\n",
       "</style>\n",
       "<table border=\"1\" class=\"dataframe\">\n",
       "  <thead>\n",
       "    <tr style=\"text-align: right;\">\n",
       "      <th></th>\n",
       "      <th>userid</th>\n",
       "      <th>username</th>\n",
       "      <th>acctdesc</th>\n",
       "      <th>location</th>\n",
       "      <th>following</th>\n",
       "      <th>followers</th>\n",
       "      <th>totaltweets</th>\n",
       "      <th>usercreatedts</th>\n",
       "      <th>tweetid</th>\n",
       "      <th>tweetcreatedts</th>\n",
       "      <th>retweetcount</th>\n",
       "      <th>text</th>\n",
       "      <th>hashtags</th>\n",
       "      <th>coordinates</th>\n",
       "      <th>favorite_count</th>\n",
       "      <th>extractedts</th>\n",
       "      <th>bot</th>\n",
       "      <th>no_bot</th>\n",
       "    </tr>\n",
       "  </thead>\n",
       "  <tbody>\n",
       "    <tr>\n",
       "      <th>42956</th>\n",
       "      <td>1387324144929419265</td>\n",
       "      <td>FreedKomet</td>\n",
       "      <td>NaN</td>\n",
       "      <td>NaN</td>\n",
       "      <td>30</td>\n",
       "      <td>0</td>\n",
       "      <td>15</td>\n",
       "      <td>2021-04-28 08:33:59.000000</td>\n",
       "      <td>1507740663009497093</td>\n",
       "      <td>2022-03-26 15:26:01</td>\n",
       "      <td>0</td>\n",
       "      <td>@ITB_Berlin @TUIDeutschland @DEhospitality @BM...</td>\n",
       "      <td>[{'text': 'Alexey_Mordashov', 'indices': [85, ...</td>\n",
       "      <td>NaN</td>\n",
       "      <td>0</td>\n",
       "      <td>2022-03-26 15:35:05.609823</td>\n",
       "      <td>0.963469</td>\n",
       "      <td>0.036531</td>\n",
       "    </tr>\n",
       "    <tr>\n",
       "      <th>43043</th>\n",
       "      <td>1387324144929419265</td>\n",
       "      <td>FreedKomet</td>\n",
       "      <td>NaN</td>\n",
       "      <td>NaN</td>\n",
       "      <td>30</td>\n",
       "      <td>0</td>\n",
       "      <td>15</td>\n",
       "      <td>2021-04-28 08:33:59.000000</td>\n",
       "      <td>1507741000009138178</td>\n",
       "      <td>2022-03-26 15:27:21</td>\n",
       "      <td>0</td>\n",
       "      <td>@TUIDeutschland @derbuerger16 @dertouristik @A...</td>\n",
       "      <td>[{'text': 'Billionaire', 'indices': [73, 85]},...</td>\n",
       "      <td>NaN</td>\n",
       "      <td>0</td>\n",
       "      <td>2022-03-26 15:35:03.365207</td>\n",
       "      <td>0.969319</td>\n",
       "      <td>0.030681</td>\n",
       "    </tr>\n",
       "    <tr>\n",
       "      <th>43104</th>\n",
       "      <td>1387324144929419265</td>\n",
       "      <td>FreedKomet</td>\n",
       "      <td>NaN</td>\n",
       "      <td>NaN</td>\n",
       "      <td>30</td>\n",
       "      <td>0</td>\n",
       "      <td>15</td>\n",
       "      <td>2021-04-28 08:33:59.000000</td>\n",
       "      <td>1507741247636754439</td>\n",
       "      <td>2022-03-26 15:28:20</td>\n",
       "      <td>0</td>\n",
       "      <td>@TUIDeutschland @turkeyonline Shame on YOU!\\n#...</td>\n",
       "      <td>[{'text': 'Billionaire', 'indices': [44, 56]},...</td>\n",
       "      <td>NaN</td>\n",
       "      <td>0</td>\n",
       "      <td>2022-03-26 15:35:01.192162</td>\n",
       "      <td>0.914658</td>\n",
       "      <td>0.085342</td>\n",
       "    </tr>\n",
       "    <tr>\n",
       "      <th>43509</th>\n",
       "      <td>1387324144929419265</td>\n",
       "      <td>FreedKomet</td>\n",
       "      <td>NaN</td>\n",
       "      <td>NaN</td>\n",
       "      <td>30</td>\n",
       "      <td>0</td>\n",
       "      <td>17</td>\n",
       "      <td>2021-04-28 08:33:59.000000</td>\n",
       "      <td>1507743582714839052</td>\n",
       "      <td>2022-03-26 15:37:37</td>\n",
       "      <td>0</td>\n",
       "      <td>#UkraineUnderAttack\\n#boycottTUI\\n#Billionaire...</td>\n",
       "      <td>[{'text': 'UkraineUnderAttack', 'indices': [0,...</td>\n",
       "      <td>NaN</td>\n",
       "      <td>1</td>\n",
       "      <td>2022-03-26 15:46:31.995861</td>\n",
       "      <td>0.909614</td>\n",
       "      <td>0.090386</td>\n",
       "    </tr>\n",
       "    <tr>\n",
       "      <th>44635</th>\n",
       "      <td>1387324144929419265</td>\n",
       "      <td>FreedKomet</td>\n",
       "      <td>NaN</td>\n",
       "      <td>NaN</td>\n",
       "      <td>31</td>\n",
       "      <td>0</td>\n",
       "      <td>93</td>\n",
       "      <td>2021-04-28 08:33:59.000000</td>\n",
       "      <td>1507748244918575115</td>\n",
       "      <td>2022-03-26 15:56:08</td>\n",
       "      <td>0</td>\n",
       "      <td>@kingjulienyo @TUIUK #UkraineUnderAttack #boyc...</td>\n",
       "      <td>[{'text': 'UkraineUnderAttack', 'indices': [21...</td>\n",
       "      <td>NaN</td>\n",
       "      <td>0</td>\n",
       "      <td>2022-03-26 16:11:08.193738</td>\n",
       "      <td>0.918127</td>\n",
       "      <td>0.081873</td>\n",
       "    </tr>\n",
       "  </tbody>\n",
       "</table>\n",
       "</div>"
      ],
      "text/plain": [
       "                    userid    username acctdesc location  following  \\\n",
       "42956  1387324144929419265  FreedKomet      NaN      NaN         30   \n",
       "43043  1387324144929419265  FreedKomet      NaN      NaN         30   \n",
       "43104  1387324144929419265  FreedKomet      NaN      NaN         30   \n",
       "43509  1387324144929419265  FreedKomet      NaN      NaN         30   \n",
       "44635  1387324144929419265  FreedKomet      NaN      NaN         31   \n",
       "\n",
       "       followers  totaltweets               usercreatedts  \\\n",
       "42956          0           15  2021-04-28 08:33:59.000000   \n",
       "43043          0           15  2021-04-28 08:33:59.000000   \n",
       "43104          0           15  2021-04-28 08:33:59.000000   \n",
       "43509          0           17  2021-04-28 08:33:59.000000   \n",
       "44635          0           93  2021-04-28 08:33:59.000000   \n",
       "\n",
       "                   tweetid       tweetcreatedts  retweetcount  \\\n",
       "42956  1507740663009497093  2022-03-26 15:26:01             0   \n",
       "43043  1507741000009138178  2022-03-26 15:27:21             0   \n",
       "43104  1507741247636754439  2022-03-26 15:28:20             0   \n",
       "43509  1507743582714839052  2022-03-26 15:37:37             0   \n",
       "44635  1507748244918575115  2022-03-26 15:56:08             0   \n",
       "\n",
       "                                                    text  \\\n",
       "42956  @ITB_Berlin @TUIDeutschland @DEhospitality @BM...   \n",
       "43043  @TUIDeutschland @derbuerger16 @dertouristik @A...   \n",
       "43104  @TUIDeutschland @turkeyonline Shame on YOU!\\n#...   \n",
       "43509  #UkraineUnderAttack\\n#boycottTUI\\n#Billionaire...   \n",
       "44635  @kingjulienyo @TUIUK #UkraineUnderAttack #boyc...   \n",
       "\n",
       "                                                hashtags coordinates  \\\n",
       "42956  [{'text': 'Alexey_Mordashov', 'indices': [85, ...         NaN   \n",
       "43043  [{'text': 'Billionaire', 'indices': [73, 85]},...         NaN   \n",
       "43104  [{'text': 'Billionaire', 'indices': [44, 56]},...         NaN   \n",
       "43509  [{'text': 'UkraineUnderAttack', 'indices': [0,...         NaN   \n",
       "44635  [{'text': 'UkraineUnderAttack', 'indices': [21...         NaN   \n",
       "\n",
       "       favorite_count                 extractedts       bot    no_bot  \n",
       "42956               0  2022-03-26 15:35:05.609823  0.963469  0.036531  \n",
       "43043               0  2022-03-26 15:35:03.365207  0.969319  0.030681  \n",
       "43104               0  2022-03-26 15:35:01.192162  0.914658  0.085342  \n",
       "43509               1  2022-03-26 15:46:31.995861  0.909614  0.090386  \n",
       "44635               0  2022-03-26 16:11:08.193738  0.918127  0.081873  "
      ]
     },
     "execution_count": 133,
     "metadata": {},
     "output_type": "execute_result"
    }
   ],
   "source": [
    "# Most active bot (it just spams the same tweet with minimal changes)\n",
    "df_most_active_bot = df_bottweets[df_bottweets['userid'] == 1387324144929419265]\n",
    "print(df_most_active_bot.shape)\n",
    "df_most_active_bot.head()"
   ]
  },
  {
   "cell_type": "markdown",
   "id": "7507bc7b",
   "metadata": {},
   "source": [
    "## Locations of bot accounts"
   ]
  },
  {
   "cell_type": "code",
   "execution_count": 134,
   "id": "5c20c920",
   "metadata": {},
   "outputs": [
    {
     "data": {
      "text/plain": [
       "location\n",
       "Украина              10\n",
       "Ukraine               9\n",
       "United States         9\n",
       "Україна               8\n",
       "Kyiv                  7\n",
       "                     ..\n",
       "Karachi Pakistan      1\n",
       "Key West, FL          1\n",
       "Kharkiv. Ukraine      1\n",
       "Kiev                  1\n",
       "𝐥𝐨𝐨𝐧𝐚.🔗               1\n",
       "Name: userid, Length: 203, dtype: int64"
      ]
     },
     "execution_count": 134,
     "metadata": {},
     "output_type": "execute_result"
    }
   ],
   "source": [
    "df_botaccounts.groupby(['location'])['userid'].count().sort_values(ascending = False)"
   ]
  },
  {
   "cell_type": "code",
   "execution_count": 135,
   "id": "eb64244e",
   "metadata": {
    "scrolled": true
   },
   "outputs": [
    {
     "name": "stdout",
     "output_type": "stream",
     "text": [
      "['not UK', 'New York, USA', 'Planet Earth', nan, 'Simulation!', 'Global', 'Україна', 'Offenbach am Main', 'New York', 'Texas, United States.', 'Pakistan', '東京 千代田区千代田1-1', 'AZ, Baku 🇦🇿', 'Paris, France', 'Istanbul Turkey', 'Fufore, Yola Nigeria ', 'kyiv, ukraine ', 'United State', 'Yugoslavia', 'Kyiv', 'Obywatel Świata', '日本 愛知', 'EVERYWHERE', 'Vilnius, Lithuania', 'France', 'poland', 'секрет', 'Brussel, België', 'England, United Kingdom', 'Home', 'sumy', 'Україна, Ірпінь', 'Secret Alien base. ', 'US', 'Lviv, Ukraine', 'England', 'Blockchain', 'Mumbai, India', 'volatility', 'Coslada, España', 'https://www.instagram.com/smar', 'Sjehdbdh', 'EU', 'Australia', '𝐥𝐨𝐨𝐧𝐚.🔗', 'Madagascar', 'Montreal', 'Nederland', 'Kyiv, Ukraine', 'Ukraine', 'Paris et Formentera', 'Austria', 'Sao Paulo, Brazil', 'Anywhere', 'India ', 'worldwide', 'İstanbul, Türkiye', 'Bangladesh', 'San Diego, CA', 'Japan', 'Somewhere but not here... ', 'Off the coast of Pluto', 'UK', 'mozambique', 'United Kingdom', '#TelAviv', 'West Germany', 'Pennsylvania, USA', 'Deception, USA', 'North Carolina, USA', 'Polska', 'USA', 'Silicon Valley California', '✈️🚘', 'Colombia', 'kabul, afghanistan', 'Isreal', 'Anywhere and nowhere', 'Nasik', 'Mönchengladbach, Deutschland', 'United States', 'Independent country of Ukraine', 'Serbia', 'Website Coming Soon!', 'mohali', 'Estonia of course', 'St.Petersburg Russia', 'Warsaw, Poland', 'Україна, Київ', 'Brooklyn, NY', 'Texas', 'Jackson Hole ', 'Hashemite Kingdom of Jordan', 'Wherever I may roam.', 'Honduras', 'Planet  Earth', 'Netherlands and Ukraine', 'Italia', 'An island named Hawaii ', 'North West, England', 'Auckland, New Zealand', 'Украина', 'Belgique', 'Marseille, France', 'Earth', 'Kiev', 'Guangdong', 'جمهوری اسلامی ایران', 'Ghana', 'Wien, Vienna, Austria', 'Texas, USA', 'Baltimore, Maryland', 'Gurgaon, India', 'Delhi, India', 'United states ', 'Dubai UAE', 'Phoenix, AZ', 'Canada', 'The World State Kingdom of God', \"Texas, Austin, 'Murica\", 'Toronto ', 'Orlando, FL', 'In Imagination', 'Not in an Empire', 'دبي, الامارات العربية المتحدة', 'pakistan', 'Essen, Germany', 'Te Atatu North ', 'Roma^Arcore^Chateauneuf-Grasse', 'The Hague', 'Everywhere', 'Houston, TX', 'Austin, TX', 'Miami, FL', 'Indonesia', 'PaRappa Town', 'Atlantis', 'Albion', 'Tacoma, WA', '5 miles away', 'India', 'KARACHI', 'United States 🇺🇸 ', 'Bengaluru, India', 'delhi, india', 'califronia,usa', 'Beijing', 'Усинск, Россия', 'My flat.', 'Denouement', 'Uk', '@ Fact Land ', 'Los Angeles, CA', 'Karachi Pakistan ', 'San Francisco,USA', 'Castle Nochicsquietimea', 'global', 'morocco', 'Tiananmen Square, 1989', 'Valencia', 'The Hootin Skies', 'Kharkiv. Ukraine', 'Chicago Ridge, IL', 'Sialkot, Punjab, Pakistan', 'Russia, the DADDYland', 'Xanthi, Greece ', 'Head', 'Dubai', 'Dhaka, Bangladesh', 'Northpole', 'The United States', 'Zielona Góra', 'Taft California(Hell on Earth)', '3 jay ave Northborough,ma 0153', 'Sonnensystem ', \"Utrecht M'n Stadje, Nederland\", 'UK & IRELAND', 'Key West, FL', 'City of London', 'Minding my MFKN business, USA!', 'Rovigo I^Châteauneuf-Grasse FR', 'Yes, just over there.', 'Ukraine, Kyiv', 'Germany', 'Norway', 'Sveitsi', 'san francisco', 'Oregon, USA', 'Kurdia', 'PALM SPRING CALIFORNIA^ARCORE^', 'Ukrania', 'GB UK', 'Junagad, India', 'The World Kingdom of God', 'World', 'California, USA', 'Atlanta, GA', 'Bayern, Deutschland', 'MeatUs.org', 'Antarctica', 'Sweden', 'Bronx, NY', 'Russia', 'Jungle ']\n"
     ]
    }
   ],
   "source": [
    "# df_botaccounts['location'].value_counts().plot(x = 'location', kind = 'bar')\n",
    "# plt.rcParams['figure.figsize'] = [100, 10]\n",
    "# plt.show()\n",
    "print(df_botaccounts.drop_duplicates(['location'])['location'].tolist())"
   ]
  },
  {
   "cell_type": "code",
   "execution_count": 136,
   "id": "1cdfeadd",
   "metadata": {},
   "outputs": [],
   "source": [
    "def concat_locations(df_source: pd.DataFrame, df_return: pd.DataFrame, loc_list = list[str]):\n",
    "    '''append accounts with locations from loc_list in df_source to df_return'''\n",
    "    for loc in loc_list:\n",
    "        temp = df_source[df_source['location'] == loc]\n",
    "        df_return = pd.concat([df_return, temp ])\n",
    "    print(df_return.shape)\n",
    "    return df_return"
   ]
  },
  {
   "cell_type": "code",
   "execution_count": 137,
   "id": "72dc0d2a",
   "metadata": {},
   "outputs": [
    {
     "name": "stdout",
     "output_type": "stream",
     "text": [
      "(104, 18)\n",
      "(3, 18)\n",
      "(40, 18)\n"
     ]
    },
    {
     "data": {
      "text/plain": [
       "(104, 18)"
      ]
     },
     "execution_count": 137,
     "metadata": {},
     "output_type": "execute_result"
    }
   ],
   "source": [
    "# Extract bot accounts from Ukraine, Russia and USA - not complete!\n",
    "df_ukrainebots = pd.DataFrame()\n",
    "df_ukrainebots = concat_locations(\n",
    "    df_bottweets, \n",
    "    df_ukrainebots, \n",
    "    ['Kyiv', 'Ukraine', 'Kiev', 'Україна', 'Украина', 'Kharkiv. Ukraine', \n",
    "     'kyiv, ukraine ', 'Kyiv, Ukraine', 'Україна, Київ', 'Ukrania', 'Україна, Ірпінь']\n",
    ")\n",
    "\n",
    "df_russiabots = pd.DataFrame() # Actually seem to be Ukrainian accounts judging from the content\n",
    "df_russiabots = concat_locations(\n",
    "    df_bottweets, \n",
    "    df_russiabots, \n",
    "    ['Russia, the DADDYland', 'Russia']\n",
    ")\n",
    "\n",
    "df_usabots = pd.DataFrame()\n",
    "df_usabots = concat_locations(\n",
    "    df_bottweets,\n",
    "    df_usabots, \n",
    "    ['United states ', 'United States 🇺🇸 ','United States',\n",
    "     'United State', 'PALM SPRING CALIFORNIA^ARCORE^','Los Angeles, CA',\n",
    "     'North Carolina, USA', 'Oregon, USA', \n",
    "     'Texas, United States.', 'Texas, USA', 'Texas, Austin', \n",
    "     'Murica', 'Texas'])\n",
    "\n",
    "df_ukrainebots.shape"
   ]
  },
  {
   "cell_type": "markdown",
   "id": "0f0cfed0",
   "metadata": {},
   "source": [
    "## Download subsets for exploration of content"
   ]
  },
  {
   "cell_type": "code",
   "execution_count": 138,
   "id": "0663d912",
   "metadata": {},
   "outputs": [],
   "source": [
    "# sorting for easier legibility\n",
    "df_bottweets = df_bottweets.sort_values('userid', ascending = False)\n",
    "df_botaccounts = df_botaccounts.sort_values('location', ascending = False)\n",
    "df_ukrainebots = df_ukrainebots.sort_values('userid', ascending = False)\n",
    "df_russiabots = df_russiabots.sort_values('userid', ascending = False)\n",
    "df_usabots = df_usabots.sort_values('userid', ascending = False)"
   ]
  },
  {
   "cell_type": "code",
   "execution_count": 139,
   "id": "74ea48c7",
   "metadata": {},
   "outputs": [],
   "source": [
    "df_botaccounts.to_csv(path + '/subsets/predictions262728_botaccounts.csv')\n",
    "df_bottweets.to_csv(path + '/subsets/predictions262728_bottweets.csv')\n",
    "df_ukrainebots.to_csv(path + '/subsets/predictions262728_botsukraine.csv')\n",
    "df_most_active_bot.to_csv(path + '/subsets/predictions262728_most_active_bot.csv')\n",
    "df_russiabots.to_csv(path + '/subsets/predictions262728_russiabots.csv')\n",
    "df_usabots.to_csv(path + '/subsets/predictions262728_usabots.csv')"
   ]
  }
 ],
 "metadata": {
  "kernelspec": {
   "display_name": "Python 3 (ipykernel)",
   "language": "python",
   "name": "python3"
  },
  "language_info": {
   "codemirror_mode": {
    "name": "ipython",
    "version": 3
   },
   "file_extension": ".py",
   "mimetype": "text/x-python",
   "name": "python",
   "nbconvert_exporter": "python",
   "pygments_lexer": "ipython3",
   "version": "3.10.2"
  }
 },
 "nbformat": 4,
 "nbformat_minor": 5
}
