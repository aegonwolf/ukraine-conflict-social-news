{
 "cells": [
  {
   "cell_type": "code",
   "execution_count": null,
   "id": "44cfe37d",
   "metadata": {},
   "outputs": [],
   "source": [
    "import pandas as pd\n",
    "import matplotlib.pyplot as plt\n",
    "import os"
   ]
  },
  {
   "cell_type": "code",
   "execution_count": null,
   "id": "541898bc",
   "metadata": {},
   "outputs": [],
   "source": [
    "path = '../predictions1week/'\n",
    "bot_prob = 0.9 # threshold for bot accounts\n",
    "plt.rcParams['figure.figsize'] = [10, 5]"
   ]
  },
  {
   "cell_type": "markdown",
   "id": "e3bf97ab",
   "metadata": {},
   "source": [
    "Add exploration functions by Florian"
   ]
  },
  {
   "cell_type": "code",
   "execution_count": null,
   "id": "cc4c9323",
   "metadata": {},
   "outputs": [],
   "source": [
    "def explore(df: pd.DataFrame, col: str, continuous: bool = True, index: str = \"\"):\n",
    "    \"\"\" Shows basic stats and plots histogram / bar plot \"\"\"\n",
    "    s = df[col] if continuous else df[col].value_counts()\n",
    "    print(s.describe())\n",
    "    \n",
    "    if continuous:\n",
    "        s.hist(log=True, bins=20)\n",
    "    else:\n",
    "        if index:\n",
    "            s.index = [\n",
    "                df[df[col] == idx][index].iloc[0]\n",
    "                for idx in s.index\n",
    "            ]\n",
    "        s[:20].plot.bar(log=True)\n",
    "    # plt.show()\n",
    "    \n",
    "def plot_timestamps(s: pd.Series):\n",
    "    \"\"\" Plot timestamp data (per day) \"\"\"\n",
    "    s_count = s.apply(\n",
    "        lambda date: date.split()[0]\n",
    "    ).value_counts()\n",
    "    s_count = s_count.sort_index()\n",
    "    print(s_count)\n",
    "    s_count.plot.line()\n",
    "    plt.show()\n",
    "    \n",
    "def plot_scatter(df: pd.DataFrame, x: str, y: str):\n",
    "    \"\"\" Plots scatter plot \"\"\"\n",
    "    df.plot.scatter(x, y, logx=True, logy=True, alpha=.002)\n",
    "    # plt.show()"
   ]
  },
  {
   "cell_type": "code",
   "execution_count": null,
   "id": "3b2583f1",
   "metadata": {},
   "outputs": [],
   "source": [
    "def concat_locations(df_source: pd.DataFrame, df_return: pd.DataFrame, loc_list = list[str]):\n",
    "    '''append accounts with locations from loc_list in df_source to df_return'''\n",
    "    for loc in loc_list:\n",
    "        temp = df_source[df_source['location'] == loc]\n",
    "        df_return = pd.concat([df_return, temp ])\n",
    "    print(df_return.shape)\n",
    "    return df_return"
   ]
  },
  {
   "cell_type": "markdown",
   "id": "caaec3b1",
   "metadata": {},
   "source": [
    "## Load dataset"
   ]
  },
  {
   "cell_type": "code",
   "execution_count": null,
   "id": "00eb66ac",
   "metadata": {},
   "outputs": [],
   "source": [
    "df = pd.DataFrame()\n",
    "\n",
    "for filename in os.listdir(path):\n",
    "    if filename[-4:] == \".csv\":\n",
    "        print(filename)\n",
    "        temp = pd.read_csv(path + filename, lineterminator = '\\n')\n",
    "        df = pd.concat([ df, temp ])\n",
    "\n",
    "print(df.shape)\n",
    "df.head()"
   ]
  },
  {
   "cell_type": "markdown",
   "id": "74997463",
   "metadata": {},
   "source": [
    "## Distribution of bot prediction labels for accounts"
   ]
  },
  {
   "cell_type": "code",
   "execution_count": null,
   "id": "9401be02",
   "metadata": {},
   "outputs": [],
   "source": [
    "explore(df.drop_duplicates('userid'), 'bot')"
   ]
  },
  {
   "cell_type": "markdown",
   "id": "f406ee6b",
   "metadata": {},
   "source": [
    "Let's check out the bot accounts "
   ]
  },
  {
   "cell_type": "code",
   "execution_count": null,
   "id": "c6afe837",
   "metadata": {},
   "outputs": [],
   "source": [
    "df_bottweets = df[df['bot'] > bot_prob]\n",
    "print(df_bottweets.shape)\n",
    "df_botaccounts = df_bottweets.drop_duplicates('userid')\n",
    "print(df_botaccounts.shape)\n",
    "df_botaccounts.head()"
   ]
  },
  {
   "cell_type": "markdown",
   "id": "40755f8d",
   "metadata": {},
   "source": [
    "### Basic plots for bot accounts"
   ]
  },
  {
   "cell_type": "markdown",
   "id": "455b37d5",
   "metadata": {},
   "source": [
    "Followers/following: "
   ]
  },
  {
   "cell_type": "code",
   "execution_count": null,
   "id": "7da9ed9d",
   "metadata": {},
   "outputs": [],
   "source": [
    "explore(df_botaccounts, 'followers', continuous = False)"
   ]
  },
  {
   "cell_type": "code",
   "execution_count": null,
   "id": "fc4a1d40",
   "metadata": {},
   "outputs": [],
   "source": [
    "explore(df_botaccounts, 'following', continuous = False)"
   ]
  },
  {
   "cell_type": "markdown",
   "id": "2a3c1e22",
   "metadata": {},
   "source": [
    "Tweets per bot accounts"
   ]
  },
  {
   "cell_type": "code",
   "execution_count": null,
   "id": "89396767",
   "metadata": {
    "scrolled": true
   },
   "outputs": [],
   "source": [
    "df_bottweets.groupby(['userid'])['tweetid'].count().plot(x = 'number of tweets', kind = 'hist', logy = True)\n",
    "plt.show()"
   ]
  },
  {
   "cell_type": "markdown",
   "id": "64ba893d",
   "metadata": {},
   "source": [
    "Compare for all accounts"
   ]
  },
  {
   "cell_type": "code",
   "execution_count": null,
   "id": "cfdd3244",
   "metadata": {},
   "outputs": [],
   "source": [
    "df.groupby(['userid'])['tweetid'].count().plot(x = 'number of tweets', kind = 'hist', logy = True)"
   ]
  },
  {
   "cell_type": "markdown",
   "id": "be613761",
   "metadata": {},
   "source": [
    "Drop tweets with same text"
   ]
  },
  {
   "cell_type": "code",
   "execution_count": null,
   "id": "3be9fa4d",
   "metadata": {
    "scrolled": true
   },
   "outputs": [],
   "source": [
    "df_bottweets.groupby(['userid'])['text'].count().sort_values(ascending = False)"
   ]
  },
  {
   "cell_type": "code",
   "execution_count": null,
   "id": "d67f1afe",
   "metadata": {},
   "outputs": [],
   "source": [
    "# Most active bot (it just spams the same tweet with minimal changes)\n",
    "df_most_active_bot = df_bottweets[df_bottweets['userid'] == 1387324144929419265]\n",
    "print(df_most_active_bot.shape)\n",
    "df_most_active_bot.head()"
   ]
  },
  {
   "cell_type": "markdown",
   "id": "2a031dd0",
   "metadata": {},
   "source": [
    "Plot creation dates of bot accounts"
   ]
  },
  {
   "cell_type": "code",
   "execution_count": null,
   "id": "2a296ab7",
   "metadata": {
    "scrolled": false
   },
   "outputs": [],
   "source": [
    "plot_timestamps(df_botaccounts['usercreatedts'])"
   ]
  },
  {
   "cell_type": "code",
   "execution_count": null,
   "id": "2a478f1a",
   "metadata": {
    "scrolled": false
   },
   "outputs": [],
   "source": [
    "plot_timestamps(df['usercreatedts'])"
   ]
  },
  {
   "cell_type": "markdown",
   "id": "7507bc7b",
   "metadata": {},
   "source": [
    "## Locations of bot accounts"
   ]
  },
  {
   "cell_type": "code",
   "execution_count": null,
   "id": "5c20c920",
   "metadata": {},
   "outputs": [],
   "source": [
    "df_botaccounts.groupby(['location'])['userid'].count().sort_values(ascending = False)"
   ]
  },
  {
   "cell_type": "code",
   "execution_count": null,
   "id": "eb64244e",
   "metadata": {
    "scrolled": true
   },
   "outputs": [],
   "source": [
    "# df_botaccounts['location'].value_counts().plot(x = 'location', kind = 'bar')\n",
    "# plt.rcParams['figure.figsize'] = [100, 10]\n",
    "# plt.show()\n",
    "print(df_botaccounts.drop_duplicates(['location'])['location'].tolist())"
   ]
  },
  {
   "cell_type": "code",
   "execution_count": null,
   "id": "70e9b34d",
   "metadata": {},
   "outputs": [],
   "source": [
    "# Extract bot accounts from Ukraine, Russia and USA - not complete!\n",
    "df_ukrainebots = pd.DataFrame()\n",
    "df_ukrainebots = concat_locations(\n",
    "    df_bottweets, \n",
    "    df_ukrainebots, \n",
    "    ['Kyiv', 'Ukraine', 'Kiev', 'Україна', 'Украина', 'Kharkiv. Ukraine', \n",
    "     'kyiv, ukraine ', 'Kyiv, Ukraine', 'Україна, Київ', 'Ukrania', 'Україна, Ірпінь']\n",
    ")\n",
    "\n",
    "df_russiabots = pd.DataFrame() # Actually seem to be Ukrainian accounts judging from the content\n",
    "df_russiabots = concat_locations(\n",
    "    df_bottweets, \n",
    "    df_russiabots, \n",
    "    ['Russia, the DADDYland', 'Russia']\n",
    ")\n",
    "\n",
    "df_usabots = pd.DataFrame()\n",
    "df_usabots = concat_locations(\n",
    "    df_bottweets,\n",
    "    df_usabots, \n",
    "    ['United states ', 'United States 🇺🇸 ','United States',\n",
    "     'United State', 'PALM SPRING CALIFORNIA^ARCORE^','Los Angeles, CA',\n",
    "     'North Carolina, USA', 'Oregon, USA', \n",
    "     'Texas, United States.', 'Texas, USA', 'Texas, Austin', \n",
    "     'Murica', 'Texas'])\n",
    "\n",
    "df_ukrainebots.shape"
   ]
  },
  {
   "cell_type": "markdown",
   "id": "0f0cfed0",
   "metadata": {},
   "source": [
    "## Download subsets for exploration of content"
   ]
  },
  {
   "cell_type": "code",
   "execution_count": null,
   "id": "36486ee2",
   "metadata": {},
   "outputs": [],
   "source": [
    "# sorting for easier legibility\n",
    "df_bottweets = df_bottweets.sort_values('userid', ascending = False)\n",
    "df_botaccounts = df_botaccounts.sort_values('location', ascending = False)\n",
    "df_ukrainebots = df_ukrainebots.sort_values('userid', ascending = False)\n",
    "df_russiabots = df_russiabots.sort_values('userid', ascending = False)\n",
    "df_usabots = df_usabots.sort_values('userid', ascending = False)"
   ]
  },
  {
   "cell_type": "code",
   "execution_count": null,
   "id": "74ea48c7",
   "metadata": {},
   "outputs": [],
   "source": [
    "df_botaccounts.to_csv(path + '/subsets/predictions262728_botaccounts.csv')\n",
    "df_bottweets.to_csv(path + '/subsets/predictions262728_bottweets.csv')\n",
    "df_ukrainebots.to_csv(path + '/subsets/predictions262728_botsukraine.csv')\n",
    "df_most_active_bot.to_csv(path + '/subsets/predictions262728_most_active_bot.csv')\n",
    "df_russiabots.to_csv(path + '/subsets/predictions262728_russiabots.csv')\n",
    "df_usabots.to_csv(path + '/subsets/predictions262728_usabots.csv')"
   ]
  }
 ],
 "metadata": {
  "kernelspec": {
   "display_name": "Python 3 (ipykernel)",
   "language": "python",
   "name": "python3"
  },
  "language_info": {
   "codemirror_mode": {
    "name": "ipython",
    "version": 3
   },
   "file_extension": ".py",
   "mimetype": "text/x-python",
   "name": "python",
   "nbconvert_exporter": "python",
   "pygments_lexer": "ipython3",
   "version": "3.10.2"
  }
 },
 "nbformat": 4,
 "nbformat_minor": 5
}
