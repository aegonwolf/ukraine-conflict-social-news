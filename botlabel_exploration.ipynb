{
 "cells": [
  {
   "cell_type": "code",
   "execution_count": 1,
   "id": "44cfe37d",
   "metadata": {},
   "outputs": [],
   "source": [
    "import pandas as pd\n",
    "import matplotlib.pyplot as plt\n",
    "import os"
   ]
  },
  {
   "cell_type": "code",
   "execution_count": 2,
   "id": "541898bc",
   "metadata": {},
   "outputs": [],
   "source": [
    "path = '../predictions1week/'\n",
    "bot_prob = 0.9 # threshold for bot accounts\n",
    "plt.rcParams['figure.figsize'] = [10, 5]"
   ]
  },
  {
   "cell_type": "markdown",
   "id": "e3bf97ab",
   "metadata": {},
   "source": [
    "Add exploration functions by Florian"
   ]
  },
  {
   "cell_type": "code",
   "execution_count": 3,
   "id": "cc4c9323",
   "metadata": {},
   "outputs": [],
   "source": [
    "def explore(df: pd.DataFrame, col: str, continuous: bool = True, index: str = \"\"):\n",
    "    \"\"\" Shows basic stats and plots histogram / bar plot \"\"\"\n",
    "    s = df[col] if continuous else df[col].value_counts()\n",
    "    print(s.describe())\n",
    "    \n",
    "    if continuous:\n",
    "        s.hist(log=True, bins=20)\n",
    "    else:\n",
    "        if index:\n",
    "            s.index = [\n",
    "                df[df[col] == idx][index].iloc[0]\n",
    "                for idx in s.index\n",
    "            ]\n",
    "        s[:20].plot.bar(log=True)\n",
    "    # plt.show()\n",
    "    \n",
    "def plot_timestamps(s: pd.Series):\n",
    "    \"\"\" Plot timestamp data (per day) \"\"\"\n",
    "    s_count = s.apply(\n",
    "        lambda date: date.split()[0]\n",
    "    ).value_counts()\n",
    "    s_count = s_count.sort_index()\n",
    "    print(s_count)\n",
    "    s_count.plot.line()\n",
    "    plt.show()\n",
    "    \n",
    "def plot_scatter(df: pd.DataFrame, x: str, y: str):\n",
    "    \"\"\" Plots scatter plot \"\"\"\n",
    "    df.plot.scatter(x, y, logx=True, logy=True, alpha=.002)\n",
    "    plt.show()"
   ]
  },
  {
   "cell_type": "code",
   "execution_count": 4,
   "id": "3b2583f1",
   "metadata": {},
   "outputs": [],
   "source": [
    "def concat_locations(df_source: pd.DataFrame, df_return: pd.DataFrame, loc_list = list[str]):\n",
    "    '''append accounts with locations from loc_list in df_source to df_return'''\n",
    "    for loc in loc_list:\n",
    "        temp = df_source[df_source['location'] == loc]\n",
    "        df_return = pd.concat([df_return, temp ])\n",
    "    print(df_return.shape)\n",
    "    return df_return"
   ]
  },
  {
   "cell_type": "markdown",
   "id": "caaec3b1",
   "metadata": {},
   "source": [
    "## Load dataset"
   ]
  },
  {
   "cell_type": "code",
   "execution_count": 5,
   "id": "00eb66ac",
   "metadata": {},
   "outputs": [
    {
     "name": "stdout",
     "output_type": "stream",
     "text": [
      "predictions262728.csv\n",
      "predictions293031.csv\n",
      "(259843, 18)\n"
     ]
    },
    {
     "data": {
      "text/html": [
       "<div>\n",
       "<style scoped>\n",
       "    .dataframe tbody tr th:only-of-type {\n",
       "        vertical-align: middle;\n",
       "    }\n",
       "\n",
       "    .dataframe tbody tr th {\n",
       "        vertical-align: top;\n",
       "    }\n",
       "\n",
       "    .dataframe thead th {\n",
       "        text-align: right;\n",
       "    }\n",
       "</style>\n",
       "<table border=\"1\" class=\"dataframe\">\n",
       "  <thead>\n",
       "    <tr style=\"text-align: right;\">\n",
       "      <th></th>\n",
       "      <th>userid</th>\n",
       "      <th>username</th>\n",
       "      <th>acctdesc</th>\n",
       "      <th>location</th>\n",
       "      <th>following</th>\n",
       "      <th>followers</th>\n",
       "      <th>totaltweets</th>\n",
       "      <th>usercreatedts</th>\n",
       "      <th>tweetid</th>\n",
       "      <th>tweetcreatedts</th>\n",
       "      <th>retweetcount</th>\n",
       "      <th>text</th>\n",
       "      <th>hashtags</th>\n",
       "      <th>coordinates</th>\n",
       "      <th>favorite_count</th>\n",
       "      <th>extractedts</th>\n",
       "      <th>bot</th>\n",
       "      <th>no_bot</th>\n",
       "    </tr>\n",
       "  </thead>\n",
       "  <tbody>\n",
       "    <tr>\n",
       "      <th>0</th>\n",
       "      <td>1288991526807248898</td>\n",
       "      <td>drunkiel</td>\n",
       "      <td>ga hunter - rant acc \\nturn off my rt pls.</td>\n",
       "      <td>bigwin</td>\n",
       "      <td>1468</td>\n",
       "      <td>195</td>\n",
       "      <td>4684</td>\n",
       "      <td>2020-07-31 00:15:13.000000</td>\n",
       "      <td>1507145236014792712</td>\n",
       "      <td>2022-03-25 00:00:00</td>\n",
       "      <td>876</td>\n",
       "      <td>WATCHMAN GANG is still early and fresh, join o...</td>\n",
       "      <td>[]</td>\n",
       "      <td>NaN</td>\n",
       "      <td>0</td>\n",
       "      <td>2022-03-25 00:06:50.993554</td>\n",
       "      <td>0.0</td>\n",
       "      <td>1.0</td>\n",
       "    </tr>\n",
       "    <tr>\n",
       "      <th>1</th>\n",
       "      <td>1235244517307166725</td>\n",
       "      <td>InformazioneA</td>\n",
       "      <td>Aggiornamenti e podcast dedicati a questioni i...</td>\n",
       "      <td>NaN</td>\n",
       "      <td>102</td>\n",
       "      <td>919</td>\n",
       "      <td>9370</td>\n",
       "      <td>2020-03-04 16:43:53.000000</td>\n",
       "      <td>1507145236031709186</td>\n",
       "      <td>2022-03-25 00:00:00</td>\n",
       "      <td>0</td>\n",
       "      <td>#UkraineWar \\n#Russia #Ukraine war report #24m...</td>\n",
       "      <td>[{'text': 'UkraineWar', 'indices': [0, 11]}, {...</td>\n",
       "      <td>NaN</td>\n",
       "      <td>0</td>\n",
       "      <td>2022-03-25 00:06:50.977960</td>\n",
       "      <td>0.0</td>\n",
       "      <td>1.0</td>\n",
       "    </tr>\n",
       "    <tr>\n",
       "      <th>2</th>\n",
       "      <td>237064482</td>\n",
       "      <td>thecornerdoteu</td>\n",
       "      <td>#Spain and #EU economies in a global context. ...</td>\n",
       "      <td>Global</td>\n",
       "      <td>1723</td>\n",
       "      <td>1761</td>\n",
       "      <td>51132</td>\n",
       "      <td>2011-01-12 00:36:40.000000</td>\n",
       "      <td>1507145236241285126</td>\n",
       "      <td>2022-03-25 00:00:00</td>\n",
       "      <td>0</td>\n",
       "      <td>In the short term, the only way for #Europe to...</td>\n",
       "      <td>[{'text': 'Europe', 'indices': [36, 43]}, {'te...</td>\n",
       "      <td>NaN</td>\n",
       "      <td>0</td>\n",
       "      <td>2022-03-25 00:06:50.955455</td>\n",
       "      <td>0.0</td>\n",
       "      <td>1.0</td>\n",
       "    </tr>\n",
       "    <tr>\n",
       "      <th>3</th>\n",
       "      <td>173212647</td>\n",
       "      <td>JoeMokolobetsi</td>\n",
       "      <td>Jesus Christ is the only answer | Romans 10:9-...</td>\n",
       "      <td>Afrika Borwa</td>\n",
       "      <td>190</td>\n",
       "      <td>172</td>\n",
       "      <td>3815</td>\n",
       "      <td>2010-07-31 19:09:22.000000</td>\n",
       "      <td>1507145236455251973</td>\n",
       "      <td>2022-03-25 00:00:00</td>\n",
       "      <td>0</td>\n",
       "      <td>@RevMeshoe @AfricanApostles @RhemaSA @PastorXo...</td>\n",
       "      <td>[{'text': 'UkraineWar', 'indices': [187, 198]}...</td>\n",
       "      <td>NaN</td>\n",
       "      <td>0</td>\n",
       "      <td>2022-03-25 00:02:16.109375</td>\n",
       "      <td>0.0</td>\n",
       "      <td>1.0</td>\n",
       "    </tr>\n",
       "    <tr>\n",
       "      <th>4</th>\n",
       "      <td>147167024</td>\n",
       "      <td>SigaMassa</td>\n",
       "      <td>釣り好き / スポーツ観戦　MＩＯ、レイクスを応援中 / 自作PC　AMD　ASUS信者 /...</td>\n",
       "      <td>滋賀県守山市</td>\n",
       "      <td>3107</td>\n",
       "      <td>836</td>\n",
       "      <td>116111</td>\n",
       "      <td>2010-05-23 11:29:36.000000</td>\n",
       "      <td>1507145236635852801</td>\n",
       "      <td>2022-03-25 00:00:00</td>\n",
       "      <td>417</td>\n",
       "      <td>The Ukrainian flag will now officially fly ove...</td>\n",
       "      <td>[{'text': 'US', 'indices': [96, 99]}]</td>\n",
       "      <td>NaN</td>\n",
       "      <td>0</td>\n",
       "      <td>2022-03-25 00:06:50.932135</td>\n",
       "      <td>0.0</td>\n",
       "      <td>1.0</td>\n",
       "    </tr>\n",
       "  </tbody>\n",
       "</table>\n",
       "</div>"
      ],
      "text/plain": [
       "                userid        username  \\\n",
       "0  1288991526807248898        drunkiel   \n",
       "1  1235244517307166725   InformazioneA   \n",
       "2            237064482  thecornerdoteu   \n",
       "3            173212647  JoeMokolobetsi   \n",
       "4            147167024       SigaMassa   \n",
       "\n",
       "                                            acctdesc      location  following  \\\n",
       "0         ga hunter - rant acc \\nturn off my rt pls.       bigwin        1468   \n",
       "1  Aggiornamenti e podcast dedicati a questioni i...           NaN        102   \n",
       "2  #Spain and #EU economies in a global context. ...        Global       1723   \n",
       "3  Jesus Christ is the only answer | Romans 10:9-...  Afrika Borwa        190   \n",
       "4  釣り好き / スポーツ観戦　MＩＯ、レイクスを応援中 / 自作PC　AMD　ASUS信者 /...        滋賀県守山市       3107   \n",
       "\n",
       "   followers  totaltweets               usercreatedts              tweetid  \\\n",
       "0        195         4684  2020-07-31 00:15:13.000000  1507145236014792712   \n",
       "1        919         9370  2020-03-04 16:43:53.000000  1507145236031709186   \n",
       "2       1761        51132  2011-01-12 00:36:40.000000  1507145236241285126   \n",
       "3        172         3815  2010-07-31 19:09:22.000000  1507145236455251973   \n",
       "4        836       116111  2010-05-23 11:29:36.000000  1507145236635852801   \n",
       "\n",
       "        tweetcreatedts  retweetcount  \\\n",
       "0  2022-03-25 00:00:00           876   \n",
       "1  2022-03-25 00:00:00             0   \n",
       "2  2022-03-25 00:00:00             0   \n",
       "3  2022-03-25 00:00:00             0   \n",
       "4  2022-03-25 00:00:00           417   \n",
       "\n",
       "                                                text  \\\n",
       "0  WATCHMAN GANG is still early and fresh, join o...   \n",
       "1  #UkraineWar \\n#Russia #Ukraine war report #24m...   \n",
       "2  In the short term, the only way for #Europe to...   \n",
       "3  @RevMeshoe @AfricanApostles @RhemaSA @PastorXo...   \n",
       "4  The Ukrainian flag will now officially fly ove...   \n",
       "\n",
       "                                            hashtags coordinates  \\\n",
       "0                                                 []         NaN   \n",
       "1  [{'text': 'UkraineWar', 'indices': [0, 11]}, {...         NaN   \n",
       "2  [{'text': 'Europe', 'indices': [36, 43]}, {'te...         NaN   \n",
       "3  [{'text': 'UkraineWar', 'indices': [187, 198]}...         NaN   \n",
       "4              [{'text': 'US', 'indices': [96, 99]}]         NaN   \n",
       "\n",
       "   favorite_count                 extractedts  bot  no_bot  \n",
       "0               0  2022-03-25 00:06:50.993554  0.0     1.0  \n",
       "1               0  2022-03-25 00:06:50.977960  0.0     1.0  \n",
       "2               0  2022-03-25 00:06:50.955455  0.0     1.0  \n",
       "3               0  2022-03-25 00:02:16.109375  0.0     1.0  \n",
       "4               0  2022-03-25 00:06:50.932135  0.0     1.0  "
      ]
     },
     "execution_count": 5,
     "metadata": {},
     "output_type": "execute_result"
    }
   ],
   "source": [
    "df = pd.DataFrame()\n",
    "\n",
    "for filename in os.listdir(path):\n",
    "    if filename[-4:] == \".csv\":\n",
    "        print(filename)\n",
    "        temp = pd.read_csv(path + filename, lineterminator = '\\n')\n",
    "        df = pd.concat([ df, temp ])\n",
    "\n",
    "print(df.shape)\n",
    "df.head()"
   ]
  },
  {
   "cell_type": "markdown",
   "id": "74997463",
   "metadata": {},
   "source": [
    "## Distribution of bot prediction labels for accounts"
   ]
  },
  {
   "cell_type": "code",
   "execution_count": 6,
   "id": "9401be02",
   "metadata": {},
   "outputs": [
    {
     "name": "stdout",
     "output_type": "stream",
     "text": [
      "count    94807.000000\n",
      "mean         0.023785\n",
      "std          0.131947\n",
      "min          0.000000\n",
      "25%          0.000000\n",
      "50%          0.000000\n",
      "75%          0.000000\n",
      "max          0.994069\n",
      "Name: bot, dtype: float64\n"
     ]
    },
    {
     "data": {
      "image/png": "[encoded data removed]",
      "text/plain": [
       "<Figure size 720x360 with 1 Axes>"
      ]
     },
     "metadata": {
      "needs_background": "light"
     },
     "output_type": "display_data"
    }
   ],
   "source": [
    "explore(df.drop_duplicates('userid'), 'bot')"
   ]
  },
  {
   "cell_type": "markdown",
   "id": "f406ee6b",
   "metadata": {},
   "source": [
    "Let's check out the bot accounts "
   ]
  },
  {
   "cell_type": "code",
   "execution_count": 7,
   "id": "c6afe837",
   "metadata": {},
   "outputs": [
    {
     "name": "stdout",
     "output_type": "stream",
     "text": [
      "(1540, 18)\n",
      "(786, 18)\n"
     ]
    },
    {
     "data": {
      "text/html": [
       "<div>\n",
       "<style scoped>\n",
       "    .dataframe tbody tr th:only-of-type {\n",
       "        vertical-align: middle;\n",
       "    }\n",
       "\n",
       "    .dataframe tbody tr th {\n",
       "        vertical-align: top;\n",
       "    }\n",
       "\n",
       "    .dataframe thead th {\n",
       "        text-align: right;\n",
       "    }\n",
       "</style>\n",
       "<table border=\"1\" class=\"dataframe\">\n",
       "  <thead>\n",
       "    <tr style=\"text-align: right;\">\n",
       "      <th></th>\n",
       "      <th>userid</th>\n",
       "      <th>username</th>\n",
       "      <th>acctdesc</th>\n",
       "      <th>location</th>\n",
       "      <th>following</th>\n",
       "      <th>followers</th>\n",
       "      <th>totaltweets</th>\n",
       "      <th>usercreatedts</th>\n",
       "      <th>tweetid</th>\n",
       "      <th>tweetcreatedts</th>\n",
       "      <th>retweetcount</th>\n",
       "      <th>text</th>\n",
       "      <th>hashtags</th>\n",
       "      <th>coordinates</th>\n",
       "      <th>favorite_count</th>\n",
       "      <th>extractedts</th>\n",
       "      <th>bot</th>\n",
       "      <th>no_bot</th>\n",
       "    </tr>\n",
       "  </thead>\n",
       "  <tbody>\n",
       "    <tr>\n",
       "      <th>1062</th>\n",
       "      <td>1500544894237958146</td>\n",
       "      <td>FatDan26062629</td>\n",
       "      <td>Putin’s a tiny dicked, bitch</td>\n",
       "      <td>NaN</td>\n",
       "      <td>7</td>\n",
       "      <td>0</td>\n",
       "      <td>209</td>\n",
       "      <td>2022-03-06 18:52:59.000000</td>\n",
       "      <td>1507147950916472835</td>\n",
       "      <td>2022-03-25 00:10:47</td>\n",
       "      <td>0</td>\n",
       "      <td>@RusEmbUSA @washingtonpost @mfa_russia @missio...</td>\n",
       "      <td>[{'text': 'SlavaUkraini', 'indices': [355, 368...</td>\n",
       "      <td>NaN</td>\n",
       "      <td>0</td>\n",
       "      <td>2022-03-25 00:21:36.860237</td>\n",
       "      <td>0.909067</td>\n",
       "      <td>0.090933</td>\n",
       "    </tr>\n",
       "    <tr>\n",
       "      <th>1620</th>\n",
       "      <td>1973509819</td>\n",
       "      <td>MajorTechJunkie</td>\n",
       "      <td>NaN</td>\n",
       "      <td>Mars</td>\n",
       "      <td>26</td>\n",
       "      <td>0</td>\n",
       "      <td>56</td>\n",
       "      <td>2013-10-20 01:55:02.000000</td>\n",
       "      <td>1507149384298938372</td>\n",
       "      <td>2022-03-25 00:16:29</td>\n",
       "      <td>0</td>\n",
       "      <td>@olgatokariuk @NATO @SpeakerPelosi @LeaderMcCo...</td>\n",
       "      <td>[{'text': 'StopPutinNOW', 'indices': [244, 257...</td>\n",
       "      <td>NaN</td>\n",
       "      <td>0</td>\n",
       "      <td>2022-03-25 00:31:08.969082</td>\n",
       "      <td>0.946332</td>\n",
       "      <td>0.053668</td>\n",
       "    </tr>\n",
       "    <tr>\n",
       "      <th>2148</th>\n",
       "      <td>1493627836246155266</td>\n",
       "      <td>RolandAranjo1</td>\n",
       "      <td>I lover of life, liberty and justice for all.</td>\n",
       "      <td>Denver, CO</td>\n",
       "      <td>5</td>\n",
       "      <td>0</td>\n",
       "      <td>38</td>\n",
       "      <td>2022-02-15 16:47:08.000000</td>\n",
       "      <td>1507151248553754625</td>\n",
       "      <td>2022-03-25 00:23:53</td>\n",
       "      <td>0</td>\n",
       "      <td>Fascist #Putin must be stopped immediately bef...</td>\n",
       "      <td>[{'text': 'Putin', 'indices': [8, 14]}, {'text...</td>\n",
       "      <td>NaN</td>\n",
       "      <td>0</td>\n",
       "      <td>2022-03-25 00:30:57.793657</td>\n",
       "      <td>0.906977</td>\n",
       "      <td>0.093023</td>\n",
       "    </tr>\n",
       "    <tr>\n",
       "      <th>2207</th>\n",
       "      <td>1371658361884737538</td>\n",
       "      <td>Aquagemstarmoon</td>\n",
       "      <td>NaN</td>\n",
       "      <td>NaN</td>\n",
       "      <td>1</td>\n",
       "      <td>0</td>\n",
       "      <td>4</td>\n",
       "      <td>2021-03-16 03:03:42.000000</td>\n",
       "      <td>1507151458579501066</td>\n",
       "      <td>2022-03-25 00:24:43</td>\n",
       "      <td>0</td>\n",
       "      <td>Just thinking, will using nuclear warhead rend...</td>\n",
       "      <td>[{'text': 'UkraineWar', 'indices': [249, 260]}...</td>\n",
       "      <td>NaN</td>\n",
       "      <td>0</td>\n",
       "      <td>2022-03-25 00:32:21.122836</td>\n",
       "      <td>0.936095</td>\n",
       "      <td>0.063905</td>\n",
       "    </tr>\n",
       "    <tr>\n",
       "      <th>2482</th>\n",
       "      <td>1507081676056412167</td>\n",
       "      <td>ShowMediaNews1</td>\n",
       "      <td>NaN</td>\n",
       "      <td>NaN</td>\n",
       "      <td>2</td>\n",
       "      <td>0</td>\n",
       "      <td>5</td>\n",
       "      <td>2022-03-24 19:47:41.000000</td>\n",
       "      <td>1507152384149139459</td>\n",
       "      <td>2022-03-25 00:28:24</td>\n",
       "      <td>0</td>\n",
       "      <td>#warukraine #Refugees #Poland #Polonia #guerra...</td>\n",
       "      <td>[{'text': 'warukraine', 'indices': [0, 11]}, {...</td>\n",
       "      <td>NaN</td>\n",
       "      <td>0</td>\n",
       "      <td>2022-03-25 00:36:50.730312</td>\n",
       "      <td>0.957080</td>\n",
       "      <td>0.042920</td>\n",
       "    </tr>\n",
       "  </tbody>\n",
       "</table>\n",
       "</div>"
      ],
      "text/plain": [
       "                   userid         username  \\\n",
       "1062  1500544894237958146   FatDan26062629   \n",
       "1620           1973509819  MajorTechJunkie   \n",
       "2148  1493627836246155266    RolandAranjo1   \n",
       "2207  1371658361884737538  Aquagemstarmoon   \n",
       "2482  1507081676056412167   ShowMediaNews1   \n",
       "\n",
       "                                           acctdesc    location  following  \\\n",
       "1062                   Putin’s a tiny dicked, bitch         NaN          7   \n",
       "1620                                            NaN        Mars         26   \n",
       "2148  I lover of life, liberty and justice for all.  Denver, CO          5   \n",
       "2207                                            NaN         NaN          1   \n",
       "2482                                            NaN         NaN          2   \n",
       "\n",
       "      followers  totaltweets               usercreatedts              tweetid  \\\n",
       "1062          0          209  2022-03-06 18:52:59.000000  1507147950916472835   \n",
       "1620          0           56  2013-10-20 01:55:02.000000  1507149384298938372   \n",
       "2148          0           38  2022-02-15 16:47:08.000000  1507151248553754625   \n",
       "2207          0            4  2021-03-16 03:03:42.000000  1507151458579501066   \n",
       "2482          0            5  2022-03-24 19:47:41.000000  1507152384149139459   \n",
       "\n",
       "           tweetcreatedts  retweetcount  \\\n",
       "1062  2022-03-25 00:10:47             0   \n",
       "1620  2022-03-25 00:16:29             0   \n",
       "2148  2022-03-25 00:23:53             0   \n",
       "2207  2022-03-25 00:24:43             0   \n",
       "2482  2022-03-25 00:28:24             0   \n",
       "\n",
       "                                                   text  \\\n",
       "1062  @RusEmbUSA @washingtonpost @mfa_russia @missio...   \n",
       "1620  @olgatokariuk @NATO @SpeakerPelosi @LeaderMcCo...   \n",
       "2148  Fascist #Putin must be stopped immediately bef...   \n",
       "2207  Just thinking, will using nuclear warhead rend...   \n",
       "2482  #warukraine #Refugees #Poland #Polonia #guerra...   \n",
       "\n",
       "                                               hashtags coordinates  \\\n",
       "1062  [{'text': 'SlavaUkraini', 'indices': [355, 368...         NaN   \n",
       "1620  [{'text': 'StopPutinNOW', 'indices': [244, 257...         NaN   \n",
       "2148  [{'text': 'Putin', 'indices': [8, 14]}, {'text...         NaN   \n",
       "2207  [{'text': 'UkraineWar', 'indices': [249, 260]}...         NaN   \n",
       "2482  [{'text': 'warukraine', 'indices': [0, 11]}, {...         NaN   \n",
       "\n",
       "      favorite_count                 extractedts       bot    no_bot  \n",
       "1062               0  2022-03-25 00:21:36.860237  0.909067  0.090933  \n",
       "1620               0  2022-03-25 00:31:08.969082  0.946332  0.053668  \n",
       "2148               0  2022-03-25 00:30:57.793657  0.906977  0.093023  \n",
       "2207               0  2022-03-25 00:32:21.122836  0.936095  0.063905  \n",
       "2482               0  2022-03-25 00:36:50.730312  0.957080  0.042920  "
      ]
     },
     "execution_count": 7,
     "metadata": {},
     "output_type": "execute_result"
    }
   ],
   "source": [
    "df_bottweets = df[df['bot'] > bot_prob]\n",
    "print(df_bottweets.shape)\n",
    "df_botaccounts = df_bottweets.drop_duplicates('userid')\n",
    "print(df_botaccounts.shape)\n",
    "df_botaccounts.head()"
   ]
  },
  {
   "cell_type": "markdown",
   "id": "40755f8d",
   "metadata": {},
   "source": [
    "### Basic plots for bot accounts"
   ]
  },
  {
   "cell_type": "markdown",
   "id": "455b37d5",
   "metadata": {},
   "source": [
    "Followers/following: "
   ]
  },
  {
   "cell_type": "code",
   "execution_count": 8,
   "id": "7da9ed9d",
   "metadata": {},
   "outputs": [
    {
     "name": "stdout",
     "output_type": "stream",
     "text": [
      "count      1.0\n",
      "mean     786.0\n",
      "std        NaN\n",
      "min      786.0\n",
      "25%      786.0\n",
      "50%      786.0\n",
      "75%      786.0\n",
      "max      786.0\n",
      "Name: followers, dtype: float64\n"
     ]
    },
    {
     "data": {
      "image/png": "[encoded data removed]",
      "text/plain": [
       "<Figure size 720x360 with 1 Axes>"
      ]
     },
     "metadata": {
      "needs_background": "light"
     },
     "output_type": "display_data"
    }
   ],
   "source": [
    "explore(df_botaccounts, 'followers', continuous = False)"
   ]
  },
  {
   "cell_type": "code",
   "execution_count": 9,
   "id": "fc4a1d40",
   "metadata": {},
   "outputs": [
    {
     "name": "stdout",
     "output_type": "stream",
     "text": [
      "count     94.000000\n",
      "mean       8.361702\n",
      "std       17.802894\n",
      "min        1.000000\n",
      "25%        1.000000\n",
      "50%        3.000000\n",
      "75%        6.750000\n",
      "max      129.000000\n",
      "Name: following, dtype: float64\n"
     ]
    },
    {
     "data": {
      "image/png": "[encoded data removed]",
      "text/plain": [
       "<Figure size 720x360 with 1 Axes>"
      ]
     },
     "metadata": {
      "needs_background": "light"
     },
     "output_type": "display_data"
    }
   ],
   "source": [
    "explore(df_botaccounts, 'following', continuous = False)"
   ]
  },
  {
   "cell_type": "markdown",
   "id": "2a3c1e22",
   "metadata": {},
   "source": [
    "Tweets per bot accounts"
   ]
  },
  {
   "cell_type": "code",
   "execution_count": 10,
   "id": "89396767",
   "metadata": {
    "scrolled": true
   },
   "outputs": [
    {
     "data": {
      "image/png": "[encoded data removed]",
      "text/plain": [
       "<Figure size 720x360 with 1 Axes>"
      ]
     },
     "metadata": {
      "needs_background": "light"
     },
     "output_type": "display_data"
    }
   ],
   "source": [
    "df_bottweets.groupby(['userid'])['tweetid'].count().plot(x = 'number of tweets', kind = 'hist', logy = True)\n",
    "plt.show()"
   ]
  },
  {
   "cell_type": "markdown",
   "id": "64ba893d",
   "metadata": {},
   "source": [
    "Compare for all accounts"
   ]
  },
  {
   "cell_type": "code",
   "execution_count": 11,
   "id": "cfdd3244",
   "metadata": {},
   "outputs": [
    {
     "data": {
      "text/plain": [
       "<AxesSubplot:ylabel='Frequency'>"
      ]
     },
     "execution_count": 11,
     "metadata": {},
     "output_type": "execute_result"
    },
    {
     "data": {
      "image/png": "[encoded data removed]",
      "text/plain": [
       "<Figure size 720x360 with 1 Axes>"
      ]
     },
     "metadata": {
      "needs_background": "light"
     },
     "output_type": "display_data"
    }
   ],
   "source": [
    "df.groupby(['userid'])['tweetid'].count().plot(x = 'number of tweets', kind = 'hist', logy = True)"
   ]
  },
  {
   "cell_type": "markdown",
   "id": "be613761",
   "metadata": {},
   "source": [
    "Drop tweets with same text"
   ]
  },
  {
   "cell_type": "code",
   "execution_count": 12,
   "id": "3be9fa4d",
   "metadata": {
    "scrolled": true
   },
   "outputs": [
    {
     "data": {
      "text/plain": [
       "userid\n",
       "1502987879521431554    147\n",
       "1509194192785879042     77\n",
       "1504949027493883907     20\n",
       "1441140653019123715     15\n",
       "1501177210077601793     15\n",
       "                      ... \n",
       "1491726247109570562      1\n",
       "1491892174828494856      1\n",
       "1492161731166150659      1\n",
       "1492291115541741569      1\n",
       "1509625146696474637      1\n",
       "Name: text, Length: 786, dtype: int64"
      ]
     },
     "execution_count": 12,
     "metadata": {},
     "output_type": "execute_result"
    }
   ],
   "source": [
    "df_bottweets.groupby(['userid'])['text'].count().sort_values(ascending = False)"
   ]
  },
  {
   "cell_type": "code",
   "execution_count": 13,
   "id": "d67f1afe",
   "metadata": {},
   "outputs": [
    {
     "name": "stdout",
     "output_type": "stream",
     "text": [
      "(3, 18)\n"
     ]
    },
    {
     "data": {
      "text/html": [
       "<div>\n",
       "<style scoped>\n",
       "    .dataframe tbody tr th:only-of-type {\n",
       "        vertical-align: middle;\n",
       "    }\n",
       "\n",
       "    .dataframe tbody tr th {\n",
       "        vertical-align: top;\n",
       "    }\n",
       "\n",
       "    .dataframe thead th {\n",
       "        text-align: right;\n",
       "    }\n",
       "</style>\n",
       "<table border=\"1\" class=\"dataframe\">\n",
       "  <thead>\n",
       "    <tr style=\"text-align: right;\">\n",
       "      <th></th>\n",
       "      <th>userid</th>\n",
       "      <th>username</th>\n",
       "      <th>acctdesc</th>\n",
       "      <th>location</th>\n",
       "      <th>following</th>\n",
       "      <th>followers</th>\n",
       "      <th>totaltweets</th>\n",
       "      <th>usercreatedts</th>\n",
       "      <th>tweetid</th>\n",
       "      <th>tweetcreatedts</th>\n",
       "      <th>retweetcount</th>\n",
       "      <th>text</th>\n",
       "      <th>hashtags</th>\n",
       "      <th>coordinates</th>\n",
       "      <th>favorite_count</th>\n",
       "      <th>extractedts</th>\n",
       "      <th>bot</th>\n",
       "      <th>no_bot</th>\n",
       "    </tr>\n",
       "  </thead>\n",
       "  <tbody>\n",
       "    <tr>\n",
       "      <th>62431</th>\n",
       "      <td>1387324144929419265</td>\n",
       "      <td>FreedKomet</td>\n",
       "      <td>NaN</td>\n",
       "      <td>NaN</td>\n",
       "      <td>30</td>\n",
       "      <td>0</td>\n",
       "      <td>7</td>\n",
       "      <td>2021-04-28 08:33:59.000000</td>\n",
       "      <td>1507440166570442760</td>\n",
       "      <td>2022-03-25 19:31:57</td>\n",
       "      <td>1</td>\n",
       "      <td>Cancel your booking with #TUI, book directly w...</td>\n",
       "      <td>[{'text': 'TUI', 'indices': [25, 29]}, {'text'...</td>\n",
       "      <td>NaN</td>\n",
       "      <td>1</td>\n",
       "      <td>2022-03-25 19:38:42.744774</td>\n",
       "      <td>0.907701</td>\n",
       "      <td>0.092299</td>\n",
       "    </tr>\n",
       "    <tr>\n",
       "      <th>62652</th>\n",
       "      <td>1387324144929419265</td>\n",
       "      <td>FreedKomet</td>\n",
       "      <td>NaN</td>\n",
       "      <td>NaN</td>\n",
       "      <td>30</td>\n",
       "      <td>0</td>\n",
       "      <td>8</td>\n",
       "      <td>2021-04-28 08:33:59.000000</td>\n",
       "      <td>1507441006735679499</td>\n",
       "      <td>2022-03-25 19:35:17</td>\n",
       "      <td>0</td>\n",
       "      <td>On the hands of #TUI and every single booking ...</td>\n",
       "      <td>[{'text': 'TUI', 'indices': [16, 20]}, {'text'...</td>\n",
       "      <td>NaN</td>\n",
       "      <td>0</td>\n",
       "      <td>2022-03-25 19:53:36.356039</td>\n",
       "      <td>0.934860</td>\n",
       "      <td>0.065140</td>\n",
       "    </tr>\n",
       "    <tr>\n",
       "      <th>64467</th>\n",
       "      <td>1387324144929419265</td>\n",
       "      <td>FreedKomet</td>\n",
       "      <td>NaN</td>\n",
       "      <td>NaN</td>\n",
       "      <td>30</td>\n",
       "      <td>0</td>\n",
       "      <td>9</td>\n",
       "      <td>2021-04-28 08:33:59.000000</td>\n",
       "      <td>1507449847036719112</td>\n",
       "      <td>2022-03-25 20:10:25</td>\n",
       "      <td>0</td>\n",
       "      <td>#ONEPIECE1044 - Peace for creative, also in #U...</td>\n",
       "      <td>[{'text': 'ONEPIECE1044', 'indices': [0, 13]},...</td>\n",
       "      <td>NaN</td>\n",
       "      <td>0</td>\n",
       "      <td>2022-03-25 20:23:43.071686</td>\n",
       "      <td>0.923023</td>\n",
       "      <td>0.076977</td>\n",
       "    </tr>\n",
       "  </tbody>\n",
       "</table>\n",
       "</div>"
      ],
      "text/plain": [
       "                    userid    username acctdesc location  following  \\\n",
       "62431  1387324144929419265  FreedKomet      NaN      NaN         30   \n",
       "62652  1387324144929419265  FreedKomet      NaN      NaN         30   \n",
       "64467  1387324144929419265  FreedKomet      NaN      NaN         30   \n",
       "\n",
       "       followers  totaltweets               usercreatedts  \\\n",
       "62431          0            7  2021-04-28 08:33:59.000000   \n",
       "62652          0            8  2021-04-28 08:33:59.000000   \n",
       "64467          0            9  2021-04-28 08:33:59.000000   \n",
       "\n",
       "                   tweetid       tweetcreatedts  retweetcount  \\\n",
       "62431  1507440166570442760  2022-03-25 19:31:57             1   \n",
       "62652  1507441006735679499  2022-03-25 19:35:17             0   \n",
       "64467  1507449847036719112  2022-03-25 20:10:25             0   \n",
       "\n",
       "                                                    text  \\\n",
       "62431  Cancel your booking with #TUI, book directly w...   \n",
       "62652  On the hands of #TUI and every single booking ...   \n",
       "64467  #ONEPIECE1044 - Peace for creative, also in #U...   \n",
       "\n",
       "                                                hashtags coordinates  \\\n",
       "62431  [{'text': 'TUI', 'indices': [25, 29]}, {'text'...         NaN   \n",
       "62652  [{'text': 'TUI', 'indices': [16, 20]}, {'text'...         NaN   \n",
       "64467  [{'text': 'ONEPIECE1044', 'indices': [0, 13]},...         NaN   \n",
       "\n",
       "       favorite_count                 extractedts       bot    no_bot  \n",
       "62431               1  2022-03-25 19:38:42.744774  0.907701  0.092299  \n",
       "62652               0  2022-03-25 19:53:36.356039  0.934860  0.065140  \n",
       "64467               0  2022-03-25 20:23:43.071686  0.923023  0.076977  "
      ]
     },
     "execution_count": 13,
     "metadata": {},
     "output_type": "execute_result"
    }
   ],
   "source": [
    "# Most active bot (it just spams the same tweet with minimal changes)\n",
    "df_most_active_bot = df_bottweets[df_bottweets['userid'] == 1387324144929419265]\n",
    "print(df_most_active_bot.shape)\n",
    "df_most_active_bot.head()"
   ]
  },
  {
   "cell_type": "markdown",
   "id": "2a031dd0",
   "metadata": {},
   "source": [
    "Plot creation dates of bot accounts"
   ]
  },
  {
   "cell_type": "code",
   "execution_count": 14,
   "id": "2a296ab7",
   "metadata": {
    "scrolled": false
   },
   "outputs": [
    {
     "name": "stdout",
     "output_type": "stream",
     "text": [
      "2009-06-07     1\n",
      "2009-06-24     1\n",
      "2009-06-29     1\n",
      "2009-09-19     1\n",
      "2009-10-21     1\n",
      "              ..\n",
      "2022-03-27    10\n",
      "2022-03-28    18\n",
      "2022-03-29    34\n",
      "2022-03-30    27\n",
      "2022-03-31    23\n",
      "Name: usercreatedts, Length: 283, dtype: int64\n"
     ]
    },
    {
     "data": {
      "image/png": "[encoded data removed]",
      "text/plain": [
       "<Figure size 720x360 with 1 Axes>"
      ]
     },
     "metadata": {
      "needs_background": "light"
     },
     "output_type": "display_data"
    }
   ],
   "source": [
    "plot_timestamps(df_botaccounts['usercreatedts'])"
   ]
  },
  {
   "cell_type": "code",
   "execution_count": 15,
   "id": "2a478f1a",
   "metadata": {
    "scrolled": false
   },
   "outputs": [
    {
     "name": "stdout",
     "output_type": "stream",
     "text": [
      "2006-07-16     34\n",
      "2006-07-20      2\n",
      "2006-07-21      1\n",
      "2006-08-29      1\n",
      "2006-10-24      1\n",
      "             ... \n",
      "2022-03-27    298\n",
      "2022-03-28    619\n",
      "2022-03-29    444\n",
      "2022-03-30    524\n",
      "2022-03-31    146\n",
      "Name: usercreatedts, Length: 5466, dtype: int64\n"
     ]
    },
    {
     "data": {
      "image/png": "[encoded data removed]",
      "text/plain": [
       "<Figure size 720x360 with 1 Axes>"
      ]
     },
     "metadata": {
      "needs_background": "light"
     },
     "output_type": "display_data"
    }
   ],
   "source": [
    "plot_timestamps(df['usercreatedts'])"
   ]
  },
  {
   "cell_type": "markdown",
   "id": "7507bc7b",
   "metadata": {},
   "source": [
    "## Locations of bot accounts"
   ]
  },
  {
   "cell_type": "code",
   "execution_count": 16,
   "id": "5c20c920",
   "metadata": {},
   "outputs": [
    {
     "data": {
      "text/plain": [
       "location\n",
       "Ukraine                           10\n",
       "Украина                            9\n",
       "United States                      6\n",
       "Україна                            6\n",
       "United Kingdom                     3\n",
       "                                  ..\n",
       "Fukuoka-shi Sawara-ku, Fukuoka     1\n",
       "Everywhere                         1\n",
       "Estonia                            1\n",
       "Essen, Germany                     1\n",
       "香港                                 1\n",
       "Name: userid, Length: 145, dtype: int64"
      ]
     },
     "execution_count": 16,
     "metadata": {},
     "output_type": "execute_result"
    }
   ],
   "source": [
    "df_botaccounts.groupby(['location'])['userid'].count().sort_values(ascending = False)"
   ]
  },
  {
   "cell_type": "code",
   "execution_count": 17,
   "id": "eb64244e",
   "metadata": {
    "scrolled": true
   },
   "outputs": [
    {
     "name": "stdout",
     "output_type": "stream",
     "text": [
      "[nan, 'Mars', 'Denver, CO', 'Serbia', 'New York', 'in your closet 😈🥶🥶🥶🥶😈😈', 'Montreal', '美国纽约', 'Simulation!', 'Ukraine', \"Utrecht M'n Stadje, Nederland\", 'Chennai, India', 'not UK', '#TelAviv', 'секрет', 'califronia,usa', 'CRYPTO WORLD', 'New Taipei City, Taiwan', 'Украина', 'Singapore ', 'Brussel, België', 'Nederland', 'sumy', 'Rajasthan ', 'Україна', 'California, USA', 'Los Angeles, CA', 'Sydney-NSW-Australia', 'Zhytomyr, Ukraine ', 'United States', 'Polska', 'Norway', 'Dubai UAE', 'Chernivtsi ', 'Suomi', 'India', 'United Kingdom', 'Japan', 'Worldwide', 'Anzio ', 'Hong Kong', 'Tokyo-to, Japan', 'Austin, TX', 'AZ, Baku 🇦🇿', 'Everywhere', '香港', 'Kyiv', 'USA', 'poland', 'US', '#UKR', 'Paris et Formentera', 'Lviv, Ukraine', 'Assyria', 'Indianapolis, IN/ Florida ', 'Australia', 'Los Angeles', 'Canada', 'UK 🇬🇧', 'Our team is from 7 to 70 years', 'Budapest, Magyarország', 'Lyon, France', 'Estonia', 'Deutschland', '日本', 'Anywhere and Everywhere 🖕', 'volatility', 'Atlantis', 'Albion', 'Tacoma, WA', 'Essen, Germany', '5 miles away', 'KARACHI', 'United States 🇺🇸 ', 'Bengaluru, India', 'delhi, india', 'Beijing', 'Усинск, Россия', 'My flat.', 'Denouement', 'Uk', '@ Fact Land ', 'United State', 'Karachi Pakistan ', 'San Francisco,USA', 'Castle Nochicsquietimea', 'global', 'morocco', 'kyiv, ukraine ', 'Tiananmen Square, 1989', 'Valencia', 'The Hootin Skies', 'Kharkiv. Ukraine', 'Chicago Ridge, IL', 'Sialkot, Punjab, Pakistan', 'Russia, the DADDYland', 'Baltimore, Maryland', 'Xanthi, Greece ', 'Head', 'Dubai', 'Dhaka, Bangladesh', 'North Carolina, USA', 'Northpole', 'The United States', 'Not in an Empire', 'Brooklyn, NY', 'Somewhere but not here... ', 'Zielona Góra', 'Taft California(Hell on Earth)', '3 jay ave Northborough,ma 0153', 'Kyiv, Ukraine', 'Sonnensystem ', 'UK & IRELAND', 'Texas', 'Key West, FL', 'City of London', 'دبي, الامارات العربية المتحدة', 'UK', 'Minding my MFKN business, USA!', 'Rovigo I^Châteauneuf-Grasse FR', 'Yes, just over there.', 'Ukraine, Kyiv', 'Germany', 'Sveitsi', 'san francisco', 'Oregon, USA', 'Kurdia', 'PALM SPRING CALIFORNIA^ARCORE^', 'EU', 'Ukrania', 'Miami, FL', 'GB UK', 'Junagad, India', 'The World Kingdom of God', 'Russia, OH', 'World', 'Fukuoka-shi Sawara-ku, Fukuoka', 'Atlanta, GA', 'Bangladesh', 'Bayern, Deutschland', 'MeatUs.org', 'Antarctica', 'Sweden', 'Bronx, NY', 'Russia', 'Jungle ']\n"
     ]
    }
   ],
   "source": [
    "# df_botaccounts['location'].value_counts().plot(x = 'location', kind = 'bar')\n",
    "# plt.rcParams['figure.figsize'] = [100, 10]\n",
    "# plt.show()\n",
    "print(df_botaccounts.drop_duplicates(['location'])['location'].tolist())"
   ]
  },
  {
   "cell_type": "code",
   "execution_count": 18,
   "id": "70e9b34d",
   "metadata": {},
   "outputs": [
    {
     "name": "stdout",
     "output_type": "stream",
     "text": [
      "(59, 18)\n",
      "(3, 18)\n",
      "(27, 18)\n"
     ]
    },
    {
     "data": {
      "text/plain": [
       "(59, 18)"
      ]
     },
     "execution_count": 18,
     "metadata": {},
     "output_type": "execute_result"
    }
   ],
   "source": [
    "# Extract bot accounts from Ukraine, Russia and USA - not complete!\n",
    "df_ukrainebots = pd.DataFrame()\n",
    "df_ukrainebots = concat_locations(\n",
    "    df_bottweets, \n",
    "    df_ukrainebots, \n",
    "    ['Kyiv', 'Ukraine', 'Kiev', 'Україна', 'Украина', 'Kharkiv. Ukraine', \n",
    "     'kyiv, ukraine ', 'Kyiv, Ukraine', 'Україна, Київ', 'Ukrania', 'Україна, Ірпінь']\n",
    ")\n",
    "\n",
    "df_russiabots = pd.DataFrame() # Actually seem to be Ukrainian accounts judging from the content\n",
    "df_russiabots = concat_locations(\n",
    "    df_bottweets, \n",
    "    df_russiabots, \n",
    "    ['Russia, the DADDYland', 'Russia']\n",
    ")\n",
    "\n",
    "df_usabots = pd.DataFrame()\n",
    "df_usabots = concat_locations(\n",
    "    df_bottweets,\n",
    "    df_usabots, \n",
    "    ['United states ', 'United States 🇺🇸 ','United States',\n",
    "     'United State', 'PALM SPRING CALIFORNIA^ARCORE^','Los Angeles, CA',\n",
    "     'North Carolina, USA', 'Oregon, USA', \n",
    "     'Texas, United States.', 'Texas, USA', 'Texas, Austin', \n",
    "     'Murica', 'Texas'])\n",
    "\n",
    "df_ukrainebots.shape"
   ]
  },
  {
   "cell_type": "markdown",
   "id": "0f0cfed0",
   "metadata": {},
   "source": [
    "## Download subsets for exploration of content"
   ]
  },
  {
   "cell_type": "code",
   "execution_count": 19,
   "id": "36486ee2",
   "metadata": {},
   "outputs": [],
   "source": [
    "# sorting for easier legibility\n",
    "df_bottweets = df_bottweets.sort_values('userid', ascending = False)\n",
    "df_botaccounts = df_botaccounts.sort_values('location', ascending = False)\n",
    "df_ukrainebots = df_ukrainebots.sort_values('userid', ascending = False)\n",
    "df_russiabots = df_russiabots.sort_values('userid', ascending = False)\n",
    "df_usabots = df_usabots.sort_values('userid', ascending = False)"
   ]
  },
  {
   "cell_type": "code",
   "execution_count": 20,
   "id": "74ea48c7",
   "metadata": {},
   "outputs": [],
   "source": [
    "df_botaccounts.to_csv(path + '/subsets/predictions262728_botaccounts.csv')\n",
    "df_bottweets.to_csv(path + '/subsets/predictions262728_bottweets.csv')\n",
    "df_ukrainebots.to_csv(path + '/subsets/predictions262728_botsukraine.csv')\n",
    "df_most_active_bot.to_csv(path + '/subsets/predictions262728_most_active_bot.csv')\n",
    "df_russiabots.to_csv(path + '/subsets/predictions262728_russiabots.csv')\n",
    "df_usabots.to_csv(path + '/subsets/predictions262728_usabots.csv')"
   ]
  }
 ],
 "metadata": {
  "kernelspec": {
   "display_name": "Python 3 (ipykernel)",
   "language": "python",
   "name": "python3"
  },
  "language_info": {
   "codemirror_mode": {
    "name": "ipython",
    "version": 3
   },
   "file_extension": ".py",
   "mimetype": "text/x-python",
   "name": "python",
   "nbconvert_exporter": "python",
   "pygments_lexer": "ipython3",
   "version": "3.10.2"
  }
 },
 "nbformat": 4,
 "nbformat_minor": 5
}
